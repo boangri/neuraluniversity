{
  "nbformat": 4,
  "nbformat_minor": 0,
  "metadata": {
    "colab": {
      "name": "HW17.ipynb",
      "provenance": [],
      "collapsed_sections": [],
      "toc_visible": true,
      "include_colab_link": true
    },
    "kernelspec": {
      "display_name": "Python 3",
      "name": "python3"
    },
    "accelerator": "GPU"
  },
  "cells": [
    {
      "cell_type": "markdown",
      "metadata": {
        "id": "view-in-github",
        "colab_type": "text"
      },
      "source": [
        "<a href=\"https://colab.research.google.com/github/boangri/neuraluniversity/blob/master/HW17.ipynb\" target=\"_parent\"><img src=\"https://colab.research.google.com/assets/colab-badge.svg\" alt=\"Open In Colab\"/></a>"
      ]
    },
    {
      "cell_type": "markdown",
      "metadata": {
        "id": "qUnhQ-C5jmtp"
      },
      "source": [
        "# Исходный ноутбук №17"
      ]
    },
    {
      "cell_type": "code",
      "metadata": {
        "id": "0_cb-YDAJoEb"
      },
      "source": [
        "# Статический вывод графики (графики отображаются в той ячейке, в которой используется plt.show())\n",
        "%matplotlib inline\n",
        "\n",
        "import pandas as pd # импортируем библиотеку обработки и анализа данных pandas\n",
        "import matplotlib.pyplot as plt # Импортируем модуль pyplot библиотеки matplotlib для построения графиков\n",
        "from tensorflow.keras import utils # Импортируем модуль utils библиотеки tensorflow.keras для получения OHE-представления\n",
        "import numpy as np # Импортируем библиотеку numpy\n",
        "from keras.preprocessing.text import Tokenizer, text_to_word_sequence,tokenizer_from_json \n",
        "\n",
        "from sklearn.preprocessing import StandardScaler, LabelEncoder # Импортируем библиотеку StandardScaler и LabelEncoder\n",
        "from sklearn.cluster import KMeans # Импортируем библиотуке KMeans для кластеризации\n",
        "from sklearn.metrics.cluster import homogeneity_score\n",
        "from sklearn.manifold import TSNE\n",
        "import time\n",
        "import os\n",
        "\n",
        "from tensorflow.keras.models import Sequential, Model # Полносвязная модель\n",
        "from tensorflow.keras.layers import Input, Dense, Conv2D, MaxPooling2D, Reshape, Conv2DTranspose, Dropout, SpatialDropout1D, BatchNormalization, Embedding, Flatten, Activation # Слои для сети\n",
        "from tensorflow.keras.preprocessing.sequence import pad_sequences # Метод для работы с последовательностями\n",
        "from tensorflow.keras.optimizers import Adam\n",
        "from tensorflow.keras.callbacks import ModelCheckpoint\n",
        "from tensorflow.keras.datasets import mnist"
      ],
      "execution_count": 43,
      "outputs": []
    },
    {
      "cell_type": "markdown",
      "metadata": {
        "id": "Uj9e4m4VWyMH"
      },
      "source": [
        "## \n",
        "Загружаем базу\n"
      ]
    },
    {
      "cell_type": "code",
      "metadata": {
        "colab": {
          "base_uri": "https://localhost:8080/"
        },
        "id": "AqSeyMUQS4jH",
        "outputId": "f22e3734-7abf-4869-ed7f-a6523012f5df"
      },
      "source": [
        "from google.colab import drive\n",
        "drive.mount('/content/drive')"
      ],
      "execution_count": 44,
      "outputs": [
        {
          "output_type": "stream",
          "text": [
            "Mounted at /content/drive\n"
          ],
          "name": "stdout"
        }
      ]
    },
    {
      "cell_type": "markdown",
      "metadata": {
        "id": "j6S4AUtZ91-T"
      },
      "source": [
        "## Кластеризация корзин интернет-магазина\n"
      ]
    },
    {
      "cell_type": "code",
      "metadata": {
        "id": "H6sPPuo9Xmt4"
      },
      "source": [
        "df = pd.read_csv('/content/drive/My Drive/Базы/online_carts.csv') # Читаем данные из загруженной базы"
      ],
      "execution_count": 45,
      "outputs": []
    },
    {
      "cell_type": "code",
      "metadata": {
        "colab": {
          "base_uri": "https://localhost:8080/",
          "height": 204
        },
        "id": "3s-j1V9f-U_c",
        "outputId": "19558c11-356b-41bc-b45a-be71eaa7ebb1"
      },
      "source": [
        "df.head()"
      ],
      "execution_count": 46,
      "outputs": [
        {
          "output_type": "execute_result",
          "data": {
            "text/html": [
              "<div>\n",
              "<style scoped>\n",
              "    .dataframe tbody tr th:only-of-type {\n",
              "        vertical-align: middle;\n",
              "    }\n",
              "\n",
              "    .dataframe tbody tr th {\n",
              "        vertical-align: top;\n",
              "    }\n",
              "\n",
              "    .dataframe thead th {\n",
              "        text-align: right;\n",
              "    }\n",
              "</style>\n",
              "<table border=\"1\" class=\"dataframe\">\n",
              "  <thead>\n",
              "    <tr style=\"text-align: right;\">\n",
              "      <th></th>\n",
              "      <th>Unnamed: 0</th>\n",
              "      <th>Валовая прибыль</th>\n",
              "      <th>Unnamed: 2</th>\n",
              "      <th>Unnamed: 3</th>\n",
              "      <th>Unnamed: 4</th>\n",
              "    </tr>\n",
              "  </thead>\n",
              "  <tbody>\n",
              "    <tr>\n",
              "      <th>0</th>\n",
              "      <td>NaN</td>\n",
              "      <td>Период: Февраль 2019 г. - Август 2019 г.</td>\n",
              "      <td>NaN</td>\n",
              "      <td>NaN</td>\n",
              "      <td>NaN</td>\n",
              "    </tr>\n",
              "    <tr>\n",
              "      <th>1</th>\n",
              "      <td>NaN</td>\n",
              "      <td>Показатели: Стоимость продажи (руб.)(С НДС)</td>\n",
              "      <td>Количество(Базовых ед.)</td>\n",
              "      <td>NaN</td>\n",
              "      <td>NaN</td>\n",
              "    </tr>\n",
              "    <tr>\n",
              "      <th>2</th>\n",
              "      <td>NaN</td>\n",
              "      <td>Группировки строк: ЗаказПокупателя.Дата оправк...</td>\n",
              "      <td>ЗаказПокупателя.ID заказа (Элементы)</td>\n",
              "      <td>Номенклатура.Наименование (Элементы)</td>\n",
              "      <td>NaN</td>\n",
              "    </tr>\n",
              "    <tr>\n",
              "      <th>3</th>\n",
              "      <td>NaN</td>\n",
              "      <td>Отборы:\\nПодразделение В списке (estel.m-cosme...</td>\n",
              "      <td>NaN</td>\n",
              "      <td>NaN</td>\n",
              "      <td>NaN</td>\n",
              "    </tr>\n",
              "    <tr>\n",
              "      <th>4</th>\n",
              "      <td>NaN</td>\n",
              "      <td>NaN</td>\n",
              "      <td>NaN</td>\n",
              "      <td>NaN</td>\n",
              "      <td>NaN</td>\n",
              "    </tr>\n",
              "  </tbody>\n",
              "</table>\n",
              "</div>"
            ],
            "text/plain": [
              "   Unnamed: 0  ... Unnamed: 4\n",
              "0         NaN  ...        NaN\n",
              "1         NaN  ...        NaN\n",
              "2         NaN  ...        NaN\n",
              "3         NaN  ...        NaN\n",
              "4         NaN  ...        NaN\n",
              "\n",
              "[5 rows x 5 columns]"
            ]
          },
          "metadata": {
            "tags": []
          },
          "execution_count": 46
        }
      ]
    },
    {
      "cell_type": "code",
      "metadata": {
        "colab": {
          "base_uri": "https://localhost:8080/"
        },
        "id": "vfdF7IPq-WLi",
        "outputId": "98f72036-b31e-4f6d-fd01-7b0512d7a32b"
      },
      "source": [
        "# Посмотрим на уникальные значения каждого из безымянных столбцов\n",
        "print(df['Unnamed: 0'].unique(),\n",
        "      df['Unnamed: 2'].unique(),\n",
        "      df['Unnamed: 3'].unique(),sep='\\n')"
      ],
      "execution_count": 47,
      "outputs": [
        {
          "output_type": "stream",
          "text": [
            "[nan]\n",
            "[nan ' Количество(Базовых ед.)' ' ЗаказПокупателя.ID заказа (Элементы)'\n",
            " ... '3472' '7616' '2731']\n",
            "[nan ' Номенклатура.Наименование (Элементы)' 'Количество' 'Базовых ед.'\n",
            " '9' '1' '4' '797' '162' '3' '2' '5' '7' '8' '6' '49' '10' '34' '11' '25'\n",
            " '20' '13' '17' '29' '1130' '148' '12' '40' '14' '50' '68' '51' '23' '22'\n",
            " '16' '1096' '105' '124' '139' '19' '15' '26' '30' '21' '504' '28' '575'\n",
            " '60' '61' '18' '80' '942' '44' '188' '24' '1375' '147' '137' '33' '597'\n",
            " '82' '37' '860' '47' '825' '27' '45' '229' '887' '113' '58' '104' '38'\n",
            " '1751' '134' '138' '1214' '341' '168' '81' '88' '1074' '150' '32' '52'\n",
            " '43' '1023' '64' '72' '31' '39' '1237' '254' '46' '289' '1938' '456'\n",
            " '132' '2689' '599' '1771' '181' '322' '77' '556' '90' '256' '42' '57'\n",
            " '35' '883' '118' '1078' '145' '2749' '36' '1360' '85' '893' '214' '692'\n",
            " '119' '1533' '239' '650' '93' '70' '1551' '158' '78' '102' '780' '291'\n",
            " '41' '1278' '140' '48' '161' '1127' '122' '94' '978' '98' '769' '92'\n",
            " '159' '720' '69' '56' '1648' '688' '752' '108' '174' '850' '172' '848'\n",
            " '117' '151' '1511' '665' '278' '84' '1216' '243' '1057' '295' '71' '652'\n",
            " '1462' '525' '1159' '787' '180' '73' '1376' '121' '54' '672' '758' '222'\n",
            " '103' '840' '87' '143' '880' '839' '120' '678' '106' '63' '716' '67'\n",
            " '1017' '96' '179' '1145' '131' '95' '564' '76' '528' '441' '540' '949'\n",
            " '128' '634' '1965' '673' '201' '127' '250' '1285' '125' '219' '66' '988'\n",
            " '65' '1250' '884' '100' '960' '55' '1315' '187' '111' '1077' '221' '1328'\n",
            " '598' '75' '59' '583' '107' '897' '79' '1144' '241' '608' '177' '706'\n",
            " '126' '938' '178' '62' '116' '817' '483' '141' '385' '683' '1051' '114'\n",
            " '501' '205' '1105' '413' '866' '1212' '189' '99' '592' '91' '1303' '601'\n",
            " '751' '173' '795' '987' '1167' '573' '1114' '530' '1070' '74' '1171' '89'\n",
            " '624' '559' '613' '356' '1085' '164' '101' '367' '855' '694' '233' '633'\n",
            " '97' '1091' '245' '518' '667' '53' '499' '756' '929' '728' '916' '1047'\n",
            " '236' '202' '546' '206' '918' '136' '377' '750' '807' '240' '661' '558'\n",
            " '170' '582' '1594' '130' '1026' '282' '561' '542' '135' '691' '906' '203'\n",
            " '734' '390' '754' '1122' '790' '1099' '186' '770' '980' '290']\n"
          ],
          "name": "stdout"
        }
      ]
    },
    {
      "cell_type": "code",
      "metadata": {
        "id": "DEdXFZr5-XWx"
      },
      "source": [
        "new = df.drop(['Unnamed: 0'], axis =1)                             # Этот столбец не несет никакой информации, так что выкинем его\n",
        "new.insert(0, column='Дата', value = [x for x in range(len(new))]) # Вставим новую колонку \"Дата\", чтобы из базы вытащить временные данные в отдельную колонку\n",
        "new = new.fillna('unknown')                                        # Все Nan заполним строкой \"unknown\", чтобы не выскакивало ошибок"
      ],
      "execution_count": 48,
      "outputs": []
    },
    {
      "cell_type": "code",
      "metadata": {
        "colab": {
          "base_uri": "https://localhost:8080/",
          "height": 419
        },
        "id": "cmNdzCap-YnZ",
        "outputId": "607c5097-77d7-4ff8-a2fe-f443211735d1"
      },
      "source": [
        "new[new['Валовая прибыль'].str.contains(\"MCOSM\")] # MCOSM - флаг начала корзины"
      ],
      "execution_count": 49,
      "outputs": [
        {
          "output_type": "execute_result",
          "data": {
            "text/html": [
              "<div>\n",
              "<style scoped>\n",
              "    .dataframe tbody tr th:only-of-type {\n",
              "        vertical-align: middle;\n",
              "    }\n",
              "\n",
              "    .dataframe tbody tr th {\n",
              "        vertical-align: top;\n",
              "    }\n",
              "\n",
              "    .dataframe thead th {\n",
              "        text-align: right;\n",
              "    }\n",
              "</style>\n",
              "<table border=\"1\" class=\"dataframe\">\n",
              "  <thead>\n",
              "    <tr style=\"text-align: right;\">\n",
              "      <th></th>\n",
              "      <th>Дата</th>\n",
              "      <th>Валовая прибыль</th>\n",
              "      <th>Unnamed: 2</th>\n",
              "      <th>Unnamed: 3</th>\n",
              "      <th>Unnamed: 4</th>\n",
              "    </tr>\n",
              "  </thead>\n",
              "  <tbody>\n",
              "    <tr>\n",
              "      <th>10</th>\n",
              "      <td>10</td>\n",
              "      <td>MCOSM13113</td>\n",
              "      <td>26236</td>\n",
              "      <td>9</td>\n",
              "      <td>unknown</td>\n",
              "    </tr>\n",
              "    <tr>\n",
              "      <th>22</th>\n",
              "      <td>22</td>\n",
              "      <td>MCOSM13113</td>\n",
              "      <td>1929</td>\n",
              "      <td>4</td>\n",
              "      <td>unknown</td>\n",
              "    </tr>\n",
              "    <tr>\n",
              "      <th>166</th>\n",
              "      <td>166</td>\n",
              "      <td>MCOSM4885</td>\n",
              "      <td>350</td>\n",
              "      <td>2</td>\n",
              "      <td>unknown</td>\n",
              "    </tr>\n",
              "    <tr>\n",
              "      <th>168</th>\n",
              "      <td>168</td>\n",
              "      <td>MCOSM4996</td>\n",
              "      <td>9436</td>\n",
              "      <td>4</td>\n",
              "      <td>unknown</td>\n",
              "    </tr>\n",
              "    <tr>\n",
              "      <th>172</th>\n",
              "      <td>172</td>\n",
              "      <td>MCOSM5963</td>\n",
              "      <td>8625</td>\n",
              "      <td>6</td>\n",
              "      <td>unknown</td>\n",
              "    </tr>\n",
              "    <tr>\n",
              "      <th>...</th>\n",
              "      <td>...</td>\n",
              "      <td>...</td>\n",
              "      <td>...</td>\n",
              "      <td>...</td>\n",
              "      <td>...</td>\n",
              "    </tr>\n",
              "    <tr>\n",
              "      <th>99589</th>\n",
              "      <td>99589</td>\n",
              "      <td>MCOSM33527</td>\n",
              "      <td>2714</td>\n",
              "      <td>6</td>\n",
              "      <td>unknown</td>\n",
              "    </tr>\n",
              "    <tr>\n",
              "      <th>99596</th>\n",
              "      <td>99596</td>\n",
              "      <td>MCOSM33529</td>\n",
              "      <td>3145</td>\n",
              "      <td>9</td>\n",
              "      <td>unknown</td>\n",
              "    </tr>\n",
              "    <tr>\n",
              "      <th>99603</th>\n",
              "      <td>99603</td>\n",
              "      <td>MCOSM33530</td>\n",
              "      <td>3030</td>\n",
              "      <td>12</td>\n",
              "      <td>unknown</td>\n",
              "    </tr>\n",
              "    <tr>\n",
              "      <th>99616</th>\n",
              "      <td>99616</td>\n",
              "      <td>MCOSM33537</td>\n",
              "      <td>2259</td>\n",
              "      <td>2</td>\n",
              "      <td>unknown</td>\n",
              "    </tr>\n",
              "    <tr>\n",
              "      <th>99626</th>\n",
              "      <td>99626</td>\n",
              "      <td>MCOSM32997</td>\n",
              "      <td>1691</td>\n",
              "      <td>5</td>\n",
              "      <td>unknown</td>\n",
              "    </tr>\n",
              "  </tbody>\n",
              "</table>\n",
              "<p>13567 rows × 5 columns</p>\n",
              "</div>"
            ],
            "text/plain": [
              "        Дата Валовая прибыль Unnamed: 2 Unnamed: 3 Unnamed: 4\n",
              "10        10      MCOSM13113      26236          9    unknown\n",
              "22        22      MCOSM13113       1929          4    unknown\n",
              "166      166       MCOSM4885        350          2    unknown\n",
              "168      168       MCOSM4996       9436          4    unknown\n",
              "172      172       MCOSM5963       8625          6    unknown\n",
              "...      ...             ...        ...        ...        ...\n",
              "99589  99589      MCOSM33527       2714          6    unknown\n",
              "99596  99596      MCOSM33529       3145          9    unknown\n",
              "99603  99603      MCOSM33530       3030         12    unknown\n",
              "99616  99616      MCOSM33537       2259          2    unknown\n",
              "99626  99626      MCOSM32997       1691          5    unknown\n",
              "\n",
              "[13567 rows x 5 columns]"
            ]
          },
          "metadata": {
            "tags": []
          },
          "execution_count": 49
        }
      ]
    },
    {
      "cell_type": "code",
      "metadata": {
        "colab": {
          "base_uri": "https://localhost:8080/"
        },
        "id": "GPoW8y9q-ZvR",
        "outputId": "e6011296-39d8-4ba6-d2aa-a7f6eab5c43e"
      },
      "source": [
        "date_list = list(new[new['Валовая прибыль'].str.contains(\"\\d\\d.\\d\\d.2019\")].index) # Здесь будут лежать все индексы строк, где есть информация в формате даты\n",
        "\n",
        "indx=0\n",
        "for i in range(len(new)):                       # Проходимся по каждой строке базы\n",
        "  if i in date_list:                            # Если индекс находится среди тех, где есть формат даты\n",
        "    indx = i                                    # Обновляем текущий индекс\n",
        "  new['Дата'][i] = new['Валовая прибыль'][indx] # Присваиваем текущий индекс всем последующим строкам, пока не наткнемся на новый индекс-дату\n"
      ],
      "execution_count": 50,
      "outputs": [
        {
          "output_type": "stream",
          "text": [
            "/usr/local/lib/python3.6/dist-packages/ipykernel_launcher.py:7: SettingWithCopyWarning: \n",
            "A value is trying to be set on a copy of a slice from a DataFrame\n",
            "\n",
            "See the caveats in the documentation: https://pandas.pydata.org/pandas-docs/stable/user_guide/indexing.html#returning-a-view-versus-a-copy\n",
            "  import sys\n",
            "/usr/local/lib/python3.6/dist-packages/pandas/core/indexing.py:670: SettingWithCopyWarning: \n",
            "A value is trying to be set on a copy of a slice from a DataFrame\n",
            "\n",
            "See the caveats in the documentation: https://pandas.pydata.org/pandas-docs/stable/user_guide/indexing.html#returning-a-view-versus-a-copy\n",
            "  iloc._setitem_with_indexer(indexer, value)\n"
          ],
          "name": "stderr"
        }
      ]
    },
    {
      "cell_type": "code",
      "metadata": {
        "colab": {
          "base_uri": "https://localhost:8080/",
          "height": 419
        },
        "id": "axwao8RE-a6q",
        "outputId": "1a3be6b6-19cf-4fe0-d5b5-cb1c3bd108fe"
      },
      "source": [
        "new"
      ],
      "execution_count": 51,
      "outputs": [
        {
          "output_type": "execute_result",
          "data": {
            "text/html": [
              "<div>\n",
              "<style scoped>\n",
              "    .dataframe tbody tr th:only-of-type {\n",
              "        vertical-align: middle;\n",
              "    }\n",
              "\n",
              "    .dataframe tbody tr th {\n",
              "        vertical-align: top;\n",
              "    }\n",
              "\n",
              "    .dataframe thead th {\n",
              "        text-align: right;\n",
              "    }\n",
              "</style>\n",
              "<table border=\"1\" class=\"dataframe\">\n",
              "  <thead>\n",
              "    <tr style=\"text-align: right;\">\n",
              "      <th></th>\n",
              "      <th>Дата</th>\n",
              "      <th>Валовая прибыль</th>\n",
              "      <th>Unnamed: 2</th>\n",
              "      <th>Unnamed: 3</th>\n",
              "      <th>Unnamed: 4</th>\n",
              "    </tr>\n",
              "  </thead>\n",
              "  <tbody>\n",
              "    <tr>\n",
              "      <th>0</th>\n",
              "      <td>Период: Февраль 2019 г. - Август 2019 г.</td>\n",
              "      <td>Период: Февраль 2019 г. - Август 2019 г.</td>\n",
              "      <td>unknown</td>\n",
              "      <td>unknown</td>\n",
              "      <td>unknown</td>\n",
              "    </tr>\n",
              "    <tr>\n",
              "      <th>1</th>\n",
              "      <td>Период: Февраль 2019 г. - Август 2019 г.</td>\n",
              "      <td>Показатели: Стоимость продажи (руб.)(С НДС)</td>\n",
              "      <td>Количество(Базовых ед.)</td>\n",
              "      <td>unknown</td>\n",
              "      <td>unknown</td>\n",
              "    </tr>\n",
              "    <tr>\n",
              "      <th>2</th>\n",
              "      <td>Период: Февраль 2019 г. - Август 2019 г.</td>\n",
              "      <td>Группировки строк: ЗаказПокупателя.Дата оправк...</td>\n",
              "      <td>ЗаказПокупателя.ID заказа (Элементы)</td>\n",
              "      <td>Номенклатура.Наименование (Элементы)</td>\n",
              "      <td>unknown</td>\n",
              "    </tr>\n",
              "    <tr>\n",
              "      <th>3</th>\n",
              "      <td>Период: Февраль 2019 г. - Август 2019 г.</td>\n",
              "      <td>Отборы:\\nПодразделение В списке (estel.m-cosme...</td>\n",
              "      <td>unknown</td>\n",
              "      <td>unknown</td>\n",
              "      <td>unknown</td>\n",
              "    </tr>\n",
              "    <tr>\n",
              "      <th>4</th>\n",
              "      <td>Период: Февраль 2019 г. - Август 2019 г.</td>\n",
              "      <td>unknown</td>\n",
              "      <td>unknown</td>\n",
              "      <td>unknown</td>\n",
              "      <td>unknown</td>\n",
              "    </tr>\n",
              "    <tr>\n",
              "      <th>...</th>\n",
              "      <td>...</td>\n",
              "      <td>...</td>\n",
              "      <td>...</td>\n",
              "      <td>...</td>\n",
              "      <td>...</td>\n",
              "    </tr>\n",
              "    <tr>\n",
              "      <th>99627</th>\n",
              "      <td>02.09.2019 0:00:00</td>\n",
              "      <td>Kapous Блеск-шампунь Brilliants gloss 250 мл</td>\n",
              "      <td>347</td>\n",
              "      <td>1</td>\n",
              "      <td>unknown</td>\n",
              "    </tr>\n",
              "    <tr>\n",
              "      <th>99628</th>\n",
              "      <td>02.09.2019 0:00:00</td>\n",
              "      <td>Крем-бальзам-архитектор волос  для восстановле...</td>\n",
              "      <td>345</td>\n",
              "      <td>1</td>\n",
              "      <td>unknown</td>\n",
              "    </tr>\n",
              "    <tr>\n",
              "      <th>99629</th>\n",
              "      <td>02.09.2019 0:00:00</td>\n",
              "      <td>Услуга доставки DPD до двери</td>\n",
              "      <td>350</td>\n",
              "      <td>1</td>\n",
              "      <td>unknown</td>\n",
              "    </tr>\n",
              "    <tr>\n",
              "      <th>99630</th>\n",
              "      <td>02.09.2019 0:00:00</td>\n",
              "      <td>Шампунь разглаживающий с   глиоксиловой кислот...</td>\n",
              "      <td>304</td>\n",
              "      <td>1</td>\n",
              "      <td>unknown</td>\n",
              "    </tr>\n",
              "    <tr>\n",
              "      <th>99631</th>\n",
              "      <td>02.09.2019 0:00:00</td>\n",
              "      <td>Шампунь-архитектор волос для восстановления + ...</td>\n",
              "      <td>345</td>\n",
              "      <td>1</td>\n",
              "      <td>unknown</td>\n",
              "    </tr>\n",
              "  </tbody>\n",
              "</table>\n",
              "<p>99632 rows × 5 columns</p>\n",
              "</div>"
            ],
            "text/plain": [
              "                                           Дата  ... Unnamed: 4\n",
              "0      Период: Февраль 2019 г. - Август 2019 г.  ...    unknown\n",
              "1      Период: Февраль 2019 г. - Август 2019 г.  ...    unknown\n",
              "2      Период: Февраль 2019 г. - Август 2019 г.  ...    unknown\n",
              "3      Период: Февраль 2019 г. - Август 2019 г.  ...    unknown\n",
              "4      Период: Февраль 2019 г. - Август 2019 г.  ...    unknown\n",
              "...                                         ...  ...        ...\n",
              "99627                        02.09.2019 0:00:00  ...    unknown\n",
              "99628                        02.09.2019 0:00:00  ...    unknown\n",
              "99629                        02.09.2019 0:00:00  ...    unknown\n",
              "99630                        02.09.2019 0:00:00  ...    unknown\n",
              "99631                        02.09.2019 0:00:00  ...    unknown\n",
              "\n",
              "[99632 rows x 5 columns]"
            ]
          },
          "metadata": {
            "tags": []
          },
          "execution_count": 51
        }
      ]
    },
    {
      "cell_type": "code",
      "metadata": {
        "id": "Iiy0nl9e-cF8"
      },
      "source": [
        "new = new.drop(new[new['Дата'].str.contains('Период')].index,axis = 0)           # Выкинем превьюшные строки\n",
        "new = new.drop(new[new['Валовая прибыль'].str.contains('unknown')].index,axis=0) # Выкинем пустые строки между корзинами\n",
        "new = new.drop(new[new['Валовая прибыль']==new['Дата']].index)                   # Выкинем строки-даты, которые находятся в столбце корзин\n",
        "new.reset_index(inplace=True)                                                    # Обновим индекс\n",
        "new = new.drop('index',axis=1)                                                   # Выкинем ненужную, образовавшуюся после предыдущей операции колонку"
      ],
      "execution_count": 52,
      "outputs": []
    },
    {
      "cell_type": "code",
      "metadata": {
        "id": "Jh60klFI-dLi"
      },
      "source": [
        "cart_list = list(new[new['Валовая прибыль'].str.contains(\"MCOSM\")].index)        # Здесь будут лежать все индексы строк, где строка содержит флаг начала корзины\n",
        "cafre_list = list(new[new['Валовая прибыль'].str.contains(\"CAFRE\")].index)       # Здесь будут лежать все индексы строк, где строка содержит флаг CAFRE "
      ],
      "execution_count": 53,
      "outputs": []
    },
    {
      "cell_type": "markdown",
      "metadata": {
        "id": "16YBIyjH-f-r"
      },
      "source": [
        "Взглянем на распаршенную базу"
      ]
    },
    {
      "cell_type": "code",
      "metadata": {
        "colab": {
          "base_uri": "https://localhost:8080/",
          "height": 669
        },
        "id": "zy1xxcFG-gMs",
        "outputId": "258cd155-5a12-42a0-9ca0-22ff67893f06"
      },
      "source": [
        "new.head(20)"
      ],
      "execution_count": 54,
      "outputs": [
        {
          "output_type": "execute_result",
          "data": {
            "text/html": [
              "<div>\n",
              "<style scoped>\n",
              "    .dataframe tbody tr th:only-of-type {\n",
              "        vertical-align: middle;\n",
              "    }\n",
              "\n",
              "    .dataframe tbody tr th {\n",
              "        vertical-align: top;\n",
              "    }\n",
              "\n",
              "    .dataframe thead th {\n",
              "        text-align: right;\n",
              "    }\n",
              "</style>\n",
              "<table border=\"1\" class=\"dataframe\">\n",
              "  <thead>\n",
              "    <tr style=\"text-align: right;\">\n",
              "      <th></th>\n",
              "      <th>Дата</th>\n",
              "      <th>Валовая прибыль</th>\n",
              "      <th>Unnamed: 2</th>\n",
              "      <th>Unnamed: 3</th>\n",
              "      <th>Unnamed: 4</th>\n",
              "    </tr>\n",
              "  </thead>\n",
              "  <tbody>\n",
              "    <tr>\n",
              "      <th>0</th>\n",
              "      <td>01.01.2019 0:00:00</td>\n",
              "      <td>MCOSM13113</td>\n",
              "      <td>26236</td>\n",
              "      <td>9</td>\n",
              "      <td>unknown</td>\n",
              "    </tr>\n",
              "    <tr>\n",
              "      <th>1</th>\n",
              "      <td>01.01.2019 0:00:00</td>\n",
              "      <td>CONTURA (HS61) машинка для стрижки волос</td>\n",
              "      <td>9059</td>\n",
              "      <td>1</td>\n",
              "      <td>unknown</td>\n",
              "    </tr>\n",
              "    <tr>\n",
              "      <th>2</th>\n",
              "      <td>01.01.2019 0:00:00</td>\n",
              "      <td>Holika Holika Универсальный гель 99% алоэ вера...</td>\n",
              "      <td>539</td>\n",
              "      <td>1</td>\n",
              "      <td>unknown</td>\n",
              "    </tr>\n",
              "    <tr>\n",
              "      <th>3</th>\n",
              "      <td>01.01.2019 0:00:00</td>\n",
              "      <td>Kapous Бальзам-уход для придания объема Volume...</td>\n",
              "      <td>181</td>\n",
              "      <td>1</td>\n",
              "      <td>unknown</td>\n",
              "    </tr>\n",
              "    <tr>\n",
              "      <th>4</th>\n",
              "      <td>01.01.2019 0:00:00</td>\n",
              "      <td>Kapous Шампунь для придания объема Volume up 3...</td>\n",
              "      <td>181</td>\n",
              "      <td>1</td>\n",
              "      <td>unknown</td>\n",
              "    </tr>\n",
              "    <tr>\n",
              "      <th>5</th>\n",
              "      <td>01.01.2019 0:00:00</td>\n",
              "      <td>XPERT (HS71) машинка для стрижки волос</td>\n",
              "      <td>12989</td>\n",
              "      <td>1</td>\n",
              "      <td>unknown</td>\n",
              "    </tr>\n",
              "    <tr>\n",
              "      <th>6</th>\n",
              "      <td>01.01.2019 0:00:00</td>\n",
              "      <td>ЛП ТНА САВАЖ ПАНАШ 250 мл</td>\n",
              "      <td>988</td>\n",
              "      <td>1</td>\n",
              "      <td>unknown</td>\n",
              "    </tr>\n",
              "    <tr>\n",
              "      <th>7</th>\n",
              "      <td>01.01.2019 0:00:00</td>\n",
              "      <td>перчатки (50 пар) винил размер S черные</td>\n",
              "      <td>319</td>\n",
              "      <td>1</td>\n",
              "      <td>unknown</td>\n",
              "    </tr>\n",
              "    <tr>\n",
              "      <th>8</th>\n",
              "      <td>01.01.2019 0:00:00</td>\n",
              "      <td>Услуга доставки DPD до двери</td>\n",
              "      <td>990</td>\n",
              "      <td>1</td>\n",
              "      <td>unknown</td>\n",
              "    </tr>\n",
              "    <tr>\n",
              "      <th>9</th>\n",
              "      <td>01.01.2019 0:00:00</td>\n",
              "      <td>Услуга доставки СДЭК</td>\n",
              "      <td>990</td>\n",
              "      <td>1</td>\n",
              "      <td>unknown</td>\n",
              "    </tr>\n",
              "    <tr>\n",
              "      <th>10</th>\n",
              "      <td>01.01.2019 0:00:00</td>\n",
              "      <td>MCOSM13113</td>\n",
              "      <td>1929</td>\n",
              "      <td>4</td>\n",
              "      <td>unknown</td>\n",
              "    </tr>\n",
              "    <tr>\n",
              "      <th>11</th>\n",
              "      <td>01.01.2019 0:00:00</td>\n",
              "      <td>OLLIN SERVICE LINE Увлаж. Бальзам для волос 10...</td>\n",
              "      <td>483</td>\n",
              "      <td>1</td>\n",
              "      <td>unknown</td>\n",
              "    </tr>\n",
              "    <tr>\n",
              "      <th>12</th>\n",
              "      <td>01.01.2019 0:00:00</td>\n",
              "      <td>OLLIN SERVICE LINE Шампунь.-стабилизатор рН 3....</td>\n",
              "      <td>496</td>\n",
              "      <td>1</td>\n",
              "      <td>unknown</td>\n",
              "    </tr>\n",
              "    <tr>\n",
              "      <th>13</th>\n",
              "      <td>01.01.2019 0:00:00</td>\n",
              "      <td>Масло-уход для светлых волос  ESTEL PRIMA BLON...</td>\n",
              "      <td>650</td>\n",
              "      <td>1</td>\n",
              "      <td>unknown</td>\n",
              "    </tr>\n",
              "    <tr>\n",
              "      <th>14</th>\n",
              "      <td>01.01.2019 0:00:00</td>\n",
              "      <td>Услуга доставки Почта России</td>\n",
              "      <td>300</td>\n",
              "      <td>1</td>\n",
              "      <td>unknown</td>\n",
              "    </tr>\n",
              "    <tr>\n",
              "      <th>15</th>\n",
              "      <td>01.02.2019 0:00:00</td>\n",
              "      <td>/101 Крем-краска ESTEL PRINCESS ESSEX пепельный</td>\n",
              "      <td>165</td>\n",
              "      <td>1</td>\n",
              "      <td>unknown</td>\n",
              "    </tr>\n",
              "    <tr>\n",
              "      <th>16</th>\n",
              "      <td>01.02.2019 0:00:00</td>\n",
              "      <td>/44 Крем-краска ESTEL PRINCESS ESSEX медный</td>\n",
              "      <td>165</td>\n",
              "      <td>1</td>\n",
              "      <td>unknown</td>\n",
              "    </tr>\n",
              "    <tr>\n",
              "      <th>17</th>\n",
              "      <td>01.02.2019 0:00:00</td>\n",
              "      <td>0/00 Стойкая крем-краска чистый тон</td>\n",
              "      <td>262</td>\n",
              "      <td>1</td>\n",
              "      <td>unknown</td>\n",
              "    </tr>\n",
              "    <tr>\n",
              "      <th>18</th>\n",
              "      <td>01.02.2019 0:00:00</td>\n",
              "      <td>0/00N Крем-краска ESTEL PRINCESS ESSEX нейтрал...</td>\n",
              "      <td>165</td>\n",
              "      <td>1</td>\n",
              "      <td>unknown</td>\n",
              "    </tr>\n",
              "    <tr>\n",
              "      <th>19</th>\n",
              "      <td>01.02.2019 0:00:00</td>\n",
              "      <td>0/11 Крем-краска ESTEL PRINCESS ESSEX синий</td>\n",
              "      <td>165</td>\n",
              "      <td>1</td>\n",
              "      <td>unknown</td>\n",
              "    </tr>\n",
              "  </tbody>\n",
              "</table>\n",
              "</div>"
            ],
            "text/plain": [
              "                  Дата  ... Unnamed: 4\n",
              "0   01.01.2019 0:00:00  ...    unknown\n",
              "1   01.01.2019 0:00:00  ...    unknown\n",
              "2   01.01.2019 0:00:00  ...    unknown\n",
              "3   01.01.2019 0:00:00  ...    unknown\n",
              "4   01.01.2019 0:00:00  ...    unknown\n",
              "5   01.01.2019 0:00:00  ...    unknown\n",
              "6   01.01.2019 0:00:00  ...    unknown\n",
              "7   01.01.2019 0:00:00  ...    unknown\n",
              "8   01.01.2019 0:00:00  ...    unknown\n",
              "9   01.01.2019 0:00:00  ...    unknown\n",
              "10  01.01.2019 0:00:00  ...    unknown\n",
              "11  01.01.2019 0:00:00  ...    unknown\n",
              "12  01.01.2019 0:00:00  ...    unknown\n",
              "13  01.01.2019 0:00:00  ...    unknown\n",
              "14  01.01.2019 0:00:00  ...    unknown\n",
              "15  01.02.2019 0:00:00  ...    unknown\n",
              "16  01.02.2019 0:00:00  ...    unknown\n",
              "17  01.02.2019 0:00:00  ...    unknown\n",
              "18  01.02.2019 0:00:00  ...    unknown\n",
              "19  01.02.2019 0:00:00  ...    unknown\n",
              "\n",
              "[20 rows x 5 columns]"
            ]
          },
          "metadata": {
            "tags": []
          },
          "execution_count": 54
        }
      ]
    },
    {
      "cell_type": "code",
      "metadata": {
        "id": "rs_ka86a-hki"
      },
      "source": [
        "carts = []                     # Здесь будут лежать все корзины \n",
        "cart=[]                        # В этом списке будет текущая корзина\n",
        "i=0                            # Счетчик для прохождения по базе\n",
        "val = new['Валовая прибыль']   # Будем работать с этим столбцом\n",
        "allPositions = []              # Создаем пустой список позиций\n",
        "\n",
        "while i!=len(new):             # Пока не дойдем до конца списка\n",
        "\n",
        "  if i in cart_list:           # Если счетчик в списке индексов-корзин\n",
        "\n",
        "    if i!=cart_list[-1]:       # Проверяем, если это не последний индекс-флаг\n",
        "      ind = cart_list.index(i) # Текущему индексу-флагу присваиваем значение конкретно этой корзины\n",
        "\n",
        "      # Пробегаемся дальше по счетчику до момента, когда он не будет равен следующему в списке индексу-флагу\n",
        "      # Если условия соблюдаются, то закидываем следующую строку в текущую корзину\n",
        "      # Инкремент счетчика\n",
        "      while i<cart_list[ind+1]-1:\n",
        "        cart.append(val[i+1])\n",
        "        allPositions.append(val[i+1]) \n",
        "        i+=1 \n",
        "      \n",
        "    else:                      # Если же текущий индекс-флаг последний в списке\n",
        "\n",
        "      # Пробегаемся дальше по счетчику до момента, когда он не будет равен концу списка всех строк в столбце-1\n",
        "      # Если условия соблюдаются, то закидываем следующую строку в текущую корзину\n",
        "      # Инкремент счетчика\n",
        "      while i<(len(new)-1):\n",
        "        cart.append(val[i+1])\n",
        "        allPositions.append(val[i+1]) \n",
        "        i+=1\n",
        "\n",
        "    carts.append(cart)         # Закидываем корзину в список всех корзин\n",
        "    cart=[]                    # Очищаем корзину\n",
        "    \n",
        "  else:\n",
        "    i+=1                       # Если счетчик не в списке корзин, то инкрементируем\n",
        " \n"
      ],
      "execution_count": 55,
      "outputs": []
    },
    {
      "cell_type": "code",
      "metadata": {
        "colab": {
          "base_uri": "https://localhost:8080/"
        },
        "id": "Ot83sXukfN1J",
        "outputId": "2cf40bc1-8abb-4b15-9a4d-cacd76cf0849"
      },
      "source": [
        "len(carts)"
      ],
      "execution_count": 56,
      "outputs": [
        {
          "output_type": "execute_result",
          "data": {
            "text/plain": [
              "13567"
            ]
          },
          "metadata": {
            "tags": []
          },
          "execution_count": 56
        }
      ]
    },
    {
      "cell_type": "code",
      "metadata": {
        "colab": {
          "base_uri": "https://localhost:8080/"
        },
        "id": "zX7N1KaqRu8j",
        "outputId": "d572903a-9b01-4143-9c78-dbfb8caf2ded"
      },
      "source": [
        "items = 0\n",
        "for cart in carts:\n",
        "    for item in cart:\n",
        "        items += 1\n",
        "print(items)"
      ],
      "execution_count": 57,
      "outputs": [
        {
          "output_type": "stream",
          "text": [
            "85617\n"
          ],
          "name": "stdout"
        }
      ]
    },
    {
      "cell_type": "code",
      "metadata": {
        "colab": {
          "base_uri": "https://localhost:8080/"
        },
        "id": "PWAExB2y-i3S",
        "outputId": "6d0c52c6-282a-4ca0-c5da-acb2cb8002b0"
      },
      "source": [
        "print(len(carts)==len(cart_list))   # Проверка, если у нас количество корзин совпадает с количеством флагов корзин\n",
        "print('Количество всех позиций: ', len(allPositions)) \n",
        "print('Пример того, что лежит в корзине: ', carts[0])"
      ],
      "execution_count": 58,
      "outputs": [
        {
          "output_type": "stream",
          "text": [
            "True\n",
            "Количество всех позиций:  85617\n",
            "Пример того, что лежит в корзине:  ['CONTURA (HS61) машинка для стрижки волос', 'Holika Holika Универсальный гель 99% алоэ вера, 250 мл', 'Kapous Бальзам-уход для придания объема Volume up 350 мл', 'Kapous Шампунь для придания объема Volume up 350 мл', 'XPERT (HS71) машинка для стрижки волос', 'ЛП ТНА САВАЖ ПАНАШ 250 мл', 'перчатки (50 пар) винил размер S черные', 'Услуга доставки DPD до двери', 'Услуга доставки СДЭК']\n"
          ],
          "name": "stdout"
        }
      ]
    },
    {
      "cell_type": "code",
      "metadata": {
        "colab": {
          "base_uri": "https://localhost:8080/"
        },
        "id": "yIYCdaLn9bMB",
        "outputId": "e5e848ea-6802-4d5b-86cb-0f93e5f3f8ab"
      },
      "source": [
        "for i in range(10):\n",
        "    print(carts[i])"
      ],
      "execution_count": 59,
      "outputs": [
        {
          "output_type": "stream",
          "text": [
            "['CONTURA (HS61) машинка для стрижки волос', 'Holika Holika Универсальный гель 99% алоэ вера, 250 мл', 'Kapous Бальзам-уход для придания объема Volume up 350 мл', 'Kapous Шампунь для придания объема Volume up 350 мл', 'XPERT (HS71) машинка для стрижки волос', 'ЛП ТНА САВАЖ ПАНАШ 250 мл', 'перчатки (50 пар) винил размер S черные', 'Услуга доставки DPD до двери', 'Услуга доставки СДЭК']\n",
            "['OLLIN SERVICE LINE Увлаж. Бальзам для волос 1000 мл', 'OLLIN SERVICE LINE Шампунь.-стабилизатор рН 3.5 1000 мл', 'Масло-уход для светлых волос  ESTEL PRIMA BLONDE 100 мл.', 'Услуга доставки Почта России', '/101 Крем-краска ESTEL PRINCESS ESSEX пепельный', '/44 Крем-краска ESTEL PRINCESS ESSEX медный', '0/00 Стойкая крем-краска чистый тон', '0/00N Крем-краска ESTEL PRINCESS ESSEX нейтральный', '0/11 Крем-краска ESTEL PRINCESS ESSEX синий', '0/22 Крем-краска ESTEL PRINCESS ESSEX зеленый', '0/33 Крем-краска ESTEL PRINCESS ESSEX желтый', '0/33 Стойкая крем-краска интенсивный золотистисты', '0/55 Крем-краска ESTEL PRINCESS ESSEX красный', '0/66 Крем-краска ESTEL PRINCESS ESSEX фиолетовый', '1/0 Крем-краска ESTEL PRINCESS ESSEX черный классический', '1/11 Крем-краска ESTEL PRINCESS ESSEX сине-черный', '10/0 Крем-краска ESTEL PRINCESS ESSEX светлый блондин', '10/16 светлый блондин пепельно-фиолетовый DLSe', '12/0 Стойкая крем-краска специальный блонд', '12/61 Стойкая крем-краска специальный блонд фиолет', '12/81 Стойкая крем-краска специальный блонд жемч', '12/89 Стойкая крем-краска специальный блонд жемчуж', '3/0 Крем-краска ESTEL PRINCESS ESSEX темный шатен', '4/0 Крем-краска ESTEL PRINCESS ESSEX шатен', '4/0 Стойкая крем-краска шатен', '4/7 Крем-краска ESTEL PRINCESS ESSEX мокко', '5/0 Крем-краска ESTEL PRINCESS ESSEX светлый шатен', '5/0 Стойкая крем-краска светлый шатен', '5/70 Светлый шатен коричневый для седины DL', '6/0 Крем-краска ESTEL PRINCESS ESSEX темно-русый', '6/0 Стойкая крем-краска темный блонд', '6/00 Крем-краска ESTEL PRINCESS ESSEX темно-русый для седины', '6/54 Крем-краска ESTEL PRINCESS ESSEX темно-русый красно-медный', '6/7 Стойкая крем-краска темный блонд коричневый', '6/7 темный блонд коричневый', '6/7 ЭскимоKoleston Perfect ME+', '7/0 Крем-краска ESTEL PRINCESS ESSEX средне-русый', '7/0 Стойкая крем-краска блонд', '7/00 Крем-краска ESTEL PRINCESS ESSEX средне-русый для седины', '8/0 Крем-краска ESTEL PRINCESS ESSEX светло-русый', '8/0 Стойкая крем-краска светлый блонд', '9.0 HY насыщнный очень светлый блонд 100 мл', '9/0 Крем-краска ESTEL PRINCESS ESSEX блондин', '9/0 Стойкая крем-краска очень светлый блонд', '9/1 блондин пепельный DLSe', '9/1 Стойкая крем-краска очень светлый блонд пепель', '9/16 блондин пепельно-фиолетовый DLSe', '9/65 Стойкая крем-краска розовое дерево', 'ALL IN ONE Маска-спрей 15 в 1 для всех типов волос 150 мл', 'CRISTALINAS Mikado Арома-диффузор для жилых помещений с ароматом цветущего апельсина и мандарина90мл', 'CRISTALINAS Natural Spray Спрей-Поглотитель запаха с ароматом ванили 280 мл', 'DGP Жидкое лезвие локальное для удаления натоптышей 70 мл', 'Fiber Infusion восстанавливающее средство 750 мл.', 'Kapous Кремообразная проявляющая эмульсия CremOXON 9% Hyaluronic  1 л', 'Kapous Лак аэрозольный для волос сильной фиксации 750 мл', 'Kapous Мусс для укладки волос сильной фиксации Kapous STUDIO 300 мл', 'Kapous Шампунь увлажняющий для волос с маслами авокадо и оливы линии Studio Professional 1 л', 'OLLIN CARE Шампунь для восстан. структуры в.1000 мл', 'OLLIN SERVICE LINE Увлаж. Бальзам для волос 5000 мл', 'OLLIN SERVICE LINE Шампунь для ежедн. примен.pH5.5 5000 мл', 'Бальзам DE LUXE стабилизатор цвета 1000 мл.', 'Бальзам для ежедневного применения 1000 мл. Curex Classic', 'Бальзам для интенсивного увлажнения волос OTIUM AQUA 1000 мл.', 'Бальзам для ламинированных волос 200 мл.', 'Восстанавливающий эликсир LuxeOil 100 мл.', 'Гель для волос сильной фиксации Airex 200 мл. Estel', 'Интенсивная маска для поврежденных волос 500 мл.', 'Карандаш для глаз ART SOFFIO P-815 Черный', 'Кондиционер для окрашенных волос 1000 мл. Color Save Conditioner SP', 'Лак для волос сильной фиксации FIX IT 500 мл. Londa Новый', 'Лак для волос экстрасильной фиксации 500 мл. SUPER SET Wella', 'Лак для волос экстрасильной фиксации LOCK IT 500 мл. Londa', 'Лосьон для удаления краски с кожи 200мл', 'Маска для окрашенных волос 500 мл.', 'Окислительная эмульсия  3% Londa 1000 мл.', 'Окислительная эмульсия  4% Londa 1000 мл.', 'Окислительная эмульсия  6% Londa 1000 мл.', 'Оксигент 6% 60 мл DE LUXE', 'Оксигент 9% 900 мл DE LUXE', 'Оксигент для волос 3% ESTEL PRINCESS ESSEX 1000 мл.', 'Оксигент для волос 6% ESTEL PRINCESS ESSEX 1000 мл.', 'Оксигент для волос 9% ESTEL PRINCESS ESSEX 1000 мл.', 'Пена для укладки легкой фиксации 300 мл. NATURAL VOLUME Wella', 'полотенце 35 см.х70 см. 100 шт. в рулоне', 'Профессиональное средство Velvet Oil с аргановым маслом 750 мл. Londa', 'Пудра  для обесцвечивания, 750 гр. De Luxe', 'Пудра для создания объема волос ALPHA HOMME 8 гр.', 'Регенерирующая маска ReVerse 400 мл.', 'Спрей для термозащиты Special Effects Heat Protector Spray 110 мл', 'Спрей-мусс для прикорневого объема 200 мл. ROOT SHOOT Wella', 'Универсальная пумпа для шампуня 1000 мл.', 'Услуга доставки DPD до двери', 'Услуга доставки Почта России', 'Услуга доставки СДЭК', 'Хромоэнергетический комплекс', 'чаша для краски DEWAL черная с ручкой и носиком с резинкой на дне 260 мл.', 'Шампунь DE LUXE стабилизатор цвета 1000 мл.', 'Шампунь для ежедневного применения 1000 мл. Curex Classic', 'Шампунь для интенсивного увлажнения волос OTIUM AQUA 1000 мл.', 'Шампунь для ламинированных волос 250 мл.', 'Шампунь для окрашенных волос Color Radiance 1000 мл. Londa', 'Шампунь для поврежденных волос Visible Repair 1000 мл. Londa', 'Шампунь с маслом Арганы для питания сухих, окрашенных волос EGOMANIA, 250мл', 'Эмульсия для удаления краски с волос', 'CAFRE3100', '6.0 HY темный блондин 100 мл', '923 ультра-светлый перламутровый блонд серии Studio 100 мл', 'Kapous  Кремообразная окислительная эмульсия с женьшенем и рисовыми протеинами ActiOx 6% 150 мл', 'Kapous Бальзам для окрашенных волос Color Care 350 мл', 'Kapous Бальзам для частого использования Daily 350 мл', 'Kapous Бальзам-уход для придания объема Volume up 350 мл', 'Kapous Блеск-флюид для волос Diamond Dews 300 мл', 'Kapous Кератин бальзам серии Magic Keratin 250 мл', 'Kapous Кератин шампунь серии Magic Keratin Professional 300 мл', 'Kapous Оксид с экстрактом женьшеня и рисовыми протеинами 6 % ActiOx линии Studio Professional 1 л', 'Kapous Оксид с экстрактом женьшеня и рисовыми протеинами 9 % ActiOx линии Studio Professional 1 л', 'Kapous Осветляющий порошок с кератином в микрогранулах без аммиака 500 гр', 'Kapous Увлажняющий шампунь с маслом арганы серии Arganoil 300 мл', 'Kapous Флюид для поврежденных кончиков волос серии Treatment 60 мл', 'Kapous Шампунь глубокой очистки для всех типов волос 1 л', 'Kapous Шампунь для восстановления волос Profound Re 350 мл', 'Kapous Шампунь для придания объема Volume up 350 мл', 'Kapous Шампунь для частого использования Daily 350 мл', 'Крем-краска для волос Studio «Kapous», оттенок 1.0 Чёрный, 100 мл', 'Крем-краска для волос Studio «Kapous», оттенок 3.0 Тёмно-коричневый, 100 мл', 'Крем-краска для волос Studio «Kapous», оттенок 4.12 коричневый пепельно-перламутровый 100 мл', 'Крем-краска для волос Studio «Kapous», оттенок 5.0 Светло-коричневый, 100 мл', 'Крем-краска для волос Studio «Kapous», оттенок 5.8 Шоколад, 100 мл', 'Крем-краска для волос Studio «Kapous», оттенок 6.1 темный пепельный блонд 100 мл', 'Крем-краска для волос Studio «Kapous», оттенок 7.07 насыщенный холодный блонд 100 мл', 'Крем-краска для волос Studio «Kapous», оттенок 7.1 пепельный блонд 100 мл', 'Крем-краска для волос Studio «Kapous», оттенок 8.1 светлый пепельный блонд 100 мл', 'Крем-краска для волос Studio «Kapous», оттенок 8.12 светлый пепельно-перламутровый блонд 100 мл', 'Крем-краска для волос Studio «Kapous», оттенок 8.44 интенсивный светлый медный блонд 100 мл', 'Крем-краска для волос Studio «Kapous», оттенок 9.1 очень светлый пепельный блонд 100 мл', 'Крем-краска для волос Studio «Kapous», оттенок 9.12 очень светлый пепельно-перламутровый блонд', 'Крем-краска для волос Studio «Kapous», оттенок 9.21 очень светлый фиолетово-пепельный блонд 100 мл', 'Крем-краска для волос Studio «Kapous», оттенок 9.23 очень светлый бежевый перламутровый блонд 100 мл', 'Крем-краска для волос Studio Kapous, оттенок 8.23 светлый бежевый-перламутровый  блонд 100 мл', 'салфетка-воротничок 7 см. х 40 см. пластом 100 шт.']\n",
            "['Услуга доставки СДЭК']\n",
            "['Восстанавливающий эликсир LuxeOil 100 мл.', 'Маска для восстановления кератина LuxeOil 400 мл.', 'Шампунь для защиты кератина LuxeOil 1000 мл.']\n",
            "['Лосьон для укладки 150 мл. PERFECT SETTING Wella', 'Увлажняющий кондиционер 1000 мл. Hydrate Conditioner SP', 'Увлажняющий шампунь 1000 мл. Hydrate Shampoo SP', 'Услуга доставки DPD до двери', 'Шампунь для окрашенных волос 1000 мл. Color Save Shampoo SP']\n",
            "['10/65 светлый блондин фиолетово-красный DLSe', '10/76 светлый блондин коричнево-фиолетовый DLSe', 'Бальзам DE LUXE для выравнивания структуры 1000 мл.', 'Бальзам DE LUXE стабилизатор цвета 1000 мл.', 'Восстанавливающий эликсир LuxeOil 100 мл.', 'Разглаживающее масло для интенсивного блеска 100 мл. Wella', 'Шампунь DE LUXE интенсивное очищение 1000 мл.', 'Шампунь DE LUXE стабилизатор цвета 1000 мл.']\n",
            "['Бальзам для интенсивного увлажнения волос OTIUM AQUA 1000 мл.', 'Восстанавливающий эликсир LuxeOil 100 мл.', 'Оттеночный бальзам-уход для холодных светлых оттенков 200 мл.', 'Услуга доставки Почта России', 'Шампунь для интенсивного увлажнения волос OTIUM AQUA 1000 мл.']\n",
            "['12/81 Белое золото Koleston Perfect ME+', 'Bourjois Accessories Ж Товар Кисточка для пудры pinceau poudre', 'ЛП ТНА ВОЛЮМ АРХИТЕКТОР 150 мл']\n",
            "['Крем-краска для волос Studio «Kapous», оттенок 5.07 насыщенный холодный светло-коричневый 100 мл', 'Крем-краска для волос Studio «Kapous», оттенок 7.8 карамель 100 мл', 'Услуга доставки СДЭК', 'щипцы-гофре DEWAL Pro-ZWide титаново-турмалиновое покрытие 50х90 мм. 55 Вт.']\n",
            "['Kapou Шампунь с биотином для укрепления и стимуляции роста волос серии Biotin Energy 250 мл', 'Kapous Маска с биотином для укрепления и стимуляции роста волос серии Biotin Energy 250 мл', 'Matrix Socolor Beauty 9M  - Стойкая краска Очень светлый блондин мокка', 'Спрей для придания объема волосам - Lisap Fashion Volumizer 200 мл', 'Услуга доставки СДЭК']\n"
          ],
          "name": "stdout"
        }
      ]
    },
    {
      "cell_type": "code",
      "metadata": {
        "colab": {
          "base_uri": "https://localhost:8080/",
          "height": 265
        },
        "id": "jNVupEc8-kCE",
        "outputId": "a503f538-686c-413b-e2fc-679722239361"
      },
      "source": [
        "# Отобразим гистограмму размеров корзин\n",
        "plt.hist([len(c) for c in carts], 20, [1, 21])\n",
        "plt.show()"
      ],
      "execution_count": 20,
      "outputs": [
        {
          "output_type": "display_data",
          "data": {
            "image/png": "[encoded data removed]",
            "text/plain": [
              "<Figure size 432x288 with 1 Axes>"
            ]
          },
          "metadata": {
            "tags": [],
            "needs_background": "light"
          }
        }
      ]
    },
    {
      "cell_type": "code",
      "metadata": {
        "colab": {
          "base_uri": "https://localhost:8080/"
        },
        "id": "jTkyhpG0S3E2",
        "outputId": "acbd9b26-cbd4-4918-d6b9-9da61cdd97a5"
      },
      "source": [
        "allPositions[:10]"
      ],
      "execution_count": 60,
      "outputs": [
        {
          "output_type": "execute_result",
          "data": {
            "text/plain": [
              "['CONTURA (HS61) машинка для стрижки волос',\n",
              " 'Holika Holika Универсальный гель 99% алоэ вера, 250 мл',\n",
              " 'Kapous Бальзам-уход для придания объема Volume up 350 мл',\n",
              " 'Kapous Шампунь для придания объема Volume up 350 мл',\n",
              " 'XPERT (HS71) машинка для стрижки волос',\n",
              " 'ЛП ТНА САВАЖ ПАНАШ 250 мл',\n",
              " 'перчатки (50 пар) винил размер S черные',\n",
              " 'Услуга доставки DPD до двери',\n",
              " 'Услуга доставки СДЭК',\n",
              " 'OLLIN SERVICE LINE Увлаж. Бальзам для волос 1000 мл']"
            ]
          },
          "metadata": {
            "tags": []
          },
          "execution_count": 60
        }
      ]
    },
    {
      "cell_type": "code",
      "metadata": {
        "colab": {
          "base_uri": "https://localhost:8080/"
        },
        "id": "jIUm_y8toOe0",
        "outputId": "bc93d12f-c1d3-4b21-c0fd-3f64d29488f0"
      },
      "source": [
        "len(allPositions)"
      ],
      "execution_count": 61,
      "outputs": [
        {
          "output_type": "execute_result",
          "data": {
            "text/plain": [
              "85617"
            ]
          },
          "metadata": {
            "tags": []
          },
          "execution_count": 61
        }
      ]
    },
    {
      "cell_type": "code",
      "metadata": {
        "colab": {
          "base_uri": "https://localhost:8080/"
        },
        "id": "-0DQR3_p-lCS",
        "outputId": "2e95273c-8009-499a-e335-4236d7e1fa47"
      },
      "source": [
        "labelEncoder = LabelEncoder()  # Создаем объект LabelEncoder \n",
        "labelEncoder.fit(allPositions) # Обрабатываем все имеющиеся позиции товаров"
      ],
      "execution_count": 62,
      "outputs": [
        {
          "output_type": "execute_result",
          "data": {
            "text/plain": [
              "LabelEncoder()"
            ]
          },
          "metadata": {
            "tags": []
          },
          "execution_count": 62
        }
      ]
    },
    {
      "cell_type": "code",
      "metadata": {
        "colab": {
          "base_uri": "https://localhost:8080/"
        },
        "id": "uVZDe7JG-mFx",
        "outputId": "04757291-8396-4580-8e45-48635b226acd"
      },
      "source": [
        "maxPositionsCount = max(labelEncoder.transform(allPositions))+1 # Посчитаем количество уникальных товаров\n",
        "print(maxPositionsCount)                                        # Отобразим это количество"
      ],
      "execution_count": 63,
      "outputs": [
        {
          "output_type": "stream",
          "text": [
            "6663\n"
          ],
          "name": "stdout"
        }
      ]
    },
    {
      "cell_type": "code",
      "metadata": {
        "id": "g8tFeNm2-nXp"
      },
      "source": [
        "cartsIndexes = [labelEncoder.transform(c) for c in carts] # Создаем список индексов для каждой корзины"
      ],
      "execution_count": 64,
      "outputs": []
    },
    {
      "cell_type": "code",
      "metadata": {
        "colab": {
          "base_uri": "https://localhost:8080/"
        },
        "id": "pezeeOYk-oS8",
        "outputId": "0475f7f4-2972-4ab4-b8de-431b9d8fe185"
      },
      "source": [
        "n = 0                  # Укажем номер корзины\n",
        "print(carts[n])        # Отобразим содержимое этой корзины\n",
        "print(cartsIndexes[n]) # Отобразим соответствующие индексы"
      ],
      "execution_count": 65,
      "outputs": [
        {
          "output_type": "stream",
          "text": [
            "['CONTURA (HS61) машинка для стрижки волос', 'Holika Holika Универсальный гель 99% алоэ вера, 250 мл', 'Kapous Бальзам-уход для придания объема Volume up 350 мл', 'Kapous Шампунь для придания объема Volume up 350 мл', 'XPERT (HS71) машинка для стрижки волос', 'ЛП ТНА САВАЖ ПАНАШ 250 мл', 'перчатки (50 пар) винил размер S черные', 'Услуга доставки DPD до двери', 'Услуга доставки СДЭК']\n",
            "[1503 1732 1804 1987 2962 4226 6274 5656 5660]\n"
          ],
          "name": "stdout"
        }
      ]
    },
    {
      "cell_type": "code",
      "metadata": {
        "id": "yd5NvhXO-pVJ"
      },
      "source": [
        "'''\n",
        "  Функция преобразования вектора по приницпу bag of words\n",
        "    Входные параметры:\n",
        "      - trainVector - исходный вектор индексов слов\n",
        "      - wordsCount - установленная длинна вектора\n",
        "    Функция возращает: \n",
        "      - сформированный вектор из 0 и 1\n",
        "'''\n",
        "def changeXTo01(trainVector, wordsCount):\n",
        "  out = np.zeros(wordsCount)                   # Создаем вектор из нулей длинной wordsCount\n",
        "  for x in trainVector:                        # Пробегаем по всем индексам в trainVector\n",
        "    out[x] = 1                                 # Изменяем на 1 значение out в позиции текущего индекса \n",
        "  return out                                   # Возвращаем сформированный вектор\n",
        "\n",
        "\n",
        "'''\n",
        "  Функция преобразования выборки (обучающей или проверочной) по принципе Bag of words\n",
        "    Входные параметры:\n",
        "      - trainSet - выборка\n",
        "      - wordsCount - установленная длинна вектора\n",
        "    Функция возращает: \n",
        "      - сформированная выборка из 0 и 1\n",
        "'''\n",
        "def changeSetTo01(trainSet, wordsCount):\n",
        "  out = []                                     # Создаем пустой список  \n",
        "  for x in trainSet:                           # Пробегаем по всем элемента выборки\n",
        "    out.append(changeXTo01(x, wordsCount))     # Получаем вектор Bag of words для текущего элемента    \n",
        "  return np.array(out)                         # Возрващаем сформированную выборку"
      ],
      "execution_count": 66,
      "outputs": []
    },
    {
      "cell_type": "code",
      "metadata": {
        "id": "ZiHUGQMz-qYf"
      },
      "source": [
        "carts01 = changeSetTo01(cartsIndexes, maxPositionsCount) # Создаем выборку по принципу bag of words"
      ],
      "execution_count": 67,
      "outputs": []
    },
    {
      "cell_type": "code",
      "metadata": {
        "colab": {
          "base_uri": "https://localhost:8080/"
        },
        "id": "USm64aFZ-rpd",
        "outputId": "67b3eaf4-928c-4cd5-b762-1c402768a071"
      },
      "source": [
        "n = 5                  # Указываем номер корзины\n",
        "print(carts[n])        # Выводим содержимое корзины\n",
        "print(cartsIndexes[n]) # Выводим список соответствующих индексов\n",
        "print(carts01[n])      # Выводим соответсвующий список bag of words"
      ],
      "execution_count": 68,
      "outputs": [
        {
          "output_type": "stream",
          "text": [
            "['10/65 светлый блондин фиолетово-красный DLSe', '10/76 светлый блондин коричнево-фиолетовый DLSe', 'Бальзам DE LUXE для выравнивания структуры 1000 мл.', 'Бальзам DE LUXE стабилизатор цвета 1000 мл.', 'Восстанавливающий эликсир LuxeOil 100 мл.', 'Разглаживающее масло для интенсивного блеска 100 мл. Wella', 'Шампунь DE LUXE интенсивное очищение 1000 мл.', 'Шампунь DE LUXE стабилизатор цвета 1000 мл.']\n",
            "[ 211  239 3092 3093 3323 5181 5742 5743]\n",
            "[0. 0. 0. ... 0. 0. 0.]\n"
          ],
          "name": "stdout"
        }
      ]
    },
    {
      "cell_type": "markdown",
      "metadata": {
        "id": "X4jjxGMc-tvp"
      },
      "source": [
        "### Кластеризация"
      ]
    },
    {
      "cell_type": "code",
      "metadata": {
        "colab": {
          "base_uri": "https://localhost:8080/"
        },
        "id": "OEsx9Xal-vHM",
        "outputId": "30e508c5-b20d-4226-9f47-8e9eced5d819"
      },
      "source": [
        "%%time\n",
        "cur_time = time.time()\n",
        "clustersCount = 8                                  # Указываем количество кластеров\n",
        "kmean = KMeans(clustersCount)                        # Создаем объект KMeans\n",
        "kmean.fit(carts01)                                   # Производим кластеризацию набора carts01\n",
        "labels = kmean.labels_                               # Сохраняем метки в переменную labels\n",
        "\n",
        "npCarts = np.array(carts)                            # Преобразуем список корзин в numpy\n",
        "print('Время обработки: ', round(time.time() - cur_time,2),'c')"
      ],
      "execution_count": 69,
      "outputs": [
        {
          "output_type": "stream",
          "text": [
            "Время обработки:  74.39 c\n",
            "CPU times: user 1min 25s, sys: 5.42 s, total: 1min 30s\n",
            "Wall time: 1min 14s\n"
          ],
          "name": "stdout"
        }
      ]
    },
    {
      "cell_type": "code",
      "metadata": {
        "colab": {
          "base_uri": "https://localhost:8080/"
        },
        "id": "StdpT3X4-wJr",
        "outputId": "f3615342-65b3-4f56-f596-f87eaebbf104"
      },
      "source": [
        "print(labels)                                                   # Отображаем метки кластеров\n",
        "clusterSize = [sum(labels==i) for i in range(0, clustersCount)] # Создадим список размеров каждого кластера\n",
        "\n",
        "# Выведем номер кластера и его размер\n",
        "for i, s in enumerate(clusterSize):\n",
        "  print(i, s)"
      ],
      "execution_count": 27,
      "outputs": [
        {
          "output_type": "stream",
          "text": [
            "[1 2 1 ... 7 7 0]\n",
            "0 874\n",
            "1 3839\n",
            "2 115\n",
            "3 1\n",
            "4 45\n",
            "5 361\n",
            "6 3329\n",
            "7 5003\n"
          ],
          "name": "stdout"
        }
      ]
    },
    {
      "cell_type": "code",
      "metadata": {
        "id": "0QFAYZzM-xKy"
      },
      "source": [
        "def getCluster(x):\n",
        "  clasterSize = x.shape[0]                           # Берем размер кластера\n",
        "  sumX = np.sum(x, axis=0)                           # Считаем сумму кластера по позициям\n",
        "  sumX /= clasterSize                                # Смотрим насколько часто конкретная позиция появляется в данном кластере\n",
        "  \n",
        "  positions = []                                     # Создаем пустой список позиций\n",
        "  positionValues = []                                # Создаем пустой список значений\n",
        "  \n",
        "  for i in range(sumX.shape[0]):                     # Пробегаем по всем имеющимся примерам товаров\n",
        "    if (sumX[i] > 0):                                # Если товар присутствует в данном кластере\n",
        "      position = labelEncoder.inverse_transform([i]) # Получаем обратный энкодер\n",
        "      positions.append(position)                     # Добавляем позицию в список позиций \n",
        "      positionValues.append(sumX[i])                 # В списк значений добавляем количество данной позиции в текущем кластере\n",
        "  \n",
        "  return positions, positionValues                   # Возвращаем список позиций кластера и количество каждой позиции"
      ],
      "execution_count": 28,
      "outputs": []
    },
    {
      "cell_type": "code",
      "metadata": {
        "colab": {
          "base_uri": "https://localhost:8080/"
        },
        "id": "jevrLJYH-yay",
        "outputId": "3f9f7a25-8015-4931-8f8e-3a4827341730"
      },
      "source": [
        "for clusterNumber in range(len(clusterSize)):                # Пробегаем по всем кластерам\n",
        "  if (clusterSize[clusterNumber] > 5):                       # Если размер кластера больше 5\n",
        "    pos, posVal = getCluster(carts01[labels==clusterNumber]) # Получаем позиции и их количество в текущем кластере\n",
        "    print(\"Покупок:\", clusterSize[clusterNumber])            # Выводим размер текущего кластера\n",
        "    print(\"Позиций:\", len(pos))                              # Выводим общее число позиций в текущем кластере\n",
        "    pos = np.array(pos)                                      # Преобразуем в numpy\n",
        "    posVal = np.array(posVal)                                # Преобразуем в numpy\n",
        "    indexes = posVal > 0.6                                   # Берем индексы тех позиций, доля которых составляет больше 20%\n",
        "    indexedPos = pos[indexes]                                # Выбираем эти позиции из pos\n",
        "    indexedPosVal = posVal[indexes]                          # Выбираем доли этих позиций\n",
        "\n",
        "    # Отображаем долю позиции и название самой позиции\n",
        "    for i in range(len(indexedPos)):\n",
        "      print(round(100*indexedPosVal[i]), \"% \", indexedPos[i], sep=\"\")\n",
        "\n",
        "    print()\n",
        "    print()"
      ],
      "execution_count": 29,
      "outputs": [
        {
          "output_type": "stream",
          "text": [
            "Покупок: 874\n",
            "Позиций: 2072\n",
            "100.0% ['Услуга доставки DPD до двери']\n",
            "\n",
            "\n",
            "Покупок: 3839\n",
            "Позиций: 3439\n",
            "100.0% ['Услуга доставки СДЭК']\n",
            "\n",
            "\n",
            "Покупок: 115\n",
            "Позиций: 3140\n",
            "84.0% ['Услуга доставки Почта России']\n",
            "82.0% ['Услуга доставки СДЭК']\n",
            "\n",
            "\n",
            "Покупок: 45\n",
            "Позиций: 1456\n",
            "64.0% ['5/0 Стойкая крем-краска светлый шатен']\n",
            "62.0% ['6/0 Стойкая крем-краска темный блонд']\n",
            "62.0% ['7/0 Стойкая крем-краска блонд']\n",
            "69.0% ['Окислительная эмульсия  6% Londa 1000 мл.']\n",
            "62.0% ['Шампунь для окрашенных волос Color Radiance 1000 мл. Londa']\n",
            "\n",
            "\n",
            "Покупок: 361\n",
            "Позиций: 926\n",
            "68.0% ['Бальзам для интенсивного увлажнения волос OTIUM AQUA 1000 мл.']\n",
            "95.0% ['Шампунь для интенсивного увлажнения волос OTIUM AQUA 1000 мл.']\n",
            "\n",
            "\n",
            "Покупок: 3329\n",
            "Позиций: 3586\n",
            "100.0% ['Услуга доставки Почта России']\n",
            "\n",
            "\n",
            "Покупок: 5003\n",
            "Позиций: 5091\n",
            "\n",
            "\n"
          ],
          "name": "stdout"
        }
      ]
    },
    {
      "cell_type": "code",
      "metadata": {
        "colab": {
          "base_uri": "https://localhost:8080/",
          "height": 537
        },
        "id": "s2XsnW285HDp",
        "outputId": "71c72ac8-b151-4019-96ff-18ae8b6f8e06"
      },
      "source": [
        "%%time\n",
        "cost = []\n",
        "for i in range(1,15):\n",
        "  kmean = KMeans(i*1) # *20\n",
        "  kmean.fit(carts01)\n",
        "  cost.append(kmean.inertia_)\n",
        "  print(\"Готово разбиение на \", i*1, \" классов\", sep=\"\")\n",
        "    \n",
        "plt.plot(cost, 'bx-')"
      ],
      "execution_count": null,
      "outputs": [
        {
          "output_type": "stream",
          "text": [
            "Готово разбиение на 1 классов\n",
            "Готово разбиение на 2 классов\n",
            "Готово разбиение на 3 классов\n",
            "Готово разбиение на 4 классов\n",
            "Готово разбиение на 5 классов\n",
            "Готово разбиение на 6 классов\n",
            "Готово разбиение на 7 классов\n",
            "Готово разбиение на 8 классов\n",
            "Готово разбиение на 9 классов\n",
            "Готово разбиение на 10 классов\n",
            "Готово разбиение на 11 классов\n",
            "Готово разбиение на 12 классов\n",
            "Готово разбиение на 13 классов\n",
            "Готово разбиение на 14 классов\n",
            "CPU times: user 19min 53s, sys: 1min 36s, total: 21min 30s\n",
            "Wall time: 16min 48s\n"
          ],
          "name": "stdout"
        },
        {
          "output_type": "display_data",
          "data": {
            "image/png": "[encoded data removed]",
            "text/plain": [
              "<Figure size 432x288 with 1 Axes>"
            ]
          },
          "metadata": {
            "tags": [],
            "needs_background": "light"
          }
        }
      ]
    },
    {
      "cell_type": "code",
      "metadata": {
        "colab": {
          "base_uri": "https://localhost:8080/"
        },
        "id": "F6e4cB5SeTa5",
        "outputId": "8c689a19-b64a-4def-ff17-673befafeb15"
      },
      "source": [
        "max(labels)"
      ],
      "execution_count": null,
      "outputs": [
        {
          "output_type": "execute_result",
          "data": {
            "text/plain": [
              "7"
            ]
          },
          "metadata": {
            "tags": []
          },
          "execution_count": 52
        }
      ]
    },
    {
      "cell_type": "code",
      "metadata": {
        "colab": {
          "base_uri": "https://localhost:8080/"
        },
        "id": "BGP0DE4D-1Qy",
        "outputId": "0075de91-d050-43b3-b14f-dfe5a367daa4"
      },
      "source": [
        "# Разбиение на 280 классов\n",
        "for clusterNumber in range(max(labels)):                     # Пробегаем по всем значениям\n",
        "    if (clusterSize[clusterNumber] > 5):                     # Если размер кластера больше 5\n",
        "      pos, posVal = getCluster(carts01[labels==clusterNumber]) # Получаем позиции и их количество в текущем кластере\n",
        "      print(\"Покупок:\", clusterSize[clusterNumber])            # Выводим размер текущего кластера\n",
        "      print(\"Позиций:\", len(pos))                              # Выводим общее число позиций в текущем кластере\n",
        "      pos = np.array(pos)                                      # Преобразуем в numpy\n",
        "      posVal = np.array(posVal)                                # Преобразуем в numpy\n",
        "      indexes = posVal > 0.2                                   # Берем индексы тех позиций, доля которых составляет больше 20%\n",
        "      indexedPos = pos[indexes]                                # Выбираем эти позиции из pos\n",
        "      indexedPosVal = posVal[indexes]                          # Выбираем доли этих позиций\n",
        "\n",
        "      # Отображаем долю позиции и название самой позиции\n",
        "      for i in range(len(indexedPos)):\n",
        "        print(round(100*indexedPosVal[i]), \"% \", indexedPos[i], sep=\"\")\n",
        "\n",
        "      print()\n",
        "      print()"
      ],
      "execution_count": 30,
      "outputs": [
        {
          "output_type": "stream",
          "text": [
            "Покупок: 874\n",
            "Позиций: 2072\n",
            "100.0% ['Услуга доставки DPD до двери']\n",
            "\n",
            "\n",
            "Покупок: 3839\n",
            "Позиций: 3439\n",
            "100.0% ['Услуга доставки СДЭК']\n",
            "\n",
            "\n",
            "Покупок: 115\n",
            "Позиций: 3140\n",
            "32.0% ['AQUATIKA Маска-смузи  увлажнение Likato 250мл']\n",
            "25.0% ['AQUATIKA Софт-Бальзам увлажнение Likato 250мл']\n",
            "25.0% ['AQUATIKA Софт-Шампунь с алоэ Likato 250мл']\n",
            "25.0% ['Kapous Кератин бальзам серии Magic Keratin 1000 мл']\n",
            "28.0% ['Kapous Кератин шампунь серии Magic Keratin Professional 1000 мл']\n",
            "21.0% ['WELLNESS Минеральный шампунь с витаминами Likato 250мл']\n",
            "41.0% ['Бальзам для ежедневного применения 1000 мл. Curex Classic']\n",
            "23.0% ['Бальзам для интенсивного увлажнения волос OTIUM AQUA 1000 мл.']\n",
            "21.0% ['Деликатный шампунь для окрашенных волос OTIUM COLOR LIFE 1000 мл.']\n",
            "25.0% ['Интенсивная маска для поврежденных волос 500 мл.']\n",
            "22.0% ['Кератиновая вода для волос ESTEL KERATIN 100 мл.']\n",
            "23.0% ['Кератиновая маска для волос ESTEL KERATIN 250 мл.']\n",
            "22.0% ['Кератиновый шампунь для волос ESTEL KERATIN 250 мл.']\n",
            "23.0% ['Масло Velvet Oil с аргановым маслом 100 мл. Londa']\n",
            "25.0% ['Окислительная эмульсия  6% Londa 1000 мл.']\n",
            "22.0% ['Оксигент 6% 60 мл DE LUXE']\n",
            "26.0% ['Оксигент для волос 6% ESTEL PRINCESS ESSEX 1000 мл.']\n",
            "25.0% ['Оксигент для волос 9% ESTEL PRINCESS ESSEX 1000 мл.']\n",
            "27.0% ['Пудра  для обесцвечивания волос, 750 гр. Princess Essex']\n",
            "43.0% ['Серебристая маска для холодных оттенков блонд ESTEL PRIMA BLONDE 300 мл.']\n",
            "43.0% ['Услуга доставки DPD до двери']\n",
            "23.0% ['Услуга доставки DPD самовывоз']\n",
            "84.0% ['Услуга доставки Почта России']\n",
            "82.0% ['Услуга доставки СДЭК']\n",
            "35.0% ['Хромоэнергетический комплекс']\n",
            "24.0% ['Шампунь восстанавливающий Lavant UPDATE 250 мл.']\n",
            "50.0% ['Шампунь для ежедневного применения 1000 мл. Curex Classic']\n",
            "32.0% ['Шампунь для интенсивного увлажнения волос OTIUM AQUA 1000 мл.']\n",
            "23.0% ['Шампунь для поврежденных волос Visible Repair 1000 мл. Londa']\n",
            "23.0% ['Эмульсия для удаления краски с волос']\n",
            "\n",
            "\n",
            "Покупок: 45\n",
            "Позиций: 1456\n",
            "22.0% ['0/66 Стойкая крем-краска интенсивный фиолетовый ми']\n",
            "31.0% ['10/0 Стойкая крем-краска яркий блонд']\n",
            "27.0% ['10/1 Стойкая крем-краска яркий блонд пепельный']\n",
            "38.0% ['10/16 Стойкая крем-краска яркий блонд пепельно-фиолетовый']\n",
            "27.0% ['10/38 Стойкая крем-краскад/в яркий блонд золотисто']\n",
            "40.0% ['10/6 яркий блонд фиолетовый Интенсивное тонирование НОВЫЙ']\n",
            "38.0% ['10/8 Стойкая крем-краска яркий блонд жемчужный']\n",
            "40.0% ['10/81 яркий блонд перламутрово-пепельный Интенсивное тонирование НОВЫЙ']\n",
            "29.0% ['10/96 Стойкая крем-краска яркий блонд сандрэ фиолетовый']\n",
            "38.0% ['12/0 Стойкая крем-краска специальный блонд']\n",
            "53.0% ['12/61 Стойкая крем-краска специальный блонд фиолет']\n",
            "31.0% ['12/81 Стойкая крем-краска специальный блонд жемч']\n",
            "51.0% ['12/89 Стойкая крем-краска специальный блонд жемчуж']\n",
            "27.0% ['2/0 Стойкая крем-краска черный']\n",
            "36.0% ['3/0 Стойкая крем-краска темный шатен']\n",
            "56.0% ['4/0 Стойкая крем-краска шатен']\n",
            "22.0% ['4/07 Стойкая крем-краска шатен натурально-коричневый']\n",
            "29.0% ['4/71 Стойкая крем-краска шатен коричнево-пепельный']\n",
            "44.0% ['4/77 Стойкая крем-краска шатен интенсивно-коричнев']\n",
            "64.0% ['5/0 Стойкая крем-краска светлый шатен']\n",
            "31.0% ['5/1 Стойкая крем-краска светлый шатен пепельный']\n",
            "24.0% ['5/7 Стойкая крем-краска светлый шатен коричневый']\n",
            "42.0% ['5/71 Стойкая крем-краска светлый шатен коричнево-п']\n",
            "24.0% ['5/77  Стойкая крем-краска светлый шатен интенсивно-коричневый']\n",
            "22.0% ['6/ Стойкая крем-краска темный блонд натуральный']\n",
            "62.0% ['6/0 Стойкая крем-краска темный блонд']\n",
            "33.0% ['6/07 Стойкая крем-краска темный блонд натурально-коричневый']\n",
            "42.0% ['6/1 Стойкая крем-краска темный блонд пепельный']\n",
            "31.0% ['6/7 Стойкая крем-краска темный блонд коричневый']\n",
            "53.0% ['6/71 Стойкая крем-краска темный блонд коричнево-пе']\n",
            "49.0% ['6/77 Стойкая крем-краска темный блонд интенсивно-коричневый']\n",
            "62.0% ['7/0 Стойкая крем-краска блонд']\n",
            "40.0% ['7/1 Стойкая крем-краска блонд пепельный']\n",
            "33.0% ['7/38 Стойкая крем-краска блонд золотисто-жемчужный']\n",
            "36.0% ['7/7 Стойкая крем-краска блонд коричневый']\n",
            "44.0% ['7/71 Стойкая крем-краска блонд коричнево-пепельный']\n",
            "27.0% ['7/75 Стойкая крем-краска блонд коричнево-красный']\n",
            "40.0% ['7/77 Стойкая крем-краска блонд интенсивно-коричневый']\n",
            "29.0% ['7/89 Стойкая крем-краска блонд жемчужный сандрэ']\n",
            "49.0% ['8/0 Стойкая крем-краска светлый блонд']\n",
            "38.0% ['8/1 Стойкая крем-краска светлый блонд пепельный']\n",
            "53.0% ['8/38 Стойкая крем-краска светлый блонд золотисто-жемчужный']\n",
            "40.0% ['8/71 Стойкая крем-краска светлый блонд коричнево-п']\n",
            "33.0% ['8/81 светлый блонд перламутрово-пепельный Интенсивное тонирование НОВЫЙ']\n",
            "42.0% ['9/0 Стойкая крем-краска очень светлый блонд']\n",
            "47.0% ['9/1 Стойкая крем-краска очень светлый блонд пепель']\n",
            "44.0% ['9/16 Стойкая крем-краска очень светл блонд пепельно-фиолетовый']\n",
            "24.0% ['9/16 очень светлый блонд пепельно-фиолетовый Интенсивное тонирование НОВЫЙ']\n",
            "31.0% ['9/17 Стойкая крем-краска ванильный мусс']\n",
            "36.0% ['9/65 Стойкая крем-краска розовое дерево']\n",
            "33.0% ['9/96 Стойкая крем-краска очень светл блонд сандрэ фиолетовый']\n",
            "36.0% ['Fiber Infusion восстанавливающее средство 750 мл.']\n",
            "31.0% ['Fiber Infusion средство с кератином 100 мл.']\n",
            "22.0% ['Fiber Infusion шампунь 1000 мл.']\n",
            "38.0% ['Londa Насос-дозатор для шампуней Londa Professional 1000 мл.']\n",
            "22.0% ['Интенсивная маска для поврежденных волос Visible Repair 200 мл. Londa']\n",
            "47.0% ['Кондиционер для окрашенных волос Color Radiance 1000 мл. Londa']\n",
            "27.0% ['Кондиционер для окрашенных волос Color Radiance 250 мл. Londa']\n",
            "42.0% ['Кондиционер для поврежденных волос Visible Repair 1000 мл. Londa']\n",
            "27.0% ['Кондиционер для поврежденных волос Visible Repair 250 мл. Londa']\n",
            "47.0% ['Масло Velvet Oil с аргановым маслом 100 мл. Londa']\n",
            "44.0% ['Масло Velvet Oil с аргановым маслом 30 мл. Londa']\n",
            "22.0% ['Мусс для создания прикорневого объема сильной фиксации LIFT IT 250 мл. Londa']\n",
            "22.0% ['Несмываемый бальзам-кондиционер для поврежденных волос Visible Repair 250 мл. Londa']\n",
            "22.0% ['Несмываемый мусс-кондиционер для придания объема  Impressive Volume 200 мл. Londa']\n",
            "42.0% ['Окислительная эмульсия  1,9% Londa 1000 мл.']\n",
            "29.0% ['Окислительная эмульсия  12% Londa 1000 мл.']\n",
            "47.0% ['Окислительная эмульсия  3% Londa 1000 мл.']\n",
            "36.0% ['Окислительная эмульсия  4% Londa 1000 мл.']\n",
            "69.0% ['Окислительная эмульсия  6% Londa 1000 мл.']\n",
            "22.0% ['Окислительная эмульсия  6% Londa 60 мл.']\n",
            "38.0% ['Окислительная эмульсия  9% Londa 1000 мл.']\n",
            "29.0% ['Осветляющая пудра в коробке 2*500 г.']\n",
            "22.0% ['Пена для укладки волос экстрасильной фиксации DRAMATIZE IT 500 мл. Londa']\n",
            "49.0% ['Профессиональное средство Velvet Oil с аргановым маслом 750 мл. Londa']\n",
            "49.0% ['Средство для восстановления поврежденных волос Visible Repair 750 мл. Londa']\n",
            "33.0% ['Стабилизатор окрашивания Color Radiance 1000 мл. Londa']\n",
            "29.0% ['Теплозащитный лосьон для придания объема нормальной фиксации PROTECT IT 150 мл. Londa']\n",
            "24.0% ['Увлажняющий шампунь Deep Moisture 250 мл. Londa']\n",
            "49.0% ['Услуга доставки DPD до двери']\n",
            "40.0% ['Услуга доставки Почта России']\n",
            "42.0% ['Услуга доставки СДЭК']\n",
            "36.0% ['Шампунь Velvet Oil с аргановым маслом 1000 мл. Londa']\n",
            "22.0% ['Шампунь для ежедневного применения 1000 мл. Curex Classic']\n",
            "62.0% ['Шампунь для окрашенных волос Color Radiance 1000 мл. Londa']\n",
            "42.0% ['Шампунь для окрашенных волос Color Radiance 250 мл. Londa']\n",
            "44.0% ['Шампунь для поврежденных волос Visible Repair 1000 мл. Londa']\n",
            "29.0% ['Шампунь для поврежденных волос Visible Repair 250 мл. Londa']\n",
            "24.0% ['Шампунь для придания объема Impressive Volume 1000 мл. Londa']\n",
            "24.0% ['Шампунь для светлых оттенков волос Color Revive Blonde and Silver 250 мл.']\n",
            "24.0% ['Шампунь для чувствительной кожи головы Sensitive Scalp 250 мл. Londa']\n",
            "29.0% ['Шампунь против перхоти Anti-Dandruff 250 мл. Londa']\n",
            "\n",
            "\n",
            "Покупок: 361\n",
            "Позиций: 926\n",
            "68.0% ['Бальзам для интенсивного увлажнения волос OTIUM AQUA 1000 мл.']\n",
            "20.0% ['Комфорт-маска для интенсивного увлажнения волос OTIUM AQUA 300 мл.']\n",
            "95.0% ['Шампунь для интенсивного увлажнения волос OTIUM AQUA 1000 мл.']\n",
            "\n",
            "\n",
            "Покупок: 3329\n",
            "Позиций: 3586\n",
            "100.0% ['Услуга доставки Почта России']\n",
            "\n",
            "\n"
          ],
          "name": "stdout"
        }
      ]
    },
    {
      "cell_type": "code",
      "metadata": {
        "id": "7JwBJkD-udoR"
      },
      "source": [
        ""
      ],
      "execution_count": null,
      "outputs": []
    },
    {
      "cell_type": "markdown",
      "metadata": {
        "id": "ZD2SQQTDkU8v"
      },
      "source": [
        "# LIGHT \n",
        "\n",
        "Используйте готовый ноутбук с кластеризацией базы покупок интернет магазина:\n",
        "\n"
      ]
    },
    {
      "cell_type": "markdown",
      "metadata": {
        "id": "LZ9CO8gllWol"
      },
      "source": [
        "### Удалите из выборки все строки про доставку (автоматически, уже из carts)\n",
        "\n"
      ]
    },
    {
      "cell_type": "code",
      "metadata": {
        "id": "3n6-KKb5j7sI"
      },
      "source": [
        "carts_ = [[item for item in cart if not item.startswith('Услуга доставки')] for cart in carts]"
      ],
      "execution_count": 70,
      "outputs": []
    },
    {
      "cell_type": "code",
      "metadata": {
        "colab": {
          "base_uri": "https://localhost:8080/"
        },
        "id": "yf9hkJQlkpX-",
        "outputId": "0f4368fe-bf03-4055-9e79-f57b2edc39fd"
      },
      "source": [
        "len(carts_) # новый список содержит корзины, из которых удалены доставки"
      ],
      "execution_count": 71,
      "outputs": [
        {
          "output_type": "execute_result",
          "data": {
            "text/plain": [
              "13567"
            ]
          },
          "metadata": {
            "tags": []
          },
          "execution_count": 71
        }
      ]
    },
    {
      "cell_type": "markdown",
      "metadata": {
        "id": "-0YnaKWyJoLC"
      },
      "source": [
        "Число позиций после удаления доставок:"
      ]
    },
    {
      "cell_type": "code",
      "metadata": {
        "colab": {
          "base_uri": "https://localhost:8080/"
        },
        "id": "BOwMsohgqMGg",
        "outputId": "daf95bdb-e97b-48c4-c944-d4175e488857"
      },
      "source": [
        "items = 0\n",
        "for cart in carts_:\n",
        "    for item in cart:\n",
        "        items += 1\n",
        "print(items)"
      ],
      "execution_count": 72,
      "outputs": [
        {
          "output_type": "stream",
          "text": [
            "76716\n"
          ],
          "name": "stdout"
        }
      ]
    },
    {
      "cell_type": "markdown",
      "metadata": {
        "id": "4YLYw5BWjp4f"
      },
      "source": [
        "Пересоздадим списки cartsIndexes and carts01:"
      ]
    },
    {
      "cell_type": "code",
      "metadata": {
        "id": "TyKqtcnXlcxM"
      },
      "source": [
        "carts, carts_ = carts_, carts # теперь в carts_ будут корзины с доставками\n",
        "cartsIndexes = [labelEncoder.transform(c) for c in carts] \n",
        "carts01 = changeSetTo01(cartsIndexes, maxPositionsCount)"
      ],
      "execution_count": 73,
      "outputs": []
    },
    {
      "cell_type": "markdown",
      "metadata": {
        "id": "6Hn2T2yzpxYX"
      },
      "source": [
        "Проверим что доставка удалилась."
      ]
    },
    {
      "cell_type": "code",
      "metadata": {
        "colab": {
          "base_uri": "https://localhost:8080/"
        },
        "id": "lF-PGRdXfdum",
        "outputId": "92a81701-a25d-4da8-f5a7-77b0fcc32896"
      },
      "source": [
        "n = 0                  # Указываем номер корзины\n",
        "print(carts[n])        # Выводим содержимое корзины\n",
        "print(cartsIndexes[n]) # Выводим список соответствующих индексов\n",
        "print(carts01[n])      # Выводим соответсвующий список bag of words"
      ],
      "execution_count": 74,
      "outputs": [
        {
          "output_type": "stream",
          "text": [
            "['CONTURA (HS61) машинка для стрижки волос', 'Holika Holika Универсальный гель 99% алоэ вера, 250 мл', 'Kapous Бальзам-уход для придания объема Volume up 350 мл', 'Kapous Шампунь для придания объема Volume up 350 мл', 'XPERT (HS71) машинка для стрижки волос', 'ЛП ТНА САВАЖ ПАНАШ 250 мл', 'перчатки (50 пар) винил размер S черные']\n",
            "[1503 1732 1804 1987 2962 4226 6274]\n",
            "[0. 0. 0. ... 0. 0. 0.]\n"
          ],
          "name": "stdout"
        }
      ]
    },
    {
      "cell_type": "markdown",
      "metadata": {
        "id": "3WMMnIhfksPH"
      },
      "source": [
        "### Выведите две гистограммы\n",
        "- Распределения размеров классов - сколько корзин\n",
        "- Распределение количества уникальных позиций в классе\n",
        "\n"
      ]
    },
    {
      "cell_type": "markdown",
      "metadata": {
        "id": "ghYqNHLMrwzZ"
      },
      "source": [
        "Кластеризуем по-новой (мы изменили carts01)"
      ]
    },
    {
      "cell_type": "code",
      "metadata": {
        "id": "dqNpu_ookYw4",
        "colab": {
          "base_uri": "https://localhost:8080/",
          "height": 503
        },
        "outputId": "f0752fea-6cd7-458b-eb24-d4a1981e4c37"
      },
      "source": [
        "%%time\n",
        "cost = []\n",
        "for i in range(1, 13):\n",
        "  kmean = KMeans(i) # *20\n",
        "  kmean.fit(carts01)\n",
        "  cost.append(kmean.inertia_)\n",
        "  print(\"Готово разбиение на \", i, \" классов\", sep=\"\")\n",
        "    \n",
        "plt.plot(list(range(1, 13)), cost, 'bx-')\n"
      ],
      "execution_count": null,
      "outputs": [
        {
          "output_type": "stream",
          "text": [
            "Готово разбиение на 1 классов\n",
            "Готово разбиение на 2 классов\n",
            "Готово разбиение на 3 классов\n",
            "Готово разбиение на 4 классов\n",
            "Готово разбиение на 5 классов\n",
            "Готово разбиение на 6 классов\n",
            "Готово разбиение на 7 классов\n",
            "Готово разбиение на 8 классов\n",
            "Готово разбиение на 9 классов\n",
            "Готово разбиение на 10 классов\n",
            "Готово разбиение на 11 классов\n",
            "Готово разбиение на 12 классов\n",
            "CPU times: user 16min 49s, sys: 1min 16s, total: 18min 6s\n",
            "Wall time: 14min 25s\n"
          ],
          "name": "stdout"
        },
        {
          "output_type": "display_data",
          "data": {
            "image/png": "[encoded data removed]",
            "text/plain": [
              "<Figure size 432x288 with 1 Axes>"
            ]
          },
          "metadata": {
            "tags": [],
            "needs_background": "light"
          }
        }
      ]
    },
    {
      "cell_type": "markdown",
      "metadata": {
        "id": "5dirYun7vZNN"
      },
      "source": [
        "Хорошо кластеризовать на 3, 7 или 9 кластеров."
      ]
    },
    {
      "cell_type": "code",
      "metadata": {
        "colab": {
          "base_uri": "https://localhost:8080/"
        },
        "id": "B5dt_TeOp4HI",
        "outputId": "c1333d33-e4c8-47a7-ee75-7dea9d9b37cc"
      },
      "source": [
        "%%time\n",
        "clustersCount = 9                                   # Указываем количество кластеров\n",
        "kmean = KMeans(clustersCount)                        # Создаем объект KMeans\n",
        "kmean.fit(carts01)                                   # Производим кластеризацию набора carts01\n",
        "labels = kmean.labels_                               # Сохраняем метки в переменную labels\n",
        "\n",
        "npCarts = np.array(carts) "
      ],
      "execution_count": 75,
      "outputs": [
        {
          "output_type": "stream",
          "text": [
            "CPU times: user 1min 35s, sys: 5.58 s, total: 1min 40s\n",
            "Wall time: 1min 22s\n"
          ],
          "name": "stdout"
        }
      ]
    },
    {
      "cell_type": "code",
      "metadata": {
        "colab": {
          "base_uri": "https://localhost:8080/"
        },
        "id": "Y6YSx_X-1Ct8",
        "outputId": "04c24e25-0e13-480a-8f13-22f8f674fa32"
      },
      "source": [
        "len(carts), len(carts01)"
      ],
      "execution_count": 76,
      "outputs": [
        {
          "output_type": "execute_result",
          "data": {
            "text/plain": [
              "(13567, 13567)"
            ]
          },
          "metadata": {
            "tags": []
          },
          "execution_count": 76
        }
      ]
    },
    {
      "cell_type": "code",
      "metadata": {
        "colab": {
          "base_uri": "https://localhost:8080/"
        },
        "id": "qiij33jyp4Yk",
        "outputId": "333e4912-22aa-4510-ab09-d304715bb1bb"
      },
      "source": [
        "print(labels)                                                   # Отображаем метки кластеров\n",
        "clusterSize = [sum(labels==i) for i in range(0, clustersCount)] # Создадим список размеров каждого кластера\n",
        "\n",
        "# Выведем номер кластера и его размер\n",
        "for i, s in enumerate(clusterSize):\n",
        "    print(i, s)"
      ],
      "execution_count": 77,
      "outputs": [
        {
          "output_type": "stream",
          "text": [
            "[2 0 2 ... 5 2 2]\n",
            "0 64\n",
            "1 336\n",
            "2 12119\n",
            "3 81\n",
            "4 72\n",
            "5 310\n",
            "6 1\n",
            "7 583\n",
            "8 1\n"
          ],
          "name": "stdout"
        }
      ]
    },
    {
      "cell_type": "markdown",
      "metadata": {
        "id": "pZOYCBuPno9U"
      },
      "source": [
        "\n",
        "---\n",
        "\n",
        "\n",
        "Распределения размеров классов - сколько корзин"
      ]
    },
    {
      "cell_type": "code",
      "metadata": {
        "colab": {
          "base_uri": "https://localhost:8080/",
          "height": 265
        },
        "id": "C9RCvS6w1W1V",
        "outputId": "274b2b5f-9474-46f8-94f3-1556305a8a05"
      },
      "source": [
        "_ = plt.hist(labels, clustersCount, [0, clustersCount])"
      ],
      "execution_count": 78,
      "outputs": [
        {
          "output_type": "display_data",
          "data": {
            "image/png": "[encoded data removed]",
            "text/plain": [
              "<Figure size 432x288 with 1 Axes>"
            ]
          },
          "metadata": {
            "tags": [],
            "needs_background": "light"
          }
        }
      ]
    },
    {
      "cell_type": "markdown",
      "metadata": {
        "id": "EM-Ix9Hypy5H"
      },
      "source": [
        "\n",
        "\n",
        "---\n",
        "\n",
        "Распределение количества уникальных позиций в классе\n",
        "\n",
        "Возьмем самый многочисленный класс - №2:"
      ]
    },
    {
      "cell_type": "code",
      "metadata": {
        "id": "J4PXCcGZ1XKN"
      },
      "source": [
        "n = 2 # номер класса\n",
        "cluster = [cartsIndexes[i] for i in range(len(carts)) if labels[i] == n]\n",
        "items = []\n",
        "for i in cluster:\n",
        "    items.extend(i)"
      ],
      "execution_count": 79,
      "outputs": []
    },
    {
      "cell_type": "code",
      "metadata": {
        "colab": {
          "base_uri": "https://localhost:8080/",
          "height": 265
        },
        "id": "G9-8mMSqs3rc",
        "outputId": "dbb67b98-a892-42a4-db8b-52805b36b2f9"
      },
      "source": [
        "_ = plt.hist(items, 100)"
      ],
      "execution_count": 80,
      "outputs": [
        {
          "output_type": "display_data",
          "data": {
            "image/png": "[encoded data removed]",
            "text/plain": [
              "<Figure size 432x288 with 1 Axes>"
            ]
          },
          "metadata": {
            "tags": [],
            "needs_background": "light"
          }
        }
      ]
    },
    {
      "cell_type": "markdown",
      "metadata": {
        "id": "ok1cDM42xibd"
      },
      "source": [
        "Замечу, что представление этой величины в виде гистограммы малоинформативно и некорректно, так как уникальных позиций у нас более 6000, и в одну корзину(гистограммы) будут попадать совершенно не связанные между собой продукты."
      ]
    },
    {
      "cell_type": "markdown",
      "metadata": {
        "id": "WycwqHzskr7V"
      },
      "source": [
        "### Напишите продвинутую функцию визуализации одного выбранного класса\n",
        "- Размер класса\n",
        "- Количество уникальных позиций\n",
        "- Позиции, которые есть минимум в 20% корзин\n",
        "- Уникальные слова в описаниях позиций, которые встречаются минимум в 20% позиций, для отслеживания моно-брендовых и моно-товарных закупок\n"
      ]
    },
    {
      "cell_type": "markdown",
      "metadata": {
        "id": "PTfWOJdWGvJu"
      },
      "source": [
        "Функция для вывода размера класса:"
      ]
    },
    {
      "cell_type": "code",
      "metadata": {
        "id": "vSEiVdkQG--7"
      },
      "source": [
        "def printSize(cluster):\n",
        "    \"\"\"\n",
        "    cluster: список корзин (в любом формате) \n",
        "    \"\"\"\n",
        "    print(\"Cluster has %d carts\" % len(cluster))"
      ],
      "execution_count": 41,
      "outputs": []
    },
    {
      "cell_type": "code",
      "metadata": {
        "colab": {
          "base_uri": "https://localhost:8080/"
        },
        "id": "43oLFCgbsDCF",
        "outputId": "7f638b94-790c-495f-8685-534a197e6ea5"
      },
      "source": [
        "n = 2 # номер класса\n",
        "cluster = [cartsIndexes[i] for i in range(len(carts)) if labels[i] == n]\n",
        "items = []\n",
        "for i in cluster:\n",
        "    items.extend(i)\n",
        "print(\"Cluster #%d has %d carts\" % (n , len(cluster)))"
      ],
      "execution_count": 81,
      "outputs": [
        {
          "output_type": "stream",
          "text": [
            "Cluster #2 has 12119 carts\n"
          ],
          "name": "stdout"
        }
      ]
    },
    {
      "cell_type": "code",
      "metadata": {
        "id": "mHqqbnXCLgQ1"
      },
      "source": [
        "def printNumberUniqPositions(cluster):\n",
        "    items = []\n",
        "    for cart in cluster:\n",
        "        items.extend(cart)\n",
        "    uniqs = set()\n",
        "    [uniqs.add(item) for item in items]\n",
        "    print(\"Uniq positions:\", len(uniqs))"
      ],
      "execution_count": 87,
      "outputs": []
    },
    {
      "cell_type": "code",
      "metadata": {
        "colab": {
          "base_uri": "https://localhost:8080/"
        },
        "id": "9zbKRilJMgkF",
        "outputId": "2c75722b-6bc5-42c3-9e08-d014eaf22e98"
      },
      "source": [
        "printNumberUniqPositions(cluster)"
      ],
      "execution_count": 88,
      "outputs": [
        {
          "output_type": "stream",
          "text": [
            "Uniq positions: 6059\n"
          ],
          "name": "stdout"
        }
      ]
    },
    {
      "cell_type": "markdown",
      "metadata": {
        "id": "1WlxNmRIDulW"
      },
      "source": [
        "Позиции, которые есть минимум в 20% корзин:"
      ]
    },
    {
      "cell_type": "code",
      "metadata": {
        "id": "lpk1_GmeNYeg"
      },
      "source": [
        "def printPopularPositions(cluster, level=0.2):\n",
        "    N = int(level*len(cluster)) \n",
        "    items = []\n",
        "    for cart in cluster:\n",
        "        items.extend(cart)\n",
        "    uniqs = set()\n",
        "    [uniqs.add(item) for item in items]\n",
        "    qty = {id: 0 for id in uniqs} # словарь id -> в скольких корзинах встречается позиция id\n",
        "    for cart in cluster:\n",
        "        for id in cart:\n",
        "            qty[id] += 1\n",
        "    ids20 = [id for id in uniqs if qty[id] > N] # список ids которые встретились более чем в N корзинах\n",
        "    print('Позиции, которые есть минимум в %d%% корзин:' % int(100*level), ids20)"
      ],
      "execution_count": 89,
      "outputs": []
    },
    {
      "cell_type": "code",
      "metadata": {
        "colab": {
          "base_uri": "https://localhost:8080/"
        },
        "id": "go1RDwi4PA1Q",
        "outputId": "2f322615-4f40-4b34-f2ec-60c3fd4e77bf"
      },
      "source": [
        "printPopularPositions(cluster, level=0.2)"
      ],
      "execution_count": 93,
      "outputs": [
        {
          "output_type": "stream",
          "text": [
            "Позиции, которые есть минимум в 20% корзин: []\n"
          ],
          "name": "stdout"
        }
      ]
    },
    {
      "cell_type": "code",
      "metadata": {
        "colab": {
          "base_uri": "https://localhost:8080/"
        },
        "id": "cWHLiJ_PPOON",
        "outputId": "e0640d2a-c467-4b3a-9979-71dd092db7d4"
      },
      "source": [
        "printPopularPositions(cluster, level=0.02)"
      ],
      "execution_count": 94,
      "outputs": [
        {
          "output_type": "stream",
          "text": [
            "Позиции, которые есть минимум в 2% корзин: [5700, 5825, 6001]\n"
          ],
          "name": "stdout"
        }
      ]
    },
    {
      "cell_type": "code",
      "metadata": {
        "colab": {
          "base_uri": "https://localhost:8080/"
        },
        "id": "tkQnALQXPOao",
        "outputId": "f4a05e2d-85f2-4c00-d0fb-05c3f2134bce"
      },
      "source": [
        "printPopularPositions(cluster, level=0.01)"
      ],
      "execution_count": 95,
      "outputs": [
        {
          "output_type": "stream",
          "text": [
            "Позиции, которые есть минимум в 1% корзин: [1820, 1823, 1934, 2500, 3138, 3145, 3487, 3585, 3586, 3587, 3599, 4529, 4792, 4793, 4797, 4798, 5166, 5300, 5318, 5700, 5825, 5843, 6001]\n"
          ],
          "name": "stdout"
        }
      ]
    },
    {
      "cell_type": "markdown",
      "metadata": {
        "id": "-0osZ5S1EhMk"
      },
      "source": [
        "Уникальные слова в описаниях позиций, которые встречаются минимум в 20% позиций, для отслеживания моно-брендовых и моно-товарных закупок"
      ]
    },
    {
      "cell_type": "code",
      "metadata": {
        "id": "GeCDY4QfJa93"
      },
      "source": [
        "maxWordsCount = 10000\n",
        "tok = Tokenizer(num_words=maxWordsCount, filters='!\"#$%&()*+,-–—./:;<=>?@[\\\\]^_`{|}~\\t\\n\\xa0', lower=True, split=' ', oov_token='unknown', char_level=False)\n",
        "positions = []\n",
        "for p in carts:\n",
        "    positions.extend(p)\n",
        "tok.fit_on_texts(positions)         \n",
        "items = list(tok.word_index.items())"
      ],
      "execution_count": 101,
      "outputs": []
    },
    {
      "cell_type": "code",
      "metadata": {
        "colab": {
          "base_uri": "https://localhost:8080/"
        },
        "id": "VDWGFhxSJbEo",
        "outputId": "b0397a73-97ef-4b5e-e6bd-38b86a678d97"
      },
      "source": [
        "items[:10]"
      ],
      "execution_count": 102,
      "outputs": [
        {
          "output_type": "execute_result",
          "data": {
            "text/plain": [
              "[('unknown', 1),\n",
              " ('мл', 2),\n",
              " ('для', 3),\n",
              " ('волос', 4),\n",
              " ('крем', 5),\n",
              " ('шампунь', 6),\n",
              " ('1000', 7),\n",
              " ('краска', 8),\n",
              " ('с', 9),\n",
              " ('estel', 10)]"
            ]
          },
          "metadata": {
            "tags": []
          },
          "execution_count": 102
        }
      ]
    },
    {
      "cell_type": "code",
      "metadata": {
        "colab": {
          "base_uri": "https://localhost:8080/"
        },
        "id": "WmEMCsO1SaMF",
        "outputId": "00f49be1-766d-4b64-87cb-761657edefc6"
      },
      "source": [
        "len(items)"
      ],
      "execution_count": 103,
      "outputs": [
        {
          "output_type": "execute_result",
          "data": {
            "text/plain": [
              "5888"
            ]
          },
          "metadata": {
            "tags": []
          },
          "execution_count": 103
        }
      ]
    },
    {
      "cell_type": "code",
      "metadata": {
        "id": "1mUwLCrRJa57"
      },
      "source": [
        "positionIds = tok.texts_to_sequences(positions) "
      ],
      "execution_count": 104,
      "outputs": []
    },
    {
      "cell_type": "code",
      "metadata": {
        "colab": {
          "base_uri": "https://localhost:8080/"
        },
        "id": "b6Vxc2dgMvE5",
        "outputId": "beafd6c1-d833-4b31-a178-7b81e478ae67"
      },
      "source": [
        "positionIds[:10]"
      ],
      "execution_count": 105,
      "outputs": [
        {
          "output_type": "execute_result",
          "data": {
            "text/plain": [
              "[[4290, 4291, 967, 3, 729, 4],\n",
              " [337, 337, 763, 122, 1313, 326, 1057, 14, 2],\n",
              " [15, 17, 112, 3, 204, 95, 196, 430, 270, 2],\n",
              " [15, 6, 3, 204, 95, 196, 430, 270, 2],\n",
              " [3588, 3589, 967, 3, 729, 4],\n",
              " [364, 1288, 3360, 3361, 14, 2],\n",
              " [420, 74, 478, 575, 458, 515, 587],\n",
              " [18, 170, 125, 557, 17, 3, 4, 7, 2],\n",
              " [18, 170, 125, 6, 242, 657, 53, 37, 7, 2],\n",
              " [71, 112, 3, 120, 4, 10, 107, 98, 16, 2]]"
            ]
          },
          "metadata": {
            "tags": []
          },
          "execution_count": 105
        }
      ]
    },
    {
      "cell_type": "code",
      "metadata": {
        "colab": {
          "base_uri": "https://localhost:8080/"
        },
        "id": "zFhaKvrjNj7p",
        "outputId": "c92ed06e-53d4-4075-d3f8-9f1649d61c57"
      },
      "source": [
        "uniqPositions = set()\n",
        "[uniqPositions.add(p) for p in positions]\n",
        "print(\"Distinct positions:\", len(uniqPositions))"
      ],
      "execution_count": 106,
      "outputs": [
        {
          "output_type": "stream",
          "text": [
            "Distinct positions: 6658\n"
          ],
          "name": "stdout"
        }
      ]
    },
    {
      "cell_type": "code",
      "metadata": {
        "id": "zfPmZXouNkYQ"
      },
      "source": [
        "def printPopularWords(cluster, level=0.2):\n",
        "    pos_count = 0\n",
        "    for cart in cluster:\n",
        "        pos_count += len(cart) # Находим полное число позиций в кластере\n",
        "    N = int(level*pos_count) # Пороговое количество позиций для слова.\n",
        "    qty = {id: 0 for id in range(1, len(tok.word_index.items())+1)} # словарь id -> в скольких позициях встречается слово id\n",
        "    for item in positionIds:\n",
        "        for id in item:\n",
        "            qty[id] += 1\n",
        "    ids20 = [id for id in range(1, len(tok.word_index.items())+1) if qty[id] > N] # список ids слов, которые встретились более чем в N позициях\n",
        "    words = [tok.index_word[id] for id in ids20]\n",
        "    print('слова, которые есть минимум в %d%% позиций:' % int(100*level), words)"
      ],
      "execution_count": 112,
      "outputs": []
    },
    {
      "cell_type": "code",
      "metadata": {
        "colab": {
          "base_uri": "https://localhost:8080/"
        },
        "id": "Rtf-L0S4X6lC",
        "outputId": "2dfa782c-4a42-49e1-a384-e403ccfb99bc"
      },
      "source": [
        "printPopularWords(cluster, level=0.2)"
      ],
      "execution_count": 113,
      "outputs": [
        {
          "output_type": "stream",
          "text": [
            "слова, которые есть минимум в 20% позиций: ['мл', 'для', 'волос', 'крем', 'шампунь', '1000', 'краска']\n"
          ],
          "name": "stdout"
        }
      ]
    },
    {
      "cell_type": "markdown",
      "metadata": {
        "id": "deybPFDDYYyG"
      },
      "source": [
        "**Искомая продвинутая функция**"
      ]
    },
    {
      "cell_type": "code",
      "metadata": {
        "id": "cijwXhveQEoV"
      },
      "source": [
        "def printAdvanced(cluster):\n",
        "    printSize(cluster)\n",
        "    printNumberUniqPositions(cluster)\n",
        "    printPopularPositions(cluster)\n",
        "    printPopularWords(cluster)"
      ],
      "execution_count": 115,
      "outputs": []
    },
    {
      "cell_type": "code",
      "metadata": {
        "colab": {
          "base_uri": "https://localhost:8080/"
        },
        "id": "VEaSxksIYMVO",
        "outputId": "9c835169-8e7a-475f-f381-a6c21c95f25d"
      },
      "source": [
        "printAdvanced(cluster)"
      ],
      "execution_count": 116,
      "outputs": [
        {
          "output_type": "stream",
          "text": [
            "Cluster has 12119 carts\n",
            "Uniq positions: 6059\n",
            "Позиции, которые есть минимум в 20% корзин: []\n",
            "слова, которые есть минимум в 20% позиций: ['мл', 'для', 'волос', 'крем', 'шампунь', '1000', 'краска']\n"
          ],
          "name": "stdout"
        }
      ]
    },
    {
      "cell_type": "markdown",
      "metadata": {
        "id": "r-FFE2dvlrTO"
      },
      "source": [
        "# PRO задание. Вариант 1\n",
        "Задание по кластеризации слов в Embedding пространстве\n",
        "- Возьмите любую текстовую базу (например, базу книг писателей из наших  прошлых занятий)\n",
        "- Сделайте классификатор с embedding слоем в начале (не Bag of words)\n",
        "- Обучите классификатор\n",
        "- Возьмите предобученный embedding слой и перегоните все слова из полного словаря в embedding пространство\n",
        "- Запустите кластеризацию\n",
        "- Выведите устойчивые классы слов\n",
        "- Проведите для разного числа классов и разной размерности embedding пространства\n",
        "- Напишите выводы\n"
      ]
    },
    {
      "cell_type": "markdown",
      "metadata": {
        "id": "sGhEXE42XLRE"
      },
      "source": [
        "### 1. Возьмите любую текстовую базу (например, базу книг писателей из наших  прошлых занятий)\n"
      ]
    },
    {
      "cell_type": "code",
      "metadata": {
        "colab": {
          "base_uri": "https://localhost:8080/"
        },
        "id": "l0eChlX_nIRF",
        "outputId": "e31919a9-49b7-46dd-ea1c-a7dfaa3dc2de"
      },
      "source": [
        "# Загружаем базу писателей\n",
        "!wget https://xland.ru/uai/hw04/writers.zip\n",
        "!unzip -q 'writers.zip' -d /content/texts "
      ],
      "execution_count": null,
      "outputs": [
        {
          "output_type": "stream",
          "text": [
            "--2020-11-30 19:17:39--  https://xland.ru/uai/hw04/writers.zip\n",
            "Resolving xland.ru (xland.ru)... 198.211.125.59\n",
            "Connecting to xland.ru (xland.ru)|198.211.125.59|:443... connected.\n",
            "HTTP request sent, awaiting response... 200 OK\n",
            "Length: 8960427 (8.5M) [application/zip]\n",
            "Saving to: ‘writers.zip’\n",
            "\n",
            "writers.zip         100%[===================>]   8.54M  53.5MB/s    in 0.2s    \n",
            "\n",
            "2020-11-30 19:17:40 (53.5 MB/s) - ‘writers.zip’ saved [8960427/8960427]\n",
            "\n"
          ],
          "name": "stdout"
        }
      ]
    },
    {
      "cell_type": "code",
      "metadata": {
        "id": "XJHCk68UnJYK"
      },
      "source": [
        "def readText(fileName): # Объявляем функции для чтения файла. На вход отправляем путь к файлу\n",
        "  f = open(fileName, 'r')        # Задаем открытие нужного файла в режиме чтения\n",
        "  text = f.read()                # Читаем текст\n",
        "  text = text.replace(\"\\n\", \" \") # Переносы строки переводим в пробелы\n",
        "  \n",
        "  return text                    # Возвращаем текст файла\n",
        "\n",
        "className = [\"О. Генри\", \"Стругацкие\", \"Булгаков\", \"Саймак\", \"Фрай\", \"Брэдберри\"] # Объявляем интересующие нас классы\n",
        "nClasses = len(className) # Считаем количество классов\n",
        "\n",
        "# Формирование обучающей выборки по листу индексов слов\n",
        "# (разделение на короткие векторы)\n",
        "def getSetFromIndexes(wordIndexes, xLen, step): # функция принимает последовательность индексов, размер окна, шаг окна\n",
        "  xSample = [] # Объявляем переменную для векторов\n",
        "  wordsLen = len(wordIndexes) # Считаем количество слов\n",
        "  index = 0 # Задаем начальный индекс \n",
        "\n",
        "  while (index + xLen <= wordsLen):# Идём по всей длине вектора индексов\n",
        "    xSample.append(wordIndexes[index:index+xLen]) # \"Откусываем\" векторы длины xLen\n",
        "    index += step # Смещаеммся вперёд на step\n",
        "    \n",
        "  return xSample\n",
        "  \n",
        "# Формирование обучающей и проверочной выборки\n",
        "# Из двух листов индексов от двух классов\n",
        "def createSetsMultiClasses(wordIndexes, xLen, step): # Функция принимает последовательность индексов, размер окна, шаг окна\n",
        "\n",
        "  # Для каждого из 6 классов\n",
        "  # Создаём обучающую/проверочную выборку из индексов\n",
        "  nClasses = len(wordIndexes) # Задаем количество классов выборки\n",
        "  classesXSamples = []        # Здесь будет список размером \"кол-во классов*кол-во окон в тексте*длину окна (например, 6 по 1341*1000)\"\n",
        "  for wI in wordIndexes:      # Для каждого текста выборки из последовательности индексов\n",
        "    classesXSamples.append(getSetFromIndexes(wI, xLen, step)) # Добавляем в список очередной текст индексов, разбитый на \"кол-во окон*длину окна\" \n",
        "\n",
        "  # Формируем один общий xSamples\n",
        "  xSamples = [] # Здесь будет список размером \"суммарное кол-во окон во всех текстах*длину окна (например, 15779*1000)\"\n",
        "  ySamples = [] # Здесь будет список размером \"суммарное кол-во окон во всех текстах*вектор длиной 6\"\n",
        "  \n",
        "  for t in range(nClasses): # В диапазоне кол-ва классов(6)\n",
        "    xT = classesXSamples[t] # Берем очередной текст вида \"кол-во окон в тексте*длину окна\"(например, 1341*1000)\n",
        "    for i in range(len(xT)): # И каждое его окно\n",
        "      xSamples.append(xT[i]) # Добавляем в общий список выборки\n",
        "      ySamples.append(utils.to_categorical(t, nClasses)) # Добавляем соответствующий вектор класса\n",
        "\n",
        "  xSamples = np.array(xSamples) # Переводим в массив numpy для подачи в нейронку\n",
        "  ySamples = np.array(ySamples) # Переводим в массив numpy для подачи в нейронку\n",
        "\n",
        "  \n",
        "  return (xSamples, ySamples) #Функция возвращает выборку и соответствующие векторы классов\n"
      ],
      "execution_count": null,
      "outputs": []
    },
    {
      "cell_type": "code",
      "metadata": {
        "id": "HATTCYpDvsiB"
      },
      "source": [
        "# Класс строит график всего обучения, состоявшего из нескольких этапов.\n",
        "class LearnHistory:\n",
        "    def __init__(self):\n",
        "        self.history = {'loss':[], 'val_loss': []}\n",
        "\n",
        "    def append(self, history):\n",
        "        self.history['loss'].extend(history.history['loss'])\n",
        "        self.history['val_loss'].extend(history.history['val_loss'])\n",
        "\n",
        "    def plot(self, ylim=None):\n",
        "        ep = [i+1 for i in range(len(self.history['loss']))]\n",
        "        plt.plot(ep, self.history['loss'], label='MSE на обучающем наборе')\n",
        "        plt.plot(ep, self.history['val_loss'], label='MSE на проверочном наборе')\n",
        "        plt.ylabel('Средняя ошибка')\n",
        "        plt.xlabel('Эпоха')\n",
        "        if ylim is not None:\n",
        "            plt.ylim(0, ylim)\n",
        "        plt.title('История обучения')\n",
        "        plt.grid()\n",
        "        plt.legend()\n",
        "        plt.show()"
      ],
      "execution_count": 2,
      "outputs": []
    },
    {
      "cell_type": "code",
      "metadata": {
        "colab": {
          "base_uri": "https://localhost:8080/"
        },
        "id": "ZoIzr-fN7DKa",
        "outputId": "854fc312-feb9-456e-9107-e051198f0135"
      },
      "source": [
        "trainText = [] #Формируем обучающие тексты\n",
        "testText = [] #Формируем тестовые тексты\n",
        "\n",
        "#Формирование необходимо произвести следующим образом \n",
        "#Класс каждого i-ого эллемента в обучающей выборке должен соответствовать \n",
        "#классу каждого i-ого эллемента в тестовой выборке\n",
        "\n",
        "for i in className: #Проходим по каждому классу\n",
        "  for j in os.listdir('texts/'): #Проходим по каждому файлу в папке с текстами #\n",
        "    if i in j: #Проверяем, содержит ли файл j в названии имя класса i\n",
        "      \n",
        "      if 'Обучающая' in j: #Если в имени найденного класса есть строка \"Обучающая\" \n",
        "        trainText.append(readText('texts/' + j)) #добавляем в обучающую выборку\n",
        "        print(j, 'добавлен в обучающую выборку') #Выводим информацию\n",
        "      if 'Тестовая' in j: #Если в имени найденного класса есть строка \"Тестовая\"\n",
        "        testText.append(readText('texts/' + j)) #добавляем в обучающую выборку\n",
        "        print(j, 'добавлен в тестовую выборку') #Выводим информацию\n",
        "  print()"
      ],
      "execution_count": null,
      "outputs": [
        {
          "output_type": "stream",
          "text": [
            "(О. Генри) Тестовая_20 вместе.txt добавлен в тестовую выборку\n",
            "(О. Генри) Обучающая_50 вместе.txt добавлен в обучающую выборку\n",
            "\n",
            "(Стругацкие) Тестовая_2 вместе.txt добавлен в тестовую выборку\n",
            "(Стругацкие) Обучающая_5 вместе.txt добавлен в обучающую выборку\n",
            "\n",
            "(Булгаков) Обучающая_5 вместе.txt добавлен в обучающую выборку\n",
            "(Булгаков) Тестовая_2 вместе.txt добавлен в тестовую выборку\n",
            "\n",
            "(Клиффорд_Саймак) Тестовая_2 вместе.txt добавлен в тестовую выборку\n",
            "(Клиффорд_Саймак) Обучающая_5 вместе.txt добавлен в обучающую выборку\n",
            "\n",
            "(Макс Фрай) Тестовая_2 вместе.txt добавлен в тестовую выборку\n",
            "(Макс Фрай) Обучающая_5 вместе.txt добавлен в обучающую выборку\n",
            "\n",
            "(Рэй Брэдберри) Тестовая_8 вместе.txt добавлен в тестовую выборку\n",
            "(Рэй Брэдберри) Обучающая_22 вместе.txt добавлен в обучающую выборку\n",
            "\n"
          ],
          "name": "stdout"
        }
      ]
    },
    {
      "cell_type": "code",
      "metadata": {
        "id": "RMwhIRdQpu5Q"
      },
      "source": [
        "# Задаём базовые параметры\n",
        "xLen = 1000  # Длина отрезка текста, по которой анализируем, в словах\n",
        "step = 100  # Шаг разбиения исходного текста на обучающие векторы\n",
        "maxWordsCount = 50000\n",
        "tokenizer = Tokenizer(num_words=maxWordsCount, filters='!\"#$%&()*+,-–—./…:;<=>?@[\\\\]^_`{|}~«»\\t\\n\\xa0\\ufeff', lower=True, split=' ', oov_token='unknown', char_level=False)\n",
        "tokenizer.fit_on_texts(trainText)\n",
        "# Преобразовываем текст в последовательность индексов согласно частотному словарю\n",
        "trainWordIndexes = tokenizer.texts_to_sequences(trainText) # Обучающие тесты в индексы\n",
        "testWordIndexes = tokenizer.texts_to_sequences(testText)  # Проверочные тесты в индексы\n",
        "# Формируем обучающую и тестовую выборку\n",
        "xTrain, yTrain = createSetsMultiClasses(trainWordIndexes, xLen, step)  # извлекаем обучающую выборку\n",
        "xTest, yTest = createSetsMultiClasses(testWordIndexes, xLen, step)    # извлекаем тестовую выборку"
      ],
      "execution_count": null,
      "outputs": []
    },
    {
      "cell_type": "code",
      "metadata": {
        "colab": {
          "base_uri": "https://localhost:8080/"
        },
        "id": "PVHgvKvZpgRc",
        "outputId": "fc9419ba-fc6d-4f48-c446-6e742e04dabf"
      },
      "source": [
        "xTrain.shape, yTrain.shape, xTest.shape, yTest.shape"
      ],
      "execution_count": null,
      "outputs": [
        {
          "output_type": "execute_result",
          "data": {
            "text/plain": [
              "((17640, 1000), (17640, 6), (6686, 1000), (6686, 6))"
            ]
          },
          "metadata": {
            "tags": []
          },
          "execution_count": 8
        }
      ]
    },
    {
      "cell_type": "markdown",
      "metadata": {
        "id": "9JtU7W7dXTFf"
      },
      "source": [
        "### 2. Сделайте классификатор с embedding слоем в начале"
      ]
    },
    {
      "cell_type": "code",
      "metadata": {
        "id": "FWq4uaa0pgcj"
      },
      "source": [
        "def createEmbeddingModel(dim=128, xLen=1000, neurons=1024, activation='softmax'):\n",
        "    inp = Input(shape=(xLen))\n",
        "    emb = Embedding(maxWordsCount, dim, input_length=xLen)(inp)\n",
        "    x = SpatialDropout1D(0.2)(emb)\n",
        "    x = Flatten()(x)\n",
        "    x = BatchNormalization()(x)\n",
        "    x = Dense(neurons, activation=\"relu\")(x)\n",
        "    x = Dropout(0.2)(x)\n",
        "    x = BatchNormalization()(x)\n",
        "    out = Dense(6, activation='softmax')(x)\n",
        "\n",
        "    model = Model(inp, out)\n",
        "    embed = Model(inp, emb)\n",
        "\n",
        "    model.compile(optimizer='adam', \n",
        "                loss='categorical_crossentropy', \n",
        "                metrics=['accuracy'])\n",
        "    return model, embed"
      ],
      "execution_count": null,
      "outputs": []
    },
    {
      "cell_type": "markdown",
      "metadata": {
        "id": "k65hN1-VXkgZ"
      },
      "source": [
        "### 3. Обучите классификатор"
      ]
    },
    {
      "cell_type": "code",
      "metadata": {
        "id": "Q5hzw_G-mXAm"
      },
      "source": [
        "lh = LearnHistory()\n",
        "model, embed = createEmbeddingModel()"
      ],
      "execution_count": null,
      "outputs": []
    },
    {
      "cell_type": "code",
      "metadata": {
        "colab": {
          "base_uri": "https://localhost:8080/",
          "height": 635
        },
        "id": "7XNJzDTQpgiu",
        "outputId": "b3480b8d-a515-4d2f-9a45-5f1a06b328a0"
      },
      "source": [
        "\n",
        "history = model.fit(xTrain, \n",
        "                    yTrain, \n",
        "                    epochs=10,\n",
        "                    batch_size=128,\n",
        "                    verbose=1,\n",
        "                    validation_data=(xTest, yTest))\n",
        "lh.append(history)\n",
        "lh.plot()"
      ],
      "execution_count": null,
      "outputs": [
        {
          "output_type": "stream",
          "text": [
            "Epoch 1/10\n",
            "138/138 [==============================] - 18s 128ms/step - loss: 0.8671 - accuracy: 0.8342 - val_loss: 2.7205 - val_accuracy: 0.1612\n",
            "Epoch 2/10\n",
            "138/138 [==============================] - 17s 126ms/step - loss: 0.0074 - accuracy: 0.9995 - val_loss: 1.4418 - val_accuracy: 0.4313\n",
            "Epoch 3/10\n",
            "138/138 [==============================] - 17s 125ms/step - loss: 0.0021 - accuracy: 1.0000 - val_loss: 1.2568 - val_accuracy: 0.5129\n",
            "Epoch 4/10\n",
            "138/138 [==============================] - 17s 124ms/step - loss: 0.0011 - accuracy: 1.0000 - val_loss: 1.1763 - val_accuracy: 0.5636\n",
            "Epoch 5/10\n",
            "138/138 [==============================] - 17s 124ms/step - loss: 8.3661e-04 - accuracy: 1.0000 - val_loss: 1.1663 - val_accuracy: 0.6086\n",
            "Epoch 6/10\n",
            "138/138 [==============================] - 17s 124ms/step - loss: 5.1252e-04 - accuracy: 1.0000 - val_loss: 1.2090 - val_accuracy: 0.6231\n",
            "Epoch 7/10\n",
            "138/138 [==============================] - 17s 126ms/step - loss: 3.7164e-04 - accuracy: 1.0000 - val_loss: 1.2551 - val_accuracy: 0.6232\n",
            "Epoch 8/10\n",
            "138/138 [==============================] - 17s 124ms/step - loss: 2.8386e-04 - accuracy: 1.0000 - val_loss: 1.2596 - val_accuracy: 0.6268\n",
            "Epoch 9/10\n",
            "138/138 [==============================] - 17s 124ms/step - loss: 2.0208e-04 - accuracy: 1.0000 - val_loss: 1.2673 - val_accuracy: 0.6247\n",
            "Epoch 10/10\n",
            "138/138 [==============================] - 17s 126ms/step - loss: 1.8003e-04 - accuracy: 1.0000 - val_loss: 1.2766 - val_accuracy: 0.6244\n"
          ],
          "name": "stdout"
        },
        {
          "output_type": "display_data",
          "data": {
            "image/png": "[encoded data removed]",
            "text/plain": [
              "<Figure size 432x288 with 1 Axes>"
            ]
          },
          "metadata": {
            "tags": [],
            "needs_background": "light"
          }
        }
      ]
    },
    {
      "cell_type": "markdown",
      "metadata": {
        "id": "4EKUbOIRMl-Z"
      },
      "source": [
        "### 4. Возьмите предобученный embedding слой и перегоните все слова из полного словаря в embedding пространство\n"
      ]
    },
    {
      "cell_type": "markdown",
      "metadata": {
        "id": "nSg2o9nCMtnP"
      },
      "source": [
        "Наш словарь - это числа от 1 до 50000. Сеть принимает токены блоками по 1000, поэтому преобразуем словарь в двумерный массив:"
      ]
    },
    {
      "cell_type": "code",
      "metadata": {
        "id": "bmR6osiipgWb",
        "colab": {
          "base_uri": "https://localhost:8080/"
        },
        "outputId": "e6595fbe-b1db-4a10-d90c-b346f3d16cb4"
      },
      "source": [
        "ids = np.array([i for i in range(maxWordsCount)]).reshape(-1, xLen)\n",
        "ids.shape"
      ],
      "execution_count": null,
      "outputs": [
        {
          "output_type": "execute_result",
          "data": {
            "text/plain": [
              "(50, 1000)"
            ]
          },
          "metadata": {
            "tags": []
          },
          "execution_count": 13
        }
      ]
    },
    {
      "cell_type": "markdown",
      "metadata": {
        "id": "jCQX6ubjNM1w"
      },
      "source": [
        "Делаем предикт моделью embed:"
      ]
    },
    {
      "cell_type": "code",
      "metadata": {
        "id": "vPymZMAfnIBz",
        "colab": {
          "base_uri": "https://localhost:8080/"
        },
        "outputId": "8d3c30fc-193d-4ce0-bafc-624036683117"
      },
      "source": [
        "dim = 128\n",
        "zTrain = embed.predict(ids)\n",
        "zTrain = zTrain.reshape(-1, dim)\n",
        "zTrain.shape"
      ],
      "execution_count": null,
      "outputs": [
        {
          "output_type": "execute_result",
          "data": {
            "text/plain": [
              "(50000, 128)"
            ]
          },
          "metadata": {
            "tags": []
          },
          "execution_count": 14
        }
      ]
    },
    {
      "cell_type": "markdown",
      "metadata": {
        "id": "soVQ1MslNS9o"
      },
      "source": [
        "Получили 50000 векторов размерности 128"
      ]
    },
    {
      "cell_type": "markdown",
      "metadata": {
        "id": "gt5LpAHbMa6n"
      },
      "source": [
        "### 5. Запустите кластеризацию"
      ]
    },
    {
      "cell_type": "markdown",
      "metadata": {
        "id": "wZJ7jMR8Xz0t"
      },
      "source": [
        "Попробуем кластеризовать слова по писателям. "
      ]
    },
    {
      "cell_type": "code",
      "metadata": {
        "id": "kS4qFGCTN1Fb"
      },
      "source": [
        "km = KMeans(6)\n",
        "km.fit(zTrain)\n",
        "\n",
        "pred = km.predict(zTrain)"
      ],
      "execution_count": null,
      "outputs": []
    },
    {
      "cell_type": "code",
      "metadata": {
        "colab": {
          "base_uri": "https://localhost:8080/"
        },
        "id": "K_lLUSvJN1Am",
        "outputId": "4133aac5-cc91-403d-d3bb-ddf8eb7f8ccc"
      },
      "source": [
        "pred[:20]"
      ],
      "execution_count": null,
      "outputs": [
        {
          "output_type": "execute_result",
          "data": {
            "text/plain": [
              "array([3, 3, 2, 5, 0, 0, 4, 1, 3, 2, 2, 1, 0, 1, 4, 2, 2, 4, 3, 4],\n",
              "      dtype=int32)"
            ]
          },
          "metadata": {
            "tags": []
          },
          "execution_count": 55
        }
      ]
    },
    {
      "cell_type": "markdown",
      "metadata": {
        "id": "_1kObPSVQM32"
      },
      "source": [
        "Попробуем определить реальное число кластеров"
      ]
    },
    {
      "cell_type": "code",
      "metadata": {
        "colab": {
          "base_uri": "https://localhost:8080/",
          "height": 316
        },
        "id": "n2NPMmmIPopN",
        "outputId": "05006d77-6f08-4310-d610-a57e107d96b2"
      },
      "source": [
        "%%time\n",
        "n_clusters = 20               # Зададим количество кластеров\n",
        "cost = []                     # Создаем пустой список\n",
        "for i in range(1, n_clusters): # Пробегаем по списку от 1 до n_clusters\n",
        "    kmean = KMeans(i)           # Создаем объект KMeans с i-классами\n",
        "    kmean.fit(zTrain)   # Проводим кластеризацию zTrain\n",
        "    cost.append(kmean.inertia_) # Добавляем в cost элемент kmean.inertia_\n",
        "    print(i, end=' ')\n",
        "print()\n",
        "  \n",
        "# inertia_ - это среднее растояние от точек до центров их классов\n",
        "# Может использоваться для подбора оптимального количества классов \n",
        "\n",
        "# Отобразим значения списка cost на графике\n",
        "plt.plot([i for i in range(1, n_clusters)], cost, 'bx-')\n",
        "plt.show()"
      ],
      "execution_count": null,
      "outputs": [
        {
          "output_type": "stream",
          "text": [
            "1 2 3 4 5 6 7 8 9 10 11 12 13 14 15 16 17 18 19 \n"
          ],
          "name": "stdout"
        },
        {
          "output_type": "display_data",
          "data": {
            "image/png": "[encoded data removed]",
            "text/plain": [
              "<Figure size 432x288 with 1 Axes>"
            ]
          },
          "metadata": {
            "tags": [],
            "needs_background": "light"
          }
        },
        {
          "output_type": "stream",
          "text": [
            "CPU times: user 15min 37s, sys: 1min 23s, total: 17min 1s\n",
            "Wall time: 15min 17s\n"
          ],
          "name": "stdout"
        }
      ]
    },
    {
      "cell_type": "markdown",
      "metadata": {
        "id": "GGZJkVwRWjnu"
      },
      "source": [
        "### 6. Выведите устойчивые классы слов"
      ]
    },
    {
      "cell_type": "markdown",
      "metadata": {
        "id": "hGYBzuM3U672"
      },
      "source": [
        "Мы получили очень плавную линию без явно выраженных \"локтей\". Такой результат говорит о том, что векторы в эмбеддинг-пространстве образуют некоторое единое связное \"облако\" и не распадаются на ярко выраженные кластеры - \"кучки\".\n",
        "\n",
        "Тем не менее можно попробовать разбить все векторы на некоторое произвольное число классов."
      ]
    },
    {
      "cell_type": "code",
      "metadata": {
        "id": "jx7s77KFPokj"
      },
      "source": [
        "km = KMeans(200)\n",
        "km.fit(zTrain)\n",
        "\n",
        "pred = km.predict(zTrain)"
      ],
      "execution_count": null,
      "outputs": []
    },
    {
      "cell_type": "code",
      "metadata": {
        "colab": {
          "base_uri": "https://localhost:8080/"
        },
        "id": "PJom3g_wqCO2",
        "outputId": "63e900f8-3c01-4ffd-ad93-2c7f6a52a17a"
      },
      "source": [
        "pred[:10]"
      ],
      "execution_count": null,
      "outputs": [
        {
          "output_type": "execute_result",
          "data": {
            "text/plain": [
              "array([198,  44,  51, 102,  95, 135, 117, 137, 152,  59], dtype=int32)"
            ]
          },
          "metadata": {
            "tags": []
          },
          "execution_count": 17
        }
      ]
    },
    {
      "cell_type": "code",
      "metadata": {
        "colab": {
          "base_uri": "https://localhost:8080/"
        },
        "id": "d9ai308asDtq",
        "outputId": "4282bd46-19bc-41c4-aedc-5ce8c6ac593f"
      },
      "source": [
        "voc = [i for i in range(50000)]\n",
        "voc[:10]"
      ],
      "execution_count": null,
      "outputs": [
        {
          "output_type": "execute_result",
          "data": {
            "text/plain": [
              "[0, 1, 2, 3, 4, 5, 6, 7, 8, 9]"
            ]
          },
          "metadata": {
            "tags": []
          },
          "execution_count": 26
        }
      ]
    },
    {
      "cell_type": "code",
      "metadata": {
        "colab": {
          "base_uri": "https://localhost:8080/"
        },
        "id": "oTwhxG0cpz-H",
        "outputId": "a1933d7f-f046-4ff1-fb4d-e4473ea2ed87"
      },
      "source": [
        "\n",
        "for i in range(10): # Посмотрим на первые 10 (из 200) кластеров.\n",
        "    cnt = 0\n",
        "    print(\"cluster #%d\"%i, end=\": \")\n",
        "    for j in range(50000):\n",
        "        if pred[j] == i:\n",
        "            print(tokenizer.index_word[j], end=\" \")\n",
        "            cnt += 1\n",
        "            if cnt == 20:\n",
        "                print()\n",
        "                break\n"
      ],
      "execution_count": null,
      "outputs": [
        {
          "output_type": "stream",
          "text": [
            "cluster #0: хочешь руками столь например ужас пробормотал девушка давным билл слышали советник бормотал носу попробую тротуара середине побывал страшное впредь госпожи \n",
            "cluster #1: четыре повернулся ответ дороги шли разных рассказал стараясь извлек непонятно распахнул темноту красные оглядел бессмысленно собственную фигура дне дважды горел \n",
            "cluster #2: миссис никого думать спросила письмо нашем спину принял явился впечатление вашу пошла дорога пусто мартин малыш лета кровать бояться герцога \n",
            "cluster #3: времени будем забыл разу дедушка травы кухне ушли порой собака помещение попросить воздуха рождения канцелярии шутки сошел форму расстоянии михаил \n",
            "cluster #4: может стоял вслед умер имел большинство радио любое надолго помог всякую уходить надпись согласилась даром набрал получше позвонил мальчишек шкалика \n",
            "cluster #5: каких телефон прежнему встал оба дона холма извини больно палец пятьсот собственные бывают долгие накануне большей взялись афины парке уно \n",
            "cluster #6: другого сил ох внимания дыхание увидеть настроение вышла скажешь здание деревьями идите исчезло особого красном слову великой озадаченно сказки жрать \n",
            "cluster #7: себя без тогда этих наверное остановился второго ужасом выяснилось двенадцать прочих названием деловито великое звонил счел метров маленьким публики чувствуешь \n",
            "cluster #8: очень одну неделю билли сердито закрыл многое элен мило творится забыли министр злобно задумался поисках отступил входит делаешь чувствует мария \n",
            "cluster #9: кому вид наверняка другое тяжело дьявол новое справа рта подал белой говори веки привести марии казались почтительно давал делам помимо \n"
          ],
          "name": "stdout"
        }
      ]
    },
    {
      "cell_type": "markdown",
      "metadata": {
        "id": "vajgACovV34g"
      },
      "source": [
        "### 7. Проведите для разного числа классов и разной размерности embedding пространства\n"
      ]
    },
    {
      "cell_type": "markdown",
      "metadata": {
        "id": "n0fLVYAIYZZi"
      },
      "source": [
        "Поскольку на размерности 128 облако не кластеризовалось, попробуем другую размерность."
      ]
    },
    {
      "cell_type": "code",
      "metadata": {
        "colab": {
          "base_uri": "https://localhost:8080/",
          "height": 635
        },
        "id": "umVQCaafPotF",
        "outputId": "cf9ccfa8-550d-4acc-98c4-0a407620a453"
      },
      "source": [
        "dim = 256\n",
        "lh = LearnHistory()\n",
        "model2, embed2 = createEmbeddingModel(dim=dim)\n",
        "history = model2.fit(xTrain, \n",
        "                    yTrain, \n",
        "                    epochs=10,\n",
        "                    batch_size=128,\n",
        "                    verbose=1,\n",
        "                    validation_data=(xTest, yTest))\n",
        "lh.append(history)\n",
        "lh.plot()"
      ],
      "execution_count": null,
      "outputs": [
        {
          "output_type": "stream",
          "text": [
            "Epoch 1/10\n",
            "138/138 [==============================] - 32s 232ms/step - loss: 0.5468 - accuracy: 0.8537 - val_loss: 1.6520 - val_accuracy: 0.3757\n",
            "Epoch 2/10\n",
            "138/138 [==============================] - 32s 230ms/step - loss: 0.0114 - accuracy: 1.0000 - val_loss: 1.4211 - val_accuracy: 0.3802\n",
            "Epoch 3/10\n",
            "138/138 [==============================] - 32s 232ms/step - loss: 0.0030 - accuracy: 1.0000 - val_loss: 1.2548 - val_accuracy: 0.4975\n",
            "Epoch 4/10\n",
            "138/138 [==============================] - 32s 229ms/step - loss: 0.0016 - accuracy: 1.0000 - val_loss: 1.0994 - val_accuracy: 0.5872\n",
            "Epoch 5/10\n",
            "138/138 [==============================] - 32s 231ms/step - loss: 0.0010 - accuracy: 1.0000 - val_loss: 1.0772 - val_accuracy: 0.6140\n",
            "Epoch 6/10\n",
            "138/138 [==============================] - 32s 231ms/step - loss: 7.2933e-04 - accuracy: 1.0000 - val_loss: 1.0924 - val_accuracy: 0.6197\n",
            "Epoch 7/10\n",
            "138/138 [==============================] - 32s 230ms/step - loss: 5.7442e-04 - accuracy: 1.0000 - val_loss: 1.0929 - val_accuracy: 0.6261\n",
            "Epoch 8/10\n",
            "138/138 [==============================] - 32s 228ms/step - loss: 4.5270e-04 - accuracy: 1.0000 - val_loss: 1.0895 - val_accuracy: 0.6328\n",
            "Epoch 9/10\n",
            "138/138 [==============================] - 32s 230ms/step - loss: 3.5132e-04 - accuracy: 1.0000 - val_loss: 1.0943 - val_accuracy: 0.6319\n",
            "Epoch 10/10\n",
            "138/138 [==============================] - 32s 231ms/step - loss: 3.0271e-04 - accuracy: 1.0000 - val_loss: 1.1033 - val_accuracy: 0.6337\n"
          ],
          "name": "stdout"
        },
        {
          "output_type": "display_data",
          "data": {
            "image/png": "[encoded data removed]",
            "text/plain": [
              "<Figure size 432x288 with 1 Axes>"
            ]
          },
          "metadata": {
            "tags": [],
            "needs_background": "light"
          }
        }
      ]
    },
    {
      "cell_type": "code",
      "metadata": {
        "colab": {
          "base_uri": "https://localhost:8080/"
        },
        "id": "2fk8LCDfPoxX",
        "outputId": "0d4d80a0-488f-4b42-bf85-9817a872758e"
      },
      "source": [
        "zTrain2 = embed2.predict(ids)\n",
        "zTrain2 = zTrain2.reshape(-1, dim)\n",
        "zTrain2.shape"
      ],
      "execution_count": null,
      "outputs": [
        {
          "output_type": "execute_result",
          "data": {
            "text/plain": [
              "(50000, 256)"
            ]
          },
          "metadata": {
            "tags": []
          },
          "execution_count": 70
        }
      ]
    },
    {
      "cell_type": "code",
      "metadata": {
        "colab": {
          "base_uri": "https://localhost:8080/",
          "height": 316
        },
        "id": "BJL-mfBEPo1c",
        "outputId": "9dcfcd40-f53f-4c1c-eeb4-9fca5e94c79c"
      },
      "source": [
        "%%time\n",
        "n_clusters = 20               # Зададим количество кластеров\n",
        "cost = []                     # Создаем пустой список\n",
        "for i in range(1, n_clusters): # Пробегаем по списку от 1 до n_clusters\n",
        "    kmean = KMeans(i)           # Создаем объект KMeans с i-классами\n",
        "    kmean.fit(zTrain2)   # Проводим кластеризацию zTrain2\n",
        "    cost.append(kmean.inertia_) # Добавляем в cost элемент kmean.inertia_\n",
        "    print(i, end=' ')\n",
        "print()\n",
        "\n",
        "# Отобразим значения списка cost на графике\n",
        "plt.plot([i for i in range(1, n_clusters)], cost, 'bx-')\n",
        "plt.show()"
      ],
      "execution_count": null,
      "outputs": [
        {
          "output_type": "stream",
          "text": [
            "1 2 3 4 5 6 7 8 9 10 11 12 13 14 15 16 17 18 19 \n"
          ],
          "name": "stdout"
        },
        {
          "output_type": "display_data",
          "data": {
            "image/png": "[encoded data removed]",
            "text/plain": [
              "<Figure size 432x288 with 1 Axes>"
            ]
          },
          "metadata": {
            "tags": [],
            "needs_background": "light"
          }
        },
        {
          "output_type": "stream",
          "text": [
            "CPU times: user 28min 47s, sys: 2min 16s, total: 31min 3s\n",
            "Wall time: 28min 8s\n"
          ],
          "name": "stdout"
        }
      ]
    },
    {
      "cell_type": "markdown",
      "metadata": {
        "id": "rBBAeDQMzqit"
      },
      "source": [
        "Видим, что после увеличения размерности эмбеддинга в 2 раза картина не изменилась, явных кластеров нет. "
      ]
    },
    {
      "cell_type": "markdown",
      "metadata": {
        "id": "WRyLfu0wnE50"
      },
      "source": [
        "### 8. Выводы\n",
        "\n",
        "Распределение векторов в эмбеддинг-пространстве не фрагментируется на обособленные \"кучки\" - кластеры. Если разбить векторы на некоторое произвольно выбранное число групп (например 200), то в одну группу попадают слова совершенно разного смысла, не имеющие ничего общего. \n",
        "\n",
        "Я считаю, что причина этого в неудачном выборе признака для классификации. В нашем случае признаков всего 6 (писатели), и классифицировались не отдельные слова, а фрагменты в 1000 слов. Сам же словарь был общим для всех писателей, одно и то же слово может встречаться почти у всех писателей. Поэтому сеть не смогла распознать семантику слов при такой классификации.\n",
        "\n",
        "Для удачной кластеризации число признаков должно соответствовать числу кластеров (как в случае задания про MNIST), и признаки должны относиться к отдельным словам, а не фрагментам текста."
      ]
    },
    {
      "cell_type": "markdown",
      "metadata": {
        "id": "etOytBcAlrwb"
      },
      "source": [
        "# PRO задание. Вариант 3\n",
        "Сделать классификацию цифр mnist, используя только Xtrain (без Ytrain). \n",
        "\n",
        "Предобучите автокодировщик.\n",
        "\n",
        "Возьмите предобученный encoder\n",
        "\n",
        "Кластеризовать скрытое пространство, полученное из encoder (т.е. Кластеризовать изображения, так как при подаче изображения на вход encoder’у получится скрытое пространство)\n"
      ]
    },
    {
      "cell_type": "code",
      "metadata": {
        "id": "RRjc6q7LmkDu",
        "colab": {
          "base_uri": "https://localhost:8080/"
        },
        "outputId": "53a3bb6e-4aa7-4e35-fe2b-7c52ba64ca7e"
      },
      "source": [
        "(x_train, y_train), (_, _) = mnist.load_data()\n",
        "X = x_train.astype(np.float32)/255.\n",
        "X = np.expand_dims(X, -1)\n",
        "X.shape, X.dtype"
      ],
      "execution_count": 3,
      "outputs": [
        {
          "output_type": "stream",
          "text": [
            "Downloading data from https://storage.googleapis.com/tensorflow/tf-keras-datasets/mnist.npz\n",
            "11493376/11490434 [==============================] - 0s 0us/step\n"
          ],
          "name": "stdout"
        },
        {
          "output_type": "execute_result",
          "data": {
            "text/plain": [
              "((60000, 28, 28, 1), dtype('float32'))"
            ]
          },
          "metadata": {
            "tags": []
          },
          "execution_count": 3
        }
      ]
    },
    {
      "cell_type": "markdown",
      "metadata": {
        "id": "YEKnYN0awOD8"
      },
      "source": [
        "## dim = 100"
      ]
    },
    {
      "cell_type": "code",
      "metadata": {
        "id": "LDYakE4shG8c"
      },
      "source": [
        "def Autoencoder(shape=(28, 28, 1), latent_dim=100): \n",
        "    img_input = Input((shape)) \n",
        "    x = Conv2D(64, (3, 3), padding='same', activation='relu')(img_input) \n",
        "    x = BatchNormalization()(x) \n",
        "    x = Conv2D(64, (3, 3), padding='same', activation='relu')(x) \n",
        "    x = BatchNormalization()(x) \n",
        "    x = Conv2D(64, (3, 3), padding='same', activation='relu')(x) \n",
        "    x = BatchNormalization()(x) \n",
        "    x = MaxPooling2D()(x) \n",
        "\n",
        "    x = Conv2D(128, (3, 3), padding='same', activation='relu')(x) \n",
        "    x = BatchNormalization()(x)  \n",
        "    x = Conv2D(128, (3, 3), padding='same', activation='relu')(x)  \n",
        "    x = BatchNormalization()(x) \n",
        "    x = Conv2D(128, (3, 3), padding='same', activation='relu')(x)  \n",
        "    x = BatchNormalization()(x) \n",
        "    x = MaxPooling2D()(x) \n",
        "    x = Flatten()(x)\n",
        "    \n",
        "    z = Dense(latent_dim, name=\"latent_space\")(x)\n",
        "\n",
        "    x = Dense(7*7*128)(z)\n",
        "    x = Reshape((7, 7, 128))(x)\n",
        "    x = Conv2DTranspose(128, (2, 2), strides=(2, 2), padding='same', activation='relu')(x) \n",
        "    x = BatchNormalization()(x) \n",
        "    \n",
        "    x = Conv2D(128, (3, 3), padding='same', activation='relu')(x) \n",
        "    x = BatchNormalization()(x) \n",
        "    x = Conv2D(128, (3, 3), padding='same', activation='relu')(x) \n",
        "    x = BatchNormalization()(x) \n",
        "    x = Conv2D(128, (3, 3), padding='same', activation='relu')(x) \n",
        "    x = BatchNormalization()(x) \n",
        "\n",
        "    x = Conv2DTranspose(64, (2, 2), strides=(2, 2), padding='same', activation='relu')(x) \n",
        "    x = BatchNormalization()(x) \n",
        "    x = Conv2D(64, (3, 3), padding='same', activation='relu')(x)\n",
        "    x = BatchNormalization()(x) \n",
        "    x = Conv2D(64, (3, 3), padding='same', activation='relu')(x) \n",
        "    x = BatchNormalization()(x) \n",
        "    x = Conv2D(64, (3, 3), padding='same', activation='relu')(x) \n",
        "    x = BatchNormalization()(x) \n",
        "\n",
        "    out = Conv2D(1, (3, 3), activation='sigmoid', padding='same')(x)\n",
        "\n",
        "    model = Model(img_input, out) \n",
        "    encoder = Model(img_input, z)\n",
        "\n",
        "    model.compile(optimizer=Adam(lr=0.0001), loss='mean_squared_error') \n",
        "\n",
        "    return model, encoder"
      ],
      "execution_count": 4,
      "outputs": []
    },
    {
      "cell_type": "code",
      "metadata": {
        "id": "jaS7OF68g3PT"
      },
      "source": [
        "ae, enc = Autoencoder((28, 28, 1))\n",
        "lh = LearnHistory()"
      ],
      "execution_count": 23,
      "outputs": []
    },
    {
      "cell_type": "code",
      "metadata": {
        "colab": {
          "base_uri": "https://localhost:8080/"
        },
        "id": "yCAhECDPlbCg",
        "outputId": "b988a810-ad96-4bae-ab75-2251b6511a6c"
      },
      "source": [
        "ae.summary()"
      ],
      "execution_count": 24,
      "outputs": [
        {
          "output_type": "stream",
          "text": [
            "Model: \"functional_5\"\n",
            "_________________________________________________________________\n",
            "Layer (type)                 Output Shape              Param #   \n",
            "=================================================================\n",
            "input_2 (InputLayer)         [(None, 28, 28, 1)]       0         \n",
            "_________________________________________________________________\n",
            "conv2d_13 (Conv2D)           (None, 28, 28, 64)        640       \n",
            "_________________________________________________________________\n",
            "batch_normalization_14 (Batc (None, 28, 28, 64)        256       \n",
            "_________________________________________________________________\n",
            "conv2d_14 (Conv2D)           (None, 28, 28, 64)        36928     \n",
            "_________________________________________________________________\n",
            "batch_normalization_15 (Batc (None, 28, 28, 64)        256       \n",
            "_________________________________________________________________\n",
            "conv2d_15 (Conv2D)           (None, 28, 28, 64)        36928     \n",
            "_________________________________________________________________\n",
            "batch_normalization_16 (Batc (None, 28, 28, 64)        256       \n",
            "_________________________________________________________________\n",
            "max_pooling2d_2 (MaxPooling2 (None, 14, 14, 64)        0         \n",
            "_________________________________________________________________\n",
            "conv2d_16 (Conv2D)           (None, 14, 14, 128)       73856     \n",
            "_________________________________________________________________\n",
            "batch_normalization_17 (Batc (None, 14, 14, 128)       512       \n",
            "_________________________________________________________________\n",
            "conv2d_17 (Conv2D)           (None, 14, 14, 128)       147584    \n",
            "_________________________________________________________________\n",
            "batch_normalization_18 (Batc (None, 14, 14, 128)       512       \n",
            "_________________________________________________________________\n",
            "conv2d_18 (Conv2D)           (None, 14, 14, 128)       147584    \n",
            "_________________________________________________________________\n",
            "batch_normalization_19 (Batc (None, 14, 14, 128)       512       \n",
            "_________________________________________________________________\n",
            "max_pooling2d_3 (MaxPooling2 (None, 7, 7, 128)         0         \n",
            "_________________________________________________________________\n",
            "flatten_1 (Flatten)          (None, 6272)              0         \n",
            "_________________________________________________________________\n",
            "latent_space (Dense)         (None, 100)               627300    \n",
            "_________________________________________________________________\n",
            "dense_1 (Dense)              (None, 6272)              633472    \n",
            "_________________________________________________________________\n",
            "reshape_1 (Reshape)          (None, 7, 7, 128)         0         \n",
            "_________________________________________________________________\n",
            "conv2d_transpose_2 (Conv2DTr (None, 14, 14, 128)       65664     \n",
            "_________________________________________________________________\n",
            "batch_normalization_20 (Batc (None, 14, 14, 128)       512       \n",
            "_________________________________________________________________\n",
            "conv2d_19 (Conv2D)           (None, 14, 14, 128)       147584    \n",
            "_________________________________________________________________\n",
            "batch_normalization_21 (Batc (None, 14, 14, 128)       512       \n",
            "_________________________________________________________________\n",
            "conv2d_20 (Conv2D)           (None, 14, 14, 128)       147584    \n",
            "_________________________________________________________________\n",
            "batch_normalization_22 (Batc (None, 14, 14, 128)       512       \n",
            "_________________________________________________________________\n",
            "conv2d_21 (Conv2D)           (None, 14, 14, 128)       147584    \n",
            "_________________________________________________________________\n",
            "batch_normalization_23 (Batc (None, 14, 14, 128)       512       \n",
            "_________________________________________________________________\n",
            "conv2d_transpose_3 (Conv2DTr (None, 28, 28, 64)        32832     \n",
            "_________________________________________________________________\n",
            "batch_normalization_24 (Batc (None, 28, 28, 64)        256       \n",
            "_________________________________________________________________\n",
            "conv2d_22 (Conv2D)           (None, 28, 28, 64)        36928     \n",
            "_________________________________________________________________\n",
            "batch_normalization_25 (Batc (None, 28, 28, 64)        256       \n",
            "_________________________________________________________________\n",
            "conv2d_23 (Conv2D)           (None, 28, 28, 64)        36928     \n",
            "_________________________________________________________________\n",
            "batch_normalization_26 (Batc (None, 28, 28, 64)        256       \n",
            "_________________________________________________________________\n",
            "conv2d_24 (Conv2D)           (None, 28, 28, 64)        36928     \n",
            "_________________________________________________________________\n",
            "batch_normalization_27 (Batc (None, 28, 28, 64)        256       \n",
            "_________________________________________________________________\n",
            "conv2d_25 (Conv2D)           (None, 28, 28, 1)         577       \n",
            "=================================================================\n",
            "Total params: 2,362,277\n",
            "Trainable params: 2,359,589\n",
            "Non-trainable params: 2,688\n",
            "_________________________________________________________________\n"
          ],
          "name": "stdout"
        }
      ]
    },
    {
      "cell_type": "code",
      "metadata": {
        "colab": {
          "base_uri": "https://localhost:8080/"
        },
        "id": "YspHAfj1lc3f",
        "outputId": "05857cb4-33fd-41ca-e902-37d5bd8f33a5"
      },
      "source": [
        "history = ae.fit(X, X, epochs=20, batch_size=300, validation_split=0.1)"
      ],
      "execution_count": 25,
      "outputs": [
        {
          "output_type": "stream",
          "text": [
            "Epoch 1/20\n",
            "  2/180 [..............................] - ETA: 6s - loss: 0.2726WARNING:tensorflow:Callbacks method `on_train_batch_end` is slow compared to the batch time (batch time: 0.0086s vs `on_train_batch_end` time: 0.0455s). Check your callbacks.\n",
            "180/180 [==============================] - ETA: 0s - loss: 0.0751WARNING:tensorflow:Callbacks method `on_test_batch_end` is slow compared to the batch time (batch time: 0.0035s vs `on_test_batch_end` time: 0.0115s). Check your callbacks.\n",
            "180/180 [==============================] - 10s 54ms/step - loss: 0.0751 - val_loss: 0.1030\n",
            "Epoch 2/20\n",
            "180/180 [==============================] - 10s 53ms/step - loss: 0.0255 - val_loss: 0.0761\n",
            "Epoch 3/20\n",
            "180/180 [==============================] - 10s 53ms/step - loss: 0.0106 - val_loss: 0.0126\n",
            "Epoch 4/20\n",
            "180/180 [==============================] - 10s 53ms/step - loss: 0.0072 - val_loss: 0.0079\n",
            "Epoch 5/20\n",
            "180/180 [==============================] - 9s 53ms/step - loss: 0.0057 - val_loss: 0.0080\n",
            "Epoch 6/20\n",
            "180/180 [==============================] - 9s 53ms/step - loss: 0.0049 - val_loss: 0.0061\n",
            "Epoch 7/20\n",
            "180/180 [==============================] - 10s 53ms/step - loss: 0.0043 - val_loss: 0.0053\n",
            "Epoch 8/20\n",
            "180/180 [==============================] - 9s 53ms/step - loss: 0.0039 - val_loss: 0.0042\n",
            "Epoch 9/20\n",
            "180/180 [==============================] - 10s 53ms/step - loss: 0.0036 - val_loss: 0.0041\n",
            "Epoch 10/20\n",
            "180/180 [==============================] - 9s 53ms/step - loss: 0.0033 - val_loss: 0.0039\n",
            "Epoch 11/20\n",
            "180/180 [==============================] - 10s 53ms/step - loss: 0.0032 - val_loss: 0.0035\n",
            "Epoch 12/20\n",
            "180/180 [==============================] - 10s 53ms/step - loss: 0.0030 - val_loss: 0.0035\n",
            "Epoch 13/20\n",
            "180/180 [==============================] - 10s 53ms/step - loss: 0.0028 - val_loss: 0.0031\n",
            "Epoch 14/20\n",
            "180/180 [==============================] - 10s 53ms/step - loss: 0.0027 - val_loss: 0.0030\n",
            "Epoch 15/20\n",
            "180/180 [==============================] - 10s 53ms/step - loss: 0.0026 - val_loss: 0.0029\n",
            "Epoch 16/20\n",
            "180/180 [==============================] - 10s 53ms/step - loss: 0.0025 - val_loss: 0.0028\n",
            "Epoch 17/20\n",
            "180/180 [==============================] - 10s 53ms/step - loss: 0.0024 - val_loss: 0.0027\n",
            "Epoch 18/20\n",
            "180/180 [==============================] - 10s 53ms/step - loss: 0.0024 - val_loss: 0.0029\n",
            "Epoch 19/20\n",
            "180/180 [==============================] - 10s 53ms/step - loss: 0.0023 - val_loss: 0.0026\n",
            "Epoch 20/20\n",
            "180/180 [==============================] - 10s 53ms/step - loss: 0.0022 - val_loss: 0.0026\n"
          ],
          "name": "stdout"
        }
      ]
    },
    {
      "cell_type": "markdown",
      "metadata": {
        "id": "UvzhUQDd0wZm"
      },
      "source": [
        "Сравним выход и вход автоэнкодера"
      ]
    },
    {
      "cell_type": "code",
      "metadata": {
        "id": "KYrD97TytlbD"
      },
      "source": [
        "pred = ae.predict(X)"
      ],
      "execution_count": 26,
      "outputs": []
    },
    {
      "cell_type": "code",
      "metadata": {
        "colab": {
          "base_uri": "https://localhost:8080/",
          "height": 323
        },
        "id": "A0pnvumiqvHv",
        "outputId": "a0176bad-0abd-4940-af1f-7e164e33b7a8"
      },
      "source": [
        "plt.figure(figsize=(20,6))\n",
        "shift = np.random.randint(1000)\n",
        "for i in range(10):\n",
        "    plt.subplot(2, 10, 1+i)\n",
        "    plt.imshow(X[y_train == i][shift].reshape(28,28), cmap='gray')\n",
        "    plt.subplot(2, 10, 11+i)\n",
        "    plt.imshow(pred[y_train == i][shift].reshape(28,28), cmap='gray')\n",
        "plt.show()"
      ],
      "execution_count": 27,
      "outputs": [
        {
          "output_type": "display_data",
          "data": {
            "image/png": "[encoded data removed]",
            "text/plain": [
              "<Figure size 1440x432 with 20 Axes>"
            ]
          },
          "metadata": {
            "tags": [],
            "needs_background": "light"
          }
        }
      ]
    },
    {
      "cell_type": "markdown",
      "metadata": {
        "id": "MwFM3XRA09cL"
      },
      "source": [
        "Выведем все векторы в скрытом пространстве"
      ]
    },
    {
      "cell_type": "code",
      "metadata": {
        "colab": {
          "base_uri": "https://localhost:8080/"
        },
        "id": "Kn_4sBLqtjxh",
        "outputId": "88a68aef-2b6e-4fa5-830b-83e1399c9fb5"
      },
      "source": [
        "z_train = enc.predict(X)\n",
        "z_train.shape, z_train.std()"
      ],
      "execution_count": 39,
      "outputs": [
        {
          "output_type": "execute_result",
          "data": {
            "text/plain": [
              "((60000, 100), 7.265688)"
            ]
          },
          "metadata": {
            "tags": []
          },
          "execution_count": 39
        }
      ]
    },
    {
      "cell_type": "code",
      "metadata": {
        "colab": {
          "base_uri": "https://localhost:8080/",
          "height": 327
        },
        "id": "8s5nTiu0ukTK",
        "outputId": "ffda6387-e1cb-4727-b30c-ff99058e8980"
      },
      "source": [
        "%%time\n",
        "n_clusters = 20               # Зададим количество кластеров\n",
        "cost = []                     # Создаем пустой список\n",
        "for i in range(1, n_clusters+1): # Пробегаем по списку от 1 до n_clusters\n",
        "    kmean = KMeans(i)           # Создаем объект KMeans с i-классами\n",
        "    kmean.fit(z_train)   # Проводим кластеризацию z_train\n",
        "    cost.append(kmean.inertia_) # Добавляем в cost элемент kmean.inertia_\n",
        "    print(i, end=' ')\n",
        "print()\n",
        "\n",
        "# Отобразим значения списка cost на графике\n",
        "plt.plot([i for i in range(1, n_clusters+1)], cost, 'bx-')\n",
        "plt.show()"
      ],
      "execution_count": null,
      "outputs": [
        {
          "output_type": "stream",
          "text": [
            "1 2 3 4 5 6 7 8 9 10 11 12 13 14 15 16 17 18 19 20 \n"
          ],
          "name": "stdout"
        },
        {
          "output_type": "display_data",
          "data": {
            "image/png": "[encoded data removed]",
            "text/plain": [
              "<Figure size 432x288 with 1 Axes>"
            ]
          },
          "metadata": {
            "tags": [],
            "needs_background": "light"
          }
        },
        {
          "output_type": "stream",
          "text": [
            "CPU times: user 6min 10s, sys: 1min 32s, total: 7min 43s\n",
            "Wall time: 5min 52s\n"
          ],
          "name": "stdout"
        }
      ]
    },
    {
      "cell_type": "markdown",
      "metadata": {
        "id": "HClLfcE5Co2R"
      },
      "source": [
        "Кривая величины inertia_ не показала явной кластеризации на 10 кластеров."
      ]
    },
    {
      "cell_type": "code",
      "metadata": {
        "colab": {
          "base_uri": "https://localhost:8080/"
        },
        "id": "NwPR3j0J-N-y",
        "outputId": "2bd36f2e-9766-4a8d-b046-dadd09e0d318"
      },
      "source": [
        "km = KMeans(10)\n",
        "km.fit(z_train)\n",
        "\n",
        "pred = km.predict(z_train)\n",
        "print(homogeneity_score(y_train, pred))"
      ],
      "execution_count": 40,
      "outputs": [
        {
          "output_type": "stream",
          "text": [
            "0.5148530212844681\n"
          ],
          "name": "stdout"
        }
      ]
    },
    {
      "cell_type": "markdown",
      "metadata": {
        "id": "-B43EWwNAHir"
      },
      "source": [
        "Метрика [homogeneity_score](https://scikit-learn.org/stable/modules/generated/sklearn.metrics.homogeneity_score.html) показала 51% совпадение меток с кластерами, найденными методом KMeans"
      ]
    },
    {
      "cell_type": "markdown",
      "metadata": {
        "id": "ZIC-wibjFbaJ"
      },
      "source": [
        "## dim = 2\n",
        "\n",
        "Попробуем уменьшить размерность скрытого пространства с 100 до 2. Это ухудшит точность воспроизведения автоэнкодера, но зато позволит наглядно визуализировать результаты."
      ]
    },
    {
      "cell_type": "code",
      "metadata": {
        "id": "UeKeykhX1bxG"
      },
      "source": [
        "ae2, enc2 = Autoencoder((28, 28, 1), latent_dim=2)\n",
        "lh = LearnHistory()"
      ],
      "execution_count": 31,
      "outputs": []
    },
    {
      "cell_type": "code",
      "metadata": {
        "colab": {
          "base_uri": "https://localhost:8080/"
        },
        "id": "VOSrKPhq8nP5",
        "outputId": "abae9fd5-57de-46f5-a083-fc6b5393a784"
      },
      "source": [
        "history = ae2.fit(X, X, epochs=20, batch_size=300, validation_split=0.1)"
      ],
      "execution_count": 32,
      "outputs": [
        {
          "output_type": "stream",
          "text": [
            "Epoch 1/20\n",
            "  2/180 [..............................] - ETA: 5s - loss: 0.2747WARNING:tensorflow:Callbacks method `on_train_batch_end` is slow compared to the batch time (batch time: 0.0105s vs `on_train_batch_end` time: 0.0427s). Check your callbacks.\n",
            "180/180 [==============================] - ETA: 0s - loss: 0.0924WARNING:tensorflow:Callbacks method `on_test_batch_end` is slow compared to the batch time (batch time: 0.0034s vs `on_test_batch_end` time: 0.0119s). Check your callbacks.\n",
            "180/180 [==============================] - 10s 54ms/step - loss: 0.0924 - val_loss: 0.0992\n",
            "Epoch 2/20\n",
            "180/180 [==============================] - 9s 53ms/step - loss: 0.0608 - val_loss: 0.0900\n",
            "Epoch 3/20\n",
            "180/180 [==============================] - 10s 53ms/step - loss: 0.0503 - val_loss: 0.0580\n",
            "Epoch 4/20\n",
            "180/180 [==============================] - 9s 53ms/step - loss: 0.0459 - val_loss: 0.0449\n",
            "Epoch 5/20\n",
            "180/180 [==============================] - 9s 52ms/step - loss: 0.0446 - val_loss: 0.0435\n",
            "Epoch 6/20\n",
            "180/180 [==============================] - 9s 53ms/step - loss: 0.0438 - val_loss: 0.0430\n",
            "Epoch 7/20\n",
            "180/180 [==============================] - 9s 52ms/step - loss: 0.0432 - val_loss: 0.0425\n",
            "Epoch 8/20\n",
            "180/180 [==============================] - 9s 52ms/step - loss: 0.0428 - val_loss: 0.0426\n",
            "Epoch 9/20\n",
            "180/180 [==============================] - 9s 52ms/step - loss: 0.0425 - val_loss: 0.0430\n",
            "Epoch 10/20\n",
            "180/180 [==============================] - 9s 52ms/step - loss: 0.0421 - val_loss: 0.0413\n",
            "Epoch 11/20\n",
            "180/180 [==============================] - 9s 52ms/step - loss: 0.0417 - val_loss: 0.0415\n",
            "Epoch 12/20\n",
            "180/180 [==============================] - 9s 52ms/step - loss: 0.0415 - val_loss: 0.0412\n",
            "Epoch 13/20\n",
            "180/180 [==============================] - 9s 52ms/step - loss: 0.0412 - val_loss: 0.0415\n",
            "Epoch 14/20\n",
            "180/180 [==============================] - 9s 52ms/step - loss: 0.0410 - val_loss: 0.0406\n",
            "Epoch 15/20\n",
            "180/180 [==============================] - 9s 53ms/step - loss: 0.0408 - val_loss: 0.0411\n",
            "Epoch 16/20\n",
            "180/180 [==============================] - 9s 53ms/step - loss: 0.0406 - val_loss: 0.0404\n",
            "Epoch 17/20\n",
            "180/180 [==============================] - 10s 53ms/step - loss: 0.0406 - val_loss: 0.0413\n",
            "Epoch 18/20\n",
            "180/180 [==============================] - 9s 53ms/step - loss: 0.0402 - val_loss: 0.0412\n",
            "Epoch 19/20\n",
            "180/180 [==============================] - 10s 53ms/step - loss: 0.0401 - val_loss: 0.0406\n",
            "Epoch 20/20\n",
            "180/180 [==============================] - 9s 53ms/step - loss: 0.0401 - val_loss: 0.0400\n"
          ],
          "name": "stdout"
        }
      ]
    },
    {
      "cell_type": "code",
      "metadata": {
        "colab": {
          "base_uri": "https://localhost:8080/",
          "height": 295
        },
        "id": "jr0pBG089n_X",
        "outputId": "3c3b4106-b8a9-4ea3-afe9-b88505176968"
      },
      "source": [
        "lh.append(history)\n",
        "lh.plot()"
      ],
      "execution_count": 33,
      "outputs": [
        {
          "output_type": "display_data",
          "data": {
            "image/png": "[encoded data removed]",
            "text/plain": [
              "<Figure size 432x288 with 1 Axes>"
            ]
          },
          "metadata": {
            "tags": [],
            "needs_background": "light"
          }
        }
      ]
    },
    {
      "cell_type": "code",
      "metadata": {
        "colab": {
          "base_uri": "https://localhost:8080/",
          "height": 323
        },
        "id": "GH_0vXTT8nVF",
        "outputId": "e76c4c5e-5bf0-4e85-8e51-517172fcc7bc"
      },
      "source": [
        "pred = ae2.predict(X)\n",
        "\n",
        "plt.figure(figsize=(20,6))\n",
        "shift = np.random.randint(1000)\n",
        "for i in range(10):\n",
        "    plt.subplot(2, 10, 1+i)\n",
        "    plt.imshow(X[y_train == i][shift].reshape(28,28), cmap='gray')\n",
        "    plt.subplot(2, 10, 11+i)\n",
        "    plt.imshow(pred[y_train == i][shift].reshape(28,28), cmap='gray')\n",
        "plt.show()"
      ],
      "execution_count": 34,
      "outputs": [
        {
          "output_type": "display_data",
          "data": {
            "image/png": "[encoded data removed]",
            "text/plain": [
              "<Figure size 1440x432 with 20 Axes>"
            ]
          },
          "metadata": {
            "tags": [],
            "needs_background": "light"
          }
        }
      ]
    },
    {
      "cell_type": "markdown",
      "metadata": {
        "id": "ru_8oNSMF0UA"
      },
      "source": [
        "Видим, что малая размерность скрытого пространства сделала выход автоэнкодера размытым."
      ]
    },
    {
      "cell_type": "code",
      "metadata": {
        "id": "XFFVMFyD-ABV"
      },
      "source": [
        "z_train = enc2.predict(X)"
      ],
      "execution_count": 35,
      "outputs": []
    },
    {
      "cell_type": "markdown",
      "metadata": {
        "id": "vRwlJWeuJxR8"
      },
      "source": [
        "Попробуем обнаружить кластеры"
      ]
    },
    {
      "cell_type": "code",
      "metadata": {
        "colab": {
          "base_uri": "https://localhost:8080/",
          "height": 327
        },
        "id": "7A0vh-Q3-ALb",
        "outputId": "19c49f78-68aa-4f99-dad0-38e3ac50b76f"
      },
      "source": [
        "%%time\n",
        "n_clusters = 20               # Зададим количество кластеров\n",
        "cost = []                     # Создаем пустой список\n",
        "for i in range(1, n_clusters+1): # Пробегаем по списку от 1 до n_clusters\n",
        "    kmean = KMeans(i)           # Создаем объект KMeans с i-классами\n",
        "    kmean.fit(z_train)   # Проводим кластеризацию z_train\n",
        "    cost.append(kmean.inertia_) # Добавляем в cost элемент kmean.inertia_\n",
        "    print(i, end=' ')\n",
        "print()\n",
        "\n",
        "# Отобразим значения списка cost на графике\n",
        "plt.plot([i for i in range(1, n_clusters+1)], cost, 'bx-')\n",
        "plt.show()"
      ],
      "execution_count": null,
      "outputs": [
        {
          "output_type": "stream",
          "text": [
            "1 2 3 4 5 6 7 8 9 10 11 12 13 14 15 16 17 18 19 20 \n"
          ],
          "name": "stdout"
        },
        {
          "output_type": "display_data",
          "data": {
            "image/png": "[encoded data removed]",
            "text/plain": [
              "<Figure size 432x288 with 1 Axes>"
            ]
          },
          "metadata": {
            "tags": [],
            "needs_background": "light"
          }
        },
        {
          "output_type": "stream",
          "text": [
            "CPU times: user 52.2 s, sys: 315 ms, total: 52.5 s\n",
            "Wall time: 52.5 s\n"
          ],
          "name": "stdout"
        }
      ]
    },
    {
      "cell_type": "markdown",
      "metadata": {
        "id": "skgzHvIuDoAP"
      },
      "source": [
        "Опять кривая показывает отсутствие выраженной кластеризации.\n",
        "\n",
        "Посмотрим как в двумерном скрытом пространстве расположились цифры (используя метки y_train): "
      ]
    },
    {
      "cell_type": "code",
      "metadata": {
        "colab": {
          "base_uri": "https://localhost:8080/",
          "height": 592
        },
        "id": "1J5NmF1Q-gFE",
        "outputId": "51919e25-deaf-4c94-ba22-694819bdc346"
      },
      "source": [
        "z1 = z_train[::10]\n",
        "y1 = y_train[::10]\n",
        "plt.figure(figsize=(10, 10))\n",
        "[plt.scatter(z1[y1==i, 0], z1[y1==i, 1], label='%d'%i) for i in range(10)]\n",
        "plt.axis('equal')\n",
        "plt.legend()\n",
        "plt.grid()\n",
        "plt.show()"
      ],
      "execution_count": null,
      "outputs": [
        {
          "output_type": "display_data",
          "data": {
            "image/png": "[encoded data removed]",
            "text/plain": [
              "<Figure size 720x720 with 1 Axes>"
            ]
          },
          "metadata": {
            "tags": [],
            "needs_background": "light"
          }
        }
      ]
    },
    {
      "cell_type": "markdown",
      "metadata": {
        "id": "o0kAy5lNGIRA"
      },
      "source": [
        "Мы видим, что точкам явно тесно, разные классы плотно прижаты друг к другу и сильно пересекаются.\n",
        "\n",
        "Еще одна особенность - точки не группируются вокруг начала координат (0, 0), а достаточно сильно смещены в сторону положительных значений. Я думаю это следствие использования ReLU. При использовании активации tanh картинка, вероятно будет более симметричной относительно начала координат."
      ]
    },
    {
      "cell_type": "markdown",
      "metadata": {
        "id": "kf-fD0wfELLe"
      },
      "source": [
        "Теперь сделаем кластеризацию на 10 классов и сравним результат:"
      ]
    },
    {
      "cell_type": "code",
      "metadata": {
        "id": "beElhOAkBuIQ",
        "colab": {
          "base_uri": "https://localhost:8080/"
        },
        "outputId": "b47cf4c4-4fed-4ed5-b60e-3d4355243dcb"
      },
      "source": [
        "km = KMeans(10)\n",
        "km.fit(z_train)\n",
        "\n",
        "pred = km.predict(z_train)\n",
        "print(homogeneity_score(y_train, pred))"
      ],
      "execution_count": 37,
      "outputs": [
        {
          "output_type": "stream",
          "text": [
            "0.48080978615562214\n"
          ],
          "name": "stdout"
        }
      ]
    },
    {
      "cell_type": "markdown",
      "metadata": {
        "id": "aLi1F_odABZP"
      },
      "source": [
        "Метрика [homogeneity_score](https://scikit-learn.org/stable/modules/generated/sklearn.metrics.homogeneity_score.html) показала 48% совпадение меток с кластерами, найденными методом KMeans"
      ]
    },
    {
      "cell_type": "code",
      "metadata": {
        "colab": {
          "base_uri": "https://localhost:8080/",
          "height": 592
        },
        "id": "PfT9FMhgBuX1",
        "outputId": "87c8098a-dea4-4574-9511-61dad4cf308a"
      },
      "source": [
        "z1 = z_train[::10]\n",
        "y2 = pred[::10]\n",
        "plt.figure(figsize=(10, 10))\n",
        "[plt.scatter(z1[y2==i, 0], z1[y2==i, 1], label='%d'%i) for i in range(10)]\n",
        "plt.axis('equal')\n",
        "plt.legend()\n",
        "plt.grid()\n",
        "plt.show()"
      ],
      "execution_count": null,
      "outputs": [
        {
          "output_type": "display_data",
          "data": {
            "image/png": "[encoded data removed]",
            "text/plain": [
              "<Figure size 720x720 with 1 Axes>"
            ]
          },
          "metadata": {
            "tags": [],
            "needs_background": "light"
          }
        }
      ]
    },
    {
      "cell_type": "markdown",
      "metadata": {
        "id": "A0bPGobCEYge"
      },
      "source": [
        "Конечно нумерация полученных кластеров не совпадает с цифрами (это естественно), но даже с учетом этого видим, что разбивка на кластеры не совпадает с истинными кластерами, соответствующим цифрам. "
      ]
    },
    {
      "cell_type": "markdown",
      "metadata": {
        "id": "LxmwyWA-w9jg"
      },
      "source": [
        "## dim = 12"
      ]
    },
    {
      "cell_type": "code",
      "metadata": {
        "id": "KuZJE-d10dqg"
      },
      "source": [
        "ae3, enc3 = Autoencoder((28, 28, 1), latent_dim=12)\n",
        "lh = LearnHistory()"
      ],
      "execution_count": 5,
      "outputs": []
    },
    {
      "cell_type": "code",
      "metadata": {
        "colab": {
          "base_uri": "https://localhost:8080/",
          "height": 1000
        },
        "id": "fMtQzvOC1MCG",
        "outputId": "1671852c-c8b2-4b95-aeba-5b557ed00c4f"
      },
      "source": [
        "history = ae3.fit(X, X, epochs=20, batch_size=300, validation_split=0.1)\n",
        "lh.append(history)\n",
        "lh.plot()"
      ],
      "execution_count": 6,
      "outputs": [
        {
          "output_type": "stream",
          "text": [
            "Epoch 1/20\n",
            "  2/180 [..............................] - ETA: 5s - loss: 0.2757WARNING:tensorflow:Callbacks method `on_train_batch_end` is slow compared to the batch time (batch time: 0.0120s vs `on_train_batch_end` time: 0.0431s). Check your callbacks.\n",
            "180/180 [==============================] - ETA: 0s - loss: 0.0821WARNING:tensorflow:Callbacks method `on_test_batch_end` is slow compared to the batch time (batch time: 0.0033s vs `on_test_batch_end` time: 0.0117s). Check your callbacks.\n",
            "180/180 [==============================] - 10s 54ms/step - loss: 0.0821 - val_loss: 0.1045\n",
            "Epoch 2/20\n",
            "180/180 [==============================] - 9s 53ms/step - loss: 0.0354 - val_loss: 0.0809\n",
            "Epoch 3/20\n",
            "180/180 [==============================] - 9s 53ms/step - loss: 0.0232 - val_loss: 0.0305\n",
            "Epoch 4/20\n",
            "180/180 [==============================] - 9s 53ms/step - loss: 0.0171 - val_loss: 0.0151\n",
            "Epoch 5/20\n",
            "180/180 [==============================] - 9s 53ms/step - loss: 0.0140 - val_loss: 0.0139\n",
            "Epoch 6/20\n",
            "180/180 [==============================] - 9s 52ms/step - loss: 0.0128 - val_loss: 0.0131\n",
            "Epoch 7/20\n",
            "180/180 [==============================] - 9s 52ms/step - loss: 0.0121 - val_loss: 0.0120\n",
            "Epoch 8/20\n",
            "180/180 [==============================] - 9s 52ms/step - loss: 0.0116 - val_loss: 0.0115\n",
            "Epoch 9/20\n",
            "180/180 [==============================] - 9s 52ms/step - loss: 0.0110 - val_loss: 0.0116\n",
            "Epoch 10/20\n",
            "180/180 [==============================] - 9s 52ms/step - loss: 0.0107 - val_loss: 0.0109\n",
            "Epoch 11/20\n",
            "180/180 [==============================] - 9s 53ms/step - loss: 0.0105 - val_loss: 0.0106\n",
            "Epoch 12/20\n",
            "180/180 [==============================] - 9s 52ms/step - loss: 0.0102 - val_loss: 0.0106\n",
            "Epoch 13/20\n",
            "180/180 [==============================] - 9s 52ms/step - loss: 0.0099 - val_loss: 0.0106\n",
            "Epoch 14/20\n",
            "180/180 [==============================] - 9s 52ms/step - loss: 0.0097 - val_loss: 0.0100\n",
            "Epoch 15/20\n",
            "180/180 [==============================] - 9s 52ms/step - loss: 0.0096 - val_loss: 0.0101\n",
            "Epoch 16/20\n",
            "180/180 [==============================] - 9s 52ms/step - loss: 0.0093 - val_loss: 0.0098\n",
            "Epoch 17/20\n",
            "180/180 [==============================] - 9s 53ms/step - loss: 0.0092 - val_loss: 0.0100\n",
            "Epoch 18/20\n",
            "180/180 [==============================] - 9s 53ms/step - loss: 0.0091 - val_loss: 0.0100\n",
            "Epoch 19/20\n",
            "180/180 [==============================] - 9s 53ms/step - loss: 0.0090 - val_loss: 0.0100\n",
            "Epoch 20/20\n",
            "180/180 [==============================] - 10s 53ms/step - loss: 0.0088 - val_loss: 0.0094\n"
          ],
          "name": "stdout"
        },
        {
          "output_type": "display_data",
          "data": {
            "image/png": "[encoded data removed]",
            "text/plain": [
              "<Figure size 432x288 with 1 Axes>"
            ]
          },
          "metadata": {
            "tags": [],
            "needs_background": "light"
          }
        }
      ]
    },
    {
      "cell_type": "code",
      "metadata": {
        "colab": {
          "base_uri": "https://localhost:8080/",
          "height": 323
        },
        "id": "oqZzGB2k18y6",
        "outputId": "fb731580-15dc-4310-dde0-fe4eed6d5779"
      },
      "source": [
        "pred = ae3.predict(X)\n",
        "\n",
        "plt.figure(figsize=(20,6))\n",
        "shift = np.random.randint(1000)\n",
        "for i in range(10):\n",
        "    plt.subplot(2, 10, 1+i)\n",
        "    plt.imshow(X[y_train == i][shift].reshape(28,28), cmap='gray')\n",
        "    plt.subplot(2, 10, 11+i)\n",
        "    plt.imshow(pred[y_train == i][shift].reshape(28,28), cmap='gray')\n",
        "plt.show()"
      ],
      "execution_count": 7,
      "outputs": [
        {
          "output_type": "display_data",
          "data": {
            "image/png": "[encoded data removed]",
            "text/plain": [
              "<Figure size 1440x432 with 20 Axes>"
            ]
          },
          "metadata": {
            "tags": [],
            "needs_background": "light"
          }
        }
      ]
    },
    {
      "cell_type": "markdown",
      "metadata": {
        "id": "E22Cj9mJzGkk"
      },
      "source": [
        "Видно, что размерности 12 достаточно для почти идеальной рабты."
      ]
    },
    {
      "cell_type": "code",
      "metadata": {
        "id": "h0C0yi0g5ui5"
      },
      "source": [
        "z_train3 = enc3.predict(X)"
      ],
      "execution_count": 10,
      "outputs": []
    },
    {
      "cell_type": "code",
      "metadata": {
        "colab": {
          "base_uri": "https://localhost:8080/",
          "height": 327
        },
        "id": "7vZV7ED13kRf",
        "outputId": "dd93b137-26d9-44d6-b1f5-d741a77aacd5"
      },
      "source": [
        "%%time\n",
        "n_clusters = 16               # Зададим количество кластеров\n",
        "cost = []                     # Создаем пустой список\n",
        "for i in range(1, n_clusters+1): # Пробегаем по списку от 1 до n_clusters\n",
        "    kmean = KMeans(i)           # Создаем объект KMeans с i-классами\n",
        "    kmean.fit(z_train3)   # Проводим кластеризацию z_train\n",
        "    cost.append(kmean.inertia_) # Добавляем в cost элемент kmean.inertia_\n",
        "    print(i, end=' ')\n",
        "print()\n",
        "\n",
        "# Отобразим значения списка cost на графике\n",
        "plt.plot([i for i in range(1, n_clusters+1)], cost, 'bx-')\n",
        "plt.show()"
      ],
      "execution_count": 11,
      "outputs": [
        {
          "output_type": "stream",
          "text": [
            "1 2 3 4 5 6 7 8 9 10 11 12 13 14 15 16 \n"
          ],
          "name": "stdout"
        },
        {
          "output_type": "display_data",
          "data": {
            "image/png": "[encoded data removed]",
            "text/plain": [
              "<Figure size 432x288 with 1 Axes>"
            ]
          },
          "metadata": {
            "tags": [],
            "needs_background": "light"
          }
        },
        {
          "output_type": "stream",
          "text": [
            "CPU times: user 59.9 s, sys: 18.6 s, total: 1min 18s\n",
            "Wall time: 59.8 s\n"
          ],
          "name": "stdout"
        }
      ]
    },
    {
      "cell_type": "code",
      "metadata": {
        "id": "Dp8WCA6t53n2",
        "colab": {
          "base_uri": "https://localhost:8080/"
        },
        "outputId": "4c6ecd13-1f79-4dbf-8da2-7f6620911353"
      },
      "source": [
        "km = KMeans(10)\n",
        "km.fit(z_train3)\n",
        "\n",
        "pred = km.predict(z_train3)\n",
        "print(homogeneity_score(y_train, pred))"
      ],
      "execution_count": 22,
      "outputs": [
        {
          "output_type": "stream",
          "text": [
            "0.6915502411514443\n"
          ],
          "name": "stdout"
        }
      ]
    },
    {
      "cell_type": "markdown",
      "metadata": {
        "id": "E7SqAkT-9ajH"
      },
      "source": [
        "Метрика [homogeneity_score](https://scikit-learn.org/stable/modules/generated/sklearn.metrics.homogeneity_score.html) показала 69% совпадение меток с кластерами, найденными методом KMeans"
      ]
    },
    {
      "cell_type": "markdown",
      "metadata": {
        "id": "ms7S55nFGytP"
      },
      "source": [
        "## ВЫВОДЫ\n",
        "\n",
        "Эксперименты показали, что точки в двумерном скрытом пространстве не группируются в ярко выраженные кластеры - то есть между кластерами нет пустот, классы тесно прижаты друг к другу. \n"
      ]
    }
  ]
}