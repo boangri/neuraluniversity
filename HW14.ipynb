{
  "nbformat": 4,
  "nbformat_minor": 0,
  "metadata": {
    "colab": {
      "name": "HW14.ipynb",
      "provenance": [],
      "collapsed_sections": [
        "hm9WXnw9Jbj4",
        "pU0vNTwcWdve",
        "9iKme2fZGhFG",
        "HXoO-zjEGmK9",
        "SDE5xJ7lHOn7",
        "6H_ECT_wHpkD",
        "AUibrTxIE4jX"
      ],
      "toc_visible": true,
      "mount_file_id": "1ualVfrXD2lMOEfrKuxkEG0cM5Xz3ypVB",
      "authorship_tag": "ABX9TyOuLSgV0jbxCYwC7bGBW2+p",
      "include_colab_link": true
    },
    "kernelspec": {
      "name": "python3",
      "display_name": "Python 3"
    },
    "accelerator": "GPU"
  },
  "cells": [
    {
      "cell_type": "markdown",
      "metadata": {
        "id": "view-in-github",
        "colab_type": "text"
      },
      "source": [
        "<a href=\"https://colab.research.google.com/github/boangri/neuraluniversity/blob/master/HW14.ipynb\" target=\"_parent\"><img src=\"https://colab.research.google.com/assets/colab-badge.svg\" alt=\"Open In Colab\"/></a>"
      ]
    },
    {
      "cell_type": "markdown",
      "metadata": {
        "id": "pvG6cxvXyg7t"
      },
      "source": [
        "# Домашнее задание к занятию 14 \"Разметка текста\" 8.11.2020\n",
        "\n",
        "Борис Грибовский xinu@yandex.ru"
      ]
    },
    {
      "cell_type": "markdown",
      "metadata": {
        "id": "xO2nxtolyiHt"
      },
      "source": [
        "## Подготовка"
      ]
    },
    {
      "cell_type": "code",
      "metadata": {
        "id": "DQUC_XnKzL9z",
        "outputId": "9dc71184-cac9-4176-bb31-6d677e4a2e55",
        "colab": {
          "base_uri": "https://localhost:8080/"
        }
      },
      "source": [
        "!pip install pymorphy2 # установка лемматизатора pymorphy2"
      ],
      "execution_count": null,
      "outputs": [
        {
          "output_type": "stream",
          "text": [
            "Requirement already satisfied: pymorphy2 in /usr/local/lib/python3.6/dist-packages (0.9.1)\n",
            "Requirement already satisfied: dawg-python>=0.7.1 in /usr/local/lib/python3.6/dist-packages (from pymorphy2) (0.7.2)\n",
            "Requirement already satisfied: pymorphy2-dicts-ru<3.0,>=2.4 in /usr/local/lib/python3.6/dist-packages (from pymorphy2) (2.4.417127.4579844)\n",
            "Requirement already satisfied: docopt>=0.6 in /usr/local/lib/python3.6/dist-packages (from pymorphy2) (0.6.2)\n"
          ],
          "name": "stdout"
        }
      ]
    },
    {
      "cell_type": "markdown",
      "metadata": {
        "id": "O9mQw6PLpJit"
      },
      "source": [
        "Исправленные договора"
      ]
    },
    {
      "cell_type": "code",
      "metadata": {
        "id": "lqoIjXzUNue3",
        "outputId": "3d628c44-ec8c-4ec4-d870-59268e5b3bdb",
        "colab": {
          "base_uri": "https://localhost:8080/"
        }
      },
      "source": [
        "!wget https://xland.ru/uai/hw14/contracts432_fixed.zip"
      ],
      "execution_count": null,
      "outputs": [
        {
          "output_type": "stream",
          "text": [
            "--2020-11-13 08:07:59--  https://xland.ru/uai/hw14/contracts432_fixed.zip\n",
            "Resolving xland.ru (xland.ru)... 198.211.125.59\n",
            "Connecting to xland.ru (xland.ru)|198.211.125.59|:443... connected.\n",
            "HTTP request sent, awaiting response... 200 OK\n",
            "Length: 6488895 (6.2M) [application/zip]\n",
            "Saving to: ‘contracts432_fixed.zip’\n",
            "\n",
            "contracts432_fixed. 100%[===================>]   6.19M  5.81MB/s    in 1.1s    \n",
            "\n",
            "2020-11-13 08:08:01 (5.81 MB/s) - ‘contracts432_fixed.zip’ saved [6488895/6488895]\n",
            "\n"
          ],
          "name": "stdout"
        }
      ]
    },
    {
      "cell_type": "code",
      "metadata": {
        "id": "gLySv-MpN930"
      },
      "source": [
        "!unzip -q contracts432_fixed.zip"
      ],
      "execution_count": null,
      "outputs": []
    },
    {
      "cell_type": "markdown",
      "metadata": {
        "id": "hm9WXnw9Jbj4"
      },
      "source": [
        "### Функции"
      ]
    },
    {
      "cell_type": "code",
      "metadata": {
        "id": "hB9TX4LfzMCZ"
      },
      "source": [
        "import numpy as np # Библиотека для работы с массивами данных\n",
        "from tensorflow.keras.models import Model, load_model # Импортируем модель, метод загрузки предобученной сети \n",
        "import re # Импортируем для работы со строками\n",
        "from tensorflow.keras.preprocessing.text import Tokenizer # Методы для работы с текстами и преобразования их в последовательности\n",
        "# Импортируем слои для сеток\n",
        "from tensorflow.keras.layers import Dense, Embedding, Input, concatenate, Activation, MaxPooling1D, Conv1D \n",
        "from tensorflow.keras.layers import BatchNormalization, Dropout, Conv2DTranspose, Lambda, LSTM, Flatten, GlobalAveragePooling1D\n",
        "from tensorflow.keras import backend as K # Импортируем для подсчета dice_coef\n",
        "from tensorflow.keras.optimizers import Adam, Adadelta # Импортируем оптимизаторы \n",
        "from tensorflow.keras import utils # Импортируем для работы с категориальными данными \n",
        "from google.colab import files # Импортируем для работы с файлами\n",
        "import matplotlib.pyplot as plt # Импортируем для отрисовки графиков\n",
        "from gensim.models import word2vec # Импортируем gensim \n",
        "import os # Импортируем для работы с файловой системой\n",
        "import pandas as pd # И мпортируем для работы с DataFrame\n",
        "import pymorphy2 # Импортируем для работы с леммами\n",
        "import time # Импортируем для подсчета времени \n",
        "import random\n",
        "from sys import getsizeof\n",
        "\n",
        "class LearnHistory:\n",
        "    def __init__(self):\n",
        "        self.history = {'loss':[], 'val_loss': []}\n",
        "\n",
        "    def append(self, history):\n",
        "        self.history['loss'].extend(history.history['loss'])\n",
        "        self.history['val_loss'].extend(history.history['val_loss'])\n",
        "\n",
        "    def plot(self, ylim=None):\n",
        "        ep = [i+1 for i in range(len(self.history['loss']))]\n",
        "        plt.plot(ep, self.history['loss'], label='loss on train')\n",
        "        plt.plot(ep, self.history['val_loss'], label='loss on test')\n",
        "        plt.ylabel('Средняя ошибка')\n",
        "        plt.xlabel('Эпоха')\n",
        "        if ylim is not None:\n",
        "            plt.ylim(0, ylim)\n",
        "        plt.title('История обучения')\n",
        "        plt.grid()\n",
        "        plt.legend()\n",
        "        plt.show()\n",
        "\n",
        "# Чтение файла текста из файла, очитска от знаков препинания\n",
        "def readText(fileName):\n",
        "  f = open(fileName, 'r') #Открываем наш файл для чтения и считываем из него данные \n",
        "  text = f.read() #Записываем прочитанный текст в переменную \n",
        "  # Определяем символы для удаления\n",
        "  delSymbols = ['\\n', \"\\t\", \"\\ufeff\", \".\", \"_\", \"-\", \",\", \"!\", \"?\", \"–\", \"(\", \")\", \"«\", \"»\", \"№\", \";\"]\n",
        "\n",
        "  for dS in delSymbols: # Каждый символ в списке символов для удаления\n",
        "    text = text.replace(dS, \" \") # Удаляем, заменяя на пробел\n",
        "\n",
        "  # Ищем шаблоны и символы в строке и меняем на указанную подстроку\n",
        "  text = re.sub(\"[.]\", \" \", text) \n",
        "  text = re.sub(\":\", \" \", text)\n",
        "  text = re.sub(\"<\", \" <\", text)\n",
        "  text = re.sub(\">\", \"> \", text)\n",
        "\n",
        "  # Метод split разделит текст по пробелам (а их может быть несколько после удаления символов)\n",
        "  # При помощи метода join запишем все разделенные слова снова в строку\n",
        "  text = ' '.join(text.split()) \n",
        "\n",
        "  text = text.lower() # Переводим текст в нижний регистр\n",
        "  return text # Возвращаем тексты\n",
        "\n",
        "# Преобразование исходного текста в список из слов в нормальной форме \n",
        "def text2Words(text):\n",
        "  morph = pymorphy2.MorphAnalyzer() # Создаем экземпляр класса MorphAnalyzer\n",
        "  words = text.split(' ') # Разделяем текст на пробелы\n",
        "  words = [morph.parse(word)[0].normal_form for word in words] #Переводим каждое слово в нормалную форму  \n",
        "  return words # Возвращаем слова\n",
        "\n",
        "# Собираем список индексов и dummy encoded вектора\n",
        "def get01XSamples(tok_agreem, tags_index):\n",
        "  tags01 = [] # Список для тегов\n",
        "  indexes = [] # Здесь будут лежать индексы\n",
        " \n",
        "  for agreement in tok_agreem: # Проходимся по каждому договору-списку\n",
        "    tag_place = [0, 0, 0, 0, 0, 0] # Создаем вектор [0,0,0,0,0,0]\n",
        "    for ex in agreement: # Проходимся по каждому слову договора\n",
        "        if ex in tags_index: # Смотрим, если индекс оказался нашим тегом\n",
        "          place = np.argwhere(tags_index==ex) # Записываем под каким местом лежит этот тег в своем списке\n",
        "          if len(place)!=0: # Проверяем, чтобы тег действительно был\n",
        "            if place[0][0]<6: # Первые шесть тегов в списке - открывающие\n",
        "              tag_place[place[0][0]] = 1    # Поэтому ставим 1\n",
        "            else: \n",
        "              tag_place[place[0][0] - 6] = 0  # Остальные теги закрывающие, так что меняем на ноль\n",
        "        else:          \n",
        "          tags01.append(tag_place.copy()) # Расширяем наш список с каждой итерацией. Получаем в конце длинный список из всех тегов в одном \n",
        "          indexes.append(ex) # Докидываем индекс слова в список индексов\n",
        "\n",
        "  return indexes, tags01\n",
        "\n",
        "# Получение списка слов из индексов\n",
        "def reverseIndex(clean_voc, x):\n",
        "  reverse_word_map = dict(map(reversed, clean_voc.items())) # Берем пары значений всего словаря и размечаем наоборот, т.е. value:key\n",
        "  words = [reverse_word_map.get(letter) for letter in x] # Вытаскиваем по каждому ключу в список\n",
        "  return words # Возвращаем полученный текст\n",
        "\n",
        "# Формируем выборку из индексов\n",
        "def getSetFromIndexes(wordIndexes, xLen, step): \n",
        "  xBatch = [] # Лист для фрагментов текста\n",
        "  wordsLen = len(wordIndexes) # Определяем длину текста\n",
        "  index = 0 # Задаем стартовый индекс\n",
        "  \n",
        "  while (index + xLen <= wordsLen): # Пока сумма индекса с длинной фрагмента меньше или равна числу слов в выборке\n",
        "    xBatch.append(wordIndexes[index:index+xLen]) # Добавляем X в лист фразментов текста\n",
        "    index += step # Сдвигаемся на step\n",
        "\n",
        "  return xBatch # Лист для фрагментов текста\n",
        "\n",
        "# Создаем выборки\n",
        "def getSets(model, senI, tagI):\n",
        "  xVector = [] # Здесь будет лежать embedding представление каждого из индексов\n",
        "  tmp = [] # Временный список\n",
        "  for text in senI: # Проходимся по каждому тексту-списку\n",
        "    tmp=[]\n",
        "    for word in text: # Проходимся по каждому слову в тексте-списке\n",
        "      tmp.append(model[word]) \n",
        "\n",
        "    xVector.append(tmp)\n",
        "\n",
        "  return np.array(xVector), np.array(tagI)\n",
        "\n",
        "def dice_coef(y_true, y_pred):\n",
        "    return K.mean(y_true*y_pred + (1 - y_true)*(1 - y_pred))\n",
        "\n",
        "# Функция для создания линейной cnonv1d-сети\n",
        "def create_Conv1d(xLen, embeddingSize): \n",
        "  text_input_layer = Input((xLen,embeddingSize)) \n",
        "  text_layer = Conv1D(16, 3, padding='same',activation='relu')(text_input_layer)\n",
        "  text_layer = Conv1D(16, 3, padding='same',activation='relu')(text_layer)\n",
        "  text_layer = Conv1D(16, 3,padding='same', activation='relu')(text_layer) \n",
        "  text_layer = Conv1D(yTrainGENSIM.shape[-1], 3, padding='same',activation='sigmoid')(text_layer)\n",
        "  model = Model(text_input_layer, text_layer)\n",
        "  model.compile(optimizer=Adadelta(),\n",
        "                    loss='categorical_crossentropy',\n",
        "                    metrics=[dice_coef])\n",
        "  return model\n",
        "\n",
        "# Функция для создания PSPnet-сети\n",
        "def create_PSPNet(conv_size = 64, num_classes = 6, input_shape = (30, 300)):\n",
        "\n",
        "    # У кераса нет Conv1DTranspose, так что прописываем вручную. Нужен для разворота после maxpooling\n",
        "    def Conv1DTranspose(input_tensor, filters, kernel_size=1, strides=2, padding='same'):\n",
        "        \"\"\"\n",
        "        input_tensor: входной тензор (batch_size, time_steps, dims)\n",
        "        filters: int, output dimension, выходной тензор будет иметь размер (batch_size, time_steps, filters)\n",
        "        kernel_size: размер ядра свертки \n",
        "        strides: int, шаг ядра\n",
        "        padding: 'same' | действительный\n",
        "        \"\"\"\n",
        "        x = Lambda(lambda x: K.expand_dims(x, axis=2))(input_tensor)\n",
        "        x = Conv2DTranspose(filters=filters, kernel_size=(kernel_size, 1), strides=(strides, 1), padding=padding)(x)\n",
        "        x = Lambda(lambda x: K.squeeze(x, axis=2))(x)\n",
        "        return x\n",
        "        \n",
        "    img_input = Input(input_shape)\n",
        "\n",
        "    # Block 1\n",
        "    x = Conv1D(conv_size, 3, padding='same')(img_input)\n",
        "    x = BatchNormalization()(x)\n",
        "    x = Activation('relu')(x)\n",
        "    \n",
        "    x = Conv1D(conv_size, 3, padding='same')(x)\n",
        "    x = BatchNormalization()(x)\n",
        "    x = Activation('relu')(x)\n",
        "\n",
        "    x_mp_2 = MaxPooling1D(2)(x)\n",
        "    x_mp_4 = MaxPooling1D(4)(x)\n",
        "    x_mp_8 = MaxPooling1D(8)(x)\n",
        "    x_mp_16 = MaxPooling1D(16)(x)\n",
        "    x_mp_32 = MaxPooling1D(32)(x)\n",
        "\n",
        "    x_mp_2 = Conv1D(conv_size, 3, padding='same', activation='relu')(x_mp_2)\n",
        "    x_mp_2 = Dropout(0.5)(x_mp_2)\n",
        "\n",
        "    x_mp_4 = Conv1D(conv_size, 3, padding='same', activation='relu')(x_mp_4)\n",
        "    x_mp_4 = Dropout(0.5)(x_mp_4)\n",
        "\n",
        "    x_mp_8 = Conv1D(conv_size, 3, padding='same', activation='relu')(x_mp_8)\n",
        "    x_mp_8 = Dropout(0.5)(x_mp_8)\n",
        "\n",
        "    x_mp_16 = Conv1D(conv_size, 3, padding='same', activation='relu')(x_mp_16)\n",
        "    x_mp_16 = Dropout(0.5)(x_mp_16)\n",
        "\n",
        "    x_mp_32 = Conv1D(conv_size, 3, padding='same', activation='relu')(x_mp_32)\n",
        "    x_mp_32 = Dropout(0.5)(x_mp_32) \n",
        "\n",
        "    x_mp_2 = Conv1DTranspose(x_mp_2,conv_size, 2)\n",
        "    x_mp_2 = Activation('relu')(x_mp_2)\n",
        "\n",
        "    x_mp_4 = Conv1DTranspose(x_mp_4,conv_size, 4, strides=4)\n",
        "    x_mp_4 = Activation('relu')(x_mp_4)\n",
        "\n",
        "    x_mp_8 = Conv1DTranspose(x_mp_8,conv_size, 8, strides=8)\n",
        "    x_mp_8 = Activation('relu')(x_mp_8)\n",
        "\n",
        "    x_mp_16 = Conv1DTranspose(x_mp_16,conv_size, 16, strides=16)\n",
        "    x_mp_16 = Activation('relu')(x_mp_16)\n",
        "\n",
        "    x_mp_32 = Conv1DTranspose(x_mp_32,conv_size, 32, strides=32)\n",
        "    x_mp_32 = Activation('relu')(x_mp_32)\n",
        "\n",
        "\n",
        "    fin = concatenate([img_input, x_mp_2, x_mp_4, x_mp_8, x_mp_16, x_mp_32])    \n",
        "    fin = Conv1D(conv_size, 3, padding='same')(fin)\n",
        "    fin = BatchNormalization()(fin)\n",
        "    fin = Activation('relu')(fin)\n",
        "    fin = Conv1D(conv_size, 3, padding='same')(fin)\n",
        "    fin = BatchNormalization()(fin)\n",
        "    fin = Activation('relu')(fin)\n",
        "\n",
        "    fin = Conv1D(num_classes, 3, activation='sigmoid', padding='same')(fin)\n",
        "\n",
        "    model = Model(img_input, fin)\n",
        "    model.compile(optimizer=Adadelta(lr=0.001),\n",
        "                  loss='categorical_crossentropy',\n",
        "                  metrics=[dice_coef])\n",
        "    \n",
        "    return model\n",
        "\n",
        "#Функция для создания сети UNET \n",
        "def create_unet(k=1, num_classes=6, input_shape=(None, 300)):\n",
        "\n",
        "    # У кераса нет Conv1DTranspose, так что прописываем вручную. Нужен для разворота после maxpooling\n",
        "    def Conv1DTranspose(input_tensor, filters, kernel_size=1, strides=2, padding='same'):\n",
        "        \"\"\"\n",
        "        input_tensor: входной тензор (batch_size, time_steps, dims)\n",
        "        filters: int, output dimension, выходной тензор будет иметь размер (batch_size, time_steps, filters)\n",
        "        kernel_size: размер ядра свертки \n",
        "        strides: int, шаг ядра\n",
        "        padding: 'same' | действительный\n",
        "        \"\"\"\n",
        "        x = Lambda(lambda x: K.expand_dims(x, axis=2))(input_tensor)\n",
        "        x = Conv2DTranspose(filters=filters, kernel_size=(kernel_size, 1), strides=(strides, 1), padding=padding)(x)\n",
        "        x = Lambda(lambda x: K.squeeze(x, axis=2))(x)\n",
        "        return x\n",
        "        \n",
        "    img_input = Input(input_shape) \n",
        "\n",
        "    # Block 1\n",
        "    x = Conv1D(64 * k , 3, padding='same')(img_input) \n",
        "    x = BatchNormalization()(x) \n",
        "    x = Activation('relu')(x)\n",
        "\n",
        "    x = Conv1D(64 * k , 3, padding='same')(x)  \n",
        "    x = BatchNormalization()(x)     \n",
        "    block_1_out = Activation('relu')(x) \n",
        "\n",
        "    x = MaxPooling1D()(block_1_out)\n",
        "\n",
        "    # Block 2\n",
        "    x = Conv1D(128 * k , 3, padding='same')(x)\n",
        "    x = BatchNormalization()(x)\n",
        "    x = Activation('relu')(x)  \n",
        "\n",
        "    x = Conv1D(128 * k , 3, padding='same')(x)\n",
        "    x = BatchNormalization()(x)\n",
        "    block_2_out = Activation('relu')(x)\n",
        "\n",
        "    x = MaxPooling1D()(block_2_out)\n",
        "\n",
        "    # Block 3\n",
        "    x = Conv1D(256 * k , 3, padding='same')(x)\n",
        "    x = BatchNormalization()(x)               \n",
        "    x = Activation('relu')(x)                     \n",
        "\n",
        "    x = Conv1D(256 * k , 3, padding='same')(x)\n",
        "    x = BatchNormalization()(x)\n",
        "    x = Activation('relu')(x)\n",
        "\n",
        "    x = Conv1D(256 * k , 3, padding='same')(x)\n",
        "    x = BatchNormalization()(x)\n",
        "    block_3_out = Activation('relu')(x)\n",
        "\n",
        "    # x = block_3_out\n",
        "    x = MaxPooling1D()(block_3_out)\n",
        "\n",
        "    # Block 4\n",
        "    x = Conv1D(512 * k , 3, padding='same')(x)\n",
        "    x = BatchNormalization()(x) \n",
        "    x = Activation('relu')(x)\n",
        "\n",
        "    x = Conv1D(512 * k , 3, padding='same')(x)\n",
        "    x = BatchNormalization()(x)\n",
        "    x = Activation('relu')(x)\n",
        "\n",
        "    x = Conv1D(512 * k , 3, padding='same')(x)\n",
        "    x = BatchNormalization()(x)      \n",
        "    block_4_out = Activation('relu')(x)\n",
        "    x = block_4_out \n",
        "\n",
        "    # UP 2\n",
        "    x = Conv1DTranspose(x, 256, kernel_size=2, strides=2, padding='same')\n",
        "    x = BatchNormalization()(x)\n",
        "    x = Activation('relu')(x) \n",
        "\n",
        "    x = concatenate([x, block_3_out]) \n",
        "    x = Conv1D(256 * k , 3, padding='same')(x) \n",
        "    x = BatchNormalization()(x) \n",
        "    x = Activation('relu')(x)\n",
        "\n",
        "    x = Conv1D(256 * k , 3, padding='same')(x)\n",
        "    x = BatchNormalization()(x)\n",
        "    x = Activation('relu')(x)\n",
        "    \n",
        "    # UP 3\n",
        "    x = Conv1DTranspose(x, 128, kernel_size=2, strides=2, padding='same')\n",
        "    x = BatchNormalization()(x)\n",
        "    x = Activation('relu')(x) \n",
        "\n",
        "    x = concatenate([x, block_2_out])\n",
        "    x = Conv1D(128 * k , 3, padding='same')(x)\n",
        "    x = BatchNormalization()(x)\n",
        "    x = Activation('relu')(x)\n",
        "\n",
        "    x = Conv1D(128 * k , 3, padding='same')(x)\n",
        "    x = BatchNormalization()(x)\n",
        "    x = Activation('relu')(x)\n",
        "\n",
        "    # UP 4\n",
        "    x = Conv1DTranspose(x, 64, kernel_size=2, strides=2, padding='same')\n",
        "    x = BatchNormalization()(x)\n",
        "    x = Activation('relu')(x)\n",
        "\n",
        "    x = concatenate([x, block_1_out])\n",
        "    x = Conv1D(64 * k , 3, padding='same')(x)\n",
        "    x = BatchNormalization()(x)\n",
        "    x = Activation('relu')(x)\n",
        "\n",
        "    x = Conv1D(64 * k , 3, padding='same')(x)\n",
        "    x = BatchNormalization()(x)\n",
        "    x = Activation('relu')(x)\n",
        "\n",
        "    x = Conv1D(num_classes, 3, activation='sigmoid', padding='same')(x)\n",
        "\n",
        "    model = Model(img_input, x) \n",
        "\n",
        "    model = Model(img_input, x)\n",
        "    model.compile(optimizer=Adam(0.0025), \n",
        "                  loss='categorical_crossentropy',\n",
        "                  metrics=[dice_coef])\n",
        "  \n",
        "    return model\n",
        "\n",
        "# Функция, выводящая точность распознавания каждой категории отдельно\n",
        "def recognizeSet(tagI, pred, length, value):\n",
        "  total=0\n",
        "  tags = ['S1', 'S2', 'S3', 'S4', 'S5', 'S6']\n",
        "  for j in range(6): # общее количество тегов\n",
        "    correct=0\n",
        "    for i in range(len(tagI)): # проходимся по каждому списку списка тегов\n",
        "      for k in range(length): # проходимся по каждому тегу\n",
        "        if tagI[i][k][j]==(pred[i][k][j]>value).astype(int): # если соответствующие индексы совпадают, значит сеть распознала верно\n",
        "          correct+=1 \n",
        "    print(\"Сеть распознала категорию '%s' на %.2f%%\" % (tags[j], 100*correct/(len(tagI)*length)))\n",
        "    total += 100 * correct / (len(tagI)*length)\n",
        "  print(\"Cредняя точность %.2f%%\" % (total/6))\n"
      ],
      "execution_count": null,
      "outputs": []
    },
    {
      "cell_type": "markdown",
      "metadata": {
        "id": "pU0vNTwcWdve"
      },
      "source": [
        "### Классы Трансформера"
      ]
    },
    {
      "cell_type": "markdown",
      "metadata": {
        "id": "IVIAJSOl4Cz8"
      },
      "source": [
        "Взяты [отсюда](https://github.com/keras-team/keras-io/blob/master/examples/nlp/text_classification_with_transformer.py)"
      ]
    },
    {
      "cell_type": "code",
      "metadata": {
        "id": "A5Gu2mR4UzOn"
      },
      "source": [
        "import tensorflow as tf\n",
        "from tensorflow import keras\n",
        "from tensorflow.keras import layers\n",
        "\n",
        "\"\"\"\n",
        "## Implement multi head self attention as a Keras layer\n",
        "\"\"\"\n",
        "\n",
        "class MultiHeadSelfAttention(layers.Layer):\n",
        "    def __init__(self, embed_dim, num_heads=8):\n",
        "        super(MultiHeadSelfAttention, self).__init__()\n",
        "        self.embed_dim = embed_dim\n",
        "        self.num_heads = num_heads\n",
        "        if embed_dim % num_heads != 0:\n",
        "            raise ValueError(\n",
        "                f\"embedding dimension = {embed_dim} should be divisible by number of heads = {num_heads}\"\n",
        "            )\n",
        "        self.projection_dim = embed_dim // num_heads\n",
        "        self.query_dense = layers.Dense(embed_dim)\n",
        "        self.key_dense = layers.Dense(embed_dim)\n",
        "        self.value_dense = layers.Dense(embed_dim)\n",
        "        self.combine_heads = layers.Dense(embed_dim)\n",
        "\n",
        "    def attention(self, query, key, value):\n",
        "        score = tf.matmul(query, key, transpose_b=True)\n",
        "        dim_key = tf.cast(tf.shape(key)[-1], tf.float32)\n",
        "        scaled_score = score / tf.math.sqrt(dim_key)\n",
        "        weights = tf.nn.softmax(scaled_score, axis=-1)\n",
        "        output = tf.matmul(weights, value)\n",
        "        return output, weights\n",
        "\n",
        "    def separate_heads(self, x, batch_size):\n",
        "        x = tf.reshape(x, (batch_size, -1, self.num_heads, self.projection_dim))\n",
        "        return tf.transpose(x, perm=[0, 2, 1, 3])\n",
        "\n",
        "    def call(self, inputs):\n",
        "        # x.shape = [batch_size, seq_len, embedding_dim]\n",
        "        batch_size = tf.shape(inputs)[0]\n",
        "        query = self.query_dense(inputs)  # (batch_size, seq_len, embed_dim)\n",
        "        key = self.key_dense(inputs)  # (batch_size, seq_len, embed_dim)\n",
        "        value = self.value_dense(inputs)  # (batch_size, seq_len, embed_dim)\n",
        "        query = self.separate_heads(\n",
        "            query, batch_size\n",
        "        )  # (batch_size, num_heads, seq_len, projection_dim)\n",
        "        key = self.separate_heads(\n",
        "            key, batch_size\n",
        "        )  # (batch_size, num_heads, seq_len, projection_dim)\n",
        "        value = self.separate_heads(\n",
        "            value, batch_size\n",
        "        )  # (batch_size, num_heads, seq_len, projection_dim)\n",
        "        attention, weights = self.attention(query, key, value)\n",
        "        attention = tf.transpose(\n",
        "            attention, perm=[0, 2, 1, 3]\n",
        "        )  # (batch_size, seq_len, num_heads, projection_dim)\n",
        "        concat_attention = tf.reshape(\n",
        "            attention, (batch_size, -1, self.embed_dim)\n",
        "        )  # (batch_size, seq_len, embed_dim)\n",
        "        output = self.combine_heads(\n",
        "            concat_attention\n",
        "        )  # (batch_size, seq_len, embed_dim)\n",
        "        return output\n",
        "\n",
        "\n",
        "\"\"\"\n",
        "## Implement a Transformer block as a layer\n",
        "\"\"\"\n",
        "\n",
        "\n",
        "class TransformerBlock(layers.Layer):\n",
        "    def __init__(self, embed_dim, num_heads, ff_dim, rate=0.1):\n",
        "        super(TransformerBlock, self).__init__()\n",
        "        self.att = MultiHeadSelfAttention(embed_dim, num_heads)\n",
        "        self.ffn = keras.Sequential(\n",
        "            [layers.Dense(ff_dim, activation=\"relu\"), layers.Dense(embed_dim),]\n",
        "        )\n",
        "        self.layernorm1 = layers.LayerNormalization(epsilon=1e-6)\n",
        "        self.layernorm2 = layers.LayerNormalization(epsilon=1e-6)\n",
        "        self.dropout1 = layers.Dropout(rate)\n",
        "        self.dropout2 = layers.Dropout(rate)\n",
        "\n",
        "    def call(self, inputs, training):\n",
        "        attn_output = self.att(inputs)\n",
        "        attn_output = self.dropout1(attn_output, training=training)\n",
        "        out1 = self.layernorm1(inputs + attn_output)\n",
        "        ffn_output = self.ffn(out1)\n",
        "        ffn_output = self.dropout2(ffn_output, training=training)\n",
        "        return self.layernorm2(out1 + ffn_output)\n",
        "\n",
        "\n",
        "\"\"\"\n",
        "## Implement embedding layer\n",
        "\n",
        "Two seperate embedding layers, one for tokens, one for token index (positions).\n",
        "\"\"\"\n",
        "\n",
        "\n",
        "class TokenAndPositionEmbedding(layers.Layer):\n",
        "    def __init__(self, maxlen, vocab_size, embed_dim):\n",
        "        super(TokenAndPositionEmbedding, self).__init__()\n",
        "        self.token_emb = layers.Embedding(input_dim=vocab_size, output_dim=embed_dim)\n",
        "        self.pos_emb = layers.Embedding(input_dim=maxlen, output_dim=embed_dim)\n",
        "\n",
        "    def call(self, x):\n",
        "        maxlen = tf.shape(x)[-1]\n",
        "        positions = tf.range(start=0, limit=maxlen, delta=1)\n",
        "        positions = self.pos_emb(positions)\n",
        "        x = self.token_emb(x)\n",
        "        return x + positions\n",
        "\n"
      ],
      "execution_count": null,
      "outputs": []
    },
    {
      "cell_type": "markdown",
      "metadata": {
        "id": "GIg_SvU1JnP1"
      },
      "source": [
        "### Подготовка данных"
      ]
    },
    {
      "cell_type": "code",
      "metadata": {
        "id": "EQfNNB3pz4QR",
        "outputId": "d6ce8591-2589-46d3-909a-4d6daa2344c5",
        "colab": {
          "base_uri": "https://localhost:8080/"
        }
      },
      "source": [
        "%%time\n",
        "# directory = '/content/drive/My Drive/Базы/Договора432/'\n",
        "directory = '/content/Договора432/'\n",
        "agreements = [] # Список, в который запишем все наши договоры\n",
        "for filename in os.listdir(directory): # Проходим по всем файлам в директории договоров\n",
        "    txt = readText(directory + filename) # Читаем текст договора\n",
        "    if txt != '': # Если текст не пустой\n",
        "        agreements.append(readText(directory + filename))\n",
        "words = [] # Здесь будут храниться все договора в виде списка слов\n",
        "print(\"Токенизация...\")\n",
        "curTime = time.time() # Засечем текущее время\n",
        "for i in range(len(agreements)): # Проходимся по всем договорам\n",
        "    words.append(text2Words(agreements[i])) # Преобразуем очередной договор в список слов и добавляем в words\n",
        "print('На преобразование ушло:', round(time.time() - curTime, 2), 'с.')\n",
        "\n",
        "random.shuffle(words)\n",
        "wordsToTest = words[-30:] # Возьмем 30 текстов для финальной проверки обученной нейронной сети \n",
        "words = words[:-30] \n",
        "\n",
        "tokenizer = Tokenizer(lower=True, filters='', char_level=False)\n",
        "\n",
        "tokenizer.fit_on_texts(words) # \"Скармливаем\" наши тексты, т.е. даём в обработку методу, который соберет словарь частотности\n",
        "clean_voc = {} \n",
        "\n",
        "for item in tokenizer.word_index.items(): #Преобразуем полученный список \n",
        "    clean_voc[item[0]] = item[1]\n",
        "\n",
        "tok_agreem = tokenizer.texts_to_sequences(words)\n",
        "\n",
        "tags_index = ['<s' + str(i) + '>' for i in range(1, 7)] # Получаем список открывающих тегов\n",
        "closetags = ['</s' + str(i) + '>' for i in range(1, 7)] # Получаем список закрывающих тегов\n",
        "tags_index.extend(closetags) # Объединяем все теги\n",
        "\n",
        "tags_index = np.array([clean_voc[i] for i in tags_index]) # Получаем из словаря частотности индексы всех тегов\n",
        "print('Индексы тегов:', tags_index)\n",
        "\n",
        "xData, yData = get01XSamples(tok_agreem, tags_index) # Распознаем теги и создаем список с ними, с индексами\n",
        "decoded_text = reverseIndex(clean_voc, xData) # Для создания списков с embedding-ами сначала преобразуем список индексов обратно в слова\n",
        "\n",
        "xLen = 256 # Длина окна\n",
        "step = 30 # Шаг \n",
        "embeddingSize = 300\n",
        "\n",
        "xTrain = getSetFromIndexes(decoded_text, xLen, step) # Последовательность из xLen слов\n",
        "yTrain = getSetFromIndexes(yData, xLen, step) # Последовательность из xLen-тегов\n",
        "\n",
        "modelGENSIM = word2vec.Word2Vec(xTrain, size=embeddingSize, window=10, min_count=1, workers=10, iter=10)\n",
        "xTrainGENSIM, yTrainGENSIM = getSets(modelGENSIM, xTrain, yTrain)"
      ],
      "execution_count": null,
      "outputs": [
        {
          "output_type": "stream",
          "text": [
            "Токенизация...\n",
            "На преобразование ушло: 145.28 с.\n",
            "Индексы тегов: [ 12 348  22  28 116 273  13 349  23  29 117 274]\n"
          ],
          "name": "stdout"
        },
        {
          "output_type": "stream",
          "text": [
            "/usr/local/lib/python3.6/dist-packages/ipykernel_launcher.py:118: DeprecationWarning: Call to deprecated `__getitem__` (Method will be removed in 4.0.0, use self.wv.__getitem__() instead).\n"
          ],
          "name": "stderr"
        },
        {
          "output_type": "stream",
          "text": [
            "CPU times: user 4min 32s, sys: 7.39 s, total: 4min 40s\n",
            "Wall time: 3min 43s\n"
          ],
          "name": "stdout"
        }
      ]
    },
    {
      "cell_type": "code",
      "metadata": {
        "id": "_5OoYh54Sthb",
        "outputId": "51a87be9-4849-433e-9af8-d907961f95cf",
        "colab": {
          "base_uri": "https://localhost:8080/"
        }
      },
      "source": [
        "# Проверка что число открывающихся тэгов равно числу закрывающихся.\n",
        "counts = {}\n",
        "for con in tok_agreem:\n",
        "    for i in con:\n",
        "        if i in tags_index:\n",
        "            tag = tokenizer.index_word[i]\n",
        "            if tag in counts.keys():\n",
        "                counts[tag] += 1\n",
        "            else:\n",
        "                counts[tag] = 1\n",
        "\n",
        "for i in range(1, 7):\n",
        "    print (\"<s%d>: %d, </s%d>: %d\" % (i, counts['<s%d>' % i], i , counts['</s%d>' % i]))"
      ],
      "execution_count": null,
      "outputs": [
        {
          "output_type": "stream",
          "text": [
            "<s1>: 4322, </s1>: 4322\n",
            "<s2>: 204, </s2>: 204\n",
            "<s3>: 2490, </s3>: 2490\n",
            "<s4>: 2095, </s4>: 2095\n",
            "<s5>: 691, </s5>: 691\n",
            "<s6>: 279, </s6>: 279\n"
          ],
          "name": "stdout"
        }
      ]
    },
    {
      "cell_type": "markdown",
      "metadata": {
        "id": "9iKme2fZGhFG"
      },
      "source": [
        "### Conv1D"
      ]
    },
    {
      "cell_type": "code",
      "metadata": {
        "id": "U9YgkYo7zMGS",
        "outputId": "7d94ba2a-df32-4273-ae58-eb82936c648a",
        "colab": {
          "base_uri": "https://localhost:8080/"
        }
      },
      "source": [
        "model_conv1d = create_Conv1d(xLen, embeddingSize) # Создаем простую сеть\n",
        "model_conv1d.summary()"
      ],
      "execution_count": null,
      "outputs": [
        {
          "output_type": "stream",
          "text": [
            "Model: \"functional_1\"\n",
            "_________________________________________________________________\n",
            "Layer (type)                 Output Shape              Param #   \n",
            "=================================================================\n",
            "input_1 (InputLayer)         [(None, 256, 300)]        0         \n",
            "_________________________________________________________________\n",
            "conv1d (Conv1D)              (None, 256, 16)           14416     \n",
            "_________________________________________________________________\n",
            "conv1d_1 (Conv1D)            (None, 256, 16)           784       \n",
            "_________________________________________________________________\n",
            "conv1d_2 (Conv1D)            (None, 256, 16)           784       \n",
            "_________________________________________________________________\n",
            "conv1d_3 (Conv1D)            (None, 256, 6)            294       \n",
            "=================================================================\n",
            "Total params: 16,278\n",
            "Trainable params: 16,278\n",
            "Non-trainable params: 0\n",
            "_________________________________________________________________\n"
          ],
          "name": "stdout"
        }
      ]
    },
    {
      "cell_type": "code",
      "metadata": {
        "id": "quhNP830zMKW"
      },
      "source": [
        "history = model_conv1d.fit(xTrainGENSIM, yTrainGENSIM, epochs=20, batch_size=200, validation_split = 0.2)"
      ],
      "execution_count": null,
      "outputs": []
    },
    {
      "cell_type": "markdown",
      "metadata": {
        "id": "HXoO-zjEGmK9"
      },
      "source": [
        "### PSPnet"
      ]
    },
    {
      "cell_type": "code",
      "metadata": {
        "id": "YV9J79JBzMNq",
        "outputId": "adc8acf3-509a-408e-b918-7f5031ada4f4",
        "colab": {
          "base_uri": "https://localhost:8080/"
        }
      },
      "source": [
        "model_b_PSPnet = create_PSPNet(input_shape=(xLen, embeddingSize))\n",
        "model_b_PSPnet.summary()"
      ],
      "execution_count": null,
      "outputs": [
        {
          "output_type": "stream",
          "text": [
            "Model: \"functional_3\"\n",
            "__________________________________________________________________________________________________\n",
            "Layer (type)                    Output Shape         Param #     Connected to                     \n",
            "==================================================================================================\n",
            "input_2 (InputLayer)            [(None, 256, 300)]   0                                            \n",
            "__________________________________________________________________________________________________\n",
            "conv1d_4 (Conv1D)               (None, 256, 64)      57664       input_2[0][0]                    \n",
            "__________________________________________________________________________________________________\n",
            "batch_normalization (BatchNorma (None, 256, 64)      256         conv1d_4[0][0]                   \n",
            "__________________________________________________________________________________________________\n",
            "activation (Activation)         (None, 256, 64)      0           batch_normalization[0][0]        \n",
            "__________________________________________________________________________________________________\n",
            "conv1d_5 (Conv1D)               (None, 256, 64)      12352       activation[0][0]                 \n",
            "__________________________________________________________________________________________________\n",
            "batch_normalization_1 (BatchNor (None, 256, 64)      256         conv1d_5[0][0]                   \n",
            "__________________________________________________________________________________________________\n",
            "activation_1 (Activation)       (None, 256, 64)      0           batch_normalization_1[0][0]      \n",
            "__________________________________________________________________________________________________\n",
            "max_pooling1d (MaxPooling1D)    (None, 128, 64)      0           activation_1[0][0]               \n",
            "__________________________________________________________________________________________________\n",
            "max_pooling1d_1 (MaxPooling1D)  (None, 64, 64)       0           activation_1[0][0]               \n",
            "__________________________________________________________________________________________________\n",
            "max_pooling1d_2 (MaxPooling1D)  (None, 32, 64)       0           activation_1[0][0]               \n",
            "__________________________________________________________________________________________________\n",
            "max_pooling1d_3 (MaxPooling1D)  (None, 16, 64)       0           activation_1[0][0]               \n",
            "__________________________________________________________________________________________________\n",
            "max_pooling1d_4 (MaxPooling1D)  (None, 8, 64)        0           activation_1[0][0]               \n",
            "__________________________________________________________________________________________________\n",
            "conv1d_6 (Conv1D)               (None, 128, 64)      12352       max_pooling1d[0][0]              \n",
            "__________________________________________________________________________________________________\n",
            "conv1d_7 (Conv1D)               (None, 64, 64)       12352       max_pooling1d_1[0][0]            \n",
            "__________________________________________________________________________________________________\n",
            "conv1d_8 (Conv1D)               (None, 32, 64)       12352       max_pooling1d_2[0][0]            \n",
            "__________________________________________________________________________________________________\n",
            "conv1d_9 (Conv1D)               (None, 16, 64)       12352       max_pooling1d_3[0][0]            \n",
            "__________________________________________________________________________________________________\n",
            "conv1d_10 (Conv1D)              (None, 8, 64)        12352       max_pooling1d_4[0][0]            \n",
            "__________________________________________________________________________________________________\n",
            "dropout (Dropout)               (None, 128, 64)      0           conv1d_6[0][0]                   \n",
            "__________________________________________________________________________________________________\n",
            "dropout_1 (Dropout)             (None, 64, 64)       0           conv1d_7[0][0]                   \n",
            "__________________________________________________________________________________________________\n",
            "dropout_2 (Dropout)             (None, 32, 64)       0           conv1d_8[0][0]                   \n",
            "__________________________________________________________________________________________________\n",
            "dropout_3 (Dropout)             (None, 16, 64)       0           conv1d_9[0][0]                   \n",
            "__________________________________________________________________________________________________\n",
            "dropout_4 (Dropout)             (None, 8, 64)        0           conv1d_10[0][0]                  \n",
            "__________________________________________________________________________________________________\n",
            "lambda (Lambda)                 (None, 128, 1, 64)   0           dropout[0][0]                    \n",
            "__________________________________________________________________________________________________\n",
            "lambda_2 (Lambda)               (None, 64, 1, 64)    0           dropout_1[0][0]                  \n",
            "__________________________________________________________________________________________________\n",
            "lambda_4 (Lambda)               (None, 32, 1, 64)    0           dropout_2[0][0]                  \n",
            "__________________________________________________________________________________________________\n",
            "lambda_6 (Lambda)               (None, 16, 1, 64)    0           dropout_3[0][0]                  \n",
            "__________________________________________________________________________________________________\n",
            "lambda_8 (Lambda)               (None, 8, 1, 64)     0           dropout_4[0][0]                  \n",
            "__________________________________________________________________________________________________\n",
            "conv2d_transpose (Conv2DTranspo (None, 256, 1, 64)   8256        lambda[0][0]                     \n",
            "__________________________________________________________________________________________________\n",
            "conv2d_transpose_1 (Conv2DTrans (None, 256, 1, 64)   16448       lambda_2[0][0]                   \n",
            "__________________________________________________________________________________________________\n",
            "conv2d_transpose_2 (Conv2DTrans (None, 256, 1, 64)   32832       lambda_4[0][0]                   \n",
            "__________________________________________________________________________________________________\n",
            "conv2d_transpose_3 (Conv2DTrans (None, 256, 1, 64)   65600       lambda_6[0][0]                   \n",
            "__________________________________________________________________________________________________\n",
            "conv2d_transpose_4 (Conv2DTrans (None, 256, 1, 64)   131136      lambda_8[0][0]                   \n",
            "__________________________________________________________________________________________________\n",
            "lambda_1 (Lambda)               (None, 256, 64)      0           conv2d_transpose[0][0]           \n",
            "__________________________________________________________________________________________________\n",
            "lambda_3 (Lambda)               (None, 256, 64)      0           conv2d_transpose_1[0][0]         \n",
            "__________________________________________________________________________________________________\n",
            "lambda_5 (Lambda)               (None, 256, 64)      0           conv2d_transpose_2[0][0]         \n",
            "__________________________________________________________________________________________________\n",
            "lambda_7 (Lambda)               (None, 256, 64)      0           conv2d_transpose_3[0][0]         \n",
            "__________________________________________________________________________________________________\n",
            "lambda_9 (Lambda)               (None, 256, 64)      0           conv2d_transpose_4[0][0]         \n",
            "__________________________________________________________________________________________________\n",
            "activation_2 (Activation)       (None, 256, 64)      0           lambda_1[0][0]                   \n",
            "__________________________________________________________________________________________________\n",
            "activation_3 (Activation)       (None, 256, 64)      0           lambda_3[0][0]                   \n",
            "__________________________________________________________________________________________________\n",
            "activation_4 (Activation)       (None, 256, 64)      0           lambda_5[0][0]                   \n",
            "__________________________________________________________________________________________________\n",
            "activation_5 (Activation)       (None, 256, 64)      0           lambda_7[0][0]                   \n",
            "__________________________________________________________________________________________________\n",
            "activation_6 (Activation)       (None, 256, 64)      0           lambda_9[0][0]                   \n",
            "__________________________________________________________________________________________________\n",
            "concatenate (Concatenate)       (None, 256, 620)     0           input_2[0][0]                    \n",
            "                                                                 activation_2[0][0]               \n",
            "                                                                 activation_3[0][0]               \n",
            "                                                                 activation_4[0][0]               \n",
            "                                                                 activation_5[0][0]               \n",
            "                                                                 activation_6[0][0]               \n",
            "__________________________________________________________________________________________________\n",
            "conv1d_11 (Conv1D)              (None, 256, 64)      119104      concatenate[0][0]                \n",
            "__________________________________________________________________________________________________\n",
            "batch_normalization_2 (BatchNor (None, 256, 64)      256         conv1d_11[0][0]                  \n",
            "__________________________________________________________________________________________________\n",
            "activation_7 (Activation)       (None, 256, 64)      0           batch_normalization_2[0][0]      \n",
            "__________________________________________________________________________________________________\n",
            "conv1d_12 (Conv1D)              (None, 256, 64)      12352       activation_7[0][0]               \n",
            "__________________________________________________________________________________________________\n",
            "batch_normalization_3 (BatchNor (None, 256, 64)      256         conv1d_12[0][0]                  \n",
            "__________________________________________________________________________________________________\n",
            "activation_8 (Activation)       (None, 256, 64)      0           batch_normalization_3[0][0]      \n",
            "__________________________________________________________________________________________________\n",
            "conv1d_13 (Conv1D)              (None, 256, 6)       1158        activation_8[0][0]               \n",
            "==================================================================================================\n",
            "Total params: 519,686\n",
            "Trainable params: 519,174\n",
            "Non-trainable params: 512\n",
            "__________________________________________________________________________________________________\n"
          ],
          "name": "stdout"
        }
      ]
    },
    {
      "cell_type": "code",
      "metadata": {
        "id": "p6seCK6mzMUr"
      },
      "source": [
        "history = model_b_PSPnet.fit(xTrainGENSIM, yTrainGENSIM, epochs=20, batch_size=64, validation_split = 0.2)"
      ],
      "execution_count": null,
      "outputs": []
    },
    {
      "cell_type": "code",
      "metadata": {
        "id": "MNZ6lLLyzMaQ"
      },
      "source": [
        "model_b_PSPnet = create_PSPNet(conv_size=256, input_shape=(xLen, embeddingSize))\n",
        "model_b_PSPnet.summary()"
      ],
      "execution_count": null,
      "outputs": []
    },
    {
      "cell_type": "code",
      "metadata": {
        "id": "zQz5KcbrzMS6"
      },
      "source": [
        "history = model_b_PSPnet.fit(xTrainGENSIM, yTrainGENSIM, epochs=60, batch_size=64, validation_split = 0.2)"
      ],
      "execution_count": null,
      "outputs": []
    },
    {
      "cell_type": "markdown",
      "metadata": {
        "id": "SDE5xJ7lHOn7"
      },
      "source": [
        "### U-net"
      ]
    },
    {
      "cell_type": "code",
      "metadata": {
        "id": "PbV8j_A4HDzO",
        "outputId": "466139fa-3f95-4a30-dde5-474295b3bba0",
        "colab": {
          "base_uri": "https://localhost:8080/"
        }
      },
      "source": [
        "model_b_UNET = create_unet(k=2, input_shape=(None, embeddingSize))\n",
        "model_b_UNET.summary()\n",
        "lh = LearnHistory()"
      ],
      "execution_count": null,
      "outputs": [
        {
          "output_type": "stream",
          "text": [
            "Model: \"functional_7\"\n",
            "__________________________________________________________________________________________________\n",
            "Layer (type)                    Output Shape         Param #     Connected to                     \n",
            "==================================================================================================\n",
            "input_2 (InputLayer)            [(None, None, 300)]  0                                            \n",
            "__________________________________________________________________________________________________\n",
            "conv1d_17 (Conv1D)              (None, None, 128)    115328      input_2[0][0]                    \n",
            "__________________________________________________________________________________________________\n",
            "batch_normalization_19 (BatchNo (None, None, 128)    512         conv1d_17[0][0]                  \n",
            "__________________________________________________________________________________________________\n",
            "activation_19 (Activation)      (None, None, 128)    0           batch_normalization_19[0][0]     \n",
            "__________________________________________________________________________________________________\n",
            "conv1d_18 (Conv1D)              (None, None, 128)    49280       activation_19[0][0]              \n",
            "__________________________________________________________________________________________________\n",
            "batch_normalization_20 (BatchNo (None, None, 128)    512         conv1d_18[0][0]                  \n",
            "__________________________________________________________________________________________________\n",
            "activation_20 (Activation)      (None, None, 128)    0           batch_normalization_20[0][0]     \n",
            "__________________________________________________________________________________________________\n",
            "max_pooling1d_3 (MaxPooling1D)  (None, None, 128)    0           activation_20[0][0]              \n",
            "__________________________________________________________________________________________________\n",
            "conv1d_19 (Conv1D)              (None, None, 256)    98560       max_pooling1d_3[0][0]            \n",
            "__________________________________________________________________________________________________\n",
            "batch_normalization_21 (BatchNo (None, None, 256)    1024        conv1d_19[0][0]                  \n",
            "__________________________________________________________________________________________________\n",
            "activation_21 (Activation)      (None, None, 256)    0           batch_normalization_21[0][0]     \n",
            "__________________________________________________________________________________________________\n",
            "conv1d_20 (Conv1D)              (None, None, 256)    196864      activation_21[0][0]              \n",
            "__________________________________________________________________________________________________\n",
            "batch_normalization_22 (BatchNo (None, None, 256)    1024        conv1d_20[0][0]                  \n",
            "__________________________________________________________________________________________________\n",
            "activation_22 (Activation)      (None, None, 256)    0           batch_normalization_22[0][0]     \n",
            "__________________________________________________________________________________________________\n",
            "max_pooling1d_4 (MaxPooling1D)  (None, None, 256)    0           activation_22[0][0]              \n",
            "__________________________________________________________________________________________________\n",
            "conv1d_21 (Conv1D)              (None, None, 512)    393728      max_pooling1d_4[0][0]            \n",
            "__________________________________________________________________________________________________\n",
            "batch_normalization_23 (BatchNo (None, None, 512)    2048        conv1d_21[0][0]                  \n",
            "__________________________________________________________________________________________________\n",
            "activation_23 (Activation)      (None, None, 512)    0           batch_normalization_23[0][0]     \n",
            "__________________________________________________________________________________________________\n",
            "conv1d_22 (Conv1D)              (None, None, 512)    786944      activation_23[0][0]              \n",
            "__________________________________________________________________________________________________\n",
            "batch_normalization_24 (BatchNo (None, None, 512)    2048        conv1d_22[0][0]                  \n",
            "__________________________________________________________________________________________________\n",
            "activation_24 (Activation)      (None, None, 512)    0           batch_normalization_24[0][0]     \n",
            "__________________________________________________________________________________________________\n",
            "conv1d_23 (Conv1D)              (None, None, 512)    786944      activation_24[0][0]              \n",
            "__________________________________________________________________________________________________\n",
            "batch_normalization_25 (BatchNo (None, None, 512)    2048        conv1d_23[0][0]                  \n",
            "__________________________________________________________________________________________________\n",
            "activation_25 (Activation)      (None, None, 512)    0           batch_normalization_25[0][0]     \n",
            "__________________________________________________________________________________________________\n",
            "max_pooling1d_5 (MaxPooling1D)  (None, None, 512)    0           activation_25[0][0]              \n",
            "__________________________________________________________________________________________________\n",
            "conv1d_24 (Conv1D)              (None, None, 1024)   1573888     max_pooling1d_5[0][0]            \n",
            "__________________________________________________________________________________________________\n",
            "batch_normalization_26 (BatchNo (None, None, 1024)   4096        conv1d_24[0][0]                  \n",
            "__________________________________________________________________________________________________\n",
            "activation_26 (Activation)      (None, None, 1024)   0           batch_normalization_26[0][0]     \n",
            "__________________________________________________________________________________________________\n",
            "conv1d_25 (Conv1D)              (None, None, 1024)   3146752     activation_26[0][0]              \n",
            "__________________________________________________________________________________________________\n",
            "batch_normalization_27 (BatchNo (None, None, 1024)   4096        conv1d_25[0][0]                  \n",
            "__________________________________________________________________________________________________\n",
            "activation_27 (Activation)      (None, None, 1024)   0           batch_normalization_27[0][0]     \n",
            "__________________________________________________________________________________________________\n",
            "conv1d_26 (Conv1D)              (None, None, 1024)   3146752     activation_27[0][0]              \n",
            "__________________________________________________________________________________________________\n",
            "batch_normalization_28 (BatchNo (None, None, 1024)   4096        conv1d_26[0][0]                  \n",
            "__________________________________________________________________________________________________\n",
            "activation_28 (Activation)      (None, None, 1024)   0           batch_normalization_28[0][0]     \n",
            "__________________________________________________________________________________________________\n",
            "lambda_6 (Lambda)               (None, None, 1, 1024 0           activation_28[0][0]              \n",
            "__________________________________________________________________________________________________\n",
            "conv2d_transpose_3 (Conv2DTrans (None, None, 1, 256) 524544      lambda_6[0][0]                   \n",
            "__________________________________________________________________________________________________\n",
            "lambda_7 (Lambda)               (None, None, 256)    0           conv2d_transpose_3[0][0]         \n",
            "__________________________________________________________________________________________________\n",
            "batch_normalization_29 (BatchNo (None, None, 256)    1024        lambda_7[0][0]                   \n",
            "__________________________________________________________________________________________________\n",
            "activation_29 (Activation)      (None, None, 256)    0           batch_normalization_29[0][0]     \n",
            "__________________________________________________________________________________________________\n",
            "concatenate_3 (Concatenate)     (None, None, 768)    0           activation_29[0][0]              \n",
            "                                                                 activation_25[0][0]              \n",
            "__________________________________________________________________________________________________\n",
            "conv1d_27 (Conv1D)              (None, None, 512)    1180160     concatenate_3[0][0]              \n",
            "__________________________________________________________________________________________________\n",
            "batch_normalization_30 (BatchNo (None, None, 512)    2048        conv1d_27[0][0]                  \n",
            "__________________________________________________________________________________________________\n",
            "activation_30 (Activation)      (None, None, 512)    0           batch_normalization_30[0][0]     \n",
            "__________________________________________________________________________________________________\n",
            "conv1d_28 (Conv1D)              (None, None, 512)    786944      activation_30[0][0]              \n",
            "__________________________________________________________________________________________________\n",
            "batch_normalization_31 (BatchNo (None, None, 512)    2048        conv1d_28[0][0]                  \n",
            "__________________________________________________________________________________________________\n",
            "activation_31 (Activation)      (None, None, 512)    0           batch_normalization_31[0][0]     \n",
            "__________________________________________________________________________________________________\n",
            "lambda_8 (Lambda)               (None, None, 1, 512) 0           activation_31[0][0]              \n",
            "__________________________________________________________________________________________________\n",
            "conv2d_transpose_4 (Conv2DTrans (None, None, 1, 128) 131200      lambda_8[0][0]                   \n",
            "__________________________________________________________________________________________________\n",
            "lambda_9 (Lambda)               (None, None, 128)    0           conv2d_transpose_4[0][0]         \n",
            "__________________________________________________________________________________________________\n",
            "batch_normalization_32 (BatchNo (None, None, 128)    512         lambda_9[0][0]                   \n",
            "__________________________________________________________________________________________________\n",
            "activation_32 (Activation)      (None, None, 128)    0           batch_normalization_32[0][0]     \n",
            "__________________________________________________________________________________________________\n",
            "concatenate_4 (Concatenate)     (None, None, 384)    0           activation_32[0][0]              \n",
            "                                                                 activation_22[0][0]              \n",
            "__________________________________________________________________________________________________\n",
            "conv1d_29 (Conv1D)              (None, None, 256)    295168      concatenate_4[0][0]              \n",
            "__________________________________________________________________________________________________\n",
            "batch_normalization_33 (BatchNo (None, None, 256)    1024        conv1d_29[0][0]                  \n",
            "__________________________________________________________________________________________________\n",
            "activation_33 (Activation)      (None, None, 256)    0           batch_normalization_33[0][0]     \n",
            "__________________________________________________________________________________________________\n",
            "conv1d_30 (Conv1D)              (None, None, 256)    196864      activation_33[0][0]              \n",
            "__________________________________________________________________________________________________\n",
            "batch_normalization_34 (BatchNo (None, None, 256)    1024        conv1d_30[0][0]                  \n",
            "__________________________________________________________________________________________________\n",
            "activation_34 (Activation)      (None, None, 256)    0           batch_normalization_34[0][0]     \n",
            "__________________________________________________________________________________________________\n",
            "lambda_10 (Lambda)              (None, None, 1, 256) 0           activation_34[0][0]              \n",
            "__________________________________________________________________________________________________\n",
            "conv2d_transpose_5 (Conv2DTrans (None, None, 1, 64)  32832       lambda_10[0][0]                  \n",
            "__________________________________________________________________________________________________\n",
            "lambda_11 (Lambda)              (None, None, 64)     0           conv2d_transpose_5[0][0]         \n",
            "__________________________________________________________________________________________________\n",
            "batch_normalization_35 (BatchNo (None, None, 64)     256         lambda_11[0][0]                  \n",
            "__________________________________________________________________________________________________\n",
            "activation_35 (Activation)      (None, None, 64)     0           batch_normalization_35[0][0]     \n",
            "__________________________________________________________________________________________________\n",
            "concatenate_5 (Concatenate)     (None, None, 192)    0           activation_35[0][0]              \n",
            "                                                                 activation_20[0][0]              \n",
            "__________________________________________________________________________________________________\n",
            "conv1d_31 (Conv1D)              (None, None, 128)    73856       concatenate_5[0][0]              \n",
            "__________________________________________________________________________________________________\n",
            "batch_normalization_36 (BatchNo (None, None, 128)    512         conv1d_31[0][0]                  \n",
            "__________________________________________________________________________________________________\n",
            "activation_36 (Activation)      (None, None, 128)    0           batch_normalization_36[0][0]     \n",
            "__________________________________________________________________________________________________\n",
            "conv1d_32 (Conv1D)              (None, None, 128)    49280       activation_36[0][0]              \n",
            "__________________________________________________________________________________________________\n",
            "batch_normalization_37 (BatchNo (None, None, 128)    512         conv1d_32[0][0]                  \n",
            "__________________________________________________________________________________________________\n",
            "activation_37 (Activation)      (None, None, 128)    0           batch_normalization_37[0][0]     \n",
            "__________________________________________________________________________________________________\n",
            "conv1d_33 (Conv1D)              (None, None, 6)      2310        activation_37[0][0]              \n",
            "==================================================================================================\n",
            "Total params: 13,598,662\n",
            "Trainable params: 13,583,430\n",
            "Non-trainable params: 15,232\n",
            "__________________________________________________________________________________________________\n"
          ],
          "name": "stdout"
        }
      ]
    },
    {
      "cell_type": "code",
      "metadata": {
        "id": "BIadXDdQHD37",
        "outputId": "cb01f92d-5d48-4e86-b0b8-954c6946e3d1",
        "colab": {
          "base_uri": "https://localhost:8080/",
          "height": 975
        }
      },
      "source": [
        "history = model_b_UNET.fit(xTrainGENSIM, yTrainGENSIM, epochs=20, batch_size=64, validation_split = 0.2)\n",
        "lh.append(history)\n",
        "lh.plot()"
      ],
      "execution_count": null,
      "outputs": [
        {
          "output_type": "stream",
          "text": [
            "Epoch 1/20\n",
            "171/171 [==============================] - 11s 66ms/step - loss: 0.5128 - dice_coef: 0.8319 - val_loss: 2.9426 - val_dice_coef: 0.7569\n",
            "Epoch 2/20\n",
            "171/171 [==============================] - 11s 62ms/step - loss: 0.3124 - dice_coef: 0.8843 - val_loss: 1.0298 - val_dice_coef: 0.8236\n",
            "Epoch 3/20\n",
            "171/171 [==============================] - 10s 61ms/step - loss: 0.2543 - dice_coef: 0.8999 - val_loss: 1.0232 - val_dice_coef: 0.8664\n",
            "Epoch 4/20\n",
            "171/171 [==============================] - 10s 61ms/step - loss: 0.2261 - dice_coef: 0.9095 - val_loss: 1.3907 - val_dice_coef: 0.8563\n",
            "Epoch 5/20\n",
            "171/171 [==============================] - 10s 61ms/step - loss: 0.2275 - dice_coef: 0.9116 - val_loss: 1.2712 - val_dice_coef: 0.8455\n",
            "Epoch 6/20\n",
            "171/171 [==============================] - 10s 61ms/step - loss: 0.2254 - dice_coef: 0.9125 - val_loss: 1.1322 - val_dice_coef: 0.8671\n",
            "Epoch 7/20\n",
            "171/171 [==============================] - 10s 61ms/step - loss: 0.1992 - dice_coef: 0.9231 - val_loss: 1.4015 - val_dice_coef: 0.8787\n",
            "Epoch 8/20\n",
            "171/171 [==============================] - 10s 61ms/step - loss: 0.2071 - dice_coef: 0.9202 - val_loss: 1.3785 - val_dice_coef: 0.8455\n",
            "Epoch 9/20\n",
            "171/171 [==============================] - 10s 61ms/step - loss: 0.2017 - dice_coef: 0.9236 - val_loss: 1.5666 - val_dice_coef: 0.8791\n",
            "Epoch 10/20\n",
            "171/171 [==============================] - 10s 60ms/step - loss: 0.2127 - dice_coef: 0.9198 - val_loss: 1.3978 - val_dice_coef: 0.8809\n",
            "Epoch 11/20\n",
            "171/171 [==============================] - 10s 60ms/step - loss: 0.1913 - dice_coef: 0.9288 - val_loss: 1.6287 - val_dice_coef: 0.8843\n",
            "Epoch 12/20\n",
            "171/171 [==============================] - 10s 60ms/step - loss: 0.2078 - dice_coef: 0.9226 - val_loss: 1.8499 - val_dice_coef: 0.8313\n",
            "Epoch 13/20\n",
            "171/171 [==============================] - 10s 61ms/step - loss: 0.1989 - dice_coef: 0.9256 - val_loss: 1.5827 - val_dice_coef: 0.8822\n",
            "Epoch 14/20\n",
            "171/171 [==============================] - 10s 61ms/step - loss: 0.1875 - dice_coef: 0.9312 - val_loss: 1.6216 - val_dice_coef: 0.8923\n",
            "Epoch 15/20\n",
            "171/171 [==============================] - 10s 61ms/step - loss: 0.1874 - dice_coef: 0.9326 - val_loss: 1.6112 - val_dice_coef: 0.8841\n",
            "Epoch 16/20\n",
            "171/171 [==============================] - 10s 61ms/step - loss: 0.1889 - dice_coef: 0.9318 - val_loss: 1.6165 - val_dice_coef: 0.8867\n",
            "Epoch 17/20\n",
            "171/171 [==============================] - 10s 60ms/step - loss: 0.1925 - dice_coef: 0.9306 - val_loss: 1.3968 - val_dice_coef: 0.8520\n",
            "Epoch 18/20\n",
            "171/171 [==============================] - 10s 60ms/step - loss: 0.2101 - dice_coef: 0.9220 - val_loss: 1.4372 - val_dice_coef: 0.8621\n",
            "Epoch 19/20\n",
            "171/171 [==============================] - 10s 60ms/step - loss: 0.1902 - dice_coef: 0.9297 - val_loss: 1.5089 - val_dice_coef: 0.8836\n",
            "Epoch 20/20\n",
            "171/171 [==============================] - 10s 60ms/step - loss: 0.1865 - dice_coef: 0.9333 - val_loss: 1.8986 - val_dice_coef: 0.8924\n"
          ],
          "name": "stdout"
        },
        {
          "output_type": "display_data",
          "data": {
            "image/png": "[encoded data removed]",
            "text/plain": [
              "<Figure size 432x288 with 1 Axes>"
            ]
          },
          "metadata": {
            "tags": [],
            "needs_background": "light"
          }
        }
      ]
    },
    {
      "cell_type": "markdown",
      "metadata": {
        "id": "6H_ECT_wHpkD"
      },
      "source": [
        "### Testing"
      ]
    },
    {
      "cell_type": "code",
      "metadata": {
        "id": "6Gdz0lx8HD8J",
        "outputId": "a963cd4b-662d-48b9-d08b-7555d69a29f5",
        "colab": {
          "base_uri": "https://localhost:8080/"
        }
      },
      "source": [
        "model = model_b_UNET \n",
        "\n",
        "xLen = 256 # Длина окна\n",
        "step = 30 # Шаг \n",
        "embeddingSize = 300\n",
        "tok_agreemTest = tokenizer.texts_to_sequences(wordsToTest)\n",
        "xDataTest, yDataTest = get01XSamples(tok_agreemTest,tags_index) # Распознаем теги и создаем список с ними, с индексами\n",
        "decoded_text = reverseIndex(clean_voc, xDataTest)\n",
        "xTest = getSetFromIndexes(decoded_text, xLen, step) # Последовательность из xLen слов\n",
        "yTest = getSetFromIndexes(yDataTest, xLen, step)\n",
        "modelGENSIM = word2vec.Word2Vec(xTest, size = embeddingSize, window = 10, min_count = 1, workers = 10, iter = 10)\n",
        "xTestGENSIM, yTestGENSIM = getSets(modelGENSIM, xTest, yTest)\n",
        "pred = model.predict(xTestGENSIM)\n",
        "recognizeSet(yTestGENSIM, pred, xLen, 0.9)"
      ],
      "execution_count": null,
      "outputs": [
        {
          "output_type": "stream",
          "text": [
            "/usr/local/lib/python3.6/dist-packages/ipykernel_launcher.py:115: DeprecationWarning: Call to deprecated `__getitem__` (Method will be removed in 4.0.0, use self.wv.__getitem__() instead).\n"
          ],
          "name": "stderr"
        },
        {
          "output_type": "stream",
          "text": [
            "Сеть распознала категорию 'S1' на 36.87%\n",
            "Сеть распознала категорию 'S2' на 97.86%\n",
            "Сеть распознала категорию 'S3' на 89.74%\n",
            "Сеть распознала категорию 'S4' на 51.43%\n",
            "Сеть распознала категорию 'S5' на 93.61%\n",
            "Сеть распознала категорию 'S6' на 98.50%\n",
            "Cредняя точность 78.00%\n"
          ],
          "name": "stdout"
        }
      ]
    },
    {
      "cell_type": "code",
      "metadata": {
        "id": "eZxTI3taR3sI",
        "outputId": "63044dbb-291b-48e7-d581-a1490d20c550",
        "colab": {
          "base_uri": "https://localhost:8080/"
        }
      },
      "source": [
        "recognizeSet(yTestGENSIM, pred, xLen, 0.5)"
      ],
      "execution_count": null,
      "outputs": [
        {
          "output_type": "stream",
          "text": [
            "Сеть распознала категорию 'S1' на 36.75%\n",
            "Сеть распознала категорию 'S2' на 97.86%\n",
            "Сеть распознала категорию 'S3' на 89.65%\n",
            "Сеть распознала категорию 'S4' на 29.69%\n",
            "Сеть распознала категорию 'S5' на 93.61%\n",
            "Сеть распознала категорию 'S6' на 98.50%\n",
            "Cредняя точность 74.34%\n"
          ],
          "name": "stdout"
        }
      ]
    },
    {
      "cell_type": "code",
      "metadata": {
        "id": "3yDBMDwmSBLY",
        "outputId": "51b8205b-07e3-439f-ffaa-871cc6fc3422",
        "colab": {
          "base_uri": "https://localhost:8080/"
        }
      },
      "source": [
        "recognizeSet(yTestGENSIM, pred, xLen, 0.999)"
      ],
      "execution_count": null,
      "outputs": [
        {
          "output_type": "stream",
          "text": [
            "Сеть распознала категорию 'S1' на 57.39%\n",
            "Сеть распознала категорию 'S2' на 97.86%\n",
            "Сеть распознала категорию 'S3' на 89.74%\n",
            "Сеть распознала категорию 'S4' на 89.76%\n",
            "Сеть распознала категорию 'S5' на 93.61%\n",
            "Сеть распознала категорию 'S6' на 98.50%\n",
            "Cредняя точность 87.81%\n"
          ],
          "name": "stdout"
        }
      ]
    },
    {
      "cell_type": "markdown",
      "metadata": {
        "id": "ZndKhnjab3AV"
      },
      "source": [
        "Обнаружен странный эффект - точность повышается, если задать порог в recognizeSet() близким к единице (см. выше). Хотя по логике этот порог надо задавать равным 0.5"
      ]
    },
    {
      "cell_type": "markdown",
      "metadata": {
        "id": "FReFw9RGIp7Z"
      },
      "source": [
        "## LIGHT "
      ]
    },
    {
      "cell_type": "markdown",
      "metadata": {
        "id": "NKakcUjXIyo4"
      },
      "source": [
        "### Сделайте свою собственную архитектуру \n",
        "и запустите, оцените точность на проверочной выборке\n"
      ]
    },
    {
      "cell_type": "markdown",
      "metadata": {
        "id": "C2bwODaB2w3X"
      },
      "source": [
        "Попробуем применить архитектуру Трансформер с собственным эмбеддингом."
      ]
    },
    {
      "cell_type": "code",
      "metadata": {
        "id": "acUitNQ0CgpM",
        "outputId": "45bad56b-8a3b-4ee0-9e54-a613f82516a9",
        "colab": {
          "base_uri": "https://localhost:8080/"
        }
      },
      "source": [
        "xLen = 256 # Длина окна\n",
        "step = 30 # Шаг \n",
        "embeddingSize = 300\n",
        "pageSize = xLen\n",
        "num_classes = 6\n",
        "vocSize = len(tokenizer.index_word.items()) + 1\n",
        "print(vocSize)\n",
        "\n",
        "x_train = np.array(getSetFromIndexes(xData, xLen, step))\n",
        "y_train = np.array(getSetFromIndexes(yData, xLen, step))\n",
        "x_train.shape, y_train.shape"
      ],
      "execution_count": null,
      "outputs": [
        {
          "output_type": "stream",
          "text": [
            "5681\n"
          ],
          "name": "stdout"
        },
        {
          "output_type": "execute_result",
          "data": {
            "text/plain": [
              "((13263, 256), (13263, 256, 6))"
            ]
          },
          "metadata": {
            "tags": []
          },
          "execution_count": 16
        }
      ]
    },
    {
      "cell_type": "code",
      "metadata": {
        "id": "Hx5PH_tP3LPh",
        "outputId": "09fecc4a-5f90-4690-f129-e8e03faf7aec",
        "colab": {
          "base_uri": "https://localhost:8080/"
        }
      },
      "source": [
        "num_heads = 3  # Number of attention heads\n",
        "ff_dim = 600  # Hidden layer size in feed forward network inside transformer\n",
        "\n",
        "inp = Input(shape=(pageSize,))\n",
        "x = TokenAndPositionEmbedding(pageSize, vocSize, embeddingSize)(inp)\n",
        "x = TransformerBlock(embeddingSize, num_heads, ff_dim)(x)\n",
        "# x = TransformerBlock(embeddingSize, num_heads, ff_dim)(x) # Можно добавлять блоки энкодера\n",
        "# x = TransformerBlock(embeddingSize, num_heads, ff_dim)(x)\n",
        "x = Dense(200, activation=\"relu\")(x)\n",
        "x = Dropout(0.1)(x)\n",
        "out = Dense(num_classes, activation=\"sigmoid\")(x)\n",
        "model = Model(inputs=inp, outputs=out)\n",
        "model.compile(optimizer=Adam(0.0025), loss='categorical_crossentropy', metrics=[dice_coef])\n",
        "model.summary()\n",
        "lh = LearnHistory()"
      ],
      "execution_count": null,
      "outputs": [
        {
          "output_type": "stream",
          "text": [
            "Model: \"functional_3\"\n",
            "_________________________________________________________________\n",
            "Layer (type)                 Output Shape              Param #   \n",
            "=================================================================\n",
            "input_2 (InputLayer)         [(None, 256)]             0         \n",
            "_________________________________________________________________\n",
            "token_and_position_embedding (None, 256, 300)          1781100   \n",
            "_________________________________________________________________\n",
            "transformer_block_1 (Transfo (None, 256, 300)          723300    \n",
            "_________________________________________________________________\n",
            "dense_14 (Dense)             (None, 256, 200)          60200     \n",
            "_________________________________________________________________\n",
            "dropout_5 (Dropout)          (None, 256, 200)          0         \n",
            "_________________________________________________________________\n",
            "dense_15 (Dense)             (None, 256, 6)            1206      \n",
            "=================================================================\n",
            "Total params: 2,565,806\n",
            "Trainable params: 2,565,806\n",
            "Non-trainable params: 0\n",
            "_________________________________________________________________\n"
          ],
          "name": "stdout"
        }
      ]
    },
    {
      "cell_type": "code",
      "metadata": {
        "id": "_Rvnz1QT3LUe",
        "outputId": "55dcfdb8-42b4-4514-ffd3-90b69ceb641d",
        "colab": {
          "base_uri": "https://localhost:8080/",
          "height": 1000
        }
      },
      "source": [
        "history = model.fit(x_train, y_train, epochs=30, batch_size=10, validation_split=0.1)\n",
        "lh.append(history)\n",
        "lh.plot()"
      ],
      "execution_count": null,
      "outputs": [
        {
          "output_type": "stream",
          "text": [
            "Epoch 1/30\n",
            "1194/1194 [==============================] - 35s 30ms/step - loss: 0.5844 - dice_coef: 0.8015 - val_loss: 0.5238 - val_dice_coef: 0.8379\n",
            "Epoch 2/30\n",
            "1194/1194 [==============================] - 35s 29ms/step - loss: 0.3927 - dice_coef: 0.8591 - val_loss: 0.5329 - val_dice_coef: 0.8578\n",
            "Epoch 3/30\n",
            "1194/1194 [==============================] - 35s 29ms/step - loss: 0.3221 - dice_coef: 0.8782 - val_loss: 0.5855 - val_dice_coef: 0.8663\n",
            "Epoch 4/30\n",
            "1194/1194 [==============================] - 35s 29ms/step - loss: 0.2836 - dice_coef: 0.8895 - val_loss: 0.6413 - val_dice_coef: 0.8669\n",
            "Epoch 5/30\n",
            "1194/1194 [==============================] - 35s 29ms/step - loss: 0.2590 - dice_coef: 0.8981 - val_loss: 0.7336 - val_dice_coef: 0.8713\n",
            "Epoch 6/30\n",
            "1194/1194 [==============================] - 35s 29ms/step - loss: 0.2382 - dice_coef: 0.9047 - val_loss: 0.7665 - val_dice_coef: 0.8750\n",
            "Epoch 7/30\n",
            "1194/1194 [==============================] - 36s 30ms/step - loss: 0.2240 - dice_coef: 0.9109 - val_loss: 0.8773 - val_dice_coef: 0.8803\n",
            "Epoch 8/30\n",
            "1194/1194 [==============================] - 35s 30ms/step - loss: 0.2127 - dice_coef: 0.9156 - val_loss: 0.8369 - val_dice_coef: 0.8814\n",
            "Epoch 9/30\n",
            "1194/1194 [==============================] - 35s 29ms/step - loss: 0.2056 - dice_coef: 0.9188 - val_loss: 0.9635 - val_dice_coef: 0.8858\n",
            "Epoch 10/30\n",
            "1194/1194 [==============================] - 35s 29ms/step - loss: 0.1986 - dice_coef: 0.9215 - val_loss: 0.9956 - val_dice_coef: 0.8810\n",
            "Epoch 11/30\n",
            "1194/1194 [==============================] - 35s 29ms/step - loss: 0.1933 - dice_coef: 0.9238 - val_loss: 1.0934 - val_dice_coef: 0.8852\n",
            "Epoch 12/30\n",
            "1194/1194 [==============================] - 35s 29ms/step - loss: 0.1898 - dice_coef: 0.9247 - val_loss: 1.0637 - val_dice_coef: 0.8819\n",
            "Epoch 13/30\n",
            "1194/1194 [==============================] - 35s 29ms/step - loss: 0.1862 - dice_coef: 0.9259 - val_loss: 1.0958 - val_dice_coef: 0.8849\n",
            "Epoch 14/30\n",
            "1194/1194 [==============================] - 35s 29ms/step - loss: 0.1838 - dice_coef: 0.9266 - val_loss: 1.0394 - val_dice_coef: 0.8798\n",
            "Epoch 15/30\n",
            "1194/1194 [==============================] - 35s 29ms/step - loss: 0.1820 - dice_coef: 0.9270 - val_loss: 1.2412 - val_dice_coef: 0.8855\n",
            "Epoch 16/30\n",
            "1194/1194 [==============================] - 36s 30ms/step - loss: 0.1803 - dice_coef: 0.9271 - val_loss: 1.1874 - val_dice_coef: 0.8830\n",
            "Epoch 17/30\n",
            "1194/1194 [==============================] - 35s 29ms/step - loss: 0.1789 - dice_coef: 0.9278 - val_loss: 1.1230 - val_dice_coef: 0.8827\n",
            "Epoch 18/30\n",
            "1194/1194 [==============================] - 35s 29ms/step - loss: 0.1766 - dice_coef: 0.9286 - val_loss: 1.1967 - val_dice_coef: 0.8816\n",
            "Epoch 19/30\n",
            "1194/1194 [==============================] - 35s 29ms/step - loss: 0.1750 - dice_coef: 0.9292 - val_loss: 1.2235 - val_dice_coef: 0.8830\n",
            "Epoch 20/30\n",
            "1194/1194 [==============================] - 35s 29ms/step - loss: 0.1742 - dice_coef: 0.9294 - val_loss: 1.2897 - val_dice_coef: 0.8809\n",
            "Epoch 21/30\n",
            "1194/1194 [==============================] - 35s 29ms/step - loss: 0.1741 - dice_coef: 0.9300 - val_loss: 1.2739 - val_dice_coef: 0.8841\n",
            "Epoch 22/30\n",
            "1194/1194 [==============================] - 35s 30ms/step - loss: 0.1727 - dice_coef: 0.9297 - val_loss: 1.1743 - val_dice_coef: 0.8809\n",
            "Epoch 23/30\n",
            "1194/1194 [==============================] - 35s 29ms/step - loss: 0.1728 - dice_coef: 0.9286 - val_loss: 1.2365 - val_dice_coef: 0.8784\n",
            "Epoch 24/30\n",
            "1194/1194 [==============================] - 35s 30ms/step - loss: 0.1720 - dice_coef: 0.9296 - val_loss: 1.1826 - val_dice_coef: 0.8817\n",
            "Epoch 25/30\n",
            "1194/1194 [==============================] - 36s 30ms/step - loss: 0.1713 - dice_coef: 0.9299 - val_loss: 1.1524 - val_dice_coef: 0.8813\n",
            "Epoch 26/30\n",
            "1194/1194 [==============================] - 35s 29ms/step - loss: 0.1703 - dice_coef: 0.9299 - val_loss: 1.2935 - val_dice_coef: 0.8829\n",
            "Epoch 27/30\n",
            "1194/1194 [==============================] - 35s 29ms/step - loss: 0.1705 - dice_coef: 0.9293 - val_loss: 1.2387 - val_dice_coef: 0.8811\n",
            "Epoch 28/30\n",
            "1194/1194 [==============================] - 38s 32ms/step - loss: 0.1706 - dice_coef: 0.9295 - val_loss: 1.3438 - val_dice_coef: 0.8835\n",
            "Epoch 29/30\n",
            "1194/1194 [==============================] - 36s 30ms/step - loss: 0.1692 - dice_coef: 0.9303 - val_loss: 1.2233 - val_dice_coef: 0.8790\n",
            "Epoch 30/30\n",
            "1194/1194 [==============================] - 36s 30ms/step - loss: 0.1694 - dice_coef: 0.9291 - val_loss: 1.2825 - val_dice_coef: 0.8797\n"
          ],
          "name": "stdout"
        },
        {
          "output_type": "display_data",
          "data": {
            "image/png": "[encoded data removed]",
            "text/plain": [
              "<Figure size 432x288 with 1 Axes>"
            ]
          },
          "metadata": {
            "tags": [],
            "needs_background": "light"
          }
        }
      ]
    },
    {
      "cell_type": "code",
      "metadata": {
        "id": "mZ1lctnI3LZr",
        "outputId": "0f324c27-98c5-4e62-b3fe-96a5b350611c",
        "colab": {
          "base_uri": "https://localhost:8080/"
        }
      },
      "source": [
        "# Подготовим тестовые данные:\n",
        "tok_agreem2 = tokenizer.texts_to_sequences(wordsToTest)\n",
        "\n",
        "xData2, yData2 = get01XSamples(tok_agreem2, tags_index)\n",
        "x_test = np.array(getSetFromIndexes(xData2, xLen, step))\n",
        "y_test = np.array(getSetFromIndexes(yData2, xLen, step))\n",
        "x_test.shape, y_test.shape"
      ],
      "execution_count": null,
      "outputs": [
        {
          "output_type": "execute_result",
          "data": {
            "text/plain": [
              "((866, 256), (866, 256, 6))"
            ]
          },
          "metadata": {
            "tags": []
          },
          "execution_count": 32
        }
      ]
    },
    {
      "cell_type": "code",
      "metadata": {
        "id": "dycsAXqA3LfE",
        "outputId": "ede0ffbe-43bc-4d52-a48b-27ee5f6e4ba5",
        "colab": {
          "base_uri": "https://localhost:8080/"
        }
      },
      "source": [
        "score = model.evaluate(x_test, y_test)\n",
        "score"
      ],
      "execution_count": null,
      "outputs": [
        {
          "output_type": "stream",
          "text": [
            "28/28 [==============================] - 0s 10ms/step - loss: 1.8508 - dice_coef: 0.8707\n"
          ],
          "name": "stdout"
        },
        {
          "output_type": "execute_result",
          "data": {
            "text/plain": [
              "[1.850821852684021, 0.8706525564193726]"
            ]
          },
          "metadata": {
            "tags": []
          },
          "execution_count": 33
        }
      ]
    },
    {
      "cell_type": "code",
      "metadata": {
        "id": "yY-zaICuYrlx",
        "outputId": "9c9a11a5-36d5-4529-cdda-46029794f8b2",
        "colab": {
          "base_uri": "https://localhost:8080/"
        }
      },
      "source": [
        "pred = model.predict(x_test)\n",
        "recognizeSet(y_test, pred, xLen, 0.9)"
      ],
      "execution_count": null,
      "outputs": [
        {
          "output_type": "stream",
          "text": [
            "Сеть распознала категорию 'S1' на 64.10%\n",
            "Сеть распознала категорию 'S2' на 98.78%\n",
            "Сеть распознала категорию 'S3' на 84.95%\n",
            "Сеть распознала категорию 'S4' на 87.72%\n",
            "Сеть распознала категорию 'S5' на 94.25%\n",
            "Сеть распознала категорию 'S6' на 98.74%\n",
            "Cредняя точность 88.09%\n"
          ],
          "name": "stdout"
        }
      ]
    },
    {
      "cell_type": "markdown",
      "metadata": {
        "id": "fvtAa8EUIy0I"
      },
      "source": [
        "### Возьмите “лучшую” архитектуру \n",
        "и проведите несколько экспериментов, меняя гиперпараметры выбранной архитектуры.\n"
      ]
    },
    {
      "cell_type": "markdown",
      "metadata": {
        "id": "BEmNSq1BcyuO"
      },
      "source": [
        "В качестве эксперимента попробуем архитектуру PSPnet с эмбеддингом. \n",
        "\n",
        "Соберем модель, состоящую из слоя эмбеддинга и готовой модели PSPnet:"
      ]
    },
    {
      "cell_type": "code",
      "metadata": {
        "id": "BcEx-zbscxle",
        "outputId": "2ca897c5-98e0-4048-c78c-378df403090d",
        "colab": {
          "base_uri": "https://localhost:8080/"
        }
      },
      "source": [
        "inp = Input(shape=(xLen))\n",
        "x = Embedding(vocSize, embeddingSize)(inp)\n",
        "out = create_PSPNet(conv_size=256, input_shape=(xLen, embeddingSize))(x)\n",
        "\n",
        "model = Model(inp, out)\n",
        "model.compile(optimizer=Adam(0.0025), loss='binary_crossentropy', metrics=[dice_coef])\n",
        "model.summary()\n",
        "lh = LearnHistory()"
      ],
      "execution_count": null,
      "outputs": [
        {
          "output_type": "stream",
          "text": [
            "Model: \"functional_7\"\n",
            "_________________________________________________________________\n",
            "Layer (type)                 Output Shape              Param #   \n",
            "=================================================================\n",
            "input_3 (InputLayer)         [(None, 256)]             0         \n",
            "_________________________________________________________________\n",
            "embedding_4 (Embedding)      (None, 256, 300)          1704300   \n",
            "_________________________________________________________________\n",
            "functional_5 (Functional)    (None, 256, 6)            6895622   \n",
            "=================================================================\n",
            "Total params: 8,599,922\n",
            "Trainable params: 8,597,874\n",
            "Non-trainable params: 2,048\n",
            "_________________________________________________________________\n"
          ],
          "name": "stdout"
        }
      ]
    },
    {
      "cell_type": "code",
      "metadata": {
        "id": "aoPc-QGQcxwk",
        "outputId": "bb76d746-5d2f-41dd-809a-df897423341e",
        "colab": {
          "base_uri": "https://localhost:8080/",
          "height": 635
        }
      },
      "source": [
        "history = model.fit(x_train, y_train, epochs=10, batch_size=10, validation_split=0.1)\n",
        "lh.append(history)\n",
        "lh.plot()"
      ],
      "execution_count": null,
      "outputs": [
        {
          "output_type": "stream",
          "text": [
            "Epoch 1/10\n",
            "1194/1194 [==============================] - 40s 33ms/step - loss: 0.1587 - dice_coef: 0.9076 - val_loss: 0.1772 - val_dice_coef: 0.9218\n",
            "Epoch 2/10\n",
            "1194/1194 [==============================] - 40s 33ms/step - loss: 0.0683 - dice_coef: 0.9614 - val_loss: 0.2290 - val_dice_coef: 0.9342\n",
            "Epoch 3/10\n",
            "1194/1194 [==============================] - 40s 33ms/step - loss: 0.0415 - dice_coef: 0.9770 - val_loss: 0.2437 - val_dice_coef: 0.9346\n",
            "Epoch 4/10\n",
            "1194/1194 [==============================] - 39s 33ms/step - loss: 0.0292 - dice_coef: 0.9838 - val_loss: 0.2756 - val_dice_coef: 0.9399\n",
            "Epoch 5/10\n",
            "1194/1194 [==============================] - 39s 33ms/step - loss: 0.0215 - dice_coef: 0.9881 - val_loss: 0.3336 - val_dice_coef: 0.9408\n",
            "Epoch 6/10\n",
            "1194/1194 [==============================] - 39s 33ms/step - loss: 0.0175 - dice_coef: 0.9903 - val_loss: 0.3712 - val_dice_coef: 0.9415\n",
            "Epoch 7/10\n",
            "1194/1194 [==============================] - 40s 33ms/step - loss: 0.0147 - dice_coef: 0.9919 - val_loss: 0.3607 - val_dice_coef: 0.9419\n",
            "Epoch 8/10\n",
            "1194/1194 [==============================] - 39s 33ms/step - loss: 0.0127 - dice_coef: 0.9929 - val_loss: 0.3816 - val_dice_coef: 0.9432\n",
            "Epoch 9/10\n",
            "1194/1194 [==============================] - 39s 33ms/step - loss: 0.0113 - dice_coef: 0.9937 - val_loss: 0.4366 - val_dice_coef: 0.9442\n",
            "Epoch 10/10\n",
            "1194/1194 [==============================] - 39s 33ms/step - loss: 0.0099 - dice_coef: 0.9944 - val_loss: 0.4092 - val_dice_coef: 0.9422\n"
          ],
          "name": "stdout"
        },
        {
          "output_type": "display_data",
          "data": {
            "image/png": "[encoded data removed]",
            "text/plain": [
              "<Figure size 432x288 with 1 Axes>"
            ]
          },
          "metadata": {
            "tags": [],
            "needs_background": "light"
          }
        }
      ]
    },
    {
      "cell_type": "code",
      "metadata": {
        "id": "f2wlFGGicx6X",
        "outputId": "9a7fceae-453d-4e28-802f-ff02be9bfc8d",
        "colab": {
          "base_uri": "https://localhost:8080/"
        }
      },
      "source": [
        "score = model.evaluate(x_test, y_test)\n",
        "score"
      ],
      "execution_count": null,
      "outputs": [
        {
          "output_type": "stream",
          "text": [
            "28/28 [==============================] - 0s 12ms/step - loss: 0.4917 - dice_coef: 0.9280\n"
          ],
          "name": "stdout"
        },
        {
          "output_type": "execute_result",
          "data": {
            "text/plain": [
              "[0.491712361574173, 0.9280405640602112]"
            ]
          },
          "metadata": {
            "tags": []
          },
          "execution_count": 39
        }
      ]
    },
    {
      "cell_type": "code",
      "metadata": {
        "id": "7_IHw-hCf0UH",
        "outputId": "78378176-38ee-4ce3-82ff-6a6b5146e287",
        "colab": {
          "base_uri": "https://localhost:8080/"
        }
      },
      "source": [
        "pred = model.predict(x_test)\n",
        "recognizeSet(y_test, pred, xLen, 0.9)"
      ],
      "execution_count": null,
      "outputs": [
        {
          "output_type": "stream",
          "text": [
            "Сеть распознала категорию 'S1' на 81.86%\n",
            "Сеть распознала категорию 'S2' на 99.15%\n",
            "Сеть распознала категорию 'S3' на 91.29%\n",
            "Сеть распознала категорию 'S4' на 91.67%\n",
            "Сеть распознала категорию 'S5' на 95.61%\n",
            "Сеть распознала категорию 'S6' на 99.71%\n",
            "Cредняя точность 93.21%\n"
          ],
          "name": "stdout"
        }
      ]
    },
    {
      "cell_type": "markdown",
      "metadata": {
        "id": "vN2BPOipIy6O"
      },
      "source": [
        "### ВЫВОДЫ\n",
        "\n",
        "Были опробованы архитектуры трансформера в минимальной конфигурации (1 блок энкодера, 3 головы)\n",
        "и сеть PSPnet-256 со встроенным эмбеддингом.\n",
        "\n",
        "Трансформер показал точность 88% на тестовой выборке, PSPnet - 93%.\n",
        "\n",
        "Точность измерялась функцией recognizeSet с порогом 0.9, причем в обоих случаях этот показатель совпал (с точностью 1%) с показателем, выдаваемым моей метрикой dice_coef."
      ]
    },
    {
      "cell_type": "markdown",
      "metadata": {
        "id": "e-tLRjK7EtrM"
      },
      "source": [
        "## PRO"
      ]
    },
    {
      "cell_type": "markdown",
      "metadata": {
        "id": "AUibrTxIE4jX"
      },
      "source": [
        "### Вариант 1\n",
        "\n",
        "Используйте другие методы обработки текста (которых не было в занятии, например, embedding слой), поменяйте параметры UNET с занятия и добейтесь с ними точности 85%.\n"
      ]
    },
    {
      "cell_type": "markdown",
      "metadata": {
        "id": "QPuMZkrphz8E"
      },
      "source": [
        "Данный показатель - 85% был превышен в задании LIGHT. Трансформер выдал 88%, PSPnet - 93%"
      ]
    },
    {
      "cell_type": "markdown",
      "metadata": {
        "id": "7B_NtOxk-2kf"
      },
      "source": [
        "### Вариант 2\n",
        "\n",
        "Реализуйте сегментацию на расширенной выборке договоров и добейтесь точности не менее 88%.\n"
      ]
    },
    {
      "cell_type": "code",
      "metadata": {
        "id": "fGPyomLb_Aaj",
        "outputId": "fe472624-9651-48e7-cd0b-cfd7be8bbfea",
        "colab": {
          "base_uri": "https://localhost:8080/"
        }
      },
      "source": [
        "!wget https://xland.ru/uai/hw14/contracts1000.zip"
      ],
      "execution_count": null,
      "outputs": [
        {
          "output_type": "stream",
          "text": [
            "--2020-11-13 08:21:31--  https://xland.ru/uai/hw14/contracts1000.zip\n",
            "Resolving xland.ru (xland.ru)... 198.211.125.59\n",
            "Connecting to xland.ru (xland.ru)|198.211.125.59|:443... connected.\n",
            "HTTP request sent, awaiting response... 200 OK\n",
            "Length: 3767038 (3.6M) [application/zip]\n",
            "Saving to: ‘contracts1000.zip’\n",
            "\n",
            "contracts1000.zip   100%[===================>]   3.59M  3.85MB/s    in 0.9s    \n",
            "\n",
            "2020-11-13 08:21:33 (3.85 MB/s) - ‘contracts1000.zip’ saved [3767038/3767038]\n",
            "\n"
          ],
          "name": "stdout"
        }
      ]
    },
    {
      "cell_type": "code",
      "metadata": {
        "id": "N54WAQetk8Y7",
        "outputId": "381d5ac5-7718-44a5-d174-7cabc795ec76",
        "colab": {
          "base_uri": "https://localhost:8080/"
        }
      },
      "source": [
        "!unzip -q contracts1000.zip"
      ],
      "execution_count": null,
      "outputs": [
        {
          "output_type": "stream",
          "text": [
            "error:  cannot create Договора1000/Типовой договор на перевозку автотранспортными предприятиями или организациями зерна (сахарной свеклы), сдаваемого колхозами, совхозами и другими организациями государству.txt\n",
            "        File name too long\n",
            "error:  cannot create Договора1000/Договор страхования ответственности производителя или исполнителя за причинение вреда потребителю вследствие недостатков товара, работы, услуги.txt\n",
            "        File name too long\n",
            "error:  cannot create Договора1000/Договор страхования имущества (страхователь - физическое или юридическое лицо_ в пользу выгодоприобретателя - физического или юридического лица_ сострахование).txt\n",
            "        File name too long\n",
            "error:  cannot create Договора1000/Договор с пользователем на передачу и информационное сопровождение программного продукта (информационных, справочных, нормативных систем).txt\n",
            "        File name too long\n",
            "error:  cannot create Договора1000/Договор страхования имущества (страхователь - физическое или юридическое лицо, в пользу выгодоприобретателя - физического или юридического лица).txt\n",
            "        File name too long\n",
            "error:  cannot create Договора1000/Договор сберегательного страхования жизни (страхователь - физическое лицо, в пользу застрахованного - физического лица, страховой случай - дожитие застрахованного до момента вступления в брак).txt\n",
            "        File name too long\n",
            "error:  cannot create Договора1000/Договор с государственными органами и учебными заведениями на передачу и информационное обслуживание программного продукта (информационных, справочных, нормативных систем).txt\n",
            "        File name too long\n",
            "error:  cannot create Договора1000/Договор при получении первого среднего профессионального образования (между экстерном, предприятием (благотворителем) и учебным заведением).txt\n",
            "        File name too long\n",
            "error:  cannot create Договора1000/Договор при получении второго среднего профессионального образования (между экстерном, предприятием (благотворителем) и учебным заведением).txt\n",
            "        File name too long\n",
            "error:  cannot create Договора1000/Договор на оказание услуг по изучению рынка строительных и отделочных материалов и поиску организаций, осуществляющих отделочные и строительные работы.txt\n",
            "        File name too long\n"
          ],
          "name": "stdout"
        }
      ]
    },
    {
      "cell_type": "markdown",
      "metadata": {
        "id": "FNgIiUgrlu7K"
      },
      "source": [
        "10 договоров имели слишком длинные названия, отброшены."
      ]
    },
    {
      "cell_type": "code",
      "metadata": {
        "id": "uMoQE7aKlpTk",
        "outputId": "f2ff101f-4180-454e-d9d5-f1ee485d2c4f",
        "colab": {
          "base_uri": "https://localhost:8080/"
        }
      },
      "source": [
        "%%time\n",
        "directory = '/content/Договора1000/'\n",
        "agreements = [] # Список, в который запишем все наши договоры\n",
        "for filename in os.listdir(directory): # Проходим по всем файлам в директории договоров\n",
        "    txt = readText(directory + filename) # Читаем текст договора\n",
        "    if txt != '': # Если текст не пустой\n",
        "        agreements.append(readText(directory + filename))\n",
        "words = [] # Здесь будут храниться все договора в виде списка слов\n",
        "print(\"Токенизация...\")\n",
        "curTime = time.time() # Засечем текущее время\n",
        "for i in range(len(agreements)): # Проходимся по всем договорам\n",
        "    words.append(text2Words(agreements[i])) # Преобразуем очередной договор в список слов и добавляем в words\n",
        "print('На преобразование ушло:', round(time.time() - curTime, 2), 'с.')\n",
        "\n",
        "random.shuffle(words)\n",
        "wordsToTest = words[-30:] # Возьмем 30 текстов для финальной проверки обученной нейронной сети \n",
        "words = words[:-30] \n",
        "\n",
        "tokenizer = Tokenizer(lower=True, filters='', char_level=False)\n",
        "\n",
        "tokenizer.fit_on_texts(words) # \"Скармливаем\" наши тексты, т.е. даём в обработку методу, который соберет словарь частотности\n",
        "clean_voc = {} \n",
        "\n",
        "for item in tokenizer.word_index.items(): #Преобразуем полученный список \n",
        "    clean_voc[item[0]] = item[1]\n",
        "\n",
        "tok_agreem = tokenizer.texts_to_sequences(words)\n",
        "\n",
        "tags_index = ['<s' + str(i) + '>' for i in range(1, 7)] # Получаем список открывающих тегов\n",
        "closetags = ['</s' + str(i) + '>' for i in range(1, 7)] # Получаем список закрывающих тегов\n",
        "tags_index.extend(closetags) # Объединяем все теги\n",
        "\n",
        "tags_index = np.array([clean_voc[i] for i in tags_index]) # Получаем из словаря частотности индексы всех тегов\n",
        "print('Индексы тегов:', tags_index)\n",
        "\n",
        "xData, yData = get01XSamples(tok_agreem, tags_index) # Распознаем теги и создаем список с ними, с индексами\n",
        "decoded_text = reverseIndex(clean_voc, xData) # Для создания списков с embedding-ами сначала преобразуем список индексов обратно в слова\n",
        "\n",
        "xLen = 256 # Длина окна\n",
        "step = 30 # Шаг \n",
        "embeddingSize = 300\n",
        "\n",
        "xTrain = getSetFromIndexes(decoded_text, xLen, step) # Последовательность из xLen слов\n",
        "yTrain = getSetFromIndexes(yData, xLen, step) # Последовательность из xLen-тегов\n",
        "\n",
        "# modelGENSIM = word2vec.Word2Vec(xTrain, size=embeddingSize, window=10, min_count=1, workers=10, iter=10)\n",
        "# xTrainGENSIM, yTrainGENSIM = getSets(modelGENSIM, xTrain, yTrain)"
      ],
      "execution_count": null,
      "outputs": [
        {
          "output_type": "stream",
          "text": [
            "Токенизация...\n",
            "На преобразование ушло: 310.09 с.\n",
            "Индексы тегов: [ 12 396  26  29 132 265  14 401  30  38 142 281]\n",
            "CPU times: user 5min 2s, sys: 14.5 s, total: 5min 16s\n",
            "Wall time: 5min 17s\n"
          ],
          "name": "stdout"
        }
      ]
    },
    {
      "cell_type": "code",
      "metadata": {
        "id": "h74pkVFUtEIg",
        "outputId": "97a17f23-eea9-47de-e7c9-f0bab06fe156",
        "colab": {
          "base_uri": "https://localhost:8080/"
        }
      },
      "source": [
        "# Проверка что число открывающихся тэгов равно числу закрывающихся.\n",
        "counts = {}\n",
        "for con in tok_agreem:\n",
        "    for i in con:\n",
        "        if i in tags_index:\n",
        "            tag = tokenizer.index_word[i]\n",
        "            if tag in counts.keys():\n",
        "                counts[tag] += 1\n",
        "            else:\n",
        "                counts[tag] = 1\n",
        "\n",
        "for i in range(1, 7):\n",
        "    print (\"<s%d>: %d, </s%d>: %d\" % (i, counts['<s%d>' % i], i , counts['</s%d>' % i]))"
      ],
      "execution_count": null,
      "outputs": [
        {
          "output_type": "stream",
          "text": [
            "<s1>: 8608, </s1>: 7930\n",
            "<s2>: 357, </s2>: 350\n",
            "<s3>: 4134, </s3>: 3818\n",
            "<s4>: 3832, </s4>: 3422\n",
            "<s5>: 1205, </s5>: 1082\n",
            "<s6>: 618, </s6>: 568\n"
          ],
          "name": "stdout"
        }
      ]
    },
    {
      "cell_type": "markdown",
      "metadata": {
        "id": "1z1Nm5oPwpqj"
      },
      "source": [
        "**ЗАМЕЧАНИЯ**\n",
        "\n",
        "1.   Пришлось отказаться от внешнего word2vec - он порождает слишком большие массивы, не влезающие в память. Будем использовать стандартные слои Embedding.\n",
        "2.   Проверка показала плохую разметку - сильную нехватку закрывающихся тэгов (порядка 10%) - это приведет к неверному формированию yData и плохим/некорректным результатам работы нейронки.\n",
        "\n",
        "\n"
      ]
    },
    {
      "cell_type": "markdown",
      "metadata": {
        "id": "WZYIKf9_5DAj"
      },
      "source": [
        "#### PSPNet-256"
      ]
    },
    {
      "cell_type": "code",
      "metadata": {
        "id": "HV0ENiOFy5Ap",
        "outputId": "df1250a7-790a-452a-9d71-b8139b6472d6",
        "colab": {
          "base_uri": "https://localhost:8080/"
        }
      },
      "source": [
        "xLen = 256 # Длина окна\n",
        "step = 30 # Шаг \n",
        "embeddingSize = 300\n",
        "# pageSize = xLen\n",
        "num_classes = 6\n",
        "vocSize = len(tokenizer.index_word.items()) + 1\n",
        "print(vocSize)\n",
        "\n",
        "x_train = np.array(getSetFromIndexes(xData, xLen, step))\n",
        "y_train = np.array(getSetFromIndexes(yData, xLen, step))\n",
        "x_train.shape, y_train.shape"
      ],
      "execution_count": null,
      "outputs": [
        {
          "output_type": "stream",
          "text": [
            "8923\n"
          ],
          "name": "stdout"
        },
        {
          "output_type": "execute_result",
          "data": {
            "text/plain": [
              "((27410, 256), (27410, 256, 6))"
            ]
          },
          "metadata": {
            "tags": []
          },
          "execution_count": 7
        }
      ]
    },
    {
      "cell_type": "code",
      "metadata": {
        "id": "kXf7szNplpeF",
        "outputId": "659b3ad9-2f04-4694-9168-043b226d9799",
        "colab": {
          "base_uri": "https://localhost:8080/"
        }
      },
      "source": [
        "inp = Input(shape=(xLen))\n",
        "x = Embedding(vocSize, embeddingSize)(inp)\n",
        "out = create_PSPNet(conv_size=256, input_shape=(xLen, embeddingSize))(x)\n",
        "\n",
        "model = Model(inp, out)\n",
        "model.compile(optimizer=Adam(0.0025), loss='binary_crossentropy', metrics=[dice_coef])\n",
        "model.summary()\n",
        "lh = LearnHistory()"
      ],
      "execution_count": null,
      "outputs": [
        {
          "output_type": "stream",
          "text": [
            "Model: \"functional_3\"\n",
            "_________________________________________________________________\n",
            "Layer (type)                 Output Shape              Param #   \n",
            "=================================================================\n",
            "input_2 (InputLayer)         [(None, 256)]             0         \n",
            "_________________________________________________________________\n",
            "embedding (Embedding)        (None, 256, 300)          2676900   \n",
            "_________________________________________________________________\n",
            "functional_1 (Functional)    (None, 256, 6)            6895622   \n",
            "=================================================================\n",
            "Total params: 9,572,522\n",
            "Trainable params: 9,570,474\n",
            "Non-trainable params: 2,048\n",
            "_________________________________________________________________\n"
          ],
          "name": "stdout"
        }
      ]
    },
    {
      "cell_type": "code",
      "metadata": {
        "id": "UEUqxeaplpjd",
        "outputId": "e007dd68-16be-4e8c-d5e1-721d93bad1fc",
        "colab": {
          "base_uri": "https://localhost:8080/",
          "height": 635
        }
      },
      "source": [
        "history = model.fit(x_train, y_train, epochs=10, batch_size=10, validation_split=0.1)\n",
        "lh.append(history)\n",
        "lh.plot()"
      ],
      "execution_count": null,
      "outputs": [
        {
          "output_type": "stream",
          "text": [
            "Epoch 1/10\n",
            "2467/2467 [==============================] - 105s 43ms/step - loss: 0.2470 - dice_coef: 0.8522 - val_loss: 0.3141 - val_dice_coef: 0.8628\n",
            "Epoch 2/10\n",
            "2467/2467 [==============================] - 104s 42ms/step - loss: 0.1359 - dice_coef: 0.9209 - val_loss: 0.3501 - val_dice_coef: 0.8704\n",
            "Epoch 3/10\n",
            "2467/2467 [==============================] - 108s 44ms/step - loss: 0.0877 - dice_coef: 0.9496 - val_loss: 0.3958 - val_dice_coef: 0.8698\n",
            "Epoch 4/10\n",
            "2467/2467 [==============================] - 104s 42ms/step - loss: 0.0636 - dice_coef: 0.9640 - val_loss: 0.4568 - val_dice_coef: 0.8855\n",
            "Epoch 5/10\n",
            "2467/2467 [==============================] - 104s 42ms/step - loss: 0.0483 - dice_coef: 0.9728 - val_loss: 0.5045 - val_dice_coef: 0.8881\n",
            "Epoch 6/10\n",
            "2467/2467 [==============================] - 104s 42ms/step - loss: 0.0391 - dice_coef: 0.9781 - val_loss: 0.5142 - val_dice_coef: 0.8826\n",
            "Epoch 7/10\n",
            "2467/2467 [==============================] - 104s 42ms/step - loss: 0.0325 - dice_coef: 0.9818 - val_loss: 0.6400 - val_dice_coef: 0.8925\n",
            "Epoch 8/10\n",
            "2467/2467 [==============================] - 103s 42ms/step - loss: 0.0274 - dice_coef: 0.9846 - val_loss: 0.6309 - val_dice_coef: 0.8933\n",
            "Epoch 9/10\n",
            "2467/2467 [==============================] - 102s 42ms/step - loss: 0.0239 - dice_coef: 0.9866 - val_loss: 0.7284 - val_dice_coef: 0.8909\n",
            "Epoch 10/10\n",
            "2467/2467 [==============================] - 103s 42ms/step - loss: 0.0211 - dice_coef: 0.9882 - val_loss: 0.7255 - val_dice_coef: 0.8903\n"
          ],
          "name": "stdout"
        },
        {
          "output_type": "display_data",
          "data": {
            "image/png": "[encoded data removed]",
            "text/plain": [
              "<Figure size 432x288 with 1 Axes>"
            ]
          },
          "metadata": {
            "tags": [],
            "needs_background": "light"
          }
        }
      ]
    },
    {
      "cell_type": "code",
      "metadata": {
        "id": "1m1-7Evy6xkW",
        "outputId": "7ed17661-4bc5-4a5c-aaa2-8e48c1c464f4",
        "colab": {
          "base_uri": "https://localhost:8080/"
        }
      },
      "source": [
        "# Подготовим тестовые данные:\n",
        "tok_agreem2 = tokenizer.texts_to_sequences(wordsToTest)\n",
        "\n",
        "xData2, yData2 = get01XSamples(tok_agreem2, tags_index)\n",
        "x_test = np.array(getSetFromIndexes(xData2, xLen, step))\n",
        "y_test = np.array(getSetFromIndexes(yData2, xLen, step))\n",
        "x_test.shape, y_test.shape"
      ],
      "execution_count": null,
      "outputs": [
        {
          "output_type": "execute_result",
          "data": {
            "text/plain": [
              "((829, 256), (829, 256, 6))"
            ]
          },
          "metadata": {
            "tags": []
          },
          "execution_count": 10
        }
      ]
    },
    {
      "cell_type": "code",
      "metadata": {
        "id": "kHgXAYc3lpnP",
        "outputId": "ae5a231a-16d2-4671-c303-e5dd1a3da231",
        "colab": {
          "base_uri": "https://localhost:8080/"
        }
      },
      "source": [
        "score = model.evaluate(x_test, y_test)\n",
        "score"
      ],
      "execution_count": null,
      "outputs": [
        {
          "output_type": "stream",
          "text": [
            "26/26 [==============================] - 0s 18ms/step - loss: 0.6893 - dice_coef: 0.8907\n"
          ],
          "name": "stdout"
        },
        {
          "output_type": "execute_result",
          "data": {
            "text/plain": [
              "[0.6892638206481934, 0.8906542062759399]"
            ]
          },
          "metadata": {
            "tags": []
          },
          "execution_count": 11
        }
      ]
    },
    {
      "cell_type": "code",
      "metadata": {
        "id": "wJzko4Pklpq5",
        "outputId": "744b979c-e0e0-4d39-9319-cc397c99017a",
        "colab": {
          "base_uri": "https://localhost:8080/"
        }
      },
      "source": [
        "pred = model.predict(x_test)\n",
        "recognizeSet(y_test, pred, xLen, 0.5)"
      ],
      "execution_count": null,
      "outputs": [
        {
          "output_type": "stream",
          "text": [
            "Сеть распознала категорию 'S1' на 74.94%\n",
            "Сеть распознала категорию 'S2' на 99.41%\n",
            "Сеть распознала категорию 'S3' на 86.13%\n",
            "Сеть распознала категорию 'S4' на 84.43%\n",
            "Сеть распознала категорию 'S5' на 92.54%\n",
            "Сеть распознала категорию 'S6' на 98.96%\n",
            "Cредняя точность 89.40%\n"
          ],
          "name": "stdout"
        }
      ]
    },
    {
      "cell_type": "markdown",
      "metadata": {
        "id": "4GRCEE0B6IAR"
      },
      "source": [
        "#### ВЫВОДЫ\n",
        "\n",
        "Удалось достичь точности 89.4 % по метрике recognizeSet(). Моя метрика (dice_coef) показала те же 89%\n",
        "\n",
        "Заметил странность - во время обучения val_loss увеличивается, хотя метрика dice_coef показывает улучшение точности. Возможно val_loss вычисляется некорректно (например из-за использования validation_split на перекрывающихся последовательностях вместо validation_data) но поскольку данные dice_coef хорошо согласуются с независимой оценкой recognizeSet на тестовой выборке, я думаю им можно доверять. "
      ]
    },
    {
      "cell_type": "markdown",
      "metadata": {
        "id": "R5PRQ04cE9VA"
      },
      "source": [
        "## Ultra PRO\n"
      ]
    },
    {
      "cell_type": "markdown",
      "metadata": {
        "id": "qhj7j8KYFECO"
      },
      "source": [
        "Поскольку разметка базы резюме или текстов писателей - как предложено в условии - задача совершенно неподъемная в разумные сроки, я взял роман \"Мастер и Маргарита\" М. Булгакова. Это \"роман в романе\", он содержит внутри себя роман о Понтии Пилате, написанный Мастером. Я разметил текст тэгами <s1> выделив \"внутренний\" роман. Задача сети - разделить текст (а точнее каждое слово) на 2 класса - основной текст и внутренний роман.  "
      ]
    },
    {
      "cell_type": "code",
      "metadata": {
        "id": "-FuH6tT9FBTE",
        "outputId": "3ac3ccd3-d900-4b88-ac0c-804c368bbbbf",
        "colab": {
          "base_uri": "https://localhost:8080/"
        }
      },
      "source": [
        "!wget https://xland.ru/uai/hw13/master_i_margarita_markup.txt"
      ],
      "execution_count": null,
      "outputs": [
        {
          "output_type": "stream",
          "text": [
            "--2020-11-10 07:39:11--  https://xland.ru/uai/hw13/master_i_margarita_markup.txt\n",
            "Resolving xland.ru (xland.ru)... 198.211.125.59\n",
            "Connecting to xland.ru (xland.ru)|198.211.125.59|:443... connected.\n",
            "HTTP request sent, awaiting response... 200 OK\n",
            "Length: 1378427 (1.3M) [text/plain]\n",
            "Saving to: ‘master_i_margarita_markup.txt’\n",
            "\n",
            "master_i_margarita_ 100%[===================>]   1.31M  --.-KB/s    in 0.03s   \n",
            "\n",
            "2020-11-10 07:39:11 (45.1 MB/s) - ‘master_i_margarita_markup.txt’ saved [1378427/1378427]\n",
            "\n"
          ],
          "name": "stdout"
        }
      ]
    },
    {
      "cell_type": "code",
      "metadata": {
        "id": "Ap_hdJCIGYFU"
      },
      "source": [
        "text = readText('master_i_margarita_markup.txt')"
      ],
      "execution_count": null,
      "outputs": []
    },
    {
      "cell_type": "code",
      "metadata": {
        "id": "CE6p3ln7GYPf",
        "outputId": "59c3623c-c143-4090-c9fd-e06e0d7fbf3b",
        "colab": {
          "base_uri": "https://localhost:8080/"
        }
      },
      "source": [
        "\n",
        "print(\"Токенизация...\")\n",
        "curTime = time.time() # Засечем текущее время\n",
        "words = text2Words(text) # Преобразуем \n",
        "print('На преобразование ушло: %.2f сек' % (time.time() - curTime))"
      ],
      "execution_count": null,
      "outputs": [
        {
          "output_type": "stream",
          "text": [
            "Токенизация...\n",
            "На преобразование ушло: 32.97 сек\n"
          ],
          "name": "stdout"
        }
      ]
    },
    {
      "cell_type": "code",
      "metadata": {
        "id": "qwu_qzxjGYTp",
        "outputId": "ef82191b-2314-4ba5-943d-15766d98dce6",
        "colab": {
          "base_uri": "https://localhost:8080/"
        }
      },
      "source": [
        "len(words)"
      ],
      "execution_count": null,
      "outputs": [
        {
          "output_type": "execute_result",
          "data": {
            "text/plain": [
              "114316"
            ]
          },
          "metadata": {
            "tags": []
          },
          "execution_count": 166
        }
      ]
    },
    {
      "cell_type": "code",
      "metadata": {
        "id": "-St7qBEBGYXZ"
      },
      "source": [
        "tokenizer_mm = Tokenizer(lower=True, filters='', char_level=False)\n",
        "\n",
        "tokenizer_mm.fit_on_texts(words) # \"Скармливаем\" наши тексты, т.е. даём в обработку методу, который соберет словарь частотности\n",
        "clean_voc = {} \n",
        "\n",
        "for item in tokenizer_mm.word_index.items(): #Преобразуем полученный список \n",
        "  clean_voc[item[0]] = item[1] # В словарь, меняя местами элементы полученного кортежа "
      ],
      "execution_count": null,
      "outputs": []
    },
    {
      "cell_type": "code",
      "metadata": {
        "id": "dUEg4i81GYds",
        "outputId": "1bba6b93-c80d-4899-ee88-4be403958d79",
        "colab": {
          "base_uri": "https://localhost:8080/"
        }
      },
      "source": [
        "len(tokenizer_mm.index_word.items())"
      ],
      "execution_count": null,
      "outputs": [
        {
          "output_type": "execute_result",
          "data": {
            "text/plain": [
              "11118"
            ]
          },
          "metadata": {
            "tags": []
          },
          "execution_count": 168
        }
      ]
    },
    {
      "cell_type": "code",
      "metadata": {
        "id": "WkR_-RwgGYmL",
        "outputId": "63a91efc-ddce-4b52-c473-6e8cfdfbde5e",
        "colab": {
          "base_uri": "https://localhost:8080/"
        }
      },
      "source": [
        "for i in range(1, 2):\n",
        "    print(tokenizer_mm.word_index['<s%d>' % i], tokenizer_mm.word_index['</s%d>' % i])"
      ],
      "execution_count": null,
      "outputs": [
        {
          "output_type": "stream",
          "text": [
            "3790 3928\n"
          ],
          "name": "stdout"
        }
      ]
    },
    {
      "cell_type": "code",
      "metadata": {
        "id": "EVzOPIqLGYw4",
        "outputId": "5889ebfd-6fdb-4d32-c290-517645bb86d6",
        "colab": {
          "base_uri": "https://localhost:8080/"
        }
      },
      "source": [
        "count1, count2 = 0, 0\n",
        "for w in words:\n",
        "    if w == '<s1>':\n",
        "        count1 += 1\n",
        "    if w == '</s1>':\n",
        "        count2 += 1\n",
        "print(count1, count2)"
      ],
      "execution_count": null,
      "outputs": [
        {
          "output_type": "stream",
          "text": [
            "3 3\n"
          ],
          "name": "stdout"
        }
      ]
    },
    {
      "cell_type": "code",
      "metadata": {
        "id": "fO-8B3MvGYbq",
        "outputId": "b868511d-b51f-44e6-fe9d-f026006d8711",
        "colab": {
          "base_uri": "https://localhost:8080/"
        }
      },
      "source": [
        "# Преобразовываем текст в последовательность индексов согласно частотному словарю\n",
        "tok_mm = tokenizer_mm.texts_to_sequences([words]) # Обучающие тесты в индексы\n",
        "\n",
        "print(\"Взглянем на фрагмент обучающего текста:\")\n",
        "print(\"В виде оригинального текста:              \", words[2000:2020])\n",
        "print(\"Он же в виде последовательности индексов: \", tok_mm[0][2000:2020], '\\n')"
      ],
      "execution_count": null,
      "outputs": [
        {
          "output_type": "stream",
          "text": [
            "Взглянем на фрагмент обучающего текста:\n",
            "В виде оригинального текста:               ['доказательство', 'существование', 'бог', 'быть', 'не', 'мочь', 'браво', 'вскричать', 'иностранец', 'браво', 'вы', 'полностью', 'повторить', 'мысль', 'беспокойный', 'старик', 'иммануил', 'по', 'этот', 'повод']\n",
            "Он же в виде последовательности индексов:  [928, 3740, 182, 9, 4, 58, 1962, 334, 197, 1962, 15, 1963, 822, 175, 1218, 1749, 6687, 22, 24, 1571] \n",
            "\n"
          ],
          "name": "stdout"
        }
      ]
    },
    {
      "cell_type": "code",
      "metadata": {
        "id": "JVEoXT_qLyQs",
        "outputId": "7f8efd97-ad3a-49d4-a12c-c74793e665aa",
        "colab": {
          "base_uri": "https://localhost:8080/"
        }
      },
      "source": [
        "len(tok_mm[0])"
      ],
      "execution_count": null,
      "outputs": [
        {
          "output_type": "execute_result",
          "data": {
            "text/plain": [
              "114316"
            ]
          },
          "metadata": {
            "tags": []
          },
          "execution_count": 172
        }
      ]
    },
    {
      "cell_type": "code",
      "metadata": {
        "id": "vTNzqa-_NAvd",
        "outputId": "b22a0f53-5d66-4c89-f6fa-5dd3d0229d1b",
        "colab": {
          "base_uri": "https://localhost:8080/"
        }
      },
      "source": [
        "id1 = tokenizer_mm.word_index['<s1>']\n",
        "id0 = tokenizer_mm.word_index['</s1>']\n",
        "x, y = [], []\n",
        "state = 0 \n",
        "for i, id in enumerate(tok_mm[0]):\n",
        "    if id == id1:\n",
        "        print(\"found open \" + str(i))\n",
        "        state = 1\n",
        "    elif id == id0:\n",
        "        print(\"found close \" + str(i))\n",
        "        state = 0\n",
        "    else:\n",
        "        x.append(id)\n",
        "        y.append(state)\n",
        "xData = np.array(x)\n",
        "yData = np.array(y)\n",
        "xData.shape, yData.shape\n"
      ],
      "execution_count": null,
      "outputs": [
        {
          "output_type": "stream",
          "text": [
            "found open 3650\n",
            "found close 10484\n",
            "found open 48136\n",
            "found close 51838\n",
            "found open 85252\n",
            "found close 94645\n"
          ],
          "name": "stdout"
        },
        {
          "output_type": "execute_result",
          "data": {
            "text/plain": [
              "((114310,), (114310,))"
            ]
          },
          "metadata": {
            "tags": []
          },
          "execution_count": 173
        }
      ]
    },
    {
      "cell_type": "code",
      "metadata": {
        "id": "c-1V-tCmRC4n",
        "outputId": "3f6720c4-29d1-4963-ca3a-abaf08405904",
        "colab": {
          "base_uri": "https://localhost:8080/"
        }
      },
      "source": [
        "yData[3640:3660]"
      ],
      "execution_count": null,
      "outputs": [
        {
          "output_type": "execute_result",
          "data": {
            "text/plain": [
              "array([0, 0, 0, 0, 0, 0, 0, 0, 0, 0, 1, 1, 1, 1, 1, 1, 1, 1, 1, 1])"
            ]
          },
          "metadata": {
            "tags": []
          },
          "execution_count": 174
        }
      ]
    },
    {
      "cell_type": "markdown",
      "metadata": {
        "id": "i6OnbTakYJbU"
      },
      "source": [
        "Смысл дальнейшего: разделим роман на \"страницы\" по 128 слов и рассыплем их случайно на 2 кучки - тренировочную и тестовую. 100 страниц на тест, 793 - на обучение."
      ]
    },
    {
      "cell_type": "code",
      "metadata": {
        "id": "PstKV7IvR2fm",
        "outputId": "b18c3e99-5167-4084-86c2-3ac48f1dd16e",
        "colab": {
          "base_uri": "https://localhost:8080/"
        }
      },
      "source": [
        "pageSize = 128\n",
        "pagesNum = xData.shape[0] // pageSize\n",
        "xData = xData[:pageSize*pagesNum]\n",
        "yData = yData[:pageSize*pagesNum]\n",
        "\n",
        "xData.resize(pagesNum, pageSize)\n",
        "yData.resize(pagesNum, pageSize)\n",
        "xData.shape, yData.shape"
      ],
      "execution_count": null,
      "outputs": [
        {
          "output_type": "execute_result",
          "data": {
            "text/plain": [
              "((893, 128), (893, 128))"
            ]
          },
          "metadata": {
            "tags": []
          },
          "execution_count": 175
        }
      ]
    },
    {
      "cell_type": "code",
      "metadata": {
        "id": "eWurkjdyT_yf"
      },
      "source": [
        "ind = np.arange(pagesNum)\n",
        "np.random.shuffle(ind)"
      ],
      "execution_count": null,
      "outputs": []
    },
    {
      "cell_type": "code",
      "metadata": {
        "id": "J00zvUXrUYpY"
      },
      "source": [
        "xTrain = xData[ind[:-100]]\n",
        "yTrain = yData[ind[:-100]]\n",
        "xTest = xData[ind[-100:]]\n",
        "yTest = yData[ind[-100:]]"
      ],
      "execution_count": null,
      "outputs": []
    },
    {
      "cell_type": "code",
      "metadata": {
        "id": "KOeDpM-aYF6D",
        "outputId": "1311e638-100b-4fbc-8f31-042543f72004",
        "colab": {
          "base_uri": "https://localhost:8080/"
        }
      },
      "source": [
        "xTest.shape, xTrain.shape"
      ],
      "execution_count": null,
      "outputs": [
        {
          "output_type": "execute_result",
          "data": {
            "text/plain": [
              "((100, 128), (793, 128))"
            ]
          },
          "metadata": {
            "tags": []
          },
          "execution_count": 178
        }
      ]
    },
    {
      "cell_type": "code",
      "metadata": {
        "id": "HiztZgjGaUk-",
        "outputId": "64857d20-c64c-42e4-be6c-4774a8189287",
        "colab": {
          "base_uri": "https://localhost:8080/"
        }
      },
      "source": [
        "embeddingSize = 256\n",
        "vocSize = len(tokenizer_mm.index_word.items())\n",
        "print(vocSize)"
      ],
      "execution_count": null,
      "outputs": [
        {
          "output_type": "stream",
          "text": [
            "11118\n"
          ],
          "name": "stdout"
        }
      ]
    },
    {
      "cell_type": "markdown",
      "metadata": {
        "id": "u6Esl08HCUfN"
      },
      "source": [
        "### U-net"
      ]
    },
    {
      "cell_type": "markdown",
      "metadata": {
        "id": "59OhJ7KjY0yI"
      },
      "source": [
        "будем использовать собственный эмбеддинг."
      ]
    },
    {
      "cell_type": "code",
      "metadata": {
        "id": "Uex-H4N2YUx8",
        "outputId": "b21cc664-cf7a-4ed2-dfe4-6cd93b9ee1c5",
        "colab": {
          "base_uri": "https://localhost:8080/"
        }
      },
      "source": [
        "inp = Input(shape=(pageSize))\n",
        "x = Embedding(vocSize, embeddingSize)(inp)\n",
        "out = create_unet(k=1, num_classes=1, input_shape=(pageSize, embeddingSize))(x)\n",
        "\n",
        "model = Model(inp, out)\n",
        "model.compile(optimizer=Adam(0.0025), loss='binary_crossentropy', metrics=[dice_coef])\n",
        "model.summary()\n",
        "lh = LearnHistory()"
      ],
      "execution_count": null,
      "outputs": [
        {
          "output_type": "stream",
          "text": [
            "Model: \"functional_81\"\n",
            "_________________________________________________________________\n",
            "Layer (type)                 Output Shape              Param #   \n",
            "=================================================================\n",
            "input_41 (InputLayer)        [(None, 128)]             0         \n",
            "_________________________________________________________________\n",
            "embedding_45 (Embedding)     (None, 128, 256)          2846208   \n",
            "_________________________________________________________________\n",
            "functional_79 (Functional)   (None, 128, 1)            3731329   \n",
            "=================================================================\n",
            "Total params: 6,577,537\n",
            "Trainable params: 6,569,473\n",
            "Non-trainable params: 8,064\n",
            "_________________________________________________________________\n"
          ],
          "name": "stdout"
        }
      ]
    },
    {
      "cell_type": "code",
      "metadata": {
        "id": "6OLgJmIkY1vu",
        "outputId": "6daa8bc4-dfaa-4d37-8ee7-561abba6e231",
        "colab": {
          "base_uri": "https://localhost:8080/",
          "height": 975
        }
      },
      "source": [
        "history = model.fit(xTrain, yTrain, epochs=20, batch_size=10, validation_split=0.1)\n",
        "lh.append(history)\n",
        "lh.plot()"
      ],
      "execution_count": null,
      "outputs": [
        {
          "output_type": "stream",
          "text": [
            "Epoch 1/20\n",
            "72/72 [==============================] - 18s 256ms/step - loss: 0.3623 - dice_coef: 0.7716 - val_loss: 0.5304 - val_dice_coef: 0.8368\n",
            "Epoch 2/20\n",
            "72/72 [==============================] - 18s 248ms/step - loss: 0.1870 - dice_coef: 0.8860 - val_loss: 1.0838 - val_dice_coef: 0.8624\n",
            "Epoch 3/20\n",
            "72/72 [==============================] - 18s 248ms/step - loss: 0.1398 - dice_coef: 0.9070 - val_loss: 0.6753 - val_dice_coef: 0.8895\n",
            "Epoch 4/20\n",
            "72/72 [==============================] - 18s 248ms/step - loss: 0.1397 - dice_coef: 0.9120 - val_loss: 1.4413 - val_dice_coef: 0.8686\n",
            "Epoch 5/20\n",
            "72/72 [==============================] - 18s 248ms/step - loss: 0.0668 - dice_coef: 0.9569 - val_loss: 0.6419 - val_dice_coef: 0.8933\n",
            "Epoch 6/20\n",
            "72/72 [==============================] - 18s 248ms/step - loss: 0.0357 - dice_coef: 0.9743 - val_loss: 0.4486 - val_dice_coef: 0.8983\n",
            "Epoch 7/20\n",
            "72/72 [==============================] - 18s 249ms/step - loss: 0.0592 - dice_coef: 0.9710 - val_loss: 1.2308 - val_dice_coef: 0.7555\n",
            "Epoch 8/20\n",
            "72/72 [==============================] - 18s 249ms/step - loss: 0.0509 - dice_coef: 0.9666 - val_loss: 0.3041 - val_dice_coef: 0.8682\n",
            "Epoch 9/20\n",
            "72/72 [==============================] - 18s 248ms/step - loss: 0.0257 - dice_coef: 0.9820 - val_loss: 0.0599 - val_dice_coef: 0.9670\n",
            "Epoch 10/20\n",
            "72/72 [==============================] - 18s 249ms/step - loss: 0.0094 - dice_coef: 0.9926 - val_loss: 0.1388 - val_dice_coef: 0.9534\n",
            "Epoch 11/20\n",
            "72/72 [==============================] - 18s 249ms/step - loss: 0.0043 - dice_coef: 0.9961 - val_loss: 0.0758 - val_dice_coef: 0.9736\n",
            "Epoch 12/20\n",
            "72/72 [==============================] - 18s 248ms/step - loss: 0.0033 - dice_coef: 0.9972 - val_loss: 0.0581 - val_dice_coef: 0.9794\n",
            "Epoch 13/20\n",
            "72/72 [==============================] - 18s 248ms/step - loss: 0.0024 - dice_coef: 0.9972 - val_loss: 0.0446 - val_dice_coef: 0.9809\n",
            "Epoch 14/20\n",
            "72/72 [==============================] - 18s 248ms/step - loss: 0.0102 - dice_coef: 0.9942 - val_loss: 0.1406 - val_dice_coef: 0.9553\n",
            "Epoch 15/20\n",
            "72/72 [==============================] - 18s 250ms/step - loss: 0.0158 - dice_coef: 0.9909 - val_loss: 0.1146 - val_dice_coef: 0.9632\n",
            "Epoch 16/20\n",
            "72/72 [==============================] - 18s 251ms/step - loss: 0.0174 - dice_coef: 0.9900 - val_loss: 0.4308 - val_dice_coef: 0.9247\n",
            "Epoch 17/20\n",
            "72/72 [==============================] - 18s 250ms/step - loss: 0.0045 - dice_coef: 0.9965 - val_loss: 0.1040 - val_dice_coef: 0.9650\n",
            "Epoch 18/20\n",
            "72/72 [==============================] - 18s 250ms/step - loss: 0.0024 - dice_coef: 0.9985 - val_loss: 0.1036 - val_dice_coef: 0.9705\n",
            "Epoch 19/20\n",
            "72/72 [==============================] - 18s 251ms/step - loss: 0.0024 - dice_coef: 0.9981 - val_loss: 0.1026 - val_dice_coef: 0.9706\n",
            "Epoch 20/20\n",
            "72/72 [==============================] - 18s 250ms/step - loss: 0.0010 - dice_coef: 0.9990 - val_loss: 0.0716 - val_dice_coef: 0.9752\n"
          ],
          "name": "stdout"
        },
        {
          "output_type": "display_data",
          "data": {
            "image/png": "[encoded data removed]",
            "text/plain": [
              "<Figure size 432x288 with 1 Axes>"
            ]
          },
          "metadata": {
            "tags": [],
            "needs_background": "light"
          }
        }
      ]
    },
    {
      "cell_type": "code",
      "metadata": {
        "id": "v8u_eJNfZcQW",
        "outputId": "bef9ed2a-5fe5-4a88-86eb-ff5baaa84339",
        "colab": {
          "base_uri": "https://localhost:8080/"
        }
      },
      "source": [
        "score = model.evaluate(xTest, yTest)"
      ],
      "execution_count": null,
      "outputs": [
        {
          "output_type": "stream",
          "text": [
            "4/4 [==============================] - 0s 88ms/step - loss: 0.1173 - dice_coef: 0.9712\n"
          ],
          "name": "stdout"
        }
      ]
    },
    {
      "cell_type": "code",
      "metadata": {
        "id": "Qo_stD2NL_zi",
        "outputId": "6a345a1e-7cb9-4225-8a27-b0fe173da8bb",
        "colab": {
          "base_uri": "https://localhost:8080/"
        }
      },
      "source": [
        "score"
      ],
      "execution_count": null,
      "outputs": [
        {
          "output_type": "execute_result",
          "data": {
            "text/plain": [
              "[0.11725915223360062, 0.9711576104164124]"
            ]
          },
          "metadata": {
            "tags": []
          },
          "execution_count": 202
        }
      ]
    },
    {
      "cell_type": "code",
      "metadata": {
        "id": "I3Iy6R2jOyji"
      },
      "source": [
        "pred = model.predict(xTest)"
      ],
      "execution_count": null,
      "outputs": []
    },
    {
      "cell_type": "code",
      "metadata": {
        "id": "vy4bLL_cvrBa",
        "outputId": "e973e844-0bb6-4430-d1eb-777d571edc36",
        "colab": {
          "base_uri": "https://localhost:8080/"
        }
      },
      "source": [
        "pred.shape"
      ],
      "execution_count": null,
      "outputs": [
        {
          "output_type": "execute_result",
          "data": {
            "text/plain": [
              "(100, 128, 1)"
            ]
          },
          "metadata": {
            "tags": []
          },
          "execution_count": 204
        }
      ]
    },
    {
      "cell_type": "code",
      "metadata": {
        "id": "zbx-H3mKYqeZ",
        "outputId": "3eec7f05-6363-47f9-cb9d-9fcc850ba53a",
        "colab": {
          "base_uri": "https://localhost:8080/"
        }
      },
      "source": [
        "# Подсчитаем, какая часть слов внутреннего романа правильно распознана\n",
        "count1, count2 = 0, 0\n",
        "for i in range(100):\n",
        "    for j in range(pageSize):\n",
        "        if yTest[i, j] == 1:\n",
        "            count1 += 1\n",
        "            if pred[i, j, 0] > 0.5:\n",
        "                count2 += 1\n",
        "print(count1, count2, 'correct: %.4f' % (count2/count1))\n",
        "# Подсчитаем, какая часть основного романа неправильно распознана как внутренний\n",
        "count1, count2 = 0, 0\n",
        "for i in range(100):\n",
        "    for j in range(pageSize):\n",
        "        if yTest[i, j] == 0:\n",
        "            count1 += 1\n",
        "            if pred[i, j, 0] > 0.5:\n",
        "                count2 += 1\n",
        "print(count1, count2, 'errors: %.4f' % (count2/count1))\n"
      ],
      "execution_count": null,
      "outputs": [
        {
          "output_type": "stream",
          "text": [
            "2427 2134 correct: 0.8793\n",
            "10373 117 errors: 0.0113\n"
          ],
          "name": "stdout"
        }
      ]
    },
    {
      "cell_type": "markdown",
      "metadata": {
        "id": "RxeXBMwqzEqr"
      },
      "source": [
        "### Трансформер"
      ]
    },
    {
      "cell_type": "markdown",
      "metadata": {
        "id": "DlU1QCrF4Svx"
      },
      "source": [
        "Попробовал применить архитектуру \"Трансформер\". Взял простейший вариант с 1 блоком энкодера."
      ]
    },
    {
      "cell_type": "code",
      "metadata": {
        "id": "YpRZB_-1yTF_",
        "outputId": "bdfa91f8-faff-4c65-c2ad-bf3b19c802f0",
        "colab": {
          "base_uri": "https://localhost:8080/"
        }
      },
      "source": [
        "\n",
        "num_heads = 4  # Number of attention heads\n",
        "ff_dim = 512  # Hidden layer size in feed forward network inside transformer\n",
        "\n",
        "inp = Input(shape=(pageSize,))\n",
        "x = TokenAndPositionEmbedding(pageSize, vocSize, embeddingSize)(inp)\n",
        "x = TransformerBlock(embeddingSize, num_heads, ff_dim)(x)\n",
        "# x = TransformerBlock(embeddingSize, num_heads, ff_dim)(x) # Можно добавлять блоки энкодера\n",
        "# x = TransformerBlock(embeddingSize, num_heads, ff_dim)(x)\n",
        "x = Dense(200, activation=\"relu\")(x)\n",
        "x = Dropout(0.1)(x)\n",
        "out = Dense(1, activation=\"sigmoid\")(x)\n",
        "model = Model(inputs=inp, outputs=out)\n",
        "model.compile(optimizer=Adam(0.0025), loss='binary_crossentropy', metrics=[dice_coef])\n",
        "model.summary()\n",
        "lh = LearnHistory()"
      ],
      "execution_count": null,
      "outputs": [
        {
          "output_type": "stream",
          "text": [
            "Model: \"functional_69\"\n",
            "_________________________________________________________________\n",
            "Layer (type)                 Output Shape              Param #   \n",
            "=================================================================\n",
            "input_38 (InputLayer)        [(None, 128)]             0         \n",
            "_________________________________________________________________\n",
            "token_and_position_embedding (None, 128, 256)          2878976   \n",
            "_________________________________________________________________\n",
            "transformer_block_15 (Transf (None, 128, 256)          527104    \n",
            "_________________________________________________________________\n",
            "dense_124 (Dense)            (None, 128, 200)          51400     \n",
            "_________________________________________________________________\n",
            "dropout_42 (Dropout)         (None, 128, 200)          0         \n",
            "_________________________________________________________________\n",
            "dense_125 (Dense)            (None, 128, 1)            201       \n",
            "=================================================================\n",
            "Total params: 3,457,681\n",
            "Trainable params: 3,457,681\n",
            "Non-trainable params: 0\n",
            "_________________________________________________________________\n"
          ],
          "name": "stdout"
        }
      ]
    },
    {
      "cell_type": "code",
      "metadata": {
        "id": "JZ_6ls2j_jh2",
        "outputId": "7882147a-9002-4b5f-af7f-498790540547",
        "colab": {
          "base_uri": "https://localhost:8080/",
          "height": 975
        }
      },
      "source": [
        "history = model.fit(xTrain, yTrain, epochs=20, batch_size=10, validation_split=0.1)\n",
        "lh.append(history)\n",
        "lh.plot()"
      ],
      "execution_count": null,
      "outputs": [
        {
          "output_type": "stream",
          "text": [
            "Epoch 1/20\n",
            "72/72 [==============================] - 9s 132ms/step - loss: 0.3048 - dice_coef: 0.8491 - val_loss: 0.0722 - val_dice_coef: 0.9414\n",
            "Epoch 2/20\n",
            "72/72 [==============================] - 9s 128ms/step - loss: 0.0644 - dice_coef: 0.9742 - val_loss: 0.0066 - val_dice_coef: 0.9938\n",
            "Epoch 3/20\n",
            "72/72 [==============================] - 9s 127ms/step - loss: 0.0120 - dice_coef: 0.9957 - val_loss: 0.0158 - val_dice_coef: 0.9896\n",
            "Epoch 4/20\n",
            "72/72 [==============================] - 9s 128ms/step - loss: 0.0114 - dice_coef: 0.9954 - val_loss: 0.0020 - val_dice_coef: 0.9983\n",
            "Epoch 5/20\n",
            "72/72 [==============================] - 9s 128ms/step - loss: 0.0130 - dice_coef: 0.9964 - val_loss: 0.0040 - val_dice_coef: 0.9964\n",
            "Epoch 6/20\n",
            "72/72 [==============================] - 9s 127ms/step - loss: 0.0111 - dice_coef: 0.9956 - val_loss: 0.0014 - val_dice_coef: 0.9987\n",
            "Epoch 7/20\n",
            "72/72 [==============================] - 9s 129ms/step - loss: 0.0118 - dice_coef: 0.9968 - val_loss: 0.0037 - val_dice_coef: 0.9967\n",
            "Epoch 8/20\n",
            "72/72 [==============================] - 9s 128ms/step - loss: 0.0115 - dice_coef: 0.9958 - val_loss: 0.0024 - val_dice_coef: 0.9979\n",
            "Epoch 9/20\n",
            "72/72 [==============================] - 9s 128ms/step - loss: 0.0109 - dice_coef: 0.9958 - val_loss: 9.7931e-04 - val_dice_coef: 0.9991\n",
            "Epoch 10/20\n",
            "72/72 [==============================] - 9s 128ms/step - loss: 0.0112 - dice_coef: 0.9971 - val_loss: 0.0045 - val_dice_coef: 0.9959\n",
            "Epoch 11/20\n",
            "72/72 [==============================] - 9s 128ms/step - loss: 0.0120 - dice_coef: 0.9960 - val_loss: 0.0022 - val_dice_coef: 0.9980\n",
            "Epoch 12/20\n",
            "72/72 [==============================] - 9s 128ms/step - loss: 0.0108 - dice_coef: 0.9953 - val_loss: 0.0015 - val_dice_coef: 0.9987\n",
            "Epoch 13/20\n",
            "72/72 [==============================] - 9s 128ms/step - loss: 0.0116 - dice_coef: 0.9968 - val_loss: 0.0037 - val_dice_coef: 0.9967\n",
            "Epoch 14/20\n",
            "72/72 [==============================] - 9s 128ms/step - loss: 0.0100 - dice_coef: 0.9953 - val_loss: 0.0012 - val_dice_coef: 0.9990\n",
            "Epoch 15/20\n",
            "72/72 [==============================] - 9s 128ms/step - loss: 0.0121 - dice_coef: 0.9969 - val_loss: 0.0055 - val_dice_coef: 0.9953\n",
            "Epoch 16/20\n",
            "72/72 [==============================] - 9s 128ms/step - loss: 0.0119 - dice_coef: 0.9966 - val_loss: 0.0028 - val_dice_coef: 0.9978\n",
            "Epoch 17/20\n",
            "72/72 [==============================] - 9s 128ms/step - loss: 0.0126 - dice_coef: 0.9965 - val_loss: 0.0069 - val_dice_coef: 0.9945\n",
            "Epoch 18/20\n",
            "72/72 [==============================] - 9s 128ms/step - loss: 0.0141 - dice_coef: 0.9945 - val_loss: 0.0064 - val_dice_coef: 0.9957\n",
            "Epoch 19/20\n",
            "72/72 [==============================] - 9s 127ms/step - loss: 0.0120 - dice_coef: 0.9973 - val_loss: 0.0100 - val_dice_coef: 0.9939\n",
            "Epoch 20/20\n",
            "72/72 [==============================] - 9s 128ms/step - loss: 0.0106 - dice_coef: 0.9947 - val_loss: 0.0418 - val_dice_coef: 0.9888\n"
          ],
          "name": "stdout"
        },
        {
          "output_type": "display_data",
          "data": {
            "image/png": "[encoded data removed]",
            "text/plain": [
              "<Figure size 432x288 with 1 Axes>"
            ]
          },
          "metadata": {
            "tags": [],
            "needs_background": "light"
          }
        }
      ]
    },
    {
      "cell_type": "code",
      "metadata": {
        "id": "Bj_vcyp72zYE",
        "outputId": "63156ff8-792e-4ac0-c1be-e5e7f6830b49",
        "colab": {
          "base_uri": "https://localhost:8080/"
        }
      },
      "source": [
        "score = model.evaluate(xTest, yTest)\n",
        "score"
      ],
      "execution_count": null,
      "outputs": [
        {
          "output_type": "stream",
          "text": [
            "4/4 [==============================] - 0s 61ms/step - loss: 0.1149 - dice_coef: 0.9831\n"
          ],
          "name": "stdout"
        },
        {
          "output_type": "execute_result",
          "data": {
            "text/plain": [
              "[0.11490124464035034, 0.9830517768859863]"
            ]
          },
          "metadata": {
            "tags": []
          },
          "execution_count": 188
        }
      ]
    },
    {
      "cell_type": "code",
      "metadata": {
        "id": "9ZHRlWqh5HrR"
      },
      "source": [
        "pred = model.predict(xTest)"
      ],
      "execution_count": null,
      "outputs": []
    },
    {
      "cell_type": "code",
      "metadata": {
        "id": "TqdCIHgS5Q0B",
        "outputId": "81c9f8b5-10ca-488b-889f-26cf3970af28",
        "colab": {
          "base_uri": "https://localhost:8080/"
        }
      },
      "source": [
        "# Подсчитаем, какая часть слов внутреннего романа правильно распознана\n",
        "count1, count2 = 0, 0\n",
        "for i in range(100):\n",
        "    for j in range(pageSize):\n",
        "        if yTest[i, j] == 1:\n",
        "            count1 += 1\n",
        "            if pred[i, j, 0] > 0.5:\n",
        "                count2 += 1\n",
        "print(count1, count2, 'correct: %.4f' % (count2/count1))\n",
        "# Подсчитаем, какая часть основного романа неправильно распознана как внутренний\n",
        "count1, count2 = 0, 0\n",
        "for i in range(100):\n",
        "    for j in range(pageSize):\n",
        "        if yTest[i, j] == 0:\n",
        "            count1 += 1\n",
        "            if pred[i, j, 0] > 0.5:\n",
        "                count2 += 1\n",
        "print(count1, count2, 'errors: %.4f' % (count2/count1))\n"
      ],
      "execution_count": null,
      "outputs": [
        {
          "output_type": "stream",
          "text": [
            "2427 2167 correct: 0.8929\n",
            "10373 5 errors: 0.0005\n"
          ],
          "name": "stdout"
        }
      ]
    },
    {
      "cell_type": "markdown",
      "metadata": {
        "id": "jHJgzZ7jASSa"
      },
      "source": [
        "### ВЫВОДЫ\n",
        "\n",
        "Получена достаточно высокая точность классификации отдельных слов - более 89%. Впрочем,\n",
        "задача не очень сложна, так как действия обоих романов происходит в разных местах и в разные эпохи, в совершенно разной обстановке и с разными персонажами. Контекст (размер \"страниц\") был выбран достаточно большим (128), что тоже облегчало задачу.\n",
        "\n",
        "Я попробовал 2 различные модели - U-net и Трансформер  в простейшей конфигурации (1 блок ээнкодера)\n",
        "Трансформер показал преимущество во всех отношениях - при меньшем числе параметров и меньшем времени обучения выдал более точный результат."
      ]
    },
    {
      "cell_type": "code",
      "metadata": {
        "id": "4vWYGESt_cm2"
      },
      "source": [
        ""
      ],
      "execution_count": null,
      "outputs": []
    }
  ]
}