{
  "nbformat": 4,
  "nbformat_minor": 0,
  "metadata": {
    "colab": {
      "name": "HW01.ipynb",
      "provenance": [],
      "collapsed_sections": [
        "etdrL7tnuK_H",
        "VB_PDcu03_8y",
        "xgOWZb4RxGY4"
      ],
      "toc_visible": true,
      "authorship_tag": "ABX9TyNTR1Ic+g+ZfL0/SUfgt80P",
      "include_colab_link": true
    },
    "kernelspec": {
      "name": "python3",
      "display_name": "Python 3"
    },
    "accelerator": "GPU"
  },
  "cells": [
    {
      "cell_type": "markdown",
      "metadata": {
        "id": "view-in-github",
        "colab_type": "text"
      },
      "source": [
        "<a href=\"https://colab.research.google.com/github/boangri/neuraluniversity/blob/master/HW01.ipynb\" target=\"_parent\"><img src=\"https://colab.research.google.com/assets/colab-badge.svg\" alt=\"Open In Colab\"/></a>"
      ]
    },
    {
      "cell_type": "markdown",
      "metadata": {
        "id": "IWPnviI3tEM4",
        "colab_type": "text"
      },
      "source": [
        "# Домашнее задание к занятию №1 \"Введение в нейронные сети\" 26.07.2020\n",
        "\n",
        "Борис Грибовский <xinu@yandex.ru>"
      ]
    },
    {
      "cell_type": "markdown",
      "metadata": {
        "id": "etdrL7tnuK_H",
        "colab_type": "text"
      },
      "source": [
        "## LIGHT, variant 1:"
      ]
    },
    {
      "cell_type": "code",
      "metadata": {
        "id": "3214qgzVsHwI",
        "colab_type": "code",
        "colab": {}
      },
      "source": [
        "# 1. Импорт библиотек\n",
        "import numpy as np\n",
        "from tensorflow.keras.datasets import mnist \n",
        "from tensorflow.keras.models import Sequential \n",
        "from tensorflow.keras.layers import Dense \n",
        "from tensorflow.keras.optimizers import Adam \n",
        "from tensorflow.keras import utils \n",
        "from tensorflow.keras.preprocessing import image "
      ],
      "execution_count": null,
      "outputs": []
    },
    {
      "cell_type": "code",
      "metadata": {
        "id": "aO5j-TpyClQm",
        "colab_type": "code",
        "colab": {}
      },
      "source": [
        "np.random.seed = 42 # выбор профессионалов :)"
      ],
      "execution_count": null,
      "outputs": []
    },
    {
      "cell_type": "code",
      "metadata": {
        "id": "XuZunFDQs6i7",
        "colab_type": "code",
        "colab": {
          "base_uri": "https://localhost:8080/",
          "height": 51
        },
        "outputId": "aec412d6-e05e-4fd8-b7b4-91de8ae710cc"
      },
      "source": [
        "# 2. Загрузка базы MNIST\n",
        "(x_train_org, y_train_org), (x_test_org, y_test_org) = mnist.load_data()"
      ],
      "execution_count": null,
      "outputs": [
        {
          "output_type": "stream",
          "text": [
            "Downloading data from https://storage.googleapis.com/tensorflow/tf-keras-datasets/mnist.npz\n",
            "11493376/11490434 [==============================] - 0s 0us/step\n"
          ],
          "name": "stdout"
        }
      ]
    },
    {
      "cell_type": "code",
      "metadata": {
        "id": "kIyDJtLSuxdG",
        "colab_type": "code",
        "colab": {}
      },
      "source": [
        "# 3. Нормирование и преобразование x_train и y_train.\n",
        "# Преобразуем двумерное представление в одномерное:\n",
        "# 28x28 -> 784:\n",
        "x_train = x_train_org.reshape(60000, 784)\n",
        "x_test = x_test_org.reshape(10000, 784)\n",
        "# Нормализуем входные картинки\n",
        "x_train = x_train.astype('float32')\n",
        "x_train = x_train / 255 \n",
        "x_test = x_test.astype('float32') \n",
        "x_test = x_test / 255 \n",
        "# Преобразуем ответы в формат one_hot_encoding\n",
        "y_train = utils.to_categorical(y_train_org, 10)\n",
        "y_test = utils.to_categorical(y_test_org, 10)"
      ],
      "execution_count": null,
      "outputs": []
    },
    {
      "cell_type": "code",
      "metadata": {
        "id": "7PdwxFHHv_9W",
        "colab_type": "code",
        "colab": {
          "base_uri": "https://localhost:8080/",
          "height": 255
        },
        "outputId": "3aa90ae0-cabb-453f-ce29-ea9e369fb230"
      },
      "source": [
        "# 4. Создание нейронной сети.\n",
        "# Создаем модель из 2-х слоев с 800 и 400 нейронами.\n",
        "model = Sequential()\n",
        "model.add(Dense(800, input_dim=784, activation=\"relu\"))\n",
        "model.add(Dense(400, activation=\"relu\"))\n",
        "model.add(Dense(10, activation=\"softmax\"))\n",
        "# Компилляция:\n",
        "model.compile(loss=\"categorical_crossentropy\", optimizer=\"adam\", metrics=[\"accuracy\"])\n",
        "model.summary()"
      ],
      "execution_count": null,
      "outputs": [
        {
          "output_type": "stream",
          "text": [
            "Model: \"sequential\"\n",
            "_________________________________________________________________\n",
            "Layer (type)                 Output Shape              Param #   \n",
            "=================================================================\n",
            "dense (Dense)                (None, 800)               628000    \n",
            "_________________________________________________________________\n",
            "dense_1 (Dense)              (None, 400)               320400    \n",
            "_________________________________________________________________\n",
            "dense_2 (Dense)              (None, 10)                4010      \n",
            "=================================================================\n",
            "Total params: 952,410\n",
            "Trainable params: 952,410\n",
            "Non-trainable params: 0\n",
            "_________________________________________________________________\n"
          ],
          "name": "stdout"
        }
      ]
    },
    {
      "cell_type": "code",
      "metadata": {
        "id": "pV8IPBLWw4Fg",
        "colab_type": "code",
        "colab": {
          "base_uri": "https://localhost:8080/",
          "height": 544
        },
        "outputId": "e34d7dca-3135-40cc-981b-31af4d49f85e"
      },
      "source": [
        "# 5. Обучение нейронной сети.\n",
        "model.fit(x_train, y_train, batch_size=128, epochs=15, verbose=1, validation_split=0.2)"
      ],
      "execution_count": null,
      "outputs": [
        {
          "output_type": "stream",
          "text": [
            "Epoch 1/15\n",
            "375/375 [==============================] - 2s 6ms/step - loss: 0.2323 - accuracy: 0.9316 - val_loss: 0.1228 - val_accuracy: 0.9626\n",
            "Epoch 2/15\n",
            "375/375 [==============================] - 2s 5ms/step - loss: 0.0829 - accuracy: 0.9746 - val_loss: 0.0896 - val_accuracy: 0.9712\n",
            "Epoch 3/15\n",
            "375/375 [==============================] - 2s 5ms/step - loss: 0.0517 - accuracy: 0.9837 - val_loss: 0.0966 - val_accuracy: 0.9728\n",
            "Epoch 4/15\n",
            "375/375 [==============================] - 2s 5ms/step - loss: 0.0352 - accuracy: 0.9888 - val_loss: 0.1075 - val_accuracy: 0.9711\n",
            "Epoch 5/15\n",
            "375/375 [==============================] - 2s 5ms/step - loss: 0.0285 - accuracy: 0.9909 - val_loss: 0.0857 - val_accuracy: 0.9768\n",
            "Epoch 6/15\n",
            "375/375 [==============================] - 2s 5ms/step - loss: 0.0204 - accuracy: 0.9930 - val_loss: 0.0945 - val_accuracy: 0.9757\n",
            "Epoch 7/15\n",
            "375/375 [==============================] - 2s 5ms/step - loss: 0.0175 - accuracy: 0.9940 - val_loss: 0.0930 - val_accuracy: 0.9785\n",
            "Epoch 8/15\n",
            "375/375 [==============================] - 2s 5ms/step - loss: 0.0143 - accuracy: 0.9952 - val_loss: 0.1118 - val_accuracy: 0.9747\n",
            "Epoch 9/15\n",
            "375/375 [==============================] - 2s 5ms/step - loss: 0.0155 - accuracy: 0.9952 - val_loss: 0.1027 - val_accuracy: 0.9765\n",
            "Epoch 10/15\n",
            "375/375 [==============================] - 2s 5ms/step - loss: 0.0136 - accuracy: 0.9954 - val_loss: 0.1034 - val_accuracy: 0.9754\n",
            "Epoch 11/15\n",
            "375/375 [==============================] - 2s 5ms/step - loss: 0.0140 - accuracy: 0.9956 - val_loss: 0.1023 - val_accuracy: 0.9766\n",
            "Epoch 12/15\n",
            "375/375 [==============================] - 2s 5ms/step - loss: 0.0104 - accuracy: 0.9965 - val_loss: 0.1119 - val_accuracy: 0.9776\n",
            "Epoch 13/15\n",
            "375/375 [==============================] - 2s 5ms/step - loss: 0.0098 - accuracy: 0.9967 - val_loss: 0.1001 - val_accuracy: 0.9794\n",
            "Epoch 14/15\n",
            "375/375 [==============================] - 2s 5ms/step - loss: 0.0112 - accuracy: 0.9964 - val_loss: 0.0977 - val_accuracy: 0.9812\n",
            "Epoch 15/15\n",
            "375/375 [==============================] - 2s 5ms/step - loss: 0.0068 - accuracy: 0.9978 - val_loss: 0.1224 - val_accuracy: 0.9758\n"
          ],
          "name": "stdout"
        },
        {
          "output_type": "execute_result",
          "data": {
            "text/plain": [
              "<tensorflow.python.keras.callbacks.History at 0x7f9ca04dcd30>"
            ]
          },
          "metadata": {
            "tags": []
          },
          "execution_count": 7
        }
      ]
    },
    {
      "cell_type": "code",
      "metadata": {
        "id": "fvfRIdmPxuTe",
        "colab_type": "code",
        "colab": {}
      },
      "source": [
        "# Тестируем модель\n",
        "prediction = model.predict(x_test)"
      ],
      "execution_count": null,
      "outputs": []
    },
    {
      "cell_type": "code",
      "metadata": {
        "id": "tsl7Mu1Kx_Bl",
        "colab_type": "code",
        "colab": {}
      },
      "source": [
        "# Преобразуем hot_one представления в числа от 0 до 9:\n",
        "pred_n = np.array([np.argmax(x) for x in prediction])\n",
        "test_n = np.array([np.argmax(x) for x in y_test])"
      ],
      "execution_count": null,
      "outputs": []
    },
    {
      "cell_type": "code",
      "metadata": {
        "id": "mL1TUfJryBgl",
        "colab_type": "code",
        "colab": {
          "base_uri": "https://localhost:8080/",
          "height": 34
        },
        "outputId": "79a6eb9b-8b5e-4d47-9b76-595449dbfee6"
      },
      "source": [
        "# Подсчитаем число верных ответов\n",
        "count = 0\n",
        "for i in range(len(pred_n)):\n",
        "  count += (pred_n[i] == test_n[i])\n",
        "print(count)"
      ],
      "execution_count": null,
      "outputs": [
        {
          "output_type": "stream",
          "text": [
            "9787\n"
          ],
          "name": "stdout"
        }
      ]
    },
    {
      "cell_type": "markdown",
      "metadata": {
        "id": "VB_PDcu03_8y",
        "colab_type": "text"
      },
      "source": [
        "## LIGHT, variant 2:"
      ]
    },
    {
      "cell_type": "code",
      "metadata": {
        "id": "kKyDhslM-k6B",
        "colab_type": "code",
        "colab": {}
      },
      "source": [
        "import time\n",
        "import pandas as pd"
      ],
      "execution_count": null,
      "outputs": []
    },
    {
      "cell_type": "code",
      "metadata": {
        "id": "QYN7FCCr4JLd",
        "colab_type": "code",
        "colab": {}
      },
      "source": [
        "sizes = [10, 100, 5000]\n",
        "activations = ['relu', 'linear']\n",
        "batch_sizes = [1, 10, 100, 60000]\n",
        "epochs = 10"
      ],
      "execution_count": null,
      "outputs": []
    },
    {
      "cell_type": "code",
      "metadata": {
        "id": "Tp16wjQm4xyO",
        "colab_type": "code",
        "colab": {}
      },
      "source": [
        "results = np.zeros((len(sizes), len(activations), len(batch_sizes))) # Результаты тестов (точность)\n",
        "times = np.zeros((len(sizes), len(activations), len(batch_sizes))) # Время тестирования\n",
        "test_n = np.array([np.argmax(x) for x in y_test]) # Преобразуем hot_one в числа"
      ],
      "execution_count": null,
      "outputs": []
    },
    {
      "cell_type": "code",
      "metadata": {
        "id": "rsJDHPRp5HJy",
        "colab_type": "code",
        "colab": {
          "base_uri": "https://localhost:8080/",
          "height": 459
        },
        "outputId": "646d9bc0-f16c-4462-80a5-fc7681bf7932"
      },
      "source": [
        "%%time\n",
        "for i in range(len(sizes)):\n",
        "  for j in range(len(activations)):\n",
        "    for k in range(len(batch_sizes)):\n",
        "      start_time = time.time()\n",
        "      model = Sequential()\n",
        "      model.add(Dense(sizes[i], input_dim=784, activation=activations[j]))\n",
        "      model.add(Dense(10, activation=\"softmax\"))\n",
        "      model.compile(loss=\"categorical_crossentropy\", optimizer=\"adam\", metrics=[\"accuracy\"])\n",
        "      model.fit(x_train, y_train, batch_size=batch_sizes[k], epochs=epochs, verbose=0, validation_split=0.2)\n",
        "      prediction = model.predict(x_test)\n",
        "      pred_n = np.array([np.argmax(x) for x in prediction])\n",
        "      # Подсчитаем число верных ответов\n",
        "      count = 0\n",
        "      for l in range(len(pred_n)):\n",
        "        count += (pred_n[l] == test_n[l])\n",
        "      print(f\"size={sizes[i]} activation={activations[j]} batch_size={batch_sizes[k]} valid_answers={count}\")\n",
        "      results[i, j, k] = count/len(test_n)*100. # Процент верных ответов\n",
        "      times[i, j, k] = time.time() - start_time"
      ],
      "execution_count": null,
      "outputs": [
        {
          "output_type": "stream",
          "text": [
            "size=10 activation=relu batch_size=1 valid_answers=9237\n",
            "size=10 activation=relu batch_size=10 valid_answers=9361\n",
            "size=10 activation=relu batch_size=100 valid_answers=9268\n",
            "size=10 activation=relu batch_size=60000 valid_answers=1607\n",
            "size=10 activation=linear batch_size=1 valid_answers=9177\n",
            "size=10 activation=linear batch_size=10 valid_answers=9234\n",
            "size=10 activation=linear batch_size=100 valid_answers=9269\n",
            "size=10 activation=linear batch_size=60000 valid_answers=3772\n",
            "size=100 activation=relu batch_size=1 valid_answers=9745\n",
            "size=100 activation=relu batch_size=10 valid_answers=9723\n",
            "size=100 activation=relu batch_size=100 valid_answers=9749\n",
            "size=100 activation=relu batch_size=60000 valid_answers=7434\n",
            "size=100 activation=linear batch_size=1 valid_answers=9158\n",
            "size=100 activation=linear batch_size=10 valid_answers=9186\n",
            "size=100 activation=linear batch_size=100 valid_answers=9263\n",
            "size=100 activation=linear batch_size=60000 valid_answers=7792\n",
            "size=5000 activation=relu batch_size=1 valid_answers=9769\n",
            "size=5000 activation=relu batch_size=10 valid_answers=9769\n",
            "size=5000 activation=relu batch_size=100 valid_answers=9791\n",
            "size=5000 activation=relu batch_size=60000 valid_answers=9035\n",
            "size=5000 activation=linear batch_size=1 valid_answers=8681\n",
            "size=5000 activation=linear batch_size=10 valid_answers=8842\n",
            "size=5000 activation=linear batch_size=100 valid_answers=9135\n",
            "size=5000 activation=linear batch_size=60000 valid_answers=8853\n",
            "CPU times: user 1h 49min 35s, sys: 21min 17s, total: 2h 10min 52s\n",
            "Wall time: 1h 45min 56s\n"
          ],
          "name": "stdout"
        }
      ]
    },
    {
      "cell_type": "code",
      "metadata": {
        "id": "SdTGsBuk5JDL",
        "colab_type": "code",
        "colab": {}
      },
      "source": [
        "# Таблички с результатами.\n",
        "df_relu = pd.DataFrame(results[:,0,:], columns=batch_sizes, index=sizes)\n",
        "df_linear = pd.DataFrame(results[:,1,:], columns=batch_sizes, index=sizes)\n",
        "df_times = pd.DataFrame(times[:,0,:], columns=batch_sizes, index=sizes)"
      ],
      "execution_count": null,
      "outputs": []
    },
    {
      "cell_type": "code",
      "metadata": {
        "id": "AxLl0lKbCzdt",
        "colab_type": "code",
        "colab": {
          "base_uri": "https://localhost:8080/",
          "height": 142
        },
        "outputId": "6f76f480-592c-414b-ba34-9bc4fbcddfac"
      },
      "source": [
        "df_relu # Процент правильных ответов с активацией relu"
      ],
      "execution_count": null,
      "outputs": [
        {
          "output_type": "execute_result",
          "data": {
            "text/html": [
              "<div>\n",
              "<style scoped>\n",
              "    .dataframe tbody tr th:only-of-type {\n",
              "        vertical-align: middle;\n",
              "    }\n",
              "\n",
              "    .dataframe tbody tr th {\n",
              "        vertical-align: top;\n",
              "    }\n",
              "\n",
              "    .dataframe thead th {\n",
              "        text-align: right;\n",
              "    }\n",
              "</style>\n",
              "<table border=\"1\" class=\"dataframe\">\n",
              "  <thead>\n",
              "    <tr style=\"text-align: right;\">\n",
              "      <th></th>\n",
              "      <th>1</th>\n",
              "      <th>10</th>\n",
              "      <th>100</th>\n",
              "      <th>60000</th>\n",
              "    </tr>\n",
              "  </thead>\n",
              "  <tbody>\n",
              "    <tr>\n",
              "      <th>10</th>\n",
              "      <td>92.37</td>\n",
              "      <td>93.61</td>\n",
              "      <td>92.68</td>\n",
              "      <td>16.07</td>\n",
              "    </tr>\n",
              "    <tr>\n",
              "      <th>100</th>\n",
              "      <td>97.45</td>\n",
              "      <td>97.23</td>\n",
              "      <td>97.49</td>\n",
              "      <td>74.34</td>\n",
              "    </tr>\n",
              "    <tr>\n",
              "      <th>5000</th>\n",
              "      <td>97.69</td>\n",
              "      <td>97.69</td>\n",
              "      <td>97.91</td>\n",
              "      <td>90.35</td>\n",
              "    </tr>\n",
              "  </tbody>\n",
              "</table>\n",
              "</div>"
            ],
            "text/plain": [
              "      1      10     100    60000\n",
              "10    92.37  93.61  92.68  16.07\n",
              "100   97.45  97.23  97.49  74.34\n",
              "5000  97.69  97.69  97.91  90.35"
            ]
          },
          "metadata": {
            "tags": []
          },
          "execution_count": 16
        }
      ]
    },
    {
      "cell_type": "code",
      "metadata": {
        "id": "SPrYfTviJN7b",
        "colab_type": "code",
        "colab": {
          "base_uri": "https://localhost:8080/",
          "height": 142
        },
        "outputId": "a30cbba9-83f4-4a98-d5d9-3c0484ad031f"
      },
      "source": [
        "df_linear # Процент правильных ответов с активацией linear"
      ],
      "execution_count": null,
      "outputs": [
        {
          "output_type": "execute_result",
          "data": {
            "text/html": [
              "<div>\n",
              "<style scoped>\n",
              "    .dataframe tbody tr th:only-of-type {\n",
              "        vertical-align: middle;\n",
              "    }\n",
              "\n",
              "    .dataframe tbody tr th {\n",
              "        vertical-align: top;\n",
              "    }\n",
              "\n",
              "    .dataframe thead th {\n",
              "        text-align: right;\n",
              "    }\n",
              "</style>\n",
              "<table border=\"1\" class=\"dataframe\">\n",
              "  <thead>\n",
              "    <tr style=\"text-align: right;\">\n",
              "      <th></th>\n",
              "      <th>1</th>\n",
              "      <th>10</th>\n",
              "      <th>100</th>\n",
              "      <th>60000</th>\n",
              "    </tr>\n",
              "  </thead>\n",
              "  <tbody>\n",
              "    <tr>\n",
              "      <th>10</th>\n",
              "      <td>91.77</td>\n",
              "      <td>92.34</td>\n",
              "      <td>92.69</td>\n",
              "      <td>37.72</td>\n",
              "    </tr>\n",
              "    <tr>\n",
              "      <th>100</th>\n",
              "      <td>91.58</td>\n",
              "      <td>91.86</td>\n",
              "      <td>92.63</td>\n",
              "      <td>77.92</td>\n",
              "    </tr>\n",
              "    <tr>\n",
              "      <th>5000</th>\n",
              "      <td>86.81</td>\n",
              "      <td>88.42</td>\n",
              "      <td>91.35</td>\n",
              "      <td>88.53</td>\n",
              "    </tr>\n",
              "  </tbody>\n",
              "</table>\n",
              "</div>"
            ],
            "text/plain": [
              "      1      10     100    60000\n",
              "10    91.77  92.34  92.69  37.72\n",
              "100   91.58  91.86  92.63  77.92\n",
              "5000  86.81  88.42  91.35  88.53"
            ]
          },
          "metadata": {
            "tags": []
          },
          "execution_count": 17
        }
      ]
    },
    {
      "cell_type": "code",
      "metadata": {
        "id": "oWaDvYh2LDnd",
        "colab_type": "code",
        "colab": {
          "base_uri": "https://localhost:8080/",
          "height": 142
        },
        "outputId": "321c4e20-c7d0-4587-8b4c-064d64607b9a"
      },
      "source": [
        "df_times # время выполнения обучения и тестирования (сек)"
      ],
      "execution_count": null,
      "outputs": [
        {
          "output_type": "execute_result",
          "data": {
            "text/html": [
              "<div>\n",
              "<style scoped>\n",
              "    .dataframe tbody tr th:only-of-type {\n",
              "        vertical-align: middle;\n",
              "    }\n",
              "\n",
              "    .dataframe tbody tr th {\n",
              "        vertical-align: top;\n",
              "    }\n",
              "\n",
              "    .dataframe thead th {\n",
              "        text-align: right;\n",
              "    }\n",
              "</style>\n",
              "<table border=\"1\" class=\"dataframe\">\n",
              "  <thead>\n",
              "    <tr style=\"text-align: right;\">\n",
              "      <th></th>\n",
              "      <th>1</th>\n",
              "      <th>10</th>\n",
              "      <th>100</th>\n",
              "      <th>60000</th>\n",
              "    </tr>\n",
              "  </thead>\n",
              "  <tbody>\n",
              "    <tr>\n",
              "      <th>10</th>\n",
              "      <td>840.950983</td>\n",
              "      <td>90.005464</td>\n",
              "      <td>11.215810</td>\n",
              "      <td>2.343234</td>\n",
              "    </tr>\n",
              "    <tr>\n",
              "      <th>100</th>\n",
              "      <td>830.708318</td>\n",
              "      <td>90.140829</td>\n",
              "      <td>11.085702</td>\n",
              "      <td>2.174289</td>\n",
              "    </tr>\n",
              "    <tr>\n",
              "      <th>5000</th>\n",
              "      <td>1162.582226</td>\n",
              "      <td>149.634776</td>\n",
              "      <td>20.388566</td>\n",
              "      <td>6.426854</td>\n",
              "    </tr>\n",
              "  </tbody>\n",
              "</table>\n",
              "</div>"
            ],
            "text/plain": [
              "            1           10         100       60000\n",
              "10     840.950983   90.005464  11.215810  2.343234\n",
              "100    830.708318   90.140829  11.085702  2.174289\n",
              "5000  1162.582226  149.634776  20.388566  6.426854"
            ]
          },
          "metadata": {
            "tags": []
          },
          "execution_count": 18
        }
      ]
    },
    {
      "cell_type": "markdown",
      "metadata": {
        "id": "qEhDu5NN1oF1",
        "colab_type": "text"
      },
      "source": [
        "### Выводы:\n",
        "Было перебрано 24 варианта гиперпараметров при фиксированном числе эпох (10) В качестве метрики использовалось количество верных ответов на тестовой (10000 образцов) выборке.\n",
        "\n",
        "1.   Лучший результат - 97.91% - был получен на 5000 нейронах, размере батча 100 и функции активации relu.\n",
        "2.   Время обучения сильно зависит от размера батча - чем больше батч сайз, тем скорее идет обучение (при равном числе эпох)\n",
        "3.   Результат улучшается при увеличении числа нейронов, но не сильно. Например при увеличении со 100 до 5000 выигрыш составил 97.49% -> 97.91%\n",
        "4.   Активация relu показала лучшие результаты по сравнению с linear (при прочих равных условиях)\n",
        "1.   Наилучшее результаты достигаются на размерах батча в 10 и 100. Наихудший результат дал размер батча 60000, однако сравние не совсем корректное, так как обучение происходило очень быстро, корректнее было бы сравнивать результаты полученные с одинаковым временем обучения.\n",
        "2.   Полный перебор 24 гиперпараметров занял 2h 11min при включенном GPU.\n",
        "\n",
        "\n",
        "\n"
      ]
    },
    {
      "cell_type": "markdown",
      "metadata": {
        "id": "xgOWZb4RxGY4",
        "colab_type": "text"
      },
      "source": [
        "## PRO"
      ]
    },
    {
      "cell_type": "code",
      "metadata": {
        "id": "3Qw3PLswwaju",
        "colab_type": "code",
        "colab": {}
      },
      "source": [
        "# Дополнительные библиотеки для PRO\n",
        "from google.colab import files \n",
        "import matplotlib.pyplot as plt \n",
        "from PIL import Image \n",
        "%matplotlib inline "
      ],
      "execution_count": null,
      "outputs": []
    },
    {
      "cell_type": "code",
      "metadata": {
        "id": "Qbp4fHvtxboG",
        "colab_type": "code",
        "colab": {
          "base_uri": "https://localhost:8080/",
          "height": 255
        },
        "outputId": "c11ec290-db82-401b-f60b-0bf7635f479f"
      },
      "source": [
        "# Пересоздание нейронной сети. (Затерли модель 2-м вариантом Light)\n",
        "# Создаем модель из 2-х слоев с 800 и 400 нейронами.\n",
        "model = Sequential()\n",
        "model.add(Dense(800, input_dim=784, activation=\"relu\"))\n",
        "model.add(Dense(400, activation=\"relu\"))\n",
        "model.add(Dense(10, activation=\"softmax\"))\n",
        "# Компилляция:\n",
        "model.compile(loss=\"categorical_crossentropy\", optimizer=\"adam\", metrics=[\"accuracy\"])\n",
        "model.summary()"
      ],
      "execution_count": null,
      "outputs": [
        {
          "output_type": "stream",
          "text": [
            "Model: \"sequential_25\"\n",
            "_________________________________________________________________\n",
            "Layer (type)                 Output Shape              Param #   \n",
            "=================================================================\n",
            "dense_51 (Dense)             (None, 800)               628000    \n",
            "_________________________________________________________________\n",
            "dense_52 (Dense)             (None, 400)               320400    \n",
            "_________________________________________________________________\n",
            "dense_53 (Dense)             (None, 10)                4010      \n",
            "=================================================================\n",
            "Total params: 952,410\n",
            "Trainable params: 952,410\n",
            "Non-trainable params: 0\n",
            "_________________________________________________________________\n"
          ],
          "name": "stdout"
        }
      ]
    },
    {
      "cell_type": "code",
      "metadata": {
        "id": "xB19OFfQxent",
        "colab_type": "code",
        "colab": {
          "base_uri": "https://localhost:8080/",
          "height": 34
        },
        "outputId": "7017e934-6f48-4229-c703-61743998adb4"
      },
      "source": [
        "# 5. Обучение нейронной сети.\n",
        "model.fit(x_train, y_train, batch_size=128, epochs=15, verbose=0, validation_split=0.2)"
      ],
      "execution_count": null,
      "outputs": [
        {
          "output_type": "execute_result",
          "data": {
            "text/plain": [
              "<tensorflow.python.keras.callbacks.History at 0x7f9ca00d7a58>"
            ]
          },
          "metadata": {
            "tags": []
          },
          "execution_count": 21
        }
      ]
    },
    {
      "cell_type": "code",
      "metadata": {
        "id": "rpuMUgSFxkgp",
        "colab_type": "code",
        "colab": {}
      },
      "source": [
        "# Сохраним параметры на всякий случай\n",
        "model.save_weights('model.h5')"
      ],
      "execution_count": null,
      "outputs": []
    },
    {
      "cell_type": "code",
      "metadata": {
        "id": "PgrC47slx8vx",
        "colab_type": "code",
        "colab": {
          "base_uri": "https://localhost:8080/",
          "height": 265
        },
        "outputId": "aa2498c6-c2ae-467d-c224-71cc3181e109"
      },
      "source": [
        "# Распознаем цифру, созданную в граф редакторе\n",
        "img = image.load_img('3a.png', target_size=(28, 28), color_mode='grayscale') \n",
        "# Преобразуем изображение в массив\n",
        "x = image.img_to_array(img)\n",
        "# Нарисуем цифру\n",
        "plt.imshow(Image.fromarray(x.reshape(28,28)).convert('RGBA')) \n",
        "plt.show()"
      ],
      "execution_count": null,
      "outputs": [
        {
          "output_type": "display_data",
          "data": {
            "image/png": "[encoded data removed]",
            "text/plain": [
              "<Figure size 432x288 with 1 Axes>"
            ]
          },
          "metadata": {
            "tags": [],
            "needs_background": "light"
          }
        }
      ]
    },
    {
      "cell_type": "code",
      "metadata": {
        "id": "bt6pSZQPyERC",
        "colab_type": "code",
        "colab": {}
      },
      "source": [
        "# Инверсия цвета, нормализуем данные и преобразуем в одну строку\n",
        "x = (255. - x)/255.\n",
        "x = x.reshape(1,784)"
      ],
      "execution_count": null,
      "outputs": []
    },
    {
      "cell_type": "code",
      "metadata": {
        "id": "WjHoQeEFyS2-",
        "colab_type": "code",
        "colab": {
          "base_uri": "https://localhost:8080/",
          "height": 68
        },
        "outputId": "d5ff38bd-ee5f-46ab-f037-8ee88f973d30"
      },
      "source": [
        "# Применим модель для распознавания\n",
        "y = model.predict(x)\n",
        "print(y)\n",
        "# Преобразуем hot_one в число\n",
        "print(np.argmax(y))\n"
      ],
      "execution_count": null,
      "outputs": [
        {
          "output_type": "stream",
          "text": [
            "[[3.8393784e-14 1.5576580e-08 2.0615880e-05 9.9997878e-01 2.5871655e-12\n",
            "  1.5471606e-07 1.2922707e-11 3.4822197e-13 4.7005963e-07 2.6535860e-11]]\n",
            "3\n"
          ],
          "name": "stdout"
        }
      ]
    },
    {
      "cell_type": "markdown",
      "metadata": {
        "id": "c0vYyJSKyjkT",
        "colab_type": "text"
      },
      "source": [
        "Модель уверенно (99.9%) распознала цифру 3."
      ]
    },
    {
      "cell_type": "code",
      "metadata": {
        "id": "PwRiZ17FyWtH",
        "colab_type": "code",
        "colab": {
          "base_uri": "https://localhost:8080/",
          "height": 265
        },
        "outputId": "379da460-d589-4eb4-82f1-39d7cd718915"
      },
      "source": [
        "# Теперь тоо же самое с фотографией цифры\n",
        "img = image.load_img('2a.png', target_size=(28, 28), color_mode='grayscale') \n",
        "# Преобразуем изображение в массив\n",
        "x = image.img_to_array(img)\n",
        "# Нарисуем цифру\n",
        "plt.imshow(Image.fromarray(x.reshape(28,28)).convert('RGBA')) "
      ],
      "execution_count": null,
      "outputs": [
        {
          "output_type": "display_data",
          "data": {
            "image/png": "[encoded data removed]",
            "text/plain": [
              "<Figure size 432x288 with 1 Axes>"
            ]
          },
          "metadata": {
            "tags": [],
            "needs_background": "light"
          }
        }
      ]
    },
    {
      "cell_type": "code",
      "metadata": {
        "id": "Qsh2yYJbyoWt",
        "colab_type": "code",
        "colab": {}
      },
      "source": [
        "# Нормализуем данные и преобразуем в одну строку\n",
        "x = (255. - x)/255.\n",
        "x = x.reshape(1,784)"
      ],
      "execution_count": null,
      "outputs": []
    },
    {
      "cell_type": "code",
      "metadata": {
        "id": "pp1xlj2GysnF",
        "colab_type": "code",
        "colab": {
          "base_uri": "https://localhost:8080/",
          "height": 68
        },
        "outputId": "a799ee68-d9ce-4a7a-9c1c-e7b218301c0b"
      },
      "source": [
        "# Применим модель для распознавания\n",
        "y = model.predict(x)\n",
        "print(y)\n",
        "# Преобразуем hot_one в число\n",
        "print(np.argmax(y))"
      ],
      "execution_count": null,
      "outputs": [
        {
          "output_type": "stream",
          "text": [
            "[[1.6152220e-04 3.4357869e-05 6.7414850e-01 1.2938841e-01 3.0804785e-08\n",
            "  2.4913491e-03 1.7937594e-04 2.7073040e-03 1.9013280e-01 7.5630943e-04]]\n",
            "2\n"
          ],
          "name": "stdout"
        }
      ]
    },
    {
      "cell_type": "markdown",
      "metadata": {
        "id": "snQxfbIi29rJ",
        "colab_type": "text"
      },
      "source": [
        "На этот раз модель распознала без предобработки, но как-то неуверенно (67%). На другом прогоне выдавался ошибочный ответ. Поэтому сделаем предобработку."
      ]
    },
    {
      "cell_type": "code",
      "metadata": {
        "id": "owjWPe-8ywW2",
        "colab_type": "code",
        "colab": {}
      },
      "source": [
        "# Предобработка - уберем фон.\n",
        "x -= x.min() # обнуляем фон\n",
        "x /= x.max() # доводим максимум до 1 "
      ],
      "execution_count": null,
      "outputs": []
    },
    {
      "cell_type": "code",
      "metadata": {
        "id": "uq20yWEYzGx9",
        "colab_type": "code",
        "colab": {
          "base_uri": "https://localhost:8080/",
          "height": 68
        },
        "outputId": "73a089a5-24ed-4b1a-cddd-1846104fd0e0"
      },
      "source": [
        "# Применим модель для распознавания\n",
        "y = model.predict(x)\n",
        "print(y)\n",
        "# Преобразуем hot_one в число\n",
        "print(np.argmax(y))"
      ],
      "execution_count": null,
      "outputs": [
        {
          "output_type": "stream",
          "text": [
            "[[1.3020014e-10 1.5060526e-11 9.9466538e-01 5.3283414e-03 9.2725954e-19\n",
            "  2.4360897e-10 3.7090865e-13 1.1361567e-06 5.1381257e-06 2.2634090e-09]]\n",
            "2\n"
          ],
          "name": "stdout"
        }
      ]
    },
    {
      "cell_type": "markdown",
      "metadata": {
        "id": "6j440t52zRiC",
        "colab_type": "text"
      },
      "source": [
        "После дополнительной предобработки модель уверенно (99.4%) выдала верный результат."
      ]
    },
    {
      "cell_type": "code",
      "metadata": {
        "id": "PorUH_BPvtuP",
        "colab_type": "code",
        "colab": {}
      },
      "source": [
        ""
      ],
      "execution_count": null,
      "outputs": []
    }
  ]
}