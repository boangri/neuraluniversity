{
  "nbformat": 4,
  "nbformat_minor": 0,
  "metadata": {
    "colab": {
      "name": "HW04.ipynb",
      "provenance": [],
      "collapsed_sections": [],
      "toc_visible": true,
      "authorship_tag": "ABX9TyNo6ei7r3iMQk4eL78YEyyJ",
      "include_colab_link": true
    },
    "kernelspec": {
      "name": "python3",
      "display_name": "Python 3"
    },
    "accelerator": "GPU"
  },
  "cells": [
    {
      "cell_type": "markdown",
      "metadata": {
        "id": "view-in-github",
        "colab_type": "text"
      },
      "source": [
        "<a href=\"https://colab.research.google.com/github/boangri/neuraluniversity/blob/master/HW04.ipynb\" target=\"_parent\"><img src=\"https://colab.research.google.com/assets/colab-badge.svg\" alt=\"Open In Colab\"/></a>"
      ]
    },
    {
      "cell_type": "markdown",
      "metadata": {
        "id": "WJZyIKhOqXs_",
        "colab_type": "text"
      },
      "source": [
        "# Домашнее задание к занятию №4 \"Обработка текстов в нейронных сетях\" 16.08.2020\n",
        "\n",
        "Борис Грибовский <xinu@yandex.ru>"
      ]
    },
    {
      "cell_type": "markdown",
      "metadata": {
        "id": "_qN1EM-2uPAf",
        "colab_type": "text"
      },
      "source": [
        "## LIGHT"
      ]
    },
    {
      "cell_type": "code",
      "metadata": {
        "id": "uKM2g6FUuTR0",
        "colab_type": "code",
        "colab": {}
      },
      "source": [
        "from google.colab import files # Для работы с файлами \n",
        "import numpy as np # Для работы с данными \n",
        "import pandas as pd # Для работы с таблицами\n",
        "import matplotlib.pyplot as plt # Для вывода графиков\n",
        "import os # Для работы с файлами\n",
        "%matplotlib inline\n",
        "\n",
        "%tensorflow_version 2.x \n",
        "from tensorflow.keras import utils # Для работы с категориальными данными\n",
        "from tensorflow.keras.models import Sequential # Полносвязная модель\n",
        "from tensorflow.keras.layers import Dense, Dropout, SpatialDropout1D, BatchNormalization, Embedding, Flatten, Activation # Слои для сети\n",
        "from tensorflow.keras.preprocessing.text import Tokenizer # Методы для работы с текстами и преобразования их в последовательности\n",
        "from tensorflow.keras.preprocessing.sequence import pad_sequences # Метод для работы с последовательностями\n",
        "from tensorflow.keras.optimizers import Adam\n",
        "from tensorflow.keras.callbacks import ModelCheckpoint\n",
        "import tensorflow as tf\n",
        "import random\n",
        "\n",
        "from sklearn.preprocessing import LabelEncoder # Метод кодирования тестовых лейблов\n",
        "from sklearn.model_selection import train_test_split # Для разделения выборки на тестовую и обучающую\n",
        "from google.colab import drive # Для работы с Google Drive\n",
        "import time # Импортируем библиотеку time"
      ],
      "execution_count": null,
      "outputs": []
    },
    {
      "cell_type": "code",
      "metadata": {
        "id": "7r4n_ozxucUs",
        "colab_type": "code",
        "colab": {
          "base_uri": "https://localhost:8080/",
          "height": 204
        },
        "outputId": "add13088-d4d8-41fa-b72e-44a7c1ca6ee5"
      },
      "source": [
        "# Загружаем базу писателей\n",
        "!wget https://xland.ru/uai/hw04/writers.zip\n",
        "!unzip -q 'writers.zip' -d /content/texts "
      ],
      "execution_count": null,
      "outputs": [
        {
          "output_type": "stream",
          "text": [
            "--2020-08-27 18:40:50--  https://xland.ru/uai/hw04/writers.zip\n",
            "Resolving xland.ru (xland.ru)... 198.211.125.59\n",
            "Connecting to xland.ru (xland.ru)|198.211.125.59|:443... connected.\n",
            "HTTP request sent, awaiting response... 200 OK\n",
            "Length: 8960427 (8.5M) [application/zip]\n",
            "Saving to: ‘writers.zip’\n",
            "\n",
            "writers.zip         100%[===================>]   8.54M  --.-KB/s    in 0.1s    \n",
            "\n",
            "2020-08-27 18:40:50 (62.9 MB/s) - ‘writers.zip’ saved [8960427/8960427]\n",
            "\n"
          ],
          "name": "stdout"
        }
      ]
    },
    {
      "cell_type": "code",
      "metadata": {
        "id": "5STmtRHyuwT6",
        "colab_type": "code",
        "colab": {}
      },
      "source": [
        "def readText(fileName): # Объявляем функции для чтения файла. На вход отправляем путь к файлу\n",
        "  f = open(fileName, 'r')        # Задаем открытие нужного файла в режиме чтения\n",
        "  text = f.read()                # Читаем текст\n",
        "  text = text.replace(\"\\n\", \" \") # Переносы строки переводим в пробелы\n",
        "  \n",
        "  return text                    # Возвращаем текст файла\n",
        "\n",
        "className = [\"О. Генри\", \"Стругацкие\", \"Булгаков\", \"Саймак\", \"Фрай\", \"Брэдберри\"] # Объявляем интересующие нас классы\n",
        "nClasses = len(className) # Считаем количество классов"
      ],
      "execution_count": null,
      "outputs": []
    },
    {
      "cell_type": "code",
      "metadata": {
        "id": "svUQysz9u-ff",
        "colab_type": "code",
        "colab": {
          "base_uri": "https://localhost:8080/",
          "height": 323
        },
        "outputId": "8b4e72ef-869b-4223-dae3-01645c9ec07a"
      },
      "source": [
        "#Загружаем обучающие тексты\n",
        "\n",
        "trainText = [] #Формируем обучающие тексты\n",
        "testText = [] #Формируем тестовые тексты\n",
        "\n",
        "#Формирование необходимо произвести следующим образом \n",
        "#Класс каждого i-ого эллемента в обучающей выборке должен соответствовать \n",
        "#классу каждого i-ого эллемента в тестовой выборке\n",
        "\n",
        "for i in className: #Проходим по каждому классу\n",
        "  for j in os.listdir('texts/'): #Проходим по каждому файлу в папке с текстами #\n",
        "    if i in j: #Проверяем, содержит ли файл j в названии имя класса i\n",
        "      \n",
        "      if 'Обучающая' in j: #Если в имени найденного класса есть строка \"Обучающая\" \n",
        "        trainText.append(readText('texts/' + j)) #добавляем в обучающую выборку\n",
        "        print(j, 'добавлен в обучающую выборку') #Выводим информацию\n",
        "      if 'Тестовая' in j: #Если в имени найденного класса есть строка \"Тестовая\"\n",
        "        testText.append(readText('texts/' + j)) #добавляем в обучающую выборку\n",
        "        print(j, 'добавлен в тестовую выборку') #Выводим информацию\n",
        "  print()"
      ],
      "execution_count": null,
      "outputs": [
        {
          "output_type": "stream",
          "text": [
            "(О. Генри) Тестовая_20 вместе.txt добавлен в тестовую выборку\n",
            "(О. Генри) Обучающая_50 вместе.txt добавлен в обучающую выборку\n",
            "\n",
            "(Стругацкие) Обучающая_5 вместе.txt добавлен в обучающую выборку\n",
            "(Стругацкие) Тестовая_2 вместе.txt добавлен в тестовую выборку\n",
            "\n",
            "(Булгаков) Тестовая_2 вместе.txt добавлен в тестовую выборку\n",
            "(Булгаков) Обучающая_5 вместе.txt добавлен в обучающую выборку\n",
            "\n",
            "(Клиффорд_Саймак) Обучающая_5 вместе.txt добавлен в обучающую выборку\n",
            "(Клиффорд_Саймак) Тестовая_2 вместе.txt добавлен в тестовую выборку\n",
            "\n",
            "(Макс Фрай) Обучающая_5 вместе.txt добавлен в обучающую выборку\n",
            "(Макс Фрай) Тестовая_2 вместе.txt добавлен в тестовую выборку\n",
            "\n",
            "(Рэй Брэдберри) Тестовая_8 вместе.txt добавлен в тестовую выборку\n",
            "(Рэй Брэдберри) Обучающая_22 вместе.txt добавлен в обучающую выборку\n",
            "\n"
          ],
          "name": "stdout"
        }
      ]
    },
    {
      "cell_type": "code",
      "metadata": {
        "id": "rFjxBCbTvJRm",
        "colab_type": "code",
        "colab": {
          "base_uri": "https://localhost:8080/",
          "height": 34
        },
        "outputId": "86c0f604-de43-49a7-c92d-3c1fdb537995"
      },
      "source": [
        "cur_time = time.time() # Засекаем текущее время\n",
        "maxWordsCount = 20000 # Определяем максимальное количество слов/индексов, учитываемое при обучении текстов\n",
        "\n",
        "# Воспользуемся встроенной в Keras функцией Tokenizer для разбиения текста и превращения в матрицу числовых значений\n",
        "# num_words=maxWordsCount - определяем максимальное количество слов/индексов, учитываемое при обучении текстов\n",
        "# filters='!\"#$%&()*+,-./:;<=>?@[\\\\]^_`{|}~\\t\\n' - избавляемся от ненужных символов\n",
        "# lower=True - приводим слова к нижнему регистру\n",
        "# split=' ' - разделяем слова по пробелу\n",
        "# char_level=False - просим токенайзер не удалять однобуквенные слова\n",
        "tokenizer = Tokenizer(num_words=maxWordsCount, filters='!\"#$%&()*+,-–—./…:;<=>?@[\\\\]^_`{|}~«»\\t\\n\\xa0\\ufeff', lower=True, split=' ', oov_token='unknown', char_level=False)\n",
        "\n",
        "tokenizer.fit_on_texts(trainText) # \"Скармливаем\" наши тексты, т.е. даём в обработку методу, который соберет словарь частотности\n",
        "items = list(tokenizer.word_index.items()) # Вытаскиваем индексы слов для просмотра\n",
        "print('Время обработки: ', round(time.time() - cur_time, 2), 'c', sep='')"
      ],
      "execution_count": null,
      "outputs": [
        {
          "output_type": "stream",
          "text": [
            "Время обработки: 2.49c\n"
          ],
          "name": "stdout"
        }
      ]
    },
    {
      "cell_type": "code",
      "metadata": {
        "id": "ACO2ZXitvPg_",
        "colab_type": "code",
        "colab": {}
      },
      "source": [
        "# Преобразовываем текст в последовательность индексов согласно частотному словарю\n",
        "trainWordIndexes = tokenizer.texts_to_sequences(trainText) # Обучающие тесты в индексы\n",
        "testWordIndexes = tokenizer.texts_to_sequences(testText)  # Проверочные тесты в индексы"
      ],
      "execution_count": null,
      "outputs": []
    },
    {
      "cell_type": "code",
      "metadata": {
        "id": "LCxIrrCvv9sE",
        "colab_type": "code",
        "colab": {}
      },
      "source": [
        "# Формирование обучающей выборки по листу индексов слов\n",
        "# (разделение на короткие векторы)\n",
        "def getSetFromIndexes(wordIndexes, xLen, step): # функция принимает последовательность индексов, размер окна, шаг окна\n",
        "  xSample = [] # Объявляем переменную для векторов\n",
        "  wordsLen = len(wordIndexes) # Считаем количество слов\n",
        "  index = 0 # Задаем начальный индекс \n",
        "\n",
        "  while (index + xLen <= wordsLen):# Идём по всей длине вектора индексов\n",
        "    xSample.append(wordIndexes[index:index+xLen]) # \"Откусываем\" векторы длины xLen\n",
        "    index += step # Смещаеммся вперёд на step\n",
        "    \n",
        "  return xSample"
      ],
      "execution_count": null,
      "outputs": []
    },
    {
      "cell_type": "code",
      "metadata": {
        "id": "RCDmNVf0wfod",
        "colab_type": "code",
        "colab": {}
      },
      "source": [
        "# Формирование обучающей и проверочной выборки\n",
        "# Из двух листов индексов от двух классов\n",
        "def createSetsMultiClasses(wordIndexes, xLen, step): # Функция принимает последовательность индексов, размер окна, шаг окна\n",
        "\n",
        "  # Для каждого из 6 классов\n",
        "  # Создаём обучающую/проверочную выборку из индексов\n",
        "  nClasses = len(wordIndexes) # Задаем количество классов выборки\n",
        "  classesXSamples = []        # Здесь будет список размером \"кол-во классов*кол-во окон в тексте*длину окна (например, 6 по 1341*1000)\"\n",
        "  for wI in wordIndexes:      # Для каждого текста выборки из последовательности индексов\n",
        "    classesXSamples.append(getSetFromIndexes(wI, xLen, step)) # Добавляем в список очередной текст индексов, разбитый на \"кол-во окон*длину окна\" \n",
        "\n",
        "  # Формируем один общий xSamples\n",
        "  xSamples = [] # Здесь будет список размером \"суммарное кол-во окон во всех текстах*длину окна (например, 15779*1000)\"\n",
        "  ySamples = [] # Здесь будет список размером \"суммарное кол-во окон во всех текстах*вектор длиной 6\"\n",
        "  \n",
        "  for t in range(nClasses): # В диапазоне кол-ва классов(6)\n",
        "    xT = classesXSamples[t] # Берем очередной текст вида \"кол-во окон в тексте*длину окна\"(например, 1341*1000)\n",
        "    for i in range(len(xT)): # И каждое его окно\n",
        "      xSamples.append(xT[i]) # Добавляем в общий список выборки\n",
        "      ySamples.append(utils.to_categorical(t, nClasses)) # Добавляем соответствующий вектор класса\n",
        "\n",
        "  xSamples = np.array(xSamples) # Переводим в массив numpy для подачи в нейронку\n",
        "  ySamples = np.array(ySamples) # Переводим в массив numpy для подачи в нейронку\n",
        "\n",
        "  \n",
        "  return (xSamples, ySamples) #Функция возвращает выборку и соответствующие векторы классов"
      ],
      "execution_count": null,
      "outputs": []
    },
    {
      "cell_type": "markdown",
      "metadata": {
        "id": "-oW-mgm30bKS",
        "colab_type": "text"
      },
      "source": [
        "### Запустите нейронку c bag of words (01) при разных maxWordsCount\n",
        "* 100\n",
        "* 1000\n",
        "* 10000\n",
        "* 50000\n"
      ]
    },
    {
      "cell_type": "code",
      "metadata": {
        "id": "fr2wmWfR0rbg",
        "colab_type": "code",
        "colab": {}
      },
      "source": [
        "# Возвращает скомпиллированную модель для Bag of Words представления\n",
        "def createBoWmodel(maxWordsCount, neurons=200, layers=1, activation='softmax', dropout=0.25):\n",
        "  model = Sequential()\n",
        "  model.add(Dense(neurons, input_dim=maxWordsCount, activation=\"relu\"))\n",
        "  model.add(Dropout(dropout))\n",
        "  model.add(BatchNormalization())\n",
        "  for _ in range(1, layers):\n",
        "    model.add(Dense(neurons, activation=\"relu\"))\n",
        "    model.add(Dropout(dropout))\n",
        "    model.add(BatchNormalization())\n",
        "  model.add(Dense(6, activation=activation))\n",
        "  model.compile(optimizer='adam', loss='categorical_crossentropy', metrics=['accuracy'])\n",
        "  return model"
      ],
      "execution_count": null,
      "outputs": []
    },
    {
      "cell_type": "code",
      "metadata": {
        "id": "LuMIZU2j8rF5",
        "colab_type": "code",
        "colab": {}
      },
      "source": [
        "#Задаём базовые параметры\n",
        "xLen = 1000 # Длина отрезка текста, по которой анализируем, в словах\n",
        "step = 100 # Шаг разбиения исходного текста на обучающие векторы"
      ],
      "execution_count": null,
      "outputs": []
    },
    {
      "cell_type": "code",
      "metadata": {
        "id": "ug2iSsX61UnZ",
        "colab_type": "code",
        "colab": {
          "base_uri": "https://localhost:8080/",
          "height": 574
        },
        "outputId": "272f543c-ff89-4d55-acaf-3fd1f0443aad"
      },
      "source": [
        "# Пробуем разное maxWordsCount (50000 упорно крешит сессии. 40000 тоже.)\n",
        "counts = (100, 1000, 10000, 30000)\n",
        "results = np.zeros((len(counts),))\n",
        "plt.figure(figsize=(24,5))\n",
        "for i, maxWordsCount in enumerate(counts):\n",
        "  tokenizer = Tokenizer(num_words=maxWordsCount, filters='!\"#$%&()*+,-–—./…:;<=>?@[\\\\]^_`{|}~«»\\t\\n\\xa0\\ufeff', lower=True, split=' ', oov_token='unknown', char_level=False)\n",
        "  tokenizer.fit_on_texts(trainText)\n",
        "  # Преобразовываем текст в последовательность индексов согласно частотному словарю\n",
        "  trainWordIndexes = tokenizer.texts_to_sequences(trainText) # Обучающие тесты в индексы\n",
        "  testWordIndexes = tokenizer.texts_to_sequences(testText)  # Проверочные тесты в индексы\n",
        "  # Формируем обучающую и тестовую выборку\n",
        "  xTrain, yTrain = createSetsMultiClasses(trainWordIndexes, xLen, step) #извлекаем обучающую выборку\n",
        "  xTest, yTest = createSetsMultiClasses(testWordIndexes, xLen, step)    #извлекаем тестовую выборку\n",
        "  # Преобразовываем полученные выборки из последовательности индексов в матрицы нулей и единиц по принципу Bag of Words\n",
        "  xTrain01 = tokenizer.sequences_to_matrix(xTrain.tolist()) #П одаем xTrain в виде списка, чтобы метод успешно сработал\n",
        "  xTest01 = tokenizer.sequences_to_matrix(xTest.tolist()) # Подаем xTest в виде списка, чтобы метод успешно сработал\n",
        "  # Обучаем сеть на выборке, сформированной по bag of words - xTrain01\n",
        "  model01 = createBoWmodel(maxWordsCount)\n",
        "  batch_size = 128 if maxWordsCount <= 10000 else 16 # To avoid session crash\n",
        "  history = model01.fit(xTrain01, \n",
        "                        yTrain, \n",
        "                        epochs=10,\n",
        "                        batch_size=batch_size,\n",
        "                        verbose=0,\n",
        "                        validation_data=(xTest01, yTest))\n",
        "  score = model01.evaluate(xTest01, yTest)\n",
        "  results[i] = score[1]\n",
        "  plt.subplot(1, 4, i+1)\n",
        "  plt.plot(history.history['accuracy'], \n",
        "          label='Доля верных ответов на обучающем наборе')\n",
        "  plt.plot(history.history['val_accuracy'], \n",
        "          label='Доля верных ответов на проверочном наборе')\n",
        "  plt.xlabel('Эпоха обучения')\n",
        "  plt.ylabel('Доля верных ответов')\n",
        "  plt.title(f'maxWordsCount={maxWordsCount}')\n",
        "  plt.legend()\n",
        "plt.show()\n",
        "df = pd.DataFrame(results, index=counts, columns=['Accuracy'])\n",
        "df"
      ],
      "execution_count": null,
      "outputs": [
        {
          "output_type": "stream",
          "text": [
            "209/209 [==============================] - 1s 3ms/step - loss: 1.7095 - accuracy: 0.4874\n",
            "209/209 [==============================] - 1s 3ms/step - loss: 0.4980 - accuracy: 0.8410\n",
            "209/209 [==============================] - 1s 3ms/step - loss: 0.3211 - accuracy: 0.8904\n",
            "209/209 [==============================] - 1s 4ms/step - loss: 0.4419 - accuracy: 0.8621\n"
          ],
          "name": "stdout"
        },
        {
          "output_type": "display_data",
          "data": {
            "image/png": "[encoded data removed]",
            "text/plain": [
              "<Figure size 1728x360 with 4 Axes>"
            ]
          },
          "metadata": {
            "tags": [],
            "needs_background": "light"
          }
        },
        {
          "output_type": "execute_result",
          "data": {
            "text/html": [
              "<div>\n",
              "<style scoped>\n",
              "    .dataframe tbody tr th:only-of-type {\n",
              "        vertical-align: middle;\n",
              "    }\n",
              "\n",
              "    .dataframe tbody tr th {\n",
              "        vertical-align: top;\n",
              "    }\n",
              "\n",
              "    .dataframe thead th {\n",
              "        text-align: right;\n",
              "    }\n",
              "</style>\n",
              "<table border=\"1\" class=\"dataframe\">\n",
              "  <thead>\n",
              "    <tr style=\"text-align: right;\">\n",
              "      <th></th>\n",
              "      <th>Accuracy</th>\n",
              "    </tr>\n",
              "  </thead>\n",
              "  <tbody>\n",
              "    <tr>\n",
              "      <th>100</th>\n",
              "      <td>0.487436</td>\n",
              "    </tr>\n",
              "    <tr>\n",
              "      <th>1000</th>\n",
              "      <td>0.841011</td>\n",
              "    </tr>\n",
              "    <tr>\n",
              "      <th>10000</th>\n",
              "      <td>0.890368</td>\n",
              "    </tr>\n",
              "    <tr>\n",
              "      <th>30000</th>\n",
              "      <td>0.862100</td>\n",
              "    </tr>\n",
              "  </tbody>\n",
              "</table>\n",
              "</div>"
            ],
            "text/plain": [
              "       Accuracy\n",
              "100    0.487436\n",
              "1000   0.841011\n",
              "10000  0.890368\n",
              "30000  0.862100"
            ]
          },
          "metadata": {
            "tags": []
          },
          "execution_count": 12
        }
      ]
    },
    {
      "cell_type": "markdown",
      "metadata": {
        "id": "Umc8eClsEI0z",
        "colab_type": "text"
      },
      "source": [
        "**ВЫВОД** Запустить мешок слов размера 50000 не удалось, не хватало памяти даже при малых размерах батча. Точность растет с размером мешка, однако увеличение свыше 10000 уже не дает ощутимого выигрыша. Видимо нет смысла делать размер мешка больше 20000."
      ]
    },
    {
      "cell_type": "markdown",
      "metadata": {
        "id": "4cxiO2vD9rID",
        "colab_type": "text"
      },
      "source": [
        "### Запустите нейронку c bag of words (01) при maxWordsCount = 20000 и разных архитектурах\n",
        "\n",
        "* Поменяйте количество нейронов в слоях\n",
        "* Поменяйте количество слоев\n",
        "* Поменяйте активационные функции слоев\n"
      ]
    },
    {
      "cell_type": "code",
      "metadata": {
        "id": "BvgWFNiwMt4F",
        "colab_type": "code",
        "colab": {}
      },
      "source": [
        "maxWordsCount = 20000\n",
        "tokenizer = Tokenizer(num_words=maxWordsCount, filters='!\"#$%&()*+,-–—./…:;<=>?@[\\\\]^_`{|}~«»\\t\\n\\xa0\\ufeff', lower=True, split=' ', oov_token='unknown', char_level=False)\n",
        "tokenizer.fit_on_texts(trainText)\n",
        "# Преобразовываем текст в последовательность индексов согласно частотному словарю\n",
        "trainWordIndexes = tokenizer.texts_to_sequences(trainText) # Обучающие тесты в индексы\n",
        "testWordIndexes = tokenizer.texts_to_sequences(testText)  # Проверочные тесты в индексы\n",
        "# Формируем обучающую и тестовую выборку\n",
        "xTrain, yTrain = createSetsMultiClasses(trainWordIndexes, xLen, step) #извлекаем обучающую выборку\n",
        "xTest, yTest = createSetsMultiClasses(testWordIndexes, xLen, step)    #извлекаем тестовую выборку\n",
        "# Преобразовываем полученные выборки из последовательности индексов в матрицы нулей и единиц по принципу Bag of Words\n",
        "xTrain01 = tokenizer.sequences_to_matrix(xTrain.tolist()) #П одаем xTrain в виде списка, чтобы метод успешно сработал\n",
        "xTest01 = tokenizer.sequences_to_matrix(xTest.tolist()) # Подаем xTest в виде списка, чтобы метод успешно сработал"
      ],
      "execution_count": null,
      "outputs": []
    },
    {
      "cell_type": "code",
      "metadata": {
        "id": "3_pzU2e15j3i",
        "colab_type": "code",
        "colab": {
          "base_uri": "https://localhost:8080/",
          "height": 526
        },
        "outputId": "a15c017b-b124-486a-a40c-ed7ae7daa0a0"
      },
      "source": [
        "# Пробуем разное количество нейронов\n",
        "neurons = (100, 200, 400)\n",
        "results = np.zeros((len(neurons),))\n",
        "plt.figure(figsize=(18, 5))\n",
        "for i, n in enumerate(neurons):\n",
        "  model01 = createBoWmodel(maxWordsCount, neurons=n)\n",
        "  history = model01.fit(xTrain01, \n",
        "                        yTrain, \n",
        "                        epochs=10,\n",
        "                        batch_size=128,\n",
        "                        verbose=0,\n",
        "                        validation_data=(xTest01, yTest))\n",
        "  score = model01.evaluate(xTest01, yTest)\n",
        "  results[i] = score[1]\n",
        "  plt.subplot(1, 3, i+1)\n",
        "  plt.plot(history.history['accuracy'], \n",
        "          label='Доля верных ответов на обучающем наборе')\n",
        "  plt.plot(history.history['val_accuracy'], \n",
        "          label='Доля верных ответов на проверочном наборе')\n",
        "  plt.xlabel('Эпоха обучения')\n",
        "  plt.ylabel('Доля верных ответов')\n",
        "  plt.title(f'Число нейронов={n}')\n",
        "  plt.legend()\n",
        "plt.show()\n",
        "\n",
        "df = pd.DataFrame(results, index=neurons, columns=['Accuracy'])\n",
        "df"
      ],
      "execution_count": null,
      "outputs": [
        {
          "output_type": "stream",
          "text": [
            "209/209 [==============================] - 1s 4ms/step - loss: 0.2962 - accuracy: 0.9052\n",
            "209/209 [==============================] - 1s 4ms/step - loss: 0.3190 - accuracy: 0.8923\n",
            "209/209 [==============================] - 1s 4ms/step - loss: 0.3892 - accuracy: 0.8681\n"
          ],
          "name": "stdout"
        },
        {
          "output_type": "display_data",
          "data": {
            "image/png": "[encoded data removed]",
            "text/plain": [
              "<Figure size 1296x360 with 3 Axes>"
            ]
          },
          "metadata": {
            "tags": [],
            "needs_background": "light"
          }
        },
        {
          "output_type": "execute_result",
          "data": {
            "text/html": [
              "<div>\n",
              "<style scoped>\n",
              "    .dataframe tbody tr th:only-of-type {\n",
              "        vertical-align: middle;\n",
              "    }\n",
              "\n",
              "    .dataframe tbody tr th {\n",
              "        vertical-align: top;\n",
              "    }\n",
              "\n",
              "    .dataframe thead th {\n",
              "        text-align: right;\n",
              "    }\n",
              "</style>\n",
              "<table border=\"1\" class=\"dataframe\">\n",
              "  <thead>\n",
              "    <tr style=\"text-align: right;\">\n",
              "      <th></th>\n",
              "      <th>Accuracy</th>\n",
              "    </tr>\n",
              "  </thead>\n",
              "  <tbody>\n",
              "    <tr>\n",
              "      <th>100</th>\n",
              "      <td>0.905175</td>\n",
              "    </tr>\n",
              "    <tr>\n",
              "      <th>200</th>\n",
              "      <td>0.892312</td>\n",
              "    </tr>\n",
              "    <tr>\n",
              "      <th>400</th>\n",
              "      <td>0.868083</td>\n",
              "    </tr>\n",
              "  </tbody>\n",
              "</table>\n",
              "</div>"
            ],
            "text/plain": [
              "     Accuracy\n",
              "100  0.905175\n",
              "200  0.892312\n",
              "400  0.868083"
            ]
          },
          "metadata": {
            "tags": []
          },
          "execution_count": 14
        }
      ]
    },
    {
      "cell_type": "markdown",
      "metadata": {
        "id": "jKPyKY32l-vj",
        "colab_type": "text"
      },
      "source": [
        "**ВЫВОД** На данном примере не удалось выявить заметного влияния числа нейронов в последующих слоях. Поиски с помощью керас-тюнера показали что не сильно выраженный оптимум находится в районе 200-300 нейронов для второго слоя. Видимо вся \"магия\" происходит в первом слое, размер которого задается размером мешка слов. "
      ]
    },
    {
      "cell_type": "code",
      "metadata": {
        "id": "Jr9RodjlFCvn",
        "colab_type": "code",
        "colab": {
          "base_uri": "https://localhost:8080/",
          "height": 1000
        },
        "outputId": "368a5c4b-43b1-4077-fd69-0e3c8537177d"
      },
      "source": [
        "# Пробуем разное количество слоев\n",
        "layers = (1, 2, 3)\n",
        "results = np.zeros((len(layers),))\n",
        "maxWordsCount = 20000\n",
        "plt.figure(figsize=(18, 5))\n",
        "for i, n in enumerate(layers):\n",
        "  model01 = createBoWmodel(maxWordsCount, layers=n)\n",
        "  model01.summary()\n",
        "  history = model01.fit(xTrain01, \n",
        "                        yTrain, \n",
        "                        epochs=10,\n",
        "                        batch_size=128,\n",
        "                        verbose=0,\n",
        "                        validation_data=(xTest01, yTest))\n",
        "  score = model01.evaluate(xTest01, yTest)\n",
        "  results[i] = score[1]\n",
        "  plt.subplot(1, 3, i+1)\n",
        "  plt.plot(history.history['accuracy'], \n",
        "          label='Доля верных ответов на обучающем наборе')\n",
        "  plt.plot(history.history['val_accuracy'], \n",
        "          label='Доля верных ответов на проверочном наборе')\n",
        "  plt.xlabel('Эпоха обучения')\n",
        "  plt.ylabel('Доля верных ответов')\n",
        "  plt.title(f'Число слоев={n}')\n",
        "  plt.legend()\n",
        "plt.show()\n",
        "print(results)"
      ],
      "execution_count": null,
      "outputs": [
        {
          "output_type": "stream",
          "text": [
            "Model: \"sequential\"\n",
            "_________________________________________________________________\n",
            "Layer (type)                 Output Shape              Param #   \n",
            "=================================================================\n",
            "dense (Dense)                (None, 200)               4000200   \n",
            "_________________________________________________________________\n",
            "dropout (Dropout)            (None, 200)               0         \n",
            "_________________________________________________________________\n",
            "batch_normalization (BatchNo (None, 200)               800       \n",
            "_________________________________________________________________\n",
            "dense_1 (Dense)              (None, 6)                 1206      \n",
            "=================================================================\n",
            "Total params: 4,002,206\n",
            "Trainable params: 4,001,806\n",
            "Non-trainable params: 400\n",
            "_________________________________________________________________\n",
            "209/209 [==============================] - 1s 4ms/step - loss: 0.3300 - accuracy: 0.8859\n",
            "Model: \"sequential_1\"\n",
            "_________________________________________________________________\n",
            "Layer (type)                 Output Shape              Param #   \n",
            "=================================================================\n",
            "dense_2 (Dense)              (None, 200)               4000200   \n",
            "_________________________________________________________________\n",
            "dropout_1 (Dropout)          (None, 200)               0         \n",
            "_________________________________________________________________\n",
            "batch_normalization_1 (Batch (None, 200)               800       \n",
            "_________________________________________________________________\n",
            "dense_3 (Dense)              (None, 200)               40200     \n",
            "_________________________________________________________________\n",
            "dropout_2 (Dropout)          (None, 200)               0         \n",
            "_________________________________________________________________\n",
            "batch_normalization_2 (Batch (None, 200)               800       \n",
            "_________________________________________________________________\n",
            "dense_4 (Dense)              (None, 6)                 1206      \n",
            "=================================================================\n",
            "Total params: 4,043,206\n",
            "Trainable params: 4,042,406\n",
            "Non-trainable params: 800\n",
            "_________________________________________________________________\n",
            "209/209 [==============================] - 1s 4ms/step - loss: 0.2979 - accuracy: 0.9002\n",
            "Model: \"sequential_2\"\n",
            "_________________________________________________________________\n",
            "Layer (type)                 Output Shape              Param #   \n",
            "=================================================================\n",
            "dense_5 (Dense)              (None, 200)               4000200   \n",
            "_________________________________________________________________\n",
            "dropout_3 (Dropout)          (None, 200)               0         \n",
            "_________________________________________________________________\n",
            "batch_normalization_3 (Batch (None, 200)               800       \n",
            "_________________________________________________________________\n",
            "dense_6 (Dense)              (None, 200)               40200     \n",
            "_________________________________________________________________\n",
            "dropout_4 (Dropout)          (None, 200)               0         \n",
            "_________________________________________________________________\n",
            "batch_normalization_4 (Batch (None, 200)               800       \n",
            "_________________________________________________________________\n",
            "dense_7 (Dense)              (None, 200)               40200     \n",
            "_________________________________________________________________\n",
            "dropout_5 (Dropout)          (None, 200)               0         \n",
            "_________________________________________________________________\n",
            "batch_normalization_5 (Batch (None, 200)               800       \n",
            "_________________________________________________________________\n",
            "dense_8 (Dense)              (None, 6)                 1206      \n",
            "=================================================================\n",
            "Total params: 4,084,206\n",
            "Trainable params: 4,083,006\n",
            "Non-trainable params: 1,200\n",
            "_________________________________________________________________\n",
            "209/209 [==============================] - 1s 4ms/step - loss: 0.3533 - accuracy: 0.8877\n"
          ],
          "name": "stdout"
        },
        {
          "output_type": "display_data",
          "data": {
            "image/png": "[encoded data removed]",
            "text/plain": [
              "<Figure size 1296x360 with 3 Axes>"
            ]
          },
          "metadata": {
            "tags": [],
            "needs_background": "light"
          }
        },
        {
          "output_type": "stream",
          "text": [
            "[0.88588095 0.90023929 0.88767576]\n"
          ],
          "name": "stdout"
        }
      ]
    },
    {
      "cell_type": "markdown",
      "metadata": {
        "id": "eI_o98VXkAt5",
        "colab_type": "text"
      },
      "source": [
        "### Запустите нейронку c Embbedding при maxWordsCount = 50000, поменяйте размер Embedding пространства\n",
        "* 10\n",
        "* 50\n",
        "* 200\n"
      ]
    },
    {
      "cell_type": "code",
      "metadata": {
        "id": "CEMUaJackHFV",
        "colab_type": "code",
        "colab": {}
      },
      "source": [
        "# Задаём базовые параметры\n",
        "xLen = 1000  # Длина отрезка текста, по которой анализируем, в словах\n",
        "step = 100  # Шаг разбиения исходного текста на обучающие векторы\n",
        "maxWordsCount = 50000\n",
        "tokenizer = Tokenizer(num_words=maxWordsCount, filters='!\"#$%&()*+,-–—./…:;<=>?@[\\\\]^_`{|}~«»\\t\\n\\xa0\\ufeff', lower=True, split=' ', oov_token='unknown', char_level=False)\n",
        "tokenizer.fit_on_texts(trainText)\n",
        "# Преобразовываем текст в последовательность индексов согласно частотному словарю\n",
        "trainWordIndexes = tokenizer.texts_to_sequences(trainText) # Обучающие тесты в индексы\n",
        "testWordIndexes = tokenizer.texts_to_sequences(testText)  # Проверочные тесты в индексы\n",
        "# Формируем обучающую и тестовую выборку\n",
        "xTrain, yTrain = createSetsMultiClasses(trainWordIndexes, xLen, step)  # извлекаем обучающую выборку\n",
        "xTest, yTest = createSetsMultiClasses(testWordIndexes, xLen, step)    # извлекаем тестовую выборку"
      ],
      "execution_count": null,
      "outputs": []
    },
    {
      "cell_type": "code",
      "metadata": {
        "id": "3nGewT2dlbyP",
        "colab_type": "code",
        "colab": {}
      },
      "source": [
        "def createEmbeddingModel(dim=20, xLen=1000, neurons=200, activation='softmax'):\n",
        "  model = Sequential()\n",
        "  model.add(Embedding(maxWordsCount, dim, input_length=xLen))\n",
        "  model.add(SpatialDropout1D(0.2))\n",
        "  model.add(Flatten())\n",
        "  model.add(BatchNormalization())\n",
        "  model.add(Dense(neurons, activation=\"relu\"))\n",
        "  model.add(Dropout(0.2))\n",
        "  model.add(BatchNormalization())\n",
        "  model.add(Dense(6, activation=activation))\n",
        "\n",
        "  model.compile(optimizer='adam', \n",
        "                loss='categorical_crossentropy', \n",
        "                metrics=['accuracy'])\n",
        "  return model"
      ],
      "execution_count": null,
      "outputs": []
    },
    {
      "cell_type": "code",
      "metadata": {
        "id": "mJCPeyJlm8x5",
        "colab_type": "code",
        "colab": {
          "base_uri": "https://localhost:8080/",
          "height": 401
        },
        "outputId": "27ef32a1-07d8-4fad-e5d2-c5c157baf04f"
      },
      "source": [
        "# Пробуем разные размерности Embedding-пространства\n",
        "dimensions = (10, 50, 200)\n",
        "results = np.zeros((len(dimensions),))\n",
        "plt.figure(figsize=(18,5))\n",
        "for i, n in enumerate(dimensions):\n",
        "  modelE = createEmbeddingModel(dim=n)\n",
        "  history = modelE.fit(xTrain, \n",
        "                    yTrain, \n",
        "                    epochs=10,\n",
        "                    batch_size=128,\n",
        "                    verbose=0,\n",
        "                    validation_data=(xTest, yTest))\n",
        "  score = modelE.evaluate(xTest, yTest)\n",
        "  results[i] = score[1]\n",
        "  \n",
        "  plt.subplot(1, 3, i+1)\n",
        "  plt.plot(history.history['accuracy'], \n",
        "          label='Доля верных ответов на обучающем наборе')\n",
        "  plt.plot(history.history['val_accuracy'], \n",
        "          label='Доля верных ответов на проверочном наборе')\n",
        "  plt.xlabel('Эпоха обучения')\n",
        "  plt.ylabel('Доля верных ответов')\n",
        "  plt.title(f'Размерность пространства={n}')\n",
        "  plt.legend()\n",
        "plt.show()"
      ],
      "execution_count": null,
      "outputs": [
        {
          "output_type": "stream",
          "text": [
            "209/209 [==============================] - 1s 4ms/step - loss: 0.9682 - accuracy: 0.6891\n",
            "209/209 [==============================] - 1s 6ms/step - loss: 1.0609 - accuracy: 0.6503\n",
            "209/209 [==============================] - 3s 13ms/step - loss: 1.0265 - accuracy: 0.6567\n"
          ],
          "name": "stdout"
        },
        {
          "output_type": "display_data",
          "data": {
            "image/png": "[encoded data removed]",
            "text/plain": [
              "<Figure size 1296x360 with 3 Axes>"
            ]
          },
          "metadata": {
            "tags": [],
            "needs_background": "light"
          }
        }
      ]
    },
    {
      "cell_type": "code",
      "metadata": {
        "id": "1AMxvOsmnC60",
        "colab_type": "code",
        "colab": {
          "base_uri": "https://localhost:8080/",
          "height": 142
        },
        "outputId": "c68d86c2-aa9a-4167-a530-bbfbcce448c1"
      },
      "source": [
        "df = pd.DataFrame(results, index=dimensions, columns=['Accuracy'])\n",
        "df"
      ],
      "execution_count": null,
      "outputs": [
        {
          "output_type": "execute_result",
          "data": {
            "text/html": [
              "<div>\n",
              "<style scoped>\n",
              "    .dataframe tbody tr th:only-of-type {\n",
              "        vertical-align: middle;\n",
              "    }\n",
              "\n",
              "    .dataframe tbody tr th {\n",
              "        vertical-align: top;\n",
              "    }\n",
              "\n",
              "    .dataframe thead th {\n",
              "        text-align: right;\n",
              "    }\n",
              "</style>\n",
              "<table border=\"1\" class=\"dataframe\">\n",
              "  <thead>\n",
              "    <tr style=\"text-align: right;\">\n",
              "      <th></th>\n",
              "      <th>Accuracy</th>\n",
              "    </tr>\n",
              "  </thead>\n",
              "  <tbody>\n",
              "    <tr>\n",
              "      <th>10</th>\n",
              "      <td>0.628777</td>\n",
              "    </tr>\n",
              "    <tr>\n",
              "      <th>50</th>\n",
              "      <td>0.672300</td>\n",
              "    </tr>\n",
              "    <tr>\n",
              "      <th>200</th>\n",
              "      <td>0.628627</td>\n",
              "    </tr>\n",
              "  </tbody>\n",
              "</table>\n",
              "</div>"
            ],
            "text/plain": [
              "     Accuracy\n",
              "10   0.628777\n",
              "50   0.672300\n",
              "200  0.628627"
            ]
          },
          "metadata": {
            "tags": []
          },
          "execution_count": 80
        }
      ]
    },
    {
      "cell_type": "markdown",
      "metadata": {
        "id": "mjkRTocUncnL",
        "colab_type": "text"
      },
      "source": [
        "**ВЫВОД** И тут не удалось выявить явно выраженной зависимости точности от размерности пространства векторов. Я обратил внимание, что в задаче, где анализировался только один признак (положительный или отрицательный отзыв) все \"ключевые\" слова выстраивались примерно в одну линию в пространстве векторов, независимо от размерности пространства. На лекции нам этот момент не объяснили. Непонятен алгоритм расположения слов в векторном пространстве. Могу лишь предположить, что размерность пространства нужно увеличивать с ростом словаря.\n",
        "\n",
        "Мои предположения такие - значения векторов должны быть нормализованы (ст. отклонение 1) Чтобы сеть могла хорошо отличать слова по их векторным представлениям, нужно чтобы вектора заметно отличались друг от друга. Но в одном измерении можно разместить (грубо) порядка 5 хорошо различимых векторов. (Например -1, -0.5, 0., 0.5, .1) В N-мерном векторном пространстве мы получим емкость 5^N хорошо различимых векторов.\n",
        "Значит 5^N должно быть равно размеру словаря. Другими словами N должно быть пропорционально логарифму размера словаря (по основанию 5-10) Поэтому 200 - явный перебор. "
      ]
    },
    {
      "cell_type": "markdown",
      "metadata": {
        "id": "vlUqVKyt1svj",
        "colab_type": "text"
      },
      "source": [
        "## PRO"
      ]
    },
    {
      "cell_type": "markdown",
      "metadata": {
        "id": "s_MBVHWf1IZW",
        "colab_type": "text"
      },
      "source": [
        " ### Вариант 1\n",
        "\n",
        "Добейтесь точности распознавания 97% и верно распознанных всех писателей с помощью любой нейронной сети без фильтрации данных. \n"
      ]
    },
    {
      "cell_type": "markdown",
      "metadata": {
        "id": "MHsrBS809Bru",
        "colab_type": "text"
      },
      "source": [
        "**Комментарий к задаче.**\n",
        "\n",
        "Формулировка задачи _традиционно_ была нечеткой, было неясно, нужно ли было добиться 97% для val_accuracy для отдельных окон или речь шла о показателе в сводной таблице. Я делал задачу в первом понимании.\n",
        "\n",
        "Я не воспринимал размер окна (xLen = 1000) как гиперпараметр. Ясно, что чем больше фрагмент текста, тем легче идентифицировать автора, и я понимал условие так, что размер фрагмента фиксирован и стоит задача улучшить точность.\n",
        "\n",
        "Но после долгих безуспешных попыток подобрать гиперпараметры с помощью keras tuner (Наилучшая достигнутая точность на окне 1000 - 92.8%) стало понятно, что есть потолок в районе 93% и надо что-то менять более существенное.\n",
        "\n",
        "Я пробовал применить [анализатор морфологии](https://pymorphy2.readthedocs.io/en/0.2/user/index.html) чтобы привести все слова к единой словоформе и таким образом уменьшить размер словаря. Эти попытки также не привели к успеху, возможно я что-то делал не так.\n",
        "\n",
        "Но потом пришло сообщение от Рустема что ему удалось пробить 98% (а впоследствии сделать все 100%) так что стало понятно, что надо резко увеличить размер окна.\n",
        "\n",
        "Итак, требуемый результат достигается путем увеличения окна до 10000 (например)"
      ]
    },
    {
      "cell_type": "code",
      "metadata": {
        "id": "s1RDbt4OObza",
        "colab_type": "code",
        "colab": {
          "base_uri": "https://localhost:8080/",
          "height": 34
        },
        "outputId": "e0bec4e9-6b50-4709-c23f-70371333a78e"
      },
      "source": [
        "cur_time = time.time() # Засекаем текущее время\n",
        "maxWordsCount = 20000 # Определяем максимальное количество слов/индексов, учитываемое при обучении текстов\n",
        "\n",
        "# Отключаем фильтрацию данных\n",
        "tokenizer = Tokenizer(num_words=maxWordsCount, filters='', lower=True, split=' ', oov_token='unknown', char_level=False)\n",
        "\n",
        "tokenizer.fit_on_texts(trainText) # \"Скармливаем\" наши тексты, т.е. даём в обработку методу, который соберет словарь частотности\n",
        "items = list(tokenizer.word_index.items()) # Вытаскиваем индексы слов для просмотра\n",
        "print('Время обработки: ', round(time.time() - cur_time, 2), 'c', sep='')"
      ],
      "execution_count": null,
      "outputs": [
        {
          "output_type": "stream",
          "text": [
            "Время обработки: 2.54c\n"
          ],
          "name": "stdout"
        }
      ]
    },
    {
      "cell_type": "code",
      "metadata": {
        "id": "ZNz7eQiIO8fd",
        "colab_type": "code",
        "colab": {}
      },
      "source": [
        "# Преобразовываем текст в последовательность индексов согласно частотному словарю\n",
        "trainWordIndexes = tokenizer.texts_to_sequences(trainText) # Обучающие тесты в индексы\n",
        "testWordIndexes = tokenizer.texts_to_sequences(testText)  # Проверочные тесты в индексы"
      ],
      "execution_count": null,
      "outputs": []
    },
    {
      "cell_type": "code",
      "metadata": {
        "id": "SUFtfg2w1Roq",
        "colab_type": "code",
        "colab": {}
      },
      "source": [
        "#Задаём базовые параметры\n",
        "xLen = 10000 # Длина отрезка текста, по которой анализируем, в словах\n",
        "step = 100 # Шаг разбиения исходного текста на обучающие векторы"
      ],
      "execution_count": null,
      "outputs": []
    },
    {
      "cell_type": "code",
      "metadata": {
        "id": "x3ak6Yc8wIL8",
        "colab_type": "code",
        "colab": {
          "base_uri": "https://localhost:8080/",
          "height": 102
        },
        "outputId": "62b4cca7-76f7-4bf2-e2c3-2ff5f4ccc131"
      },
      "source": [
        "cur_time = time.time() # Засекаем текущее время\n",
        "#Формируем обучающую и тестовую выборку\n",
        "xTrain, yTrain = createSetsMultiClasses(trainWordIndexes, xLen, step) #извлекаем обучающую выборку\n",
        "xTest, yTest = createSetsMultiClasses(testWordIndexes, xLen, step)    #извлекаем тестовую выборку\n",
        "print(xTrain.shape)\n",
        "print(yTrain.shape)\n",
        "print(xTest.shape)\n",
        "print(yTest.shape)\n",
        "#получили обучающий/тестовый набор, достаточный для запуска Embedding, но для Bag of Words нужно xTrain и xTest представить в виде векторов из 0 и 1\n",
        "print('Время обработки: ', round(time.time() - cur_time, 2), 'c', sep='')"
      ],
      "execution_count": null,
      "outputs": [
        {
          "output_type": "stream",
          "text": [
            "(17527, 10000)\n",
            "(17527, 6)\n",
            "(6278, 10000)\n",
            "(6278, 6)\n",
            "Время обработки: 19.87c\n"
          ],
          "name": "stdout"
        }
      ]
    },
    {
      "cell_type": "code",
      "metadata": {
        "id": "vh66mOLewIz9",
        "colab_type": "code",
        "colab": {
          "base_uri": "https://localhost:8080/",
          "height": 136
        },
        "outputId": "47d21a6d-6ba9-4dc5-f9d9-b63a8d2ab5ea"
      },
      "source": [
        "cur_time = time.time() # Засекаем текущее время\n",
        "# Преобразовываем полученные выборки из последовательности индексов в матрицы нулей и единиц по принципу Bag of Words\n",
        "xTrain01 = tokenizer.sequences_to_matrix(xTrain.tolist()) #П одаем xTrain в виде списка, чтобы метод успешно сработал\n",
        "xTest01 = tokenizer.sequences_to_matrix(xTest.tolist()) # Подаем xTest в виде списка, чтобы метод успешно сработал\n",
        "\n",
        "print(xTrain01.shape)       # Размер обучающей выборки, сформированной по Bag of Words\n",
        "print(xTrain01[0][0:100]) # Фрагмент набора слов в виде Bag of Words\n",
        "print('Время обработки: ', round(time.time() - cur_time, 2), 'c', sep='')"
      ],
      "execution_count": null,
      "outputs": [
        {
          "output_type": "stream",
          "text": [
            "(17527, 20000)\n",
            "[0. 1. 1. 0. 1. 1. 1. 1. 1. 1. 1. 1. 1. 1. 1. 1. 1. 1. 1. 1. 1. 1. 1. 1.\n",
            " 1. 0. 1. 1. 1. 1. 1. 1. 1. 1. 1. 1. 1. 1. 1. 1. 1. 1. 1. 1. 1. 1. 1. 1.\n",
            " 0. 1. 1. 1. 1. 1. 1. 1. 1. 1. 1. 1. 1. 1. 1. 1. 1. 1. 1. 1. 1. 1. 0. 0.\n",
            " 1. 1. 1. 1. 1. 1. 1. 1. 1. 1. 1. 1. 1. 1. 1. 1. 1. 1. 1. 1. 1. 1. 1. 1.\n",
            " 1. 1. 1. 1.]\n",
            "Время обработки: 62.88c\n"
          ],
          "name": "stdout"
        }
      ]
    },
    {
      "cell_type": "code",
      "metadata": {
        "id": "gdLVigZawIZY",
        "colab_type": "code",
        "colab": {}
      },
      "source": [
        "# Параметры сети найдены с помощью keras tuner для окна 1000\n",
        "random.seed(1)\n",
        "np.random.seed(42)\n",
        "tf.random.set_seed(11)\n",
        "\n",
        "model01 = Sequential()\n",
        "\n",
        "model01.add(Dense(224, input_dim=maxWordsCount, activation=\"relu\"))\n",
        "model01.add(BatchNormalization())\n",
        "model01.add(Dropout(0.2))\n",
        "\n",
        "model01.add(Dense(96, activation=\"relu\"))\n",
        "model01.add(BatchNormalization())\n",
        "model01.add(Dropout(0.3))\n",
        "\n",
        "model01.add(Dense(6, activation='sigmoid'))"
      ],
      "execution_count": null,
      "outputs": []
    },
    {
      "cell_type": "code",
      "metadata": {
        "id": "a_2yfYsxxY-H",
        "colab_type": "code",
        "colab": {
          "base_uri": "https://localhost:8080/",
          "height": 391
        },
        "outputId": "7b5036d2-6cf0-4095-80e6-c6373ab5444d"
      },
      "source": [
        "model01.compile(optimizer=Adam(lr=0.001), \n",
        "              loss='categorical_crossentropy', \n",
        "              metrics=['accuracy'])\n",
        "\n",
        "model01.summary()"
      ],
      "execution_count": null,
      "outputs": [
        {
          "output_type": "stream",
          "text": [
            "Model: \"sequential\"\n",
            "_________________________________________________________________\n",
            "Layer (type)                 Output Shape              Param #   \n",
            "=================================================================\n",
            "dense (Dense)                (None, 224)               4480224   \n",
            "_________________________________________________________________\n",
            "batch_normalization (BatchNo (None, 224)               896       \n",
            "_________________________________________________________________\n",
            "dropout (Dropout)            (None, 224)               0         \n",
            "_________________________________________________________________\n",
            "dense_1 (Dense)              (None, 96)                21600     \n",
            "_________________________________________________________________\n",
            "batch_normalization_1 (Batch (None, 96)                384       \n",
            "_________________________________________________________________\n",
            "dropout_1 (Dropout)          (None, 96)                0         \n",
            "_________________________________________________________________\n",
            "dense_2 (Dense)              (None, 6)                 582       \n",
            "=================================================================\n",
            "Total params: 4,503,686\n",
            "Trainable params: 4,503,046\n",
            "Non-trainable params: 640\n",
            "_________________________________________________________________\n"
          ],
          "name": "stdout"
        }
      ]
    },
    {
      "cell_type": "code",
      "metadata": {
        "id": "UAhkIskORh_y",
        "colab_type": "code",
        "colab": {}
      },
      "source": [
        "# Создаем коллбэк для запоминания лучшей модели\n",
        "model_save_path = 'best_model.h5'\n",
        "checkpoint_callback = ModelCheckpoint(model_save_path, \n",
        "                                      monitor='val_accuracy',\n",
        "                                      save_best_only=True,\n",
        "                                      verbose=1)"
      ],
      "execution_count": null,
      "outputs": []
    },
    {
      "cell_type": "code",
      "metadata": {
        "id": "36A-XbL7xZQd",
        "colab_type": "code",
        "colab": {
          "base_uri": "https://localhost:8080/",
          "height": 1000
        },
        "outputId": "e0af06ae-d1c7-4546-a21d-cee68b94ce29"
      },
      "source": [
        "#Обучаем сеть на выборке, сформированной по bag of words - xTrain01\n",
        "history = model01.fit(xTrain01, \n",
        "                      yTrain, \n",
        "                      epochs=20,\n",
        "                      batch_size=128,\n",
        "                      callbacks=[checkpoint_callback],\n",
        "                      validation_data=(xTest01, yTest))\n",
        "\n",
        "plt.plot(history.history['accuracy'], \n",
        "         label='Доля верных ответов на обучающем наборе')\n",
        "plt.plot(history.history['val_accuracy'], \n",
        "         label='Доля верных ответов на проверочном наборе')\n",
        "plt.xlabel('Эпоха обучения')\n",
        "plt.ylabel('Доля верных ответов')\n",
        "plt.legend()\n",
        "plt.show()"
      ],
      "execution_count": null,
      "outputs": [
        {
          "output_type": "stream",
          "text": [
            "Epoch 1/20\n",
            "137/137 [==============================] - ETA: 0s - loss: 0.4862 - accuracy: 0.9671\n",
            "Epoch 00001: val_accuracy improved from -inf to 0.95078, saving model to best_model.h5\n",
            "137/137 [==============================] - 2s 15ms/step - loss: 0.4862 - accuracy: 0.9671 - val_loss: 0.4314 - val_accuracy: 0.9508\n",
            "Epoch 2/20\n",
            "134/137 [============================>.] - ETA: 0s - loss: 0.1497 - accuracy: 0.9590\n",
            "Epoch 00002: val_accuracy did not improve from 0.95078\n",
            "137/137 [==============================] - 2s 12ms/step - loss: 0.1485 - accuracy: 0.9591 - val_loss: 0.3072 - val_accuracy: 0.9124\n",
            "Epoch 3/20\n",
            "136/137 [============================>.] - ETA: 0s - loss: 0.0789 - accuracy: 0.9657\n",
            "Epoch 00003: val_accuracy improved from 0.95078 to 0.96225, saving model to best_model.h5\n",
            "137/137 [==============================] - 2s 12ms/step - loss: 0.0789 - accuracy: 0.9656 - val_loss: 0.1786 - val_accuracy: 0.9622\n",
            "Epoch 4/20\n",
            "133/137 [============================>.] - ETA: 0s - loss: 0.0474 - accuracy: 0.9801\n",
            "Epoch 00004: val_accuracy improved from 0.96225 to 0.98471, saving model to best_model.h5\n",
            "137/137 [==============================] - 2s 13ms/step - loss: 0.0471 - accuracy: 0.9803 - val_loss: 0.0787 - val_accuracy: 0.9847\n",
            "Epoch 5/20\n",
            "134/137 [============================>.] - ETA: 0s - loss: 0.0178 - accuracy: 0.9984\n",
            "Epoch 00005: val_accuracy improved from 0.98471 to 0.99299, saving model to best_model.h5\n",
            "137/137 [==============================] - 2s 13ms/step - loss: 0.0175 - accuracy: 0.9984 - val_loss: 0.0409 - val_accuracy: 0.9930\n",
            "Epoch 6/20\n",
            "134/137 [============================>.] - ETA: 0s - loss: 0.0068 - accuracy: 1.0000\n",
            "Epoch 00006: val_accuracy improved from 0.99299 to 0.99984, saving model to best_model.h5\n",
            "137/137 [==============================] - 2s 12ms/step - loss: 0.0067 - accuracy: 1.0000 - val_loss: 0.0265 - val_accuracy: 0.9998\n",
            "Epoch 7/20\n",
            "131/137 [===========================>..] - ETA: 0s - loss: 0.0043 - accuracy: 1.0000\n",
            "Epoch 00007: val_accuracy did not improve from 0.99984\n",
            "137/137 [==============================] - 1s 11ms/step - loss: 0.0043 - accuracy: 1.0000 - val_loss: 0.0281 - val_accuracy: 0.9976\n",
            "Epoch 8/20\n",
            "135/137 [============================>.] - ETA: 0s - loss: 0.0032 - accuracy: 1.0000\n",
            "Epoch 00008: val_accuracy did not improve from 0.99984\n",
            "137/137 [==============================] - 1s 11ms/step - loss: 0.0032 - accuracy: 1.0000 - val_loss: 0.0228 - val_accuracy: 0.9967\n",
            "Epoch 9/20\n",
            "134/137 [============================>.] - ETA: 0s - loss: 0.0024 - accuracy: 1.0000\n",
            "Epoch 00009: val_accuracy did not improve from 0.99984\n",
            "137/137 [==============================] - 1s 10ms/step - loss: 0.0024 - accuracy: 1.0000 - val_loss: 0.0211 - val_accuracy: 0.9975\n",
            "Epoch 10/20\n",
            "131/137 [===========================>..] - ETA: 0s - loss: 0.0017 - accuracy: 1.0000\n",
            "Epoch 00010: val_accuracy did not improve from 0.99984\n",
            "137/137 [==============================] - 1s 10ms/step - loss: 0.0017 - accuracy: 1.0000 - val_loss: 0.0221 - val_accuracy: 0.9955\n",
            "Epoch 11/20\n",
            "133/137 [============================>.] - ETA: 0s - loss: 0.0013 - accuracy: 1.0000\n",
            "Epoch 00011: val_accuracy did not improve from 0.99984\n",
            "137/137 [==============================] - 1s 11ms/step - loss: 0.0013 - accuracy: 1.0000 - val_loss: 0.0224 - val_accuracy: 0.9936\n",
            "Epoch 12/20\n",
            "133/137 [============================>.] - ETA: 0s - loss: 0.0011 - accuracy: 1.0000\n",
            "Epoch 00012: val_accuracy did not improve from 0.99984\n",
            "137/137 [==============================] - 1s 11ms/step - loss: 0.0011 - accuracy: 1.0000 - val_loss: 0.0248 - val_accuracy: 0.9922\n",
            "Epoch 13/20\n",
            "136/137 [============================>.] - ETA: 0s - loss: 9.0932e-04 - accuracy: 1.0000\n",
            "Epoch 00013: val_accuracy did not improve from 0.99984\n",
            "137/137 [==============================] - 1s 10ms/step - loss: 9.0907e-04 - accuracy: 1.0000 - val_loss: 0.0209 - val_accuracy: 0.9946\n",
            "Epoch 14/20\n",
            "134/137 [============================>.] - ETA: 0s - loss: 7.8887e-04 - accuracy: 1.0000\n",
            "Epoch 00014: val_accuracy did not improve from 0.99984\n",
            "137/137 [==============================] - 2s 11ms/step - loss: 7.8777e-04 - accuracy: 1.0000 - val_loss: 0.0221 - val_accuracy: 0.9936\n",
            "Epoch 15/20\n",
            "133/137 [============================>.] - ETA: 0s - loss: 6.3289e-04 - accuracy: 1.0000\n",
            "Epoch 00015: val_accuracy did not improve from 0.99984\n",
            "137/137 [==============================] - 2s 11ms/step - loss: 6.4250e-04 - accuracy: 1.0000 - val_loss: 0.0226 - val_accuracy: 0.9941\n",
            "Epoch 16/20\n",
            "134/137 [============================>.] - ETA: 0s - loss: 5.5688e-04 - accuracy: 1.0000\n",
            "Epoch 00016: val_accuracy did not improve from 0.99984\n",
            "137/137 [==============================] - 1s 11ms/step - loss: 5.6155e-04 - accuracy: 1.0000 - val_loss: 0.0188 - val_accuracy: 0.9981\n",
            "Epoch 17/20\n",
            "137/137 [==============================] - ETA: 0s - loss: 4.4848e-04 - accuracy: 1.0000\n",
            "Epoch 00017: val_accuracy did not improve from 0.99984\n",
            "137/137 [==============================] - 1s 11ms/step - loss: 4.4848e-04 - accuracy: 1.0000 - val_loss: 0.0193 - val_accuracy: 0.9975\n",
            "Epoch 18/20\n",
            "136/137 [============================>.] - ETA: 0s - loss: 3.9954e-04 - accuracy: 1.0000\n",
            "Epoch 00018: val_accuracy did not improve from 0.99984\n",
            "137/137 [==============================] - 2s 11ms/step - loss: 3.9774e-04 - accuracy: 1.0000 - val_loss: 0.0199 - val_accuracy: 0.9941\n",
            "Epoch 19/20\n",
            "137/137 [==============================] - ETA: 0s - loss: 4.0763e-04 - accuracy: 1.0000\n",
            "Epoch 00019: val_accuracy did not improve from 0.99984\n",
            "137/137 [==============================] - 1s 11ms/step - loss: 4.0763e-04 - accuracy: 1.0000 - val_loss: 0.0265 - val_accuracy: 0.9912\n",
            "Epoch 20/20\n",
            "132/137 [===========================>..] - ETA: 0s - loss: 3.0681e-04 - accuracy: 1.0000\n",
            "Epoch 00020: val_accuracy did not improve from 0.99984\n",
            "137/137 [==============================] - 1s 11ms/step - loss: 3.0660e-04 - accuracy: 1.0000 - val_loss: 0.0253 - val_accuracy: 0.9917\n"
          ],
          "name": "stdout"
        },
        {
          "output_type": "display_data",
          "data": {
            "image/png": "[encoded data removed]",
            "text/plain": [
              "<Figure size 432x288 with 1 Axes>"
            ]
          },
          "metadata": {
            "tags": [],
            "needs_background": "light"
          }
        }
      ]
    },
    {
      "cell_type": "code",
      "metadata": {
        "id": "2GATTwVPxZcA",
        "colab_type": "code",
        "colab": {}
      },
      "source": [
        "# Представляем тестовую выборку в удобных для распознавания размерах\n",
        "def createTestMultiClasses(wordIndexes, xLen, step): #функция принимает последовательность индексов, размер окна, шаг окна\n",
        "\n",
        "  #Для каждого из 6 классов\n",
        "  #Создаём тестовую выборку из индексов\n",
        "  nClasses = len(wordIndexes) #Задаем количество классов\n",
        "  xTest6Classes01 = []               #Здесь будет список из всех классов, каждый размером \"кол-во окон в тексте * 20000 (при maxWordsCount=20000)\"\n",
        "  xTest6Classes = []                 #Здесь будет список массивов, каждый размером \"кол-во окон в тексте * длину окна\"(6 по 420*1000)\n",
        "  for wI in wordIndexes:                       #Для каждого тестового текста из последовательности индексов\n",
        "    sample = (getSetFromIndexes(wI, xLen, step)) #Тестовая выборка размером \"кол-во окон*длину окна\"(например, 420*1000)\n",
        "    xTest6Classes.append(sample)              # Добавляем в список\n",
        "    xTest6Classes01.append(tokenizer.sequences_to_matrix(sample)) #Трансформируется в Bag of Words в виде \"кол-во окон в тексте * 20000\"\n",
        "  xTest6Classes01 = np.array(xTest6Classes01)                     #И добавляется к нашему списку, \n",
        "  xTest6Classes = np.array(xTest6Classes)                     #И добавляется к нашему списку, \n",
        "  \n",
        "  return xTest6Classes01, xTest6Classes  #функция вернёт тестовые данные: TestBag 6 классов на n*20000 и xTestEm 6 по n*1000\n",
        "\n",
        "# Распознаём тестовую выборку и выводим результаты\n",
        "def recognizeMultiClass(model, xTest, modelName):\n",
        "  print(\"НЕЙРОНКА: \", modelName)\n",
        "  print()\n",
        "  \n",
        "  totalSumRec = 0 # Сумма всех правильных ответов\n",
        "  \n",
        "  #Проходим по всем классам\n",
        "  for i in range(nClasses):\n",
        "    #Получаем результаты распознавания класса по блокам слов длины xLen\n",
        "    currPred = model.predict(xTest[i])\n",
        "    #Определяем номер распознанного класса для каждохо блока слов длины xLen\n",
        "    currOut = np.argmax(currPred, axis=1)\n",
        "\n",
        "    evVal = []\n",
        "    for j in range(nClasses):\n",
        "      evVal.append(len(currOut[currOut==j])/len(xTest[i]))\n",
        "\n",
        "    totalSumRec += len(currOut[currOut==i])\n",
        "    recognizedClass = np.argmax(evVal) #Определяем, какой класс в итоге за какой был распознан\n",
        "    \n",
        "    #Выводим результаты распознавания по текущему классу\n",
        "    isRecognized = \"Это НЕПРАВИЛЬНЫЙ ответ!\"\n",
        "    if (recognizedClass == i):\n",
        "      isRecognized = \"Это ПРАВИЛЬНЫЙ ответ!\"\n",
        "    str1 = 'Класс: ' + className[i] + \" \" * (11 - len(className[i])) + str(int(100*evVal[i])) + \"% сеть отнесла к классу \" + className[recognizedClass]\n",
        "    print(str1, \" \" * (55-len(str1)), isRecognized, sep='')\n",
        "  \n",
        "  #Выводим средний процент распознавания по всем классам вместе\n",
        "  print()\n",
        "  sumCount = 0\n",
        "  for i in range(nClasses):\n",
        "    sumCount += len(xTest[i])\n",
        "  print(\"Средний процент распознавания \", int(100*totalSumRec/sumCount), \"%\", sep='')\n",
        "\n",
        "  print()\n",
        "  \n",
        "  return totalSumRec/sumCount"
      ],
      "execution_count": null,
      "outputs": []
    },
    {
      "cell_type": "code",
      "metadata": {
        "id": "MNQthMBexZqX",
        "colab_type": "code",
        "colab": {}
      },
      "source": [
        "xTest6Classes01, x2 = createTestMultiClasses(testWordIndexes, xLen, step) #Преобразование тестовой выборки"
      ],
      "execution_count": null,
      "outputs": []
    },
    {
      "cell_type": "code",
      "metadata": {
        "id": "8hHCbKSixZXR",
        "colab_type": "code",
        "colab": {
          "base_uri": "https://localhost:8080/",
          "height": 204
        },
        "outputId": "9f2aa95b-6ebf-4787-aa08-3aeac1d0d1a4"
      },
      "source": [
        "#Проверяем точность нейронки обученной на bag of words\n",
        "pred = recognizeMultiClass(model01, xTest6Classes01, \"Тексты 01 + Dense\")"
      ],
      "execution_count": null,
      "outputs": [
        {
          "output_type": "stream",
          "text": [
            "НЕЙРОНКА:  Тексты 01 + Dense\n",
            "\n",
            "Класс: О. Генри   100% сеть отнесла к классу О. Генри  Это ПРАВИЛЬНЫЙ ответ!\n",
            "Класс: Стругацкие 100% сеть отнесла к классу СтругацкиеЭто ПРАВИЛЬНЫЙ ответ!\n",
            "Класс: Булгаков   100% сеть отнесла к классу Булгаков  Это ПРАВИЛЬНЫЙ ответ!\n",
            "Класс: Саймак     100% сеть отнесла к классу Саймак    Это ПРАВИЛЬНЫЙ ответ!\n",
            "Класс: Фрай       97% сеть отнесла к классу Фрай       Это ПРАВИЛЬНЫЙ ответ!\n",
            "Класс: Брэдберри  100% сеть отнесла к классу Брэдберри Это ПРАВИЛЬНЫЙ ответ!\n",
            "\n",
            "Средний процент распознавания 99%\n",
            "\n"
          ],
          "name": "stdout"
        }
      ]
    },
    {
      "cell_type": "code",
      "metadata": {
        "id": "uDXabvbbxZLZ",
        "colab_type": "code",
        "colab": {}
      },
      "source": [
        ""
      ],
      "execution_count": null,
      "outputs": []
    },
    {
      "cell_type": "markdown",
      "metadata": {
        "id": "UENIj4Sd2eG0",
        "colab_type": "text"
      },
      "source": [
        "### Вариант 2\n",
        "\n",
        "* Используйте разбиение текстов на фрагменты на базе обращения граждан в органы власти, как при распознавании писателей, например, размер блока - 20 слов, шаг - 1 слово.\n",
        "* Сравните точность с базовым ноутбуком, проверьте 5 различных архитектур сети.\n",
        "* Напишите функцию распознавания нужного обращения разделением его на фрагменты и распознаванием фрагментов.\n",
        "* Попробуйте разные параметры фильтрации выборки. Добавьте какой-нибудь свой критерий для фильтрации.\n",
        "* Запишите в конце ноутбука выводы о полученных исследованиях.\n"
      ]
    },
    {
      "cell_type": "markdown",
      "metadata": {
        "id": "WlIprWm-2eEb",
        "colab_type": "text"
      },
      "source": [
        "**Комментарий к задаче**\n",
        "По сообщениям Рустема, разбиение по 20 слов с шагом 1 требует очень много оперативной памяти и практически невыполнимо. Я считаю, что надо либо использовать генератор данных (так как нам не нужно иметь все данные в оперативной памяти одновременно) - но я не умею создавать генераторы для подобных ситуаций. Вторая возможность - опробовать данный подход на другой задаче, про болезни ЖКТ. Там относительно мало сообщений (254) и маленький словарь (1981 слово) Так что проблем с памятью быть не должно. \n",
        "\n",
        "Я попытаюсь применить метод скользящего окна 20,1 в задаче диагностики болезней, вероятно там он лучше подходит.\n",
        "\n",
        "То, что ниже - просто повторение того что было на занятии."
      ]
    },
    {
      "cell_type": "code",
      "metadata": {
        "id": "uzBYn0B04Aee",
        "colab_type": "code",
        "colab": {}
      },
      "source": [
        "!wget -q https://xland.ru/uai/hw04/clean_data.csv"
      ],
      "execution_count": null,
      "outputs": []
    },
    {
      "cell_type": "code",
      "metadata": {
        "id": "u6KJf1y9Exab",
        "colab_type": "code",
        "colab": {
          "base_uri": "https://localhost:8080/",
          "height": 359
        },
        "outputId": "85ffbb67-a5b4-4fef-d73a-848f893c3fb6"
      },
      "source": [
        "df = pd.read_csv('clean_data.csv') #загружаем данные в dataframe\n",
        "df = df.iloc[:, :2] #извлечём тексты обращений и соответствующие им категории\n",
        "df.head(10)    #посмотрим на содержимое"
      ],
      "execution_count": null,
      "outputs": [
        {
          "output_type": "execute_result",
          "data": {
            "text/html": [
              "<div>\n",
              "<style scoped>\n",
              "    .dataframe tbody tr th:only-of-type {\n",
              "        vertical-align: middle;\n",
              "    }\n",
              "\n",
              "    .dataframe tbody tr th {\n",
              "        vertical-align: top;\n",
              "    }\n",
              "\n",
              "    .dataframe thead th {\n",
              "        text-align: right;\n",
              "    }\n",
              "</style>\n",
              "<table border=\"1\" class=\"dataframe\">\n",
              "  <thead>\n",
              "    <tr style=\"text-align: right;\">\n",
              "      <th></th>\n",
              "      <th>text</th>\n",
              "      <th>category</th>\n",
              "    </tr>\n",
              "  </thead>\n",
              "  <tbody>\n",
              "    <tr>\n",
              "      <th>0</th>\n",
              "      <td>Здравствуйте. Подскажите пожалуйста можно ли с...</td>\n",
              "      <td>Дороги и транспорт</td>\n",
              "    </tr>\n",
              "    <tr>\n",
              "      <th>1</th>\n",
              "      <td>Подскажите пожалуйста имеют ли право не платит...</td>\n",
              "      <td>ЖКХ</td>\n",
              "    </tr>\n",
              "    <tr>\n",
              "      <th>2</th>\n",
              "      <td>\" Спасибо Вам огромное за возобновление строит...</td>\n",
              "      <td>Строительство</td>\n",
              "    </tr>\n",
              "    <tr>\n",
              "      <th>3</th>\n",
              "      <td>Проблема одна и общая стала в городе. Спорт. у...</td>\n",
              "      <td>Спорт</td>\n",
              "    </tr>\n",
              "    <tr>\n",
              "      <th>4</th>\n",
              "      <td>Некоторое время назад для школьников и студент...</td>\n",
              "      <td>Дороги и транспорт</td>\n",
              "    </tr>\n",
              "    <tr>\n",
              "      <th>5</th>\n",
              "      <td>Доброго времени суток! Надеюсь, мое сообщение ...</td>\n",
              "      <td>Дороги и транспорт</td>\n",
              "    </tr>\n",
              "    <tr>\n",
              "      <th>6</th>\n",
              "      <td>хочу предложить вот что у нас в городе потихон...</td>\n",
              "      <td>Дороги и транспорт</td>\n",
              "    </tr>\n",
              "    <tr>\n",
              "      <th>7</th>\n",
              "      <td>Добрый вечер. Хотелось бы, чтобы обратили вним...</td>\n",
              "      <td>Дороги и транспорт</td>\n",
              "    </tr>\n",
              "    <tr>\n",
              "      <th>8</th>\n",
              "      <td>Здравствуйте, больше 9 месяцев я и жильцы микр...</td>\n",
              "      <td>Благо­­устрой­­ство</td>\n",
              "    </tr>\n",
              "    <tr>\n",
              "      <th>9</th>\n",
              "      <td>На улице Кирова (это центр города!!!!) отсутст...</td>\n",
              "      <td>Дороги и транспорт</td>\n",
              "    </tr>\n",
              "  </tbody>\n",
              "</table>\n",
              "</div>"
            ],
            "text/plain": [
              "                                                text             category\n",
              "0  Здравствуйте. Подскажите пожалуйста можно ли с...   Дороги и транспорт\n",
              "1  Подскажите пожалуйста имеют ли право не платит...                  ЖКХ\n",
              "2  \" Спасибо Вам огромное за возобновление строит...        Строительство\n",
              "3  Проблема одна и общая стала в городе. Спорт. у...                Спорт\n",
              "4  Некоторое время назад для школьников и студент...   Дороги и транспорт\n",
              "5  Доброго времени суток! Надеюсь, мое сообщение ...   Дороги и транспорт\n",
              "6  хочу предложить вот что у нас в городе потихон...   Дороги и транспорт\n",
              "7  Добрый вечер. Хотелось бы, чтобы обратили вним...   Дороги и транспорт\n",
              "8  Здравствуйте, больше 9 месяцев я и жильцы микр...  Благо­­устрой­­ство\n",
              "9  На улице Кирова (это центр города!!!!) отсутст...   Дороги и транспорт"
            ]
          },
          "metadata": {
            "tags": []
          },
          "execution_count": 6
        }
      ]
    },
    {
      "cell_type": "code",
      "metadata": {
        "id": "S-dqU8Sd4G_I",
        "colab_type": "code",
        "colab": {
          "base_uri": "https://localhost:8080/",
          "height": 391
        },
        "outputId": "082da951-8eb1-43d9-99ff-c65cfa1d9f83"
      },
      "source": [
        "for cl in df['category'].unique(): #Проходим по всем классам\n",
        "  print('Количество записей класса ', cl, ': ', df[df.category == cl].shape[0])"
      ],
      "execution_count": null,
      "outputs": [
        {
          "output_type": "stream",
          "text": [
            "Количество записей класса  Дороги и транспорт :  1411\n",
            "Количество записей класса  ЖКХ :  2063\n",
            "Количество записей класса  Строительство :  349\n",
            "Количество записей класса  Спорт :  246\n",
            "Количество записей класса  Благо­­устрой­­ство :  1686\n",
            "Количество записей класса  Образование и наука :  290\n",
            "Количество записей класса  Культура :  100\n",
            "Количество записей класса  Демография :  20\n",
            "Количество записей класса  Социальная сфера :  370\n",
            "Количество записей класса  Другое :  208\n",
            "Количество записей класса  Бизнес :  187\n",
            "Количество записей класса  Здравоохранение :  368\n",
            "Количество записей класса  Органы власти :  244\n",
            "Количество записей класса  Экология :  180\n",
            "Количество записей класса  Правопорядок :  172\n",
            "Количество записей класса  Труд и занятость населения :  151\n",
            "Количество записей класса  Борьба с коррупцией :  59\n",
            "Количество записей класса  Промышленность :  13\n",
            "Количество записей класса  Сельское хозяйство :  50\n",
            "Количество записей класса  Земельные отношения :  80\n",
            "Количество записей класса  Туризм :  15\n",
            "Количество записей класса  nan :  0\n"
          ],
          "name": "stdout"
        }
      ]
    },
    {
      "cell_type": "code",
      "metadata": {
        "id": "BQLx9sYWAYs8",
        "colab_type": "code",
        "colab": {
          "base_uri": "https://localhost:8080/",
          "height": 136
        },
        "outputId": "9717b5cd-6118-40b5-e44c-ce6a10fae347"
      },
      "source": [
        "texts = df['text'].values #Извлекаем данные всех текстов из столбца text\n",
        "classes = list(df['category'].values) #Извлекаем соответствующие им значения классов (лейблов) столбца text\n",
        "maxWordsCount = 20000 #Зададим максимальное количество слов/индексов, учитываемое при обучении текстов\n",
        "\n",
        "print(df['category'].unique()) #Выводим все уникальные значения классов\n",
        "nClasses = df['category'].nunique()+1  #Задаём количество классов, обращаясь к столбцу category и оставляя уникальные значения\n",
        "print(nClasses) #Посмотрим на количество классов"
      ],
      "execution_count": null,
      "outputs": [
        {
          "output_type": "stream",
          "text": [
            "['Дороги и транспорт' 'ЖКХ' 'Строительство' 'Спорт'\n",
            " 'Благо\\xad\\xadустрой\\xad\\xadство' 'Образование и наука' 'Культура'\n",
            " 'Демография' 'Социальная сфера' 'Другое' 'Бизнес' 'Здравоохранение'\n",
            " 'Органы власти' 'Экология' 'Правопорядок' 'Труд и занятость населения'\n",
            " 'Борьба с коррупцией' 'Промышленность' 'Сельское хозяйство'\n",
            " 'Земельные отношения' 'Туризм' nan]\n",
            "22\n"
          ],
          "name": "stdout"
        }
      ]
    },
    {
      "cell_type": "code",
      "metadata": {
        "id": "qFptuD_LBZgD",
        "colab_type": "code",
        "colab": {
          "base_uri": "https://localhost:8080/",
          "height": 51
        },
        "outputId": "05d39652-1dd5-482a-87c0-3cc98d36c67d"
      },
      "source": [
        "tokenizer = Tokenizer(num_words=maxWordsCount, filters='!\"#$%&()*+,-./:;<=>?@[\\\\]^_`{|}~\\t\\n', lower=True, split=' ', oov_token='unknown', char_level=False)\n",
        "tokenizer.fit_on_texts(texts)\n",
        "xAll = tokenizer.texts_to_matrix(texts) #Каждое слово из текста нашло свой индекс в векторе длиной maxWordsCount и отметилось в нем единичкой \n",
        "print(xAll.shape)  #Посмотрим на форму текстов\n",
        "print(xAll[0, :20])#И отдельно на фрагмент начала вектора"
      ],
      "execution_count": null,
      "outputs": [
        {
          "output_type": "stream",
          "text": [
            "(10059, 20000)\n",
            "[0. 0. 1. 0. 1. 0. 1. 1. 0. 0. 0. 0. 0. 0. 0. 1. 0. 0. 0. 0.]\n"
          ],
          "name": "stdout"
        }
      ]
    },
    {
      "cell_type": "code",
      "metadata": {
        "id": "AtvdoJhHB9bw",
        "colab_type": "code",
        "colab": {
          "base_uri": "https://localhost:8080/",
          "height": 34
        },
        "outputId": "c3e5183d-5136-4f59-db30-88cc17a9f062"
      },
      "source": [
        "print(\"Размер словаря\", len(tokenizer.word_index.items()))"
      ],
      "execution_count": null,
      "outputs": [
        {
          "output_type": "stream",
          "text": [
            "Размер словаря 80594\n"
          ],
          "name": "stdout"
        }
      ]
    },
    {
      "cell_type": "code",
      "metadata": {
        "id": "GUuAjZd5COZ6",
        "colab_type": "code",
        "colab": {
          "base_uri": "https://localhost:8080/",
          "height": 136
        },
        "outputId": "7834d674-b87c-4b19-ec1d-28b3c168ac31"
      },
      "source": [
        "#Преобразовываем категории в векторы\n",
        "encoder = LabelEncoder() # Вызываем метод кодирования тестовых лейблов из библиотеки sklearn\n",
        "encoder.fit(classes) # Подгружаем в него категории из нашей базы\n",
        "classesEncoded = encoder.transform(classes) # Кодируем категории\n",
        "print(encoder.classes_)\n",
        "print(classesEncoded.shape)\n",
        "print(classesEncoded[:10])"
      ],
      "execution_count": null,
      "outputs": [
        {
          "output_type": "stream",
          "text": [
            "['nan' 'Бизнес' 'Благо\\xad\\xadустрой\\xad\\xadство' 'Борьба с коррупцией'\n",
            " 'Демография' 'Дороги и транспорт' 'Другое' 'ЖКХ' 'Здравоохранение'\n",
            " 'Земельные отношения' 'Культура' 'Образование и наука' 'Органы власти'\n",
            " 'Правопорядок' 'Промышленность' 'Сельское хозяйство' 'Социальная сфера'\n",
            " 'Спорт' 'Строительство' 'Труд и занятость населения' 'Туризм' 'Экология']\n",
            "(10059,)\n",
            "[ 5  7 18 17  5  5  5  5  2  5]\n"
          ],
          "name": "stdout"
        }
      ]
    },
    {
      "cell_type": "code",
      "metadata": {
        "id": "2umXQPCSCOnW",
        "colab_type": "code",
        "colab": {
          "base_uri": "https://localhost:8080/",
          "height": 51
        },
        "outputId": "27b5bd8f-904c-4616-da08-1a96512b16c7"
      },
      "source": [
        "yAll = utils.to_categorical(classesEncoded, nClasses) # И выводим каждый лейбл в виде вектора длиной 22, с 1кой в позиции соответствующего класса и нулями\n",
        "print(yAll.shape) # Посмотрим на форму лейблов категорий\n",
        "print(yAll[0]) # И отдельно на первую строку"
      ],
      "execution_count": null,
      "outputs": [
        {
          "output_type": "stream",
          "text": [
            "(10059, 22)\n",
            "[0. 0. 0. 0. 0. 1. 0. 0. 0. 0. 0. 0. 0. 0. 0. 0. 0. 0. 0. 0. 0. 0.]\n"
          ],
          "name": "stdout"
        }
      ]
    },
    {
      "cell_type": "code",
      "metadata": {
        "id": "FvSGUXpsCOtk",
        "colab_type": "code",
        "colab": {
          "base_uri": "https://localhost:8080/",
          "height": 51
        },
        "outputId": "a951e2b1-0e69-44e5-a4a3-ba94845ff9c7"
      },
      "source": [
        "# разбиваем все данные на обучающую и тестовую выборки с помощью метода train_test_split из библиотеки sklearn\n",
        "xTrain, xVal, yTrain, yVal = train_test_split(xAll, yAll, test_size=0.2)\n",
        "print(xTrain.shape) #посмотрим на форму текстов из обучающей выборки\n",
        "print(yTrain.shape) #и на форму соответсвующих им классов"
      ],
      "execution_count": null,
      "outputs": [
        {
          "output_type": "stream",
          "text": [
            "(8047, 20000)\n",
            "(8047, 22)\n"
          ],
          "name": "stdout"
        }
      ]
    },
    {
      "cell_type": "code",
      "metadata": {
        "id": "JhNeqwsdCO1q",
        "colab_type": "code",
        "colab": {
          "base_uri": "https://localhost:8080/",
          "height": 51
        },
        "outputId": "bb6aff96-ff6b-4329-e7d7-a32d25254579"
      },
      "source": [
        "# для Эмбэддинга представляем текст в виде последовательности индексов слов, каждый из которых затем преобразуем в многомерный вектор\n",
        "Sequences = tokenizer.texts_to_sequences(texts) #разбиваем текст на последовательность индексов\n",
        "npSequences = np.array(Sequences)                #переведём в массив numpy\n",
        "xTrainE, xValE, yTrainE, yValE = train_test_split(npSequences, yAll, test_size=0.2)#сформируем новую форму выборки\n",
        "print(xTrainE.shape) #посмотрим на форму текстов из обучающей выборки\n",
        "print(yTrain.shape)  #и на форму соответствующих им классов"
      ],
      "execution_count": null,
      "outputs": [
        {
          "output_type": "stream",
          "text": [
            "(8047,)\n",
            "(8047, 22)\n"
          ],
          "name": "stdout"
        }
      ]
    },
    {
      "cell_type": "code",
      "metadata": {
        "id": "HEJc0reXFrYb",
        "colab_type": "code",
        "colab": {}
      },
      "source": [
        "model01 = Sequential()\n",
        "model01.add(Dense(100, input_dim=maxWordsCount, activation=\"relu\"))\n",
        "model01.add(Dropout(0.4))\n",
        "model01.add(Dense(100, activation='relu'))\n",
        "model01.add(Dropout(0.4))\n",
        "model01.add(Dense(100, activation='relu'))\n",
        "model01.add(Dropout(0.4))\n",
        "model01.add(Dense(nClasses, activation='softmax'))\n",
        "\n",
        "model01.compile(optimizer='adam', \n",
        "              loss='categorical_crossentropy', \n",
        "              metrics=['accuracy'])\n"
      ],
      "execution_count": null,
      "outputs": []
    },
    {
      "cell_type": "code",
      "metadata": {
        "id": "4qVkSsa5FrkB",
        "colab_type": "code",
        "colab": {
          "base_uri": "https://localhost:8080/",
          "height": 391
        },
        "outputId": "59bdcb9b-d98a-41cb-fc54-6c253307cf76"
      },
      "source": [
        "model01.summary()"
      ],
      "execution_count": null,
      "outputs": [
        {
          "output_type": "stream",
          "text": [
            "Model: \"sequential\"\n",
            "_________________________________________________________________\n",
            "Layer (type)                 Output Shape              Param #   \n",
            "=================================================================\n",
            "dense (Dense)                (None, 100)               2000100   \n",
            "_________________________________________________________________\n",
            "dropout (Dropout)            (None, 100)               0         \n",
            "_________________________________________________________________\n",
            "dense_1 (Dense)              (None, 100)               10100     \n",
            "_________________________________________________________________\n",
            "dropout_1 (Dropout)          (None, 100)               0         \n",
            "_________________________________________________________________\n",
            "dense_2 (Dense)              (None, 100)               10100     \n",
            "_________________________________________________________________\n",
            "dropout_2 (Dropout)          (None, 100)               0         \n",
            "_________________________________________________________________\n",
            "dense_3 (Dense)              (None, 22)                2222      \n",
            "=================================================================\n",
            "Total params: 2,022,522\n",
            "Trainable params: 2,022,522\n",
            "Non-trainable params: 0\n",
            "_________________________________________________________________\n"
          ],
          "name": "stdout"
        }
      ]
    },
    {
      "cell_type": "code",
      "metadata": {
        "id": "zmS2DD98FrvR",
        "colab_type": "code",
        "colab": {
          "base_uri": "https://localhost:8080/",
          "height": 959
        },
        "outputId": "af06c9a7-d0a1-45f1-f080-5a384659ea61"
      },
      "source": [
        "history = model01.fit(xTrain, \n",
        "                    yTrain, \n",
        "                    epochs=20,\n",
        "                    batch_size=128,\n",
        "                    validation_data=(xVal, yVal))\n",
        "\n",
        "plt.plot(history.history['accuracy'], \n",
        "         label='Доля верных ответов на обучающем наборе')\n",
        "plt.plot(history.history['val_accuracy'], \n",
        "         label='Доля верных ответов на проверочном наборе')\n",
        "plt.xlabel('Эпоха обучения')\n",
        "plt.ylabel('Доля верных ответов')\n",
        "plt.legend()\n",
        "plt.show()"
      ],
      "execution_count": null,
      "outputs": [
        {
          "output_type": "stream",
          "text": [
            "Epoch 1/20\n",
            "63/63 [==============================] - 3s 49ms/step - loss: 2.4825 - accuracy: 0.2500 - val_loss: 1.9258 - val_accuracy: 0.4553\n",
            "Epoch 2/20\n",
            "63/63 [==============================] - 3s 41ms/step - loss: 1.8239 - accuracy: 0.4367 - val_loss: 1.7330 - val_accuracy: 0.4727\n",
            "Epoch 3/20\n",
            "63/63 [==============================] - 3s 41ms/step - loss: 1.4680 - accuracy: 0.5509 - val_loss: 1.6316 - val_accuracy: 0.5174\n",
            "Epoch 4/20\n",
            "63/63 [==============================] - 3s 41ms/step - loss: 1.1510 - accuracy: 0.6532 - val_loss: 1.6600 - val_accuracy: 0.5229\n",
            "Epoch 5/20\n",
            "63/63 [==============================] - 3s 41ms/step - loss: 0.8972 - accuracy: 0.7339 - val_loss: 1.7854 - val_accuracy: 0.5199\n",
            "Epoch 6/20\n",
            "63/63 [==============================] - 3s 41ms/step - loss: 0.7467 - accuracy: 0.7789 - val_loss: 1.8759 - val_accuracy: 0.5169\n",
            "Epoch 7/20\n",
            "63/63 [==============================] - 3s 40ms/step - loss: 0.6184 - accuracy: 0.8168 - val_loss: 2.0122 - val_accuracy: 0.5268\n",
            "Epoch 8/20\n",
            "63/63 [==============================] - 3s 40ms/step - loss: 0.5271 - accuracy: 0.8453 - val_loss: 2.2149 - val_accuracy: 0.5239\n",
            "Epoch 9/20\n",
            "63/63 [==============================] - 3s 41ms/step - loss: 0.4781 - accuracy: 0.8655 - val_loss: 2.2588 - val_accuracy: 0.5268\n",
            "Epoch 10/20\n",
            "63/63 [==============================] - 3s 41ms/step - loss: 0.4113 - accuracy: 0.8819 - val_loss: 2.4412 - val_accuracy: 0.5318\n",
            "Epoch 11/20\n",
            "63/63 [==============================] - 3s 41ms/step - loss: 0.3710 - accuracy: 0.8935 - val_loss: 2.4271 - val_accuracy: 0.5239\n",
            "Epoch 12/20\n",
            "63/63 [==============================] - 3s 40ms/step - loss: 0.3647 - accuracy: 0.8967 - val_loss: 2.4674 - val_accuracy: 0.5263\n",
            "Epoch 13/20\n",
            "63/63 [==============================] - 3s 42ms/step - loss: 0.3239 - accuracy: 0.9079 - val_loss: 2.5569 - val_accuracy: 0.5263\n",
            "Epoch 14/20\n",
            "63/63 [==============================] - 3s 41ms/step - loss: 0.2963 - accuracy: 0.9144 - val_loss: 2.6364 - val_accuracy: 0.5328\n",
            "Epoch 15/20\n",
            "63/63 [==============================] - 3s 40ms/step - loss: 0.2641 - accuracy: 0.9236 - val_loss: 2.7404 - val_accuracy: 0.5338\n",
            "Epoch 16/20\n",
            "63/63 [==============================] - 3s 41ms/step - loss: 0.2621 - accuracy: 0.9232 - val_loss: 2.7286 - val_accuracy: 0.5318\n",
            "Epoch 17/20\n",
            "63/63 [==============================] - 3s 40ms/step - loss: 0.2494 - accuracy: 0.9297 - val_loss: 2.7216 - val_accuracy: 0.5263\n",
            "Epoch 18/20\n",
            "63/63 [==============================] - 2s 40ms/step - loss: 0.2377 - accuracy: 0.9325 - val_loss: 2.7604 - val_accuracy: 0.5328\n",
            "Epoch 19/20\n",
            "63/63 [==============================] - 2s 39ms/step - loss: 0.2371 - accuracy: 0.9360 - val_loss: 2.7285 - val_accuracy: 0.5348\n",
            "Epoch 20/20\n",
            "63/63 [==============================] - 3s 41ms/step - loss: 0.2150 - accuracy: 0.9410 - val_loss: 2.8773 - val_accuracy: 0.5318\n"
          ],
          "name": "stdout"
        },
        {
          "output_type": "display_data",
          "data": {
            "image/png": "[encoded data removed]",
            "text/plain": [
              "<Figure size 432x288 with 1 Axes>"
            ]
          },
          "metadata": {
            "tags": [],
            "needs_background": "light"
          }
        }
      ]
    },
    {
      "cell_type": "markdown",
      "metadata": {
        "id": "PapmeQ8LGz2A",
        "colab_type": "text"
      },
      "source": [
        "**Embedding + Dense**"
      ]
    },
    {
      "cell_type": "code",
      "metadata": {
        "id": "qDgic1j6Fr8N",
        "colab_type": "code",
        "colab": {}
      },
      "source": [
        ""
      ],
      "execution_count": null,
      "outputs": []
    },
    {
      "cell_type": "code",
      "metadata": {
        "id": "G97YpMB4G1oL",
        "colab_type": "code",
        "colab": {}
      },
      "source": [
        ""
      ],
      "execution_count": null,
      "outputs": []
    },
    {
      "cell_type": "code",
      "metadata": {
        "id": "74WTJgxbG11M",
        "colab_type": "code",
        "colab": {
          "base_uri": "https://localhost:8080/",
          "height": 265
        },
        "outputId": "19912da9-5a9c-4993-9825-3daa6a311e0d"
      },
      "source": [
        "lenXTrainE = [len(x) for x in xTrainE]\n",
        "plt.hist(lenXTrainE, 40)\n",
        "plt.show()"
      ],
      "execution_count": null,
      "outputs": [
        {
          "output_type": "display_data",
          "data": {
            "image/png": "[encoded data removed]",
            "text/plain": [
              "<Figure size 432x288 with 1 Axes>"
            ]
          },
          "metadata": {
            "tags": [],
            "needs_background": "light"
          }
        }
      ]
    },
    {
      "cell_type": "code",
      "metadata": {
        "id": "JtpRDwwIG1--",
        "colab_type": "code",
        "colab": {}
      },
      "source": [
        "maxlen = 400\n",
        "xTrainE = pad_sequences(xTrainE, maxlen=maxlen) #Преобразуем входные векторы\n",
        "xValE = pad_sequences(xValE, maxlen=maxlen) #Преобразуем входные векторы"
      ],
      "execution_count": null,
      "outputs": []
    },
    {
      "cell_type": "code",
      "metadata": {
        "id": "jWHGfI0AHP8g",
        "colab_type": "code",
        "colab": {}
      },
      "source": [
        "modelE = Sequential()\n",
        "\n",
        "modelE.add(Embedding(maxWordsCount, 50, input_length=maxlen))\n",
        "modelE.add(SpatialDropout1D(0.2))\n",
        "modelE.add(Flatten())\n",
        "modelE.add(BatchNormalization())\n",
        "modelE.add(Dense(64, activation=\"relu\"))\n",
        "modelE.add(Dropout(0.2))\n",
        "modelE.add(BatchNormalization())\n",
        "modelE.add(Dense(nClasses, activation='softmax'))\n",
        "\n",
        "modelE.compile(optimizer='adam', \n",
        "              loss='categorical_crossentropy', \n",
        "              metrics=['accuracy'])"
      ],
      "execution_count": null,
      "outputs": []
    },
    {
      "cell_type": "code",
      "metadata": {
        "id": "dJHC9im4HKWn",
        "colab_type": "code",
        "colab": {
          "base_uri": "https://localhost:8080/",
          "height": 789
        },
        "outputId": "b3fa1c84-c6df-46e1-da35-c15cc951c638"
      },
      "source": [
        "history = modelE.fit(xTrainE, \n",
        "                    yTrainE, \n",
        "                    epochs=15,\n",
        "                    batch_size=50,\n",
        "                    validation_data=(xValE, yValE))\n",
        "\n",
        "plt.plot(history.history['accuracy'], \n",
        "         label='Доля верных ответов на обучающем наборе')\n",
        "plt.plot(history.history['val_accuracy'], \n",
        "         label='Доля верных ответов на проверочном наборе')\n",
        "plt.xlabel('Эпоха обучения')\n",
        "plt.ylabel('Доля верных ответов')\n",
        "plt.legend()\n",
        "plt.show()"
      ],
      "execution_count": null,
      "outputs": [
        {
          "output_type": "stream",
          "text": [
            "Epoch 1/15\n",
            "161/161 [==============================] - 8s 47ms/step - loss: 3.0849 - accuracy: 0.1366 - val_loss: 2.7267 - val_accuracy: 0.1973\n",
            "Epoch 2/15\n",
            "161/161 [==============================] - 7s 46ms/step - loss: 1.6861 - accuracy: 0.5096 - val_loss: 2.3941 - val_accuracy: 0.2197\n",
            "Epoch 3/15\n",
            "161/161 [==============================] - 8s 50ms/step - loss: 0.6884 - accuracy: 0.8283 - val_loss: 2.0797 - val_accuracy: 0.3658\n",
            "Epoch 4/15\n",
            "161/161 [==============================] - 8s 47ms/step - loss: 0.3010 - accuracy: 0.9415 - val_loss: 2.0570 - val_accuracy: 0.3743\n",
            "Epoch 5/15\n",
            "161/161 [==============================] - 7s 46ms/step - loss: 0.1552 - accuracy: 0.9746 - val_loss: 2.1767 - val_accuracy: 0.4036\n",
            "Epoch 6/15\n",
            "161/161 [==============================] - 7s 45ms/step - loss: 0.0963 - accuracy: 0.9867 - val_loss: 2.2295 - val_accuracy: 0.4220\n",
            "Epoch 7/15\n",
            "161/161 [==============================] - 7s 45ms/step - loss: 0.0706 - accuracy: 0.9888 - val_loss: 2.3180 - val_accuracy: 0.4095\n",
            "Epoch 8/15\n",
            "161/161 [==============================] - 8s 47ms/step - loss: 0.0553 - accuracy: 0.9914 - val_loss: 2.4460 - val_accuracy: 0.4170\n",
            "Epoch 9/15\n",
            "161/161 [==============================] - 7s 46ms/step - loss: 0.0458 - accuracy: 0.9924 - val_loss: 2.2600 - val_accuracy: 0.4125\n",
            "Epoch 10/15\n",
            "161/161 [==============================] - 8s 47ms/step - loss: 0.0401 - accuracy: 0.9930 - val_loss: 2.4166 - val_accuracy: 0.4155\n",
            "Epoch 11/15\n",
            "161/161 [==============================] - 7s 46ms/step - loss: 0.0349 - accuracy: 0.9945 - val_loss: 2.6051 - val_accuracy: 0.4115\n",
            "Epoch 12/15\n",
            "161/161 [==============================] - 7s 45ms/step - loss: 0.0324 - accuracy: 0.9945 - val_loss: 2.4372 - val_accuracy: 0.4115\n",
            "Epoch 13/15\n",
            "161/161 [==============================] - 7s 46ms/step - loss: 0.0287 - accuracy: 0.9948 - val_loss: 2.4097 - val_accuracy: 0.4145\n",
            "Epoch 14/15\n",
            "161/161 [==============================] - 7s 45ms/step - loss: 0.0280 - accuracy: 0.9945 - val_loss: 2.7822 - val_accuracy: 0.4105\n",
            "Epoch 15/15\n",
            "161/161 [==============================] - 7s 46ms/step - loss: 0.0316 - accuracy: 0.9929 - val_loss: 2.7144 - val_accuracy: 0.4056\n"
          ],
          "name": "stdout"
        },
        {
          "output_type": "display_data",
          "data": {
            "image/png": "[encoded data removed]",
            "text/plain": [
              "<Figure size 432x288 with 1 Axes>"
            ]
          },
          "metadata": {
            "tags": [],
            "needs_background": "light"
          }
        }
      ]
    },
    {
      "cell_type": "markdown",
      "metadata": {
        "id": "oa57_RxgwlFK",
        "colab_type": "text"
      },
      "source": [
        "## ULTRA PRO"
      ]
    },
    {
      "cell_type": "markdown",
      "metadata": {
        "id": "6b0t3EM-wwyy",
        "colab_type": "text"
      },
      "source": [
        "### Вариант 1\n",
        "\n",
        "Выгрузите какой-нибудь из ваших диалогов любой соц.сети и напишите нейронную сеть для классификации собеседника по сообщению. Использование групповых чатов для обучения поощряется, но усложняет задачу. Если необходима конфиденциальность, датасет можно не предоставлять. "
      ]
    },
    {
      "cell_type": "markdown",
      "metadata": {
        "id": "ZzfuQdLNIa33",
        "colab_type": "text"
      },
      "source": [
        "Я взял БД MySQL форума PHPBB моего СНТ. Взяты посты 10 наиболее активных участников форума. Всего более 15000 постов, но они не совсем сбалансированы по авторам."
      ]
    },
    {
      "cell_type": "code",
      "metadata": {
        "id": "Nvlez2cPD3IS",
        "colab_type": "code",
        "colab": {}
      },
      "source": [
        "# Скрипт делает дамп постов 10 наиболее активных пользователей в файл posts.csv \n",
        "# Скрипт надо запускать на сервере БД форума PHPBB\n",
        "\n",
        "# import pymysql.cursors\n",
        "# import csv\n",
        "\n",
        "# # Connect to the database\n",
        "# connection = pymysql.connect(host='localhost',\n",
        "#                              user='phpbb3',\n",
        "#                              password='*******',\n",
        "#                              db='phpbb3',\n",
        "#                              cursorclass=pymysql.cursors.DictCursor)\n",
        "# try:\n",
        "\n",
        "#     with open('posts.csv', mode='w') as csv_file:\n",
        "#         fieldnames = ['poster_id', 'post_text']\n",
        "#         writer = csv.DictWriter(csv_file, fieldnames=fieldnames)\n",
        "#         writer.writeheader()\n",
        "#         with connection.cursor() as cursor:\n",
        "#             sql = \"SELECT `poster_id`, `post_text` FROM `phpbb3_posts` WHERE poster_id IN (3, 61, 1126, 937, 4, 31, 989, 700, 1, 947)\"\n",
        "#             cursor.execute(sql)\n",
        "#             rows = cursor.fetchall()\n",
        "#             count = 0\n",
        "#             for row in rows:\n",
        "#                 writer.writerow(row)\n",
        "#                 count += 1\n",
        "# finally:\n",
        "#     connection.close()\n",
        "#     print(\"rows:%d\" % count)\n"
      ],
      "execution_count": null,
      "outputs": []
    },
    {
      "cell_type": "code",
      "metadata": {
        "id": "MOOD8RBg4Wz9",
        "colab_type": "code",
        "colab": {
          "base_uri": "https://localhost:8080/",
          "height": 204
        },
        "outputId": "5bce42b4-446e-4506-a45a-dd41eb90f7c9"
      },
      "source": [
        "!wget https://xland.ru/uai/hw04/posts.csv"
      ],
      "execution_count": null,
      "outputs": [
        {
          "output_type": "stream",
          "text": [
            "--2020-08-18 18:28:25--  https://xland.ru/uai/hw04/posts.csv\n",
            "Resolving xland.ru (xland.ru)... 198.211.125.59\n",
            "Connecting to xland.ru (xland.ru)|198.211.125.59|:443... connected.\n",
            "HTTP request sent, awaiting response... 200 OK\n",
            "Length: 17889181 (17M) [text/csv]\n",
            "Saving to: ‘posts.csv’\n",
            "\n",
            "posts.csv           100%[===================>]  17.06M   421KB/s    in 42s     \n",
            "\n",
            "2020-08-18 18:29:08 (411 KB/s) - ‘posts.csv’ saved [17889181/17889181]\n",
            "\n"
          ],
          "name": "stdout"
        }
      ]
    },
    {
      "cell_type": "code",
      "metadata": {
        "id": "atFsVBufybAa",
        "colab_type": "code",
        "colab": {}
      },
      "source": [
        "df = pd.read_csv('posts.csv') # загружаем данные в dataframe\n",
        "data = df.values # извлечём тексты обращений и соответствующие им категории"
      ],
      "execution_count": null,
      "outputs": []
    },
    {
      "cell_type": "code",
      "metadata": {
        "id": "JWUAO96xHcEC",
        "colab_type": "code",
        "colab": {
          "base_uri": "https://localhost:8080/",
          "height": 419
        },
        "outputId": "dea3856e-ebf9-4ae1-b2db-06b8f505d4f3"
      },
      "source": [
        "df"
      ],
      "execution_count": null,
      "outputs": [
        {
          "output_type": "execute_result",
          "data": {
            "text/html": [
              "<div>\n",
              "<style scoped>\n",
              "    .dataframe tbody tr th:only-of-type {\n",
              "        vertical-align: middle;\n",
              "    }\n",
              "\n",
              "    .dataframe tbody tr th {\n",
              "        vertical-align: top;\n",
              "    }\n",
              "\n",
              "    .dataframe thead th {\n",
              "        text-align: right;\n",
              "    }\n",
              "</style>\n",
              "<table border=\"1\" class=\"dataframe\">\n",
              "  <thead>\n",
              "    <tr style=\"text-align: right;\">\n",
              "      <th></th>\n",
              "      <th>poster_id</th>\n",
              "      <th>post_text</th>\n",
              "    </tr>\n",
              "  </thead>\n",
              "  <tbody>\n",
              "    <tr>\n",
              "      <th>0</th>\n",
              "      <td>4</td>\n",
              "      <td>Соседи!\\r\\n\\r\\nПо требованиям пожарной безопас...</td>\n",
              "    </tr>\n",
              "    <tr>\n",
              "      <th>1</th>\n",
              "      <td>3</td>\n",
              "      <td>А кто [i:1u1f2wcr]конкретно[/i:1u1f2wcr] требу...</td>\n",
              "    </tr>\n",
              "    <tr>\n",
              "      <th>2</th>\n",
              "      <td>4</td>\n",
              "      <td>Боря!\\r\\n\\r\\nА ты разве не убедился, что пожар...</td>\n",
              "    </tr>\n",
              "    <tr>\n",
              "      <th>3</th>\n",
              "      <td>31</td>\n",
              "      <td>Борис, ты не прав!!!!! - все время хотел по Ел...</td>\n",
              "    </tr>\n",
              "    <tr>\n",
              "      <th>4</th>\n",
              "      <td>4</td>\n",
              "      <td>[quote=&amp;quot;Борис&amp;quot;:bq9cro1y][quote=&amp;quot...</td>\n",
              "    </tr>\n",
              "    <tr>\n",
              "      <th>...</th>\n",
              "      <td>...</td>\n",
              "      <td>...</td>\n",
              "    </tr>\n",
              "    <tr>\n",
              "      <th>15046</th>\n",
              "      <td>1126</td>\n",
              "      <td>[quote=&amp;quot;aha&amp;quot;:oael7lyd].... всех влад...</td>\n",
              "    </tr>\n",
              "    <tr>\n",
              "      <th>15047</th>\n",
              "      <td>1126</td>\n",
              "      <td>[quote=&amp;quot;aha&amp;quot;:1dkqisx1]Я не сильна в ...</td>\n",
              "    </tr>\n",
              "    <tr>\n",
              "      <th>15048</th>\n",
              "      <td>1126</td>\n",
              "      <td>[quote=&amp;quot;484&amp;quot;:6xaxs5qe]Андрей, добрый...</td>\n",
              "    </tr>\n",
              "    <tr>\n",
              "      <th>15049</th>\n",
              "      <td>1126</td>\n",
              "      <td>Какая наивность в наших реалиях: &lt;!-- m --&gt;&lt;a ...</td>\n",
              "    </tr>\n",
              "    <tr>\n",
              "      <th>15050</th>\n",
              "      <td>1126</td>\n",
              "      <td>14 августа с 10 до 17 плановое отключение лини...</td>\n",
              "    </tr>\n",
              "  </tbody>\n",
              "</table>\n",
              "<p>15051 rows × 2 columns</p>\n",
              "</div>"
            ],
            "text/plain": [
              "       poster_id                                          post_text\n",
              "0              4  Соседи!\\r\\n\\r\\nПо требованиям пожарной безопас...\n",
              "1              3  А кто [i:1u1f2wcr]конкретно[/i:1u1f2wcr] требу...\n",
              "2              4  Боря!\\r\\n\\r\\nА ты разве не убедился, что пожар...\n",
              "3             31  Борис, ты не прав!!!!! - все время хотел по Ел...\n",
              "4              4  [quote=&quot;Борис&quot;:bq9cro1y][quote=&quot...\n",
              "...          ...                                                ...\n",
              "15046       1126  [quote=&quot;aha&quot;:oael7lyd].... всех влад...\n",
              "15047       1126  [quote=&quot;aha&quot;:1dkqisx1]Я не сильна в ...\n",
              "15048       1126  [quote=&quot;484&quot;:6xaxs5qe]Андрей, добрый...\n",
              "15049       1126  Какая наивность в наших реалиях: <!-- m --><a ...\n",
              "15050       1126  14 августа с 10 до 17 плановое отключение лини...\n",
              "\n",
              "[15051 rows x 2 columns]"
            ]
          },
          "metadata": {
            "tags": []
          },
          "execution_count": 61
        }
      ]
    },
    {
      "cell_type": "code",
      "metadata": {
        "id": "mTnshJHsyekK",
        "colab_type": "code",
        "colab": {
          "base_uri": "https://localhost:8080/",
          "height": 34
        },
        "outputId": "e840b8fb-1ab2-48d7-e2e9-682a18f94308"
      },
      "source": [
        "data.shape"
      ],
      "execution_count": null,
      "outputs": [
        {
          "output_type": "execute_result",
          "data": {
            "text/plain": [
              "(15051, 2)"
            ]
          },
          "metadata": {
            "tags": []
          },
          "execution_count": 62
        }
      ]
    },
    {
      "cell_type": "code",
      "metadata": {
        "id": "nPY6kweLzp5X",
        "colab_type": "code",
        "colab": {}
      },
      "source": [
        "np.random.shuffle(data)"
      ],
      "execution_count": null,
      "outputs": []
    },
    {
      "cell_type": "code",
      "metadata": {
        "id": "Y_ILK-jmzvOS",
        "colab_type": "code",
        "colab": {
          "base_uri": "https://localhost:8080/",
          "height": 275
        },
        "outputId": "274c9f4c-61e7-4fb3-e848-00d0819c08c1"
      },
      "source": [
        "data"
      ],
      "execution_count": null,
      "outputs": [
        {
          "output_type": "execute_result",
          "data": {
            "text/plain": [
              "array([[3,\n",
              "        '[quote=&quot;Смирнов Андрей Юрьевич&quot;:f1vckpl1]\\n\\nТеперь вопрос к уважаемому Председателю СНТ.[/quote:f1vckpl1]\\r\\n\\r\\nОбращаюсь ко всем новичкам! Соблюдайте тематику форума!\\r\\nЗдесь задаются вопросы Лидеру. Имеются еще 2 форума - Газификация и &quot;вопрсы правлению&quot;. Там я отвечу на все вопросы. Советуемся тоже там. Не засоряйте диалог с Лидером!'],\n",
              "       [1,\n",
              "        '[quote=&quot;Bershik&quot;:lia0jmqa]Всем добрый день! <!-- s:) --><img src=\"{SMILIES_PATH}/smile.gif\" alt=\":)\" title=\"Smile\" /><!-- s:) -->\\nВставляю свои 5 копеек \\n<!-- m --><a class=\"postlink\" href=\"http://foto.rambler.ru/users/snt-tvoidom/photos/?order=-uploaded\">http://foto.rambler.ru/users/snt-tvoido ... =-uploaded</a><!-- m -->\\n\\nP1011905 кому занести тарелочки?\\n\\nЧтоб выложить фотки, пришлось зарегистрироваться на рамблере\\n<!-- e --><a href=\"mailto:snt-tvoidom@rambler.ru\">snt-tvoidom@rambler.ru</a><!-- e --> пароль Gerebec можно редактировать\\n\\nНадо бы придумать, что-то общее, где можно было бы хранить все фотоотчеты, а то разбредутся они в инете.[/quote:lia0jmqa]\\r\\nАндрюш, ну ты герой!!! Пройти регистрацию на Рамблере, чтобы положить фото ...  <!-- s:t26: --><img src=\"{SMILIES_PATH}/_smile_t26.gif\" alt=\":t26:\" title=\"t26\" /><!-- s:t26: --> \\r\\nТы просто мастер фотопортретов и крупных планов! Серьёзно! <!-- s:Rose: --><img src=\"{SMILIES_PATH}/give_rose.gif\" alt=\":Rose:\" title=\"Rose\" /><!-- s:Rose: -->'],\n",
              "       [989,\n",
              "        '[quote=&quot;Bershik&quot;:1zjrtanj]\\nПочему нельзя сделать проще.\\n\\nСобрать со всех членов СНТ доверенности на то, что они на все вопросы, которые обсуждаются на общественном собрании – голосуют воздержался.\\nПочему нельзя пойти таким путем???[/quote:1zjrtanj]\\r\\nПотому что:\\r\\n1. Это не предусмотрено законом. А, следовательно, решения такого ОС могут быть легко опротестованы несогласными в суде.\\r\\n2. Собрание Уполномоченных - это удобно и отвечает всем нормам демократического принятия решений. Если кто-то вдруг по какому-то вопросу не хочет делегировать решение своему уполномоченному, он простым присутствием на собрании забирает свой голос себе. Если отсутствует - отдает Уполномоченному.\\r\\n3. Как Вы себе представляете получение таких &quot;доверенностей&quot;? По закону они должны быть заверены либо нотариусом, либо председателем Правления СНТ. Т.е.процедура непростая, а легитимности не гарантирует.'],\n",
              "       ...,\n",
              "       [947,\n",
              "        '[quote=&quot;КиС&quot;:2bo0yq6x]\\n\\n[quote=&quot;Олег&quot;:2bo0yq6x]но при ситуации как сейчас они уже и после получения св-ва не будут вступать [/quote:2bo0yq6x]\\n<!-- s:( --><img src=\"{SMILIES_PATH}/sad.gif\" alt=\":(\" title=\"Sad\" /><!-- s:( -->  Поэтому я и предлагала - наравне с законом что-то делать и по понятиям (хотя, наверно, и не хорошо это)...\\n\\n= Светлана =[/quote:2bo0yq6x]\\r\\n\\r\\nА по понятиям - это как?\\r\\n\\r\\nС паяльником? Или внешний вид портить?\\r\\nИли дома с машинами поджигать?\\r\\n\\r\\nДавайте не возвращаться в девяностые годы...'],\n",
              "       [3,\n",
              "        'А разве я предлагал [i:whsyv6mi]ждать[/i:whsyv6mi] Лидер?\\r\\nМоя мысль была иная - пост без забора малоэффективен. От пеших воров он не защитит. Я предлагаю правлению выяснить, будет ли забор или это очередная лапша нам на уши, аналогичная заявлению что с 13 октября начнутся работы по ЛЭП. Скорее всего Михеева ничего делать и не собирается, ни забор, ни ЛЭП и просто тянет резину.\\r\\nЕсли так, то надо делать ЛЭП и забор самим, закладывать расходы в смету и скидываться всем СНТ.'],\n",
              "       [3,\n",
              "        '[quote=&quot;Череп&quot;:p6j4b8iq]\\nИнтересный Вы человек, Борис. Сами спрашиваете, а когда получаете ответ, то говорите, что это старо.\\nЗачем тогда было спрашивать, тратить мое время?[/quote:p6j4b8iq]\\r\\n\\r\\nНа самом деле вы не ответили на мой вопрос. Откуда вы взяли числа 500 и 450 - от балды? Сколько у нас участков (с учетом 3-й очереди) мне например неизвестно. И не надо думать что участки есть только одинарные (450) и двойные(50) Все гораздо сложнее и запутаннее. Сегодня участка 2, завтра из них сделали 1 или 3. На что теперь во всех договорах доли переписывать?\\r\\n\\r\\nЗатем. Вы все говорите о какой то абстрактной &quot;инфраструктуре&quot;.\\r\\nНачать с того, что ни дорог, ни электросети у нас формально нет, хотя и создавались они на наши деньги. О каких долях можно говорить?']],\n",
              "      dtype=object)"
            ]
          },
          "metadata": {
            "tags": []
          },
          "execution_count": 64
        }
      ]
    },
    {
      "cell_type": "markdown",
      "metadata": {
        "id": "1LupRc1tHpec",
        "colab_type": "text"
      },
      "source": [
        "В постах широко используется цитирование друг друга, имеются вложенные цитаты. Это будет затруднять идентификацию автора. Для удаления цитат из постов написал такую функцию."
      ]
    },
    {
      "cell_type": "code",
      "metadata": {
        "id": "ZPBRBN6Zz9qh",
        "colab_type": "code",
        "colab": {}
      },
      "source": [
        "# Функция для удаления цитирований (возможно вложенных) из постов\n",
        "def cutQuotes(str):\n",
        "  level = 0 # уровень вложенности цитирования. Увеличивается на 1 после тега [quote....], уменьшается после [/quote....]\n",
        "  state = 0 # 1 - курсор внутри тега [quote....], 2 - внутри тега [/quote....], 0 - вне тегов.\n",
        "  output = []\n",
        "\n",
        "  while len(str) > 0:\n",
        "    if state == 0:\n",
        "      i = str.find('[quote')\n",
        "      j = str.find('[/quote')\n",
        "      if i < 0:\n",
        "        if j < 0:\n",
        "          if level == 0:\n",
        "            output.append(str)\n",
        "            break\n",
        "          else:\n",
        "            # print(level, state, str, output)\n",
        "            raise Exception ('4')\n",
        "        else: # j > 0\n",
        "          str = str[j:]\n",
        "          state = 2\n",
        "      else:  # i > 0\n",
        "        if j < 0:\n",
        "          # print(level, state, str, output)\n",
        "          raise Exception('5')\n",
        "        else: # i > 0, j > 0\n",
        "          if i > j:\n",
        "            state = 2\n",
        "            str = str[j:]\n",
        "          else:\n",
        "            if level == 0:\n",
        "              output.append(str[:i])\n",
        "            level += 1\n",
        "            state = 1\n",
        "            str = str[i:]\n",
        "    elif state == 1:\n",
        "      i = str.find(']')\n",
        "      if i < 0:\n",
        "        # print(level, state, str, output)\n",
        "        raise Exception('Invalid format 1')\n",
        "      else:\n",
        "        str = str[i + 1:]\n",
        "        state = 0\n",
        "    else: # state == 2\n",
        "      i = str.find(']')\n",
        "      if i < 0:\n",
        "        # print(level, state, str, output)\n",
        "        raise Exception('Invalid format 2')\n",
        "      else:\n",
        "        str = str[i + 1:]\n",
        "        level -= 1\n",
        "        state = 0\n",
        "  return ''.join(output)"
      ],
      "execution_count": null,
      "outputs": []
    },
    {
      "cell_type": "code",
      "metadata": {
        "id": "dJJTwE7eEJ6G",
        "colab_type": "code",
        "colab": {
          "base_uri": "https://localhost:8080/",
          "height": 34
        },
        "outputId": "f6658c9b-ba02-42e2-e880-1eb6c0ec2982"
      },
      "source": [
        "# Обрабатываем все посты - удаляем цитирование и сливаем все тексты в один список texts\n",
        "# для последующего скармливания токенайзеру.\n",
        "texts = []\n",
        "uids = [] \n",
        "errCount = 0\n",
        "for datum in data:\n",
        "  try:\n",
        "    datum[1] = cutQuotes(datum[1])\n",
        "  except:\n",
        "    errCount += 1\n",
        "  texts.append(datum[1])\n",
        "  uids.append(datum[0])\n",
        "print(f\"Ошибок при удалении цитирования - {errCount}\")"
      ],
      "execution_count": null,
      "outputs": [
        {
          "output_type": "stream",
          "text": [
            "Ошибок при удалении цитирования - 15\n"
          ],
          "name": "stdout"
        }
      ]
    },
    {
      "cell_type": "code",
      "metadata": {
        "id": "8o6l54cNF55m",
        "colab_type": "code",
        "colab": {
          "base_uri": "https://localhost:8080/",
          "height": 34
        },
        "outputId": "4e5e8556-37d9-40ad-91ba-5d8062d27c86"
      },
      "source": [
        "len(texts)"
      ],
      "execution_count": null,
      "outputs": [
        {
          "output_type": "execute_result",
          "data": {
            "text/plain": [
              "15051"
            ]
          },
          "metadata": {
            "tags": []
          },
          "execution_count": 68
        }
      ]
    },
    {
      "cell_type": "code",
      "metadata": {
        "id": "xz74yr5u2taZ",
        "colab_type": "code",
        "colab": {
          "base_uri": "https://localhost:8080/",
          "height": 419
        },
        "outputId": "f2da2850-97b4-45f2-e582-ea18dd1554e4"
      },
      "source": [
        "df = pd.DataFrame(data, columns=['uid', 'text'])\n",
        "df"
      ],
      "execution_count": null,
      "outputs": [
        {
          "output_type": "execute_result",
          "data": {
            "text/html": [
              "<div>\n",
              "<style scoped>\n",
              "    .dataframe tbody tr th:only-of-type {\n",
              "        vertical-align: middle;\n",
              "    }\n",
              "\n",
              "    .dataframe tbody tr th {\n",
              "        vertical-align: top;\n",
              "    }\n",
              "\n",
              "    .dataframe thead th {\n",
              "        text-align: right;\n",
              "    }\n",
              "</style>\n",
              "<table border=\"1\" class=\"dataframe\">\n",
              "  <thead>\n",
              "    <tr style=\"text-align: right;\">\n",
              "      <th></th>\n",
              "      <th>uid</th>\n",
              "      <th>text</th>\n",
              "    </tr>\n",
              "  </thead>\n",
              "  <tbody>\n",
              "    <tr>\n",
              "      <th>0</th>\n",
              "      <td>3</td>\n",
              "      <td>\\r\\n\\r\\nОбращаюсь ко всем новичкам! Соблюдайте...</td>\n",
              "    </tr>\n",
              "    <tr>\n",
              "      <th>1</th>\n",
              "      <td>1</td>\n",
              "      <td>\\r\\nАндрюш, ну ты герой!!! Пройти регистрацию ...</td>\n",
              "    </tr>\n",
              "    <tr>\n",
              "      <th>2</th>\n",
              "      <td>989</td>\n",
              "      <td>\\r\\nПотому что:\\r\\n1. Это не предусмотрено зак...</td>\n",
              "    </tr>\n",
              "    <tr>\n",
              "      <th>3</th>\n",
              "      <td>4</td>\n",
              "      <td>\\r\\n\\r\\nЗаметано!\\r\\n\\r\\nАналогично и я - НЕ Б...</td>\n",
              "    </tr>\n",
              "    <tr>\n",
              "      <th>4</th>\n",
              "      <td>61</td>\n",
              "      <td>\\r\\nДобавлю от себя.\\r\\nМеня в школе учили: [i...</td>\n",
              "    </tr>\n",
              "    <tr>\n",
              "      <th>...</th>\n",
              "      <td>...</td>\n",
              "      <td>...</td>\n",
              "    </tr>\n",
              "    <tr>\n",
              "      <th>15046</th>\n",
              "      <td>31</td>\n",
              "      <td>Вспомнил!\\r\\n\\r\\nпервые слова &amp;quot;доблестног...</td>\n",
              "    </tr>\n",
              "    <tr>\n",
              "      <th>15047</th>\n",
              "      <td>937</td>\n",
              "      <td>\\nЭтож бубльгум детка, сразу бы сказали что ну...</td>\n",
              "    </tr>\n",
              "    <tr>\n",
              "      <th>15048</th>\n",
              "      <td>947</td>\n",
              "      <td>\\r\\n\\r\\nА по понятиям - это как?\\r\\n\\r\\nС паял...</td>\n",
              "    </tr>\n",
              "    <tr>\n",
              "      <th>15049</th>\n",
              "      <td>3</td>\n",
              "      <td>А разве я предлагал [i:whsyv6mi]ждать[/i:whsyv...</td>\n",
              "    </tr>\n",
              "    <tr>\n",
              "      <th>15050</th>\n",
              "      <td>3</td>\n",
              "      <td>\\r\\n\\r\\nНа самом деле вы не ответили на мой во...</td>\n",
              "    </tr>\n",
              "  </tbody>\n",
              "</table>\n",
              "<p>15051 rows × 2 columns</p>\n",
              "</div>"
            ],
            "text/plain": [
              "       uid                                               text\n",
              "0        3  \\r\\n\\r\\nОбращаюсь ко всем новичкам! Соблюдайте...\n",
              "1        1  \\r\\nАндрюш, ну ты герой!!! Пройти регистрацию ...\n",
              "2      989  \\r\\nПотому что:\\r\\n1. Это не предусмотрено зак...\n",
              "3        4  \\r\\n\\r\\nЗаметано!\\r\\n\\r\\nАналогично и я - НЕ Б...\n",
              "4       61  \\r\\nДобавлю от себя.\\r\\nМеня в школе учили: [i...\n",
              "...    ...                                                ...\n",
              "15046   31  Вспомнил!\\r\\n\\r\\nпервые слова &quot;доблестног...\n",
              "15047  937  \\nЭтож бубльгум детка, сразу бы сказали что ну...\n",
              "15048  947  \\r\\n\\r\\nА по понятиям - это как?\\r\\n\\r\\nС паял...\n",
              "15049    3  А разве я предлагал [i:whsyv6mi]ждать[/i:whsyv...\n",
              "15050    3  \\r\\n\\r\\nНа самом деле вы не ответили на мой во...\n",
              "\n",
              "[15051 rows x 2 columns]"
            ]
          },
          "metadata": {
            "tags": []
          },
          "execution_count": 73
        }
      ]
    },
    {
      "cell_type": "code",
      "metadata": {
        "id": "aawTYBCu3F9p",
        "colab_type": "code",
        "colab": {
          "base_uri": "https://localhost:8080/",
          "height": 51
        },
        "outputId": "fa0c683a-7d24-4377-a5eb-3ef7b98d2559"
      },
      "source": [
        "texts = df['text'].values #Извлекаем данные всех текстов из столбца text\n",
        "classes = list(df['uid'].values) #Извлекаем соответствующие им значения классов (лейблов) столбца text\n",
        "maxWordsCount = 60000 #Зададим максимальное количество слов/индексов, учитываемое при обучении текстов\n",
        "print(df['uid'].unique()) #Выводим все уникальные значения классов\n",
        "nClasses = df['uid'].nunique()  #Задаём количество классов, обращаясь к столбцу category и оставляя уникальные значения\n",
        "print(nClasses) #Посмотрим на количество классов"
      ],
      "execution_count": null,
      "outputs": [
        {
          "output_type": "stream",
          "text": [
            "[3 1 989 4 61 947 937 700 1126 31]\n",
            "10\n"
          ],
          "name": "stdout"
        }
      ]
    },
    {
      "cell_type": "code",
      "metadata": {
        "id": "Jm3shXniL6I7",
        "colab_type": "code",
        "colab": {
          "base_uri": "https://localhost:8080/",
          "height": 68
        },
        "outputId": "174b03bb-12dc-4f39-fc03-238ef05ec1fe"
      },
      "source": [
        "#Преобразовываем категории в векторы\n",
        "encoder = LabelEncoder() # Вызываем метод кодирования тестовых лейблов из библиотеки sklearn\n",
        "encoder.fit(classes) # Подгружаем в него категории из нашей базы\n",
        "classesEncoded = encoder.transform(classes) # Кодируем категории\n",
        "print(encoder.classes_)\n",
        "print(classesEncoded.shape)\n",
        "print(classesEncoded[:30])"
      ],
      "execution_count": null,
      "outputs": [
        {
          "output_type": "stream",
          "text": [
            "[   1    3    4   31   61  700  937  947  989 1126]\n",
            "(15051,)\n",
            "[1 0 8 2 4 7 6 8 1 4 4 1 1 5 6 8 9 6 7 7 0 2 3 4 5 1 9 6 9 4]\n"
          ],
          "name": "stdout"
        }
      ]
    },
    {
      "cell_type": "code",
      "metadata": {
        "id": "GWoHWbaeL5rG",
        "colab_type": "code",
        "colab": {
          "base_uri": "https://localhost:8080/",
          "height": 34
        },
        "outputId": "abf1483b-63c3-4b6b-de60-247cb84464e5"
      },
      "source": [
        "cur_time = time.time() # Засекаем текущее время\n",
        "maxWordsCount = 20000 # Определяем максимальное количество слов/индексов, учитываемое при обучении текстов\n",
        "tokenizer = Tokenizer(num_words=maxWordsCount, filters='!\"#$%&()*+,-–—./…:;<=>?@[\\\\]^_`{|}~«»\\t\\n\\xa0\\ufeff', lower=True, split=' ', oov_token='unknown', char_level=False)\n",
        "tokenizer.fit_on_texts(texts) # \"Скармливаем\" наши тексты, т.е. даём в обработку методу, который соберет словарь частотности\n",
        "items = list(tokenizer.word_index.items()) # Вытаскиваем индексы слов для просмотра\n",
        "print('Время обработки: ', round(time.time() - cur_time, 2), 'c', sep='')"
      ],
      "execution_count": null,
      "outputs": [
        {
          "output_type": "stream",
          "text": [
            "Время обработки: 2.0c\n"
          ],
          "name": "stdout"
        }
      ]
    },
    {
      "cell_type": "code",
      "metadata": {
        "id": "6K5zBQLvL58E",
        "colab_type": "code",
        "colab": {
          "base_uri": "https://localhost:8080/",
          "height": 34
        },
        "outputId": "fc219b02-fef0-4bf7-8d10-a8eec7ac7ab7"
      },
      "source": [
        "len(items)"
      ],
      "execution_count": null,
      "outputs": [
        {
          "output_type": "execute_result",
          "data": {
            "text/plain": [
              "77965"
            ]
          },
          "metadata": {
            "tags": []
          },
          "execution_count": 80
        }
      ]
    },
    {
      "cell_type": "code",
      "metadata": {
        "id": "M7h9leyO4hZo",
        "colab_type": "code",
        "colab": {
          "base_uri": "https://localhost:8080/",
          "height": 51
        },
        "outputId": "ab89c69d-3db7-4cc8-9a9d-cc395c89dd87"
      },
      "source": [
        "#Формируем матрицу индексов по принципу Bag of Words\n",
        "xAll = tokenizer.texts_to_matrix(texts) #Каждое слово из текста нашло свой индекс в векторе длиной maxWordsCount и отметилось в нем единичкой \n",
        "print(xAll.shape)  #Посмотрим на форму текстов\n",
        "print(xAll[0, :20])#И отдельно на фрагмент начала вектора"
      ],
      "execution_count": null,
      "outputs": [
        {
          "output_type": "stream",
          "text": [
            "(15051, 20000)\n",
            "[0. 0. 1. 1. 0. 1. 1. 0. 1. 1. 0. 1. 0. 0. 0. 0. 0. 0. 0. 1.]\n"
          ],
          "name": "stdout"
        }
      ]
    },
    {
      "cell_type": "code",
      "metadata": {
        "id": "1478-FrYL6WF",
        "colab_type": "code",
        "colab": {
          "base_uri": "https://localhost:8080/",
          "height": 51
        },
        "outputId": "638ea529-ff8b-4647-e981-c1c44576590b"
      },
      "source": [
        "yAll = utils.to_categorical(classesEncoded, nClasses) # И выводим каждый лейбл в виде вектора длиной 22, с 1кой в позиции соответствующего класса и нулями\n",
        "print(yAll.shape) # Посмотрим на форму лейблов категорий\n",
        "print(yAll[0]) # И отдельно на первую строку"
      ],
      "execution_count": null,
      "outputs": [
        {
          "output_type": "stream",
          "text": [
            "(15051, 10)\n",
            "[0. 1. 0. 0. 0. 0. 0. 0. 0. 0.]\n"
          ],
          "name": "stdout"
        }
      ]
    },
    {
      "cell_type": "code",
      "metadata": {
        "id": "ysRNgB2Ux65z",
        "colab_type": "code",
        "colab": {
          "base_uri": "https://localhost:8080/",
          "height": 51
        },
        "outputId": "04810681-b61d-47f1-bd0f-4874e9f0735d"
      },
      "source": [
        "# разбиваем все данные на обучающую и тестовую выборки с помощью метода train_test_split из библиотеки sklearn\n",
        "xTrain, xVal, yTrain, yVal = train_test_split(xAll, yAll, test_size=0.2)\n",
        "print(xTrain.shape) #посмотрим на форму текстов из обучающей выборки\n",
        "print(yTrain.shape) #и на форму соответсвующих им классов"
      ],
      "execution_count": null,
      "outputs": [
        {
          "output_type": "stream",
          "text": [
            "(12040, 20000)\n",
            "(12040, 10)\n"
          ],
          "name": "stdout"
        }
      ]
    },
    {
      "cell_type": "code",
      "metadata": {
        "id": "6BNnJDTzx7Gs",
        "colab_type": "code",
        "colab": {
          "base_uri": "https://localhost:8080/",
          "height": 51
        },
        "outputId": "68cf871f-c79d-497a-8ed1-f24835d8c6b4"
      },
      "source": [
        "# для Эмбэддинга представляем текст в виде последовательности индексов слов, каждый из которых затем преобразуем в многомерный вектор\n",
        "Sequences = tokenizer.texts_to_sequences(texts) #разбиваем текст на последовательность индексов\n",
        "npSequences = np.array(Sequences)                #переведём в массив numpy\n",
        "xTrainE, xValE, yTrainE, yValE = train_test_split(npSequences, yAll, test_size=0.2)#сформируем новую форму выборки\n",
        "print(xTrainE.shape) #посмотрим на форму текстов из обучающей выборки\n",
        "print(yTrain.shape)  #и на форму соответствующих им классов"
      ],
      "execution_count": null,
      "outputs": [
        {
          "output_type": "stream",
          "text": [
            "(12040,)\n",
            "(12040, 10)\n"
          ],
          "name": "stdout"
        }
      ]
    },
    {
      "cell_type": "markdown",
      "metadata": {
        "id": "lgpIzxbM5Lt0",
        "colab_type": "text"
      },
      "source": [
        "Вариант с мешком слов"
      ]
    },
    {
      "cell_type": "code",
      "metadata": {
        "id": "VIY_KCZ6x7hB",
        "colab_type": "code",
        "colab": {}
      },
      "source": [
        "model01 = Sequential()\n",
        "model01.add(Dense(100, input_dim=maxWordsCount, activation=\"relu\"))\n",
        "model01.add(Dropout(0.4))\n",
        "\n",
        "model01.add(Dense(100, activation='relu'))\n",
        "model01.add(Dropout(0.4))\n",
        "\n",
        "model01.add(Dense(100, activation='relu'))\n",
        "model01.add(Dropout(0.4))\n",
        "\n",
        "model01.add(Dense(nClasses, activation='softmax'))\n",
        "\n",
        "model01.compile(optimizer='adam', \n",
        "              loss='categorical_crossentropy', \n",
        "              metrics=['accuracy'])"
      ],
      "execution_count": null,
      "outputs": []
    },
    {
      "cell_type": "code",
      "metadata": {
        "id": "CrvFKGdL5m4a",
        "colab_type": "code",
        "colab": {
          "base_uri": "https://localhost:8080/",
          "height": 998
        },
        "outputId": "44e92f93-f234-4c04-fc43-efcc02ca739f"
      },
      "source": [
        "history = model01.fit(xTrain, \n",
        "                    yTrain, \n",
        "                    epochs=20,\n",
        "                    batch_size=128,\n",
        "                    validation_data=(xVal, yVal))\n",
        "\n",
        "plt.plot(history.history['accuracy'], \n",
        "         label='Доля верных ответов на обучающем наборе')\n",
        "plt.plot(history.history['val_accuracy'], \n",
        "         label='Доля верных ответов на проверочном наборе')\n",
        "plt.xlabel('Эпоха обучения')\n",
        "plt.ylabel('Доля верных ответов')\n",
        "plt.legend()\n",
        "plt.show()"
      ],
      "execution_count": null,
      "outputs": [
        {
          "output_type": "stream",
          "text": [
            "Epoch 1/20\n",
            "95/95 [==============================] - ETA: 0s - loss: 2.0024 - accuracy: 0.2996WARNING:tensorflow:5 out of the last 187 calls to <function Model.make_test_function.<locals>.test_function at 0x7fedf3d736a8> triggered tf.function retracing. Tracing is expensive and the excessive number of tracings could be due to (1) creating @tf.function repeatedly in a loop, (2) passing tensors with different shapes, (3) passing Python objects instead of tensors. For (1), please define your @tf.function outside of the loop. For (2), @tf.function has experimental_relax_shapes=True option that relaxes argument shapes that can avoid unnecessary retracing. For (3), please refer to https://www.tensorflow.org/tutorials/customization/performance#python_or_tensor_args and https://www.tensorflow.org/api_docs/python/tf/function for  more details.\n",
            "95/95 [==============================] - 4s 45ms/step - loss: 2.0024 - accuracy: 0.2996 - val_loss: 1.7061 - val_accuracy: 0.4530\n",
            "Epoch 2/20\n",
            "95/95 [==============================] - 4s 41ms/step - loss: 1.4661 - accuracy: 0.5145 - val_loss: 1.3431 - val_accuracy: 0.5825\n",
            "Epoch 3/20\n",
            "95/95 [==============================] - 4s 42ms/step - loss: 1.0486 - accuracy: 0.6565 - val_loss: 1.2630 - val_accuracy: 0.6383\n",
            "Epoch 4/20\n",
            "95/95 [==============================] - 4s 41ms/step - loss: 0.7289 - accuracy: 0.7640 - val_loss: 1.2937 - val_accuracy: 0.6583\n",
            "Epoch 5/20\n",
            "95/95 [==============================] - 4s 41ms/step - loss: 0.5326 - accuracy: 0.8365 - val_loss: 1.3074 - val_accuracy: 0.6676\n",
            "Epoch 6/20\n",
            "95/95 [==============================] - 4s 40ms/step - loss: 0.3978 - accuracy: 0.8790 - val_loss: 1.4306 - val_accuracy: 0.6672\n",
            "Epoch 7/20\n",
            "95/95 [==============================] - 4s 41ms/step - loss: 0.3106 - accuracy: 0.9092 - val_loss: 1.5394 - val_accuracy: 0.6682\n",
            "Epoch 8/20\n",
            "95/95 [==============================] - 4s 40ms/step - loss: 0.2492 - accuracy: 0.9297 - val_loss: 1.5738 - val_accuracy: 0.6715\n",
            "Epoch 9/20\n",
            "95/95 [==============================] - 4s 40ms/step - loss: 0.2158 - accuracy: 0.9373 - val_loss: 1.6158 - val_accuracy: 0.6636\n",
            "Epoch 10/20\n",
            "95/95 [==============================] - 4s 40ms/step - loss: 0.1782 - accuracy: 0.9475 - val_loss: 1.7595 - val_accuracy: 0.6639\n",
            "Epoch 11/20\n",
            "95/95 [==============================] - 4s 41ms/step - loss: 0.1618 - accuracy: 0.9547 - val_loss: 1.7862 - val_accuracy: 0.6695\n",
            "Epoch 12/20\n",
            "95/95 [==============================] - 4s 41ms/step - loss: 0.1528 - accuracy: 0.9590 - val_loss: 1.8411 - val_accuracy: 0.6656\n",
            "Epoch 13/20\n",
            "95/95 [==============================] - 4s 41ms/step - loss: 0.1384 - accuracy: 0.9630 - val_loss: 1.8661 - val_accuracy: 0.6709\n",
            "Epoch 14/20\n",
            "95/95 [==============================] - 4s 41ms/step - loss: 0.1234 - accuracy: 0.9649 - val_loss: 1.9521 - val_accuracy: 0.6642\n",
            "Epoch 15/20\n",
            "95/95 [==============================] - 4s 41ms/step - loss: 0.1134 - accuracy: 0.9690 - val_loss: 2.0485 - val_accuracy: 0.6649\n",
            "Epoch 16/20\n",
            "95/95 [==============================] - 4s 41ms/step - loss: 0.1002 - accuracy: 0.9721 - val_loss: 2.0573 - val_accuracy: 0.6649\n",
            "Epoch 17/20\n",
            "95/95 [==============================] - 4s 40ms/step - loss: 0.1092 - accuracy: 0.9717 - val_loss: 2.1022 - val_accuracy: 0.6702\n",
            "Epoch 18/20\n",
            "95/95 [==============================] - 4s 41ms/step - loss: 0.1127 - accuracy: 0.9718 - val_loss: 2.0786 - val_accuracy: 0.6573\n",
            "Epoch 19/20\n",
            "95/95 [==============================] - 4s 41ms/step - loss: 0.1055 - accuracy: 0.9703 - val_loss: 2.0816 - val_accuracy: 0.6573\n",
            "Epoch 20/20\n",
            "95/95 [==============================] - 4s 41ms/step - loss: 0.0914 - accuracy: 0.9751 - val_loss: 2.1480 - val_accuracy: 0.6626\n"
          ],
          "name": "stdout"
        },
        {
          "output_type": "display_data",
          "data": {
            "image/png": "[encoded data removed]",
            "text/plain": [
              "<Figure size 432x288 with 1 Axes>"
            ]
          },
          "metadata": {
            "tags": [],
            "needs_background": "light"
          }
        }
      ]
    },
    {
      "cell_type": "markdown",
      "metadata": {
        "id": "3PepoNZ56Hhe",
        "colab_type": "text"
      },
      "source": [
        "Вариант Embedding"
      ]
    },
    {
      "cell_type": "code",
      "metadata": {
        "id": "hU6uL9RWx7td",
        "colab_type": "code",
        "colab": {
          "base_uri": "https://localhost:8080/",
          "height": 265
        },
        "outputId": "37fa480f-c444-487b-aab0-5471c8417c0d"
      },
      "source": [
        "# Построим гистограмму длин постов чтобы определиться с размером maxlen\n",
        "lenXTrainE = [len(x) for x in xTrainE]\n",
        "plt.hist(lenXTrainE, 100)\n",
        "plt.show()"
      ],
      "execution_count": null,
      "outputs": [
        {
          "output_type": "display_data",
          "data": {
            "image/png": "[encoded data removed]",
            "text/plain": [
              "<Figure size 432x288 with 1 Axes>"
            ]
          },
          "metadata": {
            "tags": [],
            "needs_background": "light"
          }
        }
      ]
    },
    {
      "cell_type": "code",
      "metadata": {
        "id": "bnU_LAT_x7XE",
        "colab_type": "code",
        "colab": {}
      },
      "source": [
        "maxlen = 400\n",
        "# Дополняем короткие посты до длины maxlen\n",
        "xTrainE = pad_sequences(xTrainE, maxlen=maxlen) \n",
        "xValE = pad_sequences(xValE, maxlen=maxlen) "
      ],
      "execution_count": null,
      "outputs": []
    },
    {
      "cell_type": "code",
      "metadata": {
        "id": "p1_bxwwb7SwH",
        "colab_type": "code",
        "colab": {
          "base_uri": "https://localhost:8080/",
          "height": 782
        },
        "outputId": "aa054710-39c8-4c82-9ab6-e237afb5b8b3"
      },
      "source": [
        "# Как работает заполнение\n",
        "xTrainE[1]"
      ],
      "execution_count": null,
      "outputs": [
        {
          "output_type": "execute_result",
          "data": {
            "text/plain": [
              "array([    0,     0,     0,     0,     0,     0,     0,     0,     0,\n",
              "           0,     0,     0,     0,     0,     0,     0,     0,     0,\n",
              "           0,     0,     0,     0,     0,     0,     0,     0,     0,\n",
              "           0,     0,     0,     0,     0,     0,     0,     0,     0,\n",
              "           0,     0,     0,     0,     0,     0,     0,     0,     0,\n",
              "           0,     0,     0,     0,     0,     0,     0,     0,     0,\n",
              "           0,     0,     0,     0,     0,     0,     0,     0,     0,\n",
              "           0,     0,     0,     0,     0,     0,     0,     0,     0,\n",
              "           0,     0,     0,     0,     0,     0,     0,     0,     0,\n",
              "           0,     0,     0,     0,     0,     0,     0,     0,     0,\n",
              "           0,     0,     0,     0,     0,     0,     0,     0,     0,\n",
              "           0,     0,     0,     0,     0,     0,     0,     0,     0,\n",
              "           0,     0,     0,     0,     0,     0,     0,     0,     0,\n",
              "           0,     0,     0,     0,     0,     0,     0,     0,     0,\n",
              "           0,     0,     0,     0,     0,     0,     0,     0,     0,\n",
              "           0,     0,     0,     0,     0,     0,     0,     0,     0,\n",
              "           0,     0,     0,     0,     0,     0,     0,     0,     0,\n",
              "           0,     0,     0,     0,     0,     0,     0,     0,     0,\n",
              "           0,     0,     0,     0,     0,     0,     0,     0,     0,\n",
              "           0,     0,     0,     0,     0,     0,     0,     0,     0,\n",
              "           0,     0,     0,     0,     0,     0,     0,     0,     0,\n",
              "           0,     0,     0,     0,     0,     0,     0,     0,     0,\n",
              "           0,     0,     0,     0,     0,     0,     0,     0,     0,\n",
              "           0,     0,     0,     0,     0,     0,     0,     0,     0,\n",
              "           0,     0,     0,     0,     0,     0,     0,     0,     0,\n",
              "           0,     0,     0,     0,     0,     0,     0,     0,     0,\n",
              "           0,     0,     0,     0,     0,     0,     0,     0,     0,\n",
              "           0,     0,     0,     0,     0,     0,     0,     0,     0,\n",
              "           0,     0,     0,     0,     0,     0,     0,     0,   942,\n",
              "         220,    13,   240,   158,    23,    87,     5,    27,     6,\n",
              "         345,  2806,   189,    87,  5864,   251,   487,  1235,  4372,\n",
              "          12,  1365,  1004,    23,    35, 18687,  1176,     3,     5,\n",
              "         517,   971,   314,  1671,    16,   189,   971,  4881,  2442,\n",
              "         487,   502,  1365,  4372,    21,   360,     4,    48,   404,\n",
              "         205,    47,     5,   434,  4027,   227,    59,  3785,  1959,\n",
              "        5141,     6,   345,   181,    11, 16020,   349,   487,  1235,\n",
              "        1303, 11328,   227,    27,     6,   345,  1909,    87,   154,\n",
              "         131,    28,    14,  4024,   237,    82,   851,     3,  8266,\n",
              "          19,     6,    47,   115,   409,   252,    11,   906,   512,\n",
              "           4,   615,     9,  1417,  6392,     3,     5,  4960,   577,\n",
              "        7109,   831,     4,  3444,     6,   590,   345,  2806,   179,\n",
              "         851,   707,   851,  2927,     3,   409, 10839,    22,    95,\n",
              "           7,    45,   133,   990,  1333,   153,   851,    12,  3655,\n",
              "        1322,  3652,   131,    28,    35,   517,  2078,   487,  2456,\n",
              "           3,  5864,   269,  1328], dtype=int32)"
            ]
          },
          "metadata": {
            "tags": []
          },
          "execution_count": 94
        }
      ]
    },
    {
      "cell_type": "code",
      "metadata": {
        "id": "RYkV2V4R69Jg",
        "colab_type": "code",
        "colab": {}
      },
      "source": [
        "modelE = Sequential()\n",
        "modelE.add(Embedding(maxWordsCount, 10, input_length=maxlen))\n",
        "modelE.add(SpatialDropout1D(0.2))\n",
        "modelE.add(Flatten())\n",
        "modelE.add(BatchNormalization())\n",
        "modelE.add(Dense(64, activation=\"relu\"))\n",
        "modelE.add(Dropout(0.2))\n",
        "modelE.add(BatchNormalization())\n",
        "modelE.add(Dense(nClasses, activation='softmax'))\n",
        "\n",
        "modelE.compile(optimizer='adam', \n",
        "              loss='categorical_crossentropy', \n",
        "              metrics=['accuracy'])"
      ],
      "execution_count": null,
      "outputs": []
    },
    {
      "cell_type": "code",
      "metadata": {
        "id": "7_jbr0Wtx7S7",
        "colab_type": "code",
        "colab": {
          "base_uri": "https://localhost:8080/",
          "height": 789
        },
        "outputId": "a2a70484-5588-4816-9369-6c073c0b7e1f"
      },
      "source": [
        "history = modelE.fit(xTrainE, \n",
        "                    yTrainE, \n",
        "                    epochs=15,\n",
        "                    batch_size=50,\n",
        "                    validation_data=(xValE, yValE))\n",
        "\n",
        "\n",
        "plt.plot(history.history['accuracy'], \n",
        "         label='Доля верных ответов на обучающем наборе')\n",
        "plt.plot(history.history['val_accuracy'], \n",
        "         label='Доля верных ответов на проверочном наборе')\n",
        "plt.xlabel('Эпоха обучения')\n",
        "plt.ylabel('Доля верных ответов')\n",
        "plt.legend()\n",
        "plt.show()"
      ],
      "execution_count": null,
      "outputs": [
        {
          "output_type": "stream",
          "text": [
            "Epoch 1/15\n",
            "241/241 [==============================] - 3s 14ms/step - loss: 2.3207 - accuracy: 0.2297 - val_loss: 2.1204 - val_accuracy: 0.3119\n",
            "Epoch 2/15\n",
            "241/241 [==============================] - 3s 13ms/step - loss: 1.7030 - accuracy: 0.4321 - val_loss: 1.7817 - val_accuracy: 0.4208\n",
            "Epoch 3/15\n",
            "241/241 [==============================] - 3s 13ms/step - loss: 1.1283 - accuracy: 0.6270 - val_loss: 1.6647 - val_accuracy: 0.4494\n",
            "Epoch 4/15\n",
            "241/241 [==============================] - 3s 13ms/step - loss: 0.8396 - accuracy: 0.7306 - val_loss: 1.7155 - val_accuracy: 0.4610\n",
            "Epoch 5/15\n",
            "241/241 [==============================] - 3s 13ms/step - loss: 0.6274 - accuracy: 0.8019 - val_loss: 1.8107 - val_accuracy: 0.4507\n",
            "Epoch 6/15\n",
            "241/241 [==============================] - 3s 13ms/step - loss: 0.4945 - accuracy: 0.8437 - val_loss: 2.0538 - val_accuracy: 0.4537\n",
            "Epoch 7/15\n",
            "241/241 [==============================] - 3s 13ms/step - loss: 0.4141 - accuracy: 0.8694 - val_loss: 2.2479 - val_accuracy: 0.4244\n",
            "Epoch 8/15\n",
            "241/241 [==============================] - 3s 13ms/step - loss: 0.3699 - accuracy: 0.8825 - val_loss: 2.1620 - val_accuracy: 0.4391\n",
            "Epoch 9/15\n",
            "241/241 [==============================] - 3s 13ms/step - loss: 0.3237 - accuracy: 0.8977 - val_loss: 2.2659 - val_accuracy: 0.4258\n",
            "Epoch 10/15\n",
            "241/241 [==============================] - 3s 13ms/step - loss: 0.3031 - accuracy: 0.9019 - val_loss: 2.4054 - val_accuracy: 0.4414\n",
            "Epoch 11/15\n",
            "241/241 [==============================] - 3s 13ms/step - loss: 0.2829 - accuracy: 0.9078 - val_loss: 2.4021 - val_accuracy: 0.4500\n",
            "Epoch 12/15\n",
            "241/241 [==============================] - 3s 13ms/step - loss: 0.2678 - accuracy: 0.9150 - val_loss: 2.4845 - val_accuracy: 0.4420\n",
            "Epoch 13/15\n",
            "241/241 [==============================] - 3s 13ms/step - loss: 0.2460 - accuracy: 0.9233 - val_loss: 2.5112 - val_accuracy: 0.4384\n",
            "Epoch 14/15\n",
            "241/241 [==============================] - 3s 13ms/step - loss: 0.2348 - accuracy: 0.9257 - val_loss: 2.5322 - val_accuracy: 0.4450\n",
            "Epoch 15/15\n",
            "241/241 [==============================] - 3s 13ms/step - loss: 0.2152 - accuracy: 0.9324 - val_loss: 2.5309 - val_accuracy: 0.4354\n"
          ],
          "name": "stdout"
        },
        {
          "output_type": "display_data",
          "data": {
            "image/png": "[encoded data removed]",
            "text/plain": [
              "<Figure size 432x288 with 1 Axes>"
            ]
          },
          "metadata": {
            "tags": [],
            "needs_background": "light"
          }
        }
      ]
    },
    {
      "cell_type": "markdown",
      "metadata": {
        "id": "tGIS8OE4RE6o",
        "colab_type": "text"
      },
      "source": [
        "**Итоги**\n",
        "\n",
        "Подготовка данных - наиболее сложный и трудоемкий этап работы.\n",
        "Удалось достичь точности распознания автора поста около 67% на \"мешке слов\" и 45% на эмбеддинге. Это немного, но существенно выше выбора наугад (10%). Я не стал подбирать гиперпараметры, поскольку порог точности не был задан. Для повышения точности можно использовать учет морфологии (приведение слов в нормальную форму, сокращение словаря) или методику \"скользящего окна\". "
      ]
    },
    {
      "cell_type": "markdown",
      "metadata": {
        "id": "XkXIIoR_2WAB",
        "colab_type": "text"
      },
      "source": [
        "### Вариант 2\n",
        "\n",
        "Напишите нейронную сеть на базе болезней и добейтесь хорошей точности.\n"
      ]
    },
    {
      "cell_type": "code",
      "metadata": {
        "id": "d4a5mjZm2d4E",
        "colab_type": "code",
        "colab": {
          "base_uri": "https://localhost:8080/",
          "height": 204
        },
        "outputId": "8359d99c-1a91-4c82-85b9-ec9fb70a4609"
      },
      "source": [
        "!wget https://xland.ru/uai/hw04/diseases.zip"
      ],
      "execution_count": null,
      "outputs": [
        {
          "output_type": "stream",
          "text": [
            "--2020-08-19 09:46:56--  https://xland.ru/uai/hw04/diseases.zip\n",
            "Resolving xland.ru (xland.ru)... 198.211.125.59\n",
            "Connecting to xland.ru (xland.ru)|198.211.125.59|:443... connected.\n",
            "HTTP request sent, awaiting response... 200 OK\n",
            "Length: 32902 (32K) [application/zip]\n",
            "Saving to: ‘diseases.zip’\n",
            "\n",
            "diseases.zip        100%[===================>]  32.13K  --.-KB/s    in 0s      \n",
            "\n",
            "2020-08-19 09:46:57 (235 MB/s) - ‘diseases.zip’ saved [32902/32902]\n",
            "\n"
          ],
          "name": "stdout"
        }
      ]
    },
    {
      "cell_type": "code",
      "metadata": {
        "id": "DJWxfXqu2leG",
        "colab_type": "code",
        "colab": {
          "base_uri": "https://localhost:8080/",
          "height": 221
        },
        "outputId": "18cec625-1615-4341-9f67-b242c7b9c3a2"
      },
      "source": [
        "!unzip diseases"
      ],
      "execution_count": null,
      "outputs": [
        {
          "output_type": "stream",
          "text": [
            "Archive:  diseases.zip\n",
            "   creating: diseases/\n",
            "  inflating: diseases/Аппендицит.txt  \n",
            "  inflating: diseases/Гастрит.txt  \n",
            "  inflating: diseases/Гепатит.txt  \n",
            "  inflating: diseases/Дуоденит.txt  \n",
            "  inflating: diseases/Колит.txt  \n",
            "  inflating: diseases/Панкреатит.txt  \n",
            "  inflating: diseases/Холицестит.txt  \n",
            "  inflating: diseases/Эзофагит.txt  \n",
            "  inflating: diseases/Энтерит.txt  \n",
            "  inflating: diseases/Язва.txt   \n"
          ],
          "name": "stdout"
        }
      ]
    },
    {
      "cell_type": "code",
      "metadata": {
        "id": "4CbF1JBj21k7",
        "colab_type": "code",
        "colab": {
          "base_uri": "https://localhost:8080/",
          "height": 187
        },
        "outputId": "018adbcd-d380-4aee-93c1-ab5187362e94"
      },
      "source": [
        "diseases = []\n",
        "for i in os.listdir('diseases'):\n",
        "  diseases.append(i[:-4])\n",
        "diseases"
      ],
      "execution_count": null,
      "outputs": [
        {
          "output_type": "execute_result",
          "data": {
            "text/plain": [
              "['Энтерит',\n",
              " 'Колит',\n",
              " 'Гепатит',\n",
              " 'Гастрит',\n",
              " 'Аппендицит',\n",
              " 'Холицестит',\n",
              " 'Язва',\n",
              " 'Панкреатит',\n",
              " 'Эзофагит',\n",
              " 'Дуоденит']"
            ]
          },
          "metadata": {
            "tags": []
          },
          "execution_count": 136
        }
      ]
    },
    {
      "cell_type": "code",
      "metadata": {
        "id": "KP5d4o8Y8cKm",
        "colab_type": "code",
        "colab": {}
      },
      "source": [
        "# эта функция берет содержимое указанного файла и разбивает его на фрагменты.\n",
        "# В качестве разделителя фрагментов используется пустая строка. \n",
        "def splitFile(fileName): # Объявляем функции для чтения файла. На вход отправляем путь к файлу\n",
        "  f = open(fileName, 'r')        # Задаем открытие нужного файла в режиме чтения\n",
        "  text = f.read()                # Читаем текст\n",
        "  text = text.replace(\"\\n\\n\", \"$\") # Пустые строки помечаем как разделители фрагментов\n",
        "  text = text.replace(\"\\n\", \" \") # Переводы строк заменяем на пробелы\n",
        "  return text.split('$')                    # Возвращаем список фрагментов\n",
        "\n",
        "def readText(fileName): # Объявляем функции для чтения файла. На вход отправляем путь к файлу\n",
        "  f = open(fileName, 'r')        # Задаем открытие нужного файла в режиме чтения\n",
        "  text = f.read()                # Читаем текст\n",
        "  text = text.replace(\"\\n\", \" \") # Переносы строки переводим в пробелы\n",
        "  return text  "
      ],
      "execution_count": null,
      "outputs": []
    },
    {
      "cell_type": "code",
      "metadata": {
        "id": "VY6PraAh38uR",
        "colab_type": "code",
        "colab": {
          "base_uri": "https://localhost:8080/",
          "height": 187
        },
        "outputId": "82c9aadf-d265-4e64-fa6b-7dd220315c3e"
      },
      "source": [
        "# Извлекаем данные из файлов в 2 списка\n",
        "data = [] # категория + текст\n",
        "texts = [] # только тексты\n",
        "for i, name in enumerate(diseases):\n",
        "  fname = f'diseases/{name}.txt'\n",
        "  print(i, fname)\n",
        "  texts.append(readText(fname))\n",
        "  symptoms = splitFile(fname)\n",
        "  for symptom in symptoms:\n",
        "    if len(symptom) > 0:\n",
        "      data.append([i, symptom])\n",
        "len(data)\n",
        "nClasses = len(diseases)"
      ],
      "execution_count": null,
      "outputs": [
        {
          "output_type": "stream",
          "text": [
            "0 diseases/Энтерит.txt\n",
            "1 diseases/Колит.txt\n",
            "2 diseases/Гепатит.txt\n",
            "3 diseases/Гастрит.txt\n",
            "4 diseases/Аппендицит.txt\n",
            "5 diseases/Холицестит.txt\n",
            "6 diseases/Язва.txt\n",
            "7 diseases/Панкреатит.txt\n",
            "8 diseases/Эзофагит.txt\n",
            "9 diseases/Дуоденит.txt\n"
          ],
          "name": "stdout"
        }
      ]
    },
    {
      "cell_type": "code",
      "metadata": {
        "id": "pKJGjvaQ4Wfn",
        "colab_type": "code",
        "colab": {}
      },
      "source": [
        "maxWordsCount = 2000 # Определяем максимальное количество слов/индексов, учитываемое при обучении текстов\n",
        "tokenizer = Tokenizer(num_words=maxWordsCount, filters='!\"#$%&()*+,-–—./…:;<=>?@[\\\\]^_`{|}~«»\\t\\n\\xa0\\ufeff', lower=True, split=' ', oov_token='unknown', char_level=False)\n",
        "tokenizer.fit_on_texts(texts) # \"Скармливаем\" наши тексты, т.е. даём в обработку методу, который соберет словарь частотности\n",
        "items = list(tokenizer.word_index.items()) # Вытаскиваем индексы слов для просмотра"
      ],
      "execution_count": null,
      "outputs": []
    },
    {
      "cell_type": "code",
      "metadata": {
        "id": "jY2jbBDXC6qD",
        "colab_type": "code",
        "colab": {
          "base_uri": "https://localhost:8080/",
          "height": 34
        },
        "outputId": "21b855e3-dea8-4f7c-8dfb-510efb8c6350"
      },
      "source": [
        "print(\"Размер словаря\", len(tokenizer.word_index.items()))"
      ],
      "execution_count": null,
      "outputs": [
        {
          "output_type": "stream",
          "text": [
            "Размер словаря 1981\n"
          ],
          "name": "stdout"
        }
      ]
    },
    {
      "cell_type": "code",
      "metadata": {
        "id": "RXovye2yERR2",
        "colab_type": "code",
        "colab": {}
      },
      "source": [
        "# Готовим данные для разбиения на тренировочную и тестовую выборки \n",
        "classes = []\n",
        "texts = []\n",
        "for item in data:\n",
        "  classes.append(item[0])\n",
        "  texts.append(item[1])\n",
        "xAll = tokenizer.texts_to_matrix(texts)\n",
        "yAll = utils.to_categorical(classes, nClasses)"
      ],
      "execution_count": null,
      "outputs": []
    },
    {
      "cell_type": "code",
      "metadata": {
        "id": "7p-cgMrsEVw2",
        "colab_type": "code",
        "colab": {}
      },
      "source": [
        "# разбиваем данные на 2 выборки\n",
        "xTrain, xVal, yTrain, yVal = train_test_split(xAll, yAll, test_size=0.2)"
      ],
      "execution_count": null,
      "outputs": []
    },
    {
      "cell_type": "code",
      "metadata": {
        "id": "ZfJzWOzRHOYR",
        "colab_type": "code",
        "colab": {
          "base_uri": "https://localhost:8080/",
          "height": 34
        },
        "outputId": "5a7dd9a8-d230-4d60-ad94-e44243c7cd4a"
      },
      "source": [
        "xVal.shape"
      ],
      "execution_count": null,
      "outputs": [
        {
          "output_type": "execute_result",
          "data": {
            "text/plain": [
              "(51, 2000)"
            ]
          },
          "metadata": {
            "tags": []
          },
          "execution_count": 144
        }
      ]
    },
    {
      "cell_type": "code",
      "metadata": {
        "id": "9nGzVlenHQCv",
        "colab_type": "code",
        "colab": {
          "base_uri": "https://localhost:8080/",
          "height": 34
        },
        "outputId": "8e0c92bd-9ce5-4881-ee9c-c7243d7d083c"
      },
      "source": [
        "yVal.shape"
      ],
      "execution_count": null,
      "outputs": [
        {
          "output_type": "execute_result",
          "data": {
            "text/plain": [
              "(51, 10)"
            ]
          },
          "metadata": {
            "tags": []
          },
          "execution_count": 145
        }
      ]
    },
    {
      "cell_type": "code",
      "metadata": {
        "id": "1_wv-RMyOMjx",
        "colab_type": "code",
        "colab": {
          "base_uri": "https://localhost:8080/",
          "height": 34
        },
        "outputId": "1052afeb-096e-48b3-8dd5-380e19a498b6"
      },
      "source": [
        "xTrain.shape"
      ],
      "execution_count": null,
      "outputs": [
        {
          "output_type": "execute_result",
          "data": {
            "text/plain": [
              "(203, 2000)"
            ]
          },
          "metadata": {
            "tags": []
          },
          "execution_count": 146
        }
      ]
    },
    {
      "cell_type": "code",
      "metadata": {
        "id": "G0fVxIrmOYC-",
        "colab_type": "code",
        "colab": {
          "base_uri": "https://localhost:8080/",
          "height": 153
        },
        "outputId": "67ac2699-c391-4fd1-d8fc-b21f834a90e1"
      },
      "source": [
        "xVal[3][:130]"
      ],
      "execution_count": null,
      "outputs": [
        {
          "output_type": "execute_result",
          "data": {
            "text/plain": [
              "array([0., 0., 1., 1., 1., 1., 0., 1., 1., 1., 0., 0., 0., 0., 0., 1., 0.,\n",
              "       0., 1., 1., 0., 1., 0., 0., 0., 1., 1., 1., 0., 0., 0., 0., 0., 0.,\n",
              "       0., 0., 1., 0., 1., 0., 1., 0., 0., 0., 1., 0., 0., 0., 0., 0., 0.,\n",
              "       0., 0., 0., 0., 0., 0., 0., 0., 0., 0., 0., 0., 0., 0., 0., 0., 1.,\n",
              "       0., 0., 0., 0., 0., 0., 0., 0., 0., 0., 0., 0., 0., 0., 0., 0., 0.,\n",
              "       0., 0., 0., 0., 0., 1., 0., 0., 0., 0., 0., 0., 0., 0., 0., 0., 0.,\n",
              "       0., 0., 1., 0., 0., 0., 0., 0., 0., 0., 0., 0., 0., 0., 0., 0., 0.,\n",
              "       1., 0., 0., 0., 0., 0., 0., 0., 0., 0., 0.])"
            ]
          },
          "metadata": {
            "tags": []
          },
          "execution_count": 147
        }
      ]
    },
    {
      "cell_type": "code",
      "metadata": {
        "id": "cGIFbDiAVpZB",
        "colab_type": "code",
        "colab": {}
      },
      "source": [
        "import random\n",
        "import tensorflow.random"
      ],
      "execution_count": null,
      "outputs": []
    },
    {
      "cell_type": "markdown",
      "metadata": {
        "id": "lAkDgpcXQsLJ",
        "colab_type": "text"
      },
      "source": [
        "Подберем гиперпараметры с помощью keras tuner"
      ]
    },
    {
      "cell_type": "code",
      "metadata": {
        "id": "nxlSwC_NQpSi",
        "colab_type": "code",
        "colab": {
          "base_uri": "https://localhost:8080/",
          "height": 136
        },
        "outputId": "32310619-6ee5-4cd7-9cd6-a1e5009e6b0f"
      },
      "source": [
        "# установим его\n",
        "!git clone https://github.com/keras-team/keras-tuner.git"
      ],
      "execution_count": null,
      "outputs": [
        {
          "output_type": "stream",
          "text": [
            "Cloning into 'keras-tuner'...\n",
            "remote: Enumerating objects: 7, done.\u001b[K\n",
            "remote: Counting objects: 100% (7/7), done.\u001b[K\n",
            "remote: Compressing objects: 100% (7/7), done.\u001b[K\n",
            "remote: Total 6603 (delta 0), reused 0 (delta 0), pack-reused 6596\u001b[K\n",
            "Receiving objects: 100% (6603/6603), 2.04 MiB | 11.81 MiB/s, done.\n",
            "Resolving deltas: 100% (4623/4623), done.\n"
          ],
          "name": "stdout"
        }
      ]
    },
    {
      "cell_type": "code",
      "metadata": {
        "id": "0p9K1yxNQpfr",
        "colab_type": "code",
        "colab": {
          "base_uri": "https://localhost:8080/",
          "height": 612
        },
        "outputId": "bde7912e-6fa9-4287-be43-351879c6d37b"
      },
      "source": [
        "%cd keras-tuner\n",
        "!pip install .\n",
        "%cd /content\n"
      ],
      "execution_count": null,
      "outputs": [
        {
          "output_type": "stream",
          "text": [
            "/content/keras-tuner\n",
            "Processing /content/keras-tuner\n",
            "Requirement already satisfied: packaging in /usr/local/lib/python3.6/dist-packages (from keras-tuner==1.0.2rc1.dev0) (20.4)\n",
            "Requirement already satisfied: future in /usr/local/lib/python3.6/dist-packages (from keras-tuner==1.0.2rc1.dev0) (0.16.0)\n",
            "Requirement already satisfied: numpy<1.19.0 in /usr/local/lib/python3.6/dist-packages (from keras-tuner==1.0.2rc1.dev0) (1.18.5)\n",
            "Requirement already satisfied: tabulate in /usr/local/lib/python3.6/dist-packages (from keras-tuner==1.0.2rc1.dev0) (0.8.7)\n",
            "Requirement already satisfied: terminaltables in /usr/local/lib/python3.6/dist-packages (from keras-tuner==1.0.2rc1.dev0) (3.1.0)\n",
            "Requirement already satisfied: colorama in /usr/local/lib/python3.6/dist-packages (from keras-tuner==1.0.2rc1.dev0) (0.4.3)\n",
            "Requirement already satisfied: tqdm in /usr/local/lib/python3.6/dist-packages (from keras-tuner==1.0.2rc1.dev0) (4.41.1)\n",
            "Requirement already satisfied: requests in /usr/local/lib/python3.6/dist-packages (from keras-tuner==1.0.2rc1.dev0) (2.23.0)\n",
            "Requirement already satisfied: scipy in /usr/local/lib/python3.6/dist-packages (from keras-tuner==1.0.2rc1.dev0) (1.4.1)\n",
            "Requirement already satisfied: scikit-learn in /usr/local/lib/python3.6/dist-packages (from keras-tuner==1.0.2rc1.dev0) (0.22.2.post1)\n",
            "Requirement already satisfied: six in /usr/local/lib/python3.6/dist-packages (from packaging->keras-tuner==1.0.2rc1.dev0) (1.15.0)\n",
            "Requirement already satisfied: pyparsing>=2.0.2 in /usr/local/lib/python3.6/dist-packages (from packaging->keras-tuner==1.0.2rc1.dev0) (2.4.7)\n",
            "Requirement already satisfied: chardet<4,>=3.0.2 in /usr/local/lib/python3.6/dist-packages (from requests->keras-tuner==1.0.2rc1.dev0) (3.0.4)\n",
            "Requirement already satisfied: idna<3,>=2.5 in /usr/local/lib/python3.6/dist-packages (from requests->keras-tuner==1.0.2rc1.dev0) (2.10)\n",
            "Requirement already satisfied: urllib3!=1.25.0,!=1.25.1,<1.26,>=1.21.1 in /usr/local/lib/python3.6/dist-packages (from requests->keras-tuner==1.0.2rc1.dev0) (1.24.3)\n",
            "Requirement already satisfied: certifi>=2017.4.17 in /usr/local/lib/python3.6/dist-packages (from requests->keras-tuner==1.0.2rc1.dev0) (2020.6.20)\n",
            "Requirement already satisfied: joblib>=0.11 in /usr/local/lib/python3.6/dist-packages (from scikit-learn->keras-tuner==1.0.2rc1.dev0) (0.16.0)\n",
            "Building wheels for collected packages: keras-tuner\n",
            "  Building wheel for keras-tuner (setup.py) ... \u001b[?25l\u001b[?25hdone\n",
            "  Created wheel for keras-tuner: filename=keras_tuner-1.0.2rc1.dev0-cp36-none-any.whl size=91703 sha256=2efefdaf33d7d1b63a91bd21380529b14bffeda4e65525ae4a4b496bd1cea2dd\n",
            "  Stored in directory: /root/.cache/pip/wheels/fa/4e/d0/ed331a3363786e8a74848aa0589674f502cbb3f0321cdba844\n",
            "Successfully built keras-tuner\n",
            "Installing collected packages: keras-tuner\n",
            "  Found existing installation: keras-tuner 1.0.2rc1.dev0\n",
            "    Uninstalling keras-tuner-1.0.2rc1.dev0:\n",
            "      Successfully uninstalled keras-tuner-1.0.2rc1.dev0\n",
            "Successfully installed keras-tuner-1.0.2rc1.dev0\n"
          ],
          "name": "stdout"
        },
        {
          "output_type": "display_data",
          "data": {
            "application/vnd.colab-display-data+json": {
              "pip_warning": {
                "packages": [
                  "kerastuner"
                ]
              }
            }
          },
          "metadata": {
            "tags": []
          }
        },
        {
          "output_type": "stream",
          "text": [
            "/content\n"
          ],
          "name": "stdout"
        }
      ]
    },
    {
      "cell_type": "code",
      "metadata": {
        "id": "8MVegIhSQpst",
        "colab_type": "code",
        "colab": {}
      },
      "source": [
        "from kerastuner.tuners import RandomSearch, Hyperband, BayesianOptimization"
      ],
      "execution_count": null,
      "outputs": []
    },
    {
      "cell_type": "code",
      "metadata": {
        "id": "FBE96sHPQp4K",
        "colab_type": "code",
        "colab": {}
      },
      "source": [
        "# С помощью этой функции тюнер будет создавать модели\n",
        "def build_model(hp):\n",
        "    random.seed(1)\n",
        "    np.random.seed(42)\n",
        "    tensorflow.random.set_seed(1)\n",
        "    model = Sequential()\n",
        "    activation_choice = hp.Choice('activation', values=['softmax', 'sigmoid'])  \n",
        "    model.add(Dense(units=hp.Int('units_input',    # Полносвязный слой с разным количеством нейронов\n",
        "                                   min_value=64,    # минимальное количество нейронов - 32\n",
        "                                   max_value=512,   # максимальное количество - 256\n",
        "                                   step=64),\n",
        "                    input_dim=maxWordsCount,\n",
        "                    activation='relu'))\n",
        "    model.add(BatchNormalization())\n",
        "    model.add(Dropout(0.2))\n",
        "\n",
        "    model.add(Dense(units=hp.Int('units_hidden',        \n",
        "                                   min_value=32,   \n",
        "                                   max_value=128,   \n",
        "                                   step=32),\n",
        "                    activation='relu'))\n",
        "    model.add(BatchNormalization())\n",
        "    model.add(Dropout(0.3))\n",
        "\n",
        "    model.add(Dense(10, activation=activation_choice))\n",
        "    model.compile(\n",
        "        optimizer=hp.Choice('optimizer', values=['adam','rmsprop']),\n",
        "        loss='categorical_crossentropy',\n",
        "        metrics=['accuracy'])\n",
        "    return model"
      ],
      "execution_count": null,
      "outputs": []
    },
    {
      "cell_type": "code",
      "metadata": {
        "id": "_0aQWphrQqDg",
        "colab_type": "code",
        "colab": {
          "base_uri": "https://localhost:8080/",
          "height": 51
        },
        "outputId": "f307b499-c29b-451d-bf66-c0573c701b4a"
      },
      "source": [
        "# Создаем экземпляр тюнера\n",
        "tuner = RandomSearch(\n",
        "    build_model,                 # функция создания модели\n",
        "    objective='val_accuracy',    # метрика, которую нужно оптимизировать - \n",
        "                                 # доля правильных ответов на проверочном наборе данных\n",
        "    max_trials=150,               # максимальное количество запусков обучения \n",
        "    directory='test_directory'   # каталог, куда сохраняются обученные сети  \n",
        "    )"
      ],
      "execution_count": null,
      "outputs": [
        {
          "output_type": "stream",
          "text": [
            "INFO:tensorflow:Reloading Oracle from existing project test_directory/untitled_project/oracle.json\n",
            "INFO:tensorflow:Reloading Tuner from test_directory/untitled_project/tuner0.json\n"
          ],
          "name": "stdout"
        }
      ]
    },
    {
      "cell_type": "code",
      "metadata": {
        "id": "jNToYrFRQqLE",
        "colab_type": "code",
        "colab": {
          "base_uri": "https://localhost:8080/",
          "height": 187
        },
        "outputId": "0470e631-d2b3-44b2-d547-255d7ddb60ac"
      },
      "source": [
        "# Пространство подбираемых гиперпараметров\n",
        "tuner.search_space_summary()"
      ],
      "execution_count": null,
      "outputs": [
        {
          "output_type": "stream",
          "text": [
            "Search space summary\n",
            "Default search space size: 4\n",
            "activation (Choice)\n",
            "{'default': 'softmax', 'conditions': [], 'values': ['softmax', 'sigmoid'], 'ordered': False}\n",
            "units_input (Int)\n",
            "{'default': None, 'conditions': [], 'min_value': 64, 'max_value': 512, 'step': 64, 'sampling': None}\n",
            "units_hidden (Int)\n",
            "{'default': None, 'conditions': [], 'min_value': 32, 'max_value': 128, 'step': 32, 'sampling': None}\n",
            "optimizer (Choice)\n",
            "{'default': 'adam', 'conditions': [], 'values': ['adam', 'rmsprop'], 'ordered': False}\n"
          ],
          "name": "stdout"
        }
      ]
    },
    {
      "cell_type": "code",
      "metadata": {
        "id": "DzYK4oDjQqXI",
        "colab_type": "code",
        "colab": {
          "base_uri": "https://localhost:8080/",
          "height": 153
        },
        "outputId": "f71ba5ad-e2ef-4ac5-d3a2-7eb408bfe9c3"
      },
      "source": [
        "%%time\n",
        "# Запускаем подбор гиперпараметров\n",
        "tuner.search(xTrain,                   # Данные для обучения\n",
        "             yTrain,                   # Правильные ответы\n",
        "             batch_size=10,            # Размер мини-выборки\n",
        "             epochs=30,                # Количество эпох обучения \n",
        "             validation_data=(xVal, yVal))"
      ],
      "execution_count": null,
      "outputs": [
        {
          "output_type": "stream",
          "text": [
            "Trial 6 Complete [00h 00m 08s]\n",
            "val_accuracy: 0.5686274766921997\n",
            "\n",
            "Best val_accuracy So Far: 0.6470588445663452\n",
            "Total elapsed time: 00h 00m 37s\n",
            "INFO:tensorflow:Oracle triggered exit\n",
            "CPU times: user 47.7 s, sys: 2.95 s, total: 50.6 s\n",
            "Wall time: 37.4 s\n"
          ],
          "name": "stdout"
        }
      ]
    },
    {
      "cell_type": "code",
      "metadata": {
        "id": "BM3Rj_6DQqhB",
        "colab_type": "code",
        "colab": {
          "base_uri": "https://localhost:8080/",
          "height": 1000
        },
        "outputId": "f5443ca0-dcb2-4dd2-b4a2-35f9664bd03d"
      },
      "source": [
        "tuner.results_summary()"
      ],
      "execution_count": null,
      "outputs": [
        {
          "output_type": "stream",
          "text": [
            "Results summary\n",
            "Results in test_directory/untitled_project\n",
            "Showing 10 best trials\n",
            "Objective(name='val_accuracy', direction='max')\n",
            "Trial summary\n",
            "Hyperparameters:\n",
            "activation: sigmoid\n",
            "units_input: 384\n",
            "units_hidden: 96\n",
            "optimizer: rmsprop\n",
            "Score: 0.6470588445663452\n",
            "Trial summary\n",
            "Hyperparameters:\n",
            "activation: sigmoid\n",
            "units_input: 512\n",
            "units_hidden: 64\n",
            "optimizer: adam\n",
            "Score: 0.6274510025978088\n",
            "Trial summary\n",
            "Hyperparameters:\n",
            "activation: sigmoid\n",
            "units_input: 384\n",
            "units_hidden: 32\n",
            "optimizer: rmsprop\n",
            "Score: 0.6078431606292725\n",
            "Trial summary\n",
            "Hyperparameters:\n",
            "activation: softmax\n",
            "units_input: 512\n",
            "units_hidden: 64\n",
            "optimizer: rmsprop\n",
            "Score: 0.6078431606292725\n",
            "Trial summary\n",
            "Hyperparameters:\n",
            "activation: sigmoid\n",
            "units_input: 384\n",
            "units_hidden: 96\n",
            "optimizer: adam\n",
            "Score: 0.6078431606292725\n",
            "Trial summary\n",
            "Hyperparameters:\n",
            "activation: softmax\n",
            "units_input: 320\n",
            "units_hidden: 32\n",
            "optimizer: rmsprop\n",
            "Score: 0.6078431606292725\n",
            "Trial summary\n",
            "Hyperparameters:\n",
            "activation: sigmoid\n",
            "units_input: 448\n",
            "units_hidden: 96\n",
            "optimizer: rmsprop\n",
            "Score: 0.5882353186607361\n",
            "Trial summary\n",
            "Hyperparameters:\n",
            "activation: sigmoid\n",
            "units_input: 512\n",
            "units_hidden: 96\n",
            "optimizer: adam\n",
            "Score: 0.5882353186607361\n",
            "Trial summary\n",
            "Hyperparameters:\n",
            "activation: softmax\n",
            "units_input: 384\n",
            "units_hidden: 128\n",
            "optimizer: rmsprop\n",
            "Score: 0.5882353186607361\n",
            "Trial summary\n",
            "Hyperparameters:\n",
            "activation: sigmoid\n",
            "units_input: 512\n",
            "units_hidden: 96\n",
            "optimizer: rmsprop\n",
            "Score: 0.5882353186607361\n"
          ],
          "name": "stdout"
        }
      ]
    },
    {
      "cell_type": "code",
      "metadata": {
        "id": "iwXH9dq_Qqt3",
        "colab_type": "code",
        "colab": {}
      },
      "source": [
        "models = tuner.get_best_models(num_models=3)"
      ],
      "execution_count": null,
      "outputs": []
    },
    {
      "cell_type": "code",
      "metadata": {
        "id": "ZpefBMqFQq6T",
        "colab_type": "code",
        "colab": {
          "base_uri": "https://localhost:8080/",
          "height": 1000
        },
        "outputId": "a24a7def-0dd4-4154-d239-b77a3239b417"
      },
      "source": [
        "for model in models:\n",
        "  model.summary()\n",
        "  model.evaluate(xVal, yVal)\n",
        "  print()"
      ],
      "execution_count": null,
      "outputs": [
        {
          "output_type": "stream",
          "text": [
            "Model: \"sequential\"\n",
            "_________________________________________________________________\n",
            "Layer (type)                 Output Shape              Param #   \n",
            "=================================================================\n",
            "dense (Dense)                (None, 384)               768384    \n",
            "_________________________________________________________________\n",
            "batch_normalization (BatchNo (None, 384)               1536      \n",
            "_________________________________________________________________\n",
            "dropout (Dropout)            (None, 384)               0         \n",
            "_________________________________________________________________\n",
            "dense_1 (Dense)              (None, 96)                36960     \n",
            "_________________________________________________________________\n",
            "batch_normalization_1 (Batch (None, 96)                384       \n",
            "_________________________________________________________________\n",
            "dropout_1 (Dropout)          (None, 96)                0         \n",
            "_________________________________________________________________\n",
            "dense_2 (Dense)              (None, 10)                970       \n",
            "=================================================================\n",
            "Total params: 808,234\n",
            "Trainable params: 807,274\n",
            "Non-trainable params: 960\n",
            "_________________________________________________________________\n",
            "2/2 [==============================] - 0s 3ms/step - loss: 1.3802 - accuracy: 0.6471\n",
            "\n",
            "Model: \"sequential\"\n",
            "_________________________________________________________________\n",
            "Layer (type)                 Output Shape              Param #   \n",
            "=================================================================\n",
            "dense (Dense)                (None, 512)               1024512   \n",
            "_________________________________________________________________\n",
            "batch_normalization (BatchNo (None, 512)               2048      \n",
            "_________________________________________________________________\n",
            "dropout (Dropout)            (None, 512)               0         \n",
            "_________________________________________________________________\n",
            "dense_1 (Dense)              (None, 64)                32832     \n",
            "_________________________________________________________________\n",
            "batch_normalization_1 (Batch (None, 64)                256       \n",
            "_________________________________________________________________\n",
            "dropout_1 (Dropout)          (None, 64)                0         \n",
            "_________________________________________________________________\n",
            "dense_2 (Dense)              (None, 10)                650       \n",
            "=================================================================\n",
            "Total params: 1,060,298\n",
            "Trainable params: 1,059,146\n",
            "Non-trainable params: 1,152\n",
            "_________________________________________________________________\n",
            "2/2 [==============================] - 0s 3ms/step - loss: 1.4522 - accuracy: 0.6275\n",
            "\n",
            "Model: \"sequential\"\n",
            "_________________________________________________________________\n",
            "Layer (type)                 Output Shape              Param #   \n",
            "=================================================================\n",
            "dense (Dense)                (None, 384)               768384    \n",
            "_________________________________________________________________\n",
            "batch_normalization (BatchNo (None, 384)               1536      \n",
            "_________________________________________________________________\n",
            "dropout (Dropout)            (None, 384)               0         \n",
            "_________________________________________________________________\n",
            "dense_1 (Dense)              (None, 32)                12320     \n",
            "_________________________________________________________________\n",
            "batch_normalization_1 (Batch (None, 32)                128       \n",
            "_________________________________________________________________\n",
            "dropout_1 (Dropout)          (None, 32)                0         \n",
            "_________________________________________________________________\n",
            "dense_2 (Dense)              (None, 10)                330       \n",
            "=================================================================\n",
            "Total params: 782,698\n",
            "Trainable params: 781,866\n",
            "Non-trainable params: 832\n",
            "_________________________________________________________________\n",
            "2/2 [==============================] - 0s 3ms/step - loss: 1.7926 - accuracy: 0.6078\n",
            "\n"
          ],
          "name": "stdout"
        }
      ]
    },
    {
      "cell_type": "markdown",
      "metadata": {
        "id": "PVmHymNReK4k",
        "colab_type": "text"
      },
      "source": [
        "**ВЫВОД** \n",
        "\n",
        "keras-tuner нашел модель, дающую точность 64.71% на \"мешке слов\""
      ]
    },
    {
      "cell_type": "markdown",
      "metadata": {
        "id": "DfNpL_m9LdtD",
        "colab_type": "text"
      },
      "source": [
        "Попробуем применить метод \"скользящего окна\" для улучшения точности "
      ]
    },
    {
      "cell_type": "code",
      "metadata": {
        "id": "5QJ0hXQhLeVU",
        "colab_type": "code",
        "colab": {
          "base_uri": "https://localhost:8080/",
          "height": 187
        },
        "outputId": "0257a936-f63c-4220-f5ed-e291e37b8bcc"
      },
      "source": [
        "# Извлекаем данные из файлов в 2 списка\n",
        "data = [] # категория + текст\n",
        "texts = [] # только тексты\n",
        "for i, name in enumerate(diseases):\n",
        "  fname = f'diseases/{name}.txt'\n",
        "  print(i, fname)\n",
        "  texts.append(readText(fname))\n",
        "  symptoms = splitFile(fname)\n",
        "  for symptom in symptoms:\n",
        "    if len(symptom) > 0:\n",
        "      data.append([i, symptom])\n",
        "len(data)\n",
        "nClasses = len(diseases)"
      ],
      "execution_count": null,
      "outputs": [
        {
          "output_type": "stream",
          "text": [
            "0 diseases/Энтерит.txt\n",
            "1 diseases/Колит.txt\n",
            "2 diseases/Гепатит.txt\n",
            "3 diseases/Гастрит.txt\n",
            "4 diseases/Аппендицит.txt\n",
            "5 diseases/Холицестит.txt\n",
            "6 diseases/Язва.txt\n",
            "7 diseases/Панкреатит.txt\n",
            "8 diseases/Эзофагит.txt\n",
            "9 diseases/Дуоденит.txt\n"
          ],
          "name": "stdout"
        }
      ]
    },
    {
      "cell_type": "code",
      "metadata": {
        "id": "RWMMZuwMLhe2",
        "colab_type": "code",
        "colab": {}
      },
      "source": [
        "# Перемешаем данные \n",
        "random.shuffle(data)"
      ],
      "execution_count": null,
      "outputs": []
    },
    {
      "cell_type": "code",
      "metadata": {
        "id": "-7hcB5R7W8cL",
        "colab_type": "code",
        "colab": {
          "base_uri": "https://localhost:8080/",
          "height": 34
        },
        "outputId": "3959bf89-0956-455f-fc9f-def8caaaf3e2"
      },
      "source": [
        "# Сколько у нас образцов?\n",
        "len(data)"
      ],
      "execution_count": null,
      "outputs": [
        {
          "output_type": "execute_result",
          "data": {
            "text/plain": [
              "254"
            ]
          },
          "metadata": {
            "tags": []
          },
          "execution_count": 230
        }
      ]
    },
    {
      "cell_type": "code",
      "metadata": {
        "id": "_sWtq0dmL_xH",
        "colab_type": "code",
        "colab": {}
      },
      "source": [
        "# Разделим данные на тренировочные и тестовые\n",
        "trainTexts = []\n",
        "trainClasses = []\n",
        "testTexts = []\n",
        "testClasses = []\n",
        "for i, item in enumerate(data):\n",
        "    if i < 0.8*len(data):\n",
        "        trainClasses.append(item[0])\n",
        "        trainTexts.append(item[1])\n",
        "    else:\n",
        "        testClasses.append(item[0])\n",
        "        testTexts.append(item[1])"
      ],
      "execution_count": null,
      "outputs": []
    },
    {
      "cell_type": "code",
      "metadata": {
        "id": "foEsRCsJHmZS",
        "colab_type": "code",
        "colab": {}
      },
      "source": [
        "maxWordsCount = 2000 # Определяем максимальное количество слов/индексов, учитываемое при обучении текстов\n",
        "tokenizer = Tokenizer(num_words=maxWordsCount, filters='!\"#$%&()*+,-–—./…:;<=>?@[\\\\]^_`{|}~«»\\t\\n\\xa0\\ufeff', lower=True, split=' ', oov_token='unknown', char_level=False)\n",
        "tokenizer.fit_on_texts(trainTexts) # \"Скармливаем\" наши тексты, т.е. даём в обработку методу, который соберет словарь частотности\n",
        "items = list(tokenizer.word_index.items()) # Вытаскиваем индексы слов для просмотра"
      ],
      "execution_count": null,
      "outputs": []
    },
    {
      "cell_type": "code",
      "metadata": {
        "id": "YOtvyQMRMACk",
        "colab_type": "code",
        "colab": {
          "base_uri": "https://localhost:8080/",
          "height": 85
        },
        "outputId": "133af660-6a65-4b49-a7e8-c5c3f593433f"
      },
      "source": [
        "# Преобразовываем текст в последовательность индексов согласно частотному словарю\n",
        "trainWordIndexes = tokenizer.texts_to_sequences(trainTexts) # Обучающие тесты в индексы\n",
        "testWordIndexes = tokenizer.texts_to_sequences(testTexts)  # Проверочные тесты в индексы\n",
        "\n",
        "print(\"Взглянем на фрагмент обучающего текста:\")\n",
        "print(\"В виде оригинального текста:              \", trainTexts[1][:87])\n",
        "print(\"Он же в виде последовательности индексов: \", trainWordIndexes[1][:20], '\\n')"
      ],
      "execution_count": null,
      "outputs": [
        {
          "output_type": "stream",
          "text": [
            "Взглянем на фрагмент обучающего текста:\n",
            "В виде оригинального текста:               быстрая утомляемость, снижение толерантности к физическим нагрузкам, нарушения сна, деп\n",
            "Он же в виде последовательности индексов:  [165, 71, 23, 758, 25, 472, 759, 72, 166, 760, 761, 195, 144, 473, 59, 2, 37, 33] \n",
            "\n"
          ],
          "name": "stdout"
        }
      ]
    },
    {
      "cell_type": "code",
      "metadata": {
        "id": "4glgl2x9zsY9",
        "colab_type": "code",
        "colab": {
          "base_uri": "https://localhost:8080/",
          "height": 265
        },
        "outputId": "105c90f4-fe51-47ee-adf5-d2c72152340a"
      },
      "source": [
        "# Посмотрим распределение по длине описания симптомов в тренировочной выборке\n",
        "# \n",
        "len = [len(x) for x in trainWordIndexes]\n",
        "plt.hist(len, 20)\n",
        "plt.show()"
      ],
      "execution_count": null,
      "outputs": [
        {
          "output_type": "display_data",
          "data": {
            "image/png": "[encoded data removed]",
            "text/plain": [
              "<Figure size 432x288 with 1 Axes>"
            ]
          },
          "metadata": {
            "tags": [],
            "needs_background": "light"
          }
        }
      ]
    },
    {
      "cell_type": "code",
      "metadata": {
        "id": "EkYVH1pM0AXT",
        "colab_type": "code",
        "colab": {
          "base_uri": "https://localhost:8080/",
          "height": 265
        },
        "outputId": "f2077988-8547-4b22-dbd3-b948dc9ec769"
      },
      "source": [
        "# то же в тестовой выборке\n",
        "# много коротких (меньше размера окна) \n",
        "len = [len(x) for x in testWordIndexes]\n",
        "plt.hist(len, 20)\n",
        "plt.show()"
      ],
      "execution_count": null,
      "outputs": [
        {
          "output_type": "display_data",
          "data": {
            "image/png": "[encoded data removed]",
            "text/plain": [
              "<Figure size 432x288 with 1 Axes>"
            ]
          },
          "metadata": {
            "tags": [],
            "needs_background": "light"
          }
        }
      ]
    },
    {
      "cell_type": "code",
      "metadata": {
        "id": "EEVkIl-3vEXj",
        "colab_type": "code",
        "colab": {}
      },
      "source": [
        "#Задаём базовые параметры\n",
        "xLen = 20 #Длина отрезка текста, по которой анализируем, в словах\n",
        "step = 1 #Шаг разбиения исходного текста на обучающие векторы"
      ],
      "execution_count": null,
      "outputs": []
    },
    {
      "cell_type": "code",
      "metadata": {
        "id": "eXkb9MM_1Eab",
        "colab_type": "code",
        "colab": {}
      },
      "source": [
        "# Формирование обучающей выборки по листу индексов слов\n",
        "# (разделение на короткие векторы)\n",
        "def getSetFromIndexes(wordIndexes, xLen, step): # функция принимает последовательность индексов, размер окна, шаг окна\n",
        "  xSample = [] # Объявляем переменную для векторов\n",
        "  wordsLen = len(wordIndexes) # Считаем количество слов\n",
        "  index = 0 # Задаем начальный индекс \n",
        "\n",
        "  while (index + xLen <= wordsLen):# Идём по всей длине вектора индексов\n",
        "    xSample.append(wordIndexes[index:index+xLen]) # \"Откусываем\" векторы длины xLen\n",
        "    index += step # Смещаеммся вперёд на step\n",
        "    \n",
        "  return xSample"
      ],
      "execution_count": null,
      "outputs": []
    },
    {
      "cell_type": "code",
      "metadata": {
        "id": "pFn-jfZzWDSV",
        "colab_type": "code",
        "colab": {}
      },
      "source": [
        "# Пришлось слегка модифицировать функцию из лекции.\n",
        "#\n",
        "# Формирование обучающей и проверочной выборки\n",
        "# Из двух листов индексов от двух классов\n",
        "def createSetsMultiClasses2(wordIndexes, classes, xLen, step, nClasses): # Функция принимает последовательность индексов, размер окна, шаг окна\n",
        "    xSamples = []\n",
        "    ySamples = []\n",
        "    for i, index in enumerate(wordIndexes):\n",
        "        cl = classes[i]\n",
        "        xs = getSetFromIndexes(index, xLen, step) # получили список окон из одного образца\n",
        "        for x in xs:\n",
        "            xSamples.append(x)\n",
        "            ySamples.append(utils.to_categorical(cl, nClasses))\n",
        "    return np.array(xSamples), np.array(ySamples) "
      ],
      "execution_count": null,
      "outputs": []
    },
    {
      "cell_type": "code",
      "metadata": {
        "id": "5hCBULj1usjP",
        "colab_type": "code",
        "colab": {
          "base_uri": "https://localhost:8080/",
          "height": 51
        },
        "outputId": "df1cd95e-8543-4949-a355-b51a610fda3b"
      },
      "source": [
        "print(len(trainWordIndexes))\n",
        "print(len(testWordIndexes))"
      ],
      "execution_count": null,
      "outputs": [
        {
          "output_type": "stream",
          "text": [
            "204\n",
            "50\n"
          ],
          "name": "stdout"
        }
      ]
    },
    {
      "cell_type": "code",
      "metadata": {
        "id": "KGMtTp-THB5-",
        "colab_type": "code",
        "colab": {
          "base_uri": "https://localhost:8080/",
          "height": 102
        },
        "outputId": "e0f0d8f3-5f6e-4364-c392-8a17e15d897b"
      },
      "source": [
        "cur_time = time.time() # Засекаем текущее время\n",
        "#Формируем обучающую и тестовую выборку\n",
        "xTrain, yTrain = createSetsMultiClasses2(trainWordIndexes, trainClasses, xLen, step, nClasses) #извлекаем обучающую выборку\n",
        "print(xTrain.shape)\n",
        "print(yTrain.shape)\n",
        "xTest, yTest = createSetsMultiClasses2(testWordIndexes, testClasses, xLen, step, nClasses)    #извлекаем тестовую выборку\n",
        "print(xTest.shape)\n",
        "print(yTest.shape)\n",
        "#получили обучающий/тестовый набор, достаточный для запуска Embedding, но для Bag of Words нужно xTrain и xTest представить в виде векторов из 0 и 1\n",
        "print('Время обработки: ', round(time.time() - cur_time, 2), 'c', sep='')"
      ],
      "execution_count": null,
      "outputs": [
        {
          "output_type": "stream",
          "text": [
            "(3422, 20)\n",
            "(3422, 10)\n",
            "(752, 20)\n",
            "(752, 10)\n",
            "Время обработки: 0.06c\n"
          ],
          "name": "stdout"
        }
      ]
    },
    {
      "cell_type": "code",
      "metadata": {
        "id": "QvKQkYUBZTNY",
        "colab_type": "code",
        "colab": {
          "base_uri": "https://localhost:8080/",
          "height": 51
        },
        "outputId": "5ab5c33c-dfba-46ba-f3c0-e12fa9c0af78"
      },
      "source": [
        "xTrain[0]"
      ],
      "execution_count": null,
      "outputs": [
        {
          "output_type": "execute_result",
          "data": {
            "text/plain": [
              "array([755,   4,   2, 193,  83,   3, 141,  32,   9, 244,  46,  70, 321,\n",
              "        10, 194,   7,   2, 756,   4,   2])"
            ]
          },
          "metadata": {
            "tags": []
          },
          "execution_count": 241
        }
      ]
    },
    {
      "cell_type": "code",
      "metadata": {
        "id": "tf1YyPFbZTg2",
        "colab_type": "code",
        "colab": {
          "base_uri": "https://localhost:8080/",
          "height": 51
        },
        "outputId": "d01e1cef-0776-4160-e6f8-60e0b4b1541b"
      },
      "source": [
        "# Проверим что данные сдвигаются на 1 позицию:\n",
        "xTrain[1]"
      ],
      "execution_count": null,
      "outputs": [
        {
          "output_type": "execute_result",
          "data": {
            "text/plain": [
              "array([  4,   2, 193,  83,   3, 141,  32,   9, 244,  46,  70, 321,  10,\n",
              "       194,   7,   2, 756,   4,   2,  11])"
            ]
          },
          "metadata": {
            "tags": []
          },
          "execution_count": 242
        }
      ]
    },
    {
      "cell_type": "code",
      "metadata": {
        "id": "1nsHRXX3SZru",
        "colab_type": "code",
        "colab": {
          "base_uri": "https://localhost:8080/",
          "height": 187
        },
        "outputId": "4de7bdb0-38e4-4962-8a15-3a3f9b1aec8d"
      },
      "source": [
        "className = diseases\n",
        "className"
      ],
      "execution_count": null,
      "outputs": [
        {
          "output_type": "execute_result",
          "data": {
            "text/plain": [
              "['Энтерит',\n",
              " 'Колит',\n",
              " 'Гепатит',\n",
              " 'Гастрит',\n",
              " 'Аппендицит',\n",
              " 'Холицестит',\n",
              " 'Язва',\n",
              " 'Панкреатит',\n",
              " 'Эзофагит',\n",
              " 'Дуоденит']"
            ]
          },
          "metadata": {
            "tags": []
          },
          "execution_count": 243
        }
      ]
    },
    {
      "cell_type": "code",
      "metadata": {
        "id": "I7JaQEUDHCLL",
        "colab_type": "code",
        "colab": {
          "base_uri": "https://localhost:8080/",
          "height": 493
        },
        "outputId": "63ffc3b2-ee62-481d-fa6c-432a801e11b5"
      },
      "source": [
        "print(\"Статистика по обучающим текстам:\")\n",
        "\n",
        "symbolsTrainText = 0 # Объявляем переменную для подсчета символов в обучающих текстах\n",
        "wordsTrainText = 0 # Объявляем переменную для подсчета слов в обучающих текстах\n",
        "\n",
        "for i in range(nClasses): # Проходим по всем классам\n",
        "  print(className[i], \" \"*(10-len(className[i])), len(trainTexts[i]), \"символов, \", len(trainWordIndexes[i]), \"слов\")\n",
        "  symbolsTrainText += len(trainTexts[i]) # Считаем символы\n",
        "  wordsTrainText += len(trainWordIndexes[i]) # Считаем слова \n",
        "\n",
        "print('----')\n",
        "print(\"В сумме \", symbolsTrainText, \" символов, \", wordsTrainText, \" слов \\n\")\n",
        "print()\n",
        "print(\"Статистика по тестовым текстам:\")\n",
        "\n",
        "symbolsTestText = 0 # Объявляем переменную для подсчета символов в тестовых текстах\n",
        "wordsTestText = 0 # Объявляем переменную для подсчета слов в тестовых текстах\n",
        "\n",
        "for i in range(nClasses): #Проходим по всем классам\n",
        "  print(className[i], ' '*(10-len(className[i])), len(testTexts[i]), \"символов, \", len(testWordIndexes[i]), \"слов\")\n",
        "  symbolsTestText += len(testTexts[i]) #Считаем символы\n",
        "  wordsTestText += len(testWordIndexes[i]) #Считаем слова \n",
        "print('----')\n",
        "print(\"В сумме \", symbolsTestText, \" символов, \", wordsTestText, \" слов\")"
      ],
      "execution_count": null,
      "outputs": [
        {
          "output_type": "stream",
          "text": [
            "Статистика по обучающим текстам:\n",
            "Энтерит     208 символов,  32 слов\n",
            "Колит       162 символов,  18 слов\n",
            "Гепатит     160 символов,  22 слов\n",
            "Гастрит     240 символов,  37 слов\n",
            "Аппендицит  283 символов,  44 слов\n",
            "Холицестит  264 символов,  35 слов\n",
            "Язва        101 символов,  13 слов\n",
            "Панкреатит  740 символов,  108 слов\n",
            "Эзофагит    201 символов,  22 слов\n",
            "Дуоденит    121 символов,  14 слов\n",
            "----\n",
            "В сумме  2480  символов,  345  слов \n",
            "\n",
            "\n",
            "Статистика по тестовым текстам:\n",
            "Энтерит     308 символов,  35 слов\n",
            "Колит       139 символов,  18 слов\n",
            "Гепатит     182 символов,  31 слов\n",
            "Гастрит     151 символов,  23 слов\n",
            "Аппендицит  486 символов,  62 слов\n",
            "Холицестит  419 символов,  59 слов\n",
            "Язва        295 символов,  45 слов\n",
            "Панкреатит  135 символов,  17 слов\n",
            "Эзофагит    346 символов,  37 слов\n",
            "Дуоденит    221 символов,  25 слов\n",
            "----\n",
            "В сумме  2682  символов,  352  слов\n"
          ],
          "name": "stdout"
        }
      ]
    },
    {
      "cell_type": "code",
      "metadata": {
        "id": "Vkq4MezgHCb8",
        "colab_type": "code",
        "colab": {
          "base_uri": "https://localhost:8080/",
          "height": 136
        },
        "outputId": "ec4bf1a0-8acb-481f-f280-e600ef164974"
      },
      "source": [
        "cur_time = time.time() # Засекаем текущее время\n",
        "# Преобразовываем полученные выборки из последовательности индексов в матрицы нулей и единиц по принципу Bag of Words\n",
        "xTrain01 = tokenizer.sequences_to_matrix(xTrain.tolist()) #П одаем xTrain в виде списка, чтобы метод успешно сработал\n",
        "xTest01 = tokenizer.sequences_to_matrix(xTest.tolist()) # Подаем xTest в виде списка, чтобы метод успешно сработал\n",
        "\n",
        "print(xTrain01.shape)       # Размер обучающей выборки, сформированной по Bag of Words\n",
        "print(xTrain01[0][0:100]) # Фрагмент набора слов в виде Bag of Words\n",
        "print('Время обработки: ', round(time.time() - cur_time, 2), 'c', sep='')"
      ],
      "execution_count": null,
      "outputs": [
        {
          "output_type": "stream",
          "text": [
            "(3422, 2000)\n",
            "[0. 0. 1. 1. 1. 0. 0. 1. 0. 1. 1. 0. 0. 0. 0. 0. 0. 0. 0. 0. 0. 0. 0. 0.\n",
            " 0. 0. 0. 0. 0. 0. 0. 0. 1. 0. 0. 0. 0. 0. 0. 0. 0. 0. 0. 0. 0. 0. 1. 0.\n",
            " 0. 0. 0. 0. 0. 0. 0. 0. 0. 0. 0. 0. 0. 0. 0. 0. 0. 0. 0. 0. 0. 0. 1. 0.\n",
            " 0. 0. 0. 0. 0. 0. 0. 0. 0. 0. 0. 1. 0. 0. 0. 0. 0. 0. 0. 0. 0. 0. 0. 0.\n",
            " 0. 0. 0. 0.]\n",
            "Время обработки: 0.09c\n"
          ],
          "name": "stdout"
        }
      ]
    },
    {
      "cell_type": "code",
      "metadata": {
        "id": "PxwC9RMwUWkB",
        "colab_type": "code",
        "colab": {
          "base_uri": "https://localhost:8080/",
          "height": 34
        },
        "outputId": "fc55cd98-c42c-4d03-e798-a1d0cc3d6c98"
      },
      "source": [
        "xTrain01[0]"
      ],
      "execution_count": null,
      "outputs": [
        {
          "output_type": "execute_result",
          "data": {
            "text/plain": [
              "array([0., 0., 1., ..., 0., 0., 0.])"
            ]
          },
          "metadata": {
            "tags": []
          },
          "execution_count": 246
        }
      ]
    },
    {
      "cell_type": "code",
      "metadata": {
        "id": "Nj4k1OWcUWwm",
        "colab_type": "code",
        "colab": {
          "base_uri": "https://localhost:8080/",
          "height": 34
        },
        "outputId": "b0012873-eaf6-4c85-fb60-ca61722692bb"
      },
      "source": [
        "yTrain.shape"
      ],
      "execution_count": null,
      "outputs": [
        {
          "output_type": "execute_result",
          "data": {
            "text/plain": [
              "(3422, 10)"
            ]
          },
          "metadata": {
            "tags": []
          },
          "execution_count": 247
        }
      ]
    },
    {
      "cell_type": "code",
      "metadata": {
        "id": "YgU7m7p2HCrk",
        "colab_type": "code",
        "colab": {}
      },
      "source": [
        "#Создаём полносвязную сеть\n",
        "model01 = Sequential()\n",
        "model01.add(Dense(200, input_dim=maxWordsCount, activation=\"relu\"))\n",
        "model01.add(BatchNormalization())\n",
        "model01.add(Dropout(0.5))\n",
        "\n",
        "model01.add(Dense(nClasses, activation='sigmoid'))\n",
        "\n",
        "model01.compile(optimizer='adam', \n",
        "              loss='categorical_crossentropy', \n",
        "              metrics=['accuracy'])\n"
      ],
      "execution_count": null,
      "outputs": []
    },
    {
      "cell_type": "code",
      "metadata": {
        "id": "OAuaTHTQUreQ",
        "colab_type": "code",
        "colab": {
          "base_uri": "https://localhost:8080/",
          "height": 789
        },
        "outputId": "8821b78c-0074-4848-d919-d75d05b33534"
      },
      "source": [
        "\n",
        "#Обучаем сеть на выборке, сформированной по bag of words - xTrain01\n",
        "history = model01.fit(xTrain01, \n",
        "                      yTrain, \n",
        "                      epochs=15,\n",
        "                      batch_size=128,\n",
        "                      validation_data=(xTest01, yTest))\n",
        "\n",
        "plt.plot(history.history['accuracy'], \n",
        "         label='Доля верных ответов на обучающем наборе')\n",
        "plt.plot(history.history['val_accuracy'], \n",
        "         label='Доля верных ответов на проверочном наборе')\n",
        "plt.xlabel('Эпоха обучения')\n",
        "plt.ylabel('Доля верных ответов')\n",
        "plt.legend()\n",
        "plt.show()"
      ],
      "execution_count": null,
      "outputs": [
        {
          "output_type": "stream",
          "text": [
            "Epoch 1/15\n",
            "27/27 [==============================] - 0s 11ms/step - loss: 1.7361 - accuracy: 0.6879 - val_loss: 2.2134 - val_accuracy: 0.3351\n",
            "Epoch 2/15\n",
            "27/27 [==============================] - 0s 6ms/step - loss: 1.3511 - accuracy: 0.9798 - val_loss: 2.1509 - val_accuracy: 0.4348\n",
            "Epoch 3/15\n",
            "27/27 [==============================] - 0s 6ms/step - loss: 1.1524 - accuracy: 0.9836 - val_loss: 2.0851 - val_accuracy: 0.4588\n",
            "Epoch 4/15\n",
            "27/27 [==============================] - 0s 6ms/step - loss: 0.9272 - accuracy: 0.9772 - val_loss: 2.0237 - val_accuracy: 0.4588\n",
            "Epoch 5/15\n",
            "27/27 [==============================] - 0s 6ms/step - loss: 0.6949 - accuracy: 0.9646 - val_loss: 1.9914 - val_accuracy: 0.4269\n",
            "Epoch 6/15\n",
            "27/27 [==============================] - 0s 6ms/step - loss: 0.4988 - accuracy: 0.9445 - val_loss: 1.9909 - val_accuracy: 0.4082\n",
            "Epoch 7/15\n",
            "27/27 [==============================] - 0s 6ms/step - loss: 0.3770 - accuracy: 0.9331 - val_loss: 2.0260 - val_accuracy: 0.4043\n",
            "Epoch 8/15\n",
            "27/27 [==============================] - 0s 5ms/step - loss: 0.3090 - accuracy: 0.9293 - val_loss: 2.0627 - val_accuracy: 0.3856\n",
            "Epoch 9/15\n",
            "27/27 [==============================] - 0s 6ms/step - loss: 0.2674 - accuracy: 0.9316 - val_loss: 2.0883 - val_accuracy: 0.3790\n",
            "Epoch 10/15\n",
            "27/27 [==============================] - 0s 6ms/step - loss: 0.2431 - accuracy: 0.9310 - val_loss: 2.1007 - val_accuracy: 0.3763\n",
            "Epoch 11/15\n",
            "27/27 [==============================] - 0s 6ms/step - loss: 0.2273 - accuracy: 0.9366 - val_loss: 2.0816 - val_accuracy: 0.3936\n",
            "Epoch 12/15\n",
            "27/27 [==============================] - 0s 6ms/step - loss: 0.2158 - accuracy: 0.9378 - val_loss: 2.0566 - val_accuracy: 0.4069\n",
            "Epoch 13/15\n",
            "27/27 [==============================] - 0s 6ms/step - loss: 0.2009 - accuracy: 0.9442 - val_loss: 2.0386 - val_accuracy: 0.4109\n",
            "Epoch 14/15\n",
            "27/27 [==============================] - 0s 5ms/step - loss: 0.1931 - accuracy: 0.9474 - val_loss: 2.0510 - val_accuracy: 0.4109\n",
            "Epoch 15/15\n",
            "27/27 [==============================] - 0s 5ms/step - loss: 0.1856 - accuracy: 0.9456 - val_loss: 2.1151 - val_accuracy: 0.4149\n"
          ],
          "name": "stdout"
        },
        {
          "output_type": "display_data",
          "data": {
            "image/png": "[encoded data removed]",
            "text/plain": [
              "<Figure size 432x288 with 1 Axes>"
            ]
          },
          "metadata": {
            "tags": [],
            "needs_background": "light"
          }
        }
      ]
    },
    {
      "cell_type": "code",
      "metadata": {
        "id": "lHGzXkfaTgz6",
        "colab_type": "code",
        "colab": {}
      },
      "source": [
        ""
      ],
      "execution_count": null,
      "outputs": []
    },
    {
      "cell_type": "markdown",
      "metadata": {
        "id": "IcsyTmktafp0",
        "colab_type": "text"
      },
      "source": [
        "Результаты на отдельном окне ухудшились, но теперь можно попытаться выжать точность за счет \"голосования\""
      ]
    },
    {
      "cell_type": "markdown",
      "metadata": {
        "id": "x-a2l1ExJhst",
        "colab_type": "text"
      },
      "source": [
        "**ВЫВОД**\n",
        "\n",
        "Я рассчитывал воспользоваться функциями из задачи про писателей, но оказалось что они написаны для вырожденного случая когда число классов совпадает с числом тестовых образцов. Эти функции нуждаются в обобщении на более общий случай. К тому же выявилась еще одна проблема - \"скользящее окно\" пожалуй не годится для случая когда много коротких текстов (короче размера окна). Такие тексты вообще нельзя обработать.\n",
        "\n",
        "В общем, мои предположения что \"скользящее окно\" хорошо подойдет для задачи диагностики болезней не оправдались."
      ]
    },
    {
      "cell_type": "code",
      "metadata": {
        "id": "U-1vmWU9cAKn",
        "colab_type": "code",
        "colab": {}
      },
      "source": [
        ""
      ],
      "execution_count": null,
      "outputs": []
    }
  ]
}