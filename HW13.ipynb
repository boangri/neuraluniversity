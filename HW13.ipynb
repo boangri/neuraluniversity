{
  "nbformat": 4,
  "nbformat_minor": 0,
  "metadata": {
    "colab": {
      "name": "HW13",
      "provenance": [],
      "collapsed_sections": [],
      "toc_visible": true,
      "machine_shape": "hm",
      "include_colab_link": true
    },
    "kernelspec": {
      "name": "python3",
      "display_name": "Python 3"
    },
    "widgets": {
      "application/vnd.jupyter.widget-state+json": {
        "555766bb4b3a4e458c69e4b0ba6a0d58": {
          "model_module": "@jupyter-widgets/controls",
          "model_name": "HBoxModel",
          "state": {
            "_view_name": "HBoxView",
            "_dom_classes": [],
            "_model_name": "HBoxModel",
            "_view_module": "@jupyter-widgets/controls",
            "_model_module_version": "1.5.0",
            "_view_count": null,
            "_view_module_version": "1.5.0",
            "box_style": "",
            "layout": "IPY_MODEL_cdd328ce9d53457eabb577435b9e97b4",
            "_model_module": "@jupyter-widgets/controls",
            "children": [
              "IPY_MODEL_597221c0e3be4b968cd1b80ce79f0c62",
              "IPY_MODEL_9bd6c2feba2f42eb9425296b02035980"
            ]
          }
        },
        "cdd328ce9d53457eabb577435b9e97b4": {
          "model_module": "@jupyter-widgets/base",
          "model_name": "LayoutModel",
          "state": {
            "_view_name": "LayoutView",
            "grid_template_rows": null,
            "right": null,
            "justify_content": null,
            "_view_module": "@jupyter-widgets/base",
            "overflow": null,
            "_model_module_version": "1.2.0",
            "_view_count": null,
            "flex_flow": null,
            "width": null,
            "min_width": null,
            "border": null,
            "align_items": null,
            "bottom": null,
            "_model_module": "@jupyter-widgets/base",
            "top": null,
            "grid_column": null,
            "overflow_y": null,
            "overflow_x": null,
            "grid_auto_flow": null,
            "grid_area": null,
            "grid_template_columns": null,
            "flex": null,
            "_model_name": "LayoutModel",
            "justify_items": null,
            "grid_row": null,
            "max_height": null,
            "align_content": null,
            "visibility": null,
            "align_self": null,
            "height": null,
            "min_height": null,
            "padding": null,
            "grid_auto_rows": null,
            "grid_gap": null,
            "max_width": null,
            "order": null,
            "_view_module_version": "1.2.0",
            "grid_template_areas": null,
            "object_position": null,
            "object_fit": null,
            "grid_auto_columns": null,
            "margin": null,
            "display": null,
            "left": null
          }
        },
        "597221c0e3be4b968cd1b80ce79f0c62": {
          "model_module": "@jupyter-widgets/controls",
          "model_name": "FloatProgressModel",
          "state": {
            "_view_name": "ProgressView",
            "style": "IPY_MODEL_72a6fed5c4504e1abe63d488cbca14b9",
            "_dom_classes": [],
            "description": "Downloading: 100%",
            "_model_name": "FloatProgressModel",
            "bar_style": "success",
            "max": 599,
            "_view_module": "@jupyter-widgets/controls",
            "_model_module_version": "1.5.0",
            "value": 599,
            "_view_count": null,
            "_view_module_version": "1.5.0",
            "orientation": "horizontal",
            "min": 0,
            "description_tooltip": null,
            "_model_module": "@jupyter-widgets/controls",
            "layout": "IPY_MODEL_e2a6d6c84bff4f5d9e074d76adfb61f5"
          }
        },
        "9bd6c2feba2f42eb9425296b02035980": {
          "model_module": "@jupyter-widgets/controls",
          "model_name": "HTMLModel",
          "state": {
            "_view_name": "HTMLView",
            "style": "IPY_MODEL_960d6fe0bdff4a6795d174e3bc826ab7",
            "_dom_classes": [],
            "description": "",
            "_model_name": "HTMLModel",
            "placeholder": "​",
            "_view_module": "@jupyter-widgets/controls",
            "_model_module_version": "1.5.0",
            "value": " 599/599 [00:01&lt;00:00, 304B/s]",
            "_view_count": null,
            "_view_module_version": "1.5.0",
            "description_tooltip": null,
            "_model_module": "@jupyter-widgets/controls",
            "layout": "IPY_MODEL_7382db3f1c1c4bb284cd4fdd32748adb"
          }
        },
        "72a6fed5c4504e1abe63d488cbca14b9": {
          "model_module": "@jupyter-widgets/controls",
          "model_name": "ProgressStyleModel",
          "state": {
            "_view_name": "StyleView",
            "_model_name": "ProgressStyleModel",
            "description_width": "initial",
            "_view_module": "@jupyter-widgets/base",
            "_model_module_version": "1.5.0",
            "_view_count": null,
            "_view_module_version": "1.2.0",
            "bar_color": null,
            "_model_module": "@jupyter-widgets/controls"
          }
        },
        "e2a6d6c84bff4f5d9e074d76adfb61f5": {
          "model_module": "@jupyter-widgets/base",
          "model_name": "LayoutModel",
          "state": {
            "_view_name": "LayoutView",
            "grid_template_rows": null,
            "right": null,
            "justify_content": null,
            "_view_module": "@jupyter-widgets/base",
            "overflow": null,
            "_model_module_version": "1.2.0",
            "_view_count": null,
            "flex_flow": null,
            "width": null,
            "min_width": null,
            "border": null,
            "align_items": null,
            "bottom": null,
            "_model_module": "@jupyter-widgets/base",
            "top": null,
            "grid_column": null,
            "overflow_y": null,
            "overflow_x": null,
            "grid_auto_flow": null,
            "grid_area": null,
            "grid_template_columns": null,
            "flex": null,
            "_model_name": "LayoutModel",
            "justify_items": null,
            "grid_row": null,
            "max_height": null,
            "align_content": null,
            "visibility": null,
            "align_self": null,
            "height": null,
            "min_height": null,
            "padding": null,
            "grid_auto_rows": null,
            "grid_gap": null,
            "max_width": null,
            "order": null,
            "_view_module_version": "1.2.0",
            "grid_template_areas": null,
            "object_position": null,
            "object_fit": null,
            "grid_auto_columns": null,
            "margin": null,
            "display": null,
            "left": null
          }
        },
        "960d6fe0bdff4a6795d174e3bc826ab7": {
          "model_module": "@jupyter-widgets/controls",
          "model_name": "DescriptionStyleModel",
          "state": {
            "_view_name": "StyleView",
            "_model_name": "DescriptionStyleModel",
            "description_width": "",
            "_view_module": "@jupyter-widgets/base",
            "_model_module_version": "1.5.0",
            "_view_count": null,
            "_view_module_version": "1.2.0",
            "_model_module": "@jupyter-widgets/controls"
          }
        },
        "7382db3f1c1c4bb284cd4fdd32748adb": {
          "model_module": "@jupyter-widgets/base",
          "model_name": "LayoutModel",
          "state": {
            "_view_name": "LayoutView",
            "grid_template_rows": null,
            "right": null,
            "justify_content": null,
            "_view_module": "@jupyter-widgets/base",
            "overflow": null,
            "_model_module_version": "1.2.0",
            "_view_count": null,
            "flex_flow": null,
            "width": null,
            "min_width": null,
            "border": null,
            "align_items": null,
            "bottom": null,
            "_model_module": "@jupyter-widgets/base",
            "top": null,
            "grid_column": null,
            "overflow_y": null,
            "overflow_x": null,
            "grid_auto_flow": null,
            "grid_area": null,
            "grid_template_columns": null,
            "flex": null,
            "_model_name": "LayoutModel",
            "justify_items": null,
            "grid_row": null,
            "max_height": null,
            "align_content": null,
            "visibility": null,
            "align_self": null,
            "height": null,
            "min_height": null,
            "padding": null,
            "grid_auto_rows": null,
            "grid_gap": null,
            "max_width": null,
            "order": null,
            "_view_module_version": "1.2.0",
            "grid_template_areas": null,
            "object_position": null,
            "object_fit": null,
            "grid_auto_columns": null,
            "margin": null,
            "display": null,
            "left": null
          }
        },
        "0e990dd52b5e46ed83248447513f4532": {
          "model_module": "@jupyter-widgets/controls",
          "model_name": "HBoxModel",
          "state": {
            "_view_name": "HBoxView",
            "_dom_classes": [],
            "_model_name": "HBoxModel",
            "_view_module": "@jupyter-widgets/controls",
            "_model_module_version": "1.5.0",
            "_view_count": null,
            "_view_module_version": "1.5.0",
            "box_style": "",
            "layout": "IPY_MODEL_247a733504d84d88a4d93f170cff5187",
            "_model_module": "@jupyter-widgets/controls",
            "children": [
              "IPY_MODEL_5bb52877d2734949af78f507a787bffb",
              "IPY_MODEL_d74ef0fe6e1e4501842ab5e7f0b899e6"
            ]
          }
        },
        "247a733504d84d88a4d93f170cff5187": {
          "model_module": "@jupyter-widgets/base",
          "model_name": "LayoutModel",
          "state": {
            "_view_name": "LayoutView",
            "grid_template_rows": null,
            "right": null,
            "justify_content": null,
            "_view_module": "@jupyter-widgets/base",
            "overflow": null,
            "_model_module_version": "1.2.0",
            "_view_count": null,
            "flex_flow": null,
            "width": null,
            "min_width": null,
            "border": null,
            "align_items": null,
            "bottom": null,
            "_model_module": "@jupyter-widgets/base",
            "top": null,
            "grid_column": null,
            "overflow_y": null,
            "overflow_x": null,
            "grid_auto_flow": null,
            "grid_area": null,
            "grid_template_columns": null,
            "flex": null,
            "_model_name": "LayoutModel",
            "justify_items": null,
            "grid_row": null,
            "max_height": null,
            "align_content": null,
            "visibility": null,
            "align_self": null,
            "height": null,
            "min_height": null,
            "padding": null,
            "grid_auto_rows": null,
            "grid_gap": null,
            "max_width": null,
            "order": null,
            "_view_module_version": "1.2.0",
            "grid_template_areas": null,
            "object_position": null,
            "object_fit": null,
            "grid_auto_columns": null,
            "margin": null,
            "display": null,
            "left": null
          }
        },
        "5bb52877d2734949af78f507a787bffb": {
          "model_module": "@jupyter-widgets/controls",
          "model_name": "FloatProgressModel",
          "state": {
            "_view_name": "ProgressView",
            "style": "IPY_MODEL_4cf20decf342481ba269fd0f573dfca2",
            "_dom_classes": [],
            "description": "Downloading: 100%",
            "_model_name": "FloatProgressModel",
            "bar_style": "success",
            "max": 1711112,
            "_view_module": "@jupyter-widgets/controls",
            "_model_module_version": "1.5.0",
            "value": 1711112,
            "_view_count": null,
            "_view_module_version": "1.5.0",
            "orientation": "horizontal",
            "min": 0,
            "description_tooltip": null,
            "_model_module": "@jupyter-widgets/controls",
            "layout": "IPY_MODEL_3ee22b79b13743c88720dd6dd964f981"
          }
        },
        "d74ef0fe6e1e4501842ab5e7f0b899e6": {
          "model_module": "@jupyter-widgets/controls",
          "model_name": "HTMLModel",
          "state": {
            "_view_name": "HTMLView",
            "style": "IPY_MODEL_d72009b8657c492da738eef7fa9b31c8",
            "_dom_classes": [],
            "description": "",
            "_model_name": "HTMLModel",
            "placeholder": "​",
            "_view_module": "@jupyter-widgets/controls",
            "_model_module_version": "1.5.0",
            "value": " 1.71M/1.71M [00:01&lt;00:00, 1.06MB/s]",
            "_view_count": null,
            "_view_module_version": "1.5.0",
            "description_tooltip": null,
            "_model_module": "@jupyter-widgets/controls",
            "layout": "IPY_MODEL_e4d35e1f6a334cfdb0beb172b47186a8"
          }
        },
        "4cf20decf342481ba269fd0f573dfca2": {
          "model_module": "@jupyter-widgets/controls",
          "model_name": "ProgressStyleModel",
          "state": {
            "_view_name": "StyleView",
            "_model_name": "ProgressStyleModel",
            "description_width": "initial",
            "_view_module": "@jupyter-widgets/base",
            "_model_module_version": "1.5.0",
            "_view_count": null,
            "_view_module_version": "1.2.0",
            "bar_color": null,
            "_model_module": "@jupyter-widgets/controls"
          }
        },
        "3ee22b79b13743c88720dd6dd964f981": {
          "model_module": "@jupyter-widgets/base",
          "model_name": "LayoutModel",
          "state": {
            "_view_name": "LayoutView",
            "grid_template_rows": null,
            "right": null,
            "justify_content": null,
            "_view_module": "@jupyter-widgets/base",
            "overflow": null,
            "_model_module_version": "1.2.0",
            "_view_count": null,
            "flex_flow": null,
            "width": null,
            "min_width": null,
            "border": null,
            "align_items": null,
            "bottom": null,
            "_model_module": "@jupyter-widgets/base",
            "top": null,
            "grid_column": null,
            "overflow_y": null,
            "overflow_x": null,
            "grid_auto_flow": null,
            "grid_area": null,
            "grid_template_columns": null,
            "flex": null,
            "_model_name": "LayoutModel",
            "justify_items": null,
            "grid_row": null,
            "max_height": null,
            "align_content": null,
            "visibility": null,
            "align_self": null,
            "height": null,
            "min_height": null,
            "padding": null,
            "grid_auto_rows": null,
            "grid_gap": null,
            "max_width": null,
            "order": null,
            "_view_module_version": "1.2.0",
            "grid_template_areas": null,
            "object_position": null,
            "object_fit": null,
            "grid_auto_columns": null,
            "margin": null,
            "display": null,
            "left": null
          }
        },
        "d72009b8657c492da738eef7fa9b31c8": {
          "model_module": "@jupyter-widgets/controls",
          "model_name": "DescriptionStyleModel",
          "state": {
            "_view_name": "StyleView",
            "_model_name": "DescriptionStyleModel",
            "description_width": "",
            "_view_module": "@jupyter-widgets/base",
            "_model_module_version": "1.5.0",
            "_view_count": null,
            "_view_module_version": "1.2.0",
            "_model_module": "@jupyter-widgets/controls"
          }
        },
        "e4d35e1f6a334cfdb0beb172b47186a8": {
          "model_module": "@jupyter-widgets/base",
          "model_name": "LayoutModel",
          "state": {
            "_view_name": "LayoutView",
            "grid_template_rows": null,
            "right": null,
            "justify_content": null,
            "_view_module": "@jupyter-widgets/base",
            "overflow": null,
            "_model_module_version": "1.2.0",
            "_view_count": null,
            "flex_flow": null,
            "width": null,
            "min_width": null,
            "border": null,
            "align_items": null,
            "bottom": null,
            "_model_module": "@jupyter-widgets/base",
            "top": null,
            "grid_column": null,
            "overflow_y": null,
            "overflow_x": null,
            "grid_auto_flow": null,
            "grid_area": null,
            "grid_template_columns": null,
            "flex": null,
            "_model_name": "LayoutModel",
            "justify_items": null,
            "grid_row": null,
            "max_height": null,
            "align_content": null,
            "visibility": null,
            "align_self": null,
            "height": null,
            "min_height": null,
            "padding": null,
            "grid_auto_rows": null,
            "grid_gap": null,
            "max_width": null,
            "order": null,
            "_view_module_version": "1.2.0",
            "grid_template_areas": null,
            "object_position": null,
            "object_fit": null,
            "grid_auto_columns": null,
            "margin": null,
            "display": null,
            "left": null
          }
        },
        "579874a737d34a2fb720ec93f4feda23": {
          "model_module": "@jupyter-widgets/controls",
          "model_name": "HBoxModel",
          "state": {
            "_view_name": "HBoxView",
            "_dom_classes": [],
            "_model_name": "HBoxModel",
            "_view_module": "@jupyter-widgets/controls",
            "_model_module_version": "1.5.0",
            "_view_count": null,
            "_view_module_version": "1.5.0",
            "box_style": "",
            "layout": "IPY_MODEL_71b8cd8d4c484bbf87725870be34cb71",
            "_model_module": "@jupyter-widgets/controls",
            "children": [
              "IPY_MODEL_591f201ba3de447d9703e3797a653e02",
              "IPY_MODEL_aa45a3c950334cb0b54642227e3e6008"
            ]
          }
        },
        "71b8cd8d4c484bbf87725870be34cb71": {
          "model_module": "@jupyter-widgets/base",
          "model_name": "LayoutModel",
          "state": {
            "_view_name": "LayoutView",
            "grid_template_rows": null,
            "right": null,
            "justify_content": null,
            "_view_module": "@jupyter-widgets/base",
            "overflow": null,
            "_model_module_version": "1.2.0",
            "_view_count": null,
            "flex_flow": null,
            "width": null,
            "min_width": null,
            "border": null,
            "align_items": null,
            "bottom": null,
            "_model_module": "@jupyter-widgets/base",
            "top": null,
            "grid_column": null,
            "overflow_y": null,
            "overflow_x": null,
            "grid_auto_flow": null,
            "grid_area": null,
            "grid_template_columns": null,
            "flex": null,
            "_model_name": "LayoutModel",
            "justify_items": null,
            "grid_row": null,
            "max_height": null,
            "align_content": null,
            "visibility": null,
            "align_self": null,
            "height": null,
            "min_height": null,
            "padding": null,
            "grid_auto_rows": null,
            "grid_gap": null,
            "max_width": null,
            "order": null,
            "_view_module_version": "1.2.0",
            "grid_template_areas": null,
            "object_position": null,
            "object_fit": null,
            "grid_auto_columns": null,
            "margin": null,
            "display": null,
            "left": null
          }
        },
        "591f201ba3de447d9703e3797a653e02": {
          "model_module": "@jupyter-widgets/controls",
          "model_name": "FloatProgressModel",
          "state": {
            "_view_name": "ProgressView",
            "style": "IPY_MODEL_1d8f1076d4a44b18b7ee2faf9fb95ec4",
            "_dom_classes": [],
            "description": "Downloading: 100%",
            "_model_name": "FloatProgressModel",
            "bar_style": "success",
            "max": 1369481,
            "_view_module": "@jupyter-widgets/controls",
            "_model_module_version": "1.5.0",
            "value": 1369481,
            "_view_count": null,
            "_view_module_version": "1.5.0",
            "orientation": "horizontal",
            "min": 0,
            "description_tooltip": null,
            "_model_module": "@jupyter-widgets/controls",
            "layout": "IPY_MODEL_4b65bff132a94a97b4365795f11a57b1"
          }
        },
        "aa45a3c950334cb0b54642227e3e6008": {
          "model_module": "@jupyter-widgets/controls",
          "model_name": "HTMLModel",
          "state": {
            "_view_name": "HTMLView",
            "style": "IPY_MODEL_7c44cc6d3bf64453bb92e1ac687b079b",
            "_dom_classes": [],
            "description": "",
            "_model_name": "HTMLModel",
            "placeholder": "​",
            "_view_module": "@jupyter-widgets/controls",
            "_model_module_version": "1.5.0",
            "value": " 1.37M/1.37M [00:01&lt;00:00, 1.28MB/s]",
            "_view_count": null,
            "_view_module_version": "1.5.0",
            "description_tooltip": null,
            "_model_module": "@jupyter-widgets/controls",
            "layout": "IPY_MODEL_d5f561aa291b4d4c86da0ed12435cdd7"
          }
        },
        "1d8f1076d4a44b18b7ee2faf9fb95ec4": {
          "model_module": "@jupyter-widgets/controls",
          "model_name": "ProgressStyleModel",
          "state": {
            "_view_name": "StyleView",
            "_model_name": "ProgressStyleModel",
            "description_width": "initial",
            "_view_module": "@jupyter-widgets/base",
            "_model_module_version": "1.5.0",
            "_view_count": null,
            "_view_module_version": "1.2.0",
            "bar_color": null,
            "_model_module": "@jupyter-widgets/controls"
          }
        },
        "4b65bff132a94a97b4365795f11a57b1": {
          "model_module": "@jupyter-widgets/base",
          "model_name": "LayoutModel",
          "state": {
            "_view_name": "LayoutView",
            "grid_template_rows": null,
            "right": null,
            "justify_content": null,
            "_view_module": "@jupyter-widgets/base",
            "overflow": null,
            "_model_module_version": "1.2.0",
            "_view_count": null,
            "flex_flow": null,
            "width": null,
            "min_width": null,
            "border": null,
            "align_items": null,
            "bottom": null,
            "_model_module": "@jupyter-widgets/base",
            "top": null,
            "grid_column": null,
            "overflow_y": null,
            "overflow_x": null,
            "grid_auto_flow": null,
            "grid_area": null,
            "grid_template_columns": null,
            "flex": null,
            "_model_name": "LayoutModel",
            "justify_items": null,
            "grid_row": null,
            "max_height": null,
            "align_content": null,
            "visibility": null,
            "align_self": null,
            "height": null,
            "min_height": null,
            "padding": null,
            "grid_auto_rows": null,
            "grid_gap": null,
            "max_width": null,
            "order": null,
            "_view_module_version": "1.2.0",
            "grid_template_areas": null,
            "object_position": null,
            "object_fit": null,
            "grid_auto_columns": null,
            "margin": null,
            "display": null,
            "left": null
          }
        },
        "7c44cc6d3bf64453bb92e1ac687b079b": {
          "model_module": "@jupyter-widgets/controls",
          "model_name": "DescriptionStyleModel",
          "state": {
            "_view_name": "StyleView",
            "_model_name": "DescriptionStyleModel",
            "description_width": "",
            "_view_module": "@jupyter-widgets/base",
            "_model_module_version": "1.5.0",
            "_view_count": null,
            "_view_module_version": "1.2.0",
            "_model_module": "@jupyter-widgets/controls"
          }
        },
        "d5f561aa291b4d4c86da0ed12435cdd7": {
          "model_module": "@jupyter-widgets/base",
          "model_name": "LayoutModel",
          "state": {
            "_view_name": "LayoutView",
            "grid_template_rows": null,
            "right": null,
            "justify_content": null,
            "_view_module": "@jupyter-widgets/base",
            "overflow": null,
            "_model_module_version": "1.2.0",
            "_view_count": null,
            "flex_flow": null,
            "width": null,
            "min_width": null,
            "border": null,
            "align_items": null,
            "bottom": null,
            "_model_module": "@jupyter-widgets/base",
            "top": null,
            "grid_column": null,
            "overflow_y": null,
            "overflow_x": null,
            "grid_auto_flow": null,
            "grid_area": null,
            "grid_template_columns": null,
            "flex": null,
            "_model_name": "LayoutModel",
            "justify_items": null,
            "grid_row": null,
            "max_height": null,
            "align_content": null,
            "visibility": null,
            "align_self": null,
            "height": null,
            "min_height": null,
            "padding": null,
            "grid_auto_rows": null,
            "grid_gap": null,
            "max_width": null,
            "order": null,
            "_view_module_version": "1.2.0",
            "grid_template_areas": null,
            "object_position": null,
            "object_fit": null,
            "grid_auto_columns": null,
            "margin": null,
            "display": null,
            "left": null
          }
        },
        "6f1e60b9c7634813af896a1759902209": {
          "model_module": "@jupyter-widgets/controls",
          "model_name": "HBoxModel",
          "state": {
            "_view_name": "HBoxView",
            "_dom_classes": [],
            "_model_name": "HBoxModel",
            "_view_module": "@jupyter-widgets/controls",
            "_model_module_version": "1.5.0",
            "_view_count": null,
            "_view_module_version": "1.5.0",
            "box_style": "",
            "layout": "IPY_MODEL_b72c8539a30e4d94943b141eefc4ee5d",
            "_model_module": "@jupyter-widgets/controls",
            "children": [
              "IPY_MODEL_a4fecf9ab29a471eb96cfaf7cfdb20b2",
              "IPY_MODEL_96822e580b784659891c111bd2ec0144"
            ]
          }
        },
        "b72c8539a30e4d94943b141eefc4ee5d": {
          "model_module": "@jupyter-widgets/base",
          "model_name": "LayoutModel",
          "state": {
            "_view_name": "LayoutView",
            "grid_template_rows": null,
            "right": null,
            "justify_content": null,
            "_view_module": "@jupyter-widgets/base",
            "overflow": null,
            "_model_module_version": "1.2.0",
            "_view_count": null,
            "flex_flow": null,
            "width": null,
            "min_width": null,
            "border": null,
            "align_items": null,
            "bottom": null,
            "_model_module": "@jupyter-widgets/base",
            "top": null,
            "grid_column": null,
            "overflow_y": null,
            "overflow_x": null,
            "grid_auto_flow": null,
            "grid_area": null,
            "grid_template_columns": null,
            "flex": null,
            "_model_name": "LayoutModel",
            "justify_items": null,
            "grid_row": null,
            "max_height": null,
            "align_content": null,
            "visibility": null,
            "align_self": null,
            "height": null,
            "min_height": null,
            "padding": null,
            "grid_auto_rows": null,
            "grid_gap": null,
            "max_width": null,
            "order": null,
            "_view_module_version": "1.2.0",
            "grid_template_areas": null,
            "object_position": null,
            "object_fit": null,
            "grid_auto_columns": null,
            "margin": null,
            "display": null,
            "left": null
          }
        },
        "a4fecf9ab29a471eb96cfaf7cfdb20b2": {
          "model_module": "@jupyter-widgets/controls",
          "model_name": "FloatProgressModel",
          "state": {
            "_view_name": "ProgressView",
            "style": "IPY_MODEL_7c7ef0ef215a4b089ad495935cb8b56f",
            "_dom_classes": [],
            "description": "Downloading: 100%",
            "_model_name": "FloatProgressModel",
            "bar_style": "success",
            "max": 3391290339,
            "_view_module": "@jupyter-widgets/controls",
            "_model_module_version": "1.5.0",
            "value": 3391290339,
            "_view_count": null,
            "_view_module_version": "1.5.0",
            "orientation": "horizontal",
            "min": 0,
            "description_tooltip": null,
            "_model_module": "@jupyter-widgets/controls",
            "layout": "IPY_MODEL_1e2f99b38e52406bb655f35e4b6dd411"
          }
        },
        "96822e580b784659891c111bd2ec0144": {
          "model_module": "@jupyter-widgets/controls",
          "model_name": "HTMLModel",
          "state": {
            "_view_name": "HTMLView",
            "style": "IPY_MODEL_c00d234240fe40b294bfee3e1c02e504",
            "_dom_classes": [],
            "description": "",
            "_model_name": "HTMLModel",
            "placeholder": "​",
            "_view_module": "@jupyter-widgets/controls",
            "_model_module_version": "1.5.0",
            "value": " 3.39G/3.39G [16:41&lt;00:00, 3.39MB/s]",
            "_view_count": null,
            "_view_module_version": "1.5.0",
            "description_tooltip": null,
            "_model_module": "@jupyter-widgets/controls",
            "layout": "IPY_MODEL_c6b36cf6fa844f4f96cbc41785d3455e"
          }
        },
        "7c7ef0ef215a4b089ad495935cb8b56f": {
          "model_module": "@jupyter-widgets/controls",
          "model_name": "ProgressStyleModel",
          "state": {
            "_view_name": "StyleView",
            "_model_name": "ProgressStyleModel",
            "description_width": "initial",
            "_view_module": "@jupyter-widgets/base",
            "_model_module_version": "1.5.0",
            "_view_count": null,
            "_view_module_version": "1.2.0",
            "bar_color": null,
            "_model_module": "@jupyter-widgets/controls"
          }
        },
        "1e2f99b38e52406bb655f35e4b6dd411": {
          "model_module": "@jupyter-widgets/base",
          "model_name": "LayoutModel",
          "state": {
            "_view_name": "LayoutView",
            "grid_template_rows": null,
            "right": null,
            "justify_content": null,
            "_view_module": "@jupyter-widgets/base",
            "overflow": null,
            "_model_module_version": "1.2.0",
            "_view_count": null,
            "flex_flow": null,
            "width": null,
            "min_width": null,
            "border": null,
            "align_items": null,
            "bottom": null,
            "_model_module": "@jupyter-widgets/base",
            "top": null,
            "grid_column": null,
            "overflow_y": null,
            "overflow_x": null,
            "grid_auto_flow": null,
            "grid_area": null,
            "grid_template_columns": null,
            "flex": null,
            "_model_name": "LayoutModel",
            "justify_items": null,
            "grid_row": null,
            "max_height": null,
            "align_content": null,
            "visibility": null,
            "align_self": null,
            "height": null,
            "min_height": null,
            "padding": null,
            "grid_auto_rows": null,
            "grid_gap": null,
            "max_width": null,
            "order": null,
            "_view_module_version": "1.2.0",
            "grid_template_areas": null,
            "object_position": null,
            "object_fit": null,
            "grid_auto_columns": null,
            "margin": null,
            "display": null,
            "left": null
          }
        },
        "c00d234240fe40b294bfee3e1c02e504": {
          "model_module": "@jupyter-widgets/controls",
          "model_name": "DescriptionStyleModel",
          "state": {
            "_view_name": "StyleView",
            "_model_name": "DescriptionStyleModel",
            "description_width": "",
            "_view_module": "@jupyter-widgets/base",
            "_model_module_version": "1.5.0",
            "_view_count": null,
            "_view_module_version": "1.2.0",
            "_model_module": "@jupyter-widgets/controls"
          }
        },
        "c6b36cf6fa844f4f96cbc41785d3455e": {
          "model_module": "@jupyter-widgets/base",
          "model_name": "LayoutModel",
          "state": {
            "_view_name": "LayoutView",
            "grid_template_rows": null,
            "right": null,
            "justify_content": null,
            "_view_module": "@jupyter-widgets/base",
            "overflow": null,
            "_model_module_version": "1.2.0",
            "_view_count": null,
            "flex_flow": null,
            "width": null,
            "min_width": null,
            "border": null,
            "align_items": null,
            "bottom": null,
            "_model_module": "@jupyter-widgets/base",
            "top": null,
            "grid_column": null,
            "overflow_y": null,
            "overflow_x": null,
            "grid_auto_flow": null,
            "grid_area": null,
            "grid_template_columns": null,
            "flex": null,
            "_model_name": "LayoutModel",
            "justify_items": null,
            "grid_row": null,
            "max_height": null,
            "align_content": null,
            "visibility": null,
            "align_self": null,
            "height": null,
            "min_height": null,
            "padding": null,
            "grid_auto_rows": null,
            "grid_gap": null,
            "max_width": null,
            "order": null,
            "_view_module_version": "1.2.0",
            "grid_template_areas": null,
            "object_position": null,
            "object_fit": null,
            "grid_auto_columns": null,
            "margin": null,
            "display": null,
            "left": null
          }
        }
      }
    },
    "accelerator": "GPU"
  },
  "cells": [
    {
      "cell_type": "markdown",
      "metadata": {
        "id": "view-in-github",
        "colab_type": "text"
      },
      "source": [
        "<a href=\"https://colab.research.google.com/github/boangri/neuraluniversity/blob/master/HW13.ipynb\" target=\"_parent\"><img src=\"https://colab.research.google.com/assets/colab-badge.svg\" alt=\"Open In Colab\"/></a>"
      ]
    },
    {
      "cell_type": "markdown",
      "metadata": {
        "id": "ESeGeuVBHTbX"
      },
      "source": [
        "# Домашнее задание к занятию №13 \"Генерация текстов\" 18.10.2020\n",
        "\n",
        "Борис Грибовский <xinu@yandex.ru>"
      ]
    },
    {
      "cell_type": "markdown",
      "metadata": {
        "id": "9LXvhH_AH3UZ"
      },
      "source": [
        "## Подготовка данных"
      ]
    },
    {
      "cell_type": "markdown",
      "metadata": {
        "id": "1g-tBeFP38Rp"
      },
      "source": [
        "### Import библиотек"
      ]
    },
    {
      "cell_type": "code",
      "metadata": {
        "id": "3j1Wpkvc3Q2s"
      },
      "source": [
        "from google.colab import files # модуль для загрузки файлов в colab\n",
        "import numpy as np #библиотека для работы с массивами данных\n",
        "\n",
        "import tensorflow as tf\n",
        "from tensorflow.keras.models import Model, load_model # из кераса подгружаем абстрактный класс базовой модели, метод загрузки предобученной модели\n",
        "from tensorflow.keras.layers import Dense, Embedding, LSTM, Input, Flatten # из кераса загружаем необходимые слои для нейросети\n",
        "from tensorflow.keras.optimizers import Adam, RMSprop, Adadelta # из кераса загружаем выбранный оптимизатор\n",
        "from tensorflow.keras.preprocessing.sequence import pad_sequences # загружаем метод ограничения последовательности заданной длиной\n",
        "from tensorflow.keras.preprocessing.text import Tokenizer # загружаем токенизатор кераса для обработки текста\n",
        "from tensorflow.keras import utils # загружаем утилиты кераса для one hot кодировки\n",
        "from tensorflow.keras.utils import Sequence, to_categorical, plot_model # удобный график для визуализации архитектуры модели\n",
        "\n",
        "import yaml # импортируем модуль для удобной работы с файлами\n",
        "\n",
        "from matplotlib import pyplot as plt\n",
        "import random"
      ],
      "execution_count": null,
      "outputs": []
    },
    {
      "cell_type": "code",
      "metadata": {
        "id": "200dSPOYZE7N",
        "outputId": "87afafd6-0cbe-4011-f2b6-9a5df1c817cf",
        "colab": {
          "base_uri": "https://localhost:8080/",
          "height": 34
        }
      },
      "source": [
        "from google.colab import drive\n",
        "drive.mount('/content/drive')"
      ],
      "execution_count": null,
      "outputs": [
        {
          "output_type": "stream",
          "text": [
            "Mounted at /content/drive\n"
          ],
          "name": "stdout"
        }
      ]
    },
    {
      "cell_type": "markdown",
      "metadata": {
        "id": "dFE9361LARP5"
      },
      "source": [
        "### Мои функции и классы"
      ]
    },
    {
      "cell_type": "code",
      "metadata": {
        "id": "pPltFTY_AVPW"
      },
      "source": [
        "# Отделение знаков препинания пробелами\n",
        "def replaceSigns(s):\n",
        "    s = s.replace('.', ' . ')\n",
        "    s = s.replace(',', ' , ')\n",
        "    s = s.replace('!', ' ! ')\n",
        "    s = s.replace('?', ' ? ')\n",
        "    return s.lower()\n",
        "\n",
        "# Исправленная версия\n",
        "def strToTokens(sentence: str, maxlen=14): # функция принимает строку на вход (предложение с вопросом)\n",
        "    words = sentence.lower().split() # приводит предложение к нижнему регистру и разбирает на слова\n",
        "    tokensList = tokenizer.texts_to_sequences([words])\n",
        "    return pad_sequences(tokensList, maxlen=maxlen , padding='post')\n",
        "\n",
        "# Класс строит график всего обучения, состоявшего из нескольких этапов.\n",
        "class LearnHistory:\n",
        "    def __init__(self):\n",
        "        self.history = {'loss':[], 'val_loss': []}\n",
        "\n",
        "    def append(self, history):\n",
        "        self.history['loss'].extend(history.history['loss'])\n",
        "        self.history['val_loss'].extend(history.history['val_loss'])\n",
        "\n",
        "    def plot(self, ylim=None):\n",
        "        ep = [i+1 for i in range(len(self.history['loss']))]\n",
        "        plt.plot(ep, self.history['loss'], label='Loss на обучающем наборе')\n",
        "        plt.plot(ep, self.history['val_loss'], label='Loss на проверочном наборе')\n",
        "        plt.ylabel('Средняя ошибка')\n",
        "        plt.xlabel('Эпоха')\n",
        "        if ylim is not None:\n",
        "            plt.ylim(0, ylim)\n",
        "        plt.title('История обучения')\n",
        "        plt.grid()\n",
        "        plt.legend()\n",
        "        plt.show()\n",
        "\n",
        "# Делает батчи для обучения\n",
        "class MySequence(Sequence):\n",
        "    def __init__(self, x_set, y_set, voc_len, batch_size=50):\n",
        "        self.x, self.y = x_set, y_set\n",
        "        self.batch_size = batch_size\n",
        "        self.voc_len = voc_len\n",
        "\n",
        "    def __len__(self):\n",
        "        return len(self.x) // self.batch_size\n",
        "\n",
        "    def __getitem__(self, idx):\n",
        "        batch_x = self.x[idx * self.batch_size:(idx + 1) * self.batch_size]\n",
        "        batch_y = self.y[idx * self.batch_size:(idx + 1) * self.batch_size]\n",
        "        batch_z = np.zeros((self.batch_size, batch_y.shape[1], self.voc_len), dtype=np.int32)\n",
        "        for n in range(self.batch_size):\n",
        "            for j in range(batch_y.shape[1] - 1):\n",
        "                batch_z[n, j, batch_y[n, j+1]] = 1\n",
        "        return [batch_x, batch_y], batch_z\n",
        "\n",
        "# Тестовые вопросы\n",
        "myQuestions = [\n",
        "               'А где возьмем-то?',\n",
        "               'Где ты такому удару научился?', \n",
        "               'Ну, и как это было? ',\n",
        "               'Сколько фрицев в котле?', \n",
        "               'Какой полк?',\n",
        "               'А  с  тобой,  конечно, такого не случится?',\n",
        "               'Привет! как дела?', \n",
        "               'Сколько времени?', \n",
        "               'Закурить не найдется?', \n",
        "               'Когда кончится война?', \n",
        "               'Куда ведет эта дорога?',\n",
        "               'Где ближайший аэродром?',\n",
        "               'Кто твой командир?',\n",
        "               ]\n",
        "\n",
        "# Тестирование inference-модели на вопросах\n",
        "def testModel(encModel, decModel, questions, tokenizer, maxlen):\n",
        "    for question in questions:\n",
        "        question = replaceSigns(question)\n",
        "        statesValues = encModel.predict(strToTokens(question))\n",
        "        emptyTargetSeq = np.zeros((1, 1))    \n",
        "        emptyTargetSeq[0, 0] = tokenizer.word_index['start']\n",
        "        decodedTranslation = ''\n",
        "        for i in range(maxlen): \n",
        "            decOutputs, h, c = decModel.predict([emptyTargetSeq] + statesValues)\n",
        "            ind = np.argmax(decOutputs, axis=-1)[0, 0]\n",
        "            if ind == 0:\n",
        "                break\n",
        "            sampledWord = tokenizer.index_word[ind]\n",
        "            if sampledWord == 'end':\n",
        "                break\n",
        "            decodedTranslation += (' ' + sampledWord)\n",
        "            emptyTargetSeq[0, 0] = ind \n",
        "            statesValues = [h, c] \n",
        "        \n",
        "        print('Question: ' + question)\n",
        "        print('Answer: ' + decodedTranslation)\n",
        "\n",
        "# Для задания расписания для learning rate\n",
        "class CustomSchedule(tf.keras.optimizers.schedules.LearningRateSchedule):\n",
        "  def __init__(self, d_model, warmup_steps=4000):\n",
        "    super(CustomSchedule, self).__init__()\n",
        "    \n",
        "    self.d_model = d_model\n",
        "    self.d_model = tf.cast(self.d_model, tf.float32)\n",
        "\n",
        "    self.warmup_steps = warmup_steps\n",
        "    \n",
        "  def __call__(self, step):\n",
        "    arg1 = tf.math.rsqrt(step)\n",
        "    arg2 = step * (self.warmup_steps ** -1.5)\n",
        "    \n",
        "    return tf.math.rsqrt(self.d_model) * tf.math.minimum(arg1, arg2)"
      ],
      "execution_count": null,
      "outputs": []
    },
    {
      "cell_type": "markdown",
      "metadata": {
        "id": "Wxdi0Fqeg1LH"
      },
      "source": [
        "### Парсинг данных"
      ]
    },
    {
      "cell_type": "code",
      "metadata": {
        "id": "tEA8TR_oerov",
        "outputId": "addfebb2-e700-486c-ce9a-1834e2255bfc",
        "colab": {
          "base_uri": "https://localhost:8080/",
          "height": 51
        }
      },
      "source": [
        "######################\n",
        "# Открываем файл с диалогами\n",
        "######################\n",
        "corpus = open('/content/drive/My Drive/Базы/Диалоги(рассказы).yml', 'r') # открываем файл с диалогами в режиме чтения\n",
        "document = yaml.safe_load(corpus) # загружаем файл *глоссарий\n",
        "conversations = document['разговоры'] # загружаем диалоги из файла и заносим в conversations \n",
        "print('Количество пар вопрос-ответ : {}'.format(len(conversations)))\n",
        "print('Пример диалога : {}'.format(conversations[12]))"
      ],
      "execution_count": null,
      "outputs": [
        {
          "output_type": "stream",
          "text": [
            "Количество пар вопрос-ответ : 11905\n",
            "Пример диалога : ['Какими  судьбами  в  этих  краях?', 'Да... По случаю.']\n"
          ],
          "name": "stdout"
        }
      ]
    },
    {
      "cell_type": "code",
      "metadata": {
        "id": "-tYv5KOXc7Uf",
        "outputId": "2c4be131-80cf-446b-eede-51408db5c6c6",
        "colab": {
          "base_uri": "https://localhost:8080/",
          "height": 527
        }
      },
      "source": [
        "!head -30 '/content/drive/My Drive/Базы/Диалоги(рассказы).yml'"
      ],
      "execution_count": null,
      "outputs": [
        {
          "output_type": "stream",
          "text": [
            "﻿разговоры:\n",
            "- - Что,  Мансур,  не жарко теперь тебе? \n",
            "  - Спрашиваю, не жарко ему теперь?\n",
            "- - Какой полк? \n",
            "  - Тысяча тридцать четвертый.\n",
            "- - Тысяча тридцать шестая. \n",
            "  - Значит, наша! Принимай тяжелораненого!\n",
            "- - Сколько фрицев в котле? \n",
            "  - Тысяч сорок.\n",
            "- - У  меня  талоны. \n",
            "  - А ты?\n",
            "- - А ты? \n",
            "  - У меня бутерброды с собой. И фанта.\n",
            "- - Случилось что? \n",
            "  - Случилось.\n",
            "- - А где возьмем-то? \n",
            "  - Да  тут  бабы  специальные  ездиют.\n",
            "- - Не выношу таких!.. \n",
            "  - Где ты такому удару научился?\n",
            "- - Где ты такому удару научился? \n",
            "  - Этому  всю  жизнь  учатся.\n",
            "- - Как мама? \n",
            "  - Ничего.\n",
            "- - Ничего. \n",
            "  - Как тетя Нина?\n",
            "- - Какими  судьбами  в  этих  краях? \n",
            "  - Да... По случаю.\n",
            "- - Да... По случаю. \n",
            "  - Какой заказ?\n",
            "- - Что это ты притащила? \n"
          ],
          "name": "stdout"
        }
      ]
    },
    {
      "cell_type": "code",
      "metadata": {
        "id": "_4kkKziHdRfZ",
        "outputId": "8db32671-066f-4afd-8d1f-5dc9300c81e2",
        "colab": {
          "base_uri": "https://localhost:8080/",
          "height": 527
        }
      },
      "source": [
        "!tail -30 '/content/drive/My Drive/Базы/Диалоги(рассказы).yml'"
      ],
      "execution_count": null,
      "outputs": [
        {
          "output_type": "stream",
          "text": [
            "- - Восемь тридцать пять. \n",
            "  - Но мне показалось...\n",
            "- - Но мне показалось... \n",
            "  - ... Что ты спишь часа два. Знакомое чувство.\n",
            "- - Это  по  твою  душу,  Олсон. \n",
            "  - Тебе-то  что?\n",
            "- - Что с тобой? \n",
            "  - Теряю сознание.\n",
            "- - Что? \n",
            "  - Хорошо, что мы живы.\n",
            "- - Ну, и как это было? \n",
            "  - Тебе не понравится.\n",
            "- - Прекрати. Ради Бога, прекрати. \n",
            "  - Ты хотел знать. Так ведь?\n",
            "- - А ДЛИННЫЙ ПУТЬ - когда-нибудь останавливали? \n",
            "  - Не думаю. Что, материал для книги?\n",
            "- - Гэррети. \n",
            "  - Что?\n",
            "- - Я не помню всех, кому выписали пропуск. \n",
            "  - Я тоже.\n",
            "- - Неудивительно. Странный он парень, правда? \n",
            "  - Правда.\n",
            "- - Твой друг недоволен Майором? \n",
            "  - Я  думаю.\n",
            "- - Олсон тоже бесится. Эй, Хэнк! \n",
            "  - Оставил бы ты его в покое.\n",
            "- - Хэнк! Не желаешь пройтись? \n",
            "  - Иди к черту.\n",
            "- - А  с  тобой,  конечно, такого не случится? \n",
            "  - Нет."
          ],
          "name": "stdout"
        }
      ]
    },
    {
      "cell_type": "code",
      "metadata": {
        "id": "EYg8z8Vj76bu",
        "outputId": "d356e03f-456b-4ae2-b62e-fd0db18c1085",
        "colab": {
          "base_uri": "https://localhost:8080/",
          "height": 51
        }
      },
      "source": [
        "######################\n",
        "# Разбираем вопросы-ответы с проставлением тегов ответам\n",
        "######################\n",
        "# Собираем вопросы и ответы в списки\n",
        "questions = list() # здесь будет список вопросов\n",
        "answers = list() # здесь будет список ответов\n",
        "\n",
        "# В каждом диалоге берем фразу и добавляем в лист\n",
        "# Если в ответе не одна фраза - то сцепляем сколько есть\n",
        "for con in conversations: # для каждой пары вопрос-ответ\n",
        "  if len(con) > 2 : # если ответ содержит более двух предложений (кол-во реплик, кол-во вариантов ответа)\n",
        "    questions.append(con[0]) # то вопросительную реплику отправляем в список вопросов\n",
        "    replies = con[1:] # а ответную составляем из последующих строк\n",
        "    ans = '' # здесь соберем ответ\n",
        "    for rep in replies: # каждую реплику в ответной реплике\n",
        "      ans += ' ' + rep \n",
        "    answers.append(ans) #добавим в список ответов\n",
        "  elif len(con)> 1: # если на 1 вопрос приходится 1 ответ\n",
        "    questions.append(con[0]) # то вопросительную реплику отправляем в список вопросов\n",
        "    answers.append(con[1]) # а ответную в список ответов\n",
        "\n",
        "# Очищаем строки с неопределенным типов ответов\n",
        "answersCleaned = list()\n",
        "for i in range(len(answers)):\n",
        "  if type(answers[i]) == str:\n",
        "    answersCleaned.append(answers[i]) #если тип - строка, то добавляем в ответы\n",
        "  else:\n",
        "    questions.pop(i) # если не строка, то ответ не добавился, и плюс убираем соответствующий вопрос\n",
        "\n",
        "# Сделаем теги-метки для начала и конца ответов\n",
        "answers = list()\n",
        "for i in range(len(answersCleaned)):\n",
        "  answers.append( '<START> ' + answersCleaned[i] + ' <END>' )\n",
        "\n",
        "# Выведем обновленные данные на экран\n",
        "print('Вопрос : {}'.format(questions[2000]))\n",
        "print('Ответ : {}'.format(answers[2000]))"
      ],
      "execution_count": null,
      "outputs": [
        {
          "output_type": "stream",
          "text": [
            "Вопрос : Кто? - удивился Славик, - повариха что ли?\n",
            "Ответ : <START> Ромашка. <END>\n"
          ],
          "name": "stdout"
        }
      ]
    },
    {
      "cell_type": "code",
      "metadata": {
        "id": "GKQaRu4Y6Ccn"
      },
      "source": [
        "# Это для PRO #1\n",
        "# Отделяем знаки препинания от слов\n",
        "for i, s in enumerate(questions):\n",
        "    if isinstance(s, list):\n",
        "        s = s[0]\n",
        "    questions[i] = replaceSigns(s)\n",
        "\n",
        "for i, s in enumerate(answers):\n",
        "    if isinstance(s, list):\n",
        "        s = s[0]\n",
        "    answers[i] = replaceSigns(s)"
      ],
      "execution_count": null,
      "outputs": []
    },
    {
      "cell_type": "code",
      "metadata": {
        "id": "mvn1jvRd9tep",
        "outputId": "e145d426-d743-4540-de6b-1af64e736cc2",
        "colab": {
          "base_uri": "https://localhost:8080/",
          "height": 71
        }
      },
      "source": [
        "# Это для PRO #1\n",
        "# Добавили oov_token, убрали знаки препинания из фильтра\n",
        "tokenizer = Tokenizer(filters='\"#$%&()*+-/:;<=>@[\\\\]^_`{|}~\\t\\n', oov_token='unknown')\n",
        "tokenizer.fit_on_texts(questions + answers) # загружаем в токенизатор список вопросов-ответов для сборки словаря частотности\n",
        "vocabularyItems = list(tokenizer.word_index.items()) # список с cодержимым словаря\n",
        "vocabularySize = len(vocabularyItems)+1 # размер словаря\n",
        "print( 'Фрагмент словаря : {}'.format(vocabularyItems[:50]))\n",
        "print( 'Размер словаря : {}'.format(vocabularySize))"
      ],
      "execution_count": null,
      "outputs": [
        {
          "output_type": "stream",
          "text": [
            "Фрагмент словаря : [('unknown', 1), ('.', 2), ('start', 3), ('end', 4), ('?', 5), (',', 6), ('что', 7), ('!', 8), ('не', 9), ('я', 10), ('а', 11), ('ты', 12), ('это', 13), ('да', 14), ('в', 15), ('нет', 16), ('как', 17), ('и', 18), ('вы', 19), ('ну', 20), ('с', 21), ('на', 22), ('же', 23), ('так', 24), ('он', 25), ('у', 26), ('кто', 27), ('где', 28), ('все', 29), ('мы', 30), ('то', 31), ('мне', 32), ('тебя', 33), ('меня', 34), ('здесь', 35), ('еще', 36), ('почему', 37), ('о', 38), ('там', 39), ('тебе', 40), ('есть', 41), ('его', 42), ('за', 43), ('куда', 44), ('вот', 45), ('ничего', 46), ('вас', 47), ('знаю', 48), ('чем', 49), ('но', 50)]\n",
            "Размер словаря : 15108\n"
          ],
          "name": "stdout"
        }
      ]
    },
    {
      "cell_type": "markdown",
      "metadata": {
        "id": "fsUqzEBXg9Mu"
      },
      "source": [
        "### Подготовка выборки"
      ]
    },
    {
      "cell_type": "code",
      "metadata": {
        "id": "p4nNBJUQgebF",
        "outputId": "83498064-0e4f-4f7f-eebd-56f3f5afcd34",
        "colab": {
          "base_uri": "https://localhost:8080/",
          "height": 102
        }
      },
      "source": [
        "######################\n",
        "# Устанавливаем закодированные входные данные(вопросы)\n",
        "######################\n",
        "tokenizedQuestions = tokenizer.texts_to_sequences(questions) # разбиваем текст вопросов на последовательности индексов\n",
        "maxLenQuestions = max([ len(x) for x in tokenizedQuestions]) # уточняем длину самого большого вопроса\n",
        "# Делаем последовательности одной длины, заполняя нулями более короткие вопросы\n",
        "paddedQuestions = pad_sequences(tokenizedQuestions, maxlen=maxLenQuestions, padding='post')\n",
        "\n",
        "# Предподготавливаем данные для входа в сеть\n",
        "encoderForInput = np.array(paddedQuestions) # переводим в numpy массив\n",
        "print('Пример оригинального вопроса на вход : {}'.format(questions[100])) \n",
        "print('Пример кодированного вопроса на вход : {}'.format(encoderForInput[100])) \n",
        "print('Размеры закодированного массива вопросов на вход : {}'.format(encoderForInput.shape)) \n",
        "print('Установленная длина вопросов на вход : {}'.format(maxLenQuestions)) \n"
      ],
      "execution_count": null,
      "outputs": [
        {
          "output_type": "stream",
          "text": [
            "Пример оригинального вопроса на вход : какая же мораль  ?  \n",
            "Пример кодированного вопроса на вход : [ 175   23 5714    5    0    0    0    0    0    0    0    0    0    0\n",
            "    0    0    0    0    0]\n",
            "Размеры закодированного массива вопросов на вход : (11900, 19)\n",
            "Установленная длина вопросов на вход : 19\n"
          ],
          "name": "stdout"
        }
      ]
    },
    {
      "cell_type": "code",
      "metadata": {
        "id": "-tjvhMuzqFJD",
        "outputId": "72d2de58-faf4-42fb-b10f-7c57b271d221",
        "colab": {
          "base_uri": "https://localhost:8080/",
          "height": 119
        }
      },
      "source": [
        "######################\n",
        "# Устанавливаем раскодированные входные данные(ответы)\n",
        "######################\n",
        "tokenizedAnswers = tokenizer.texts_to_sequences(answers) # разбиваем текст ответов на последовательности индексов\n",
        "maxLenAnswers = max([len(x) for x in tokenizedAnswers]) # уточняем длину самого большого ответа\n",
        "# Делаем последовательности одной длины, заполняя нулями более короткие ответы\n",
        "paddedAnswers = pad_sequences(tokenizedAnswers, maxlen=maxLenAnswers, padding='post')\n",
        "\n",
        "# Предподготавливаем данные для входа в сеть\n",
        "decoderForInput = np.array(paddedAnswers) # переводим в numpy массив\n",
        "print('Пример оригинального ответа на вход: {}'.format(answers[100])) \n",
        "print('Пример раскодированного ответа на вход : {}'.format(decoderForInput[100])) \n",
        "print('Размеры раскодированного массива ответов на вход : {}'.format(decoderForInput.shape)) \n",
        "print('Установленная длина ответов на вход : {}'.format(maxLenAnswers)) "
      ],
      "execution_count": null,
      "outputs": [
        {
          "output_type": "stream",
          "text": [
            "Пример оригинального ответа на вход: <start> никакой  .   так просто вспомнилось  .   <end>\n",
            "Пример раскодированного ответа на вход : [    3   678     2    24    98 10562     2     4     0     0     0     0\n",
            "     0     0     0     0     0     0     0     0     0     0     0     0\n",
            "     0     0     0     0     0]\n",
            "Размеры раскодированного массива ответов на вход : (11900, 29)\n",
            "Установленная длина ответов на вход : 29\n"
          ],
          "name": "stdout"
        }
      ]
    },
    {
      "cell_type": "markdown",
      "metadata": {
        "id": "76zwPKzlD4pR"
      },
      "source": [
        "### Разобьем все данные на тренировочные, валидационные и тестовые."
      ]
    },
    {
      "cell_type": "code",
      "metadata": {
        "id": "U_hqRWEQDrxP"
      },
      "source": [
        "# Перемешаем данные\n",
        "inds = np.array([i for i in range(11900)])\n",
        "np.random.shuffle(inds)"
      ],
      "execution_count": null,
      "outputs": []
    },
    {
      "cell_type": "code",
      "metadata": {
        "id": "gSBUSMHtDviV"
      },
      "source": [
        "x_train = paddedQuestions[inds[:10000]]\n",
        "y_train = paddedAnswers[inds[:10000]]\n",
        "x_val = paddedQuestions[inds[10000:10900]]\n",
        "y_val = paddedAnswers[inds[10000:10900]]\n",
        "x_test = paddedQuestions[inds[10900:11900]]\n",
        "y_test = paddedAnswers[inds[10900:11900]]"
      ],
      "execution_count": null,
      "outputs": []
    },
    {
      "cell_type": "code",
      "metadata": {
        "id": "3eBgfqqWDvyw"
      },
      "source": [
        "# сиквенсы для обучения - выдают батчи по 50\n",
        "seq_train = MySequence(x_train, y_train, voc_len=vocabularySize, batch_size=50)\n",
        "seq_val = MySequence(x_val, y_val, voc_len=vocabularySize, batch_size=50)\n",
        "seq_test = MySequence(x_test, y_test, voc_len=vocabularySize, batch_size=50)"
      ],
      "execution_count": null,
      "outputs": []
    },
    {
      "cell_type": "markdown",
      "metadata": {
        "id": "r0KR6Mh_hp1f"
      },
      "source": [
        "### Параметры нейросети и модель обучения"
      ]
    },
    {
      "cell_type": "code",
      "metadata": {
        "id": "1rRKDr4rhXcZ"
      },
      "source": [
        "DIM = 200\n",
        "######################\n",
        "# Первый входной слой, кодер, выходной слой\n",
        "######################\n",
        "encoderInputs = Input(shape=(None, )) # размеры на входе сетки (здесь будет encoderForInput)\n",
        "# Эти данные проходят через слой Embedding (длина словаря, размерность) \n",
        "encoderEmbedding = Embedding(vocabularySize, DIM,  mask_zero=True) (encoderInputs)\n",
        "# Затем выход с Embedding пойдёт в LSTM слой, на выходе у которого будет два вектора состояния - state_h , state_c\n",
        "# Вектора состояния - state_h , state_c зададутся в LSTM слое декодера в блоке ниже\n",
        "encoderOutputs, state_h , state_c = LSTM(DIM, return_state=True)(encoderEmbedding)\n",
        "encoderStates = [state_h, state_c]"
      ],
      "execution_count": null,
      "outputs": []
    },
    {
      "cell_type": "code",
      "metadata": {
        "id": "K_yv8Y6QWX2D"
      },
      "source": [
        "######################\n",
        "# Второй входной слой, декодер, выходной слой\n",
        "######################\n",
        "decoderInputs = Input(shape=(None, )) # размеры на входе сетки (здесь будет decoderForInput)\n",
        "# Эти данные проходят через слой Embedding (длина словаря, размерность) \n",
        "# mask_zero=True - игнорировать нулевые padding при передаче в LSTM. Предотвратит вывод ответа типа: \"У меня все хорошо PAD PAD PAD PAD PAD PAD..\"\n",
        "decoderEmbedding = Embedding(vocabularySize, DIM, mask_zero=True) (decoderInputs) \n",
        "# Затем выход с Embedding пойдёт в LSTM слой, которому передаются вектора состояния - state_h , state_c\n",
        "decoderLSTM = LSTM(DIM, return_state=True, return_sequences=True)\n",
        "decoderOutputs , _ , _ = decoderLSTM(decoderEmbedding, initial_state=encoderStates)\n",
        "# И от LSTM'а сигнал decoderOutputs пропускаем через полносвязный слой с софтмаксом на выходе\n",
        "decoderDense = Dense(vocabularySize, activation='softmax') \n",
        "output = decoderDense (decoderOutputs)"
      ],
      "execution_count": null,
      "outputs": []
    },
    {
      "cell_type": "code",
      "metadata": {
        "id": "KYnTen_UWc5F",
        "outputId": "24c0e480-07b8-42a1-94c1-c80dde4e7c8d",
        "colab": {
          "base_uri": "https://localhost:8080/",
          "height": 958
        }
      },
      "source": [
        "######################\n",
        "# Собираем тренировочную модель нейросети\n",
        "######################\n",
        "model = Model([encoderInputs, decoderInputs], output)\n",
        "lh = LearnHistory()\n",
        "print(model.summary()) # выведем на экран информацию о построенной модели нейросети\n",
        "plot_model(model, to_file='model.png', show_shapes=True) # и построим график для визуализации слоев и связей между ними"
      ],
      "execution_count": null,
      "outputs": [
        {
          "output_type": "stream",
          "text": [
            "Model: \"functional_3\"\n",
            "__________________________________________________________________________________________________\n",
            "Layer (type)                    Output Shape         Param #     Connected to                     \n",
            "==================================================================================================\n",
            "input_4 (InputLayer)            [(None, None)]       0                                            \n",
            "__________________________________________________________________________________________________\n",
            "input_5 (InputLayer)            [(None, None)]       0                                            \n",
            "__________________________________________________________________________________________________\n",
            "embedding_2 (Embedding)         (None, None, 200)    3021600     input_4[0][0]                    \n",
            "__________________________________________________________________________________________________\n",
            "embedding_3 (Embedding)         (None, None, 200)    3021600     input_5[0][0]                    \n",
            "__________________________________________________________________________________________________\n",
            "lstm_2 (LSTM)                   [(None, 200), (None, 320800      embedding_2[0][0]                \n",
            "__________________________________________________________________________________________________\n",
            "lstm_3 (LSTM)                   [(None, None, 200),  320800      embedding_3[0][0]                \n",
            "                                                                 lstm_2[0][1]                     \n",
            "                                                                 lstm_2[0][2]                     \n",
            "__________________________________________________________________________________________________\n",
            "dense_1 (Dense)                 (None, None, 15108)  3036708     lstm_3[0][0]                     \n",
            "==================================================================================================\n",
            "Total params: 9,721,508\n",
            "Trainable params: 9,721,508\n",
            "Non-trainable params: 0\n",
            "__________________________________________________________________________________________________\n",
            "None\n"
          ],
          "name": "stdout"
        },
        {
          "output_type": "execute_result",
          "data": {
            "image/png": "[encoded data removed]",
            "text/plain": [
              "<IPython.core.display.Image object>"
            ]
          },
          "metadata": {
            "tags": []
          },
          "execution_count": 29
        }
      ]
    },
    {
      "cell_type": "markdown",
      "metadata": {
        "id": "8_U_rY8UiRL2"
      },
      "source": [
        "### Подготовка и запуск рабочей нейросети с генерацией ответов"
      ]
    },
    {
      "cell_type": "code",
      "metadata": {
        "id": "lAK1irjZFIIF"
      },
      "source": [
        "# Определим модель кодера, на входе далее будут закодированные вопросы(encoderForInputs), на выходе состояния state_h, state_c\n",
        "encoderModel = Model(encoderInputs, encoderStates) \n",
        "\n",
        "decoderStateInput_h = Input(shape=(DIM,)) # обозначим размерность для входного слоя с состоянием state_h\n",
        "decoderStateInput_c = Input(shape=(DIM,)) # обозначим размерность для входного слоя с состоянием state_c\n",
        "\n",
        "decoderStatesInputs = [decoderStateInput_h, decoderStateInput_c] # возьмем оба inputs вместе и запишем в decoderStatesInputs\n",
        "\n",
        "# Берём ответы, прошедшие через эмбединг, вместе с состояниями и подаём LSTM cлою\n",
        "\n",
        "decoderOutputs, state_h, state_c = decoderLSTM(decoderEmbedding, initial_state=decoderStatesInputs)\n",
        "\n",
        "decoderStates = [state_h, state_c] # LSTM даст нам новые состояния\n",
        "decoderOutputs = decoderDense(decoderOutputs) # и ответы, которые мы пропустим через полносвязный слой с софтмаксом\n",
        "\n",
        "# Определим модель декодера, на входе далее будут раскодированные ответы (decoderForInputs) и состояния\n",
        "# на выходе предсказываемый ответ и новые состояния\n",
        "decoderModel = Model([decoderInputs] + decoderStatesInputs, [decoderOutputs] + decoderStates)"
      ],
      "execution_count": null,
      "outputs": []
    },
    {
      "cell_type": "markdown",
      "metadata": {
        "id": "HiVv5Y0pfk7z"
      },
      "source": [
        "#Light задание 1\n",
        "\n",
        "1) Используя три любых простых вопроса, сравните ответы сети на них на разной степени\n",
        "натренированности:\n",
        "+ 20 эпох – удается ли боту отвечать целыми словами?\n",
        "+  +30 эпох на этой же сетке и с этими же вопросами – появился ли прогресс в качестве\n",
        "ответа сети(ответ целыми предложениями разумной длины)?\n",
        "+ Ещё + 50 эпох – удается ли сети выдавать ответы, “похожие на правду”?"
      ]
    },
    {
      "cell_type": "code",
      "metadata": {
        "id": "H_iK9zYO8tzU",
        "outputId": "2289a944-c03e-4583-dac6-7aeb7da9e750",
        "colab": {
          "base_uri": "https://localhost:8080/",
          "height": 479
        }
      },
      "source": [
        "# Необученная модель:\n",
        "testModel(encoderModel, decoderModel, myQuestions, tokenizer, maxLenAnswers)"
      ],
      "execution_count": null,
      "outputs": [
        {
          "output_type": "stream",
          "text": [
            "Question: а где возьмем-то ? \n",
            "Answer:  гад указывай пера аста аста заложников наломали алексей подумал хранить подумал нелепый сердишься ложишься дрель дверцей танец ошибок чижика анак хотим барабанщики барабанщики заботилась писала напугалась печёнкин кивнул единой\n",
            "Question: где ты такому удару научился ? \n",
            "Answer:  давит инъекцию пончо надумали корраль сестрой хороши медоуза продаю после правь скитер сейчас мелкие домового участия шмыгают пускай дойду дойду академия хххх налога раздался каникулы каникулы citoyens отменять светом\n",
            "Question: ну ,  и как это было ?  \n",
            "Answer:  безвыходно фонарь уши трубит водоеме магнитофон раздобыть квадрат мерзость побольше выскользнул подписывать раненый грис желаю умирай робить аппарату мелководье маленькое позвольте гипер маленькое создающие пруткову прюки соседний верный верный\n",
            "Question: сколько фрицев в котле ? \n",
            "Answer:  умерли джоанна джоанна совершить принимать захотелось показывался купил недавно сожалеете айда негром моррис длинная денежки денежки пленным глупеет батальон префекту префекту префекту космонавтом берлоге кошмары сигнала берлином казнил зовет\n",
            "Question: какой полк ? \n",
            "Answer: \n",
            "Question: а  с  тобой ,   конечно ,  такого не случится ? \n",
            "Answer:  гад борт находящаяся нолс карточку натянем взрослые илларвен новом ес аля граждане полиция бригадиру shut специальность принять нужде кадет бартоломью чубоцел заняты чубоцел соединить найдется туалетный прежде слышим постараюсь\n",
            "Question: привет !  как дела ? \n",
            "Answer:  полковник твоих прошлый торгую санбат заказать сражении вахте товаров запасные спросят спросят кроватью спросят кроватью кроватью форма форма пленный студент берлоге майка легче минометы господь помру влетит mensagem mensagem\n",
            "Question: сколько времени ? \n",
            "Answer:  пожалуйста выучил смешно детки детки пыпин может неважное дашь подлюги му киммериец нп ларис поверьте договорюсь угадал малость пребудь рубежа сознаний боцман мигель итреату ленинградом широкой положиться довоенные бежать\n",
            "Question: закурить не найдется ? \n",
            "Answer:  полковник давит чутка чутка началась защищать гэррити гэррити гэррити забудем изменилась мус мус обоим карманные посидеть наломал наломал готовим пробиться бронзовые нанимайся рискнем полезен золотых ответа сардельки попрыгаем никогда\n",
            "Question: когда кончится война ? \n",
            "Answer:  лягушки током ицхак фундамент пареш европа ветер гарриной деревенские конечно обнаружили обнаружили выполнили королей попробуй искали трупы теория разумеешь поддержать выборах взамен проныра саму повезешь посвисти посвисти передумаете гэллегер\n",
            "Question: куда ведет эта дорога ? \n",
            "Answer:  расчеты думаю родственница родственница земля полуостров недаром парашютах о'коннела а идете диктовал двоюродный рузвельт выясни великанше вышла сидела сидела душан высокая тронулась гору гору иаков икнул разобьем бесполезно называются\n",
            "Question: где ближайший аэродром ? \n",
            "Answer:  умерли запряг запряг французски красавец прицепился главной приглашение главной озабоченным светлости освободили маргарита поцелуя поцелуя отвлекающий прекратилось александрович ударим нигде боевой пера бирок боевой подробности челом снятое узнаю восьмого\n",
            "Question: кто твой командир ? \n",
            "Answer:  расчеты родственница родственница плохие надул погано погано пляшет великие великие монетка мокрый майерсон фруктов отцепили сел великие улететь улететь явился сдохнет подвезли слушай девственник сгноить уничтожить небесные небесные полигон\n"
          ],
          "name": "stdout"
        }
      ]
    },
    {
      "cell_type": "markdown",
      "metadata": {
        "id": "rcEERPqsVyvi"
      },
      "source": [
        "Необученная модель выводит бессвязный набор слов"
      ]
    },
    {
      "cell_type": "code",
      "metadata": {
        "id": "bx8sLZRefpgL",
        "outputId": "f983e8df-e74f-4767-822c-f9efdae3ae18",
        "colab": {
          "base_uri": "https://localhost:8080/",
          "height": 975
        }
      },
      "source": [
        "# Запустим обучение 20 эпох\n",
        "model.compile(optimizer=RMSprop(), loss='categorical_crossentropy', metrics='accuracy')\n",
        "history = model.fit(seq_train, validation_data=seq_val, epochs=20) \n",
        "lh.append(history)\n",
        "lh.plot()"
      ],
      "execution_count": null,
      "outputs": [
        {
          "output_type": "stream",
          "text": [
            "Epoch 1/20\n",
            "200/200 [==============================] - 27s 136ms/step - loss: 1.1598 - accuracy: 0.3092 - val_loss: 1.0163 - val_accuracy: 0.3975\n",
            "Epoch 2/20\n",
            "200/200 [==============================] - 25s 123ms/step - loss: 0.9793 - accuracy: 0.4083 - val_loss: 0.9831 - val_accuracy: 0.4100\n",
            "Epoch 3/20\n",
            "200/200 [==============================] - 25s 123ms/step - loss: 0.9410 - accuracy: 0.4278 - val_loss: 0.9656 - val_accuracy: 0.4344\n",
            "Epoch 4/20\n",
            "200/200 [==============================] - 25s 124ms/step - loss: 0.9136 - accuracy: 0.4452 - val_loss: 0.9581 - val_accuracy: 0.4447\n",
            "Epoch 5/20\n",
            "200/200 [==============================] - 25s 124ms/step - loss: 0.8930 - accuracy: 0.4517 - val_loss: 0.9566 - val_accuracy: 0.4499\n",
            "Epoch 6/20\n",
            "200/200 [==============================] - 25s 124ms/step - loss: 0.8751 - accuracy: 0.4571 - val_loss: 0.9557 - val_accuracy: 0.4515\n",
            "Epoch 7/20\n",
            "200/200 [==============================] - 25s 123ms/step - loss: 0.8579 - accuracy: 0.4639 - val_loss: 0.9585 - val_accuracy: 0.4474\n",
            "Epoch 8/20\n",
            "200/200 [==============================] - 25s 125ms/step - loss: 0.8406 - accuracy: 0.4696 - val_loss: 0.9607 - val_accuracy: 0.4480\n",
            "Epoch 9/20\n",
            "200/200 [==============================] - 25s 124ms/step - loss: 0.8243 - accuracy: 0.4771 - val_loss: 0.9676 - val_accuracy: 0.4472\n",
            "Epoch 10/20\n",
            "200/200 [==============================] - 25s 124ms/step - loss: 0.8083 - accuracy: 0.4834 - val_loss: 0.9723 - val_accuracy: 0.4442\n",
            "Epoch 11/20\n",
            "200/200 [==============================] - 25s 124ms/step - loss: 0.7929 - accuracy: 0.4929 - val_loss: 0.9799 - val_accuracy: 0.4417\n",
            "Epoch 12/20\n",
            "200/200 [==============================] - 25s 124ms/step - loss: 0.7775 - accuracy: 0.5001 - val_loss: 0.9877 - val_accuracy: 0.4355\n",
            "Epoch 13/20\n",
            "200/200 [==============================] - 25s 124ms/step - loss: 0.7627 - accuracy: 0.5072 - val_loss: 0.9927 - val_accuracy: 0.4304\n",
            "Epoch 14/20\n",
            "200/200 [==============================] - 25s 123ms/step - loss: 0.7484 - accuracy: 0.5144 - val_loss: 1.0025 - val_accuracy: 0.4284\n",
            "Epoch 15/20\n",
            "200/200 [==============================] - 25s 124ms/step - loss: 0.7346 - accuracy: 0.5207 - val_loss: 1.0139 - val_accuracy: 0.4229\n",
            "Epoch 16/20\n",
            "200/200 [==============================] - 25s 124ms/step - loss: 0.7208 - accuracy: 0.5285 - val_loss: 1.0185 - val_accuracy: 0.4200\n",
            "Epoch 17/20\n",
            "200/200 [==============================] - 25s 124ms/step - loss: 0.7076 - accuracy: 0.5346 - val_loss: 1.0239 - val_accuracy: 0.4243\n",
            "Epoch 18/20\n",
            "200/200 [==============================] - 25s 124ms/step - loss: 0.6950 - accuracy: 0.5427 - val_loss: 1.0368 - val_accuracy: 0.4154\n",
            "Epoch 19/20\n",
            "200/200 [==============================] - 25s 124ms/step - loss: 0.6821 - accuracy: 0.5499 - val_loss: 1.0512 - val_accuracy: 0.4056\n",
            "Epoch 20/20\n",
            "200/200 [==============================] - 25s 125ms/step - loss: 0.6693 - accuracy: 0.5570 - val_loss: 1.0566 - val_accuracy: 0.4096\n"
          ],
          "name": "stdout"
        },
        {
          "output_type": "display_data",
          "data": {
            "image/png": "[encoded data removed]",
            "text/plain": [
              "<Figure size 432x288 with 1 Axes>"
            ]
          },
          "metadata": {
            "tags": [],
            "needs_background": "light"
          }
        }
      ]
    },
    {
      "cell_type": "code",
      "metadata": {
        "id": "BqXcYhMCKGzA",
        "outputId": "5df642ab-d9a3-4269-8f64-519dd65a0562",
        "colab": {
          "base_uri": "https://localhost:8080/",
          "height": 295
        }
      },
      "source": [
        "lh.plot(ylim=1.2)"
      ],
      "execution_count": null,
      "outputs": [
        {
          "output_type": "display_data",
          "data": {
            "image/png": "[encoded data removed]",
            "text/plain": [
              "<Figure size 432x288 with 1 Axes>"
            ]
          },
          "metadata": {
            "tags": [],
            "needs_background": "light"
          }
        }
      ]
    },
    {
      "cell_type": "code",
      "metadata": {
        "id": "TR6PVoyCJCQ5",
        "outputId": "396bf065-fe18-42e9-d813-93ff7ab2ae09",
        "colab": {
          "base_uri": "https://localhost:8080/",
          "height": 459
        }
      },
      "source": [
        "# После 20 эпох:\n",
        "testModel(encoderModel, decoderModel, myQuestions, tokenizer, maxLenAnswers)"
      ],
      "execution_count": null,
      "outputs": [
        {
          "output_type": "stream",
          "text": [
            "Question: а где возьмем-то ? \n",
            "Answer:  в каком смысле ?\n",
            "Question: где ты такому удару научился ? \n",
            "Answer:  я не знаю , что случилось .\n",
            "Question: ну ,  и как это было ?  \n",
            "Answer:  не знаю .\n",
            "Question: сколько фрицев в котле ? \n",
            "Answer:  четыре года .\n",
            "Question: какой полк ? \n",
            "Answer:  угу .\n",
            "Question: а  с  тобой ,   конечно ,  такого не случится ? \n",
            "Answer:  нет .\n",
            "Question: привет !  как дела ? \n",
            "Answer:  не знаю .\n",
            "Question: сколько времени ? \n",
            "Answer:  в порядке .\n",
            "Question: закурить не найдется ? \n",
            "Answer:  не знаю , сэр .\n",
            "Question: когда кончится война ? \n",
            "Answer:  думаю , да .\n",
            "Question: куда ведет эта дорога ? \n",
            "Answer:  как нибудь ?\n",
            "Question: где ближайший аэродром ? \n",
            "Answer:  я здесь .\n",
            "Question: кто твой командир ? \n",
            "Answer:  откройте !\n"
          ],
          "name": "stdout"
        }
      ]
    },
    {
      "cell_type": "code",
      "metadata": {
        "id": "y6cO7pH8KfXl",
        "outputId": "3b053677-89c9-4304-dc2f-9ae46d28b19b",
        "colab": {
          "base_uri": "https://localhost:8080/",
          "height": 1000
        }
      },
      "source": [
        "# Запустим еще 30 эпох c Adam\n",
        "model.compile(optimizer=Adam(), loss='categorical_crossentropy', metrics='accuracy')\n",
        "history = model.fit(seq_train, validation_data=seq_val, epochs=30) \n",
        "lh.append(history)\n",
        "lh.plot()"
      ],
      "execution_count": null,
      "outputs": [
        {
          "output_type": "stream",
          "text": [
            "Epoch 1/30\n",
            "200/200 [==============================] - 31s 155ms/step - loss: 0.6611 - accuracy: 0.5621 - val_loss: 1.0695 - val_accuracy: 0.4029\n",
            "Epoch 2/30\n",
            "200/200 [==============================] - 29s 143ms/step - loss: 0.6187 - accuracy: 0.5692 - val_loss: 1.0785 - val_accuracy: 0.4059\n",
            "Epoch 3/30\n",
            "200/200 [==============================] - 28s 142ms/step - loss: 0.5631 - accuracy: 0.5844 - val_loss: 1.0982 - val_accuracy: 0.4020\n",
            "Epoch 4/30\n",
            "200/200 [==============================] - 28s 142ms/step - loss: 0.5032 - accuracy: 0.6077 - val_loss: 1.1288 - val_accuracy: 0.3933\n",
            "Epoch 5/30\n",
            "200/200 [==============================] - 29s 144ms/step - loss: 0.4465 - accuracy: 0.6444 - val_loss: 1.1591 - val_accuracy: 0.3872\n",
            "Epoch 6/30\n",
            "200/200 [==============================] - 29s 143ms/step - loss: 0.3945 - accuracy: 0.6882 - val_loss: 1.1812 - val_accuracy: 0.3922\n",
            "Epoch 7/30\n",
            "200/200 [==============================] - 29s 143ms/step - loss: 0.3458 - accuracy: 0.7264 - val_loss: 1.2078 - val_accuracy: 0.3846\n",
            "Epoch 8/30\n",
            "200/200 [==============================] - 28s 142ms/step - loss: 0.3034 - accuracy: 0.7598 - val_loss: 1.2309 - val_accuracy: 0.3833\n",
            "Epoch 9/30\n",
            "200/200 [==============================] - 28s 142ms/step - loss: 0.2669 - accuracy: 0.7903 - val_loss: 1.2477 - val_accuracy: 0.3809\n",
            "Epoch 10/30\n",
            "200/200 [==============================] - 28s 142ms/step - loss: 0.2371 - accuracy: 0.8136 - val_loss: 1.2758 - val_accuracy: 0.3755\n",
            "Epoch 11/30\n",
            "200/200 [==============================] - 29s 143ms/step - loss: 0.2109 - accuracy: 0.8353 - val_loss: 1.2861 - val_accuracy: 0.3725\n",
            "Epoch 12/30\n",
            "200/200 [==============================] - 28s 142ms/step - loss: 0.1872 - accuracy: 0.8569 - val_loss: 1.3036 - val_accuracy: 0.3771\n",
            "Epoch 13/30\n",
            "200/200 [==============================] - 29s 143ms/step - loss: 0.1669 - accuracy: 0.8729 - val_loss: 1.3272 - val_accuracy: 0.3708\n",
            "Epoch 14/30\n",
            "200/200 [==============================] - 29s 143ms/step - loss: 0.1489 - accuracy: 0.8900 - val_loss: 1.3472 - val_accuracy: 0.3667\n",
            "Epoch 15/30\n",
            "200/200 [==============================] - 28s 142ms/step - loss: 0.1339 - accuracy: 0.9015 - val_loss: 1.3590 - val_accuracy: 0.3717\n",
            "Epoch 16/30\n",
            "200/200 [==============================] - 29s 144ms/step - loss: 0.1199 - accuracy: 0.9130 - val_loss: 1.3776 - val_accuracy: 0.3671\n",
            "Epoch 17/30\n",
            "200/200 [==============================] - 29s 143ms/step - loss: 0.1067 - accuracy: 0.9252 - val_loss: 1.3905 - val_accuracy: 0.3692\n",
            "Epoch 18/30\n",
            "200/200 [==============================] - 29s 143ms/step - loss: 0.0947 - accuracy: 0.9347 - val_loss: 1.4071 - val_accuracy: 0.3662\n",
            "Epoch 19/30\n",
            "200/200 [==============================] - 28s 142ms/step - loss: 0.0853 - accuracy: 0.9423 - val_loss: 1.4155 - val_accuracy: 0.3654\n",
            "Epoch 20/30\n",
            "200/200 [==============================] - 28s 142ms/step - loss: 0.0768 - accuracy: 0.9495 - val_loss: 1.4328 - val_accuracy: 0.3673\n",
            "Epoch 21/30\n",
            "200/200 [==============================] - 28s 142ms/step - loss: 0.0687 - accuracy: 0.9546 - val_loss: 1.4464 - val_accuracy: 0.3638\n",
            "Epoch 22/30\n",
            "200/200 [==============================] - 29s 143ms/step - loss: 0.0621 - accuracy: 0.9592 - val_loss: 1.4582 - val_accuracy: 0.3624\n",
            "Epoch 23/30\n",
            "200/200 [==============================] - 28s 142ms/step - loss: 0.0566 - accuracy: 0.9631 - val_loss: 1.4685 - val_accuracy: 0.3622\n",
            "Epoch 24/30\n",
            "200/200 [==============================] - 28s 142ms/step - loss: 0.0512 - accuracy: 0.9667 - val_loss: 1.4779 - val_accuracy: 0.3654\n",
            "Epoch 25/30\n",
            "200/200 [==============================] - 28s 142ms/step - loss: 0.0469 - accuracy: 0.9695 - val_loss: 1.4926 - val_accuracy: 0.3640\n",
            "Epoch 26/30\n",
            "200/200 [==============================] - 28s 142ms/step - loss: 0.0429 - accuracy: 0.9715 - val_loss: 1.4949 - val_accuracy: 0.3662\n",
            "Epoch 27/30\n",
            "200/200 [==============================] - 28s 142ms/step - loss: 0.0398 - accuracy: 0.9731 - val_loss: 1.5116 - val_accuracy: 0.3611\n",
            "Epoch 28/30\n",
            "200/200 [==============================] - 28s 142ms/step - loss: 0.0373 - accuracy: 0.9744 - val_loss: 1.5194 - val_accuracy: 0.3679\n",
            "Epoch 29/30\n",
            "200/200 [==============================] - 28s 142ms/step - loss: 0.0360 - accuracy: 0.9741 - val_loss: 1.5246 - val_accuracy: 0.3684\n",
            "Epoch 30/30\n",
            "200/200 [==============================] - 28s 142ms/step - loss: 0.0350 - accuracy: 0.9746 - val_loss: 1.5314 - val_accuracy: 0.3678\n"
          ],
          "name": "stdout"
        },
        {
          "output_type": "display_data",
          "data": {
            "image/png": "[encoded data removed]",
            "text/plain": [
              "<Figure size 432x288 with 1 Axes>"
            ]
          },
          "metadata": {
            "tags": [],
            "needs_background": "light"
          }
        }
      ]
    },
    {
      "cell_type": "code",
      "metadata": {
        "id": "K_xJY3F5qqr9",
        "outputId": "c546aa38-46a4-4a95-f9f3-9e2e19057a6a",
        "colab": {
          "base_uri": "https://localhost:8080/",
          "height": 459
        }
      },
      "source": [
        "# После 50 эпох:\n",
        "testModel(encoderModel, decoderModel, myQuestions, tokenizer, maxLenAnswers)"
      ],
      "execution_count": null,
      "outputs": [
        {
          "output_type": "stream",
          "text": [
            "Question: а где возьмем-то ? \n",
            "Answer:  на память , где с велосипедами .\n",
            "Question: где ты такому удару научился ? \n",
            "Answer:  я даже в даже случае , кто будет будет .\n",
            "Question: ну ,  и как это было ?  \n",
            "Answer:  все .\n",
            "Question: сколько фрицев в котле ? \n",
            "Answer:  тысяч сорок .\n",
            "Question: какой полк ? \n",
            "Answer:  тысяча тридцать четвертый .\n",
            "Question: а  с  тобой ,   конечно ,  такого не случится ? \n",
            "Answer:  нет .\n",
            "Question: привет !  как дела ? \n",
            "Answer:  за дверью .\n",
            "Question: сколько времени ? \n",
            "Answer:  около четырех .\n",
            "Question: закурить не найдется ? \n",
            "Answer:  да нет , все чистая капитан .\n",
            "Question: когда кончится война ? \n",
            "Answer:  в самый делать из себя .\n",
            "Question: куда ведет эта дорога ? \n",
            "Answer:  у какого цветка ?\n",
            "Question: где ближайший аэродром ? \n",
            "Answer:  а там сейчас уже .\n",
            "Question: кто твой командир ? \n",
            "Answer:  гляди , что ты спросил .\n"
          ],
          "name": "stdout"
        }
      ]
    },
    {
      "cell_type": "markdown",
      "metadata": {
        "id": "M7oyZMy4-0x8"
      },
      "source": [
        "После переключения на Адам обучение пошло быстрее, правда на валидационных данных видно явное переобучение. В результате после 50 эпох модель достаточно точно повторяет ответы из базы, а на произвольные вопросы (не из базы) выдает бессмысленные ответы."
      ]
    },
    {
      "cell_type": "code",
      "metadata": {
        "id": "RW9oaaFpiGfD",
        "outputId": "756b0674-7b26-40ac-9c8a-424080229693",
        "colab": {
          "base_uri": "https://localhost:8080/",
          "height": 1000
        }
      },
      "source": [
        "# Добавим еще 50 эпох\n",
        "model.compile(optimizer=Adam(lr=0.0002), loss='categorical_crossentropy', metrics='accuracy')\n",
        "history = model.fit(seq_train, validation_data=seq_val, epochs=50) \n",
        "lh.append(history)\n",
        "lh.plot()"
      ],
      "execution_count": null,
      "outputs": [
        {
          "output_type": "stream",
          "text": [
            "Epoch 1/50\n",
            "200/200 [==============================] - 31s 153ms/step - loss: 0.0174 - accuracy: 0.9810 - val_loss: 1.6035 - val_accuracy: 0.3651\n",
            "Epoch 2/50\n",
            "200/200 [==============================] - 28s 142ms/step - loss: 0.0169 - accuracy: 0.9811 - val_loss: 1.6041 - val_accuracy: 0.3645\n",
            "Epoch 3/50\n",
            "200/200 [==============================] - 28s 141ms/step - loss: 0.0167 - accuracy: 0.9812 - val_loss: 1.6086 - val_accuracy: 0.3648\n",
            "Epoch 4/50\n",
            "200/200 [==============================] - 28s 142ms/step - loss: 0.0165 - accuracy: 0.9813 - val_loss: 1.6095 - val_accuracy: 0.3646\n",
            "Epoch 5/50\n",
            "200/200 [==============================] - 28s 142ms/step - loss: 0.0163 - accuracy: 0.9813 - val_loss: 1.6141 - val_accuracy: 0.3619\n",
            "Epoch 6/50\n",
            "200/200 [==============================] - 28s 142ms/step - loss: 0.0161 - accuracy: 0.9810 - val_loss: 1.6182 - val_accuracy: 0.3645\n",
            "Epoch 7/50\n",
            "200/200 [==============================] - 28s 142ms/step - loss: 0.0159 - accuracy: 0.9811 - val_loss: 1.6204 - val_accuracy: 0.3621\n",
            "Epoch 8/50\n",
            "200/200 [==============================] - 28s 142ms/step - loss: 0.0157 - accuracy: 0.9811 - val_loss: 1.6222 - val_accuracy: 0.3638\n",
            "Epoch 9/50\n",
            "200/200 [==============================] - 28s 141ms/step - loss: 0.0156 - accuracy: 0.9814 - val_loss: 1.6235 - val_accuracy: 0.3630\n",
            "Epoch 10/50\n",
            "200/200 [==============================] - 28s 142ms/step - loss: 0.0155 - accuracy: 0.9811 - val_loss: 1.6272 - val_accuracy: 0.3621\n",
            "Epoch 11/50\n",
            "200/200 [==============================] - 29s 143ms/step - loss: 0.0153 - accuracy: 0.9813 - val_loss: 1.6290 - val_accuracy: 0.3638\n",
            "Epoch 12/50\n",
            "200/200 [==============================] - 28s 142ms/step - loss: 0.0151 - accuracy: 0.9813 - val_loss: 1.6305 - val_accuracy: 0.3624\n",
            "Epoch 13/50\n",
            "200/200 [==============================] - 28s 142ms/step - loss: 0.0150 - accuracy: 0.9813 - val_loss: 1.6299 - val_accuracy: 0.3660\n",
            "Epoch 14/50\n",
            "200/200 [==============================] - 28s 142ms/step - loss: 0.0149 - accuracy: 0.9810 - val_loss: 1.6339 - val_accuracy: 0.3630\n",
            "Epoch 15/50\n",
            "200/200 [==============================] - 28s 142ms/step - loss: 0.0148 - accuracy: 0.9813 - val_loss: 1.6380 - val_accuracy: 0.3626\n",
            "Epoch 16/50\n",
            "200/200 [==============================] - 28s 142ms/step - loss: 0.0147 - accuracy: 0.9812 - val_loss: 1.6405 - val_accuracy: 0.3610\n",
            "Epoch 17/50\n",
            "200/200 [==============================] - 28s 142ms/step - loss: 0.0146 - accuracy: 0.9814 - val_loss: 1.6415 - val_accuracy: 0.3613\n",
            "Epoch 18/50\n",
            "200/200 [==============================] - 28s 142ms/step - loss: 0.0145 - accuracy: 0.9810 - val_loss: 1.6452 - val_accuracy: 0.3608\n",
            "Epoch 19/50\n",
            "200/200 [==============================] - 29s 143ms/step - loss: 0.0144 - accuracy: 0.9811 - val_loss: 1.6434 - val_accuracy: 0.3638\n",
            "Epoch 20/50\n",
            "200/200 [==============================] - 28s 142ms/step - loss: 0.0144 - accuracy: 0.9812 - val_loss: 1.6465 - val_accuracy: 0.3616\n",
            "Epoch 21/50\n",
            "200/200 [==============================] - 28s 142ms/step - loss: 0.0143 - accuracy: 0.9812 - val_loss: 1.6502 - val_accuracy: 0.3616\n",
            "Epoch 22/50\n",
            "200/200 [==============================] - 28s 142ms/step - loss: 0.0142 - accuracy: 0.9812 - val_loss: 1.6496 - val_accuracy: 0.3630\n",
            "Epoch 23/50\n",
            "200/200 [==============================] - 28s 142ms/step - loss: 0.0141 - accuracy: 0.9812 - val_loss: 1.6534 - val_accuracy: 0.3608\n",
            "Epoch 24/50\n",
            "200/200 [==============================] - 28s 141ms/step - loss: 0.0140 - accuracy: 0.9813 - val_loss: 1.6534 - val_accuracy: 0.3635\n",
            "Epoch 25/50\n",
            "200/200 [==============================] - 28s 141ms/step - loss: 0.0140 - accuracy: 0.9813 - val_loss: 1.6517 - val_accuracy: 0.3624\n",
            "Epoch 26/50\n",
            "200/200 [==============================] - 28s 141ms/step - loss: 0.0139 - accuracy: 0.9805 - val_loss: 1.6555 - val_accuracy: 0.3608\n",
            "Epoch 27/50\n",
            "200/200 [==============================] - 28s 142ms/step - loss: 0.0139 - accuracy: 0.9810 - val_loss: 1.6585 - val_accuracy: 0.3622\n",
            "Epoch 28/50\n",
            "200/200 [==============================] - 28s 142ms/step - loss: 0.0138 - accuracy: 0.9812 - val_loss: 1.6568 - val_accuracy: 0.3619\n",
            "Epoch 29/50\n",
            "200/200 [==============================] - 28s 141ms/step - loss: 0.0137 - accuracy: 0.9812 - val_loss: 1.6606 - val_accuracy: 0.3611\n",
            "Epoch 30/50\n",
            "200/200 [==============================] - 28s 142ms/step - loss: 0.0137 - accuracy: 0.9811 - val_loss: 1.6600 - val_accuracy: 0.3633\n",
            "Epoch 31/50\n",
            "200/200 [==============================] - 28s 142ms/step - loss: 0.0136 - accuracy: 0.9811 - val_loss: 1.6684 - val_accuracy: 0.3584\n",
            "Epoch 32/50\n",
            "200/200 [==============================] - 28s 142ms/step - loss: 0.0136 - accuracy: 0.9811 - val_loss: 1.6668 - val_accuracy: 0.3602\n",
            "Epoch 33/50\n",
            "200/200 [==============================] - 28s 142ms/step - loss: 0.0135 - accuracy: 0.9809 - val_loss: 1.6679 - val_accuracy: 0.3602\n",
            "Epoch 34/50\n",
            "200/200 [==============================] - 28s 142ms/step - loss: 0.0135 - accuracy: 0.9813 - val_loss: 1.6677 - val_accuracy: 0.3618\n",
            "Epoch 35/50\n",
            "200/200 [==============================] - 28s 142ms/step - loss: 0.0135 - accuracy: 0.9812 - val_loss: 1.6713 - val_accuracy: 0.3602\n",
            "Epoch 36/50\n",
            "200/200 [==============================] - 28s 141ms/step - loss: 0.0134 - accuracy: 0.9813 - val_loss: 1.6745 - val_accuracy: 0.3603\n",
            "Epoch 37/50\n",
            "200/200 [==============================] - 28s 142ms/step - loss: 0.0134 - accuracy: 0.9808 - val_loss: 1.6732 - val_accuracy: 0.3614\n",
            "Epoch 38/50\n",
            "200/200 [==============================] - 28s 141ms/step - loss: 0.0133 - accuracy: 0.9809 - val_loss: 1.6718 - val_accuracy: 0.3632\n",
            "Epoch 39/50\n",
            "200/200 [==============================] - 28s 142ms/step - loss: 0.0133 - accuracy: 0.9809 - val_loss: 1.6779 - val_accuracy: 0.3602\n",
            "Epoch 40/50\n",
            "200/200 [==============================] - 28s 141ms/step - loss: 0.0133 - accuracy: 0.9809 - val_loss: 1.6769 - val_accuracy: 0.3588\n",
            "Epoch 41/50\n",
            "200/200 [==============================] - 28s 142ms/step - loss: 0.0132 - accuracy: 0.9810 - val_loss: 1.6759 - val_accuracy: 0.3613\n",
            "Epoch 42/50\n",
            "200/200 [==============================] - 28s 141ms/step - loss: 0.0132 - accuracy: 0.9810 - val_loss: 1.6804 - val_accuracy: 0.3600\n",
            "Epoch 43/50\n",
            "200/200 [==============================] - 29s 143ms/step - loss: 0.0131 - accuracy: 0.9812 - val_loss: 1.6785 - val_accuracy: 0.3599\n",
            "Epoch 44/50\n",
            "200/200 [==============================] - 28s 142ms/step - loss: 0.0131 - accuracy: 0.9813 - val_loss: 1.6806 - val_accuracy: 0.3611\n",
            "Epoch 45/50\n",
            "200/200 [==============================] - 28s 142ms/step - loss: 0.0131 - accuracy: 0.9812 - val_loss: 1.6792 - val_accuracy: 0.3608\n",
            "Epoch 46/50\n",
            "200/200 [==============================] - 28s 141ms/step - loss: 0.0131 - accuracy: 0.9809 - val_loss: 1.6825 - val_accuracy: 0.3613\n",
            "Epoch 47/50\n",
            "200/200 [==============================] - 28s 142ms/step - loss: 0.0130 - accuracy: 0.9814 - val_loss: 1.6808 - val_accuracy: 0.3619\n",
            "Epoch 48/50\n",
            "200/200 [==============================] - 28s 142ms/step - loss: 0.0130 - accuracy: 0.9814 - val_loss: 1.6856 - val_accuracy: 0.3603\n",
            "Epoch 49/50\n",
            "200/200 [==============================] - 28s 141ms/step - loss: 0.0130 - accuracy: 0.9813 - val_loss: 1.6841 - val_accuracy: 0.3602\n",
            "Epoch 50/50\n",
            "200/200 [==============================] - 28s 142ms/step - loss: 0.0129 - accuracy: 0.9811 - val_loss: 1.6856 - val_accuracy: 0.3629\n"
          ],
          "name": "stdout"
        },
        {
          "output_type": "display_data",
          "data": {
            "image/png": "[encoded data removed]",
            "text/plain": [
              "<Figure size 432x288 with 1 Axes>"
            ]
          },
          "metadata": {
            "tags": [],
            "needs_background": "light"
          }
        }
      ]
    },
    {
      "cell_type": "code",
      "metadata": {
        "id": "If3wqrbSmcmg",
        "outputId": "5d36122f-3489-41c9-926c-86a10b0491ad",
        "colab": {
          "base_uri": "https://localhost:8080/",
          "height": 737
        }
      },
      "source": [
        "# После 100 эпох:\n",
        "lh.plot()\n",
        "testModel(encoderModel, decoderModel, myQuestions, tokenizer, maxLenAnswers)"
      ],
      "execution_count": null,
      "outputs": [
        {
          "output_type": "display_data",
          "data": {
            "image/png": "[encoded data removed]",
            "text/plain": [
              "<Figure size 432x288 with 1 Axes>"
            ]
          },
          "metadata": {
            "tags": [],
            "needs_background": "light"
          }
        },
        {
          "output_type": "stream",
          "text": [
            "Question: а где возьмем-то ? \n",
            "Answer:  на войне , под ленинградом .\n",
            "Question: где ты такому удару научился ? \n",
            "Answer:  я не знаю , когда я вас выйти .\n",
            "Question: ну ,  и как это было ?  \n",
            "Answer:  тебе не понравится .\n",
            "Question: сколько фрицев в котле ? \n",
            "Answer:  тысяч сорок .\n",
            "Question: какой полк ? \n",
            "Answer:  тысяча тридцать четвертый .\n",
            "Question: а  с  тобой ,   конечно ,  такого не случится ? \n",
            "Answer:  нет .\n",
            "Question: привет !  как дела ? \n",
            "Answer:  за вами . зачем ты хотела сказать ?\n",
            "Question: сколько времени ? \n",
            "Answer:  около четырех .\n",
            "Question: закурить не найдется ? \n",
            "Answer:  да нет , ничего не капитан .\n",
            "Question: когда кончится война ? \n",
            "Answer:  в самый всегда место не смогу .\n",
            "Question: куда ведет эта дорога ? \n",
            "Answer:  куда вызвали ? на землю !\n",
            "Question: где ближайший аэродром ? \n",
            "Answer:  я здесь , сир .\n",
            "Question: кто твой командир ? \n",
            "Answer:  ж . . . это твой отец .\n"
          ],
          "name": "stdout"
        }
      ]
    },
    {
      "cell_type": "markdown",
      "metadata": {
        "id": "ZBzeLIY4DTWK"
      },
      "source": [
        "После 100 эпох обучения модель хорошо запомнила ответы на вопросы из базы, но при этом произошло переобучение и ответы на произвольные вопросы в основном неудачные."
      ]
    },
    {
      "cell_type": "markdown",
      "metadata": {
        "id": "Y0fvvJ7ljSI-"
      },
      "source": [
        "#PRO задание #1\n"
      ]
    },
    {
      "cell_type": "markdown",
      "metadata": {
        "id": "U4UAhrIJjbIZ"
      },
      "source": [
        "##1) Попробуйте улучшить текущий скрипт чат-бота, \n",
        "\n",
        "внедрив блок кода для присвоения\n",
        "словам вне словаря(out-of-vocabulary) метки “unknown” так, чтобы встретив в запросе\n",
        "незнакомое слово, исполнение кода не останавливалось, а продолжалось, игнорируя\n",
        "“unknown” слова."
      ]
    },
    {
      "cell_type": "markdown",
      "metadata": {
        "id": "Kk5nAmgQlBag"
      },
      "source": [
        "Все необходимые изменения сделаны выше в разделе \"Подготовка данных\" и задании Light:\n",
        "- добавлен oov_token; \n",
        "- знаки препинаний убраны из числа фильтруемых символов токнизатора; \n",
        "- в вопросах и ответах знаки препинаний отделены пробелами от слов;\n",
        "- исправлена (2-мя способами) функция strToTokens()"
      ]
    },
    {
      "cell_type": "code",
      "metadata": {
        "id": "5w8-vFHborPw"
      },
      "source": [
        "# Первый вариант - обрабатывать исключение - испозовать try - except\n",
        "def strToTokens(sentence: str): # функция принимает строку на вход (предложение с вопросом)\n",
        "  words = sentence.lower().split() # приводит предложение к нижнему регистру и разбирает на слова\n",
        "  tokensList = list() # здесь будет последовательность токенов/индексов\n",
        "  for word in words: # для каждого слова в предложении\n",
        "    try:\n",
        "        tokensList.append(tokenizer.word_index[word]) # определяем токенизатором индекс и добавляем в список\n",
        "    except KeyError:\n",
        "        pass\n",
        "    # Функция вернёт вопрос в виде последовательности индексов, ограниченной длиной самого длинного вопроса из нашей базы вопросов\n",
        "  return pad_sequences([tokensList], maxlen=maxLenQuestions , padding='post')"
      ],
      "execution_count": null,
      "outputs": []
    },
    {
      "cell_type": "code",
      "metadata": {
        "id": "upuhus6wj-kr"
      },
      "source": [
        "# Второй вариант:\n",
        "def strToTokens(sentence: str): # функция принимает строку на вход (предложение с вопросом)\n",
        "  words = sentence.lower().split() # приводит предложение к нижнему регистру и разбирает на слова\n",
        "  tokensList = tokenizer.texts_to_sequences([words])\n",
        "  return pad_sequences(tokensList, maxlen=maxLenQuestions , padding='post')"
      ],
      "execution_count": null,
      "outputs": []
    },
    {
      "cell_type": "markdown",
      "metadata": {
        "id": "1g0ZNW8IjuN_"
      },
      "source": [
        "##2) Текущая модель не учитывает \n",
        "знаки препинания в диалоге. Скорректируйте некоторые\n",
        "блоки кода так, чтобы они учитывались. Проведите наблюдения, как добавление знаков\n",
        "скажется на работе и результатах сетки."
      ]
    },
    {
      "cell_type": "markdown",
      "metadata": {
        "id": "tsenBpiREI1A"
      },
      "source": [
        "Выше (list \"myQuestions\") были протестированы вопросы со знаками препинаний. Они обрабатываются корректно, ошибок при выполнении не возникает. Модель активно использует точку, знак вопроса, восклицания в конце своих фраз. Раньше этого не было."
      ]
    },
    {
      "cell_type": "markdown",
      "metadata": {
        "id": "xnuHIh5KFEGj"
      },
      "source": [
        "#PRO задание #2 \n",
        "(альтернативное на выбор)\n",
        "Добейтесь максимально низкого Loss’а в обучении модели, экспериментируя с\n",
        "архитектурой и параметрами сети(размеры пространства эмбеддинга, слоев сетки,\n",
        "разные оптимайзеры и т.п)"
      ]
    },
    {
      "cell_type": "markdown",
      "metadata": {
        "id": "sR7Ij6dGSo7G"
      },
      "source": [
        "**Замечание** В задании не указано, на какой выборке требуется добиться минимальных потерь. На тренировочной выборке это сделать несложно, и уже было сделано выше. Сеть \"вызубрила\" ответы на известные вопросы, но при этом переобучилась и стала хуже отвечать на произвольные вопросы. \n",
        "\n",
        "Наверное наибольшую ценность имеет обучение сети отвечать на произвольные вопросы, для этого надо уменьшать потери на контрольной выборке."
      ]
    },
    {
      "cell_type": "markdown",
      "metadata": {
        "id": "4sfps9xJJMSN"
      },
      "source": [
        "Разобьем все данные, как положено по феншую, на тренировочные, валидационные и тестовые."
      ]
    },
    {
      "cell_type": "code",
      "metadata": {
        "id": "ebL-S04-ILBd"
      },
      "source": [
        "# Перемешаем данные\n",
        "inds = np.array([i for i in range(11900)])\n",
        "np.random.shuffle(inds)"
      ],
      "execution_count": null,
      "outputs": []
    },
    {
      "cell_type": "code",
      "metadata": {
        "id": "l8xbA2nyJgjT"
      },
      "source": [
        "# Пересоздадим выборки\n",
        "x_train = paddedQuestions[inds[:10000]]\n",
        "y_train = paddedAnswers[inds[:10000]]\n",
        "x_val = paddedQuestions[inds[10000:10900]]\n",
        "y_val = paddedAnswers[inds[10000:10900]]\n",
        "x_test = paddedQuestions[inds[10900:11900]]\n",
        "y_test = paddedAnswers[inds[10900:11900]]"
      ],
      "execution_count": null,
      "outputs": []
    },
    {
      "cell_type": "code",
      "metadata": {
        "id": "W1X-6JK7g11s",
        "outputId": "f7e93905-a863-4337-cf78-59b64fa6f5d4",
        "colab": {
          "base_uri": "https://localhost:8080/",
          "height": 34
        }
      },
      "source": [
        "vocabularySize"
      ],
      "execution_count": null,
      "outputs": [
        {
          "output_type": "execute_result",
          "data": {
            "text/plain": [
              "15108"
            ]
          },
          "metadata": {
            "tags": []
          },
          "execution_count": 33
        }
      ]
    },
    {
      "cell_type": "code",
      "metadata": {
        "id": "sAjWWRWFLBnf",
        "outputId": "8ec65647-423d-4743-b405-2077913bde26",
        "colab": {
          "base_uri": "https://localhost:8080/",
          "height": 459
        }
      },
      "source": [
        "# Увеличим размерность векторного (embedding) пространства. Добавим дропауты в LSTM для борьбы с переобучением.\n",
        "# Перейдем на оптимизатор Adam\n",
        "DIM = 256\n",
        "\n",
        "encoderInputs = Input(shape=(None, ))\n",
        "encoderEmbedding = Embedding(vocabularySize, DIM,  mask_zero=True) (encoderInputs)\n",
        "encoderOutputs, state_h , state_c = LSTM(DIM, dropout=0.2, recurrent_dropout=0.2, return_state=True)(encoderEmbedding)\n",
        "encoderStates = [state_h, state_c]\n",
        "\n",
        "decoderInputs = Input(shape=(None, ))\n",
        "decoderEmbedding = Embedding(vocabularySize, DIM, mask_zero=True) (decoderInputs) \n",
        "decoderLSTM = LSTM(DIM, dropout=0.2, recurrent_dropout=0.2, return_state=True, return_sequences=True)\n",
        "decoderOutputs , _ , _ = decoderLSTM(decoderEmbedding, initial_state=encoderStates)\n",
        "decoderDense = Dense(vocabularySize, activation='softmax') \n",
        "output = decoderDense (decoderOutputs)\n",
        "\n",
        "model = Model([encoderInputs, decoderInputs], output)\n",
        "lh = LearnHistory() \n",
        "model.summary()"
      ],
      "execution_count": null,
      "outputs": [
        {
          "output_type": "stream",
          "text": [
            "WARNING:tensorflow:Layer lstm_6 will not use cuDNN kernel since it doesn't meet the cuDNN kernel criteria. It will use generic GPU kernel as fallback when running on GPU\n",
            "WARNING:tensorflow:Layer lstm_7 will not use cuDNN kernel since it doesn't meet the cuDNN kernel criteria. It will use generic GPU kernel as fallback when running on GPU\n",
            "Model: \"functional_11\"\n",
            "__________________________________________________________________________________________________\n",
            "Layer (type)                    Output Shape         Param #     Connected to                     \n",
            "==================================================================================================\n",
            "input_10 (InputLayer)           [(None, None)]       0                                            \n",
            "__________________________________________________________________________________________________\n",
            "input_11 (InputLayer)           [(None, None)]       0                                            \n",
            "__________________________________________________________________________________________________\n",
            "embedding_6 (Embedding)         (None, None, 256)    3867648     input_10[0][0]                   \n",
            "__________________________________________________________________________________________________\n",
            "embedding_7 (Embedding)         (None, None, 256)    3867648     input_11[0][0]                   \n",
            "__________________________________________________________________________________________________\n",
            "lstm_6 (LSTM)                   [(None, 256), (None, 525312      embedding_6[0][0]                \n",
            "__________________________________________________________________________________________________\n",
            "lstm_7 (LSTM)                   [(None, None, 256),  525312      embedding_7[0][0]                \n",
            "                                                                 lstm_6[0][1]                     \n",
            "                                                                 lstm_6[0][2]                     \n",
            "__________________________________________________________________________________________________\n",
            "dense_3 (Dense)                 (None, None, 15108)  3882756     lstm_7[0][0]                     \n",
            "==================================================================================================\n",
            "Total params: 12,668,676\n",
            "Trainable params: 12,668,676\n",
            "Non-trainable params: 0\n",
            "__________________________________________________________________________________________________\n"
          ],
          "name": "stdout"
        }
      ]
    },
    {
      "cell_type": "markdown",
      "metadata": {
        "id": "6U6dXJkOKAqJ"
      },
      "source": [
        "Нам нужны 3 сиквенса на каждый тип данных."
      ]
    },
    {
      "cell_type": "code",
      "metadata": {
        "id": "0RDfjBwJ6XbI"
      },
      "source": [
        "seq_train = MySequence(x_train, y_train, voc_len=vocabularySize, batch_size=100)\n",
        "seq_val = MySequence(x_val, y_val, voc_len=vocabularySize, batch_size=100)\n",
        "seq_test = MySequence(x_test, y_test, voc_len=vocabularySize, batch_size=100)"
      ],
      "execution_count": null,
      "outputs": []
    },
    {
      "cell_type": "code",
      "metadata": {
        "id": "Iqdi-c8TfYJp"
      },
      "source": [
        "# Пробовал менять lr по расписанию.\n",
        "# learning_rate = CustomSchedule(model)\n",
        "optimizer = Adam(learning_rate=0.001, beta_1=0.9, beta_2=0.98, epsilon=1e-9)"
      ],
      "execution_count": null,
      "outputs": []
    },
    {
      "cell_type": "code",
      "metadata": {
        "id": "YNXJBOlVfzxr"
      },
      "source": [
        "# temp_learning_rate_schedule = CustomSchedule(model)\n",
        "\n",
        "# plt.plot(temp_learning_rate_schedule(tf.range(40000, dtype=tf.float32)))\n",
        "# plt.ylabel(\"Learning Rate\")\n",
        "# plt.xlabel(\"Train Step\")"
      ],
      "execution_count": null,
      "outputs": []
    },
    {
      "cell_type": "code",
      "metadata": {
        "id": "tu9HAzfNMCzZ",
        "outputId": "dd002b5c-ec6f-4706-e7c4-6611eaf96b33",
        "colab": {
          "base_uri": "https://localhost:8080/",
          "height": 1000
        }
      },
      "source": [
        "# Запустим обучение.\n",
        "optimizer = Adam(learning_rate=0.001, beta_1=0.9, beta_2=0.98, epsilon=1e-9)\n",
        "model.compile(optimizer=optimizer, loss='categorical_crossentropy', metrics=['accuracy']) \n",
        "history = model.fit(seq_train, validation_data=(seq_val), epochs=20) \n",
        "lh.append(history)\n",
        "lh.plot()\n",
        "score = model.evaluate(seq_test)\n",
        "print(\"Loss on test: %.4f\" % score[0])"
      ],
      "execution_count": null,
      "outputs": [
        {
          "output_type": "stream",
          "text": [
            "Epoch 1/20\n",
            "100/100 [==============================] - 30s 302ms/step - loss: 1.4138 - accuracy: 0.1773 - val_loss: 1.1880 - val_accuracy: 0.2018\n",
            "Epoch 2/20\n",
            "100/100 [==============================] - 30s 298ms/step - loss: 1.0686 - accuracy: 0.3472 - val_loss: 1.0465 - val_accuracy: 0.4020\n",
            "Epoch 3/20\n",
            "100/100 [==============================] - 30s 296ms/step - loss: 0.9750 - accuracy: 0.4017 - val_loss: 1.0362 - val_accuracy: 0.4150\n",
            "Epoch 4/20\n",
            "100/100 [==============================] - 30s 296ms/step - loss: 0.9382 - accuracy: 0.4108 - val_loss: 1.0384 - val_accuracy: 0.4177\n",
            "Epoch 5/20\n",
            "100/100 [==============================] - 29s 294ms/step - loss: 0.9097 - accuracy: 0.4189 - val_loss: 1.0390 - val_accuracy: 0.4225\n",
            "Epoch 6/20\n",
            "100/100 [==============================] - 29s 292ms/step - loss: 0.8793 - accuracy: 0.4422 - val_loss: 1.0397 - val_accuracy: 0.4454\n",
            "Epoch 7/20\n",
            "100/100 [==============================] - 29s 289ms/step - loss: 0.8480 - accuracy: 0.4558 - val_loss: 1.0418 - val_accuracy: 0.4443\n",
            "Epoch 8/20\n",
            "100/100 [==============================] - 29s 289ms/step - loss: 0.8182 - accuracy: 0.4660 - val_loss: 1.0481 - val_accuracy: 0.4430\n",
            "Epoch 9/20\n",
            "100/100 [==============================] - 29s 294ms/step - loss: 0.7892 - accuracy: 0.4738 - val_loss: 1.0542 - val_accuracy: 0.4403\n",
            "Epoch 10/20\n",
            "100/100 [==============================] - 29s 292ms/step - loss: 0.7620 - accuracy: 0.4824 - val_loss: 1.0595 - val_accuracy: 0.4392\n",
            "Epoch 11/20\n",
            "100/100 [==============================] - 29s 290ms/step - loss: 0.7359 - accuracy: 0.4892 - val_loss: 1.0661 - val_accuracy: 0.4376\n",
            "Epoch 12/20\n",
            "100/100 [==============================] - 29s 291ms/step - loss: 0.7095 - accuracy: 0.4958 - val_loss: 1.0751 - val_accuracy: 0.4347\n",
            "Epoch 13/20\n",
            "100/100 [==============================] - 29s 290ms/step - loss: 0.6848 - accuracy: 0.5021 - val_loss: 1.0810 - val_accuracy: 0.4392\n",
            "Epoch 14/20\n",
            "100/100 [==============================] - 29s 291ms/step - loss: 0.6611 - accuracy: 0.5086 - val_loss: 1.0878 - val_accuracy: 0.4319\n",
            "Epoch 15/20\n",
            "100/100 [==============================] - 29s 290ms/step - loss: 0.6386 - accuracy: 0.5154 - val_loss: 1.0935 - val_accuracy: 0.4336\n",
            "Epoch 16/20\n",
            "100/100 [==============================] - 29s 289ms/step - loss: 0.6163 - accuracy: 0.5241 - val_loss: 1.1038 - val_accuracy: 0.4247\n",
            "Epoch 17/20\n",
            "100/100 [==============================] - 29s 289ms/step - loss: 0.5950 - accuracy: 0.5341 - val_loss: 1.1121 - val_accuracy: 0.4280\n",
            "Epoch 18/20\n",
            "100/100 [==============================] - 29s 289ms/step - loss: 0.5741 - accuracy: 0.5443 - val_loss: 1.1176 - val_accuracy: 0.4242\n",
            "Epoch 19/20\n",
            "100/100 [==============================] - 29s 289ms/step - loss: 0.5545 - accuracy: 0.5561 - val_loss: 1.1212 - val_accuracy: 0.4265\n",
            "Epoch 20/20\n",
            "100/100 [==============================] - 29s 290ms/step - loss: 0.5347 - accuracy: 0.5683 - val_loss: 1.1315 - val_accuracy: 0.4182\n"
          ],
          "name": "stdout"
        },
        {
          "output_type": "display_data",
          "data": {
            "image/png": "[encoded data removed]",
            "text/plain": [
              "<Figure size 432x288 with 1 Axes>"
            ]
          },
          "metadata": {
            "tags": [],
            "needs_background": "light"
          }
        },
        {
          "output_type": "stream",
          "text": [
            "10/10 [==============================] - 1s 78ms/step - loss: 1.1634 - accuracy: 0.4091\n",
            "Loss on test: 1.1634\n"
          ],
          "name": "stdout"
        }
      ]
    },
    {
      "cell_type": "markdown",
      "metadata": {
        "id": "ccE1Jfj9ABig"
      },
      "source": [
        "##ВЫВОДЫ\n",
        "\n",
        "Нейронная сеть является универсальным аппроксиматором, и есть теорема, утверждающая, что сеть способна обеспечить любую наперед заданную точность. Но это касается лишь обучаемых данных.\n",
        "Поэтому задача снижения потерь на тренировочных данных не слишком трудна, нужно лишь взять досточно сложную сеть и нужное число эпох. Ценность такого обучения весьма ограничена - сеть лишь запомнит конкретные ответы на конкретные вопросы, но не сможет хорошо отвечать на произвольные вопросы.\n",
        "\n",
        "Более ценным результатом было бы обучение, дающее малую потерю на _тестовом_ наборе. Однако в нашем случае добиться хорошего результата на тестовом наборе не получилось - несмотря на все предпринятые меры, очень быстро наступало переобучение, а потери оставались на высоком уровне. Я объясняю такой результат тем, что данные в ответах не вытекают логически из вопросов, и довольно произвольны. \n",
        "\n",
        "При обучении модели возникли серьезные проблемы с нехваткой памяти, так как OHE кодировка давала огромные массивы размера (11900, 16, 15107), приводившие к краху сессии. Поэтому мне пришлось создать свой сиквенс, выдающий данные в OHE формате батчами лишь по 50 штук. Это решило проблему.\n",
        "\n",
        "К сожалению невозможно было полноценно протестировать предобученную модель, поскольку она обучалась, очевидно, на всех данных, и невозможно сказать какой бы у нее был результат на контрольной выборке. Кроме того, словарь у нее другой (без знаков препинаний) и запустить ее на моих данных ее нельзя.\n",
        "\n"
      ]
    },
    {
      "cell_type": "markdown",
      "metadata": {
        "id": "WHkrxhBPxCyO"
      },
      "source": [
        "#Ultra PRO задание #1\n",
        "Скачайте свои переписки/диалоги из соц.сетей/мессенджеров и сформируйте свою\n",
        "диалоговую базу. На основе этой базы обучите модель, построив тем самым чат бота,\n",
        "генерирующего текст ответов в вашем стиле."
      ]
    },
    {
      "cell_type": "markdown",
      "metadata": {
        "id": "CkYm644Xdan5"
      },
      "source": [
        "## Трансформер\n",
        "Я мало общаюсь в соц сетях и к тому же не умею парсить их данные. Так что построить диалоговую базу, как предлагается в условии, не получится (или она будет неприемлемо маленькой)\n",
        "\n",
        "В качестве альтернативной задачи я попытался поэкспериментировать с трансформером - архитектурой, которая стала общепризнанным лидером для задач NLP. \n",
        "\n",
        "Готового примера кода трансформера я не нашел. Пример трансформера из [документации Keras](https://keras.io/examples/nlp/text_classification_with_transformer/) содержит лишь блок энкодера. Я попытался написать свою реализацию блока декодера трансформера.\n",
        "\n",
        "При написании я руководствовался статьями [The Illustrated Transformer](http://jalammar.github.io/illustrated-transformer/), [Transformer model for language understanding](https://www.tensorflow.org/tutorials/text/transformer) и оригинальной статьей [Attention Is All You Need](https://arxiv.org/pdf/1706.03762.pdf)\n",
        "\n",
        "![image](https://www.tensorflow.org/images/tutorials/transformer/transformer.png)"
      ]
    },
    {
      "cell_type": "code",
      "metadata": {
        "id": "lBa1fOQTbLXI"
      },
      "source": [
        "import tensorflow as tf\n",
        "from tensorflow import keras\n",
        "from tensorflow.keras import layers"
      ],
      "execution_count": null,
      "outputs": []
    },
    {
      "cell_type": "code",
      "metadata": {
        "id": "6Cnx-CelbLb_"
      },
      "source": [
        "# Модифицировал класс из примера для 2х входового слоя (понадобится в декодере)\n",
        "\n",
        "class MultiHeadSelfAttention(layers.Layer):\n",
        "    def __init__(self, embed_dim, num_heads=8):\n",
        "        super(MultiHeadSelfAttention, self).__init__()\n",
        "        self.embed_dim = embed_dim\n",
        "        self.num_heads = num_heads\n",
        "        if embed_dim % num_heads != 0:\n",
        "            raise ValueError(\n",
        "                f\"embedding dimension = {embed_dim} should be divisible by number of heads = {num_heads}\"\n",
        "            )\n",
        "        self.projection_dim = embed_dim // num_heads\n",
        "        self.query_dense = layers.Dense(embed_dim)\n",
        "        self.key_dense = layers.Dense(embed_dim)\n",
        "        self.value_dense = layers.Dense(embed_dim)\n",
        "        self.combine_heads = layers.Dense(embed_dim)\n",
        "\n",
        "    def attention(self, query, key, value):\n",
        "        score = tf.matmul(query, key, transpose_b=True)\n",
        "        dim_key = tf.cast(tf.shape(key)[-1], tf.float32)\n",
        "        scaled_score = score / tf.math.sqrt(dim_key)\n",
        "        weights = tf.nn.softmax(scaled_score, axis=-1)\n",
        "        output = tf.matmul(weights, value)\n",
        "        return output, weights\n",
        "\n",
        "    def separate_heads(self, x, batch_size):\n",
        "        x = tf.reshape(x, (batch_size, -1, self.num_heads, self.projection_dim))\n",
        "        return tf.transpose(x, perm=[0, 2, 1, 3])\n",
        "\n",
        "    def call(self, inputs):\n",
        "        # x.shape = [batch_size, seq_len, embedding_dim]\n",
        "        batch_size = tf.shape(inputs[0])[0]\n",
        "        query = self.query_dense(inputs[0])  # (batch_size, seq_len, embed_dim)\n",
        "        key = self.key_dense(inputs[1])  # (batch_size, seq_len, embed_dim)\n",
        "        value = self.value_dense(inputs[1])  # (batch_size, seq_len, embed_dim)\n",
        "        query = self.separate_heads(\n",
        "            query, batch_size\n",
        "        )  # (batch_size, num_heads, seq_len, projection_dim)\n",
        "        key = self.separate_heads(\n",
        "            key, batch_size\n",
        "        )  # (batch_size, num_heads, seq_len, projection_dim)\n",
        "        value = self.separate_heads(\n",
        "            value, batch_size\n",
        "        )  # (batch_size, num_heads, seq_len, projection_dim)\n",
        "        attention, weights = self.attention(query, key, value)\n",
        "        attention = tf.transpose(\n",
        "            attention, perm=[0, 2, 1, 3]\n",
        "        )  # (batch_size, seq_len, num_heads, projection_dim)\n",
        "        concat_attention = tf.reshape(\n",
        "            attention, (batch_size, -1, self.embed_dim)\n",
        "        )  # (batch_size, seq_len, embed_dim)\n",
        "        output = self.combine_heads(\n",
        "            concat_attention\n",
        "        )  # (batch_size, seq_len, embed_dim)\n",
        "        return output\n"
      ],
      "execution_count": null,
      "outputs": []
    },
    {
      "cell_type": "markdown",
      "metadata": {
        "id": "nyg_FdVyblon"
      },
      "source": [
        "Расширил класс MultiHeadSelfAttention для реализации маскирования."
      ]
    },
    {
      "cell_type": "code",
      "metadata": {
        "id": "yXKbwMknlHUV"
      },
      "source": [
        "class MaskedMultiHeadSelfAttention(MultiHeadSelfAttention):\n",
        "    def __init__(self, embed_dim, num_heads=8):\n",
        "        super(MaskedMultiHeadSelfAttention, self).__init__(embed_dim)\n",
        "\n",
        "    def call(self, inputs):\n",
        "        # x.shape = [batch_size, seq_len, embedding_dim]\n",
        "        batch_size = tf.shape(inputs[0])[0]\n",
        "        query = self.query_dense(inputs[0])  # (batch_size, seq_len, embed_dim)\n",
        "        key = self.key_dense(inputs[1])  # (batch_size, seq_len, embed_dim)\n",
        "        value = self.value_dense(inputs[1])  # (batch_size, seq_len, embed_dim)\n",
        "        query = self.separate_heads(\n",
        "            query, batch_size\n",
        "        )  # (batch_size, num_heads, seq_len, projection_dim)\n",
        "        key = self.separate_heads(\n",
        "            key, batch_size\n",
        "        )  # (batch_size, num_heads, seq_len, projection_dim)\n",
        "        value = self.separate_heads(\n",
        "            value, batch_size\n",
        "        )  # (batch_size, num_heads, seq_len, projection_dim)\n",
        "        attention, weights = self.attention(query, key, value)\n",
        "        attention = tf.transpose(\n",
        "            attention, perm=[0, 2, 1, 3]\n",
        "        )  # (batch_size, seq_len, num_heads, projection_dim)\n",
        "        concat_attention = tf.reshape(\n",
        "            attention, (batch_size, -1, self.embed_dim)\n",
        "        )  # (batch_size, seq_len, embed_dim)\n",
        "        output = self.combine_heads(\n",
        "            concat_attention\n",
        "        )  # (batch_size, seq_len, embed_dim)\n",
        "        return output"
      ],
      "execution_count": null,
      "outputs": []
    },
    {
      "cell_type": "code",
      "metadata": {
        "id": "Pdlyxvc0bLvU"
      },
      "source": [
        "# Переименовал класс из примера и адаптировал к новому классу MultiHeadSelfAttention\n",
        "class TransformerEncoderBlock(layers.Layer):\n",
        "    def __init__(self, embed_dim, num_heads, ff_dim, rate=0.1):\n",
        "        super(TransformerEncoderBlock, self).__init__()\n",
        "        self.att = MultiHeadSelfAttention(embed_dim, num_heads)\n",
        "        self.ffn = keras.Sequential(\n",
        "            [layers.Dense(ff_dim, activation=\"relu\"), layers.Dense(embed_dim),]\n",
        "        )\n",
        "        self.layernorm1 = layers.LayerNormalization(epsilon=1e-6)\n",
        "        self.layernorm2 = layers.LayerNormalization(epsilon=1e-6)\n",
        "        self.dropout1 = layers.Dropout(rate)\n",
        "        self.dropout2 = layers.Dropout(rate)\n",
        "\n",
        "    def call(self, input, training):\n",
        "        attn_output = self.att([input, input])\n",
        "        attn_output = self.dropout1(attn_output, training=training)\n",
        "        out1 = self.layernorm1(input + attn_output)\n",
        "        ffn_output = self.ffn(out1)\n",
        "        ffn_output = self.dropout2(ffn_output, training=training)\n",
        "        return self.layernorm2(out1 + ffn_output)"
      ],
      "execution_count": null,
      "outputs": []
    },
    {
      "cell_type": "markdown",
      "metadata": {
        "id": "0xYRnJucb5t5"
      },
      "source": [
        "Добавил блок декодера."
      ]
    },
    {
      "cell_type": "code",
      "metadata": {
        "id": "kU5Y7pPajrGU"
      },
      "source": [
        "class TransformerDecoderBlock(layers.Layer):\n",
        "    def __init__(self, embed_dim, num_heads, ff_dim, rate=0.1):\n",
        "        super(TransformerDecoderBlock, self).__init__()\n",
        "        self.matt = MaskedMultiHeadSelfAttention(embed_dim, num_heads)\n",
        "        self.att = MultiHeadSelfAttention(embed_dim, num_heads)\n",
        "        self.ffn = keras.Sequential(\n",
        "            [layers.Dense(ff_dim, activation=\"relu\"), layers.Dense(embed_dim),]\n",
        "        )\n",
        "        self.layernorm0 = layers.LayerNormalization(epsilon=1e-6)\n",
        "        self.layernorm1 = layers.LayerNormalization(epsilon=1e-6)\n",
        "        self.layernorm2 = layers.LayerNormalization(epsilon=1e-6)\n",
        "        self.dropout0 = layers.Dropout(rate)\n",
        "        self.dropout1 = layers.Dropout(rate)\n",
        "        self.dropout2 = layers.Dropout(rate)\n",
        "    \n",
        "    def call(self, inputs, training):\n",
        "        attn_output = self.matt([inputs[0], inputs[0]])\n",
        "        attn_output = self.dropout0(attn_output, training=training)\n",
        "        out0 = self.layernorm0(inputs[0] + attn_output)\n",
        "        attn_output = self.att([out0, inputs[1]])\n",
        "        attn_output = self.dropout1(attn_output, training=training)\n",
        "        out1 = self.layernorm1(out0 + attn_output)\n",
        "        ffn_output = self.ffn(out1)\n",
        "        ffn_output = self.dropout2(ffn_output, training=training)\n",
        "        return self.layernorm2(out1 + ffn_output)"
      ],
      "execution_count": null,
      "outputs": []
    },
    {
      "cell_type": "code",
      "metadata": {
        "id": "253I_XSGbL11"
      },
      "source": [
        "class TokenAndPositionEmbedding(layers.Layer):\n",
        "    def __init__(self, maxlen, vocab_size, embed_dim):\n",
        "        super(TokenAndPositionEmbedding, self).__init__()\n",
        "        self.token_emb = layers.Embedding(input_dim=vocab_size, output_dim=embed_dim)\n",
        "        self.pos_emb = layers.Embedding(input_dim=maxlen, output_dim=embed_dim)\n",
        "\n",
        "    def call(self, x):\n",
        "        maxlen = tf.shape(x)[-1]\n",
        "        positions = tf.range(start=0, limit=maxlen, delta=1)\n",
        "        positions = self.pos_emb(positions)\n",
        "        x = self.token_emb(x)\n",
        "        return x + positions"
      ],
      "execution_count": null,
      "outputs": []
    },
    {
      "cell_type": "code",
      "metadata": {
        "id": "fX8bDdrTbLoH"
      },
      "source": [
        "voc_size = 15107\n",
        "embed_dim = 200  # Embedding size for each token\n",
        "num_heads = 4  # Number of attention heads\n",
        "ff_dim = 256  # Hidden layer size in feed forward network inside transformer\n",
        "enc_maxlen = 14\n",
        "dec_maxlen = 16\n",
        "\n",
        "enc_input = layers.Input(shape=(enc_maxlen,))\n",
        "dec_input = layers.Input(shape=(dec_maxlen,))\n",
        "\n",
        "enc_emb = TokenAndPositionEmbedding(enc_maxlen, voc_size, embed_dim)(enc_input)\n",
        "dec_emb = TokenAndPositionEmbedding(dec_maxlen, voc_size, embed_dim)(dec_input)\n",
        "\n",
        "# Для примера трансформер будет иметь 3 блока энкодеров и 3 блока декодеров\n",
        "x = TransformerEncoderBlock(embed_dim, num_heads, ff_dim)(enc_emb)\n",
        "x = TransformerEncoderBlock(embed_dim, num_heads, ff_dim)(x)\n",
        "enc_out = TransformerEncoderBlock(embed_dim, num_heads, ff_dim)(x)\n",
        "\n",
        "x = TransformerDecoderBlock(embed_dim, num_heads, ff_dim)([dec_emb, enc_out])\n",
        "x = TransformerDecoderBlock(embed_dim, num_heads, ff_dim)([x, enc_out])\n",
        "dec_out = TransformerDecoderBlock(embed_dim, num_heads, ff_dim)([x, enc_out])\n",
        "output = layers.Dense(voc_size, activation='softmax')(dec_out) \n",
        "\n",
        "# выделил в отдельные модели, хотя по-отдельности они не нужны.\n",
        "Encoder = keras.Model(enc_input, enc_out, name=\"Encoder\")\n",
        "Decoder = keras.Model([dec_input, enc_input], output, name=\"Decoder\")\n",
        "\n",
        "model = keras.Model([enc_input, dec_input], output, name=\"Transformer\")\n",
        "\n",
        "# Параметры оптимайзера взяты из оригинальной статьи.\n",
        "model.compile(optimizer=keras.optimizers.Adam(learning_rate=0.001, beta_1=0.9, beta_2=0.98, epsilon=1e-09), loss='categorical_crossentropy')"
      ],
      "execution_count": null,
      "outputs": []
    },
    {
      "cell_type": "code",
      "metadata": {
        "id": "ZzlFERpQc-eO",
        "outputId": "29f968ce-1ea5-4d41-feef-b8121eb055b0",
        "colab": {
          "base_uri": "https://localhost:8080/",
          "height": 578
        }
      },
      "source": [
        "model.summary()"
      ],
      "execution_count": null,
      "outputs": [
        {
          "output_type": "stream",
          "text": [
            "Model: \"Transformer\"\n",
            "__________________________________________________________________________________________________\n",
            "Layer (type)                    Output Shape         Param #     Connected to                     \n",
            "==================================================================================================\n",
            "input_8 (InputLayer)            [(None, 14)]         0                                            \n",
            "__________________________________________________________________________________________________\n",
            "token_and_position_embedding_6  (None, 14, 200)      3024200     input_8[0][0]                    \n",
            "__________________________________________________________________________________________________\n",
            "transformer_encoder_block_7 (Tr (None, 14, 200)      264456      token_and_position_embedding_6[0]\n",
            "__________________________________________________________________________________________________\n",
            "input_9 (InputLayer)            [(None, 16)]         0                                            \n",
            "__________________________________________________________________________________________________\n",
            "transformer_encoder_block_8 (Tr (None, 14, 200)      264456      transformer_encoder_block_7[0][0]\n",
            "__________________________________________________________________________________________________\n",
            "token_and_position_embedding_7  (None, 16, 200)      3024600     input_9[0][0]                    \n",
            "__________________________________________________________________________________________________\n",
            "transformer_encoder_block_9 (Tr (None, 14, 200)      264456      transformer_encoder_block_8[0][0]\n",
            "__________________________________________________________________________________________________\n",
            "transformer_decoder_block_6 (Tr (None, 16, 200)      425656      token_and_position_embedding_7[0]\n",
            "                                                                 transformer_encoder_block_9[0][0]\n",
            "__________________________________________________________________________________________________\n",
            "transformer_decoder_block_7 (Tr (None, 16, 200)      425656      transformer_decoder_block_6[0][0]\n",
            "                                                                 transformer_encoder_block_9[0][0]\n",
            "__________________________________________________________________________________________________\n",
            "transformer_decoder_block_8 (Tr (None, 16, 200)      425656      transformer_decoder_block_7[0][0]\n",
            "                                                                 transformer_encoder_block_9[0][0]\n",
            "__________________________________________________________________________________________________\n",
            "dense_158 (Dense)               (None, 16, 15107)    3036507     transformer_decoder_block_8[0][0]\n",
            "==================================================================================================\n",
            "Total params: 11,155,643\n",
            "Trainable params: 11,155,643\n",
            "Non-trainable params: 0\n",
            "__________________________________________________________________________________________________\n"
          ],
          "name": "stdout"
        }
      ]
    },
    {
      "cell_type": "code",
      "metadata": {
        "id": "I9ka_T62bLkW",
        "outputId": "f5c21c5c-cb1d-490d-eaaf-5534625bdf00",
        "colab": {
          "base_uri": "https://localhost:8080/",
          "height": 669
        }
      },
      "source": [
        "lh = LearnHistory()\n",
        "model.compile(optimizer=keras.optimizers.Adam(learning_rate=0.001, beta_1=0.9, beta_2=0.98, epsilon=1e-09), \n",
        "              loss='categorical_crossentropy')\n",
        "            #   metrics=['accuracy'])\n",
        "# Запустим обучение \n",
        "history = model.fit(sec_train, validation_data=(sec_val), epochs=10) \n",
        "lh.append(history)\n",
        "lh.plot(ylim=1)\n",
        "score = model.evaluate(sec_test)\n",
        "print(\"Loss on test: %.4f\" % score)"
      ],
      "execution_count": null,
      "outputs": [
        {
          "output_type": "stream",
          "text": [
            "Epoch 1/10\n",
            "200/200 [==============================] - 18s 88ms/step - loss: 2.5853 - val_loss: 1.1395\n",
            "Epoch 2/10\n",
            "200/200 [==============================] - 16s 81ms/step - loss: 0.7958 - val_loss: 0.6825\n",
            "Epoch 3/10\n",
            "200/200 [==============================] - 16s 80ms/step - loss: 0.4531 - val_loss: 0.5803\n",
            "Epoch 4/10\n",
            "200/200 [==============================] - 16s 80ms/step - loss: 0.2643 - val_loss: 0.5373\n",
            "Epoch 5/10\n",
            "200/200 [==============================] - 16s 79ms/step - loss: 0.1311 - val_loss: 0.5053\n",
            "Epoch 6/10\n",
            "200/200 [==============================] - 16s 79ms/step - loss: 0.0375 - val_loss: 0.5225\n",
            "Epoch 7/10\n",
            "200/200 [==============================] - 16s 79ms/step - loss: 0.0035 - val_loss: 0.5600\n",
            "Epoch 8/10\n",
            "200/200 [==============================] - 16s 79ms/step - loss: 3.7068e-04 - val_loss: 0.5524\n",
            "Epoch 9/10\n",
            "200/200 [==============================] - 16s 78ms/step - loss: 6.6628e-05 - val_loss: 0.5688\n",
            "Epoch 10/10\n",
            "200/200 [==============================] - 16s 79ms/step - loss: 1.1515e-05 - val_loss: 0.5746\n"
          ],
          "name": "stdout"
        },
        {
          "output_type": "display_data",
          "data": {
            "image/png": "[encoded data removed]",
            "text/plain": [
              "<Figure size 432x288 with 1 Axes>"
            ]
          },
          "metadata": {
            "tags": [],
            "needs_background": "light"
          }
        },
        {
          "output_type": "stream",
          "text": [
            "20/20 [==============================] - 1s 30ms/step - loss: 0.5613\n",
            "Loss on test: 0.5613\n"
          ],
          "name": "stdout"
        }
      ]
    },
    {
      "cell_type": "markdown",
      "metadata": {
        "id": "dHqMjPGM4CLx"
      },
      "source": [
        "Трансформер обучается на удивление быстро (уже с 5-й эпохи начинается переобучение), но не менее качественно."
      ]
    },
    {
      "cell_type": "markdown",
      "metadata": {
        "id": "UoUpAChRomEY"
      },
      "source": [
        "### Тестирование\n",
        "\n",
        "я сделал тестирование на примере \"игрушечного\" переводчика с русского на английский. (См. ниже)"
      ]
    },
    {
      "cell_type": "markdown",
      "metadata": {
        "id": "93JoWB3oPoII"
      },
      "source": [
        "## Chat bot\n",
        "\n",
        "Делаем чат-бот на базе трансформера (точнее его одного блока) "
      ]
    },
    {
      "cell_type": "code",
      "metadata": {
        "id": "0d_-KYaCPs0u",
        "outputId": "d8de17be-1728-4298-fb26-55ab7518a003",
        "colab": {
          "base_uri": "https://localhost:8080/",
          "height": 204
        }
      },
      "source": [
        "!wget https://xland.ru/uai/hw13/answer_database.txt"
      ],
      "execution_count": null,
      "outputs": [
        {
          "output_type": "stream",
          "text": [
            "--2020-10-22 12:58:00--  https://xland.ru/uai/hw13/answer_database.txt\n",
            "Resolving xland.ru (xland.ru)... 198.211.125.59\n",
            "Connecting to xland.ru (xland.ru)|198.211.125.59|:443... connected.\n",
            "HTTP request sent, awaiting response... 200 OK\n",
            "Length: 52972439 (51M) [text/plain]\n",
            "Saving to: ‘answer_database.txt’\n",
            "\n",
            "answer_database.txt 100%[===================>]  50.52M  60.2MB/s    in 0.8s    \n",
            "\n",
            "2020-10-22 12:58:01 (60.2 MB/s) - ‘answer_database.txt’ saved [52972439/52972439]\n",
            "\n"
          ],
          "name": "stdout"
        }
      ]
    },
    {
      "cell_type": "code",
      "metadata": {
        "id": "UJTvOQTbPs6P"
      },
      "source": [
        "# Словарь \"Запрос - список возможных ответов\"\n",
        "# dict = {'request': ['answ1', 'answ2', ]}\n",
        "db = {}"
      ],
      "execution_count": null,
      "outputs": []
    },
    {
      "cell_type": "code",
      "metadata": {
        "id": "r5vv2u0O_QMC"
      },
      "source": [
        "# Отделение знаков препинания пробелами\n",
        "def replaceSigns(s):\n",
        "    s = s.replace(',', ' , ')\n",
        "    s = s.replace('!', ' ! ')\n",
        "    return s.replace('?', ' ? ')"
      ],
      "execution_count": null,
      "outputs": []
    },
    {
      "cell_type": "code",
      "metadata": {
        "id": "tuq9mQQPPtEi",
        "outputId": "9096f321-eea0-4484-c8a5-9ccb20253691",
        "colab": {
          "base_uri": "https://localhost:8080/",
          "height": 85
        }
      },
      "source": [
        "%%time\n",
        "# Прочитаем файл БД в словарь\n",
        "f = open('answer_database.txt')\n",
        "count = 0\n",
        "for line in f.readlines():\n",
        "    # print (line, end=\"\")\n",
        "    try:\n",
        "        request, answer, rest = line.split('\\\\')\n",
        "    except ValueError: # For malformed lines\n",
        "        continue\n",
        "    request = replaceSigns(request).lower()\n",
        "    answer = replaceSigns(answer).lower()\n",
        "    if request in db:\n",
        "        db[request].append(answer)\n",
        "    else:\n",
        "        db[request] = [answer]\n",
        "    count += 1\n",
        "    # if count == 1000:\n",
        "    #     break\n",
        "print(f\"Число пар запрос-ответ: {count}\")\n",
        "print(\"Число ключей(запросов): {}\".format(len(db)))"
      ],
      "execution_count": null,
      "outputs": [
        {
          "output_type": "stream",
          "text": [
            "Число пар запрос-ответ: 549901\n",
            "Число ключей(запросов): 14568\n",
            "CPU times: user 1.71 s, sys: 122 ms, total: 1.83 s\n",
            "Wall time: 1.83 s\n"
          ],
          "name": "stdout"
        }
      ]
    },
    {
      "cell_type": "code",
      "metadata": {
        "id": "7_ZQwSSwAQy3",
        "outputId": "8cf7909a-3282-4367-a30f-9da5ca3d6c60",
        "colab": {
          "base_uri": "https://localhost:8080/",
          "height": 34
        }
      },
      "source": [
        "# Список ключей (запросов)\n",
        "lexicon = []\n",
        "for request in db.keys():\n",
        "    lexicon.append(request)\n",
        "    # for answer in db[request]:\n",
        "    #     lexicon.append(answer)\n",
        "print(len(lexicon))\n",
        "lex_size = len(lexicon)"
      ],
      "execution_count": null,
      "outputs": [
        {
          "output_type": "stream",
          "text": [
            "14568\n"
          ],
          "name": "stdout"
        }
      ]
    },
    {
      "cell_type": "code",
      "metadata": {
        "id": "KMcJVFjgPtKz",
        "outputId": "8524a63f-0b15-48a6-d4a6-d1abfe394442",
        "colab": {
          "base_uri": "https://localhost:8080/",
          "height": 71
        }
      },
      "source": [
        "# Токенизируем запросы\n",
        "# Добавили oov_token, убрали знаки препинания из фильтра\n",
        "tokenizer = Tokenizer(filters='\"#$%&()*+-./:;<=>@[\\\\]^_`{|}~\\t\\n', oov_token='unknown')\n",
        "tokenizer.fit_on_texts(lexicon) # загружаем в токенизатор список вопросов-ответов для сборки словаря частотности\n",
        "vocabularyItems = list(tokenizer.word_index.items()) # список с cодержимым словаря\n",
        "voc_size = len(vocabularyItems)+1 # размер словаря\n",
        "print( 'Фрагмент словаря : {}'.format(vocabularyItems[:50]))\n",
        "print( 'Размер словаря : {}'.format(voc_size))"
      ],
      "execution_count": null,
      "outputs": [
        {
          "output_type": "stream",
          "text": [
            "Фрагмент словаря : [('unknown', 1), ('?', 2), ('ты', 3), ('я', 4), (',', 5), ('не', 6), ('!', 7), ('в', 8), ('а', 9), ('что', 10), ('тебя', 11), ('мне', 12), ('как', 13), ('у', 14), ('на', 15), ('меня', 16), ('с', 17), ('тебе', 18), ('и', 19), ('это', 20), ('ну', 21), ('кто', 22), ('да', 23), ('за', 24), ('любишь', 25), ('нет', 26), ('так', 27), ('все', 28), ('го', 29), ('почему', 30), ('есть', 31), ('о', 32), ('же', 33), ('сколько', 34), ('по', 35), ('давай', 36), ('бот', 37), ('президент', 38), ('какой', 39), ('то', 40), ('хочешь', 41), ('вы', 42), ('где', 43), ('чем', 44), ('мы', 45), ('к', 46), ('сука', 47), ('из', 48), ('сам', 49), ('3', 50)]\n",
            "Размер словаря : 11871\n"
          ],
          "name": "stdout"
        }
      ]
    },
    {
      "cell_type": "code",
      "metadata": {
        "id": "nm28Kd4XPtCO",
        "outputId": "3e7034c8-ec97-45bc-e1fd-55e39f125077",
        "colab": {
          "base_uri": "https://localhost:8080/",
          "height": 85
        }
      },
      "source": [
        "tokenizedQuestions = tokenizer.texts_to_sequences(lexicon) # разбиваем текст вопросов на последовательности индексов\n",
        "maxlen = 14  # max([ len(x) for x in tokenizedQuestions]) # уточняем длину самого большого вопроса\n",
        "# Делаем последовательности одной длины, заполняя нулями более короткие вопросы\n",
        "input_seq = pad_sequences(tokenizedQuestions, maxlen=maxlen, padding='post')\n",
        "n = 71\n",
        "print('Пример оригинального вопроса на вход : {}'.format(lexicon[n])) \n",
        "print('Пример кодированного вопроса на вход : {}'.format(input_seq[n])) \n",
        "print('Размеры закодированного массива вопросов на вход : {}'.format(input_seq.shape)) \n",
        "print('Установленная длина вопросов на вход : {}'.format(maxlen)) "
      ],
      "execution_count": null,
      "outputs": [
        {
          "output_type": "stream",
          "text": [
            "Пример оригинального вопроса на вход : ты тупой канешно андроид\n",
            "Пример кодированного вопроса на вход : [   3  147 3964  285    0    0    0    0    0    0    0    0    0    0]\n",
            "Размеры закодированного массива вопросов на вход : (14568, 14)\n",
            "Установленная длина вопросов на вход : 14\n"
          ],
          "name": "stdout"
        }
      ]
    },
    {
      "cell_type": "code",
      "metadata": {
        "id": "HQkFTSnGG-B2",
        "outputId": "0ffd316f-8f47-43d8-bc69-fdd8e4bd3d1e",
        "colab": {
          "base_uri": "https://localhost:8080/",
          "height": 34
        }
      },
      "source": [
        "inds = [i for i in range(len(lexicon))]\n",
        "np.random.shuffle(inds)\n",
        "N = 12000 # Число образцов для обучения\n",
        "x_train = input_seq[inds[:N]]\n",
        "y_train = np.array(inds[:N])\n",
        "x_test = input_seq[inds[N:]]\n",
        "y_test = np.array(inds[N:])\n",
        "\n",
        "x_train.shape, y_test.shape"
      ],
      "execution_count": null,
      "outputs": [
        {
          "output_type": "execute_result",
          "data": {
            "text/plain": [
              "((12000, 14), (2568,))"
            ]
          },
          "metadata": {
            "tags": []
          },
          "execution_count": 10
        }
      ]
    },
    {
      "cell_type": "code",
      "metadata": {
        "id": "X0HrVJ_QTyR1"
      },
      "source": [
        "seq_train = MySequence(x_train, y_train, voc_len=lex_size, batch_size=50)\n",
        "seq_test = MySequence(x_test, y_test, voc_len=lex_size, batch_size=50)"
      ],
      "execution_count": null,
      "outputs": []
    },
    {
      "cell_type": "markdown",
      "metadata": {
        "id": "oXtdcmf562uN"
      },
      "source": [
        "### Простая полносвязная модель"
      ]
    },
    {
      "cell_type": "code",
      "metadata": {
        "id": "hIOWtzu8PtAD",
        "outputId": "34434b92-39c0-4dec-d38e-140b185a0ae9",
        "colab": {
          "base_uri": "https://localhost:8080/",
          "height": 323
        }
      },
      "source": [
        "voc_size = 11871 # len(list(tokenizer.word_index.items())) + 1 # список с cодержимым словаря\n",
        "lex_size = len(lexicon) # len(lexicon)\n",
        "embed_dim = 100  # Embedding size for each token\n",
        "maxlen = 14\n",
        "\n",
        "inp = Input(shape=(maxlen,))\n",
        "\n",
        "emb = Embedding(voc_size, embed_dim, mask_zero=True)(inp)\n",
        "x = Flatten()(emb)\n",
        "x = Dense(128, activation='relu')(x)\n",
        "out = Dense(lex_size, activation='softmax')(x)\n",
        "\n",
        "model_d = Model(inp, out)\n",
        "model_d.summary()"
      ],
      "execution_count": null,
      "outputs": [
        {
          "output_type": "stream",
          "text": [
            "Model: \"functional_1\"\n",
            "_________________________________________________________________\n",
            "Layer (type)                 Output Shape              Param #   \n",
            "=================================================================\n",
            "input_1 (InputLayer)         [(None, 14)]              0         \n",
            "_________________________________________________________________\n",
            "embedding (Embedding)        (None, 14, 100)           1187100   \n",
            "_________________________________________________________________\n",
            "flatten (Flatten)            (None, 1400)              0         \n",
            "_________________________________________________________________\n",
            "dense (Dense)                (None, 128)               179328    \n",
            "_________________________________________________________________\n",
            "dense_1 (Dense)              (None, 14568)             1879272   \n",
            "=================================================================\n",
            "Total params: 3,245,700\n",
            "Trainable params: 3,245,700\n",
            "Non-trainable params: 0\n",
            "_________________________________________________________________\n"
          ],
          "name": "stdout"
        }
      ]
    },
    {
      "cell_type": "code",
      "metadata": {
        "id": "KQiF72ndRH-L"
      },
      "source": [
        "lh = LearnHistory()\n"
      ],
      "execution_count": null,
      "outputs": []
    },
    {
      "cell_type": "code",
      "metadata": {
        "id": "zsT3MDE4NTss"
      },
      "source": [
        "model_d.compile(optimizer=Adam(learning_rate=0.001), loss='categorical_crossentropy', metrics=['accuracy'])"
      ],
      "execution_count": null,
      "outputs": []
    },
    {
      "cell_type": "code",
      "metadata": {
        "id": "yOMrwuxCNT47",
        "outputId": "b3cbf592-67c1-4e05-9ce9-82034c2edc3d",
        "colab": {
          "base_uri": "https://localhost:8080/",
          "height": 975
        }
      },
      "source": [
        "history = model_d.fit(seq_train, epochs=20, validation_data=seq_test)\n",
        "lh.append(history)\n",
        "lh.plot(ylim=1)"
      ],
      "execution_count": null,
      "outputs": [
        {
          "output_type": "stream",
          "text": [
            "Epoch 1/20\n",
            "240/240 [==============================] - 3s 12ms/step - loss: 9.6222 - accuracy: 0.0000e+00 - val_loss: 9.6893 - val_accuracy: 0.0000e+00\n",
            "Epoch 2/20\n",
            "240/240 [==============================] - 3s 12ms/step - loss: 9.5543 - accuracy: 3.3333e-04 - val_loss: 9.8834 - val_accuracy: 0.0000e+00\n",
            "Epoch 3/20\n",
            "240/240 [==============================] - 3s 12ms/step - loss: 9.0449 - accuracy: 0.0037 - val_loss: 10.8801 - val_accuracy: 0.0000e+00\n",
            "Epoch 4/20\n",
            "240/240 [==============================] - 3s 11ms/step - loss: 7.2503 - accuracy: 0.0500 - val_loss: 13.3597 - val_accuracy: 0.0000e+00\n",
            "Epoch 5/20\n",
            "240/240 [==============================] - 3s 12ms/step - loss: 5.0482 - accuracy: 0.2288 - val_loss: 17.0318 - val_accuracy: 0.0000e+00\n",
            "Epoch 6/20\n",
            "240/240 [==============================] - 3s 12ms/step - loss: 2.9868 - accuracy: 0.5013 - val_loss: 19.6525 - val_accuracy: 0.0000e+00\n",
            "Epoch 7/20\n",
            "240/240 [==============================] - 3s 12ms/step - loss: 1.5140 - accuracy: 0.7497 - val_loss: 21.6827 - val_accuracy: 0.0000e+00\n",
            "Epoch 8/20\n",
            "240/240 [==============================] - 3s 12ms/step - loss: 0.7392 - accuracy: 0.9004 - val_loss: 23.8254 - val_accuracy: 0.0000e+00\n",
            "Epoch 9/20\n",
            "240/240 [==============================] - 3s 11ms/step - loss: 0.3683 - accuracy: 0.9668 - val_loss: 24.7521 - val_accuracy: 0.0000e+00\n",
            "Epoch 10/20\n",
            "240/240 [==============================] - 3s 12ms/step - loss: 0.1854 - accuracy: 0.9851 - val_loss: 25.7928 - val_accuracy: 0.0000e+00\n",
            "Epoch 11/20\n",
            "240/240 [==============================] - 3s 12ms/step - loss: 0.0992 - accuracy: 0.9914 - val_loss: 26.4969 - val_accuracy: 0.0000e+00\n",
            "Epoch 12/20\n",
            "240/240 [==============================] - 3s 12ms/step - loss: 0.0653 - accuracy: 0.9926 - val_loss: 26.9641 - val_accuracy: 0.0000e+00\n",
            "Epoch 13/20\n",
            "240/240 [==============================] - 3s 12ms/step - loss: 0.0467 - accuracy: 0.9939 - val_loss: 26.7185 - val_accuracy: 0.0000e+00\n",
            "Epoch 14/20\n",
            "240/240 [==============================] - 3s 11ms/step - loss: 0.0400 - accuracy: 0.9937 - val_loss: 26.8238 - val_accuracy: 0.0000e+00\n",
            "Epoch 15/20\n",
            "240/240 [==============================] - 3s 12ms/step - loss: 0.0343 - accuracy: 0.9939 - val_loss: 27.2402 - val_accuracy: 0.0000e+00\n",
            "Epoch 16/20\n",
            "240/240 [==============================] - 3s 11ms/step - loss: 0.0302 - accuracy: 0.9945 - val_loss: 27.1452 - val_accuracy: 0.0000e+00\n",
            "Epoch 17/20\n",
            "240/240 [==============================] - 3s 13ms/step - loss: 0.0298 - accuracy: 0.9942 - val_loss: 27.3849 - val_accuracy: 0.0000e+00\n",
            "Epoch 18/20\n",
            "240/240 [==============================] - 3s 13ms/step - loss: 0.0266 - accuracy: 0.9945 - val_loss: 27.7476 - val_accuracy: 0.0000e+00\n",
            "Epoch 19/20\n",
            "240/240 [==============================] - 3s 13ms/step - loss: 0.0271 - accuracy: 0.9939 - val_loss: 27.2902 - val_accuracy: 0.0000e+00\n",
            "Epoch 20/20\n",
            "240/240 [==============================] - 3s 12ms/step - loss: 0.0264 - accuracy: 0.9942 - val_loss: 27.4354 - val_accuracy: 0.0000e+00\n"
          ],
          "name": "stdout"
        },
        {
          "output_type": "display_data",
          "data": {
            "image/png": "[encoded data removed]",
            "text/plain": [
              "<Figure size 432x288 with 1 Axes>"
            ]
          },
          "metadata": {
            "tags": [],
            "needs_background": "light"
          }
        }
      ]
    },
    {
      "cell_type": "markdown",
      "metadata": {
        "id": "QFOOAVgcvb0o"
      },
      "source": [
        "### Модель на базе трансформера"
      ]
    },
    {
      "cell_type": "code",
      "metadata": {
        "id": "5BBJ5r3Fvja_"
      },
      "source": [
        "num_heads = 2 # Number of attention heads\n",
        "ff_dim = 256  # Hidden layer size in feed forward network inside transformer\n",
        "enc_maxlen = 14\n",
        "\n",
        "enc_input = layers.Input(shape=(enc_maxlen,))\n",
        "emb = TokenAndPositionEmbedding(enc_maxlen, voc_size, embed_dim)(enc_input)\n",
        "x = Flatten()(emb)\n",
        "x = Dense(128, activation='relu')(x)\n",
        "output = layers.Dense(lex_size, activation='softmax')(x) \n",
        "\n",
        "model_t = keras.Model(enc_input, output, name=\"Transformer\")\n"
      ],
      "execution_count": null,
      "outputs": []
    },
    {
      "cell_type": "code",
      "metadata": {
        "id": "uAMWRfB4z0AQ"
      },
      "source": [
        "lh = LearnHistory()\n",
        "model_t.compile(optimizer=Adam(learning_rate=0.001), loss='categorical_crossentropy', metrics=['accuracy'])"
      ],
      "execution_count": null,
      "outputs": []
    },
    {
      "cell_type": "code",
      "metadata": {
        "id": "CBV6iiAw0DJ_",
        "outputId": "0d7a726f-58c2-495b-d072-47b17dcdd1a1",
        "colab": {
          "base_uri": "https://localhost:8080/",
          "height": 975
        }
      },
      "source": [
        "history = model_t.fit(seq_train, epochs=20, validation_data=seq_test)\n",
        "lh.append(history)\n",
        "lh.plot(ylim=1)"
      ],
      "execution_count": null,
      "outputs": [
        {
          "output_type": "stream",
          "text": [
            "Epoch 1/20\n",
            "240/240 [==============================] - 3s 12ms/step - loss: 9.6224 - accuracy: 0.0000e+00 - val_loss: 9.6893 - val_accuracy: 0.0000e+00\n",
            "Epoch 2/20\n",
            "240/240 [==============================] - 3s 12ms/step - loss: 9.5590 - accuracy: 8.3333e-05 - val_loss: 9.8717 - val_accuracy: 0.0000e+00\n",
            "Epoch 3/20\n",
            "240/240 [==============================] - 3s 12ms/step - loss: 9.5320 - accuracy: 1.6667e-04 - val_loss: 10.0448 - val_accuracy: 0.0000e+00\n",
            "Epoch 4/20\n",
            "240/240 [==============================] - 3s 12ms/step - loss: 9.3458 - accuracy: 1.6667e-04 - val_loss: 10.4435 - val_accuracy: 0.0000e+00\n",
            "Epoch 5/20\n",
            "240/240 [==============================] - 3s 12ms/step - loss: 8.6297 - accuracy: 0.0045 - val_loss: 11.4473 - val_accuracy: 0.0000e+00\n",
            "Epoch 6/20\n",
            "240/240 [==============================] - 3s 12ms/step - loss: 7.4009 - accuracy: 0.0353 - val_loss: 13.4819 - val_accuracy: 0.0000e+00\n",
            "Epoch 7/20\n",
            "240/240 [==============================] - 3s 12ms/step - loss: 5.4770 - accuracy: 0.1579 - val_loss: 16.0352 - val_accuracy: 0.0000e+00\n",
            "Epoch 8/20\n",
            "240/240 [==============================] - 3s 12ms/step - loss: 3.3756 - accuracy: 0.4059 - val_loss: 19.2578 - val_accuracy: 0.0000e+00\n",
            "Epoch 9/20\n",
            "240/240 [==============================] - 3s 12ms/step - loss: 1.8832 - accuracy: 0.6543 - val_loss: 21.1096 - val_accuracy: 0.0000e+00\n",
            "Epoch 10/20\n",
            "240/240 [==============================] - 3s 12ms/step - loss: 1.0633 - accuracy: 0.8048 - val_loss: 22.7553 - val_accuracy: 0.0000e+00\n",
            "Epoch 11/20\n",
            "240/240 [==============================] - 3s 12ms/step - loss: 0.6065 - accuracy: 0.9082 - val_loss: 23.0018 - val_accuracy: 0.0000e+00\n",
            "Epoch 12/20\n",
            "240/240 [==============================] - 3s 12ms/step - loss: 0.3566 - accuracy: 0.9640 - val_loss: 23.6091 - val_accuracy: 0.0000e+00\n",
            "Epoch 13/20\n",
            "240/240 [==============================] - 3s 12ms/step - loss: 0.2020 - accuracy: 0.9872 - val_loss: 23.8885 - val_accuracy: 0.0000e+00\n",
            "Epoch 14/20\n",
            "240/240 [==============================] - 3s 12ms/step - loss: 0.1222 - accuracy: 0.9908 - val_loss: 24.5661 - val_accuracy: 0.0000e+00\n",
            "Epoch 15/20\n",
            "240/240 [==============================] - 3s 12ms/step - loss: 0.0823 - accuracy: 0.9929 - val_loss: 24.9701 - val_accuracy: 0.0000e+00\n",
            "Epoch 16/20\n",
            "240/240 [==============================] - 3s 12ms/step - loss: 0.0649 - accuracy: 0.9916 - val_loss: 25.2837 - val_accuracy: 0.0000e+00\n",
            "Epoch 17/20\n",
            "240/240 [==============================] - 3s 12ms/step - loss: 0.0561 - accuracy: 0.9908 - val_loss: 25.3064 - val_accuracy: 0.0000e+00\n",
            "Epoch 18/20\n",
            "240/240 [==============================] - 3s 12ms/step - loss: 0.0467 - accuracy: 0.9918 - val_loss: 25.2636 - val_accuracy: 0.0000e+00\n",
            "Epoch 19/20\n",
            "240/240 [==============================] - 3s 12ms/step - loss: 0.0418 - accuracy: 0.9924 - val_loss: 25.6228 - val_accuracy: 0.0000e+00\n",
            "Epoch 20/20\n",
            "240/240 [==============================] - 3s 12ms/step - loss: 0.0368 - accuracy: 0.9927 - val_loss: 25.9848 - val_accuracy: 0.0000e+00\n"
          ],
          "name": "stdout"
        },
        {
          "output_type": "display_data",
          "data": {
            "image/png": "[encoded data removed]",
            "text/plain": [
              "<Figure size 432x288 with 1 Axes>"
            ]
          },
          "metadata": {
            "tags": [],
            "needs_background": "light"
          }
        }
      ]
    },
    {
      "cell_type": "markdown",
      "metadata": {
        "id": "zuptmox9319O"
      },
      "source": [
        "Замечание по обучению. В обоих случаях модели быстро обучаются (запоминают) тренировочные данные, но демонстрируют полную неспособность находить запросы, близкие к тестовым. "
      ]
    },
    {
      "cell_type": "markdown",
      "metadata": {
        "id": "6NVR1Z0KWlL0"
      },
      "source": [
        "### Тестирование чат-бота"
      ]
    },
    {
      "cell_type": "code",
      "metadata": {
        "id": "tVM9zGyaNUC4"
      },
      "source": [
        "myQuestions = (\n",
        "    'ты очень умен!',\n",
        "    'какой фильм посоветуешь?',\n",
        "    'ты понимаешь меня?',\n",
        "    'как дела?',\n",
        "    'кто твой создатель?',\n",
        "    'Как зовут трампа?',\n",
        "    'Какая завтра погода?'\n",
        ")\n",
        "\n",
        "def testModel(model, questions):\n",
        "    for question in questions:\n",
        "        question = replaceSigns(question).lower()\n",
        "        seq = strToTokens(question)\n",
        "        pred = model.predict(seq)\n",
        "        i = np.argmax(pred)\n",
        "        answers = db[lexicon[i]]\n",
        "        ans = random.choice(answers)\n",
        "        print(f\"Question: {question}\")\n",
        "        print(\"Answer: %s\" % ans) \n"
      ],
      "execution_count": null,
      "outputs": []
    },
    {
      "cell_type": "markdown",
      "metadata": {
        "id": "KCnQqWdA3cWe"
      },
      "source": [
        "Простая полносвязная модель"
      ]
    },
    {
      "cell_type": "code",
      "metadata": {
        "id": "qmclqNf314wy",
        "outputId": "83e3563c-a452-436a-f31f-ab59058e37b9",
        "colab": {
          "base_uri": "https://localhost:8080/",
          "height": 255
        }
      },
      "source": [
        "testModel(model_d, myQuestions)"
      ],
      "execution_count": null,
      "outputs": [
        {
          "output_type": "stream",
          "text": [
            "Question: ты очень умен ! \n",
            "Answer: обалдеть ! \n",
            "Question: какой фильм посоветуешь ? \n",
            "Answer: поговорить о фильмах всегда интересно. ты комедии любишь ? \n",
            "Question: ты понимаешь меня ? \n",
            "Answer: давай сменим тему.\n",
            "Question: как дела ? \n",
            "Answer: у ботов не бывает плохого настроения.\n",
            "Question: кто твой создатель ? \n",
            "Answer: тот ,  кто ждет от тебя подвигов.\n",
            "Question: как зовут трампа ? \n",
            "Answer: .построю лабиринт ,  в котором смогу затеряться с тем ,  кто захочет меня найти...\n",
            "Question: какая завтра погода ? \n",
            "Answer: сейчас-немедленно в эту минуту или в этом тысячелетии ? \n"
          ],
          "name": "stdout"
        }
      ]
    },
    {
      "cell_type": "markdown",
      "metadata": {
        "id": "pbPXd53v3hVu"
      },
      "source": [
        "Та же, но с блоком энкодера трансформера"
      ]
    },
    {
      "cell_type": "code",
      "metadata": {
        "id": "SOVM_BLW2ABl",
        "outputId": "6f6b0f94-7879-455f-e447-594b56f1d78c",
        "colab": {
          "base_uri": "https://localhost:8080/",
          "height": 255
        }
      },
      "source": [
        "testModel(model_t, myQuestions)"
      ],
      "execution_count": null,
      "outputs": [
        {
          "output_type": "stream",
          "text": [
            "Question: ты очень умен ! \n",
            "Answer: я знаю что это значит. но не скажу.\n",
            "Question: какой фильм посоветуешь ? \n",
            "Answer: гари потер\n",
            "Question: ты понимаешь меня ? \n",
            "Answer: голубые ,  как яйца дрозда.\n",
            "Question: как дела ? \n",
            "Answer: я еще не умею говорить об этом.\n",
            "Question: кто твой создатель ? \n",
            "Answer: а ты разве не знаешь ? \n",
            "Question: как зовут трампа ? \n",
            "Answer: это-то так ,  но если глобально...\n",
            "Question: какая завтра погода ? \n",
            "Answer: давай сыграем в игру: я притворюсь ,  будто знаю ответ на твой вопрос ,  а ты притворишься ,  будто тебя этот ответ устраивает.\n"
          ],
          "name": "stdout"
        }
      ]
    },
    {
      "cell_type": "markdown",
      "metadata": {
        "id": "MeCc4ojKsmAJ"
      },
      "source": [
        "### ВЫВОДЫ\n",
        "\n",
        "Создание чат-бота - это не задача seq2seq, где подразумевается, что выходная последовательность должна как-то достаточно однозначно вытекать из входной (например как при переводе с одного языка на другой)\n",
        "\n",
        "Создание чат-бота - скорее задача классификации. Особенность в том, что классов очень много (тысячи). Надо найти в базе запрос, максимально похожий (а лучше совпадающий) с введенным запросом и рандомно выдать один из заготовленных ответов."
      ]
    },
    {
      "cell_type": "markdown",
      "metadata": {
        "id": "HodzU1bE7ejF"
      },
      "source": [
        "## Перевод с русского на английский\n",
        "\n",
        "Попытался сделать на базе своего трансформера перевод с русского на английский ограниченного набора предложений, построенных по схеме: подлежащее - сказуемое - прилагательное - дополнение,\n",
        "например:\n",
        "\n",
        "\"Я вижу белый потолок\"\n",
        "\n",
        "Кроме того, слова ограничены словарем ниже."
      ]
    },
    {
      "cell_type": "code",
      "metadata": {
        "id": "xU_E3dwa7oAG"
      },
      "source": [
        "# Это наш словарь. \n",
        "pronouns = {\n",
        "    'я': 'I',\n",
        "    'мы': 'we',\n",
        "    'вы': 'you',\n",
        "    'ты': 'you',\n",
        "    'он': 'he',\n",
        "    'она': 'she',\n",
        "    'они': 'they',\n",
        "}\n",
        "pronouns_verbs = {\n",
        "    'я': {'видеть': 'вижу', 'слышать': 'слышу', 'рисовать': 'рисую', 'делать': 'делаю'},\n",
        "    'мы': {'видеть': 'видим', 'слышать': 'слышим', 'рисовать': 'рисуем', 'делать': 'делаем'},\n",
        "    'вы': {'видеть': 'видите', 'слышать': 'слышите', 'рисовать': 'рисуете', 'делать': 'делаете'},\n",
        "    'ты': {'видеть': 'видишь', 'слышать': 'слышишь', 'рисовать': 'рисуешь', 'делать': 'делаешь'},\n",
        "    'он': {'видеть': 'видит', 'слышать': 'слышит', 'рисовать': 'рисует', 'делать': 'делает'},\n",
        "    'она': {'видеть': 'видит', 'слышать': 'слышит', 'рисовать': 'рисует', 'делать': 'делает'},\n",
        "    'они': {'видеть': 'видят', 'слышать': 'слышат', 'рисовать': 'рисуют', 'делать': 'делают'},\n",
        "}\n",
        "verbs = {\n",
        "    'видеть': 'see',\n",
        "    'слышать': 'hear',\n",
        "    'рисовать': 'paint',\n",
        "    'делать': 'make',\n",
        "}\n",
        "adjectives = {\n",
        "    'белый': 'white',\n",
        "    'зеленый': 'green',\n",
        "    'красивый': 'nice',\n",
        "    'красный': 'red',\n",
        "    'легкий': 'light',\n",
        "    'синий': 'blue',\n",
        "    'оранжевый': 'orange',\n",
        "    'розовый': 'pink',\n",
        "    'желтый': 'yellow',\n",
        "    'гигантский': 'giant',\n",
        "    'маленький': 'small',\n",
        "}\n",
        "nouns = {\n",
        "    'дом': 'house',\n",
        "    'потолок': 'ceil',\n",
        "    'закат': 'sunset',\n",
        "    'автомобиль': 'car',\n",
        "    'корабль': 'ship',\n",
        "    'холм': 'hill',\n",
        "    'рисунок': 'drawing',\n",
        "    'набросок': 'draft',\n",
        "    'компьютер': 'computer',\n",
        "    'пол': 'flour',\n",
        "    'стул': 'chair',\n",
        "    'стол': 'table',\n",
        "}"
      ],
      "execution_count": null,
      "outputs": []
    },
    {
      "cell_type": "code",
      "metadata": {
        "id": "OFzwqY517oNW"
      },
      "source": [
        "# Сделаем все возможные фразы из нашего словаря\n",
        "ru_sentences, en_sentences = [], []\n",
        "for p in pronouns.keys():\n",
        "    for v in verbs.keys():\n",
        "        for a in adjectives.keys():\n",
        "            for n in nouns.keys():\n",
        "                ru_sentence = p + ' ' + pronouns_verbs[p][v] + ' ' + a + ' ' + n\n",
        "                ru_sentences.append(ru_sentence)\n",
        "                suf = 's' if p in ('он', 'она') else ''\n",
        "                en_sentence = pronouns[p] + ' ' + verbs[v] + suf + ' a ' + adjectives[a] + ' ' + nouns[n]\n",
        "                en_sentences.append(en_sentence)\n"
      ],
      "execution_count": null,
      "outputs": []
    },
    {
      "cell_type": "code",
      "metadata": {
        "id": "s_WSk-L87oX8",
        "outputId": "dde72aea-efaf-457d-85f3-583987f885bc",
        "colab": {
          "base_uri": "https://localhost:8080/",
          "height": 272
        }
      },
      "source": [
        "# Случайные примеры\n",
        "for i in np.random.choice(3696, 15):\n",
        "    print(ru_sentences[i], ' => ', en_sentences[i])"
      ],
      "execution_count": null,
      "outputs": [
        {
          "output_type": "stream",
          "text": [
            "я вижу синий рисунок  =>  I see a blue drawing\n",
            "я вижу красный компьютер  =>  I see a red computer\n",
            "он делает красный пол  =>  he makes a red flour\n",
            "он делает синий автомобиль  =>  he makes a blue car\n",
            "ты рисуешь белый корабль  =>  you paint a white ship\n",
            "я вижу легкий потолок  =>  I see a light ceil\n",
            "мы рисуем легкий потолок  =>  we paint a light ceil\n",
            "я делаю белый стол  =>  I make a white table\n",
            "вы рисуете синий компьютер  =>  you paint a blue computer\n",
            "я рисую белый стол  =>  I paint a white table\n",
            "он рисует синий автомобиль  =>  he paints a blue car\n",
            "она видит желтый автомобиль  =>  she sees a yellow car\n",
            "она делает легкий автомобиль  =>  she makes a light car\n",
            "он делает оранжевый автомобиль  =>  he makes a orange car\n",
            "мы рисуем маленький рисунок  =>  we paint a small drawing\n"
          ],
          "name": "stdout"
        }
      ]
    },
    {
      "cell_type": "code",
      "metadata": {
        "id": "xKn9aDVq7ogt",
        "outputId": "117c02dd-382b-479c-c098-2c1af187ade5",
        "colab": {
          "base_uri": "https://localhost:8080/",
          "height": 34
        }
      },
      "source": [
        "# Предложений всего:\n",
        "len(en_sentences)"
      ],
      "execution_count": null,
      "outputs": [
        {
          "output_type": "execute_result",
          "data": {
            "text/plain": [
              "3696"
            ]
          },
          "metadata": {
            "tags": []
          },
          "execution_count": 42
        }
      ]
    },
    {
      "cell_type": "code",
      "metadata": {
        "id": "_FgX5hi6xJlB"
      },
      "source": [
        "# Обернем английские фразы в тэги <start> & <end>\n",
        "tagged_en_sentences = []\n",
        "for sentence in en_sentences:\n",
        "    tagged_en_sentences.append('<start> ' + sentence + ' <end>')"
      ],
      "execution_count": null,
      "outputs": []
    },
    {
      "cell_type": "code",
      "metadata": {
        "id": "NLthAcaI7oUj",
        "outputId": "ed37b12d-3693-4cb6-cfa2-4edbeb6d7c19",
        "colab": {
          "base_uri": "https://localhost:8080/",
          "height": 71
        }
      },
      "source": [
        "# Отдельно токенизируем русские и английские слова\n",
        "ru_tok = Tokenizer(oov_token='unknown')\n",
        "ru_tok.fit_on_texts(ru_sentences)\n",
        "print(ru_tok.word_index)\n",
        "\n",
        "en_tok = Tokenizer(filters='\"#$%&()*+-/:;=@[\\\\]^_`{|}~\\t\\n', oov_token='unknown') # убрали < & >\n",
        "en_tok.fit_on_texts(tagged_en_sentences)\n",
        "print(en_tok.word_index)"
      ],
      "execution_count": null,
      "outputs": [
        {
          "output_type": "stream",
          "text": [
            "{'unknown': 1, 'я': 2, 'мы': 3, 'вы': 4, 'ты': 5, 'он': 6, 'она': 7, 'они': 8, 'белый': 9, 'зеленый': 10, 'красивый': 11, 'красный': 12, 'легкий': 13, 'синий': 14, 'оранжевый': 15, 'розовый': 16, 'желтый': 17, 'гигантский': 18, 'маленький': 19, 'дом': 20, 'потолок': 21, 'закат': 22, 'автомобиль': 23, 'корабль': 24, 'холм': 25, 'рисунок': 26, 'набросок': 27, 'компьютер': 28, 'пол': 29, 'стул': 30, 'стол': 31, 'видит': 32, 'слышит': 33, 'рисует': 34, 'делает': 35, 'вижу': 36, 'слышу': 37, 'рисую': 38, 'делаю': 39, 'видим': 40, 'слышим': 41, 'рисуем': 42, 'делаем': 43, 'видите': 44, 'слышите': 45, 'рисуете': 46, 'делаете': 47, 'видишь': 48, 'слышишь': 49, 'рисуешь': 50, 'делаешь': 51, 'видят': 52, 'слышат': 53, 'рисуют': 54, 'делают': 55}\n",
            "{'unknown': 1, '<start>': 2, 'a': 3, '<end>': 4, 'you': 5, 'see': 6, 'hear': 7, 'paint': 8, 'make': 9, 'i': 10, 'we': 11, 'he': 12, 'she': 13, 'they': 14, 'white': 15, 'green': 16, 'nice': 17, 'red': 18, 'light': 19, 'blue': 20, 'orange': 21, 'pink': 22, 'yellow': 23, 'giant': 24, 'small': 25, 'house': 26, 'ceil': 27, 'sunset': 28, 'car': 29, 'ship': 30, 'hill': 31, 'drawing': 32, 'draft': 33, 'computer': 34, 'flour': 35, 'chair': 36, 'table': 37, 'sees': 38, 'hears': 39, 'paints': 40, 'makes': 41}\n"
          ],
          "name": "stdout"
        }
      ]
    },
    {
      "cell_type": "code",
      "metadata": {
        "id": "a3tnQGbi7oG2",
        "outputId": "dea52d70-4d16-47b1-b0f4-194586b518f5",
        "colab": {
          "base_uri": "https://localhost:8080/",
          "height": 34
        }
      },
      "source": [
        "maxlen = 8 # максимальная длина фразы\n",
        "ru_seqs = []\n",
        "for s in ru_sentences:\n",
        "    words = s.lower().split()\n",
        "    tokens = ru_tok.texts_to_sequences([words])\n",
        "    seq = pad_sequences(tokens, maxlen=maxlen , padding='post')\n",
        "    ru_seqs.append(seq.reshape((maxlen,)))\n",
        "X = np.array(ru_seqs)    \n",
        "\n",
        "en_seqs = []\n",
        "for s in tagged_en_sentences:\n",
        "    words = s.lower().split()\n",
        "    tokens = en_tok.texts_to_sequences([words])\n",
        "    seq = pad_sequences(tokens, maxlen=maxlen , padding='post')\n",
        "    en_seqs.append(seq.reshape((maxlen,)))\n",
        "Y = np.array(en_seqs)    \n",
        "\n",
        "ru_voc_size = len(ru_tok.word_index) + 1\n",
        "en_voc_size = len(en_tok.word_index) + 1\n",
        "print(ru_voc_size, en_voc_size)"
      ],
      "execution_count": null,
      "outputs": [
        {
          "output_type": "stream",
          "text": [
            "56 42\n"
          ],
          "name": "stdout"
        }
      ]
    },
    {
      "cell_type": "code",
      "metadata": {
        "id": "R3qZXlcczX_z"
      },
      "source": [
        "# Сделаем массив английских фраз в формате OHE без тэга <start>\n",
        "Z = np.zeros((Y.shape[0], maxlen, en_voc_size), dtype=np.int32)\n",
        "for n in range(Y.shape[0]):\n",
        "    for j in range(maxlen - 1):\n",
        "        Z[n, j, Y[n, j + 1]] = 1 # OHE, убираем <start> из первой позиции."
      ],
      "execution_count": null,
      "outputs": []
    },
    {
      "cell_type": "code",
      "metadata": {
        "id": "6wd_RwtdNhy8"
      },
      "source": [
        "# Делим наши предложения на обучающую и тестовую выборки\n",
        "N = 3000 # число образцов для обучения\n",
        "inds = np.array([i for i in range(X.shape[0])])\n",
        "np.random.shuffle(inds)\n",
        "x_train = X[inds[:N]]\n",
        "y_train = Y[inds[:N]]\n",
        "z_train = Z[inds[:N]]\n",
        "x_test = X[inds[N:]]\n",
        "y_test = Y[inds[N:]]\n",
        "z_test = Z[inds[N:]]  # to_categorical(y_test, en_voc_size)"
      ],
      "execution_count": null,
      "outputs": []
    },
    {
      "cell_type": "code",
      "metadata": {
        "id": "YSNyPj3eNho-",
        "outputId": "429d713e-e445-403e-932a-e19d1662b926",
        "colab": {
          "base_uri": "https://localhost:8080/",
          "height": 34
        }
      },
      "source": [
        "z_test.shape"
      ],
      "execution_count": null,
      "outputs": [
        {
          "output_type": "execute_result",
          "data": {
            "text/plain": [
              "(696, 8, 42)"
            ]
          },
          "metadata": {
            "tags": []
          },
          "execution_count": 21
        }
      ]
    },
    {
      "cell_type": "code",
      "metadata": {
        "id": "DaqgMw_8NhlK"
      },
      "source": [
        "# Наша модель-трансформер\n",
        "embed_dim = 64  # Embedding size for each token\n",
        "num_heads = 4  # Number of attention heads\n",
        "ff_dim = 128  # Hidden layer size in feed forward network inside transformer\n",
        "enc_maxlen = 8\n",
        "dec_maxlen = 8\n",
        "\n",
        "enc_input = Input(shape=(None,))\n",
        "dec_input = Input(shape=(None,))\n",
        "\n",
        "enc_emb = TokenAndPositionEmbedding(enc_maxlen, ru_voc_size, embed_dim)(enc_input)\n",
        "dec_emb = TokenAndPositionEmbedding(dec_maxlen, en_voc_size, embed_dim)(dec_input)\n",
        "\n",
        "x = TransformerEncoderBlock(embed_dim, num_heads, ff_dim)(enc_emb)\n",
        "x = TransformerEncoderBlock(embed_dim, num_heads, ff_dim)(x)\n",
        "enc_out = TransformerEncoderBlock(embed_dim, num_heads, ff_dim)(x)\n",
        "\n",
        "x = TransformerDecoderBlock(embed_dim, num_heads, ff_dim)([dec_emb, enc_out])\n",
        "x = TransformerDecoderBlock(embed_dim, num_heads, ff_dim)([x, enc_out])\n",
        "dec_out = TransformerDecoderBlock(embed_dim, num_heads, ff_dim)([x, enc_out])\n",
        "output = layers.Dense(en_voc_size, activation='softmax')(dec_out) \n",
        "\n",
        "Encoder = keras.Model(enc_input, enc_out, name=\"Encoder\")\n",
        "Decoder = keras.Model([dec_input, enc_input], output, name=\"Decoder\")\n",
        "\n",
        "model = keras.Model([enc_input, dec_input], output, name=\"Transformer\")\n",
        "lh = LearnHistory()\n"
      ],
      "execution_count": null,
      "outputs": []
    },
    {
      "cell_type": "code",
      "metadata": {
        "id": "y_FQP5vONhhc",
        "outputId": "03353abf-5bc1-44d1-d335-3022c32c7447",
        "colab": {
          "base_uri": "https://localhost:8080/",
          "height": 578
        }
      },
      "source": [
        "model.summary()"
      ],
      "execution_count": null,
      "outputs": [
        {
          "output_type": "stream",
          "text": [
            "Model: \"Transformer\"\n",
            "__________________________________________________________________________________________________\n",
            "Layer (type)                    Output Shape         Param #     Connected to                     \n",
            "==================================================================================================\n",
            "input_3 (InputLayer)            [(None, None)]       0                                            \n",
            "__________________________________________________________________________________________________\n",
            "token_and_position_embedding_2  (None, None, 64)     4096        input_3[0][0]                    \n",
            "__________________________________________________________________________________________________\n",
            "transformer_encoder_block_3 (Tr (None, None, 64)     33472       token_and_position_embedding_2[0]\n",
            "__________________________________________________________________________________________________\n",
            "input_4 (InputLayer)            [(None, None)]       0                                            \n",
            "__________________________________________________________________________________________________\n",
            "transformer_encoder_block_4 (Tr (None, None, 64)     33472       transformer_encoder_block_3[0][0]\n",
            "__________________________________________________________________________________________________\n",
            "token_and_position_embedding_3  (None, None, 64)     3200        input_4[0][0]                    \n",
            "__________________________________________________________________________________________________\n",
            "transformer_encoder_block_5 (Tr (None, None, 64)     33472       transformer_encoder_block_4[0][0]\n",
            "__________________________________________________________________________________________________\n",
            "transformer_decoder_block_3 (Tr (None, None, 64)     50240       token_and_position_embedding_3[0]\n",
            "                                                                 transformer_encoder_block_5[0][0]\n",
            "__________________________________________________________________________________________________\n",
            "transformer_decoder_block_4 (Tr (None, None, 64)     50240       transformer_decoder_block_3[0][0]\n",
            "                                                                 transformer_encoder_block_5[0][0]\n",
            "__________________________________________________________________________________________________\n",
            "transformer_decoder_block_5 (Tr (None, None, 64)     50240       transformer_decoder_block_4[0][0]\n",
            "                                                                 transformer_encoder_block_5[0][0]\n",
            "__________________________________________________________________________________________________\n",
            "dense_97 (Dense)                (None, None, 42)     2730        transformer_decoder_block_5[0][0]\n",
            "==================================================================================================\n",
            "Total params: 261,162\n",
            "Trainable params: 261,162\n",
            "Non-trainable params: 0\n",
            "__________________________________________________________________________________________________\n"
          ],
          "name": "stdout"
        }
      ]
    },
    {
      "cell_type": "code",
      "metadata": {
        "id": "d_RrxMJ8NhdG",
        "outputId": "17d2ba49-83a2-481e-ebc5-e5a0cb11394f",
        "colab": {
          "base_uri": "https://localhost:8080/",
          "height": 669
        }
      },
      "source": [
        "\n",
        "model.compile(optimizer=keras.optimizers.Adam(learning_rate=0.0001, beta_1=0.9, beta_2=0.98, epsilon=1e-09), \n",
        "              loss='categorical_crossentropy',\n",
        "              metrics=['accuracy'])\n",
        "# Запустим обучение \n",
        "history = model.fit([x_train, y_train], z_train, batch_size=20, validation_data=([x_test, y_test], z_test), epochs=10) \n",
        "lh.append(history)\n",
        "lh.plot(ylim=1)\n",
        "score = model.evaluate([x_test, y_test], z_test)\n",
        "print(\"Loss on test: %.4f\" % score[0])"
      ],
      "execution_count": null,
      "outputs": [
        {
          "output_type": "stream",
          "text": [
            "Epoch 1/10\n",
            "150/150 [==============================] - 4s 28ms/step - loss: 1.9717 - accuracy: 0.4207 - val_loss: 0.9008 - val_accuracy: 0.6638\n",
            "Epoch 2/10\n",
            "150/150 [==============================] - 3s 17ms/step - loss: 0.7678 - accuracy: 0.7270 - val_loss: 0.3032 - val_accuracy: 0.8703\n",
            "Epoch 3/10\n",
            "150/150 [==============================] - 3s 17ms/step - loss: 0.3017 - accuracy: 0.8612 - val_loss: 0.0680 - val_accuracy: 0.8750\n",
            "Epoch 4/10\n",
            "150/150 [==============================] - 3s 17ms/step - loss: 0.0972 - accuracy: 0.8748 - val_loss: 0.0196 - val_accuracy: 0.8750\n",
            "Epoch 5/10\n",
            "150/150 [==============================] - 3s 17ms/step - loss: 0.0349 - accuracy: 0.8751 - val_loss: 0.0072 - val_accuracy: 0.8750\n",
            "Epoch 6/10\n",
            "150/150 [==============================] - 3s 17ms/step - loss: 0.0139 - accuracy: 0.8750 - val_loss: 0.0030 - val_accuracy: 0.8750\n",
            "Epoch 7/10\n",
            "150/150 [==============================] - 3s 17ms/step - loss: 0.0059 - accuracy: 0.8750 - val_loss: 0.0013 - val_accuracy: 0.8750\n",
            "Epoch 8/10\n",
            "150/150 [==============================] - 3s 17ms/step - loss: 0.0026 - accuracy: 0.8750 - val_loss: 6.2141e-04 - val_accuracy: 0.8750\n",
            "Epoch 9/10\n",
            "150/150 [==============================] - 3s 17ms/step - loss: 0.0012 - accuracy: 0.8750 - val_loss: 2.9338e-04 - val_accuracy: 0.8750\n",
            "Epoch 10/10\n",
            "150/150 [==============================] - 3s 17ms/step - loss: 5.6552e-04 - accuracy: 0.8750 - val_loss: 1.4168e-04 - val_accuracy: 0.8750\n"
          ],
          "name": "stdout"
        },
        {
          "output_type": "display_data",
          "data": {
            "image/png": "[encoded data removed]",
            "text/plain": [
              "<Figure size 432x288 with 1 Axes>"
            ]
          },
          "metadata": {
            "tags": [],
            "needs_background": "light"
          }
        },
        {
          "output_type": "stream",
          "text": [
            "22/22 [==============================] - 0s 14ms/step - loss: 1.4168e-04 - accuracy: 0.8750\n",
            "Loss on test: 0.0001\n"
          ],
          "name": "stdout"
        }
      ]
    },
    {
      "cell_type": "markdown",
      "metadata": {
        "id": "BPnq25GIUXGk"
      },
      "source": [
        "### Тестируем перевод"
      ]
    },
    {
      "cell_type": "code",
      "metadata": {
        "id": "AT6uURbzKnx6",
        "outputId": "757db281-00b6-482c-ddd5-2b5dd88becf2",
        "colab": {
          "base_uri": "https://localhost:8080/",
          "height": 357
        }
      },
      "source": [
        "# Попробуем получить переводы первых n фраз тестовой выборки x_test[n]:\n",
        "\n",
        "for n in range(20):\n",
        "    dec_inp = np.zeros((1, 8), dtype=np.int32)\n",
        "    dec_inp[0, 0] = 2 # 'start' token\n",
        "    tr = '' # translation\n",
        "    for i in range(8): # Получаем каждое следующее слово перевода и добавляем его на вход декодера\n",
        "        pred = model.predict([x_test[n:n+1], dec_inp[:,:i+1]])\n",
        "        # print('i=', i, pred.shape) # debug\n",
        "        ind = np.argmax(pred[0, i]) # получаем токен английского слова\n",
        "        if ind == 0 or ind == 4: # 4 = <end>\n",
        "            break\n",
        "        word = en_tok.index_word[ind] # получаем само слово\n",
        "        tr += (word + ' ')\n",
        "        # print(ind, word) # debug\n",
        "        dec_inp[0, i+1] = ind # добавляем токен полученного слова во входящую последовательность\n",
        "    for i in range(4):\n",
        "        print(ru_tok.index_word[x_test[n, i]], end=' ') # выводим русскую фразу по словам\n",
        "    print(' =>', tr) # и английский перевод\n",
        "\n"
      ],
      "execution_count": null,
      "outputs": [
        {
          "output_type": "stream",
          "text": [
            "они видят маленький пол  => they make a small flour \n",
            "я слышу зеленый дом  => make make a green house \n",
            "она слышит красивый корабль  => she hears a nice ship \n",
            "они делают оранжевый стол  => they make a orange table \n",
            "она видит легкий закат  => make make a light sunset \n",
            "вы делаете красивый холм  => make make a nice hill \n",
            "он слышит зеленый набросок  => he hears a green draft \n",
            "мы слышим гигантский корабль  => we make a giant ship \n",
            "я слышу белый дом  => make make a white house \n",
            "она рисует красный автомобиль  => she hears a red car \n",
            "вы делаете маленький компьютер  => make make a small computer \n",
            "он делает красивый закат  => he sees a nice computer \n",
            "мы видим оранжевый компьютер  => make make a orange computer \n",
            "я вижу маленький компьютер  => make make a small computer \n",
            "они делают красный компьютер  => they make a red computer \n",
            "мы видим гигантский корабль  => we make a giant ship \n",
            "он рисует желтый стол  => he sees a yellow table \n",
            "она делает красный дом  => she make a red house \n",
            "они видят маленький потолок  => they make a small ceil \n",
            "ты слышишь оранжевый потолок  => make make a orange ceil \n"
          ],
          "name": "stdout"
        }
      ]
    },
    {
      "cell_type": "markdown",
      "metadata": {
        "id": "ufanZNujTPy4"
      },
      "source": [
        "Некоторые фразы переведены правильно, но много ошибок связано с заменой подлежащего и/или сказуемого на слово \"make\". Причем это ошибочное слово зависит от случайного разбиения на тестовую выборку - при другом разбиении будет другое слово вместо make.\n",
        "\n",
        "Возможно я где-то допустил ошибку, но видно, что трансформер в целом работает."
      ]
    },
    {
      "cell_type": "markdown",
      "metadata": {
        "id": "YL1KHiBabFk7"
      },
      "source": [
        "## Русифицированный GPT-3\n",
        "\n",
        "Появилась весть что [Сбер выложил русскоязычную модель GPT-3 Large с 760 миллионами параметров в открытый доступ](https://habr.com/ru/company/sberbank/blog/524522/)\n",
        "\n",
        "Я попытался ее загрузить самую мелкую вот [отсюда:](https://huggingface.co/sberbank-ai/rugpt2large)\n"
      ]
    },
    {
      "cell_type": "code",
      "metadata": {
        "id": "sNdyrvGOiBEe",
        "outputId": "8f11849e-6c11-4417-bd2d-9f402be73d94",
        "colab": {
          "base_uri": "https://localhost:8080/",
          "height": 629
        }
      },
      "source": [
        "!pip install transformers"
      ],
      "execution_count": null,
      "outputs": [
        {
          "output_type": "stream",
          "text": [
            "Collecting transformers\n",
            "\u001b[?25l  Downloading https://files.pythonhosted.org/packages/2c/4e/4f1ede0fd7a36278844a277f8d53c21f88f37f3754abf76a5d6224f76d4a/transformers-3.4.0-py3-none-any.whl (1.3MB)\n",
            "\u001b[K     |████████████████████████████████| 1.3MB 3.4MB/s \n",
            "\u001b[?25hRequirement already satisfied: packaging in /usr/local/lib/python3.6/dist-packages (from transformers) (20.4)\n",
            "Requirement already satisfied: numpy in /usr/local/lib/python3.6/dist-packages (from transformers) (1.18.5)\n",
            "Requirement already satisfied: regex!=2019.12.17 in /usr/local/lib/python3.6/dist-packages (from transformers) (2019.12.20)\n",
            "Requirement already satisfied: dataclasses; python_version < \"3.7\" in /usr/local/lib/python3.6/dist-packages (from transformers) (0.7)\n",
            "Collecting tokenizers==0.9.2\n",
            "\u001b[?25l  Downloading https://files.pythonhosted.org/packages/7c/a5/78be1a55b2ac8d6a956f0a211d372726e2b1dd2666bb537fea9b03abd62c/tokenizers-0.9.2-cp36-cp36m-manylinux1_x86_64.whl (2.9MB)\n",
            "\u001b[K     |████████████████████████████████| 2.9MB 18.7MB/s \n",
            "\u001b[?25hRequirement already satisfied: filelock in /usr/local/lib/python3.6/dist-packages (from transformers) (3.0.12)\n",
            "Requirement already satisfied: protobuf in /usr/local/lib/python3.6/dist-packages (from transformers) (3.12.4)\n",
            "Collecting sacremoses\n",
            "\u001b[?25l  Downloading https://files.pythonhosted.org/packages/7d/34/09d19aff26edcc8eb2a01bed8e98f13a1537005d31e95233fd48216eed10/sacremoses-0.0.43.tar.gz (883kB)\n",
            "\u001b[K     |████████████████████████████████| 890kB 52.0MB/s \n",
            "\u001b[?25hRequirement already satisfied: tqdm>=4.27 in /usr/local/lib/python3.6/dist-packages (from transformers) (4.41.1)\n",
            "Requirement already satisfied: requests in /usr/local/lib/python3.6/dist-packages (from transformers) (2.23.0)\n",
            "Collecting sentencepiece!=0.1.92\n",
            "\u001b[?25l  Downloading https://files.pythonhosted.org/packages/d4/a4/d0a884c4300004a78cca907a6ff9a5e9fe4f090f5d95ab341c53d28cbc58/sentencepiece-0.1.91-cp36-cp36m-manylinux1_x86_64.whl (1.1MB)\n",
            "\u001b[K     |████████████████████████████████| 1.1MB 46.3MB/s \n",
            "\u001b[?25hRequirement already satisfied: pyparsing>=2.0.2 in /usr/local/lib/python3.6/dist-packages (from packaging->transformers) (2.4.7)\n",
            "Requirement already satisfied: six in /usr/local/lib/python3.6/dist-packages (from packaging->transformers) (1.15.0)\n",
            "Requirement already satisfied: setuptools in /usr/local/lib/python3.6/dist-packages (from protobuf->transformers) (50.3.0)\n",
            "Requirement already satisfied: click in /usr/local/lib/python3.6/dist-packages (from sacremoses->transformers) (7.1.2)\n",
            "Requirement already satisfied: joblib in /usr/local/lib/python3.6/dist-packages (from sacremoses->transformers) (0.16.0)\n",
            "Requirement already satisfied: chardet<4,>=3.0.2 in /usr/local/lib/python3.6/dist-packages (from requests->transformers) (3.0.4)\n",
            "Requirement already satisfied: certifi>=2017.4.17 in /usr/local/lib/python3.6/dist-packages (from requests->transformers) (2020.6.20)\n",
            "Requirement already satisfied: idna<3,>=2.5 in /usr/local/lib/python3.6/dist-packages (from requests->transformers) (2.10)\n",
            "Requirement already satisfied: urllib3!=1.25.0,!=1.25.1,<1.26,>=1.21.1 in /usr/local/lib/python3.6/dist-packages (from requests->transformers) (1.24.3)\n",
            "Building wheels for collected packages: sacremoses\n",
            "  Building wheel for sacremoses (setup.py) ... \u001b[?25l\u001b[?25hdone\n",
            "  Created wheel for sacremoses: filename=sacremoses-0.0.43-cp36-none-any.whl size=893257 sha256=15cb64cf6fdc2042cf08e64ff2b62b51d2a08641d3b31ac045cb58e74a070667\n",
            "  Stored in directory: /root/.cache/pip/wheels/29/3c/fd/7ce5c3f0666dab31a50123635e6fb5e19ceb42ce38d4e58f45\n",
            "Successfully built sacremoses\n",
            "Installing collected packages: tokenizers, sacremoses, sentencepiece, transformers\n",
            "Successfully installed sacremoses-0.0.43 sentencepiece-0.1.91 tokenizers-0.9.2 transformers-3.4.0\n"
          ],
          "name": "stdout"
        }
      ]
    },
    {
      "cell_type": "code",
      "metadata": {
        "id": "D1g6B_oQOFOt",
        "outputId": "f51c207f-6684-45bb-b109-eab0a9ade42a",
        "colab": {
          "base_uri": "https://localhost:8080/",
          "height": 196,
          "referenced_widgets": [
            "555766bb4b3a4e458c69e4b0ba6a0d58",
            "cdd328ce9d53457eabb577435b9e97b4",
            "597221c0e3be4b968cd1b80ce79f0c62",
            "9bd6c2feba2f42eb9425296b02035980",
            "72a6fed5c4504e1abe63d488cbca14b9",
            "e2a6d6c84bff4f5d9e074d76adfb61f5",
            "960d6fe0bdff4a6795d174e3bc826ab7",
            "7382db3f1c1c4bb284cd4fdd32748adb",
            "0e990dd52b5e46ed83248447513f4532",
            "247a733504d84d88a4d93f170cff5187",
            "5bb52877d2734949af78f507a787bffb",
            "d74ef0fe6e1e4501842ab5e7f0b899e6",
            "4cf20decf342481ba269fd0f573dfca2",
            "3ee22b79b13743c88720dd6dd964f981",
            "d72009b8657c492da738eef7fa9b31c8",
            "e4d35e1f6a334cfdb0beb172b47186a8",
            "579874a737d34a2fb720ec93f4feda23",
            "71b8cd8d4c484bbf87725870be34cb71",
            "591f201ba3de447d9703e3797a653e02",
            "aa45a3c950334cb0b54642227e3e6008",
            "1d8f1076d4a44b18b7ee2faf9fb95ec4",
            "4b65bff132a94a97b4365795f11a57b1",
            "7c44cc6d3bf64453bb92e1ac687b079b",
            "d5f561aa291b4d4c86da0ed12435cdd7",
            "6f1e60b9c7634813af896a1759902209",
            "b72c8539a30e4d94943b141eefc4ee5d",
            "a4fecf9ab29a471eb96cfaf7cfdb20b2",
            "96822e580b784659891c111bd2ec0144",
            "7c7ef0ef215a4b089ad495935cb8b56f",
            "1e2f99b38e52406bb655f35e4b6dd411",
            "c00d234240fe40b294bfee3e1c02e504",
            "c6b36cf6fa844f4f96cbc41785d3455e"
          ]
        }
      },
      "source": [
        "from transformers import AutoTokenizer, AutoModel\n",
        "\n",
        "tokenizer = AutoTokenizer.from_pretrained(\"sberbank-ai/rugpt2large\")\n",
        "\n",
        "model = AutoModel.from_pretrained(\"sberbank-ai/rugpt2large\")"
      ],
      "execution_count": null,
      "outputs": [
        {
          "output_type": "display_data",
          "data": {
            "application/vnd.jupyter.widget-view+json": {
              "model_id": "555766bb4b3a4e458c69e4b0ba6a0d58",
              "version_minor": 0,
              "version_major": 2
            },
            "text/plain": [
              "HBox(children=(FloatProgress(value=0.0, description='Downloading', max=599.0, style=ProgressStyle(description_…"
            ]
          },
          "metadata": {
            "tags": []
          }
        },
        {
          "output_type": "stream",
          "text": [
            "\n"
          ],
          "name": "stdout"
        },
        {
          "output_type": "display_data",
          "data": {
            "application/vnd.jupyter.widget-view+json": {
              "model_id": "0e990dd52b5e46ed83248447513f4532",
              "version_minor": 0,
              "version_major": 2
            },
            "text/plain": [
              "HBox(children=(FloatProgress(value=0.0, description='Downloading', max=1711112.0, style=ProgressStyle(descript…"
            ]
          },
          "metadata": {
            "tags": []
          }
        },
        {
          "output_type": "stream",
          "text": [
            "\n"
          ],
          "name": "stdout"
        },
        {
          "output_type": "display_data",
          "data": {
            "application/vnd.jupyter.widget-view+json": {
              "model_id": "579874a737d34a2fb720ec93f4feda23",
              "version_minor": 0,
              "version_major": 2
            },
            "text/plain": [
              "HBox(children=(FloatProgress(value=0.0, description='Downloading', max=1369481.0, style=ProgressStyle(descript…"
            ]
          },
          "metadata": {
            "tags": []
          }
        },
        {
          "output_type": "stream",
          "text": [
            "\n"
          ],
          "name": "stdout"
        },
        {
          "output_type": "display_data",
          "data": {
            "application/vnd.jupyter.widget-view+json": {
              "model_id": "6f1e60b9c7634813af896a1759902209",
              "version_minor": 0,
              "version_major": 2
            },
            "text/plain": [
              "HBox(children=(FloatProgress(value=0.0, description='Downloading', max=3391290339.0, style=ProgressStyle(descr…"
            ]
          },
          "metadata": {
            "tags": []
          }
        },
        {
          "output_type": "stream",
          "text": [
            "\n"
          ],
          "name": "stdout"
        }
      ]
    },
    {
      "cell_type": "markdown",
      "metadata": {
        "id": "bdU5WnpG8K4A"
      },
      "source": [
        "Параметры модели:"
      ]
    },
    {
      "cell_type": "markdown",
      "metadata": {
        "id": "4LznfCLCeMui"
      },
      "source": [
        "```\n",
        "{\n",
        "  \"attn_pdrop\": 0.1,\n",
        "  \"embd_pdrop\": 0.1,\n",
        "  \"finetuning_task\": null,\n",
        "  \"initializer_range\": 0.02,\n",
        "  \"layer_norm_epsilon\": 1e-05,\n",
        "  \"n_ctx\": 1024,\n",
        "  \"n_embd\": 1280,\n",
        "  \"n_head\": 20,\n",
        "  \"n_layer\": 36,\n",
        "  \"n_positions\": 1024,\n",
        "  \"num_labels\": 1,\n",
        "  \"output_attentions\": false,\n",
        "  \"output_hidden_states\": false,\n",
        "  \"output_past\": true,\n",
        "  \"pruned_heads\": {},\n",
        "  \"resid_pdrop\": 0.1,\n",
        "  \"summary_activation\": null,\n",
        "  \"summary_first_dropout\": 0.1,\n",
        "  \"summary_proj_to_labels\": true,\n",
        "  \"summary_type\": \"cls_index\",\n",
        "  \"summary_use_proj\": true,\n",
        "  \"torchscript\": false,\n",
        "  \"use_bfloat16\": false,\n",
        "  \"vocab_size\": 50257\n",
        "}\n",
        "```"
      ]
    },
    {
      "cell_type": "markdown",
      "metadata": {
        "id": "LQEF2YRc8PPJ"
      },
      "source": [
        "Но практически поработать с моделью не удалось. Она на pyTorch, который я, к сожалению, пока не освоил. К тому же никаких описаний и примеров использования я не нашел."
      ]
    },
    {
      "cell_type": "markdown",
      "metadata": {
        "id": "j8euDQmmpvSB"
      },
      "source": [
        "# ИТОГИ\n",
        "\n",
        "Тема NLP очень интересна, обширна и сложна. Я попытался охватить максимальное число задач, разобраться в работе трансформера. К сожалению, не все задуманное получилось - просто не хватило времени. Недели слишком мало чтобы разобраться во всех тонкостях, но я вынужден переключиться на курсовую работу."
      ]
    }
  ]
}