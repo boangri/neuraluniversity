{
  "nbformat": 4,
  "nbformat_minor": 0,
  "metadata": {
    "colab": {
      "name": "HW05.ipynb",
      "provenance": [],
      "collapsed_sections": [],
      "toc_visible": true,
      "authorship_tag": "ABX9TyOuvCQfyKyKcE9Ag+qz54LJ",
      "include_colab_link": true
    },
    "kernelspec": {
      "name": "python3",
      "display_name": "Python 3"
    },
    "accelerator": "GPU"
  },
  "cells": [
    {
      "cell_type": "markdown",
      "metadata": {
        "id": "view-in-github",
        "colab_type": "text"
      },
      "source": [
        "<a href=\"https://colab.research.google.com/github/boangri/neuraluniversity/blob/master/HW05.ipynb\" target=\"_parent\"><img src=\"https://colab.research.google.com/assets/colab-badge.svg\" alt=\"Open In Colab\"/></a>"
      ]
    },
    {
      "cell_type": "markdown",
      "metadata": {
        "id": "WJZyIKhOqXs_",
        "colab_type": "text"
      },
      "source": [
        "# Домашнее задание к занятию №5 \"Рекуррентные сети и одномерная свертка\" 23.08.2020\n",
        "\n",
        "Борис Грибовский <xinu@yandex.ru>"
      ]
    },
    {
      "cell_type": "markdown",
      "metadata": {
        "id": "3aSbuoq0xm3r",
        "colab_type": "text"
      },
      "source": [
        "## Подготовка данных\n"
      ]
    },
    {
      "cell_type": "code",
      "metadata": {
        "id": "7D6xHD7pxNHk",
        "colab_type": "code",
        "colab": {}
      },
      "source": [
        "from google.colab import files #модуль для загрузки файлов в colab\n",
        "import numpy as np #библиотека для работы с массивами данных\n",
        "import pandas as pd #библиотека для обработки и анализа данных\n",
        "import matplotlib.pyplot as plt #библиотека для визуализации данных\n",
        "# \"Магическая\"команда python для запуска библиотеки в ноутбуке\n",
        "%matplotlib inline\n",
        "\n",
        "from tensorflow.keras import utils #модуль с утилитами кераса, будем использовать для вызова метода преобразования категорий в вектора\n",
        "from tensorflow.keras.models import Sequential #последовательная модель нейросети кераса\n",
        "# Загружаем стандартные слои нейросети(полносвязный, регуляризации, нормализации, векторного представления слов, выравнивания, активации)\n",
        "from tensorflow.keras.layers import Dense, Dropout, BatchNormalization, Embedding, Flatten, Activation\n",
        "# Загружаем сверточные слои\n",
        "from tensorflow.keras.layers import Conv1D, SpatialDropout1D, MaxPooling1D, GlobalAveragePooling1D, GlobalMaxPooling1D\n",
        "# Загружаем рекуррентные слои\n",
        "from tensorflow.keras.layers import LSTM, GRU, SimpleRNN, Bidirectional\n",
        "# Загружаем алгоритмы обучения/оптимизации\n",
        "from tensorflow.python.keras.optimizers import Adam, RMSprop\n",
        "from tensorflow.keras.preprocessing.sequence import pad_sequences\n",
        "from tensorflow.keras.callbacks import ModelCheckpoint\n",
        "import tensorflow as tf\n",
        "\n",
        "from keras.preprocessing.text import Tokenizer, text_to_word_sequence #инструменты предобработки текста от кераса\n",
        "from sklearn.model_selection import train_test_split #модуль для разбиения данных на обучающую и тестовую выборки\n",
        "\n",
        "import os\n",
        "import random\n",
        "import time"
      ],
      "execution_count": 2,
      "outputs": []
    },
    {
      "cell_type": "code",
      "metadata": {
        "id": "7r4n_ozxucUs",
        "colab_type": "code",
        "colab": {
          "base_uri": "https://localhost:8080/",
          "height": 204
        },
        "outputId": "78d22735-327e-4594-c00b-6862a28a4a91"
      },
      "source": [
        "# Загружаем базу писателей\n",
        "!wget https://xland.ru/uai/hw04/writers.zip\n",
        "!unzip -q 'writers.zip' -d /content/texts "
      ],
      "execution_count": null,
      "outputs": [
        {
          "output_type": "stream",
          "text": [
            "--2020-08-24 11:34:19--  https://xland.ru/uai/hw04/writers.zip\n",
            "Resolving xland.ru (xland.ru)... 198.211.125.59\n",
            "Connecting to xland.ru (xland.ru)|198.211.125.59|:443... connected.\n",
            "HTTP request sent, awaiting response... 200 OK\n",
            "Length: 8960427 (8.5M) [application/zip]\n",
            "Saving to: ‘writers.zip’\n",
            "\n",
            "writers.zip         100%[===================>]   8.54M  11.2MB/s    in 0.8s    \n",
            "\n",
            "2020-08-24 11:34:20 (11.2 MB/s) - ‘writers.zip’ saved [8960427/8960427]\n",
            "\n"
          ],
          "name": "stdout"
        }
      ]
    },
    {
      "cell_type": "code",
      "metadata": {
        "id": "UJonuQJCxNEi",
        "colab_type": "code",
        "colab": {}
      },
      "source": [
        "def readText(fileName): # Объявляем функции для чтения файла. На вход отправляем путь к файлу\n",
        "  f = open(fileName, 'r')        # Задаем открытие нужного файла в режиме чтения\n",
        "  text = f.read()                # Читаем текст\n",
        "  text = text.replace(\"\\n\", \" \") # Переносы строки переводим в пробелы\n",
        "  \n",
        "  return text                    # Возвращаем текст файла\n",
        "\n",
        "className = [\"О. Генри\", \"Стругацкие\", \"Булгаков\", \"Саймак\", \"Фрай\", \"Брэдберри\"] # Объявляем интересующие нас классы\n",
        "nClasses = len(className) # Считаем количество классов"
      ],
      "execution_count": null,
      "outputs": []
    },
    {
      "cell_type": "code",
      "metadata": {
        "id": "VXXWTElpxNBk",
        "colab_type": "code",
        "colab": {}
      },
      "source": [
        "# Загружаем обучающие тексты\n",
        "trainText = []\n",
        "trainText.append(readText('/content/texts/(О. Генри) Обучающая_50 вместе.txt'))\n",
        "trainText.append(readText('/content/texts/(Стругацкие) Обучающая_5 вместе.txt'))\n",
        "trainText.append(readText('/content/texts/(Булгаков) Обучающая_5 вместе.txt'))\n",
        "trainText.append(readText('/content/texts/(Клиффорд_Саймак) Обучающая_5 вместе.txt'))\n",
        "trainText.append(readText('/content/texts/(Макс Фрай) Обучающая_5 вместе.txt'))\n",
        "trainText.append(readText('/content/texts/(Рэй Брэдберри) Обучающая_22 вместе.txt')) \n",
        "# Загружаем тестовые тексты\n",
        "testText = []\n",
        "testText.append(readText('/content/texts/(О. Генри) Тестовая_20 вместе.txt'))\n",
        "testText.append(readText('/content/texts/(Стругацкие) Тестовая_2 вместе.txt'))\n",
        "testText.append(readText('/content/texts/(Булгаков) Тестовая_2 вместе.txt'))\n",
        "testText.append(readText('/content/texts/(Клиффорд_Саймак) Тестовая_2 вместе.txt'))\n",
        "testText.append(readText('/content/texts/(Макс Фрай) Тестовая_2 вместе.txt'))\n",
        "testText.append(readText('/content/texts/(Рэй Брэдберри) Тестовая_8 вместе.txt'))"
      ],
      "execution_count": null,
      "outputs": []
    },
    {
      "cell_type": "code",
      "metadata": {
        "id": "lXBJmKeDxM-p",
        "colab_type": "code",
        "colab": {}
      },
      "source": [
        "maxWordsCount = 20000 \n",
        "tokenizer = Tokenizer(num_words=maxWordsCount, filters='–—!\"#$%&()*+,-./:;<=>?@[\\\\]^_`{|}~\\t\\n\\xa0–\\ufeff', lower=True, split=' ', char_level=False, oov_token = 'unknown')\n",
        "tokenizer.fit_on_texts(trainText) \n",
        "items = list(tokenizer.word_index.items())"
      ],
      "execution_count": null,
      "outputs": []
    },
    {
      "cell_type": "code",
      "metadata": {
        "id": "wnPKnJ-7xM7b",
        "colab_type": "code",
        "colab": {
          "base_uri": "https://localhost:8080/",
          "height": 54
        },
        "outputId": "51c3cbb4-8c1e-4e07-9392-95f5d4d84fe8"
      },
      "source": [
        "print(items[:100])\n"
      ],
      "execution_count": null,
      "outputs": [
        {
          "output_type": "stream",
          "text": [
            "[('unknown', 1), ('и', 2), ('в', 3), ('не', 4), ('я', 5), ('что', 6), ('на', 7), ('с', 8), ('он', 9), ('а', 10), ('как', 11), ('то', 12), ('это', 13), ('но', 14), ('все', 15), ('у', 16), ('по', 17), ('его', 18), ('к', 19), ('так', 20), ('мне', 21), ('из', 22), ('за', 23), ('меня', 24), ('ты', 25), ('же', 26), ('сказал', 27), ('бы', 28), ('было', 29), ('вы', 30), ('от', 31), ('они', 32), ('мы', 33), ('только', 34), ('да', 35), ('еще', 36), ('она', 37), ('о', 38), ('когда', 39), ('вот', 40), ('уже', 41), ('если', 42), ('был', 43), ('ни', 44), ('их', 45), ('нет', 46), ('чтобы', 47), ('до', 48), ('ну', 49), ('для', 50), ('ему', 51), ('может', 52), ('или', 53), ('ничего', 54), ('даже', 55), ('там', 56), ('очень', 57), ('кто', 58), ('ее', 59), ('тут', 60), ('потом', 61), ('просто', 62), ('него', 63), ('чем', 64), ('быть', 65), ('теперь', 66), ('под', 67), ('где', 68), ('нас', 69), ('есть', 70), ('тебя', 71), ('время', 72), ('ли', 73), ('тебе', 74), ('со', 75), ('во', 76), ('вас', 77), ('раз', 78), ('нибудь', 79), ('этот', 80), ('сейчас', 81), ('вам', 82), ('себя', 83), ('здесь', 84), ('уж', 85), ('себе', 86), ('этого', 87), ('надо', 88), ('том', 89), ('будет', 90), ('можно', 91), ('сам', 92), ('нам', 93), ('были', 94), ('была', 95), ('того', 96), ('тоже', 97), ('один', 98), ('без', 99), ('спросил', 100)]\n"
          ],
          "name": "stdout"
        }
      ]
    },
    {
      "cell_type": "code",
      "metadata": {
        "id": "WsU4XgeKxM4c",
        "colab_type": "code",
        "colab": {
          "base_uri": "https://localhost:8080/",
          "height": 34
        },
        "outputId": "3081aa8b-bb98-498f-f784-5385e2e85124"
      },
      "source": [
        "tokenizer.word_index['белый']"
      ],
      "execution_count": null,
      "outputs": [
        {
          "output_type": "execute_result",
          "data": {
            "text/plain": [
              "953"
            ]
          },
          "metadata": {
            "tags": []
          },
          "execution_count": 11
        }
      ]
    },
    {
      "cell_type": "code",
      "metadata": {
        "id": "0eujjva6xM1i",
        "colab_type": "code",
        "colab": {}
      },
      "source": [
        "trainWordIndexes = tokenizer.texts_to_sequences(trainText) # обучающие тесты в индексы\n",
        "testWordIndexes = tokenizer.texts_to_sequences(testText)   # проверочные тесты в индексы"
      ],
      "execution_count": null,
      "outputs": []
    },
    {
      "cell_type": "code",
      "metadata": {
        "id": "rWrGy0qpxMyB",
        "colab_type": "code",
        "colab": {}
      },
      "source": [
        "def getSetFromIndexes(wordIndexes, xLen, step):\n",
        "  xSample = []\n",
        "  wordsLen = len(wordIndexes)\n",
        "  index = 0  \n",
        "  while (index + xLen <= wordsLen):\n",
        "    xSample.append(wordIndexes[index:index+xLen])\n",
        "    index += step\n",
        "  return xSample\n",
        "\n",
        "def createSetsMultiClasses(wordIndexes, xLen, step): # функция принимает последовательность индексов, размер окна, шаг окна\n",
        "\n",
        "  # Для каждого из 6 классов\n",
        "  # Создаём обучающую/проверочную выборку из индексов\n",
        "  nClasses = len(wordIndexes) # задаем количество классов выборки\n",
        "  classesXSamples = []        # здесь будет список размером \"кол-во классов*кол-во окон в тексте*длину окна(например 6 по 1341*1000)\"\n",
        "  for wI in wordIndexes:      # для каждого текста выборки из последовательности индексов\n",
        "    classesXSamples.append(getSetFromIndexes(wI, xLen, step)) # добавляем в список очередной текст индексов, разбитый на \"кол-во окон*длину окна\" \n",
        "\n",
        "  # Формируем один общий xSamples\n",
        "  xSamples = [] # здесь будет список размером \"суммарное кол-во окон во всех текстах*длину окна(например 15779*1000)\"\n",
        "  ySamples = [] # здесь будет список размером \"суммарное кол-во окон во всех текстах*вектор длиной 6\"\n",
        "  \n",
        "  for t in range(nClasses):  # в диапазоне кол-ва классов(6)\n",
        "    xT = classesXSamples[t]  # берем очередной текст вида \"кол-во окон в тексте*длину окна\"(например 1341*1000)\n",
        "    for i in range(len(xT)): # и каждое его окно\n",
        "      xSamples.append(xT[i]) # добавляем в общий список выборки\n",
        "    \n",
        "    # Формируем ySamples по номеру класса\n",
        "    currY = utils.to_categorical(t, nClasses) # текущий класс переводится в вектор длиной 6 вида [0.0.0.1.0.0.]\n",
        "    for i in range(len(xT)): # на каждое окно выборки \n",
        "      ySamples.append(currY) # добавляем соответствующий вектор класса\n",
        "\n",
        "  xSamples = np.array(xSamples) # переводим в массив numpy для подачи в нейронку\n",
        "  ySamples = np.array(ySamples) # переводим в массив numpy для подачи в нейронку\n",
        "\n",
        "  return (xSamples, ySamples)   # функция возвращает выборку и соответствующие векторы классов"
      ],
      "execution_count": null,
      "outputs": []
    },
    {
      "cell_type": "code",
      "metadata": {
        "id": "ZZfQbHaQxMu_",
        "colab_type": "code",
        "colab": {}
      },
      "source": [
        "# Задаём базовые параметры\n",
        "xLen = 1000 # Длина отрезка текста, по которой анализируем, в словах\n",
        "step = 100 # Шаг разбиения исходного текста на обучающие вектора"
      ],
      "execution_count": null,
      "outputs": []
    },
    {
      "cell_type": "code",
      "metadata": {
        "id": "XKVVNB4yxMpy",
        "colab_type": "code",
        "colab": {
          "base_uri": "https://localhost:8080/",
          "height": 85
        },
        "outputId": "c67f038b-dbff-45b8-dd5c-80292da9b302"
      },
      "source": [
        "xTrain, yTrain = createSetsMultiClasses(trainWordIndexes, xLen, step) # извлекаем обучающую выборку\n",
        "xTest, yTest = createSetsMultiClasses(testWordIndexes, xLen, step)    # извлекаем тестовую выборку\n",
        "print(xTrain.shape)\n",
        "print(yTrain.shape)\n",
        "print(xTest.shape)\n",
        "print(yTest.shape)"
      ],
      "execution_count": null,
      "outputs": [
        {
          "output_type": "stream",
          "text": [
            "(17658, 1000)\n",
            "(17658, 6)\n",
            "(6693, 1000)\n",
            "(6693, 6)\n"
          ],
          "name": "stdout"
        }
      ]
    },
    {
      "cell_type": "code",
      "metadata": {
        "id": "3KnX_CgOxMmX",
        "colab_type": "code",
        "colab": {}
      },
      "source": [
        "def createTestMultiClasses(wordIndexes, xLen, step): # функция принимает последовательность индексов, размер окна, шаг окна\n",
        "\n",
        "  # Для каждого из 6 классов\n",
        "  # Создаём тестовую выборку из индексов\n",
        "  nClasses = len(wordIndexes) # задаем количество классов\n",
        "  xTest6Classes01 = []               # здесь будет список из всех классов,каждый размером \"кол-во окон в тексте * 20000(при maxWordsCount=20000)\"\n",
        "  xTest6Classes = []                 # здесь будет список массивов, каждый размером \"кол-во окон в тексте * длину окна\"(6 по 420*1000)\n",
        "  for wI in wordIndexes:             # для каждого тестового текста из последовательности индексов\n",
        "    sample = (getSetFromIndexes(wI, xLen, step)) # тестовая выборка размером \"кол-во окон*длину окна\"(например 420*1000)\n",
        "    xTest6Classes.append(np.array(sample))       # переводим в массив numpy и добавляем в список\n",
        "    xTest6Classes01.append(tokenizer.sequences_to_matrix(sample)) # трансформируется в Bag of Words в виде \"кол-во окон в тексте * 20000\"\n",
        "  xTest6Classes01 = np.array(xTest6Classes01)                     # и добавляется к нашему списку, \n",
        "  \n",
        "  return xTest6Classes01, xTest6Classes # функция вернёт тестовые данные: TestBg 6 классов на n*20000 и xTestEm 6 по n*1000\n",
        "\n",
        "def recognizeMultiClass(model, xTest, modelName):\n",
        "  print(\"НЕЙРОНКА: \", modelName)\n",
        "  print()\n",
        "  \n",
        "  val = []\n",
        "  pred = []\n",
        "  \n",
        "  totalSumRec = []\n",
        "  \n",
        "  # Проходим по всем классам\n",
        "  for i in range(nClasses):\n",
        "    # Получаем результаты распознавания класса по блокам слов длины xLen\n",
        "    currPred = model.predict(xTest[i])\n",
        "    pred.append(currPred)\n",
        "    # Определяем номер распознанного класса для каждохо блока слов длины xLen\n",
        "    currOut = np.argmax(currPred, axis=1)\n",
        "    \n",
        "    # Считаем процент распознавания каждого класса за каждый\n",
        "    # Получам матрицу 6 на 6\n",
        "    evVal = []\n",
        "    sumRec = []\n",
        "    for j in range(nClasses):\n",
        "      sumRec.append(0)\n",
        "      for t in range(len(currOut)):\n",
        "        if (currOut[t] == j):\n",
        "          sumRec[j] += 1\n",
        "      evVal.append(sumRec[j] / len(currOut))\n",
        "    \n",
        "    totalSumRec.append(sumRec[i])\n",
        "    \n",
        "    # Определяем, какой в класс в итоге за какой был распознан\n",
        "    val.append(evVal[i])\n",
        "    recognizedClass = np.argmax(evVal)\n",
        "    \n",
        "    # Выводим результаты распознавания по текущему классу\n",
        "    isRecognized = \"распознано НЕ ВЕРНО!\"\n",
        "    if (recognizedClass == i):\n",
        "      isRecognized = \"распознано ВЕРНО!\"\n",
        "    print(className[i], \" распознано \", int(100*evVal[i]), \"% сеть считает, что это \", className[recognizedClass], \", \", isRecognized)\n",
        "  \n",
        "  # Выводим вредний процент распознавания по всем классам вместе\n",
        "  print()\n",
        "  sumVal = 0\n",
        "  sumCount = 0\n",
        "  lenXtest = []\n",
        "  for i in range(nClasses):\n",
        "    sumCount += len(xTest[i])\n",
        "    sumVal += totalSumRec[i]\n",
        "  print(\"Средний процент распознавания \", int(100*sumVal/sumCount), \"%\")\n",
        "  print()\n",
        "  return sumVal/sumCount"
      ],
      "execution_count": null,
      "outputs": []
    },
    {
      "cell_type": "code",
      "metadata": {
        "id": "HIuiXapTxMiu",
        "colab_type": "code",
        "colab": {}
      },
      "source": [
        "xTest6Classes01, xTest6Classes = createTestMultiClasses(testWordIndexes, xLen, step)"
      ],
      "execution_count": null,
      "outputs": []
    },
    {
      "cell_type": "markdown",
      "metadata": {
        "id": "KSeH08Bpxodb",
        "colab_type": "text"
      },
      "source": [
        "## LIGHT\n",
        "\n",
        "Используя шаблон ноутбука, напишите четыре нейронки для распознавания писателей. Для этого выполните следующее:\n",
        "- Загрузите данные и разделите на слова.\n",
        "- Создайте словарь и превратите данные в индексы.\n",
        "- Превратите данные в обучающую выборку.\n",
        "- Напишите нейронные сети.\n",
        "\n",
        "Четыре нейронки, которые нужно написать:\n",
        "- Embedding + Dense сеть.\n",
        "- Embedding + LSTM сеть.\n",
        "- Embedding + Conv1D сеть.\n",
        "- Embedding + сложная сеть из Dense, LSTM и Conv1D.\n"
      ]
    },
    {
      "cell_type": "markdown",
      "metadata": {
        "id": "Rs-GLiqMh1i3",
        "colab_type": "text"
      },
      "source": [
        "### Embedding + Dense сеть."
      ]
    },
    {
      "cell_type": "code",
      "metadata": {
        "id": "BJA6ah4hhHFx",
        "colab_type": "code",
        "colab": {
          "base_uri": "https://localhost:8080/",
          "height": 1000
        },
        "outputId": "1ba42578-f077-40ea-fd6d-a31d095b2abf"
      },
      "source": [
        "epochs = 20\n",
        "name = \"Embedding + Dense\"\n",
        "\n",
        "model = Sequential() \n",
        "model.add(Embedding(maxWordsCount, 16, input_length=xLen))\n",
        "model.add(SpatialDropout1D(0.2)) \n",
        "model.add(BatchNormalization())\n",
        "\n",
        "model.add(Flatten())\n",
        "model.add(Dense(128, activation='relu'))\n",
        "\n",
        "model.add(Dense(6, activation='softmax'))\n",
        "\n",
        "model.compile(optimizer='rmsprop', \n",
        "              loss='categorical_crossentropy', \n",
        "              metrics=['accuracy'])\n",
        "\n",
        "model.summary()\n",
        "\n",
        "history = model.fit(xTrain, \n",
        "                    yTrain, \n",
        "                    epochs=epochs,\n",
        "                    batch_size=512,\n",
        "                    validation_data=(xTest, yTest))\n",
        "\n",
        "plt.plot(history.history['accuracy'], \n",
        "         label='Доля верных ответов на обучающем наборе')\n",
        "plt.plot(history.history['val_accuracy'], \n",
        "         label='Доля верных ответов на проверочном наборе')\n",
        "plt.xlabel('Эпоха обучения')\n",
        "plt.ylabel('Доля верных ответов')\n",
        "plt.legend()\n",
        "plt.show()\n",
        "\n",
        "pred = recognizeMultiClass(model, xTest6Classes, name) "
      ],
      "execution_count": null,
      "outputs": [
        {
          "output_type": "stream",
          "text": [
            "Model: \"sequential_9\"\n",
            "_________________________________________________________________\n",
            "Layer (type)                 Output Shape              Param #   \n",
            "=================================================================\n",
            "embedding_9 (Embedding)      (None, 1000, 16)          320000    \n",
            "_________________________________________________________________\n",
            "spatial_dropout1d_11 (Spatia (None, 1000, 16)          0         \n",
            "_________________________________________________________________\n",
            "batch_normalization_18 (Batc (None, 1000, 16)          64        \n",
            "_________________________________________________________________\n",
            "flatten_7 (Flatten)          (None, 16000)             0         \n",
            "_________________________________________________________________\n",
            "dense_12 (Dense)             (None, 128)               2048128   \n",
            "_________________________________________________________________\n",
            "dense_13 (Dense)             (None, 6)                 774       \n",
            "=================================================================\n",
            "Total params: 2,368,966\n",
            "Trainable params: 2,368,934\n",
            "Non-trainable params: 32\n",
            "_________________________________________________________________\n",
            "Epoch 1/20\n",
            "35/35 [==============================] - 2s 44ms/step - loss: 0.8518 - accuracy: 0.6980 - val_loss: 1.7734 - val_accuracy: 0.2928\n",
            "Epoch 2/20\n",
            "35/35 [==============================] - 1s 40ms/step - loss: 0.0104 - accuracy: 0.9990 - val_loss: 1.7740 - val_accuracy: 0.2937\n",
            "Epoch 3/20\n",
            "35/35 [==============================] - 1s 39ms/step - loss: 0.0034 - accuracy: 0.9997 - val_loss: 2.0562 - val_accuracy: 0.2928\n",
            "Epoch 4/20\n",
            "35/35 [==============================] - 1s 39ms/step - loss: 0.0022 - accuracy: 0.9995 - val_loss: 1.8594 - val_accuracy: 0.2943\n",
            "Epoch 5/20\n",
            "35/35 [==============================] - 1s 39ms/step - loss: 0.0032 - accuracy: 0.9990 - val_loss: 1.8170 - val_accuracy: 0.3052\n",
            "Epoch 6/20\n",
            "35/35 [==============================] - 1s 40ms/step - loss: 0.0020 - accuracy: 0.9995 - val_loss: 2.0014 - val_accuracy: 0.3058\n",
            "Epoch 7/20\n",
            "35/35 [==============================] - 1s 39ms/step - loss: 0.0024 - accuracy: 0.9994 - val_loss: 2.1289 - val_accuracy: 0.3052\n",
            "Epoch 8/20\n",
            "35/35 [==============================] - 1s 39ms/step - loss: 0.0025 - accuracy: 0.9992 - val_loss: 1.8943 - val_accuracy: 0.3459\n",
            "Epoch 9/20\n",
            "35/35 [==============================] - 1s 39ms/step - loss: 0.0028 - accuracy: 0.9992 - val_loss: 1.5855 - val_accuracy: 0.4278\n",
            "Epoch 10/20\n",
            "35/35 [==============================] - 1s 39ms/step - loss: 0.0024 - accuracy: 0.9990 - val_loss: 1.4299 - val_accuracy: 0.4850\n",
            "Epoch 11/20\n",
            "35/35 [==============================] - 1s 39ms/step - loss: 0.0036 - accuracy: 0.9990 - val_loss: 1.2030 - val_accuracy: 0.5745\n",
            "Epoch 12/20\n",
            "35/35 [==============================] - 1s 38ms/step - loss: 0.0041 - accuracy: 0.9988 - val_loss: 1.1056 - val_accuracy: 0.6263\n",
            "Epoch 13/20\n",
            "35/35 [==============================] - 1s 39ms/step - loss: 0.0026 - accuracy: 0.9995 - val_loss: 1.4702 - val_accuracy: 0.5498\n",
            "Epoch 14/20\n",
            "35/35 [==============================] - 1s 39ms/step - loss: 0.0042 - accuracy: 0.9987 - val_loss: 1.3903 - val_accuracy: 0.6123\n",
            "Epoch 15/20\n",
            "35/35 [==============================] - 1s 39ms/step - loss: 0.0025 - accuracy: 0.9994 - val_loss: 1.4306 - val_accuracy: 0.6217\n",
            "Epoch 16/20\n",
            "35/35 [==============================] - 1s 39ms/step - loss: 0.0028 - accuracy: 0.9993 - val_loss: 1.7237 - val_accuracy: 0.5970\n",
            "Epoch 17/20\n",
            "35/35 [==============================] - 1s 39ms/step - loss: 0.0039 - accuracy: 0.9991 - val_loss: 2.0523 - val_accuracy: 0.6260\n",
            "Epoch 18/20\n",
            "35/35 [==============================] - 1s 40ms/step - loss: 0.0018 - accuracy: 0.9995 - val_loss: 2.2936 - val_accuracy: 0.6071\n",
            "Epoch 19/20\n",
            "35/35 [==============================] - 1s 38ms/step - loss: 0.0029 - accuracy: 0.9993 - val_loss: 2.2454 - val_accuracy: 0.6003\n",
            "Epoch 20/20\n",
            "35/35 [==============================] - 1s 38ms/step - loss: 0.0044 - accuracy: 0.9985 - val_loss: 2.4537 - val_accuracy: 0.6057\n"
          ],
          "name": "stdout"
        },
        {
          "output_type": "display_data",
          "data": {
            "image/png": "[encoded data removed]",
            "text/plain": [
              "<Figure size 432x288 with 1 Axes>"
            ]
          },
          "metadata": {
            "tags": [],
            "needs_background": "light"
          }
        },
        {
          "output_type": "stream",
          "text": [
            "НЕЙРОНКА:  Embedding + Dense\n",
            "\n",
            "О. Генри  распознано  39 % сеть считает, что это  О. Генри ,  распознано ВЕРНО!\n",
            "Стругацкие  распознано  67 % сеть считает, что это  Стругацкие ,  распознано ВЕРНО!\n",
            "Булгаков  распознано  60 % сеть считает, что это  Булгаков ,  распознано ВЕРНО!\n",
            "Саймак  распознано  46 % сеть считает, что это  Саймак ,  распознано ВЕРНО!\n",
            "Фрай  распознано  69 % сеть считает, что это  Фрай ,  распознано ВЕРНО!\n",
            "Брэдберри  распознано  55 % сеть считает, что это  Брэдберри ,  распознано ВЕРНО!\n",
            "\n",
            "Средний процент распознавания  60 %\n",
            "\n"
          ],
          "name": "stdout"
        }
      ]
    },
    {
      "cell_type": "markdown",
      "metadata": {
        "id": "VvNn8NzDldPz",
        "colab_type": "text"
      },
      "source": [
        "### Embedding + LSTM сеть."
      ]
    },
    {
      "cell_type": "code",
      "metadata": {
        "id": "kq6Q_1owhHAU",
        "colab_type": "code",
        "colab": {
          "base_uri": "https://localhost:8080/",
          "height": 1000
        },
        "outputId": "8f8b484b-eaff-4925-8ba0-ed0a31f8f140"
      },
      "source": [
        "epochs = 20\n",
        "name = \"Embedding + LSTM\"\n",
        "\n",
        "model = Sequential() \n",
        "model.add(Embedding(maxWordsCount, 16, input_length=xLen))\n",
        "model.add(SpatialDropout1D(0.2)) \n",
        "model.add(BatchNormalization())\n",
        "model.add(LSTM(16, dropout=0.1))\n",
        "model.add(BatchNormalization())\n",
        "\n",
        "model.add(Dense(6, activation='softmax'))\n",
        "\n",
        "model.compile(optimizer='rmsprop', \n",
        "              loss='categorical_crossentropy', \n",
        "              metrics=['accuracy'])\n",
        "\n",
        "model.summary()\n",
        "\n",
        "history = model.fit(xTrain, \n",
        "                    yTrain, \n",
        "                    epochs=epochs,\n",
        "                    batch_size=512,\n",
        "                    validation_data=(xTest, yTest))\n",
        "\n",
        "plt.plot(history.history['accuracy'], \n",
        "         label='Доля верных ответов на обучающем наборе')\n",
        "plt.plot(history.history['val_accuracy'], \n",
        "         label='Доля верных ответов на проверочном наборе')\n",
        "plt.xlabel('Эпоха обучения')\n",
        "plt.ylabel('Доля верных ответов')\n",
        "plt.legend()\n",
        "plt.show()\n",
        "\n",
        "pred = recognizeMultiClass(model, xTest6Classes, name) "
      ],
      "execution_count": null,
      "outputs": [
        {
          "output_type": "stream",
          "text": [
            "Model: \"sequential_7\"\n",
            "_________________________________________________________________\n",
            "Layer (type)                 Output Shape              Param #   \n",
            "=================================================================\n",
            "embedding_7 (Embedding)      (None, 1000, 16)          320000    \n",
            "_________________________________________________________________\n",
            "spatial_dropout1d_9 (Spatial (None, 1000, 16)          0         \n",
            "_________________________________________________________________\n",
            "batch_normalization_15 (Batc (None, 1000, 16)          64        \n",
            "_________________________________________________________________\n",
            "lstm_5 (LSTM)                (None, 16)                2112      \n",
            "_________________________________________________________________\n",
            "batch_normalization_16 (Batc (None, 16)                64        \n",
            "_________________________________________________________________\n",
            "dense_9 (Dense)              (None, 6)                 102       \n",
            "=================================================================\n",
            "Total params: 322,342\n",
            "Trainable params: 322,278\n",
            "Non-trainable params: 64\n",
            "_________________________________________________________________\n",
            "Epoch 1/20\n",
            "35/35 [==============================] - 3s 93ms/step - loss: 1.9486 - accuracy: 0.2351 - val_loss: 1.7616 - val_accuracy: 0.2927\n",
            "Epoch 2/20\n",
            "35/35 [==============================] - 3s 82ms/step - loss: 1.5002 - accuracy: 0.4247 - val_loss: 1.7778 - val_accuracy: 0.1618\n",
            "Epoch 3/20\n",
            "35/35 [==============================] - 3s 79ms/step - loss: 1.1098 - accuracy: 0.5933 - val_loss: 2.0687 - val_accuracy: 0.2966\n",
            "Epoch 4/20\n",
            "35/35 [==============================] - 3s 81ms/step - loss: 0.8142 - accuracy: 0.7126 - val_loss: 2.3665 - val_accuracy: 0.2928\n",
            "Epoch 5/20\n",
            "35/35 [==============================] - 3s 80ms/step - loss: 0.5796 - accuracy: 0.8074 - val_loss: 2.2567 - val_accuracy: 0.3604\n",
            "Epoch 6/20\n",
            "35/35 [==============================] - 3s 81ms/step - loss: 0.4199 - accuracy: 0.8680 - val_loss: 3.4925 - val_accuracy: 0.2930\n",
            "Epoch 7/20\n",
            "35/35 [==============================] - 3s 82ms/step - loss: 0.3024 - accuracy: 0.9122 - val_loss: 3.7773 - val_accuracy: 0.3042\n",
            "Epoch 8/20\n",
            "35/35 [==============================] - 3s 82ms/step - loss: 0.2254 - accuracy: 0.9383 - val_loss: 4.5062 - val_accuracy: 0.2931\n",
            "Epoch 9/20\n",
            "35/35 [==============================] - 3s 81ms/step - loss: 0.1691 - accuracy: 0.9596 - val_loss: 4.7985 - val_accuracy: 0.3036\n",
            "Epoch 10/20\n",
            "35/35 [==============================] - 3s 80ms/step - loss: 0.1240 - accuracy: 0.9717 - val_loss: 5.0307 - val_accuracy: 0.3075\n",
            "Epoch 11/20\n",
            "35/35 [==============================] - 3s 80ms/step - loss: 0.0985 - accuracy: 0.9780 - val_loss: 4.8042 - val_accuracy: 0.3196\n",
            "Epoch 12/20\n",
            "35/35 [==============================] - 3s 81ms/step - loss: 0.0647 - accuracy: 0.9876 - val_loss: 4.5535 - val_accuracy: 0.3690\n",
            "Epoch 13/20\n",
            "35/35 [==============================] - 3s 83ms/step - loss: 0.1237 - accuracy: 0.9724 - val_loss: 4.6024 - val_accuracy: 0.3563\n",
            "Epoch 14/20\n",
            "35/35 [==============================] - 3s 82ms/step - loss: 0.0621 - accuracy: 0.9873 - val_loss: 4.0279 - val_accuracy: 0.3675\n",
            "Epoch 15/20\n",
            "35/35 [==============================] - 3s 82ms/step - loss: 0.0391 - accuracy: 0.9921 - val_loss: 4.8249 - val_accuracy: 0.3626\n",
            "Epoch 16/20\n",
            "35/35 [==============================] - 3s 83ms/step - loss: 0.0379 - accuracy: 0.9926 - val_loss: 3.5118 - val_accuracy: 0.4294\n",
            "Epoch 17/20\n",
            "35/35 [==============================] - 3s 82ms/step - loss: 0.0361 - accuracy: 0.9927 - val_loss: 4.3213 - val_accuracy: 0.4363\n",
            "Epoch 18/20\n",
            "35/35 [==============================] - 3s 83ms/step - loss: 0.0689 - accuracy: 0.9842 - val_loss: 4.3946 - val_accuracy: 0.4233\n",
            "Epoch 19/20\n",
            "35/35 [==============================] - 3s 80ms/step - loss: 0.0457 - accuracy: 0.9900 - val_loss: 4.0021 - val_accuracy: 0.4579\n",
            "Epoch 20/20\n",
            "35/35 [==============================] - 3s 81ms/step - loss: 0.0370 - accuracy: 0.9928 - val_loss: 3.1855 - val_accuracy: 0.5267\n"
          ],
          "name": "stdout"
        },
        {
          "output_type": "display_data",
          "data": {
            "image/png": "[encoded data removed]",
            "text/plain": [
              "<Figure size 432x288 with 1 Axes>"
            ]
          },
          "metadata": {
            "tags": [],
            "needs_background": "light"
          }
        },
        {
          "output_type": "stream",
          "text": [
            "НЕЙРОНКА:  Embedding + LSTM\n",
            "\n",
            "О. Генри  распознано  45 % сеть считает, что это  О. Генри ,  распознано ВЕРНО!\n",
            "Стругацкие  распознано  54 % сеть считает, что это  Стругацкие ,  распознано ВЕРНО!\n",
            "Булгаков  распознано  14 % сеть считает, что это  Стругацкие ,  распознано НЕ ВЕРНО!\n",
            "Саймак  распознано  20 % сеть считает, что это  Стругацкие ,  распознано НЕ ВЕРНО!\n",
            "Фрай  распознано  87 % сеть считает, что это  Фрай ,  распознано ВЕРНО!\n",
            "Брэдберри  распознано  53 % сеть считает, что это  Брэдберри ,  распознано ВЕРНО!\n",
            "\n",
            "Средний процент распознавания  52 %\n",
            "\n"
          ],
          "name": "stdout"
        }
      ]
    },
    {
      "cell_type": "markdown",
      "metadata": {
        "id": "kxj94rQfnx9F",
        "colab_type": "text"
      },
      "source": [
        "### Embedding + Conv1D сеть.\n"
      ]
    },
    {
      "cell_type": "code",
      "metadata": {
        "id": "BLaBC-ZxhG4b",
        "colab_type": "code",
        "colab": {
          "base_uri": "https://localhost:8080/",
          "height": 1000
        },
        "outputId": "1c36a2d6-d925-49a2-c361-a6b74dc906ef"
      },
      "source": [
        "epochs = 20\n",
        "name = \"Embedding + Conv1D\"\n",
        "\n",
        "model = Sequential() \n",
        "model.add(Embedding(maxWordsCount, 16, input_length=xLen))\n",
        "model.add(SpatialDropout1D(0.2)) \n",
        "model.add(BatchNormalization())\n",
        "\n",
        "model.add(Conv1D(20, 5, activation=\"relu\")) \n",
        "model.add(MaxPooling1D(2)) \n",
        "\n",
        "model.add(Conv1D(20, 5, activation=\"relu\"))\n",
        "model.add(MaxPooling1D(2))\n",
        "model.add(Dropout(0.2)) \n",
        "model.add(BatchNormalization()) \n",
        "\n",
        "model.add(Flatten()) \n",
        "model.add(Dense(6, activation='softmax'))\n",
        "\n",
        "model.compile(optimizer='rmsprop', \n",
        "              loss='categorical_crossentropy', \n",
        "              metrics=['accuracy'])\n",
        "\n",
        "model.summary()\n",
        "\n",
        "history = model.fit(xTrain, \n",
        "                    yTrain, \n",
        "                    epochs=epochs,\n",
        "                    batch_size=512,\n",
        "                    validation_data=(xTest, yTest))\n",
        "\n",
        "plt.plot(history.history['accuracy'], \n",
        "         label='Доля верных ответов на обучающем наборе')\n",
        "plt.plot(history.history['val_accuracy'], \n",
        "         label='Доля верных ответов на проверочном наборе')\n",
        "plt.xlabel('Эпоха обучения')\n",
        "plt.ylabel('Доля верных ответов')\n",
        "plt.legend()\n",
        "plt.show()\n",
        "\n",
        "pred = recognizeMultiClass(model, xTest6Classes, name)"
      ],
      "execution_count": null,
      "outputs": [
        {
          "output_type": "stream",
          "text": [
            "Model: \"sequential_3\"\n",
            "_________________________________________________________________\n",
            "Layer (type)                 Output Shape              Param #   \n",
            "=================================================================\n",
            "embedding_3 (Embedding)      (None, 1000, 16)          320000    \n",
            "_________________________________________________________________\n",
            "spatial_dropout1d_3 (Spatial (None, 1000, 16)          0         \n",
            "_________________________________________________________________\n",
            "batch_normalization_4 (Batch (None, 1000, 16)          64        \n",
            "_________________________________________________________________\n",
            "conv1d_2 (Conv1D)            (None, 996, 20)           1620      \n",
            "_________________________________________________________________\n",
            "max_pooling1d_2 (MaxPooling1 (None, 498, 20)           0         \n",
            "_________________________________________________________________\n",
            "conv1d_3 (Conv1D)            (None, 494, 20)           2020      \n",
            "_________________________________________________________________\n",
            "max_pooling1d_3 (MaxPooling1 (None, 247, 20)           0         \n",
            "_________________________________________________________________\n",
            "dropout_1 (Dropout)          (None, 247, 20)           0         \n",
            "_________________________________________________________________\n",
            "batch_normalization_5 (Batch (None, 247, 20)           80        \n",
            "_________________________________________________________________\n",
            "flatten_1 (Flatten)          (None, 4940)              0         \n",
            "_________________________________________________________________\n",
            "dense_3 (Dense)              (None, 6)                 29646     \n",
            "=================================================================\n",
            "Total params: 353,430\n",
            "Trainable params: 353,358\n",
            "Non-trainable params: 72\n",
            "_________________________________________________________________\n",
            "Epoch 1/20\n",
            "35/35 [==============================] - 2s 61ms/step - loss: 1.5218 - accuracy: 0.4540 - val_loss: 2.2563 - val_accuracy: 0.2322\n",
            "Epoch 2/20\n",
            "35/35 [==============================] - 2s 56ms/step - loss: 0.2507 - accuracy: 0.9153 - val_loss: 3.8675 - val_accuracy: 0.0781\n",
            "Epoch 3/20\n",
            "35/35 [==============================] - 2s 53ms/step - loss: 0.0224 - accuracy: 0.9960 - val_loss: 4.4564 - val_accuracy: 0.1972\n",
            "Epoch 4/20\n",
            "35/35 [==============================] - 2s 54ms/step - loss: 0.0054 - accuracy: 0.9993 - val_loss: 4.8216 - val_accuracy: 0.1972\n",
            "Epoch 5/20\n",
            "35/35 [==============================] - 2s 54ms/step - loss: 0.0026 - accuracy: 0.9994 - val_loss: 6.6279 - val_accuracy: 0.0781\n",
            "Epoch 6/20\n",
            "35/35 [==============================] - 2s 53ms/step - loss: 0.0021 - accuracy: 0.9994 - val_loss: 5.8159 - val_accuracy: 0.1611\n",
            "Epoch 7/20\n",
            "35/35 [==============================] - 2s 55ms/step - loss: 9.4310e-04 - accuracy: 0.9998 - val_loss: 5.7469 - val_accuracy: 0.1972\n",
            "Epoch 8/20\n",
            "35/35 [==============================] - 2s 53ms/step - loss: 0.0011 - accuracy: 0.9997 - val_loss: 5.0732 - val_accuracy: 0.2147\n",
            "Epoch 9/20\n",
            "35/35 [==============================] - 2s 54ms/step - loss: 6.6640e-04 - accuracy: 0.9998 - val_loss: 6.8897 - val_accuracy: 0.1974\n",
            "Epoch 10/20\n",
            "35/35 [==============================] - 2s 55ms/step - loss: 0.0022 - accuracy: 0.9992 - val_loss: 6.5522 - val_accuracy: 0.2163\n",
            "Epoch 11/20\n",
            "35/35 [==============================] - 2s 54ms/step - loss: 9.2784e-04 - accuracy: 0.9997 - val_loss: 8.7837 - val_accuracy: 0.1972\n",
            "Epoch 12/20\n",
            "35/35 [==============================] - 2s 55ms/step - loss: 5.6183e-04 - accuracy: 0.9999 - val_loss: 6.1350 - val_accuracy: 0.2419\n",
            "Epoch 13/20\n",
            "35/35 [==============================] - 2s 54ms/step - loss: 0.0022 - accuracy: 0.9993 - val_loss: 4.8139 - val_accuracy: 0.3280\n",
            "Epoch 14/20\n",
            "35/35 [==============================] - 2s 54ms/step - loss: 0.0014 - accuracy: 0.9996 - val_loss: 3.4966 - val_accuracy: 0.4614\n",
            "Epoch 15/20\n",
            "35/35 [==============================] - 2s 54ms/step - loss: 4.9601e-04 - accuracy: 0.9998 - val_loss: 2.4227 - val_accuracy: 0.5196\n",
            "Epoch 16/20\n",
            "35/35 [==============================] - 2s 55ms/step - loss: 0.0018 - accuracy: 0.9993 - val_loss: 1.5543 - val_accuracy: 0.6410\n",
            "Epoch 17/20\n",
            "35/35 [==============================] - 2s 53ms/step - loss: 9.5138e-04 - accuracy: 0.9997 - val_loss: 3.5495 - val_accuracy: 0.4694\n",
            "Epoch 18/20\n",
            "35/35 [==============================] - 2s 54ms/step - loss: 6.9817e-04 - accuracy: 0.9997 - val_loss: 2.4606 - val_accuracy: 0.5246\n",
            "Epoch 19/20\n",
            "35/35 [==============================] - 2s 56ms/step - loss: 0.0011 - accuracy: 0.9997 - val_loss: 4.2049 - val_accuracy: 0.4213\n",
            "Epoch 20/20\n",
            "35/35 [==============================] - 2s 54ms/step - loss: 8.1711e-05 - accuracy: 1.0000 - val_loss: 1.5785 - val_accuracy: 0.6649\n"
          ],
          "name": "stdout"
        },
        {
          "output_type": "display_data",
          "data": {
            "image/png": "[encoded data removed]",
            "text/plain": [
              "<Figure size 432x288 with 1 Axes>"
            ]
          },
          "metadata": {
            "tags": [],
            "needs_background": "light"
          }
        },
        {
          "output_type": "stream",
          "text": [
            "НЕЙРОНКА:  Embedding + Conv1D\n",
            "\n",
            "О. Генри  распознано  46 % сеть считает, что это  О. Генри ,  распознано ВЕРНО!\n",
            "Стругацкие  распознано  95 % сеть считает, что это  Стругацкие ,  распознано ВЕРНО!\n",
            "Булгаков  распознано  53 % сеть считает, что это  Булгаков ,  распознано ВЕРНО!\n",
            "Саймак  распознано  53 % сеть считает, что это  Саймак ,  распознано ВЕРНО!\n",
            "Фрай  распознано  71 % сеть считает, что это  Фрай ,  распознано ВЕРНО!\n",
            "Брэдберри  распознано  61 % сеть считает, что это  Брэдберри ,  распознано ВЕРНО!\n",
            "\n",
            "Средний процент распознавания  66 %\n",
            "\n"
          ],
          "name": "stdout"
        }
      ]
    },
    {
      "cell_type": "markdown",
      "metadata": {
        "id": "JbStHG-Fr0d8",
        "colab_type": "text"
      },
      "source": [
        "### Embedding + сложная сеть из Dense, LSTM и Conv1D."
      ]
    },
    {
      "cell_type": "code",
      "metadata": {
        "id": "-WM3z9gVhGtD",
        "colab_type": "code",
        "colab": {
          "base_uri": "https://localhost:8080/",
          "height": 1000
        },
        "outputId": "37054656-a496-4257-f6b5-89073c3094a3"
      },
      "source": [
        "epochs = 20\n",
        "name = \"Embedding + Dense + LSTM + Conv1D\"\n",
        "\n",
        "model = Sequential() \n",
        "model.add(Embedding(maxWordsCount, 16, input_length=xLen))\n",
        "model.add(SpatialDropout1D(0.2)) \n",
        "model.add(BatchNormalization())\n",
        "\n",
        "model.add(SpatialDropout1D(0.2)) \n",
        "model.add(LSTM(4, return_sequences=1)) \n",
        "model.add(Dropout(0.2)) \n",
        "model.add(BatchNormalization()) \n",
        "\n",
        "model.add(Conv1D(20, 5, activation=\"relu\")) \n",
        "model.add(Conv1D(20, 5, activation=\"relu\")) \n",
        "model.add(MaxPooling1D(2)) \n",
        "model.add(Dropout(0.2)) \n",
        "model.add(BatchNormalization()) \n",
        "model.add(Flatten())\n",
        "\n",
        "model.add(Dense(128, activation='relu'))\n",
        "model.add(BatchNormalization()) \n",
        "model.add(Dropout(0.2)) \n",
        "\n",
        "model.add(Dense(6, activation='softmax'))\n",
        "\n",
        "model.compile(optimizer='rmsprop', \n",
        "              loss='categorical_crossentropy', \n",
        "              metrics=['accuracy'])\n",
        "\n",
        "model.summary()\n",
        "\n",
        "history = model.fit(xTrain, \n",
        "                    yTrain, \n",
        "                    epochs=epochs,\n",
        "                    batch_size=512,\n",
        "                    validation_data=(xTest, yTest))\n",
        "\n",
        "plt.plot(history.history['accuracy'], \n",
        "         label='Доля верных ответов на обучающем наборе')\n",
        "plt.plot(history.history['val_accuracy'], \n",
        "         label='Доля верных ответов на проверочном наборе')\n",
        "plt.xlabel('Эпоха обучения')\n",
        "plt.ylabel('Доля верных ответов')\n",
        "plt.legend()\n",
        "plt.show()\n",
        "\n",
        "pred = recognizeMultiClass(model, xTest6Classes, name)"
      ],
      "execution_count": null,
      "outputs": [
        {
          "output_type": "stream",
          "text": [
            "Model: \"sequential_5\"\n",
            "_________________________________________________________________\n",
            "Layer (type)                 Output Shape              Param #   \n",
            "=================================================================\n",
            "embedding_5 (Embedding)      (None, 1000, 16)          320000    \n",
            "_________________________________________________________________\n",
            "spatial_dropout1d_6 (Spatial (None, 1000, 16)          0         \n",
            "_________________________________________________________________\n",
            "batch_normalization_10 (Batc (None, 1000, 16)          64        \n",
            "_________________________________________________________________\n",
            "spatial_dropout1d_7 (Spatial (None, 1000, 16)          0         \n",
            "_________________________________________________________________\n",
            "lstm_3 (LSTM)                (None, 1000, 4)           336       \n",
            "_________________________________________________________________\n",
            "dropout_5 (Dropout)          (None, 1000, 4)           0         \n",
            "_________________________________________________________________\n",
            "batch_normalization_11 (Batc (None, 1000, 4)           16        \n",
            "_________________________________________________________________\n",
            "conv1d_6 (Conv1D)            (None, 996, 20)           420       \n",
            "_________________________________________________________________\n",
            "conv1d_7 (Conv1D)            (None, 992, 20)           2020      \n",
            "_________________________________________________________________\n",
            "max_pooling1d_5 (MaxPooling1 (None, 496, 20)           0         \n",
            "_________________________________________________________________\n",
            "dropout_6 (Dropout)          (None, 496, 20)           0         \n",
            "_________________________________________________________________\n",
            "batch_normalization_12 (Batc (None, 496, 20)           80        \n",
            "_________________________________________________________________\n",
            "flatten_4 (Flatten)          (None, 9920)              0         \n",
            "_________________________________________________________________\n",
            "flatten_5 (Flatten)          (None, 9920)              0         \n",
            "_________________________________________________________________\n",
            "dense_6 (Dense)              (None, 128)               1269888   \n",
            "_________________________________________________________________\n",
            "batch_normalization_13 (Batc (None, 128)               512       \n",
            "_________________________________________________________________\n",
            "dropout_7 (Dropout)          (None, 128)               0         \n",
            "_________________________________________________________________\n",
            "dense_7 (Dense)              (None, 6)                 774       \n",
            "=================================================================\n",
            "Total params: 1,594,110\n",
            "Trainable params: 1,593,774\n",
            "Non-trainable params: 336\n",
            "_________________________________________________________________\n",
            "Epoch 1/20\n",
            "35/35 [==============================] - 4s 109ms/step - loss: 1.7604 - accuracy: 0.4171 - val_loss: 1.8457 - val_accuracy: 0.1611\n",
            "Epoch 2/20\n",
            "35/35 [==============================] - 3s 96ms/step - loss: 0.4923 - accuracy: 0.8190 - val_loss: 2.0002 - val_accuracy: 0.1611\n",
            "Epoch 3/20\n",
            "35/35 [==============================] - 3s 96ms/step - loss: 0.0958 - accuracy: 0.9716 - val_loss: 2.5365 - val_accuracy: 0.1939\n",
            "Epoch 4/20\n",
            "35/35 [==============================] - 3s 96ms/step - loss: 0.0333 - accuracy: 0.9917 - val_loss: 3.5172 - val_accuracy: 0.1611\n",
            "Epoch 5/20\n",
            "35/35 [==============================] - 3s 98ms/step - loss: 0.0177 - accuracy: 0.9953 - val_loss: 5.7388 - val_accuracy: 0.1611\n",
            "Epoch 6/20\n",
            "35/35 [==============================] - 3s 96ms/step - loss: 0.0136 - accuracy: 0.9961 - val_loss: 7.2633 - val_accuracy: 0.1611\n",
            "Epoch 7/20\n",
            "35/35 [==============================] - 3s 97ms/step - loss: 0.0083 - accuracy: 0.9978 - val_loss: 4.0744 - val_accuracy: 0.3846\n",
            "Epoch 8/20\n",
            "35/35 [==============================] - 3s 97ms/step - loss: 0.0090 - accuracy: 0.9972 - val_loss: 6.4458 - val_accuracy: 0.1679\n",
            "Epoch 9/20\n",
            "35/35 [==============================] - 3s 96ms/step - loss: 0.0072 - accuracy: 0.9979 - val_loss: 5.5231 - val_accuracy: 0.3566\n",
            "Epoch 10/20\n",
            "35/35 [==============================] - 3s 99ms/step - loss: 0.0083 - accuracy: 0.9978 - val_loss: 5.2468 - val_accuracy: 0.2743\n",
            "Epoch 11/20\n",
            "35/35 [==============================] - 3s 96ms/step - loss: 0.0061 - accuracy: 0.9980 - val_loss: 5.3179 - val_accuracy: 0.3528\n",
            "Epoch 12/20\n",
            "35/35 [==============================] - 3s 97ms/step - loss: 0.0056 - accuracy: 0.9986 - val_loss: 3.4045 - val_accuracy: 0.3835\n",
            "Epoch 13/20\n",
            "35/35 [==============================] - 3s 97ms/step - loss: 0.0055 - accuracy: 0.9984 - val_loss: 2.7668 - val_accuracy: 0.4591\n",
            "Epoch 14/20\n",
            "35/35 [==============================] - 3s 96ms/step - loss: 0.0038 - accuracy: 0.9989 - val_loss: 3.4927 - val_accuracy: 0.4276\n",
            "Epoch 15/20\n",
            "35/35 [==============================] - 3s 99ms/step - loss: 0.0062 - accuracy: 0.9979 - val_loss: 3.2424 - val_accuracy: 0.4406\n",
            "Epoch 16/20\n",
            "35/35 [==============================] - 3s 97ms/step - loss: 0.0059 - accuracy: 0.9986 - val_loss: 1.9433 - val_accuracy: 0.5666\n",
            "Epoch 17/20\n",
            "35/35 [==============================] - 3s 97ms/step - loss: 0.0054 - accuracy: 0.9985 - val_loss: 2.2805 - val_accuracy: 0.5422\n",
            "Epoch 18/20\n",
            "35/35 [==============================] - 3s 97ms/step - loss: 0.0033 - accuracy: 0.9989 - val_loss: 2.8196 - val_accuracy: 0.5017\n",
            "Epoch 19/20\n",
            "35/35 [==============================] - 3s 97ms/step - loss: 0.0029 - accuracy: 0.9989 - val_loss: 3.2947 - val_accuracy: 0.4564\n",
            "Epoch 20/20\n",
            "35/35 [==============================] - 3s 97ms/step - loss: 0.0044 - accuracy: 0.9986 - val_loss: 1.3898 - val_accuracy: 0.6970\n"
          ],
          "name": "stdout"
        },
        {
          "output_type": "display_data",
          "data": {
            "image/png": "[encoded data removed]",
            "text/plain": [
              "<Figure size 432x288 with 1 Axes>"
            ]
          },
          "metadata": {
            "tags": [],
            "needs_background": "light"
          }
        },
        {
          "output_type": "stream",
          "text": [
            "НЕЙРОНКА:  Embedding + Dense + LSTM + Conv1D\n",
            "\n",
            "О. Генри  распознано  47 % сеть считает, что это  О. Генри ,  распознано ВЕРНО!\n",
            "Стругацкие  распознано  78 % сеть считает, что это  Стругацкие ,  распознано ВЕРНО!\n",
            "Булгаков  распознано  65 % сеть считает, что это  Булгаков ,  распознано ВЕРНО!\n",
            "Саймак  распознано  54 % сеть считает, что это  Саймак ,  распознано ВЕРНО!\n",
            "Фрай  распознано  76 % сеть считает, что это  Фрай ,  распознано ВЕРНО!\n",
            "Брэдберри  распознано  70 % сеть считает, что это  Брэдберри ,  распознано ВЕРНО!\n",
            "\n",
            "Средний процент распознавания  69 %\n",
            "\n"
          ],
          "name": "stdout"
        }
      ]
    },
    {
      "cell_type": "markdown",
      "metadata": {
        "id": "QctEEC2Lyjkv",
        "colab_type": "text"
      },
      "source": [
        "## PRO"
      ]
    },
    {
      "cell_type": "markdown",
      "metadata": {
        "id": "dUzVb1K9yppl",
        "colab_type": "text"
      },
      "source": [
        "### Вариант1\n",
        "\n",
        "Напишите классификацию заболеваний по базе симптомов, используя любые подходы, связанные с обработкой текстов.\n",
        "- Embedding + LSTM сеть.\n",
        "- Embedding + Conv1D сеть.\n",
        "- Embedding + сложная сеть из Dense, LSTM и Conv1D.\n",
        "\n",
        "Добейтесь максимальной точности распознавания.\n",
        "Используйте xLen = 50.\n"
      ]
    },
    {
      "cell_type": "code",
      "metadata": {
        "id": "uLmlIGIFxMew",
        "colab_type": "code",
        "colab": {
          "base_uri": "https://localhost:8080/",
          "height": 204
        },
        "outputId": "79837cee-d99a-45b9-bde9-cca02fbbba39"
      },
      "source": [
        "!wget https://xland.ru/uai/hw04/diseases.zip"
      ],
      "execution_count": null,
      "outputs": [
        {
          "output_type": "stream",
          "text": [
            "--2020-08-27 14:18:47--  https://xland.ru/uai/hw04/diseases.zip\n",
            "Resolving xland.ru (xland.ru)... 198.211.125.59\n",
            "Connecting to xland.ru (xland.ru)|198.211.125.59|:443... connected.\n",
            "HTTP request sent, awaiting response... 200 OK\n",
            "Length: 32902 (32K) [application/zip]\n",
            "Saving to: ‘diseases.zip’\n",
            "\n",
            "diseases.zip        100%[===================>]  32.13K  --.-KB/s    in 0s      \n",
            "\n",
            "2020-08-27 14:18:48 (257 MB/s) - ‘diseases.zip’ saved [32902/32902]\n",
            "\n"
          ],
          "name": "stdout"
        }
      ]
    },
    {
      "cell_type": "code",
      "metadata": {
        "id": "5STmtRHyuwT6",
        "colab_type": "code",
        "colab": {
          "base_uri": "https://localhost:8080/",
          "height": 221
        },
        "outputId": "c3ee2868-506a-4488-d2c0-f32a94785829"
      },
      "source": [
        "!unzip diseases"
      ],
      "execution_count": null,
      "outputs": [
        {
          "output_type": "stream",
          "text": [
            "Archive:  diseases.zip\n",
            "   creating: diseases/\n",
            "  inflating: diseases/Аппендицит.txt  \n",
            "  inflating: diseases/Гастрит.txt  \n",
            "  inflating: diseases/Гепатит.txt  \n",
            "  inflating: diseases/Дуоденит.txt  \n",
            "  inflating: diseases/Колит.txt  \n",
            "  inflating: diseases/Панкреатит.txt  \n",
            "  inflating: diseases/Холицестит.txt  \n",
            "  inflating: diseases/Эзофагит.txt  \n",
            "  inflating: diseases/Энтерит.txt  \n",
            "  inflating: diseases/Язва.txt   \n"
          ],
          "name": "stdout"
        }
      ]
    },
    {
      "cell_type": "code",
      "metadata": {
        "id": "1KRxmHNGroMW",
        "colab_type": "code",
        "colab": {
          "base_uri": "https://localhost:8080/",
          "height": 187
        },
        "outputId": "61003e1c-930b-4c67-eccf-bedb52db0d68"
      },
      "source": [
        "diseases = []\n",
        "for i in os.listdir('diseases'):\n",
        "  diseases.append(i[:-4])\n",
        "diseases"
      ],
      "execution_count": null,
      "outputs": [
        {
          "output_type": "execute_result",
          "data": {
            "text/plain": [
              "['Дуоденит',\n",
              " 'Энтерит',\n",
              " 'Панкреатит',\n",
              " 'Аппендицит',\n",
              " 'Гепатит',\n",
              " 'Колит',\n",
              " 'Эзофагит',\n",
              " 'Язва',\n",
              " 'Гастрит',\n",
              " 'Холицестит']"
            ]
          },
          "metadata": {
            "tags": []
          },
          "execution_count": 33
        }
      ]
    },
    {
      "cell_type": "code",
      "metadata": {
        "id": "BwfCkKrcrobM",
        "colab_type": "code",
        "colab": {}
      },
      "source": [
        "# эта функция берет содержимое указанного файла и разбивает его на фрагменты.\n",
        "# В качестве разделителя фрагментов используется пустая строка. \n",
        "def splitFile(fileName): # Объявляем функции для чтения файла. На вход отправляем путь к файлу\n",
        "  f = open(fileName, 'r')        # Задаем открытие нужного файла в режиме чтения\n",
        "  text = f.read()                # Читаем текст\n",
        "  text = text.replace(\"\\n\\n\", \"$\") # Пустые строки помечаем как разделители фрагментов\n",
        "  text = text.replace(\"\\n\", \" \") # Переводы строк заменяем на пробелы\n",
        "  return text.split('$')                    # Возвращаем список фрагментов\n",
        "\n",
        "def readText(fileName): # Объявляем функции для чтения файла. На вход отправляем путь к файлу\n",
        "  f = open(fileName, 'r')        # Задаем открытие нужного файла в режиме чтения\n",
        "  text = f.read()                # Читаем текст\n",
        "  text = text.replace(\"\\n\", \" \") # Переносы строки переводим в пробелы\n",
        "  return text  "
      ],
      "execution_count": null,
      "outputs": []
    },
    {
      "cell_type": "code",
      "metadata": {
        "id": "pz8uqqq8royI",
        "colab_type": "code",
        "colab": {
          "base_uri": "https://localhost:8080/",
          "height": 51
        },
        "outputId": "d2c75a9b-6faa-48d8-924d-ae6b26a8d9eb"
      },
      "source": [
        "# Извлекаем данные из файлов в 2 списка\n",
        "data = [] # категория + текст\n",
        "texts = [] # только тексты\n",
        "for i, name in enumerate(diseases):\n",
        "  fname = f'diseases/{name}.txt'\n",
        "  texts.append(readText(fname))\n",
        "  symptoms = splitFile(fname)\n",
        "  for symptom in symptoms:\n",
        "    if len(symptom) > 0:\n",
        "      data.append([i, symptom])\n",
        "print(len(data))\n",
        "nClasses = len(diseases)\n",
        "nClasses"
      ],
      "execution_count": null,
      "outputs": [
        {
          "output_type": "stream",
          "text": [
            "254\n"
          ],
          "name": "stdout"
        },
        {
          "output_type": "execute_result",
          "data": {
            "text/plain": [
              "10"
            ]
          },
          "metadata": {
            "tags": []
          },
          "execution_count": 36
        }
      ]
    },
    {
      "cell_type": "code",
      "metadata": {
        "id": "uK3x_6kqZkNv",
        "colab_type": "code",
        "colab": {}
      },
      "source": [
        "# Перемешаем данные перед разбиением на тренировочную и тестовую выборки\n",
        "random.shuffle(data)"
      ],
      "execution_count": null,
      "outputs": []
    },
    {
      "cell_type": "code",
      "metadata": {
        "id": "cnl-4u6wro7b",
        "colab_type": "code",
        "colab": {}
      },
      "source": [
        "# Токенезируем все тексты, составим словарь всех слов\n",
        "maxWordsCount = 2000 \n",
        "tokenizer = Tokenizer(num_words=maxWordsCount, filters='!\"#$%&()*+,-–—./…:;<=>?@[\\\\]^_`{|}~«»\\t\\n\\xa0\\ufeff', lower=True, split=' ', oov_token='unknown', char_level=False)\n",
        "tokenizer.fit_on_texts(texts) \n",
        "items = list(tokenizer.word_index.items())"
      ],
      "execution_count": null,
      "outputs": []
    },
    {
      "cell_type": "code",
      "metadata": {
        "id": "aItigFN2roqh",
        "colab_type": "code",
        "colab": {
          "base_uri": "https://localhost:8080/",
          "height": 34
        },
        "outputId": "1c65c3c6-6d50-46b7-a5a6-6c3d528fdea0"
      },
      "source": [
        "print(\"Размер словаря\", len(tokenizer.word_index.items()))"
      ],
      "execution_count": null,
      "outputs": [
        {
          "output_type": "stream",
          "text": [
            "Размер словаря 1981\n"
          ],
          "name": "stdout"
        }
      ]
    },
    {
      "cell_type": "code",
      "metadata": {
        "id": "3fCU2N6N08MX",
        "colab_type": "code",
        "colab": {}
      },
      "source": [
        "# Разделим данные на тренировочные и тестовые\n",
        "trainTexts = []\n",
        "trainClasses = []\n",
        "testTexts = []\n",
        "testClasses = []\n",
        "for i, item in enumerate(data):\n",
        "    if i < 0.8*len(data):\n",
        "        trainClasses.append(item[0])\n",
        "        trainTexts.append(item[1])\n",
        "    else:\n",
        "        testClasses.append(item[0])\n",
        "        testTexts.append(item[1])"
      ],
      "execution_count": null,
      "outputs": []
    },
    {
      "cell_type": "code",
      "metadata": {
        "id": "NybNrLCK08m8",
        "colab_type": "code",
        "colab": {
          "base_uri": "https://localhost:8080/",
          "height": 119
        },
        "outputId": "79a3984b-b0b9-4730-90e8-f8462b0683d3"
      },
      "source": [
        "# Преобразовываем тексты в последовательность индексов согласно частотному словарю\n",
        "trainTokens = tokenizer.texts_to_sequences(trainTexts) # Обучающие тесты в индексы\n",
        "testTokens = tokenizer.texts_to_sequences(testTexts)  # Проверочные тесты в индексы\n",
        "print(len(trainTokens))\n",
        "print(len(testTokens))\n",
        "print(\"Взглянем на фрагмент обучающего текста:\")\n",
        "print(\"В виде оригинального текста:              \", trainTexts[1][:87])\n",
        "print(\"Он же в виде последовательности индексов: \", trainTokens[1][:20], '\\n')\n"
      ],
      "execution_count": null,
      "outputs": [
        {
          "output_type": "stream",
          "text": [
            "204\n",
            "50\n",
            "Взглянем на фрагмент обучающего текста:\n",
            "В виде оригинального текста:               -Приступы протекают всегда одинаково, обычно начинаются поздно вечером: вначале тяжесть\n",
            "Он же в виде последовательности индексов:  [122, 1960, 538, 1961, 94, 1962, 1963, 802, 1964, 66, 2, 316, 3, 2, 40, 35, 345, 4, 134, 3] \n",
            "\n"
          ],
          "name": "stdout"
        }
      ]
    },
    {
      "cell_type": "code",
      "metadata": {
        "id": "jnL1htEF08vr",
        "colab_type": "code",
        "colab": {
          "base_uri": "https://localhost:8080/",
          "height": 265
        },
        "outputId": "c4eed656-e8fe-4a8e-e5e1-1fe02455c09c"
      },
      "source": [
        "# Посмотрим распределение по длине описания симптомов в выборках\n",
        "lens = [len(x) for x in trainTokens + testTokens]\n",
        "plt.hist(lens, 40)\n",
        "plt.show()"
      ],
      "execution_count": null,
      "outputs": [
        {
          "output_type": "display_data",
          "data": {
            "image/png": "[encoded data removed]",
            "text/plain": [
              "<Figure size 432x288 with 1 Axes>"
            ]
          },
          "metadata": {
            "tags": [],
            "needs_background": "light"
          }
        }
      ]
    },
    {
      "cell_type": "code",
      "metadata": {
        "id": "ue13FBZd08do",
        "colab_type": "code",
        "colab": {}
      },
      "source": [
        "# Нарезаем последовательность токенов на набор фрагментов длины xLen)\n",
        "def splitTokens(sequence, xLen, step): # функция принимает последовательность индексов, размер окна, шаг окна\n",
        "  xSample = [] # Объявляем переменную для векторов\n",
        "  wordsLen = len(sequence) # Считаем количество слов\n",
        "  if wordsLen <= xLen:\n",
        "      return [sequence]\n",
        "  index = 0 # Задаем начальный индекс \n",
        "  while (index + xLen <= wordsLen):# Идём по всей длине вектора индексов\n",
        "    xSample.append(sequence[index:index+xLen]) # \"Откусываем\" векторы длины xLen\n",
        "    index += step # Смещаеммся вперёд на step\n",
        "  return xSample\n",
        "\n",
        "# Формирование обучающей и проверочной выборки\n",
        "def createSamples(tokens, classes, xLen, step, nClasses): # Функция принимает последовательность индексов, размер окна, шаг окна\n",
        "    xSamples = []\n",
        "    ySamples = []\n",
        "    for i, index in enumerate(tokens):\n",
        "        cl = classes[i]\n",
        "        xs = splitTokens(index, xLen, step) # получили список окон из одного образца\n",
        "        xsp = pad_sequences(xs, maxlen=xLen) # дополним до длины xLen\n",
        "        for x in xsp:\n",
        "            # xSamples.append()\n",
        "            xSamples.append(x)\n",
        "            ySamples.append(utils.to_categorical(cl, nClasses))\n",
        "    return np.array(xSamples), np.array(ySamples) "
      ],
      "execution_count": null,
      "outputs": []
    },
    {
      "cell_type": "code",
      "metadata": {
        "id": "qUArdr1008aC",
        "colab_type": "code",
        "colab": {
          "base_uri": "https://localhost:8080/",
          "height": 102
        },
        "outputId": "398898c6-9c65-44bb-ca74-de28b339db45"
      },
      "source": [
        "xLen = 50\n",
        "step = 1\n",
        "cur_time = time.time() # Засекаем текущее время\n",
        "#Формируем обучающую и тестовую выборку\n",
        "xTrain, yTrain = createSamples(trainTokens, trainClasses, xLen, step, nClasses) #извлекаем обучающую выборку\n",
        "print(xTrain.shape)\n",
        "print(yTrain.shape)\n",
        "xTest, yTest = createSamples(testTokens, testClasses, xLen, step, nClasses)    #извлекаем тестовую выборку\n",
        "print(xTest.shape)\n",
        "print(yTest.shape)\n",
        "print('Время обработки: ', round(time.time() - cur_time, 2), 'c', sep='')"
      ],
      "execution_count": null,
      "outputs": [
        {
          "output_type": "stream",
          "text": [
            "(1454, 50)\n",
            "(1454, 10)\n",
            "(346, 50)\n",
            "(346, 10)\n",
            "Время обработки: 0.27c\n"
          ],
          "name": "stdout"
        }
      ]
    },
    {
      "cell_type": "code",
      "metadata": {
        "id": "sTtFkChG08Cb",
        "colab_type": "code",
        "colab": {
          "base_uri": "https://localhost:8080/",
          "height": 1000
        },
        "outputId": "34908477-6fe5-4f4d-c4c1-b4ffe67c31ab"
      },
      "source": [
        "random.seed(1)\n",
        "np.random.seed(1)\n",
        "tf.random.set_seed(1)\n",
        "\n",
        "epochs = 50\n",
        "name = \"Embedding + LSTM\"\n",
        "\n",
        "model = Sequential() \n",
        "model.add(Embedding(maxWordsCount, 16, input_length=xLen))\n",
        "model.add(SpatialDropout1D(0.2)) \n",
        "model.add(BatchNormalization())\n",
        "\n",
        "model.add(LSTM(64, dropout=0.2))\n",
        "model.add(BatchNormalization())\n",
        "\n",
        "model.add(Dense(nClasses, activation='softmax'))\n",
        "\n",
        "model.compile(optimizer='rmsprop', \n",
        "              loss='categorical_crossentropy', \n",
        "              metrics=['accuracy'])\n",
        "\n",
        "model.summary()\n",
        "\n",
        "# Создаем коллбэк для запоминания лучшей модели\n",
        "model_save_path = 'best_model1.h5'\n",
        "checkpoint_callback = ModelCheckpoint(model_save_path, \n",
        "                                      monitor='val_accuracy',\n",
        "                                      save_best_only=True,\n",
        "                                      verbose=1)\n",
        "history = model.fit(xTrain, \n",
        "                    yTrain, \n",
        "                    epochs=epochs,\n",
        "                    batch_size=16,\n",
        "                    callbacks=[checkpoint_callback],\n",
        "                    validation_data=(xTest, yTest))\n",
        "\n",
        "plt.plot(history.history['accuracy'], \n",
        "         label='Доля верных ответов на обучающем наборе')\n",
        "plt.plot(history.history['val_accuracy'], \n",
        "         label='Доля верных ответов на проверочном наборе')\n",
        "plt.xlabel('Эпоха обучения')\n",
        "plt.ylabel('Доля верных ответов')\n",
        "plt.legend()\n",
        "plt.show()"
      ],
      "execution_count": null,
      "outputs": [
        {
          "output_type": "stream",
          "text": [
            "Model: \"sequential_6\"\n",
            "_________________________________________________________________\n",
            "Layer (type)                 Output Shape              Param #   \n",
            "=================================================================\n",
            "embedding_6 (Embedding)      (None, 50, 16)            32000     \n",
            "_________________________________________________________________\n",
            "spatial_dropout1d_6 (Spatial (None, 50, 16)            0         \n",
            "_________________________________________________________________\n",
            "batch_normalization_12 (Batc (None, 50, 16)            64        \n",
            "_________________________________________________________________\n",
            "lstm_2 (LSTM)                (None, 64)                20736     \n",
            "_________________________________________________________________\n",
            "batch_normalization_13 (Batc (None, 64)                256       \n",
            "_________________________________________________________________\n",
            "dense_6 (Dense)              (None, 10)                650       \n",
            "=================================================================\n",
            "Total params: 53,706\n",
            "Trainable params: 53,546\n",
            "Non-trainable params: 160\n",
            "_________________________________________________________________\n",
            "Epoch 1/50\n",
            "84/91 [==========================>...] - ETA: 0s - loss: 1.2101 - accuracy: 0.6220\n",
            "Epoch 00001: val_accuracy improved from -inf to 0.02023, saving model to best_model1.h5\n",
            "91/91 [==============================] - 1s 12ms/step - loss: 1.1734 - accuracy: 0.6362 - val_loss: 2.2273 - val_accuracy: 0.0202\n",
            "Epoch 2/50\n",
            "90/91 [============================>.] - ETA: 0s - loss: 0.3902 - accuracy: 0.8847\n",
            "Epoch 00002: val_accuracy improved from 0.02023 to 0.40462, saving model to best_model1.h5\n",
            "91/91 [==============================] - 1s 8ms/step - loss: 0.3955 - accuracy: 0.8845 - val_loss: 2.0330 - val_accuracy: 0.4046\n",
            "Epoch 3/50\n",
            "86/91 [===========================>..] - ETA: 0s - loss: 0.2670 - accuracy: 0.9179\n",
            "Epoch 00003: val_accuracy improved from 0.40462 to 0.58671, saving model to best_model1.h5\n",
            "91/91 [==============================] - 1s 8ms/step - loss: 0.2657 - accuracy: 0.9175 - val_loss: 1.4791 - val_accuracy: 0.5867\n",
            "Epoch 4/50\n",
            "86/91 [===========================>..] - ETA: 0s - loss: 0.2520 - accuracy: 0.9179\n",
            "Epoch 00004: val_accuracy improved from 0.58671 to 0.68786, saving model to best_model1.h5\n",
            "91/91 [==============================] - 1s 8ms/step - loss: 0.2527 - accuracy: 0.9175 - val_loss: 1.2444 - val_accuracy: 0.6879\n",
            "Epoch 5/50\n",
            "87/91 [===========================>..] - ETA: 0s - loss: 0.2080 - accuracy: 0.9411\n",
            "Epoch 00005: val_accuracy did not improve from 0.68786\n",
            "91/91 [==============================] - 1s 8ms/step - loss: 0.2044 - accuracy: 0.9415 - val_loss: 1.1893 - val_accuracy: 0.6214\n",
            "Epoch 6/50\n",
            "84/91 [==========================>...] - ETA: 0s - loss: 0.1624 - accuracy: 0.9487\n",
            "Epoch 00006: val_accuracy did not improve from 0.68786\n",
            "91/91 [==============================] - 1s 8ms/step - loss: 0.1657 - accuracy: 0.9484 - val_loss: 1.1751 - val_accuracy: 0.5838\n",
            "Epoch 7/50\n",
            "86/91 [===========================>..] - ETA: 0s - loss: 0.1326 - accuracy: 0.9586\n",
            "Epoch 00007: val_accuracy improved from 0.68786 to 0.71387, saving model to best_model1.h5\n",
            "91/91 [==============================] - 1s 8ms/step - loss: 0.1305 - accuracy: 0.9601 - val_loss: 1.2900 - val_accuracy: 0.7139\n",
            "Epoch 8/50\n",
            "87/91 [===========================>..] - ETA: 0s - loss: 0.1367 - accuracy: 0.9612\n",
            "Epoch 00008: val_accuracy did not improve from 0.71387\n",
            "91/91 [==============================] - 1s 8ms/step - loss: 0.1421 - accuracy: 0.9601 - val_loss: 1.2308 - val_accuracy: 0.6821\n",
            "Epoch 9/50\n",
            "91/91 [==============================] - ETA: 0s - loss: 0.1265 - accuracy: 0.9615\n",
            "Epoch 00009: val_accuracy did not improve from 0.71387\n",
            "91/91 [==============================] - 1s 8ms/step - loss: 0.1265 - accuracy: 0.9615 - val_loss: 1.3785 - val_accuracy: 0.6272\n",
            "Epoch 10/50\n",
            "91/91 [==============================] - ETA: 0s - loss: 0.0842 - accuracy: 0.9766\n",
            "Epoch 00010: val_accuracy did not improve from 0.71387\n",
            "91/91 [==============================] - 1s 8ms/step - loss: 0.0842 - accuracy: 0.9766 - val_loss: 1.0508 - val_accuracy: 0.6936\n",
            "Epoch 11/50\n",
            "86/91 [===========================>..] - ETA: 0s - loss: 0.1194 - accuracy: 0.9629\n",
            "Epoch 00011: val_accuracy did not improve from 0.71387\n",
            "91/91 [==============================] - 1s 8ms/step - loss: 0.1170 - accuracy: 0.9635 - val_loss: 1.5153 - val_accuracy: 0.6908\n",
            "Epoch 12/50\n",
            "91/91 [==============================] - ETA: 0s - loss: 0.0906 - accuracy: 0.9732\n",
            "Epoch 00012: val_accuracy did not improve from 0.71387\n",
            "91/91 [==============================] - 1s 8ms/step - loss: 0.0906 - accuracy: 0.9732 - val_loss: 2.1499 - val_accuracy: 0.6445\n",
            "Epoch 13/50\n",
            "91/91 [==============================] - ETA: 0s - loss: 0.0962 - accuracy: 0.9697\n",
            "Epoch 00013: val_accuracy did not improve from 0.71387\n",
            "91/91 [==============================] - 1s 8ms/step - loss: 0.0962 - accuracy: 0.9697 - val_loss: 1.9611 - val_accuracy: 0.6474\n",
            "Epoch 14/50\n",
            "88/91 [============================>.] - ETA: 0s - loss: 0.0820 - accuracy: 0.9773\n",
            "Epoch 00014: val_accuracy did not improve from 0.71387\n",
            "91/91 [==============================] - 1s 9ms/step - loss: 0.0822 - accuracy: 0.9766 - val_loss: 1.5345 - val_accuracy: 0.6676\n",
            "Epoch 15/50\n",
            "91/91 [==============================] - ETA: 0s - loss: 0.0704 - accuracy: 0.9807\n",
            "Epoch 00015: val_accuracy did not improve from 0.71387\n",
            "91/91 [==============================] - 1s 8ms/step - loss: 0.0704 - accuracy: 0.9807 - val_loss: 1.6608 - val_accuracy: 0.6445\n",
            "Epoch 16/50\n",
            "86/91 [===========================>..] - ETA: 0s - loss: 0.0939 - accuracy: 0.9760\n",
            "Epoch 00016: val_accuracy did not improve from 0.71387\n",
            "91/91 [==============================] - 1s 8ms/step - loss: 0.0936 - accuracy: 0.9766 - val_loss: 1.4673 - val_accuracy: 0.6965\n",
            "Epoch 17/50\n",
            "85/91 [===========================>..] - ETA: 0s - loss: 0.0682 - accuracy: 0.9816\n",
            "Epoch 00017: val_accuracy did not improve from 0.71387\n",
            "91/91 [==============================] - 1s 8ms/step - loss: 0.0702 - accuracy: 0.9807 - val_loss: 1.8275 - val_accuracy: 0.7052\n",
            "Epoch 18/50\n",
            "88/91 [============================>.] - ETA: 0s - loss: 0.0910 - accuracy: 0.9730\n",
            "Epoch 00018: val_accuracy did not improve from 0.71387\n",
            "91/91 [==============================] - 1s 8ms/step - loss: 0.0895 - accuracy: 0.9732 - val_loss: 1.7900 - val_accuracy: 0.6503\n",
            "Epoch 19/50\n",
            "91/91 [==============================] - ETA: 0s - loss: 0.0738 - accuracy: 0.9787\n",
            "Epoch 00019: val_accuracy did not improve from 0.71387\n",
            "91/91 [==============================] - 1s 8ms/step - loss: 0.0738 - accuracy: 0.9787 - val_loss: 1.9701 - val_accuracy: 0.5665\n",
            "Epoch 20/50\n",
            "84/91 [==========================>...] - ETA: 0s - loss: 0.0877 - accuracy: 0.9710\n",
            "Epoch 00020: val_accuracy did not improve from 0.71387\n",
            "91/91 [==============================] - 1s 8ms/step - loss: 0.0842 - accuracy: 0.9725 - val_loss: 1.8244 - val_accuracy: 0.6243\n",
            "Epoch 21/50\n",
            "87/91 [===========================>..] - ETA: 0s - loss: 0.0674 - accuracy: 0.9784\n",
            "Epoch 00021: val_accuracy did not improve from 0.71387\n",
            "91/91 [==============================] - 1s 8ms/step - loss: 0.0689 - accuracy: 0.9780 - val_loss: 1.7426 - val_accuracy: 0.6185\n",
            "Epoch 22/50\n",
            "87/91 [===========================>..] - ETA: 0s - loss: 0.0897 - accuracy: 0.9741\n",
            "Epoch 00022: val_accuracy did not improve from 0.71387\n",
            "91/91 [==============================] - 1s 8ms/step - loss: 0.0889 - accuracy: 0.9746 - val_loss: 2.4794 - val_accuracy: 0.5202\n",
            "Epoch 23/50\n",
            "91/91 [==============================] - ETA: 0s - loss: 0.0802 - accuracy: 0.9780\n",
            "Epoch 00023: val_accuracy did not improve from 0.71387\n",
            "91/91 [==============================] - 1s 8ms/step - loss: 0.0802 - accuracy: 0.9780 - val_loss: 1.9956 - val_accuracy: 0.5549\n",
            "Epoch 24/50\n",
            "91/91 [==============================] - ETA: 0s - loss: 0.0569 - accuracy: 0.9821\n",
            "Epoch 00024: val_accuracy did not improve from 0.71387\n",
            "91/91 [==============================] - 1s 8ms/step - loss: 0.0569 - accuracy: 0.9821 - val_loss: 1.7970 - val_accuracy: 0.6329\n",
            "Epoch 25/50\n",
            "84/91 [==========================>...] - ETA: 0s - loss: 0.0495 - accuracy: 0.9829\n",
            "Epoch 00025: val_accuracy did not improve from 0.71387\n",
            "91/91 [==============================] - 1s 8ms/step - loss: 0.0574 - accuracy: 0.9821 - val_loss: 1.7111 - val_accuracy: 0.6185\n",
            "Epoch 26/50\n",
            "90/91 [============================>.] - ETA: 0s - loss: 0.1165 - accuracy: 0.9757\n",
            "Epoch 00026: val_accuracy did not improve from 0.71387\n",
            "91/91 [==============================] - 1s 8ms/step - loss: 0.1155 - accuracy: 0.9759 - val_loss: 1.9893 - val_accuracy: 0.6272\n",
            "Epoch 27/50\n",
            "85/91 [===========================>..] - ETA: 0s - loss: 0.0560 - accuracy: 0.9816\n",
            "Epoch 00027: val_accuracy did not improve from 0.71387\n",
            "91/91 [==============================] - 1s 9ms/step - loss: 0.0535 - accuracy: 0.9821 - val_loss: 1.9629 - val_accuracy: 0.6156\n",
            "Epoch 28/50\n",
            "88/91 [============================>.] - ETA: 0s - loss: 0.0590 - accuracy: 0.9822\n",
            "Epoch 00028: val_accuracy did not improve from 0.71387\n",
            "91/91 [==============================] - 1s 8ms/step - loss: 0.0602 - accuracy: 0.9814 - val_loss: 2.1194 - val_accuracy: 0.5434\n",
            "Epoch 29/50\n",
            "88/91 [============================>.] - ETA: 0s - loss: 0.0683 - accuracy: 0.9837\n",
            "Epoch 00029: val_accuracy did not improve from 0.71387\n",
            "91/91 [==============================] - 1s 8ms/step - loss: 0.0673 - accuracy: 0.9842 - val_loss: 2.2602 - val_accuracy: 0.5983\n",
            "Epoch 30/50\n",
            "86/91 [===========================>..] - ETA: 0s - loss: 0.0726 - accuracy: 0.9847\n",
            "Epoch 00030: val_accuracy did not improve from 0.71387\n",
            "91/91 [==============================] - 1s 8ms/step - loss: 0.0690 - accuracy: 0.9856 - val_loss: 2.6922 - val_accuracy: 0.5202\n",
            "Epoch 31/50\n",
            "91/91 [==============================] - ETA: 0s - loss: 0.0638 - accuracy: 0.9842\n",
            "Epoch 00031: val_accuracy did not improve from 0.71387\n",
            "91/91 [==============================] - 1s 8ms/step - loss: 0.0638 - accuracy: 0.9842 - val_loss: 2.0740 - val_accuracy: 0.6416\n",
            "Epoch 32/50\n",
            "90/91 [============================>.] - ETA: 0s - loss: 0.0572 - accuracy: 0.9847\n",
            "Epoch 00032: val_accuracy did not improve from 0.71387\n",
            "91/91 [==============================] - 1s 8ms/step - loss: 0.0567 - accuracy: 0.9849 - val_loss: 2.7980 - val_accuracy: 0.5087\n",
            "Epoch 33/50\n",
            "91/91 [==============================] - ETA: 0s - loss: 0.0562 - accuracy: 0.9814\n",
            "Epoch 00033: val_accuracy did not improve from 0.71387\n",
            "91/91 [==============================] - 1s 8ms/step - loss: 0.0562 - accuracy: 0.9814 - val_loss: 2.5347 - val_accuracy: 0.5520\n",
            "Epoch 34/50\n",
            "87/91 [===========================>..] - ETA: 0s - loss: 0.0707 - accuracy: 0.9770\n",
            "Epoch 00034: val_accuracy did not improve from 0.71387\n",
            "91/91 [==============================] - 1s 8ms/step - loss: 0.0680 - accuracy: 0.9780 - val_loss: 1.9186 - val_accuracy: 0.6618\n",
            "Epoch 35/50\n",
            "91/91 [==============================] - ETA: 0s - loss: 0.0523 - accuracy: 0.9856\n",
            "Epoch 00035: val_accuracy did not improve from 0.71387\n",
            "91/91 [==============================] - 1s 8ms/step - loss: 0.0523 - accuracy: 0.9856 - val_loss: 2.0400 - val_accuracy: 0.6358\n",
            "Epoch 36/50\n",
            "89/91 [============================>.] - ETA: 0s - loss: 0.0490 - accuracy: 0.9874\n",
            "Epoch 00036: val_accuracy did not improve from 0.71387\n",
            "91/91 [==============================] - 1s 8ms/step - loss: 0.0492 - accuracy: 0.9869 - val_loss: 2.2808 - val_accuracy: 0.5925\n",
            "Epoch 37/50\n",
            "91/91 [==============================] - ETA: 0s - loss: 0.0635 - accuracy: 0.9828\n",
            "Epoch 00037: val_accuracy did not improve from 0.71387\n",
            "91/91 [==============================] - 1s 8ms/step - loss: 0.0635 - accuracy: 0.9828 - val_loss: 2.6664 - val_accuracy: 0.5549\n",
            "Epoch 38/50\n",
            "90/91 [============================>.] - ETA: 0s - loss: 0.0362 - accuracy: 0.9917\n",
            "Epoch 00038: val_accuracy did not improve from 0.71387\n",
            "91/91 [==============================] - 1s 8ms/step - loss: 0.0358 - accuracy: 0.9917 - val_loss: 2.8303 - val_accuracy: 0.5347\n",
            "Epoch 39/50\n",
            "86/91 [===========================>..] - ETA: 0s - loss: 0.0376 - accuracy: 0.9920\n",
            "Epoch 00039: val_accuracy did not improve from 0.71387\n",
            "91/91 [==============================] - 1s 9ms/step - loss: 0.0386 - accuracy: 0.9917 - val_loss: 2.3396 - val_accuracy: 0.5520\n",
            "Epoch 40/50\n",
            "90/91 [============================>.] - ETA: 0s - loss: 0.0590 - accuracy: 0.9889\n",
            "Epoch 00040: val_accuracy did not improve from 0.71387\n",
            "91/91 [==============================] - 1s 8ms/step - loss: 0.0586 - accuracy: 0.9890 - val_loss: 2.3647 - val_accuracy: 0.6243\n",
            "Epoch 41/50\n",
            "85/91 [===========================>..] - ETA: 0s - loss: 0.0443 - accuracy: 0.9860\n",
            "Epoch 00041: val_accuracy did not improve from 0.71387\n",
            "91/91 [==============================] - 1s 8ms/step - loss: 0.0456 - accuracy: 0.9856 - val_loss: 1.9349 - val_accuracy: 0.6618\n",
            "Epoch 42/50\n",
            "90/91 [============================>.] - ETA: 0s - loss: 0.0480 - accuracy: 0.9868\n",
            "Epoch 00042: val_accuracy did not improve from 0.71387\n",
            "91/91 [==============================] - 1s 8ms/step - loss: 0.0483 - accuracy: 0.9862 - val_loss: 2.4683 - val_accuracy: 0.5954\n",
            "Epoch 43/50\n",
            "89/91 [============================>.] - ETA: 0s - loss: 0.0647 - accuracy: 0.9831\n",
            "Epoch 00043: val_accuracy did not improve from 0.71387\n",
            "91/91 [==============================] - 1s 8ms/step - loss: 0.0636 - accuracy: 0.9835 - val_loss: 2.1261 - val_accuracy: 0.6734\n",
            "Epoch 44/50\n",
            "89/91 [============================>.] - ETA: 0s - loss: 0.0396 - accuracy: 0.9888\n",
            "Epoch 00044: val_accuracy did not improve from 0.71387\n",
            "91/91 [==============================] - 1s 8ms/step - loss: 0.0388 - accuracy: 0.9890 - val_loss: 2.1798 - val_accuracy: 0.6532\n",
            "Epoch 45/50\n",
            "91/91 [==============================] - ETA: 0s - loss: 0.0392 - accuracy: 0.9876\n",
            "Epoch 00045: val_accuracy did not improve from 0.71387\n",
            "91/91 [==============================] - 1s 8ms/step - loss: 0.0392 - accuracy: 0.9876 - val_loss: 2.4883 - val_accuracy: 0.6243\n",
            "Epoch 46/50\n",
            "91/91 [==============================] - ETA: 0s - loss: 0.0422 - accuracy: 0.9897\n",
            "Epoch 00046: val_accuracy did not improve from 0.71387\n",
            "91/91 [==============================] - 1s 8ms/step - loss: 0.0422 - accuracy: 0.9897 - val_loss: 2.4305 - val_accuracy: 0.6647\n",
            "Epoch 47/50\n",
            "90/91 [============================>.] - ETA: 0s - loss: 0.0325 - accuracy: 0.9931\n",
            "Epoch 00047: val_accuracy did not improve from 0.71387\n",
            "91/91 [==============================] - 1s 8ms/step - loss: 0.0336 - accuracy: 0.9924 - val_loss: 2.5949 - val_accuracy: 0.6156\n",
            "Epoch 48/50\n",
            "88/91 [============================>.] - ETA: 0s - loss: 0.0484 - accuracy: 0.9886\n",
            "Epoch 00048: val_accuracy did not improve from 0.71387\n",
            "91/91 [==============================] - 1s 8ms/step - loss: 0.0472 - accuracy: 0.9890 - val_loss: 2.5306 - val_accuracy: 0.6416\n",
            "Epoch 49/50\n",
            "90/91 [============================>.] - ETA: 0s - loss: 0.0437 - accuracy: 0.9889\n",
            "Epoch 00049: val_accuracy did not improve from 0.71387\n",
            "91/91 [==============================] - 1s 8ms/step - loss: 0.0433 - accuracy: 0.9890 - val_loss: 3.0839 - val_accuracy: 0.5751\n",
            "Epoch 50/50\n",
            "87/91 [===========================>..] - ETA: 0s - loss: 0.0398 - accuracy: 0.9899\n",
            "Epoch 00050: val_accuracy did not improve from 0.71387\n",
            "91/91 [==============================] - 1s 10ms/step - loss: 0.0420 - accuracy: 0.9897 - val_loss: 2.4238 - val_accuracy: 0.6445\n"
          ],
          "name": "stdout"
        },
        {
          "output_type": "display_data",
          "data": {
            "image/png": "[encoded data removed]",
            "text/plain": [
              "<Figure size 432x288 with 1 Axes>"
            ]
          },
          "metadata": {
            "tags": [],
            "needs_background": "light"
          }
        }
      ]
    },
    {
      "cell_type": "code",
      "metadata": {
        "id": "LcCdR2MRUxkl",
        "colab_type": "code",
        "colab": {}
      },
      "source": [
        "# Загружаем лучшие найденные веса\n",
        "model.load_weights('best_model1.h5')"
      ],
      "execution_count": null,
      "outputs": []
    },
    {
      "cell_type": "code",
      "metadata": {
        "id": "My_hchY7VBfi",
        "colab_type": "code",
        "colab": {
          "base_uri": "https://localhost:8080/",
          "height": 51
        },
        "outputId": "82f10fcc-0ac7-44ee-ad91-e307b92fcb6b"
      },
      "source": [
        "score = model.evaluate(xTest, yTest)\n",
        "score"
      ],
      "execution_count": null,
      "outputs": [
        {
          "output_type": "stream",
          "text": [
            "11/11 [==============================] - 0s 4ms/step - loss: 1.2900 - accuracy: 0.7139\n"
          ],
          "name": "stdout"
        },
        {
          "output_type": "execute_result",
          "data": {
            "text/plain": [
              "[1.2900301218032837, 0.7138728499412537]"
            ]
          },
          "metadata": {
            "tags": []
          },
          "execution_count": 54
        }
      ]
    },
    {
      "cell_type": "code",
      "metadata": {
        "id": "Adv2AshI9N3t",
        "colab_type": "code",
        "colab": {}
      },
      "source": [
        "def report(model, name):\n",
        "    count = 0 # счетчик верных диагнозов\n",
        "    N = len(testTokens)\n",
        "    for i, tokens in enumerate(testTokens):\n",
        "        cl = testClasses[i]\n",
        "        # делаем из симптома tokens нарезку окон длиной xLen\n",
        "        xSamples = splitTokens(tokens, xLen, step)\n",
        "        xTest = pad_sequences(xSamples, maxlen=xLen)\n",
        "        y = model.predict(xTest)\n",
        "        Y_avg = np.mean(y, axis=0)\n",
        "        cl_pred = np.argmax(Y_avg)\n",
        "        if cl == cl_pred:\n",
        "            count+= 1\n",
        "        print(i, diseases[cl], diseases[cl_pred], Y_avg[cl_pred], len(xSamples), 'ВЕРНО' if cl == cl_pred else 'НЕ ВЕРНО')\n",
        "    print(\"Модель: '%s' Точных диагнозов: %d/%d (%.1f%%)\" % (name, count, N, count*100./N))\n",
        "    \n",
        "    "
      ],
      "execution_count": null,
      "outputs": []
    },
    {
      "cell_type": "code",
      "metadata": {
        "id": "0p83YiXK2cfj",
        "colab_type": "code",
        "colab": {
          "base_uri": "https://localhost:8080/",
          "height": 884
        },
        "outputId": "dd5c4c0f-b4aa-441b-a40d-5c072083db7d"
      },
      "source": [
        "report(model, 'Embedding + LSTM')"
      ],
      "execution_count": null,
      "outputs": [
        {
          "output_type": "stream",
          "text": [
            "0 Панкреатит Панкреатит 0.8991945 1 ВЕРНО\n",
            "1 Колит Колит 0.9180993 1 ВЕРНО\n",
            "2 Гастрит Гастрит 0.8355233 40 ВЕРНО\n",
            "3 Эзофагит Эзофагит 0.84344935 6 ВЕРНО\n",
            "4 Гепатит Холицестит 0.85416436 1 НЕ ВЕРНО\n",
            "5 Панкреатит Гастрит 0.84407455 16 НЕ ВЕРНО\n",
            "6 Эзофагит Колит 0.3932415 1 НЕ ВЕРНО\n",
            "7 Холицестит Панкреатит 0.9812775 1 НЕ ВЕРНО\n",
            "8 Дуоденит Дуоденит 0.7692173 1 ВЕРНО\n",
            "9 Колит Колит 0.9377342 1 ВЕРНО\n",
            "10 Холицестит Эзофагит 0.6112295 1 НЕ ВЕРНО\n",
            "11 Дуоденит Гастрит 0.9977253 4 НЕ ВЕРНО\n",
            "12 Дуоденит Гастрит 0.99863154 1 НЕ ВЕРНО\n",
            "13 Холицестит Панкреатит 0.6781824 6 НЕ ВЕРНО\n",
            "14 Аппендицит Панкреатит 0.984397 1 НЕ ВЕРНО\n",
            "15 Энтерит Энтерит 0.9849187 1 ВЕРНО\n",
            "16 Колит Панкреатит 0.9886641 1 НЕ ВЕРНО\n",
            "17 Панкреатит Панкреатит 0.6008016 1 ВЕРНО\n",
            "18 Холицестит Дуоденит 0.35489202 1 НЕ ВЕРНО\n",
            "19 Эзофагит Эзофагит 0.43021405 1 ВЕРНО\n",
            "20 Панкреатит Колит 0.3153039 1 НЕ ВЕРНО\n",
            "21 Гепатит Гепатит 0.7658951 1 ВЕРНО\n",
            "22 Эзофагит Эзофагит 0.8975494 1 ВЕРНО\n",
            "23 Дуоденит Дуоденит 0.6312369 1 ВЕРНО\n",
            "24 Язва Язва 0.29060966 1 ВЕРНО\n",
            "25 Холицестит Гепатит 0.4468482 1 НЕ ВЕРНО\n",
            "26 Колит Панкреатит 0.47306505 1 НЕ ВЕРНО\n",
            "27 Гепатит Гепатит 0.8044898 1 ВЕРНО\n",
            "28 Гепатит Гепатит 0.5651252 1 ВЕРНО\n",
            "29 Язва Эзофагит 0.5164067 1 НЕ ВЕРНО\n",
            "30 Гастрит Гастрит 0.31545427 1 ВЕРНО\n",
            "31 Дуоденит Гепатит 0.28593752 1 НЕ ВЕРНО\n",
            "32 Колит Колит 0.91562855 1 ВЕРНО\n",
            "33 Энтерит Энтерит 0.49895588 1 ВЕРНО\n",
            "34 Панкреатит Панкреатит 0.6217997 63 ВЕРНО\n",
            "35 Язва Гастрит 0.97931886 22 НЕ ВЕРНО\n",
            "36 Гепатит Гепатит 0.8039048 1 ВЕРНО\n",
            "37 Эзофагит Колит 0.5561004 1 НЕ ВЕРНО\n",
            "38 Колит Колит 0.9508265 1 ВЕРНО\n",
            "39 Гепатит Гепатит 0.26063454 1 ВЕРНО\n",
            "40 Эзофагит Гастрит 0.43425703 1 НЕ ВЕРНО\n",
            "41 Колит Панкреатит 0.72157 1 НЕ ВЕРНО\n",
            "42 Энтерит Колит 0.71270925 1 НЕ ВЕРНО\n",
            "43 Панкреатит Эзофагит 0.37089467 1 НЕ ВЕРНО\n",
            "44 Дуоденит Эзофагит 0.505299 1 НЕ ВЕРНО\n",
            "45 Язва Эзофагит 0.28576496 1 НЕ ВЕРНО\n",
            "46 Язва Дуоденит 0.3231238 1 НЕ ВЕРНО\n",
            "47 Гастрит Гастрит 0.8867221 147 ВЕРНО\n",
            "48 Колит Эзофагит 0.5084165 1 НЕ ВЕРНО\n",
            "49 Энтерит Энтерит 0.97743875 1 ВЕРНО\n",
            "Модель: 'Embedding + LSTM' Точных диагнозов: 24/50 (48.0%)\n"
          ],
          "name": "stdout"
        }
      ]
    },
    {
      "cell_type": "code",
      "metadata": {
        "id": "KybPENCj2c9o",
        "colab_type": "code",
        "colab": {
          "base_uri": "https://localhost:8080/",
          "height": 1000
        },
        "outputId": "94511569-4235-4252-b79d-5dfd79869944"
      },
      "source": [
        "random.seed(1)\n",
        "np.random.seed(1)\n",
        "tf.random.set_seed(1)\n",
        "\n",
        "epochs = 50\n",
        "name = \"Embedding + Conv1D\"\n",
        "\n",
        "model = Sequential() \n",
        "model.add(Embedding(maxWordsCount, 16, input_length=xLen))\n",
        "model.add(SpatialDropout1D(0.2)) \n",
        "model.add(BatchNormalization())\n",
        "\n",
        "model.add(Conv1D(16, 5, activation=\"relu\"))\n",
        "model.add(MaxPooling1D(2))\n",
        "model.add(Dropout(0.3)) \n",
        "model.add(BatchNormalization())  \n",
        "\n",
        "model.add(Flatten()) \n",
        "model.add(Dense(nClasses, activation='softmax'))\n",
        "\n",
        "model.compile(optimizer='rmsprop', \n",
        "              loss='categorical_crossentropy', \n",
        "              metrics=['accuracy'])\n",
        "\n",
        "model.summary()\n",
        "\n",
        "# Создаем коллбэк для запоминания лучшей модели\n",
        "model_save_path = 'best_model1.h5'\n",
        "checkpoint_callback = ModelCheckpoint(model_save_path, \n",
        "                                      monitor='val_accuracy',\n",
        "                                      save_best_only=True,\n",
        "                                      verbose=1)\n",
        "history = model.fit(xTrain, \n",
        "                    yTrain, \n",
        "                    epochs=epochs,\n",
        "                    batch_size=16,\n",
        "                    callbacks=[checkpoint_callback],\n",
        "                    validation_data=(xTest, yTest))\n",
        "\n",
        "plt.plot(history.history['accuracy'], \n",
        "         label='Доля верных ответов на обучающем наборе')\n",
        "plt.plot(history.history['val_accuracy'], \n",
        "         label='Доля верных ответов на проверочном наборе')\n",
        "plt.xlabel('Эпоха обучения')\n",
        "plt.ylabel('Доля верных ответов')\n",
        "plt.legend()\n",
        "plt.show()\n"
      ],
      "execution_count": null,
      "outputs": [
        {
          "output_type": "stream",
          "text": [
            "Model: \"sequential_7\"\n",
            "_________________________________________________________________\n",
            "Layer (type)                 Output Shape              Param #   \n",
            "=================================================================\n",
            "embedding_7 (Embedding)      (None, 50, 16)            32000     \n",
            "_________________________________________________________________\n",
            "spatial_dropout1d_7 (Spatial (None, 50, 16)            0         \n",
            "_________________________________________________________________\n",
            "batch_normalization_14 (Batc (None, 50, 16)            64        \n",
            "_________________________________________________________________\n",
            "conv1d_8 (Conv1D)            (None, 46, 16)            1296      \n",
            "_________________________________________________________________\n",
            "max_pooling1d_8 (MaxPooling1 (None, 23, 16)            0         \n",
            "_________________________________________________________________\n",
            "dropout_4 (Dropout)          (None, 23, 16)            0         \n",
            "_________________________________________________________________\n",
            "batch_normalization_15 (Batc (None, 23, 16)            64        \n",
            "_________________________________________________________________\n",
            "flatten_4 (Flatten)          (None, 368)               0         \n",
            "_________________________________________________________________\n",
            "dense_7 (Dense)              (None, 10)                3690      \n",
            "=================================================================\n",
            "Total params: 37,114\n",
            "Trainable params: 37,050\n",
            "Non-trainable params: 64\n",
            "_________________________________________________________________\n",
            "Epoch 1/50\n",
            "87/91 [===========================>..] - ETA: 0s - loss: 2.4469 - accuracy: 0.2162\n",
            "Epoch 00001: val_accuracy improved from -inf to 0.02312, saving model to best_model1.h5\n",
            "91/91 [==============================] - 1s 7ms/step - loss: 2.4239 - accuracy: 0.2249 - val_loss: 2.5741 - val_accuracy: 0.0231\n",
            "Epoch 2/50\n",
            "89/91 [============================>.] - ETA: 0s - loss: 0.8537 - accuracy: 0.7374\n",
            "Epoch 00002: val_accuracy improved from 0.02312 to 0.03757, saving model to best_model1.h5\n",
            "91/91 [==============================] - 1s 6ms/step - loss: 0.8525 - accuracy: 0.7400 - val_loss: 3.1344 - val_accuracy: 0.0376\n",
            "Epoch 3/50\n",
            "80/91 [=========================>....] - ETA: 0s - loss: 0.4378 - accuracy: 0.8805\n",
            "Epoch 00003: val_accuracy did not improve from 0.03757\n",
            "91/91 [==============================] - 0s 5ms/step - loss: 0.4276 - accuracy: 0.8838 - val_loss: 3.4251 - val_accuracy: 0.0289\n",
            "Epoch 4/50\n",
            "84/91 [==========================>...] - ETA: 0s - loss: 0.2898 - accuracy: 0.9167\n",
            "Epoch 00004: val_accuracy improved from 0.03757 to 0.07514, saving model to best_model1.h5\n",
            "91/91 [==============================] - 1s 6ms/step - loss: 0.2885 - accuracy: 0.9161 - val_loss: 3.1108 - val_accuracy: 0.0751\n",
            "Epoch 5/50\n",
            "89/91 [============================>.] - ETA: 0s - loss: 0.2145 - accuracy: 0.9333\n",
            "Epoch 00005: val_accuracy improved from 0.07514 to 0.35260, saving model to best_model1.h5\n",
            "91/91 [==============================] - 1s 7ms/step - loss: 0.2149 - accuracy: 0.9333 - val_loss: 2.5321 - val_accuracy: 0.3526\n",
            "Epoch 6/50\n",
            "84/91 [==========================>...] - ETA: 0s - loss: 0.1636 - accuracy: 0.9554\n",
            "Epoch 00006: val_accuracy improved from 0.35260 to 0.40751, saving model to best_model1.h5\n",
            "91/91 [==============================] - 1s 7ms/step - loss: 0.1677 - accuracy: 0.9519 - val_loss: 2.0581 - val_accuracy: 0.4075\n",
            "Epoch 7/50\n",
            "88/91 [============================>.] - ETA: 0s - loss: 0.1338 - accuracy: 0.9631\n",
            "Epoch 00007: val_accuracy improved from 0.40751 to 0.50000, saving model to best_model1.h5\n",
            "91/91 [==============================] - 1s 7ms/step - loss: 0.1347 - accuracy: 0.9622 - val_loss: 1.6801 - val_accuracy: 0.5000\n",
            "Epoch 8/50\n",
            "90/91 [============================>.] - ETA: 0s - loss: 0.1249 - accuracy: 0.9708\n",
            "Epoch 00008: val_accuracy improved from 0.50000 to 0.56069, saving model to best_model1.h5\n",
            "91/91 [==============================] - 1s 6ms/step - loss: 0.1240 - accuracy: 0.9711 - val_loss: 1.5322 - val_accuracy: 0.5607\n",
            "Epoch 9/50\n",
            "89/91 [============================>.] - ETA: 0s - loss: 0.1015 - accuracy: 0.9684\n",
            "Epoch 00009: val_accuracy improved from 0.56069 to 0.58382, saving model to best_model1.h5\n",
            "91/91 [==============================] - 1s 6ms/step - loss: 0.1007 - accuracy: 0.9691 - val_loss: 1.4947 - val_accuracy: 0.5838\n",
            "Epoch 10/50\n",
            "91/91 [==============================] - ETA: 0s - loss: 0.0812 - accuracy: 0.9787\n",
            "Epoch 00010: val_accuracy did not improve from 0.58382\n",
            "91/91 [==============================] - 0s 5ms/step - loss: 0.0812 - accuracy: 0.9787 - val_loss: 1.5389 - val_accuracy: 0.5607\n",
            "Epoch 11/50\n",
            "91/91 [==============================] - ETA: 0s - loss: 0.0800 - accuracy: 0.9766\n",
            "Epoch 00011: val_accuracy improved from 0.58382 to 0.59538, saving model to best_model1.h5\n",
            "91/91 [==============================] - 1s 6ms/step - loss: 0.0800 - accuracy: 0.9766 - val_loss: 1.4865 - val_accuracy: 0.5954\n",
            "Epoch 12/50\n",
            "90/91 [============================>.] - ETA: 0s - loss: 0.0665 - accuracy: 0.9792\n",
            "Epoch 00012: val_accuracy improved from 0.59538 to 0.61561, saving model to best_model1.h5\n",
            "91/91 [==============================] - 1s 6ms/step - loss: 0.0664 - accuracy: 0.9794 - val_loss: 1.4913 - val_accuracy: 0.6156\n",
            "Epoch 13/50\n",
            "90/91 [============================>.] - ETA: 0s - loss: 0.0540 - accuracy: 0.9833\n",
            "Epoch 00013: val_accuracy did not improve from 0.61561\n",
            "91/91 [==============================] - 0s 5ms/step - loss: 0.0537 - accuracy: 0.9835 - val_loss: 1.5678 - val_accuracy: 0.5780\n",
            "Epoch 14/50\n",
            "84/91 [==========================>...] - ETA: 0s - loss: 0.0566 - accuracy: 0.9866\n",
            "Epoch 00014: val_accuracy did not improve from 0.61561\n",
            "91/91 [==============================] - 1s 6ms/step - loss: 0.0573 - accuracy: 0.9856 - val_loss: 1.7070 - val_accuracy: 0.5520\n",
            "Epoch 15/50\n",
            "87/91 [===========================>..] - ETA: 0s - loss: 0.0466 - accuracy: 0.9849\n",
            "Epoch 00015: val_accuracy did not improve from 0.61561\n",
            "91/91 [==============================] - 1s 7ms/step - loss: 0.0448 - accuracy: 0.9856 - val_loss: 1.6692 - val_accuracy: 0.5896\n",
            "Epoch 16/50\n",
            "89/91 [============================>.] - ETA: 0s - loss: 0.0509 - accuracy: 0.9881\n",
            "Epoch 00016: val_accuracy did not improve from 0.61561\n",
            "91/91 [==============================] - 1s 6ms/step - loss: 0.0504 - accuracy: 0.9883 - val_loss: 1.7086 - val_accuracy: 0.5925\n",
            "Epoch 17/50\n",
            "88/91 [============================>.] - ETA: 0s - loss: 0.0426 - accuracy: 0.9886\n",
            "Epoch 00017: val_accuracy did not improve from 0.61561\n",
            "91/91 [==============================] - 0s 5ms/step - loss: 0.0440 - accuracy: 0.9876 - val_loss: 1.8043 - val_accuracy: 0.5520\n",
            "Epoch 18/50\n",
            "81/91 [=========================>....] - ETA: 0s - loss: 0.0388 - accuracy: 0.9892\n",
            "Epoch 00018: val_accuracy did not improve from 0.61561\n",
            "91/91 [==============================] - 1s 6ms/step - loss: 0.0453 - accuracy: 0.9876 - val_loss: 2.0058 - val_accuracy: 0.5289\n",
            "Epoch 19/50\n",
            "91/91 [==============================] - ETA: 0s - loss: 0.0370 - accuracy: 0.9890\n",
            "Epoch 00019: val_accuracy did not improve from 0.61561\n",
            "91/91 [==============================] - 0s 5ms/step - loss: 0.0370 - accuracy: 0.9890 - val_loss: 2.0294 - val_accuracy: 0.5434\n",
            "Epoch 20/50\n",
            "90/91 [============================>.] - ETA: 0s - loss: 0.0362 - accuracy: 0.9910\n",
            "Epoch 00020: val_accuracy did not improve from 0.61561\n",
            "91/91 [==============================] - 0s 5ms/step - loss: 0.0370 - accuracy: 0.9904 - val_loss: 1.9831 - val_accuracy: 0.5723\n",
            "Epoch 21/50\n",
            "91/91 [==============================] - ETA: 0s - loss: 0.0398 - accuracy: 0.9876\n",
            "Epoch 00021: val_accuracy did not improve from 0.61561\n",
            "91/91 [==============================] - 1s 6ms/step - loss: 0.0398 - accuracy: 0.9876 - val_loss: 2.2674 - val_accuracy: 0.5202\n",
            "Epoch 22/50\n",
            "90/91 [============================>.] - ETA: 0s - loss: 0.0462 - accuracy: 0.9861\n",
            "Epoch 00022: val_accuracy did not improve from 0.61561\n",
            "91/91 [==============================] - 0s 5ms/step - loss: 0.0467 - accuracy: 0.9856 - val_loss: 2.7164 - val_accuracy: 0.4538\n",
            "Epoch 23/50\n",
            "90/91 [============================>.] - ETA: 0s - loss: 0.0387 - accuracy: 0.9910\n",
            "Epoch 00023: val_accuracy did not improve from 0.61561\n",
            "91/91 [==============================] - 1s 7ms/step - loss: 0.0391 - accuracy: 0.9911 - val_loss: 2.5112 - val_accuracy: 0.4480\n",
            "Epoch 24/50\n",
            "90/91 [============================>.] - ETA: 0s - loss: 0.0372 - accuracy: 0.9917\n",
            "Epoch 00024: val_accuracy did not improve from 0.61561\n",
            "91/91 [==============================] - 1s 6ms/step - loss: 0.0370 - accuracy: 0.9917 - val_loss: 2.4737 - val_accuracy: 0.5029\n",
            "Epoch 25/50\n",
            "88/91 [============================>.] - ETA: 0s - loss: 0.0321 - accuracy: 0.9922\n",
            "Epoch 00025: val_accuracy did not improve from 0.61561\n",
            "91/91 [==============================] - 0s 5ms/step - loss: 0.0318 - accuracy: 0.9924 - val_loss: 2.3164 - val_accuracy: 0.5520\n",
            "Epoch 26/50\n",
            "86/91 [===========================>..] - ETA: 0s - loss: 0.0230 - accuracy: 0.9942\n",
            "Epoch 00026: val_accuracy did not improve from 0.61561\n",
            "91/91 [==============================] - 1s 6ms/step - loss: 0.0271 - accuracy: 0.9931 - val_loss: 2.0284 - val_accuracy: 0.5751\n",
            "Epoch 27/50\n",
            "83/91 [==========================>...] - ETA: 0s - loss: 0.0434 - accuracy: 0.9895\n",
            "Epoch 00027: val_accuracy did not improve from 0.61561\n",
            "91/91 [==============================] - 1s 6ms/step - loss: 0.0426 - accuracy: 0.9897 - val_loss: 2.4319 - val_accuracy: 0.5231\n",
            "Epoch 28/50\n",
            "88/91 [============================>.] - ETA: 0s - loss: 0.0258 - accuracy: 0.9922\n",
            "Epoch 00028: val_accuracy did not improve from 0.61561\n",
            "91/91 [==============================] - 1s 7ms/step - loss: 0.0273 - accuracy: 0.9917 - val_loss: 2.8335 - val_accuracy: 0.4913\n",
            "Epoch 29/50\n",
            "89/91 [============================>.] - ETA: 0s - loss: 0.0310 - accuracy: 0.9923\n",
            "Epoch 00029: val_accuracy did not improve from 0.61561\n",
            "91/91 [==============================] - 1s 7ms/step - loss: 0.0305 - accuracy: 0.9924 - val_loss: 2.8447 - val_accuracy: 0.5058\n",
            "Epoch 30/50\n",
            "85/91 [===========================>..] - ETA: 0s - loss: 0.0269 - accuracy: 0.9912\n",
            "Epoch 00030: val_accuracy did not improve from 0.61561\n",
            "91/91 [==============================] - 1s 6ms/step - loss: 0.0278 - accuracy: 0.9911 - val_loss: 2.8041 - val_accuracy: 0.4913\n",
            "Epoch 31/50\n",
            "86/91 [===========================>..] - ETA: 0s - loss: 0.0307 - accuracy: 0.9935\n",
            "Epoch 00031: val_accuracy did not improve from 0.61561\n",
            "91/91 [==============================] - 0s 5ms/step - loss: 0.0331 - accuracy: 0.9931 - val_loss: 2.9090 - val_accuracy: 0.4827\n",
            "Epoch 32/50\n",
            "89/91 [============================>.] - ETA: 0s - loss: 0.0331 - accuracy: 0.9916\n",
            "Epoch 00032: val_accuracy did not improve from 0.61561\n",
            "91/91 [==============================] - 1s 6ms/step - loss: 0.0328 - accuracy: 0.9917 - val_loss: 2.5547 - val_accuracy: 0.5491\n",
            "Epoch 33/50\n",
            "90/91 [============================>.] - ETA: 0s - loss: 0.0320 - accuracy: 0.9903\n",
            "Epoch 00033: val_accuracy did not improve from 0.61561\n",
            "91/91 [==============================] - 0s 5ms/step - loss: 0.0335 - accuracy: 0.9897 - val_loss: 2.6215 - val_accuracy: 0.5318\n",
            "Epoch 34/50\n",
            "90/91 [============================>.] - ETA: 0s - loss: 0.0301 - accuracy: 0.9944\n",
            "Epoch 00034: val_accuracy did not improve from 0.61561\n",
            "91/91 [==============================] - 0s 5ms/step - loss: 0.0298 - accuracy: 0.9945 - val_loss: 2.5537 - val_accuracy: 0.5347\n",
            "Epoch 35/50\n",
            "86/91 [===========================>..] - ETA: 0s - loss: 0.0316 - accuracy: 0.9869\n",
            "Epoch 00035: val_accuracy did not improve from 0.61561\n",
            "91/91 [==============================] - 0s 5ms/step - loss: 0.0316 - accuracy: 0.9876 - val_loss: 2.7689 - val_accuracy: 0.5318\n",
            "Epoch 36/50\n",
            "90/91 [============================>.] - ETA: 0s - loss: 0.0394 - accuracy: 0.9889\n",
            "Epoch 00036: val_accuracy did not improve from 0.61561\n",
            "91/91 [==============================] - 1s 6ms/step - loss: 0.0391 - accuracy: 0.9890 - val_loss: 2.7498 - val_accuracy: 0.5318\n",
            "Epoch 37/50\n",
            "89/91 [============================>.] - ETA: 0s - loss: 0.0304 - accuracy: 0.9923\n",
            "Epoch 00037: val_accuracy did not improve from 0.61561\n",
            "91/91 [==============================] - 0s 5ms/step - loss: 0.0318 - accuracy: 0.9917 - val_loss: 2.6055 - val_accuracy: 0.5434\n",
            "Epoch 38/50\n",
            "89/91 [============================>.] - ETA: 0s - loss: 0.0219 - accuracy: 0.9930\n",
            "Epoch 00038: val_accuracy did not improve from 0.61561\n",
            "91/91 [==============================] - 1s 6ms/step - loss: 0.0216 - accuracy: 0.9931 - val_loss: 2.9681 - val_accuracy: 0.5087\n",
            "Epoch 39/50\n",
            "89/91 [============================>.] - ETA: 0s - loss: 0.0256 - accuracy: 0.9916\n",
            "Epoch 00039: val_accuracy did not improve from 0.61561\n",
            "91/91 [==============================] - 0s 5ms/step - loss: 0.0254 - accuracy: 0.9917 - val_loss: 2.7671 - val_accuracy: 0.5289\n",
            "Epoch 40/50\n",
            "88/91 [============================>.] - ETA: 0s - loss: 0.0226 - accuracy: 0.9943\n",
            "Epoch 00040: val_accuracy did not improve from 0.61561\n",
            "91/91 [==============================] - 1s 5ms/step - loss: 0.0221 - accuracy: 0.9945 - val_loss: 3.0656 - val_accuracy: 0.5029\n",
            "Epoch 41/50\n",
            "90/91 [============================>.] - ETA: 0s - loss: 0.0306 - accuracy: 0.9924\n",
            "Epoch 00041: val_accuracy did not improve from 0.61561\n",
            "91/91 [==============================] - 0s 5ms/step - loss: 0.0304 - accuracy: 0.9924 - val_loss: 2.3527 - val_accuracy: 0.5520\n",
            "Epoch 42/50\n",
            "86/91 [===========================>..] - ETA: 0s - loss: 0.0302 - accuracy: 0.9884\n",
            "Epoch 00042: val_accuracy did not improve from 0.61561\n",
            "91/91 [==============================] - 1s 6ms/step - loss: 0.0298 - accuracy: 0.9883 - val_loss: 2.3968 - val_accuracy: 0.5867\n",
            "Epoch 43/50\n",
            "87/91 [===========================>..] - ETA: 0s - loss: 0.0393 - accuracy: 0.9871\n",
            "Epoch 00043: val_accuracy did not improve from 0.61561\n",
            "91/91 [==============================] - 1s 6ms/step - loss: 0.0381 - accuracy: 0.9876 - val_loss: 3.1297 - val_accuracy: 0.4971\n",
            "Epoch 44/50\n",
            "91/91 [==============================] - ETA: 0s - loss: 0.0313 - accuracy: 0.9924\n",
            "Epoch 00044: val_accuracy did not improve from 0.61561\n",
            "91/91 [==============================] - 0s 5ms/step - loss: 0.0313 - accuracy: 0.9924 - val_loss: 2.8052 - val_accuracy: 0.5809\n",
            "Epoch 45/50\n",
            "91/91 [==============================] - ETA: 0s - loss: 0.0270 - accuracy: 0.9945\n",
            "Epoch 00045: val_accuracy did not improve from 0.61561\n",
            "91/91 [==============================] - 0s 5ms/step - loss: 0.0270 - accuracy: 0.9945 - val_loss: 2.5624 - val_accuracy: 0.5751\n",
            "Epoch 46/50\n",
            "89/91 [============================>.] - ETA: 0s - loss: 0.0304 - accuracy: 0.9930\n",
            "Epoch 00046: val_accuracy did not improve from 0.61561\n",
            "91/91 [==============================] - 1s 6ms/step - loss: 0.0299 - accuracy: 0.9931 - val_loss: 2.1529 - val_accuracy: 0.6098\n",
            "Epoch 47/50\n",
            "91/91 [==============================] - ETA: 0s - loss: 0.0287 - accuracy: 0.9917\n",
            "Epoch 00047: val_accuracy did not improve from 0.61561\n",
            "91/91 [==============================] - 0s 5ms/step - loss: 0.0287 - accuracy: 0.9917 - val_loss: 2.7051 - val_accuracy: 0.5694\n",
            "Epoch 48/50\n",
            "90/91 [============================>.] - ETA: 0s - loss: 0.0269 - accuracy: 0.9944\n",
            "Epoch 00048: val_accuracy did not improve from 0.61561\n",
            "91/91 [==============================] - 0s 5ms/step - loss: 0.0266 - accuracy: 0.9945 - val_loss: 2.6596 - val_accuracy: 0.5578\n",
            "Epoch 49/50\n",
            "83/91 [==========================>...] - ETA: 0s - loss: 0.0189 - accuracy: 0.9932\n",
            "Epoch 00049: val_accuracy did not improve from 0.61561\n",
            "91/91 [==============================] - 0s 5ms/step - loss: 0.0229 - accuracy: 0.9924 - val_loss: 2.4963 - val_accuracy: 0.5838\n",
            "Epoch 50/50\n",
            "89/91 [============================>.] - ETA: 0s - loss: 0.0270 - accuracy: 0.9916\n",
            "Epoch 00050: val_accuracy did not improve from 0.61561\n",
            "91/91 [==============================] - 0s 5ms/step - loss: 0.0267 - accuracy: 0.9917 - val_loss: 2.2477 - val_accuracy: 0.5896\n"
          ],
          "name": "stdout"
        },
        {
          "output_type": "display_data",
          "data": {
            "image/png": "[encoded data removed]",
            "text/plain": [
              "<Figure size 432x288 with 1 Axes>"
            ]
          },
          "metadata": {
            "tags": [],
            "needs_background": "light"
          }
        }
      ]
    },
    {
      "cell_type": "code",
      "metadata": {
        "id": "SJj7Era9Wtnr",
        "colab_type": "code",
        "colab": {
          "base_uri": "https://localhost:8080/",
          "height": 51
        },
        "outputId": "c526c77b-fc0b-43ca-cc81-f4bc4d3c35a0"
      },
      "source": [
        "# Загружаем лучшие найденные веса\n",
        "model.load_weights('best_model1.h5')\n",
        "score = model.evaluate(xTest, yTest)\n",
        "score"
      ],
      "execution_count": null,
      "outputs": [
        {
          "output_type": "stream",
          "text": [
            "11/11 [==============================] - 0s 3ms/step - loss: 1.4913 - accuracy: 0.6156\n"
          ],
          "name": "stdout"
        },
        {
          "output_type": "execute_result",
          "data": {
            "text/plain": [
              "[1.49131178855896, 0.615606963634491]"
            ]
          },
          "metadata": {
            "tags": []
          },
          "execution_count": 59
        }
      ]
    },
    {
      "cell_type": "code",
      "metadata": {
        "id": "Y4qrZMpy2dNw",
        "colab_type": "code",
        "colab": {
          "base_uri": "https://localhost:8080/",
          "height": 884
        },
        "outputId": "bde8591d-8cf6-44f9-ac9d-ad041820b6fa"
      },
      "source": [
        "report(model, name)"
      ],
      "execution_count": null,
      "outputs": [
        {
          "output_type": "stream",
          "text": [
            "0 Панкреатит Колит 0.7485286 1 НЕ ВЕРНО\n",
            "1 Колит Колит 0.9062965 1 ВЕРНО\n",
            "2 Гастрит Гастрит 0.6516728 40 ВЕРНО\n",
            "3 Эзофагит Холицестит 0.437677 6 НЕ ВЕРНО\n",
            "4 Гепатит Эзофагит 0.73037624 1 НЕ ВЕРНО\n",
            "5 Панкреатит Эзофагит 0.24381226 16 НЕ ВЕРНО\n",
            "6 Эзофагит Эзофагит 0.4396487 1 ВЕРНО\n",
            "7 Холицестит Холицестит 0.45717254 1 ВЕРНО\n",
            "8 Дуоденит Дуоденит 0.54356426 1 ВЕРНО\n",
            "9 Колит Язва 0.68880004 1 НЕ ВЕРНО\n",
            "10 Холицестит Колит 0.62018424 1 НЕ ВЕРНО\n",
            "11 Дуоденит Гастрит 0.80088687 4 НЕ ВЕРНО\n",
            "12 Дуоденит Эзофагит 0.26375306 1 НЕ ВЕРНО\n",
            "13 Холицестит Панкреатит 0.48403654 6 НЕ ВЕРНО\n",
            "14 Аппендицит Аппендицит 0.4408452 1 ВЕРНО\n",
            "15 Энтерит Энтерит 0.44988447 1 ВЕРНО\n",
            "16 Колит Панкреатит 0.8630173 1 НЕ ВЕРНО\n",
            "17 Панкреатит Эзофагит 0.42356667 1 НЕ ВЕРНО\n",
            "18 Холицестит Аппендицит 0.26627842 1 НЕ ВЕРНО\n",
            "19 Эзофагит Колит 0.38204142 1 НЕ ВЕРНО\n",
            "20 Панкреатит Колит 0.56928015 1 НЕ ВЕРНО\n",
            "21 Гепатит Язва 0.5195679 1 НЕ ВЕРНО\n",
            "22 Эзофагит Эзофагит 0.25302067 1 ВЕРНО\n",
            "23 Дуоденит Колит 0.41170993 1 НЕ ВЕРНО\n",
            "24 Язва Эзофагит 0.45968226 1 НЕ ВЕРНО\n",
            "25 Холицестит Колит 0.40551642 1 НЕ ВЕРНО\n",
            "26 Колит Панкреатит 0.9239579 1 НЕ ВЕРНО\n",
            "27 Гепатит Эзофагит 0.3989464 1 НЕ ВЕРНО\n",
            "28 Гепатит Колит 0.7772271 1 НЕ ВЕРНО\n",
            "29 Язва Язва 0.25341135 1 ВЕРНО\n",
            "30 Гастрит Гастрит 0.31842703 1 ВЕРНО\n",
            "31 Дуоденит Панкреатит 0.9323507 1 НЕ ВЕРНО\n",
            "32 Колит Колит 0.9165109 1 ВЕРНО\n",
            "33 Энтерит Язва 0.37774083 1 НЕ ВЕРНО\n",
            "34 Панкреатит Панкреатит 0.70803654 63 ВЕРНО\n",
            "35 Язва Гастрит 0.6413299 22 НЕ ВЕРНО\n",
            "36 Гепатит Эзофагит 0.5412061 1 НЕ ВЕРНО\n",
            "37 Эзофагит Гастрит 0.25079188 1 НЕ ВЕРНО\n",
            "38 Колит Колит 0.6122407 1 ВЕРНО\n",
            "39 Гепатит Колит 0.72949904 1 НЕ ВЕРНО\n",
            "40 Эзофагит Гастрит 0.41072917 1 НЕ ВЕРНО\n",
            "41 Колит Колит 0.569362 1 ВЕРНО\n",
            "42 Энтерит Энтерит 0.31801486 1 ВЕРНО\n",
            "43 Панкреатит Гепатит 0.38475338 1 НЕ ВЕРНО\n",
            "44 Дуоденит Эзофагит 0.37682796 1 НЕ ВЕРНО\n",
            "45 Язва Колит 0.28173295 1 НЕ ВЕРНО\n",
            "46 Язва Эзофагит 0.28345034 1 НЕ ВЕРНО\n",
            "47 Гастрит Гастрит 0.68439883 147 ВЕРНО\n",
            "48 Колит Гепатит 0.32128128 1 НЕ ВЕРНО\n",
            "49 Энтерит Энтерит 0.9898539 1 ВЕРНО\n",
            "Модель: 'Embedding + Conv1D' Точных диагнозов: 17/50 (34.0%)\n"
          ],
          "name": "stdout"
        }
      ]
    },
    {
      "cell_type": "code",
      "metadata": {
        "id": "J6NvOBPwroV_",
        "colab_type": "code",
        "colab": {
          "base_uri": "https://localhost:8080/",
          "height": 1000
        },
        "outputId": "c28cfd22-df85-45be-dea2-f4267b9a5135"
      },
      "source": [
        "random.seed(1)\n",
        "np.random.seed(1)\n",
        "tf.random.set_seed(1)\n",
        "\n",
        "epochs = 100\n",
        "name = \"Embedding + Dense + LSTM + Conv1D\"\n",
        "\n",
        "model = Sequential() \n",
        "model.add(Embedding(maxWordsCount, 16, input_length=xLen))\n",
        "model.add(SpatialDropout1D(0.2)) \n",
        "model.add(BatchNormalization())\n",
        "\n",
        "model.add(SpatialDropout1D(0.2)) \n",
        "model.add(LSTM(32, return_sequences=1)) \n",
        "model.add(Dropout(0.2)) \n",
        "model.add(BatchNormalization()) \n",
        " \n",
        "model.add(Conv1D(256, 5, activation=\"relu\")) \n",
        "model.add(MaxPooling1D(2)) \n",
        "model.add(Dropout(0.2)) \n",
        "model.add(BatchNormalization()) \n",
        "model.add(Flatten())\n",
        "\n",
        "model.add(Dense(128, activation='relu'))\n",
        "model.add(BatchNormalization()) \n",
        "model.add(Dropout(0.2)) \n",
        "\n",
        "model.add(Dense(nClasses, activation='softmax'))\n",
        "\n",
        "model.compile(optimizer='rmsprop', \n",
        "              loss='categorical_crossentropy', \n",
        "              metrics=['accuracy'])\n",
        "\n",
        "model.summary()\n",
        "\n",
        "# Создаем коллбэк для запоминания лучшей модели\n",
        "model_save_path = 'best_model3.h5'\n",
        "checkpoint_callback = ModelCheckpoint(model_save_path, \n",
        "                                      monitor='val_accuracy',\n",
        "                                      save_best_only=True,\n",
        "                                      verbose=1)\n",
        "\n",
        "history = model.fit(xTrain, \n",
        "                    yTrain, \n",
        "                    epochs=epochs,\n",
        "                    batch_size=512,\n",
        "                    callbacks=[checkpoint_callback],\n",
        "                    validation_data=(xTest, yTest))\n",
        "\n",
        "plt.plot(history.history['accuracy'], \n",
        "         label='Доля верных ответов на обучающем наборе')\n",
        "plt.plot(history.history['val_accuracy'], \n",
        "         label='Доля верных ответов на проверочном наборе')\n",
        "plt.xlabel('Эпоха обучения')\n",
        "plt.ylabel('Доля верных ответов')\n",
        "plt.legend()\n",
        "plt.show()"
      ],
      "execution_count": null,
      "outputs": [
        {
          "output_type": "stream",
          "text": [
            "Model: \"sequential_8\"\n",
            "_________________________________________________________________\n",
            "Layer (type)                 Output Shape              Param #   \n",
            "=================================================================\n",
            "embedding_8 (Embedding)      (None, 50, 16)            32000     \n",
            "_________________________________________________________________\n",
            "spatial_dropout1d_8 (Spatial (None, 50, 16)            0         \n",
            "_________________________________________________________________\n",
            "batch_normalization_16 (Batc (None, 50, 16)            64        \n",
            "_________________________________________________________________\n",
            "spatial_dropout1d_9 (Spatial (None, 50, 16)            0         \n",
            "_________________________________________________________________\n",
            "lstm_3 (LSTM)                (None, 50, 32)            6272      \n",
            "_________________________________________________________________\n",
            "dropout_5 (Dropout)          (None, 50, 32)            0         \n",
            "_________________________________________________________________\n",
            "batch_normalization_17 (Batc (None, 50, 32)            128       \n",
            "_________________________________________________________________\n",
            "conv1d_9 (Conv1D)            (None, 46, 256)           41216     \n",
            "_________________________________________________________________\n",
            "max_pooling1d_9 (MaxPooling1 (None, 23, 256)           0         \n",
            "_________________________________________________________________\n",
            "dropout_6 (Dropout)          (None, 23, 256)           0         \n",
            "_________________________________________________________________\n",
            "batch_normalization_18 (Batc (None, 23, 256)           1024      \n",
            "_________________________________________________________________\n",
            "flatten_5 (Flatten)          (None, 5888)              0         \n",
            "_________________________________________________________________\n",
            "dense_8 (Dense)              (None, 128)               753792    \n",
            "_________________________________________________________________\n",
            "batch_normalization_19 (Batc (None, 128)               512       \n",
            "_________________________________________________________________\n",
            "dropout_7 (Dropout)          (None, 128)               0         \n",
            "_________________________________________________________________\n",
            "dense_9 (Dense)              (None, 10)                1290      \n",
            "=================================================================\n",
            "Total params: 836,298\n",
            "Trainable params: 835,434\n",
            "Non-trainable params: 864\n",
            "_________________________________________________________________\n",
            "Epoch 1/100\n",
            "3/3 [==============================] - ETA: 0s - loss: 2.5431 - accuracy: 0.3081\n",
            "Epoch 00001: val_accuracy improved from -inf to 0.02890, saving model to best_model3.h5\n",
            "3/3 [==============================] - 1s 270ms/step - loss: 2.5431 - accuracy: 0.3081 - val_loss: 2.3087 - val_accuracy: 0.0289\n",
            "Epoch 2/100\n",
            "1/3 [=========>....................] - ETA: 0s - loss: 1.1795 - accuracy: 0.7148\n",
            "Epoch 00002: val_accuracy improved from 0.02890 to 0.23988, saving model to best_model3.h5\n",
            "3/3 [==============================] - 0s 40ms/step - loss: 0.9626 - accuracy: 0.7758 - val_loss: 2.2690 - val_accuracy: 0.2399\n",
            "Epoch 3/100\n",
            "1/3 [=========>....................] - ETA: 0s - loss: 0.5331 - accuracy: 0.8848\n",
            "Epoch 00003: val_accuracy did not improve from 0.23988\n",
            "3/3 [==============================] - 0s 19ms/step - loss: 0.5292 - accuracy: 0.8762 - val_loss: 2.2428 - val_accuracy: 0.1850\n",
            "Epoch 4/100\n",
            "1/3 [=========>....................] - ETA: 0s - loss: 0.3943 - accuracy: 0.9023\n",
            "Epoch 00004: val_accuracy did not improve from 0.23988\n",
            "3/3 [==============================] - 0s 19ms/step - loss: 0.3990 - accuracy: 0.8955 - val_loss: 2.1795 - val_accuracy: 0.2399\n",
            "Epoch 5/100\n",
            "1/3 [=========>....................] - ETA: 0s - loss: 0.3359 - accuracy: 0.9004\n",
            "Epoch 00005: val_accuracy did not improve from 0.23988\n",
            "3/3 [==============================] - 0s 18ms/step - loss: 0.3256 - accuracy: 0.9003 - val_loss: 2.1667 - val_accuracy: 0.2399\n",
            "Epoch 6/100\n",
            "1/3 [=========>....................] - ETA: 0s - loss: 0.2613 - accuracy: 0.9238\n",
            "Epoch 00006: val_accuracy did not improve from 0.23988\n",
            "3/3 [==============================] - 0s 18ms/step - loss: 0.2997 - accuracy: 0.9154 - val_loss: 2.1405 - val_accuracy: 0.2399\n",
            "Epoch 7/100\n",
            "1/3 [=========>....................] - ETA: 0s - loss: 0.2714 - accuracy: 0.9102\n",
            "Epoch 00007: val_accuracy did not improve from 0.23988\n",
            "3/3 [==============================] - 0s 19ms/step - loss: 0.2790 - accuracy: 0.9127 - val_loss: 2.1009 - val_accuracy: 0.2399\n",
            "Epoch 8/100\n",
            "1/3 [=========>....................] - ETA: 0s - loss: 0.2455 - accuracy: 0.9258\n",
            "Epoch 00008: val_accuracy did not improve from 0.23988\n",
            "3/3 [==============================] - 0s 17ms/step - loss: 0.2337 - accuracy: 0.9278 - val_loss: 2.0951 - val_accuracy: 0.2399\n",
            "Epoch 9/100\n",
            "1/3 [=========>....................] - ETA: 0s - loss: 0.2717 - accuracy: 0.9238\n",
            "Epoch 00009: val_accuracy did not improve from 0.23988\n",
            "3/3 [==============================] - 0s 18ms/step - loss: 0.2509 - accuracy: 0.9298 - val_loss: 2.0753 - val_accuracy: 0.2399\n",
            "Epoch 10/100\n",
            "1/3 [=========>....................] - ETA: 0s - loss: 0.2206 - accuracy: 0.9355\n",
            "Epoch 00010: val_accuracy did not improve from 0.23988\n",
            "3/3 [==============================] - 0s 18ms/step - loss: 0.2076 - accuracy: 0.9360 - val_loss: 2.0666 - val_accuracy: 0.2399\n",
            "Epoch 11/100\n",
            "1/3 [=========>....................] - ETA: 0s - loss: 0.1718 - accuracy: 0.9512\n",
            "Epoch 00011: val_accuracy did not improve from 0.23988\n",
            "3/3 [==============================] - 0s 18ms/step - loss: 0.1808 - accuracy: 0.9457 - val_loss: 2.1872 - val_accuracy: 0.2399\n",
            "Epoch 12/100\n",
            "1/3 [=========>....................] - ETA: 0s - loss: 0.1653 - accuracy: 0.9531\n",
            "Epoch 00012: val_accuracy did not improve from 0.23988\n",
            "3/3 [==============================] - 0s 17ms/step - loss: 0.1606 - accuracy: 0.9539 - val_loss: 2.2132 - val_accuracy: 0.2399\n",
            "Epoch 13/100\n",
            "1/3 [=========>....................] - ETA: 0s - loss: 0.1475 - accuracy: 0.9648\n",
            "Epoch 00013: val_accuracy did not improve from 0.23988\n",
            "3/3 [==============================] - 0s 18ms/step - loss: 0.1570 - accuracy: 0.9553 - val_loss: 2.2029 - val_accuracy: 0.2399\n",
            "Epoch 14/100\n",
            "1/3 [=========>....................] - ETA: 0s - loss: 0.1466 - accuracy: 0.9531\n",
            "Epoch 00014: val_accuracy did not improve from 0.23988\n",
            "3/3 [==============================] - 0s 19ms/step - loss: 0.1531 - accuracy: 0.9525 - val_loss: 2.3998 - val_accuracy: 0.2399\n",
            "Epoch 15/100\n",
            "1/3 [=========>....................] - ETA: 0s - loss: 0.1388 - accuracy: 0.9609\n",
            "Epoch 00015: val_accuracy did not improve from 0.23988\n",
            "3/3 [==============================] - 0s 18ms/step - loss: 0.1413 - accuracy: 0.9601 - val_loss: 2.2968 - val_accuracy: 0.2399\n",
            "Epoch 16/100\n",
            "1/3 [=========>....................] - ETA: 0s - loss: 0.1556 - accuracy: 0.9570\n",
            "Epoch 00016: val_accuracy did not improve from 0.23988\n",
            "3/3 [==============================] - 0s 17ms/step - loss: 0.1596 - accuracy: 0.9546 - val_loss: 2.2906 - val_accuracy: 0.2399\n",
            "Epoch 17/100\n",
            "1/3 [=========>....................] - ETA: 0s - loss: 0.1448 - accuracy: 0.9492\n",
            "Epoch 00017: val_accuracy did not improve from 0.23988\n",
            "3/3 [==============================] - 0s 19ms/step - loss: 0.1280 - accuracy: 0.9560 - val_loss: 2.3293 - val_accuracy: 0.2399\n",
            "Epoch 18/100\n",
            "1/3 [=========>....................] - ETA: 0s - loss: 0.1742 - accuracy: 0.9434\n",
            "Epoch 00018: val_accuracy did not improve from 0.23988\n",
            "3/3 [==============================] - 0s 19ms/step - loss: 0.1318 - accuracy: 0.9580 - val_loss: 2.3723 - val_accuracy: 0.2399\n",
            "Epoch 19/100\n",
            "1/3 [=========>....................] - ETA: 0s - loss: 0.1013 - accuracy: 0.9629\n",
            "Epoch 00019: val_accuracy did not improve from 0.23988\n",
            "3/3 [==============================] - 0s 19ms/step - loss: 0.1110 - accuracy: 0.9663 - val_loss: 2.3792 - val_accuracy: 0.2399\n",
            "Epoch 20/100\n",
            "1/3 [=========>....................] - ETA: 0s - loss: 0.1002 - accuracy: 0.9688\n",
            "Epoch 00020: val_accuracy did not improve from 0.23988\n",
            "3/3 [==============================] - 0s 17ms/step - loss: 0.1012 - accuracy: 0.9704 - val_loss: 2.1737 - val_accuracy: 0.2399\n",
            "Epoch 21/100\n",
            "1/3 [=========>....................] - ETA: 0s - loss: 0.0951 - accuracy: 0.9727\n",
            "Epoch 00021: val_accuracy did not improve from 0.23988\n",
            "3/3 [==============================] - 0s 17ms/step - loss: 0.0831 - accuracy: 0.9759 - val_loss: 2.4430 - val_accuracy: 0.2399\n",
            "Epoch 22/100\n",
            "1/3 [=========>....................] - ETA: 0s - loss: 0.0803 - accuracy: 0.9727\n",
            "Epoch 00022: val_accuracy did not improve from 0.23988\n",
            "3/3 [==============================] - 0s 18ms/step - loss: 0.1001 - accuracy: 0.9642 - val_loss: 2.1309 - val_accuracy: 0.2399\n",
            "Epoch 23/100\n",
            "1/3 [=========>....................] - ETA: 0s - loss: 0.0995 - accuracy: 0.9688\n",
            "Epoch 00023: val_accuracy did not improve from 0.23988\n",
            "3/3 [==============================] - 0s 18ms/step - loss: 0.0922 - accuracy: 0.9732 - val_loss: 2.6242 - val_accuracy: 0.2399\n",
            "Epoch 24/100\n",
            "1/3 [=========>....................] - ETA: 0s - loss: 0.0269 - accuracy: 0.9961\n",
            "Epoch 00024: val_accuracy did not improve from 0.23988\n",
            "3/3 [==============================] - 0s 17ms/step - loss: 0.0700 - accuracy: 0.9821 - val_loss: 2.1728 - val_accuracy: 0.2399\n",
            "Epoch 25/100\n",
            "1/3 [=========>....................] - ETA: 0s - loss: 0.0894 - accuracy: 0.9727\n",
            "Epoch 00025: val_accuracy did not improve from 0.23988\n",
            "3/3 [==============================] - 0s 18ms/step - loss: 0.0677 - accuracy: 0.9801 - val_loss: 2.8963 - val_accuracy: 0.2399\n",
            "Epoch 26/100\n",
            "1/3 [=========>....................] - ETA: 0s - loss: 0.0697 - accuracy: 0.9746\n",
            "Epoch 00026: val_accuracy did not improve from 0.23988\n",
            "3/3 [==============================] - 0s 18ms/step - loss: 0.0786 - accuracy: 0.9732 - val_loss: 2.4568 - val_accuracy: 0.2399\n",
            "Epoch 27/100\n",
            "1/3 [=========>....................] - ETA: 0s - loss: 0.0337 - accuracy: 0.9922\n",
            "Epoch 00027: val_accuracy did not improve from 0.23988\n",
            "3/3 [==============================] - 0s 18ms/step - loss: 0.0491 - accuracy: 0.9869 - val_loss: 2.2707 - val_accuracy: 0.2399\n",
            "Epoch 28/100\n",
            "1/3 [=========>....................] - ETA: 0s - loss: 0.0571 - accuracy: 0.9863\n",
            "Epoch 00028: val_accuracy did not improve from 0.23988\n",
            "3/3 [==============================] - 0s 19ms/step - loss: 0.0637 - accuracy: 0.9842 - val_loss: 2.4403 - val_accuracy: 0.2399\n",
            "Epoch 29/100\n",
            "1/3 [=========>....................] - ETA: 0s - loss: 0.0562 - accuracy: 0.9824\n",
            "Epoch 00029: val_accuracy did not improve from 0.23988\n",
            "3/3 [==============================] - 0s 18ms/step - loss: 0.0616 - accuracy: 0.9828 - val_loss: 3.6703 - val_accuracy: 0.2399\n",
            "Epoch 30/100\n",
            "1/3 [=========>....................] - ETA: 0s - loss: 0.0598 - accuracy: 0.9863\n",
            "Epoch 00030: val_accuracy did not improve from 0.23988\n",
            "3/3 [==============================] - 0s 19ms/step - loss: 0.0496 - accuracy: 0.9883 - val_loss: 2.4764 - val_accuracy: 0.0520\n",
            "Epoch 31/100\n",
            "1/3 [=========>....................] - ETA: 0s - loss: 0.0387 - accuracy: 0.9863\n",
            "Epoch 00031: val_accuracy did not improve from 0.23988\n",
            "3/3 [==============================] - 0s 18ms/step - loss: 0.0411 - accuracy: 0.9883 - val_loss: 2.7642 - val_accuracy: 0.2399\n",
            "Epoch 32/100\n",
            "1/3 [=========>....................] - ETA: 0s - loss: 0.0237 - accuracy: 0.9941\n",
            "Epoch 00032: val_accuracy did not improve from 0.23988\n",
            "3/3 [==============================] - 0s 18ms/step - loss: 0.0380 - accuracy: 0.9890 - val_loss: 2.9033 - val_accuracy: 0.2399\n",
            "Epoch 33/100\n",
            "1/3 [=========>....................] - ETA: 0s - loss: 0.0462 - accuracy: 0.9863\n",
            "Epoch 00033: val_accuracy did not improve from 0.23988\n",
            "3/3 [==============================] - 0s 18ms/step - loss: 0.0421 - accuracy: 0.9869 - val_loss: 2.4622 - val_accuracy: 0.2399\n",
            "Epoch 34/100\n",
            "1/3 [=========>....................] - ETA: 0s - loss: 0.0523 - accuracy: 0.9824\n",
            "Epoch 00034: val_accuracy did not improve from 0.23988\n",
            "3/3 [==============================] - 0s 18ms/step - loss: 0.0353 - accuracy: 0.9890 - val_loss: 2.8665 - val_accuracy: 0.2399\n",
            "Epoch 35/100\n",
            "1/3 [=========>....................] - ETA: 0s - loss: 0.0366 - accuracy: 0.9844\n",
            "Epoch 00035: val_accuracy did not improve from 0.23988\n",
            "3/3 [==============================] - 0s 18ms/step - loss: 0.0393 - accuracy: 0.9883 - val_loss: 3.4186 - val_accuracy: 0.2399\n",
            "Epoch 36/100\n",
            "1/3 [=========>....................] - ETA: 0s - loss: 0.0534 - accuracy: 0.9844\n",
            "Epoch 00036: val_accuracy did not improve from 0.23988\n",
            "3/3 [==============================] - 0s 18ms/step - loss: 0.0399 - accuracy: 0.9883 - val_loss: 2.2654 - val_accuracy: 0.2399\n",
            "Epoch 37/100\n",
            "1/3 [=========>....................] - ETA: 0s - loss: 0.0152 - accuracy: 0.9941\n",
            "Epoch 00037: val_accuracy did not improve from 0.23988\n",
            "3/3 [==============================] - 0s 18ms/step - loss: 0.0290 - accuracy: 0.9897 - val_loss: 2.0727 - val_accuracy: 0.2399\n",
            "Epoch 38/100\n",
            "1/3 [=========>....................] - ETA: 0s - loss: 0.0363 - accuracy: 0.9902\n",
            "Epoch 00038: val_accuracy did not improve from 0.23988\n",
            "3/3 [==============================] - 0s 18ms/step - loss: 0.0330 - accuracy: 0.9911 - val_loss: 3.5760 - val_accuracy: 0.2399\n",
            "Epoch 39/100\n",
            "1/3 [=========>....................] - ETA: 0s - loss: 0.0211 - accuracy: 0.9961\n",
            "Epoch 00039: val_accuracy did not improve from 0.23988\n",
            "3/3 [==============================] - 0s 18ms/step - loss: 0.0315 - accuracy: 0.9931 - val_loss: 2.1694 - val_accuracy: 0.0202\n",
            "Epoch 40/100\n",
            "1/3 [=========>....................] - ETA: 0s - loss: 0.0525 - accuracy: 0.9805\n",
            "Epoch 00040: val_accuracy did not improve from 0.23988\n",
            "3/3 [==============================] - 0s 18ms/step - loss: 0.0548 - accuracy: 0.9814 - val_loss: 2.7521 - val_accuracy: 0.2399\n",
            "Epoch 41/100\n",
            "1/3 [=========>....................] - ETA: 0s - loss: 0.0319 - accuracy: 0.9883\n",
            "Epoch 00041: val_accuracy did not improve from 0.23988\n",
            "3/3 [==============================] - 0s 19ms/step - loss: 0.0361 - accuracy: 0.9890 - val_loss: 2.2492 - val_accuracy: 0.2399\n",
            "Epoch 42/100\n",
            "1/3 [=========>....................] - ETA: 0s - loss: 0.0289 - accuracy: 0.9902\n",
            "Epoch 00042: val_accuracy did not improve from 0.23988\n",
            "3/3 [==============================] - 0s 17ms/step - loss: 0.0262 - accuracy: 0.9931 - val_loss: 2.5584 - val_accuracy: 0.2399\n",
            "Epoch 43/100\n",
            "1/3 [=========>....................] - ETA: 0s - loss: 0.0268 - accuracy: 0.9922\n",
            "Epoch 00043: val_accuracy did not improve from 0.23988\n",
            "3/3 [==============================] - 0s 19ms/step - loss: 0.0198 - accuracy: 0.9945 - val_loss: 3.6326 - val_accuracy: 0.2399\n",
            "Epoch 44/100\n",
            "1/3 [=========>....................] - ETA: 0s - loss: 0.0253 - accuracy: 0.9941\n",
            "Epoch 00044: val_accuracy did not improve from 0.23988\n",
            "3/3 [==============================] - 0s 19ms/step - loss: 0.0243 - accuracy: 0.9938 - val_loss: 4.5706 - val_accuracy: 0.2399\n",
            "Epoch 45/100\n",
            "1/3 [=========>....................] - ETA: 0s - loss: 0.0295 - accuracy: 0.9902\n",
            "Epoch 00045: val_accuracy did not improve from 0.23988\n",
            "3/3 [==============================] - 0s 18ms/step - loss: 0.0202 - accuracy: 0.9938 - val_loss: 4.1854 - val_accuracy: 0.2399\n",
            "Epoch 46/100\n",
            "1/3 [=========>....................] - ETA: 0s - loss: 0.0272 - accuracy: 0.9863\n",
            "Epoch 00046: val_accuracy did not improve from 0.23988\n",
            "3/3 [==============================] - 0s 18ms/step - loss: 0.0282 - accuracy: 0.9897 - val_loss: 4.1313 - val_accuracy: 0.2399\n",
            "Epoch 47/100\n",
            "1/3 [=========>....................] - ETA: 0s - loss: 0.0169 - accuracy: 0.9961\n",
            "Epoch 00047: val_accuracy did not improve from 0.23988\n",
            "3/3 [==============================] - 0s 18ms/step - loss: 0.0261 - accuracy: 0.9931 - val_loss: 3.5051 - val_accuracy: 0.2399\n",
            "Epoch 48/100\n",
            "1/3 [=========>....................] - ETA: 0s - loss: 0.0374 - accuracy: 0.9922\n",
            "Epoch 00048: val_accuracy did not improve from 0.23988\n",
            "3/3 [==============================] - 0s 17ms/step - loss: 0.0239 - accuracy: 0.9952 - val_loss: 3.2515 - val_accuracy: 0.2399\n",
            "Epoch 49/100\n",
            "1/3 [=========>....................] - ETA: 0s - loss: 0.0175 - accuracy: 0.9980\n",
            "Epoch 00049: val_accuracy did not improve from 0.23988\n",
            "3/3 [==============================] - 0s 19ms/step - loss: 0.0289 - accuracy: 0.9938 - val_loss: 3.7195 - val_accuracy: 0.2399\n",
            "Epoch 50/100\n",
            "1/3 [=========>....................] - ETA: 0s - loss: 0.0319 - accuracy: 0.9922\n",
            "Epoch 00050: val_accuracy did not improve from 0.23988\n",
            "3/3 [==============================] - 0s 17ms/step - loss: 0.0278 - accuracy: 0.9924 - val_loss: 4.0743 - val_accuracy: 0.2399\n",
            "Epoch 51/100\n",
            "1/3 [=========>....................] - ETA: 0s - loss: 0.0183 - accuracy: 0.9922\n",
            "Epoch 00051: val_accuracy did not improve from 0.23988\n",
            "3/3 [==============================] - 0s 17ms/step - loss: 0.0161 - accuracy: 0.9959 - val_loss: 3.2071 - val_accuracy: 0.2399\n",
            "Epoch 52/100\n",
            "1/3 [=========>....................] - ETA: 0s - loss: 0.0212 - accuracy: 0.9902\n",
            "Epoch 00052: val_accuracy did not improve from 0.23988\n",
            "3/3 [==============================] - 0s 18ms/step - loss: 0.0325 - accuracy: 0.9869 - val_loss: 2.4941 - val_accuracy: 0.0809\n",
            "Epoch 53/100\n",
            "1/3 [=========>....................] - ETA: 0s - loss: 0.0233 - accuracy: 0.9961\n",
            "Epoch 00053: val_accuracy did not improve from 0.23988\n",
            "3/3 [==============================] - 0s 18ms/step - loss: 0.0252 - accuracy: 0.9924 - val_loss: 2.3240 - val_accuracy: 0.0058\n",
            "Epoch 54/100\n",
            "1/3 [=========>....................] - ETA: 0s - loss: 0.0170 - accuracy: 0.9961\n",
            "Epoch 00054: val_accuracy did not improve from 0.23988\n",
            "3/3 [==============================] - 0s 19ms/step - loss: 0.0131 - accuracy: 0.9972 - val_loss: 4.0927 - val_accuracy: 0.2399\n",
            "Epoch 55/100\n",
            "1/3 [=========>....................] - ETA: 0s - loss: 0.0077 - accuracy: 1.0000\n",
            "Epoch 00055: val_accuracy did not improve from 0.23988\n",
            "3/3 [==============================] - 0s 17ms/step - loss: 0.0186 - accuracy: 0.9945 - val_loss: 3.7675 - val_accuracy: 0.2399\n",
            "Epoch 56/100\n",
            "1/3 [=========>....................] - ETA: 0s - loss: 0.0095 - accuracy: 0.9980\n",
            "Epoch 00056: val_accuracy did not improve from 0.23988\n",
            "3/3 [==============================] - 0s 17ms/step - loss: 0.0159 - accuracy: 0.9959 - val_loss: 3.1059 - val_accuracy: 0.2399\n",
            "Epoch 57/100\n",
            "1/3 [=========>....................] - ETA: 0s - loss: 0.0267 - accuracy: 0.9941\n",
            "Epoch 00057: val_accuracy improved from 0.23988 to 0.53179, saving model to best_model3.h5\n",
            "3/3 [==============================] - 0s 38ms/step - loss: 0.0260 - accuracy: 0.9917 - val_loss: 2.0492 - val_accuracy: 0.5318\n",
            "Epoch 58/100\n",
            "1/3 [=========>....................] - ETA: 0s - loss: 0.0156 - accuracy: 0.9961\n",
            "Epoch 00058: val_accuracy did not improve from 0.53179\n",
            "3/3 [==============================] - 0s 19ms/step - loss: 0.0153 - accuracy: 0.9952 - val_loss: 2.1871 - val_accuracy: 0.2399\n",
            "Epoch 59/100\n",
            "1/3 [=========>....................] - ETA: 0s - loss: 0.0148 - accuracy: 0.9961\n",
            "Epoch 00059: val_accuracy did not improve from 0.53179\n",
            "3/3 [==============================] - 0s 18ms/step - loss: 0.0160 - accuracy: 0.9952 - val_loss: 3.5520 - val_accuracy: 0.2399\n",
            "Epoch 60/100\n",
            "1/3 [=========>....................] - ETA: 0s - loss: 0.0311 - accuracy: 0.9902\n",
            "Epoch 00060: val_accuracy did not improve from 0.53179\n",
            "3/3 [==============================] - 0s 19ms/step - loss: 0.0333 - accuracy: 0.9897 - val_loss: 2.8862 - val_accuracy: 0.2399\n",
            "Epoch 61/100\n",
            "1/3 [=========>....................] - ETA: 0s - loss: 0.0263 - accuracy: 0.9922\n",
            "Epoch 00061: val_accuracy did not improve from 0.53179\n",
            "3/3 [==============================] - 0s 18ms/step - loss: 0.0175 - accuracy: 0.9959 - val_loss: 2.5031 - val_accuracy: 0.2399\n",
            "Epoch 62/100\n",
            "1/3 [=========>....................] - ETA: 0s - loss: 0.0156 - accuracy: 0.9941\n",
            "Epoch 00062: val_accuracy did not improve from 0.53179\n",
            "3/3 [==============================] - 0s 18ms/step - loss: 0.0143 - accuracy: 0.9952 - val_loss: 3.5035 - val_accuracy: 0.2399\n",
            "Epoch 63/100\n",
            "1/3 [=========>....................] - ETA: 0s - loss: 0.0163 - accuracy: 0.9961\n",
            "Epoch 00063: val_accuracy did not improve from 0.53179\n",
            "3/3 [==============================] - 0s 18ms/step - loss: 0.0103 - accuracy: 0.9966 - val_loss: 3.1011 - val_accuracy: 0.2399\n",
            "Epoch 64/100\n",
            "1/3 [=========>....................] - ETA: 0s - loss: 0.0159 - accuracy: 0.9961\n",
            "Epoch 00064: val_accuracy did not improve from 0.53179\n",
            "3/3 [==============================] - 0s 18ms/step - loss: 0.0135 - accuracy: 0.9952 - val_loss: 2.8989 - val_accuracy: 0.2399\n",
            "Epoch 65/100\n",
            "1/3 [=========>....................] - ETA: 0s - loss: 0.0467 - accuracy: 0.9902\n",
            "Epoch 00065: val_accuracy did not improve from 0.53179\n",
            "3/3 [==============================] - 0s 20ms/step - loss: 0.0229 - accuracy: 0.9959 - val_loss: 2.9001 - val_accuracy: 0.2399\n",
            "Epoch 66/100\n",
            "1/3 [=========>....................] - ETA: 0s - loss: 0.0345 - accuracy: 0.9883\n",
            "Epoch 00066: val_accuracy did not improve from 0.53179\n",
            "3/3 [==============================] - 0s 18ms/step - loss: 0.0202 - accuracy: 0.9931 - val_loss: 2.8291 - val_accuracy: 0.2399\n",
            "Epoch 67/100\n",
            "1/3 [=========>....................] - ETA: 0s - loss: 0.0196 - accuracy: 0.9961\n",
            "Epoch 00067: val_accuracy did not improve from 0.53179\n",
            "3/3 [==============================] - 0s 18ms/step - loss: 0.0156 - accuracy: 0.9972 - val_loss: 3.5044 - val_accuracy: 0.2399\n",
            "Epoch 68/100\n",
            "1/3 [=========>....................] - ETA: 0s - loss: 0.0202 - accuracy: 0.9941\n",
            "Epoch 00068: val_accuracy did not improve from 0.53179\n",
            "3/3 [==============================] - 0s 18ms/step - loss: 0.0100 - accuracy: 0.9972 - val_loss: 1.9364 - val_accuracy: 0.2399\n",
            "Epoch 69/100\n",
            "1/3 [=========>....................] - ETA: 0s - loss: 0.0178 - accuracy: 0.9961\n",
            "Epoch 00069: val_accuracy did not improve from 0.53179\n",
            "3/3 [==============================] - 0s 17ms/step - loss: 0.0138 - accuracy: 0.9972 - val_loss: 4.4094 - val_accuracy: 0.2399\n",
            "Epoch 70/100\n",
            "1/3 [=========>....................] - ETA: 0s - loss: 0.0098 - accuracy: 0.9961\n",
            "Epoch 00070: val_accuracy did not improve from 0.53179\n",
            "3/3 [==============================] - 0s 18ms/step - loss: 0.0146 - accuracy: 0.9938 - val_loss: 3.7248 - val_accuracy: 0.2399\n",
            "Epoch 71/100\n",
            "1/3 [=========>....................] - ETA: 0s - loss: 0.0108 - accuracy: 0.9980\n",
            "Epoch 00071: val_accuracy did not improve from 0.53179\n",
            "3/3 [==============================] - 0s 19ms/step - loss: 0.0089 - accuracy: 0.9986 - val_loss: 1.9244 - val_accuracy: 0.3035\n",
            "Epoch 72/100\n",
            "1/3 [=========>....................] - ETA: 0s - loss: 0.0199 - accuracy: 0.9961\n",
            "Epoch 00072: val_accuracy did not improve from 0.53179\n",
            "3/3 [==============================] - 0s 18ms/step - loss: 0.0145 - accuracy: 0.9972 - val_loss: 2.6772 - val_accuracy: 0.2399\n",
            "Epoch 73/100\n",
            "1/3 [=========>....................] - ETA: 0s - loss: 0.0061 - accuracy: 0.9980\n",
            "Epoch 00073: val_accuracy did not improve from 0.53179\n",
            "3/3 [==============================] - 0s 18ms/step - loss: 0.0130 - accuracy: 0.9966 - val_loss: 2.4541 - val_accuracy: 0.0029\n",
            "Epoch 74/100\n",
            "1/3 [=========>....................] - ETA: 0s - loss: 0.0340 - accuracy: 0.9922\n",
            "Epoch 00074: val_accuracy did not improve from 0.53179\n",
            "3/3 [==============================] - 0s 19ms/step - loss: 0.0219 - accuracy: 0.9952 - val_loss: 5.6446 - val_accuracy: 0.2399\n",
            "Epoch 75/100\n",
            "1/3 [=========>....................] - ETA: 0s - loss: 0.0138 - accuracy: 0.9922\n",
            "Epoch 00075: val_accuracy did not improve from 0.53179\n",
            "3/3 [==============================] - 0s 18ms/step - loss: 0.0139 - accuracy: 0.9952 - val_loss: 5.0306 - val_accuracy: 0.2399\n",
            "Epoch 76/100\n",
            "1/3 [=========>....................] - ETA: 0s - loss: 0.0144 - accuracy: 0.9941\n",
            "Epoch 00076: val_accuracy did not improve from 0.53179\n",
            "3/3 [==============================] - 0s 18ms/step - loss: 0.0124 - accuracy: 0.9959 - val_loss: 3.4994 - val_accuracy: 0.2399\n",
            "Epoch 77/100\n",
            "1/3 [=========>....................] - ETA: 0s - loss: 0.0055 - accuracy: 0.9980\n",
            "Epoch 00077: val_accuracy did not improve from 0.53179\n",
            "3/3 [==============================] - 0s 18ms/step - loss: 0.0107 - accuracy: 0.9979 - val_loss: 4.3739 - val_accuracy: 0.2399\n",
            "Epoch 78/100\n",
            "1/3 [=========>....................] - ETA: 0s - loss: 0.0195 - accuracy: 0.9941\n",
            "Epoch 00078: val_accuracy did not improve from 0.53179\n",
            "3/3 [==============================] - 0s 18ms/step - loss: 0.0196 - accuracy: 0.9938 - val_loss: 2.5483 - val_accuracy: 0.0260\n",
            "Epoch 79/100\n",
            "1/3 [=========>....................] - ETA: 0s - loss: 0.0171 - accuracy: 0.9961\n",
            "Epoch 00079: val_accuracy did not improve from 0.53179\n",
            "3/3 [==============================] - 0s 18ms/step - loss: 0.0150 - accuracy: 0.9972 - val_loss: 4.6510 - val_accuracy: 0.2399\n",
            "Epoch 80/100\n",
            "1/3 [=========>....................] - ETA: 0s - loss: 0.0107 - accuracy: 0.9980\n",
            "Epoch 00080: val_accuracy did not improve from 0.53179\n",
            "3/3 [==============================] - 0s 20ms/step - loss: 0.0168 - accuracy: 0.9952 - val_loss: 3.3080 - val_accuracy: 0.2399\n",
            "Epoch 81/100\n",
            "1/3 [=========>....................] - ETA: 0s - loss: 0.0095 - accuracy: 0.9961\n",
            "Epoch 00081: val_accuracy did not improve from 0.53179\n",
            "3/3 [==============================] - 0s 18ms/step - loss: 0.0135 - accuracy: 0.9959 - val_loss: 4.7621 - val_accuracy: 0.2399\n",
            "Epoch 82/100\n",
            "1/3 [=========>....................] - ETA: 0s - loss: 0.0048 - accuracy: 0.9980\n",
            "Epoch 00082: val_accuracy did not improve from 0.53179\n",
            "3/3 [==============================] - 0s 18ms/step - loss: 0.0088 - accuracy: 0.9972 - val_loss: 4.1292 - val_accuracy: 0.2399\n",
            "Epoch 83/100\n",
            "1/3 [=========>....................] - ETA: 0s - loss: 0.0097 - accuracy: 0.9941\n",
            "Epoch 00083: val_accuracy did not improve from 0.53179\n",
            "3/3 [==============================] - 0s 21ms/step - loss: 0.0079 - accuracy: 0.9972 - val_loss: 3.3217 - val_accuracy: 0.2399\n",
            "Epoch 84/100\n",
            "1/3 [=========>....................] - ETA: 0s - loss: 0.0107 - accuracy: 0.9961\n",
            "Epoch 00084: val_accuracy did not improve from 0.53179\n",
            "3/3 [==============================] - 0s 18ms/step - loss: 0.0130 - accuracy: 0.9952 - val_loss: 1.9915 - val_accuracy: 0.3671\n",
            "Epoch 85/100\n",
            "1/3 [=========>....................] - ETA: 0s - loss: 0.0069 - accuracy: 0.9980\n",
            "Epoch 00085: val_accuracy did not improve from 0.53179\n",
            "3/3 [==============================] - 0s 18ms/step - loss: 0.0159 - accuracy: 0.9938 - val_loss: 2.1570 - val_accuracy: 0.2717\n",
            "Epoch 86/100\n",
            "1/3 [=========>....................] - ETA: 0s - loss: 0.0183 - accuracy: 0.9941\n",
            "Epoch 00086: val_accuracy did not improve from 0.53179\n",
            "3/3 [==============================] - 0s 18ms/step - loss: 0.0121 - accuracy: 0.9966 - val_loss: 3.4241 - val_accuracy: 0.2399\n",
            "Epoch 87/100\n",
            "1/3 [=========>....................] - ETA: 0s - loss: 0.0101 - accuracy: 0.9980\n",
            "Epoch 00087: val_accuracy did not improve from 0.53179\n",
            "3/3 [==============================] - 0s 18ms/step - loss: 0.0094 - accuracy: 0.9972 - val_loss: 5.5774 - val_accuracy: 0.2399\n",
            "Epoch 88/100\n",
            "1/3 [=========>....................] - ETA: 0s - loss: 0.0106 - accuracy: 0.9961\n",
            "Epoch 00088: val_accuracy did not improve from 0.53179\n",
            "3/3 [==============================] - 0s 18ms/step - loss: 0.0122 - accuracy: 0.9966 - val_loss: 4.6638 - val_accuracy: 0.2399\n",
            "Epoch 89/100\n",
            "1/3 [=========>....................] - ETA: 0s - loss: 0.0042 - accuracy: 0.9980\n",
            "Epoch 00089: val_accuracy did not improve from 0.53179\n",
            "3/3 [==============================] - 0s 18ms/step - loss: 0.0087 - accuracy: 0.9979 - val_loss: 4.5610 - val_accuracy: 0.2399\n",
            "Epoch 90/100\n",
            "1/3 [=========>....................] - ETA: 0s - loss: 0.0057 - accuracy: 0.9980\n",
            "Epoch 00090: val_accuracy did not improve from 0.53179\n",
            "3/3 [==============================] - 0s 18ms/step - loss: 0.0124 - accuracy: 0.9966 - val_loss: 2.3622 - val_accuracy: 0.2890\n",
            "Epoch 91/100\n",
            "1/3 [=========>....................] - ETA: 0s - loss: 0.0126 - accuracy: 0.9980\n",
            "Epoch 00091: val_accuracy did not improve from 0.53179\n",
            "3/3 [==============================] - 0s 19ms/step - loss: 0.0118 - accuracy: 0.9966 - val_loss: 3.0560 - val_accuracy: 0.2399\n",
            "Epoch 92/100\n",
            "1/3 [=========>....................] - ETA: 0s - loss: 0.0031 - accuracy: 1.0000\n",
            "Epoch 00092: val_accuracy did not improve from 0.53179\n",
            "3/3 [==============================] - 0s 19ms/step - loss: 0.0089 - accuracy: 0.9979 - val_loss: 5.3105 - val_accuracy: 0.2399\n",
            "Epoch 93/100\n",
            "1/3 [=========>....................] - ETA: 0s - loss: 0.0118 - accuracy: 0.9941\n",
            "Epoch 00093: val_accuracy improved from 0.53179 to 0.68497, saving model to best_model3.h5\n",
            "3/3 [==============================] - 0s 40ms/step - loss: 0.0125 - accuracy: 0.9952 - val_loss: 1.8099 - val_accuracy: 0.6850\n",
            "Epoch 94/100\n",
            "1/3 [=========>....................] - ETA: 0s - loss: 0.0109 - accuracy: 0.9941\n",
            "Epoch 00094: val_accuracy did not improve from 0.68497\n",
            "3/3 [==============================] - 0s 19ms/step - loss: 0.0077 - accuracy: 0.9972 - val_loss: 2.1953 - val_accuracy: 0.3728\n",
            "Epoch 95/100\n",
            "1/3 [=========>....................] - ETA: 0s - loss: 0.0131 - accuracy: 0.9980\n",
            "Epoch 00095: val_accuracy did not improve from 0.68497\n",
            "3/3 [==============================] - 0s 18ms/step - loss: 0.0122 - accuracy: 0.9972 - val_loss: 1.9616 - val_accuracy: 0.4364\n",
            "Epoch 96/100\n",
            "1/3 [=========>....................] - ETA: 0s - loss: 0.0013 - accuracy: 1.0000\n",
            "Epoch 00096: val_accuracy did not improve from 0.68497\n",
            "3/3 [==============================] - 0s 18ms/step - loss: 0.0088 - accuracy: 0.9972 - val_loss: 2.3175 - val_accuracy: 0.2832\n",
            "Epoch 97/100\n",
            "1/3 [=========>....................] - ETA: 0s - loss: 0.0060 - accuracy: 0.9980\n",
            "Epoch 00097: val_accuracy did not improve from 0.68497\n",
            "3/3 [==============================] - 0s 18ms/step - loss: 0.0110 - accuracy: 0.9972 - val_loss: 4.9446 - val_accuracy: 0.2399\n",
            "Epoch 98/100\n",
            "1/3 [=========>....................] - ETA: 0s - loss: 0.0086 - accuracy: 0.9980\n",
            "Epoch 00098: val_accuracy did not improve from 0.68497\n",
            "3/3 [==============================] - 0s 17ms/step - loss: 0.0063 - accuracy: 0.9986 - val_loss: 5.1534 - val_accuracy: 0.2399\n",
            "Epoch 99/100\n",
            "1/3 [=========>....................] - ETA: 0s - loss: 0.0106 - accuracy: 0.9941\n",
            "Epoch 00099: val_accuracy did not improve from 0.68497\n",
            "3/3 [==============================] - 0s 17ms/step - loss: 0.0089 - accuracy: 0.9966 - val_loss: 4.9515 - val_accuracy: 0.2399\n",
            "Epoch 100/100\n",
            "1/3 [=========>....................] - ETA: 0s - loss: 0.0070 - accuracy: 0.9980\n",
            "Epoch 00100: val_accuracy did not improve from 0.68497\n",
            "3/3 [==============================] - 0s 17ms/step - loss: 0.0116 - accuracy: 0.9972 - val_loss: 2.2419 - val_accuracy: 0.5867\n"
          ],
          "name": "stdout"
        },
        {
          "output_type": "display_data",
          "data": {
            "image/png": "[encoded data removed]",
            "text/plain": [
              "<Figure size 432x288 with 1 Axes>"
            ]
          },
          "metadata": {
            "tags": [],
            "needs_background": "light"
          }
        }
      ]
    },
    {
      "cell_type": "code",
      "metadata": {
        "id": "Qvuw-xz3YMEl",
        "colab_type": "code",
        "colab": {
          "base_uri": "https://localhost:8080/",
          "height": 51
        },
        "outputId": "622bf109-84b2-4fdc-9df8-bd64e97773d3"
      },
      "source": [
        "# Загружаем лучшие найденные веса\n",
        "model.load_weights('best_model3.h5')\n",
        "score = model.evaluate(xTest, yTest)\n",
        "score"
      ],
      "execution_count": null,
      "outputs": [
        {
          "output_type": "stream",
          "text": [
            "11/11 [==============================] - 0s 5ms/step - loss: 1.8099 - accuracy: 0.6850\n"
          ],
          "name": "stdout"
        },
        {
          "output_type": "execute_result",
          "data": {
            "text/plain": [
              "[1.8098971843719482, 0.6849710941314697]"
            ]
          },
          "metadata": {
            "tags": []
          },
          "execution_count": 63
        }
      ]
    },
    {
      "cell_type": "code",
      "metadata": {
        "id": "ibKYJWlTroGF",
        "colab_type": "code",
        "colab": {
          "base_uri": "https://localhost:8080/",
          "height": 884
        },
        "outputId": "68aac8e1-4d18-41f0-e3c4-9e18d0b1c039"
      },
      "source": [
        "report(model, name)"
      ],
      "execution_count": null,
      "outputs": [
        {
          "output_type": "stream",
          "text": [
            "0 Панкреатит Панкреатит 0.61470586 1 ВЕРНО\n",
            "1 Колит Гастрит 0.47497916 1 НЕ ВЕРНО\n",
            "2 Гастрит Гастрит 0.53427815 40 ВЕРНО\n",
            "3 Эзофагит Гастрит 0.4383287 6 НЕ ВЕРНО\n",
            "4 Гепатит Гастрит 0.45933664 1 НЕ ВЕРНО\n",
            "5 Панкреатит Гастрит 0.5011453 16 НЕ ВЕРНО\n",
            "6 Эзофагит Гастрит 0.49626622 1 НЕ ВЕРНО\n",
            "7 Холицестит Гастрит 0.40886962 1 НЕ ВЕРНО\n",
            "8 Дуоденит Гастрит 0.5016572 1 НЕ ВЕРНО\n",
            "9 Колит Панкреатит 0.374942 1 НЕ ВЕРНО\n",
            "10 Холицестит Гастрит 0.65564734 1 НЕ ВЕРНО\n",
            "11 Дуоденит Гастрит 0.6571908 4 НЕ ВЕРНО\n",
            "12 Дуоденит Гастрит 0.4632535 1 НЕ ВЕРНО\n",
            "13 Холицестит Панкреатит 0.51130444 6 НЕ ВЕРНО\n",
            "14 Аппендицит Панкреатит 0.7087182 1 НЕ ВЕРНО\n",
            "15 Энтерит Гастрит 0.39523253 1 НЕ ВЕРНО\n",
            "16 Колит Гастрит 0.49260733 1 НЕ ВЕРНО\n",
            "17 Панкреатит Гастрит 0.5266238 1 НЕ ВЕРНО\n",
            "18 Холицестит Гастрит 0.7653797 1 НЕ ВЕРНО\n",
            "19 Эзофагит Гастрит 0.5555054 1 НЕ ВЕРНО\n",
            "20 Панкреатит Гастрит 0.43147662 1 НЕ ВЕРНО\n",
            "21 Гепатит Панкреатит 0.41399562 1 НЕ ВЕРНО\n",
            "22 Эзофагит Гастрит 0.39114887 1 НЕ ВЕРНО\n",
            "23 Дуоденит Гастрит 0.4388672 1 НЕ ВЕРНО\n",
            "24 Язва Гастрит 0.5244371 1 НЕ ВЕРНО\n",
            "25 Холицестит Гастрит 0.45876807 1 НЕ ВЕРНО\n",
            "26 Колит Гастрит 0.48088303 1 НЕ ВЕРНО\n",
            "27 Гепатит Гастрит 0.39412594 1 НЕ ВЕРНО\n",
            "28 Гепатит Гастрит 0.51903844 1 НЕ ВЕРНО\n",
            "29 Язва Панкреатит 0.37067816 1 НЕ ВЕРНО\n",
            "30 Гастрит Гастрит 0.591959 1 ВЕРНО\n",
            "31 Дуоденит Гастрит 0.46475276 1 НЕ ВЕРНО\n",
            "32 Колит Гастрит 0.5309889 1 НЕ ВЕРНО\n",
            "33 Энтерит Гастрит 0.5061252 1 НЕ ВЕРНО\n",
            "34 Панкреатит Панкреатит 0.52536047 63 ВЕРНО\n",
            "35 Язва Гастрит 0.6122228 22 НЕ ВЕРНО\n",
            "36 Гепатит Гастрит 0.5238709 1 НЕ ВЕРНО\n",
            "37 Эзофагит Гастрит 0.6508734 1 НЕ ВЕРНО\n",
            "38 Колит Гастрит 0.6056413 1 НЕ ВЕРНО\n",
            "39 Гепатит Гастрит 0.53066427 1 НЕ ВЕРНО\n",
            "40 Эзофагит Гастрит 0.5970644 1 НЕ ВЕРНО\n",
            "41 Колит Гастрит 0.47346517 1 НЕ ВЕРНО\n",
            "42 Энтерит Гастрит 0.53534794 1 НЕ ВЕРНО\n",
            "43 Панкреатит Гастрит 0.510149 1 НЕ ВЕРНО\n",
            "44 Дуоденит Гастрит 0.6123694 1 НЕ ВЕРНО\n",
            "45 Язва Панкреатит 0.46583658 1 НЕ ВЕРНО\n",
            "46 Язва Гастрит 0.522533 1 НЕ ВЕРНО\n",
            "47 Гастрит Гастрит 0.58288944 147 ВЕРНО\n",
            "48 Колит Панкреатит 0.4187082 1 НЕ ВЕРНО\n",
            "49 Энтерит Гастрит 0.5303166 1 НЕ ВЕРНО\n",
            "Модель: 'Embedding + Dense + LSTM + Conv1D' Точных диагнозов: 5/50 (10.0%)\n"
          ],
          "name": "stdout"
        }
      ]
    },
    {
      "cell_type": "code",
      "metadata": {
        "id": "oi206p9YNOlw",
        "colab_type": "code",
        "colab": {}
      },
      "source": [
        ""
      ],
      "execution_count": null,
      "outputs": []
    },
    {
      "cell_type": "markdown",
      "metadata": {
        "id": "Y5lgyRprgKaD",
        "colab_type": "text"
      },
      "source": [
        "**ВЫВОД**\n",
        "\n",
        "Исходные тексты были разбиты на абзацы, каждый абзац считался единицей, подлежащей классификации. Было получено 254 абзаца, они были перетасованы и разделены на обучающую и тестовую выборки (204 и 50 абзацев)\n",
        "\n",
        "Было применен метод \"скользящего окна\" размера 50 и с шагом 1. К более мелким абзацам (короче 50 слов) применялся паддинг. Были опробованы 3 различные архитектуры сети. Наилучший результат (71%) был достигнут на комбинации 'Embedding + LSTM'\n",
        "\n",
        "Отмечу, что точность очень сильно менялась от прогона к прогону и от случайного разбиения выборки. Размер базы явно недостаточен для получения стабильных и высоких результатов.\n"
      ]
    },
    {
      "cell_type": "markdown",
      "metadata": {
        "id": "i1hGTN7nPRnh",
        "colab_type": "text"
      },
      "source": [
        "### Вариант 2\n",
        "\n",
        "Сделайте оценку того, как блоки слов в словаре влияют на точность классификации (на любой базе, например, распознавание писателей). Для этого выполните следующее:\n",
        "- Сформируйте словарь.\n",
        "- Используйте первые 50000 слов.\n",
        "- Разбейте все слова на блоки по 100 слов последовательно.\n",
        "- Поочередно отключайте блоки по одному, то есть сделайте так, чтобы эти слова не использовались при обучении сети, например, их индексы всегда приравнивались к 0.\n",
        "- Оцените, как меняется точность классификации на проверочной выборке.\n",
        "- Сделайте выводы, какие блоки слов влияют в плюс, а какие в минус.\n",
        "- Соберите итоговую подборку слов, в которую войдут только те блоки по 100 слов, которые улучшили точность (исключение которых давало падение точности).\n",
        "- Обучите сеть только на этих блоках слов.\n",
        "- Оцените изменение точности в сравнении с обучением на полном словаре (первые 50000 слов).\n",
        "\n"
      ]
    },
    {
      "cell_type": "code",
      "metadata": {
        "id": "RC6Nzk_1NPaX",
        "colab_type": "code",
        "colab": {
          "base_uri": "https://localhost:8080/",
          "height": 204
        },
        "outputId": "d0905b6d-844a-41e2-c6ee-3bf039742e0d"
      },
      "source": [
        "# Загружаем базу писателей\n",
        "!wget https://xland.ru/uai/hw04/writers.zip\n",
        "!unzip -q 'writers.zip' -d /content/texts "
      ],
      "execution_count": 3,
      "outputs": [
        {
          "output_type": "stream",
          "text": [
            "--2020-08-28 18:15:48--  https://xland.ru/uai/hw04/writers.zip\n",
            "Resolving xland.ru (xland.ru)... 198.211.125.59\n",
            "Connecting to xland.ru (xland.ru)|198.211.125.59|:443... connected.\n",
            "HTTP request sent, awaiting response... 200 OK\n",
            "Length: 8960427 (8.5M) [application/zip]\n",
            "Saving to: ‘writers.zip’\n",
            "\n",
            "writers.zip         100%[===================>]   8.54M  7.55MB/s    in 1.1s    \n",
            "\n",
            "2020-08-28 18:15:50 (7.55 MB/s) - ‘writers.zip’ saved [8960427/8960427]\n",
            "\n"
          ],
          "name": "stdout"
        }
      ]
    },
    {
      "cell_type": "code",
      "metadata": {
        "id": "jSW9Zk5CNPIc",
        "colab_type": "code",
        "colab": {}
      },
      "source": [
        "def readText(fileName): # Объявляем функции для чтения файла. На вход отправляем путь к файлу\n",
        "  f = open(fileName, 'r')        # Задаем открытие нужного файла в режиме чтения\n",
        "  text = f.read()                # Читаем текст\n",
        "  text = text.replace(\"\\n\", \" \") # Переносы строки переводим в пробелы\n",
        "  \n",
        "  return text                    # Возвращаем текст файла\n",
        "\n",
        "className = [\"О. Генри\", \"Стругацкие\", \"Булгаков\", \"Саймак\", \"Фрай\", \"Брэдберри\"] # Объявляем интересующие нас классы\n",
        "nClasses = len(className) # Считаем количество классов"
      ],
      "execution_count": 4,
      "outputs": []
    },
    {
      "cell_type": "code",
      "metadata": {
        "id": "-MhVrYJdNO14",
        "colab_type": "code",
        "colab": {}
      },
      "source": [
        "# Загружаем обучающие тексты\n",
        "trainText = []\n",
        "trainText.append(readText('/content/texts/(О. Генри) Обучающая_50 вместе.txt'))\n",
        "trainText.append(readText('/content/texts/(Стругацкие) Обучающая_5 вместе.txt'))\n",
        "trainText.append(readText('/content/texts/(Булгаков) Обучающая_5 вместе.txt'))\n",
        "trainText.append(readText('/content/texts/(Клиффорд_Саймак) Обучающая_5 вместе.txt'))\n",
        "trainText.append(readText('/content/texts/(Макс Фрай) Обучающая_5 вместе.txt'))\n",
        "trainText.append(readText('/content/texts/(Рэй Брэдберри) Обучающая_22 вместе.txt')) \n",
        "# Загружаем тестовые тексты\n",
        "testText = []\n",
        "testText.append(readText('/content/texts/(О. Генри) Тестовая_20 вместе.txt'))\n",
        "testText.append(readText('/content/texts/(Стругацкие) Тестовая_2 вместе.txt'))\n",
        "testText.append(readText('/content/texts/(Булгаков) Тестовая_2 вместе.txt'))\n",
        "testText.append(readText('/content/texts/(Клиффорд_Саймак) Тестовая_2 вместе.txt'))\n",
        "testText.append(readText('/content/texts/(Макс Фрай) Тестовая_2 вместе.txt'))\n",
        "testText.append(readText('/content/texts/(Рэй Брэдберри) Тестовая_8 вместе.txt'))"
      ],
      "execution_count": 5,
      "outputs": []
    },
    {
      "cell_type": "code",
      "metadata": {
        "id": "U-1vmWU9cAKn",
        "colab_type": "code",
        "colab": {}
      },
      "source": [
        "maxWordsCount = 50000 \n",
        "tokenizer = Tokenizer(num_words=maxWordsCount, filters='–—!\"#$%&()*+,-./:;<=>?@[\\\\]^_`{|}~\\t\\n\\xa0–\\ufeff', lower=True, split=' ', char_level=False, oov_token = 'unknown')\n",
        "tokenizer.fit_on_texts(trainText) \n",
        "items = list(tokenizer.word_index.items())"
      ],
      "execution_count": 6,
      "outputs": []
    },
    {
      "cell_type": "code",
      "metadata": {
        "id": "2aU229m4QXru",
        "colab_type": "code",
        "colab": {}
      },
      "source": [
        "trainWordIndexes = tokenizer.texts_to_sequences(trainText) # обучающие тесты в индексы\n",
        "testWordIndexes = tokenizer.texts_to_sequences(testText)   # проверочные тесты в индексы"
      ],
      "execution_count": 7,
      "outputs": []
    },
    {
      "cell_type": "code",
      "metadata": {
        "id": "wtXoITAbQf63",
        "colab_type": "code",
        "colab": {}
      },
      "source": [
        "def getSetFromIndexes(wordIndexes, xLen, step):\n",
        "  xSample = []\n",
        "  wordsLen = len(wordIndexes)\n",
        "  index = 0  \n",
        "  while (index + xLen <= wordsLen):\n",
        "    xSample.append(wordIndexes[index:index+xLen])\n",
        "    index += step\n",
        "  return xSample\n",
        "\n",
        "def createSetsMultiClasses(wordIndexes, xLen, step): # функция принимает последовательность индексов, размер окна, шаг окна\n",
        "\n",
        "  # Для каждого из 6 классов\n",
        "  # Создаём обучающую/проверочную выборку из индексов\n",
        "  nClasses = len(wordIndexes) # задаем количество классов выборки\n",
        "  classesXSamples = []        # здесь будет список размером \"кол-во классов*кол-во окон в тексте*длину окна(например 6 по 1341*1000)\"\n",
        "  for wI in wordIndexes:      # для каждого текста выборки из последовательности индексов\n",
        "    classesXSamples.append(getSetFromIndexes(wI, xLen, step)) # добавляем в список очередной текст индексов, разбитый на \"кол-во окон*длину окна\" \n",
        "\n",
        "  # Формируем один общий xSamples\n",
        "  xSamples = [] # здесь будет список размером \"суммарное кол-во окон во всех текстах*длину окна(например 15779*1000)\"\n",
        "  ySamples = [] # здесь будет список размером \"суммарное кол-во окон во всех текстах*вектор длиной 6\"\n",
        "  \n",
        "  for t in range(nClasses):  # в диапазоне кол-ва классов(6)\n",
        "    xT = classesXSamples[t]  # берем очередной текст вида \"кол-во окон в тексте*длину окна\"(например 1341*1000)\n",
        "    for i in range(len(xT)): # и каждое его окно\n",
        "      xSamples.append(xT[i]) # добавляем в общий список выборки\n",
        "    \n",
        "    # Формируем ySamples по номеру класса\n",
        "    currY = utils.to_categorical(t, nClasses) # текущий класс переводится в вектор длиной 6 вида [0.0.0.1.0.0.]\n",
        "    for i in range(len(xT)): # на каждое окно выборки \n",
        "      ySamples.append(currY) # добавляем соответствующий вектор класса\n",
        "\n",
        "  xSamples = np.array(xSamples) # переводим в массив numpy для подачи в нейронку\n",
        "  ySamples = np.array(ySamples) # переводим в массив numpy для подачи в нейронку\n",
        "\n",
        "  return (xSamples, ySamples)   # функция возвращает выборку и соответствующие векторы классов"
      ],
      "execution_count": 8,
      "outputs": []
    },
    {
      "cell_type": "code",
      "metadata": {
        "id": "QWF_JZb9QljY",
        "colab_type": "code",
        "colab": {}
      },
      "source": [
        "# Задаём базовые параметры\n",
        "xLen = 1000 # Длина отрезка текста, по которой анализируем, в словах\n",
        "step = 100 # Шаг разбиения исходного текста на обучающие вектора"
      ],
      "execution_count": 9,
      "outputs": []
    },
    {
      "cell_type": "code",
      "metadata": {
        "id": "tON_6CmLQwpf",
        "colab_type": "code",
        "colab": {
          "base_uri": "https://localhost:8080/",
          "height": 85
        },
        "outputId": "d4230d1f-f57e-49fc-d0e5-8689b23747ef"
      },
      "source": [
        "xTrain, yTrain = createSetsMultiClasses(trainWordIndexes, xLen, step) # извлекаем обучающую выборку\n",
        "xTest, yTest = createSetsMultiClasses(testWordIndexes, xLen, step)    # извлекаем тестовую выборку\n",
        "print(xTrain.shape)\n",
        "print(yTrain.shape)\n",
        "print(xTest.shape)\n",
        "print(yTest.shape)"
      ],
      "execution_count": 10,
      "outputs": [
        {
          "output_type": "stream",
          "text": [
            "(17658, 1000)\n",
            "(17658, 6)\n",
            "(6693, 1000)\n",
            "(6693, 6)\n"
          ],
          "name": "stdout"
        }
      ]
    },
    {
      "cell_type": "code",
      "metadata": {
        "id": "H12SLjOMQ1Tf",
        "colab_type": "code",
        "colab": {
          "base_uri": "https://localhost:8080/",
          "height": 1000
        },
        "outputId": "94c753e9-0e0a-4c2f-8579-358da3262fd1"
      },
      "source": [
        "random.seed(1)\n",
        "np.random.seed(1)\n",
        "tf.random.set_seed(1)\n",
        "\n",
        "epochs = 50\n",
        "name = \"Embedding + Conv1D\"\n",
        "\n",
        "model = Sequential() \n",
        "model.add(Embedding(maxWordsCount, 16, input_length=xLen))\n",
        "model.add(SpatialDropout1D(0.2)) \n",
        "model.add(BatchNormalization())\n",
        "\n",
        "model.add(Conv1D(40, 5, activation=\"relu\"))\n",
        "model.add(MaxPooling1D(2))\n",
        "model.add(Dropout(0.3)) \n",
        "model.add(BatchNormalization()) \n",
        "\n",
        "model.add(Flatten()) \n",
        "model.add(Dense(6, activation='softmax'))\n",
        "\n",
        "model.compile(optimizer='rmsprop', \n",
        "              loss='categorical_crossentropy', \n",
        "              metrics=['accuracy'])\n",
        "\n",
        "model.summary()\n",
        "\n",
        "# Создаем коллбэк для запоминания лучшей модели\n",
        "model_save_path = 'best_model.h5'\n",
        "checkpoint_callback = ModelCheckpoint(model_save_path, \n",
        "                                      monitor='val_accuracy',\n",
        "                                      save_best_only=True,\n",
        "                                      verbose=1)\n",
        "history = model.fit(xTrain, \n",
        "                    yTrain, \n",
        "                    epochs=epochs,\n",
        "                    batch_size=512,\n",
        "                    callbacks=[checkpoint_callback],\n",
        "                    validation_data=(xTest, yTest))\n",
        "\n",
        "plt.plot(history.history['accuracy'], \n",
        "         label='Доля верных ответов на обучающем наборе')\n",
        "plt.plot(history.history['val_accuracy'], \n",
        "         label='Доля верных ответов на проверочном наборе')\n",
        "plt.xlabel('Эпоха обучения')\n",
        "plt.ylabel('Доля верных ответов')\n",
        "plt.legend()\n",
        "plt.show()\n"
      ],
      "execution_count": 11,
      "outputs": [
        {
          "output_type": "stream",
          "text": [
            "Model: \"sequential\"\n",
            "_________________________________________________________________\n",
            "Layer (type)                 Output Shape              Param #   \n",
            "=================================================================\n",
            "embedding (Embedding)        (None, 1000, 16)          800000    \n",
            "_________________________________________________________________\n",
            "spatial_dropout1d (SpatialDr (None, 1000, 16)          0         \n",
            "_________________________________________________________________\n",
            "batch_normalization (BatchNo (None, 1000, 16)          64        \n",
            "_________________________________________________________________\n",
            "conv1d (Conv1D)              (None, 996, 40)           3240      \n",
            "_________________________________________________________________\n",
            "max_pooling1d (MaxPooling1D) (None, 498, 40)           0         \n",
            "_________________________________________________________________\n",
            "dropout (Dropout)            (None, 498, 40)           0         \n",
            "_________________________________________________________________\n",
            "batch_normalization_1 (Batch (None, 498, 40)           160       \n",
            "_________________________________________________________________\n",
            "flatten (Flatten)            (None, 19920)             0         \n",
            "_________________________________________________________________\n",
            "dense (Dense)                (None, 6)                 119526    \n",
            "=================================================================\n",
            "Total params: 922,990\n",
            "Trainable params: 922,878\n",
            "Non-trainable params: 112\n",
            "_________________________________________________________________\n",
            "Epoch 1/50\n",
            "35/35 [==============================] - ETA: 0s - loss: 1.1111 - accuracy: 0.6212\n",
            "Epoch 00001: val_accuracy improved from -inf to 0.29284, saving model to best_model.h5\n",
            "35/35 [==============================] - 3s 81ms/step - loss: 1.1111 - accuracy: 0.6212 - val_loss: 1.8843 - val_accuracy: 0.2928\n",
            "Epoch 2/50\n",
            "34/35 [============================>.] - ETA: 0s - loss: 0.0361 - accuracy: 0.9912\n",
            "Epoch 00002: val_accuracy did not improve from 0.29284\n",
            "35/35 [==============================] - 3s 73ms/step - loss: 0.0359 - accuracy: 0.9912 - val_loss: 2.1896 - val_accuracy: 0.2928\n",
            "Epoch 3/50\n",
            "34/35 [============================>.] - ETA: 0s - loss: 0.0064 - accuracy: 0.9984\n",
            "Epoch 00003: val_accuracy did not improve from 0.29284\n",
            "35/35 [==============================] - 3s 72ms/step - loss: 0.0064 - accuracy: 0.9984 - val_loss: 1.9656 - val_accuracy: 0.2928\n",
            "Epoch 4/50\n",
            "34/35 [============================>.] - ETA: 0s - loss: 0.0035 - accuracy: 0.9989\n",
            "Epoch 00004: val_accuracy improved from 0.29284 to 0.29344, saving model to best_model.h5\n",
            "35/35 [==============================] - 3s 74ms/step - loss: 0.0036 - accuracy: 0.9989 - val_loss: 5.0248 - val_accuracy: 0.2934\n",
            "Epoch 5/50\n",
            "34/35 [============================>.] - ETA: 0s - loss: 0.0027 - accuracy: 0.9993\n",
            "Epoch 00005: val_accuracy did not improve from 0.29344\n",
            "35/35 [==============================] - 3s 74ms/step - loss: 0.0027 - accuracy: 0.9993 - val_loss: 5.3083 - val_accuracy: 0.2928\n",
            "Epoch 6/50\n",
            "34/35 [============================>.] - ETA: 0s - loss: 0.0018 - accuracy: 0.9993\n",
            "Epoch 00006: val_accuracy did not improve from 0.29344\n",
            "35/35 [==============================] - 3s 73ms/step - loss: 0.0018 - accuracy: 0.9993 - val_loss: 3.2509 - val_accuracy: 0.2616\n",
            "Epoch 7/50\n",
            "34/35 [============================>.] - ETA: 0s - loss: 0.0017 - accuracy: 0.9994\n",
            "Epoch 00007: val_accuracy improved from 0.29344 to 0.33423, saving model to best_model.h5\n",
            "35/35 [==============================] - 3s 74ms/step - loss: 0.0017 - accuracy: 0.9994 - val_loss: 3.1759 - val_accuracy: 0.3342\n",
            "Epoch 8/50\n",
            "34/35 [============================>.] - ETA: 0s - loss: 0.0029 - accuracy: 0.9990\n",
            "Epoch 00008: val_accuracy did not improve from 0.33423\n",
            "35/35 [==============================] - 3s 73ms/step - loss: 0.0029 - accuracy: 0.9990 - val_loss: 8.0112 - val_accuracy: 0.2928\n",
            "Epoch 9/50\n",
            "34/35 [============================>.] - ETA: 0s - loss: 0.0022 - accuracy: 0.9992\n",
            "Epoch 00009: val_accuracy did not improve from 0.33423\n",
            "35/35 [==============================] - 3s 74ms/step - loss: 0.0022 - accuracy: 0.9992 - val_loss: 6.1536 - val_accuracy: 0.1263\n",
            "Epoch 10/50\n",
            "34/35 [============================>.] - ETA: 0s - loss: 7.6497e-04 - accuracy: 0.9998\n",
            "Epoch 00010: val_accuracy did not improve from 0.33423\n",
            "35/35 [==============================] - 3s 72ms/step - loss: 7.5612e-04 - accuracy: 0.9998 - val_loss: 5.1643 - val_accuracy: 0.2815\n",
            "Epoch 11/50\n",
            "34/35 [============================>.] - ETA: 0s - loss: 4.7839e-04 - accuracy: 0.9998\n",
            "Epoch 00011: val_accuracy improved from 0.33423 to 0.45077, saving model to best_model.h5\n",
            "35/35 [==============================] - 3s 74ms/step - loss: 4.7328e-04 - accuracy: 0.9998 - val_loss: 3.2315 - val_accuracy: 0.4508\n",
            "Epoch 12/50\n",
            "34/35 [============================>.] - ETA: 0s - loss: 0.0017 - accuracy: 0.9995\n",
            "Epoch 00012: val_accuracy did not improve from 0.45077\n",
            "35/35 [==============================] - 3s 73ms/step - loss: 0.0019 - accuracy: 0.9995 - val_loss: 3.9049 - val_accuracy: 0.4281\n",
            "Epoch 13/50\n",
            "34/35 [============================>.] - ETA: 0s - loss: 0.0011 - accuracy: 0.9997\n",
            "Epoch 00013: val_accuracy did not improve from 0.45077\n",
            "35/35 [==============================] - 3s 73ms/step - loss: 0.0012 - accuracy: 0.9996 - val_loss: 3.5969 - val_accuracy: 0.3720\n",
            "Epoch 14/50\n",
            "34/35 [============================>.] - ETA: 0s - loss: 0.0022 - accuracy: 0.9993\n",
            "Epoch 00014: val_accuracy did not improve from 0.45077\n",
            "35/35 [==============================] - 3s 74ms/step - loss: 0.0024 - accuracy: 0.9992 - val_loss: 4.2248 - val_accuracy: 0.4302\n",
            "Epoch 15/50\n",
            "34/35 [============================>.] - ETA: 0s - loss: 0.0023 - accuracy: 0.9992\n",
            "Epoch 00015: val_accuracy improved from 0.45077 to 0.45749, saving model to best_model.h5\n",
            "35/35 [==============================] - 3s 74ms/step - loss: 0.0022 - accuracy: 0.9992 - val_loss: 4.0898 - val_accuracy: 0.4575\n",
            "Epoch 16/50\n",
            "34/35 [============================>.] - ETA: 0s - loss: 0.0011 - accuracy: 0.9997\n",
            "Epoch 00016: val_accuracy did not improve from 0.45749\n",
            "35/35 [==============================] - 3s 72ms/step - loss: 0.0010 - accuracy: 0.9997 - val_loss: 3.6406 - val_accuracy: 0.4423\n",
            "Epoch 17/50\n",
            "34/35 [============================>.] - ETA: 0s - loss: 7.0102e-04 - accuracy: 0.9997\n",
            "Epoch 00017: val_accuracy improved from 0.45749 to 0.46362, saving model to best_model.h5\n",
            "35/35 [==============================] - 3s 74ms/step - loss: 8.9721e-04 - accuracy: 0.9997 - val_loss: 4.1562 - val_accuracy: 0.4636\n",
            "Epoch 18/50\n",
            "34/35 [============================>.] - ETA: 0s - loss: 0.0017 - accuracy: 0.9991\n",
            "Epoch 00018: val_accuracy improved from 0.46362 to 0.65098, saving model to best_model.h5\n",
            "35/35 [==============================] - 3s 74ms/step - loss: 0.0017 - accuracy: 0.9992 - val_loss: 1.8742 - val_accuracy: 0.6510\n",
            "Epoch 19/50\n",
            "34/35 [============================>.] - ETA: 0s - loss: 0.0015 - accuracy: 0.9997\n",
            "Epoch 00019: val_accuracy improved from 0.65098 to 0.72792, saving model to best_model.h5\n",
            "35/35 [==============================] - 3s 74ms/step - loss: 0.0014 - accuracy: 0.9997 - val_loss: 1.3170 - val_accuracy: 0.7279\n",
            "Epoch 20/50\n",
            "34/35 [============================>.] - ETA: 0s - loss: 0.0020 - accuracy: 0.9994\n",
            "Epoch 00020: val_accuracy did not improve from 0.72792\n",
            "35/35 [==============================] - 3s 73ms/step - loss: 0.0020 - accuracy: 0.9994 - val_loss: 1.6230 - val_accuracy: 0.7022\n",
            "Epoch 21/50\n",
            "34/35 [============================>.] - ETA: 0s - loss: 0.0024 - accuracy: 0.9994\n",
            "Epoch 00021: val_accuracy did not improve from 0.72792\n",
            "35/35 [==============================] - 3s 73ms/step - loss: 0.0026 - accuracy: 0.9994 - val_loss: 2.6822 - val_accuracy: 0.6531\n",
            "Epoch 22/50\n",
            "34/35 [============================>.] - ETA: 0s - loss: 0.0015 - accuracy: 0.9994\n",
            "Epoch 00022: val_accuracy did not improve from 0.72792\n",
            "35/35 [==============================] - 3s 71ms/step - loss: 0.0017 - accuracy: 0.9993 - val_loss: 1.9416 - val_accuracy: 0.7042\n",
            "Epoch 23/50\n",
            "34/35 [============================>.] - ETA: 0s - loss: 0.0016 - accuracy: 0.9997\n",
            "Epoch 00023: val_accuracy improved from 0.72792 to 0.73734, saving model to best_model.h5\n",
            "35/35 [==============================] - 3s 72ms/step - loss: 0.0016 - accuracy: 0.9997 - val_loss: 1.6890 - val_accuracy: 0.7373\n",
            "Epoch 24/50\n",
            "34/35 [============================>.] - ETA: 0s - loss: 4.7711e-04 - accuracy: 0.9998\n",
            "Epoch 00024: val_accuracy improved from 0.73734 to 0.77678, saving model to best_model.h5\n",
            "35/35 [==============================] - 3s 73ms/step - loss: 4.7555e-04 - accuracy: 0.9998 - val_loss: 1.4313 - val_accuracy: 0.7768\n",
            "Epoch 25/50\n",
            "34/35 [============================>.] - ETA: 0s - loss: 0.0011 - accuracy: 0.9995\n",
            "Epoch 00025: val_accuracy improved from 0.77678 to 0.78365, saving model to best_model.h5\n",
            "35/35 [==============================] - 3s 74ms/step - loss: 0.0011 - accuracy: 0.9995 - val_loss: 1.4178 - val_accuracy: 0.7837\n",
            "Epoch 26/50\n",
            "34/35 [============================>.] - ETA: 0s - loss: 0.0020 - accuracy: 0.9997\n",
            "Epoch 00026: val_accuracy did not improve from 0.78365\n",
            "35/35 [==============================] - 2s 71ms/step - loss: 0.0020 - accuracy: 0.9996 - val_loss: 2.2284 - val_accuracy: 0.6840\n",
            "Epoch 27/50\n",
            "34/35 [============================>.] - ETA: 0s - loss: 0.0025 - accuracy: 0.9994\n",
            "Epoch 00027: val_accuracy did not improve from 0.78365\n",
            "35/35 [==============================] - 3s 72ms/step - loss: 0.0024 - accuracy: 0.9994 - val_loss: 2.0584 - val_accuracy: 0.7372\n",
            "Epoch 28/50\n",
            "34/35 [============================>.] - ETA: 0s - loss: 0.0030 - accuracy: 0.9994\n",
            "Epoch 00028: val_accuracy did not improve from 0.78365\n",
            "35/35 [==============================] - 2s 71ms/step - loss: 0.0029 - accuracy: 0.9994 - val_loss: 1.9329 - val_accuracy: 0.7539\n",
            "Epoch 29/50\n",
            "34/35 [============================>.] - ETA: 0s - loss: 8.3378e-04 - accuracy: 0.9997\n",
            "Epoch 00029: val_accuracy did not improve from 0.78365\n",
            "35/35 [==============================] - 2s 71ms/step - loss: 8.3099e-04 - accuracy: 0.9997 - val_loss: 2.0767 - val_accuracy: 0.7600\n",
            "Epoch 30/50\n",
            "34/35 [============================>.] - ETA: 0s - loss: 0.0014 - accuracy: 0.9997\n",
            "Epoch 00030: val_accuracy did not improve from 0.78365\n",
            "35/35 [==============================] - 2s 70ms/step - loss: 0.0015 - accuracy: 0.9996 - val_loss: 1.8762 - val_accuracy: 0.7793\n",
            "Epoch 31/50\n",
            "34/35 [============================>.] - ETA: 0s - loss: 0.0013 - accuracy: 0.9995\n",
            "Epoch 00031: val_accuracy did not improve from 0.78365\n",
            "35/35 [==============================] - 2s 71ms/step - loss: 0.0013 - accuracy: 0.9995 - val_loss: 2.2209 - val_accuracy: 0.7524\n",
            "Epoch 32/50\n",
            "34/35 [============================>.] - ETA: 0s - loss: 0.0016 - accuracy: 0.9997\n",
            "Epoch 00032: val_accuracy did not improve from 0.78365\n",
            "35/35 [==============================] - 2s 71ms/step - loss: 0.0017 - accuracy: 0.9996 - val_loss: 2.2942 - val_accuracy: 0.7357\n",
            "Epoch 33/50\n",
            "34/35 [============================>.] - ETA: 0s - loss: 0.0017 - accuracy: 0.9994\n",
            "Epoch 00033: val_accuracy did not improve from 0.78365\n",
            "35/35 [==============================] - 3s 72ms/step - loss: 0.0017 - accuracy: 0.9994 - val_loss: 2.3167 - val_accuracy: 0.7329\n",
            "Epoch 34/50\n",
            "35/35 [==============================] - ETA: 0s - loss: 0.0012 - accuracy: 0.9997\n",
            "Epoch 00034: val_accuracy did not improve from 0.78365\n",
            "35/35 [==============================] - 3s 72ms/step - loss: 0.0012 - accuracy: 0.9997 - val_loss: 1.9954 - val_accuracy: 0.7623\n",
            "Epoch 35/50\n",
            "34/35 [============================>.] - ETA: 0s - loss: 0.0020 - accuracy: 0.9994\n",
            "Epoch 00035: val_accuracy did not improve from 0.78365\n",
            "35/35 [==============================] - 3s 72ms/step - loss: 0.0020 - accuracy: 0.9994 - val_loss: 2.0257 - val_accuracy: 0.7484\n",
            "Epoch 36/50\n",
            "34/35 [============================>.] - ETA: 0s - loss: 0.0022 - accuracy: 0.9994\n",
            "Epoch 00036: val_accuracy did not improve from 0.78365\n",
            "35/35 [==============================] - 3s 72ms/step - loss: 0.0022 - accuracy: 0.9994 - val_loss: 2.5420 - val_accuracy: 0.7318\n",
            "Epoch 37/50\n",
            "34/35 [============================>.] - ETA: 0s - loss: 0.0018 - accuracy: 0.9995\n",
            "Epoch 00037: val_accuracy did not improve from 0.78365\n",
            "35/35 [==============================] - 2s 71ms/step - loss: 0.0023 - accuracy: 0.9994 - val_loss: 3.2144 - val_accuracy: 0.6846\n",
            "Epoch 38/50\n",
            "34/35 [============================>.] - ETA: 0s - loss: 0.0012 - accuracy: 0.9996\n",
            "Epoch 00038: val_accuracy did not improve from 0.78365\n",
            "35/35 [==============================] - 2s 71ms/step - loss: 0.0012 - accuracy: 0.9996 - val_loss: 1.9679 - val_accuracy: 0.7644\n",
            "Epoch 39/50\n",
            "34/35 [============================>.] - ETA: 0s - loss: 0.0019 - accuracy: 0.9995\n",
            "Epoch 00039: val_accuracy did not improve from 0.78365\n",
            "35/35 [==============================] - 3s 72ms/step - loss: 0.0019 - accuracy: 0.9995 - val_loss: 1.9372 - val_accuracy: 0.7663\n",
            "Epoch 40/50\n",
            "34/35 [============================>.] - ETA: 0s - loss: 0.0013 - accuracy: 0.9996\n",
            "Epoch 00040: val_accuracy did not improve from 0.78365\n",
            "35/35 [==============================] - 3s 74ms/step - loss: 0.0013 - accuracy: 0.9996 - val_loss: 2.1102 - val_accuracy: 0.7668\n",
            "Epoch 41/50\n",
            "34/35 [============================>.] - ETA: 0s - loss: 0.0027 - accuracy: 0.9994\n",
            "Epoch 00041: val_accuracy did not improve from 0.78365\n",
            "35/35 [==============================] - 3s 73ms/step - loss: 0.0026 - accuracy: 0.9994 - val_loss: 1.9900 - val_accuracy: 0.7708\n",
            "Epoch 42/50\n",
            "34/35 [============================>.] - ETA: 0s - loss: 8.6207e-04 - accuracy: 0.9997\n",
            "Epoch 00042: val_accuracy did not improve from 0.78365\n",
            "35/35 [==============================] - 3s 73ms/step - loss: 8.5024e-04 - accuracy: 0.9997 - val_loss: 2.4659 - val_accuracy: 0.7545\n",
            "Epoch 43/50\n",
            "34/35 [============================>.] - ETA: 0s - loss: 0.0019 - accuracy: 0.9995\n",
            "Epoch 00043: val_accuracy did not improve from 0.78365\n",
            "35/35 [==============================] - 3s 72ms/step - loss: 0.0018 - accuracy: 0.9995 - val_loss: 2.6535 - val_accuracy: 0.7352\n",
            "Epoch 44/50\n",
            "34/35 [============================>.] - ETA: 0s - loss: 0.0021 - accuracy: 0.9994\n",
            "Epoch 00044: val_accuracy did not improve from 0.78365\n",
            "35/35 [==============================] - 2s 70ms/step - loss: 0.0021 - accuracy: 0.9994 - val_loss: 2.2148 - val_accuracy: 0.7666\n",
            "Epoch 45/50\n",
            "34/35 [============================>.] - ETA: 0s - loss: 0.0018 - accuracy: 0.9997\n",
            "Epoch 00045: val_accuracy did not improve from 0.78365\n",
            "35/35 [==============================] - 2s 71ms/step - loss: 0.0018 - accuracy: 0.9997 - val_loss: 4.2113 - val_accuracy: 0.6251\n",
            "Epoch 46/50\n",
            "34/35 [============================>.] - ETA: 0s - loss: 4.2341e-04 - accuracy: 0.9999\n",
            "Epoch 00046: val_accuracy did not improve from 0.78365\n",
            "35/35 [==============================] - 2s 71ms/step - loss: 4.8834e-04 - accuracy: 0.9998 - val_loss: 5.3090 - val_accuracy: 0.5237\n",
            "Epoch 47/50\n",
            "34/35 [============================>.] - ETA: 0s - loss: 0.0019 - accuracy: 0.9995\n",
            "Epoch 00047: val_accuracy did not improve from 0.78365\n",
            "35/35 [==============================] - 2s 71ms/step - loss: 0.0019 - accuracy: 0.9995 - val_loss: 2.1407 - val_accuracy: 0.7568\n",
            "Epoch 48/50\n",
            "34/35 [============================>.] - ETA: 0s - loss: 7.0902e-04 - accuracy: 0.9998\n",
            "Epoch 00048: val_accuracy did not improve from 0.78365\n",
            "35/35 [==============================] - 2s 71ms/step - loss: 6.9898e-04 - accuracy: 0.9998 - val_loss: 1.9605 - val_accuracy: 0.7763\n",
            "Epoch 49/50\n",
            "34/35 [============================>.] - ETA: 0s - loss: 0.0016 - accuracy: 0.9995\n",
            "Epoch 00049: val_accuracy did not improve from 0.78365\n",
            "35/35 [==============================] - 2s 71ms/step - loss: 0.0016 - accuracy: 0.9995 - val_loss: 2.5890 - val_accuracy: 0.7172\n",
            "Epoch 50/50\n",
            "34/35 [============================>.] - ETA: 0s - loss: 0.0030 - accuracy: 0.9992\n",
            "Epoch 00050: val_accuracy did not improve from 0.78365\n",
            "35/35 [==============================] - 2s 71ms/step - loss: 0.0030 - accuracy: 0.9992 - val_loss: 2.5157 - val_accuracy: 0.7577\n"
          ],
          "name": "stdout"
        },
        {
          "output_type": "display_data",
          "data": {
            "image/png": "[encoded data removed]",
            "text/plain": [
              "<Figure size 432x288 with 1 Axes>"
            ]
          },
          "metadata": {
            "tags": [],
            "needs_background": "light"
          }
        }
      ]
    },
    {
      "cell_type": "code",
      "metadata": {
        "id": "abm8VoEd_Tir",
        "colab_type": "code",
        "colab": {}
      },
      "source": [
        "# Загружаем лучшие найденные веса\n",
        "model.load_weights('best_model.h5')"
      ],
      "execution_count": 12,
      "outputs": []
    },
    {
      "cell_type": "code",
      "metadata": {
        "id": "PToN6XztRHLm",
        "colab_type": "code",
        "colab": {
          "base_uri": "https://localhost:8080/",
          "height": 34
        },
        "outputId": "86bb7aed-e5db-4845-e475-7a99928b6ce6"
      },
      "source": [
        "# Тестируем модель на тестовой выборке\n",
        "score = model.evaluate(xTest, yTest)"
      ],
      "execution_count": 13,
      "outputs": [
        {
          "output_type": "stream",
          "text": [
            "210/210 [==============================] - 1s 4ms/step - loss: 1.4178 - accuracy: 0.7837\n"
          ],
          "name": "stdout"
        }
      ]
    },
    {
      "cell_type": "code",
      "metadata": {
        "id": "1qmYWR7PAM0R",
        "colab_type": "code",
        "colab": {
          "base_uri": "https://localhost:8080/",
          "height": 34
        },
        "outputId": "fd6cff4b-a96b-4f5d-c369-f3a33a067b30"
      },
      "source": [
        "# Эта точность соответствует числу правильно распознаных блоков:\n",
        "Ncor = len(xTest)*score[1]\n",
        "Ncor "
      ],
      "execution_count": 14,
      "outputs": [
        {
          "output_type": "execute_result",
          "data": {
            "text/plain": [
              "5245.000040888786"
            ]
          },
          "metadata": {
            "tags": []
          },
          "execution_count": 14
        }
      ]
    },
    {
      "cell_type": "code",
      "metadata": {
        "id": "bmORxgNkUThA",
        "colab_type": "code",
        "colab": {}
      },
      "source": [
        "# Функция заменяет токены в тестовой выборке в указанном диапазоне на 1 \n",
        "# Возвращает новую выборку, не меня исходной\n",
        "def del100(xTest, i, bsize):\n",
        "    low = i * bsize \n",
        "    high = low + bsize\n",
        "    xTest_ = xTest.copy()\n",
        "    for block in xTest_:\n",
        "        for j, token in enumerate(block):\n",
        "            if token > low and token <= high:\n",
        "                block[j] = 1 # set out of vocabulary\n",
        "    return xTest_\n"
      ],
      "execution_count": 15,
      "outputs": []
    },
    {
      "cell_type": "code",
      "metadata": {
        "id": "IhW4jH5EUVrp",
        "colab_type": "code",
        "colab": {
          "base_uri": "https://localhost:8080/",
          "height": 1000
        },
        "outputId": "a51b61db-dbb0-4e1e-f6c7-0e765b258de2"
      },
      "source": [
        "# В цикле будем последовательно отключать по одному блоку из тестовой выборки. \n",
        "blockSize = 100\n",
        "N = maxWordsCount // blockSize # N = 500\n",
        "M = len(xTest)\n",
        "data = np.zeros((N)) # list of accuracies.\n",
        "for i in range(N): # в цикле по всем блокам словаря \n",
        "    xTest_ = del100(xTest, i, blockSize)\n",
        "    score = model.evaluate(xTest_, yTest, verbose=0)\n",
        "    data[i] = score[1]\n",
        "    print(i, score[1], int(Ncor - score[1]*M) ) # Ncor = 4918 - число верно распознанных окон\n",
        "\n",
        "# номер блока - точность - на сколько блоков стало хуже после удаления этого блока"
      ],
      "execution_count": 16,
      "outputs": [
        {
          "output_type": "stream",
          "text": [
            "0 0.5109816193580627 1825\n",
            "1 0.702375590801239 544\n",
            "2 0.751382052898407 215\n",
            "3 0.750933825969696 218\n",
            "4 0.7654265761375427 121\n",
            "5 0.7627372145652771 139\n",
            "6 0.764380693435669 129\n",
            "7 0.7688629627227783 99\n",
            "8 0.769759476184845 92\n",
            "9 0.7734947204589844 67\n",
            "10 0.7742417454719543 63\n",
            "11 0.7781264185905457 36\n",
            "12 0.7778275609016418 39\n",
            "13 0.7757358551025391 52\n",
            "14 0.7775287628173828 41\n",
            "15 0.7794710993766785 27\n",
            "16 0.7808157801628113 19\n",
            "17 0.7814134359359741 14\n",
            "18 0.7806663513183594 20\n",
            "19 0.7817122340202332 13\n",
            "20 0.7803675532341003 22\n",
            "21 0.7811145782470703 17\n",
            "22 0.7797698974609375 26\n",
            "23 0.7806663513183594 20\n",
            "24 0.7772299647331238 42\n",
            "25 0.7812640070915222 16\n",
            "26 0.7808157801628113 19\n",
            "27 0.7820110321044922 11\n",
            "28 0.7809652090072632 17\n",
            "29 0.7811145782470703 17\n",
            "30 0.7829074859619141 5\n",
            "31 0.783056914806366 4\n",
            "32 0.7820110321044922 11\n",
            "33 0.7818616628646851 11\n",
            "34 0.7812640070915222 16\n",
            "35 0.7832063436508179 2\n",
            "36 0.7842522263526917 -4\n",
            "37 0.7814134359359741 14\n",
            "38 0.7841027975082397 -2\n",
            "39 0.7829074859619141 5\n",
            "40 0.7812640070915222 16\n",
            "41 0.7824592590332031 8\n",
            "42 0.7794710993766785 27\n",
            "43 0.7797698974609375 26\n",
            "44 0.7815628051757812 14\n",
            "45 0.7817122340202332 13\n",
            "46 0.7832063436508179 2\n",
            "47 0.7832063436508179 2\n",
            "48 0.7808157801628113 19\n",
            "49 0.7815628051757812 14\n",
            "50 0.7824592590332031 8\n",
            "51 0.7803675532341003 22\n",
            "52 0.7821604609489441 10\n",
            "53 0.7818616628646851 11\n",
            "54 0.7811145782470703 17\n",
            "55 0.7832063436508179 2\n",
            "56 0.7815628051757812 14\n",
            "57 0.782608687877655 7\n",
            "58 0.7820110321044922 11\n",
            "59 0.7827581167221069 5\n",
            "60 0.7821604609489441 10\n",
            "61 0.7814134359359741 14\n",
            "62 0.7815628051757812 14\n",
            "63 0.7829074859619141 5\n",
            "64 0.7820110321044922 11\n",
            "65 0.7838039994239807 -1\n",
            "66 0.7836545705795288 0\n",
            "67 0.7835051417350769 1\n",
            "68 0.7821604609489441 10\n",
            "69 0.7829074859619141 5\n",
            "70 0.7820110321044922 11\n",
            "71 0.7824592590332031 8\n",
            "72 0.7845510244369507 -5\n",
            "73 0.7829074859619141 5\n",
            "74 0.7824592590332031 8\n",
            "75 0.7833557724952698 1\n",
            "76 0.7838039994239807 -1\n",
            "77 0.7818616628646851 11\n",
            "78 0.7832063436508179 2\n",
            "79 0.7833557724952698 1\n",
            "80 0.7821604609489441 10\n",
            "81 0.7824592590332031 8\n",
            "82 0.7815628051757812 14\n",
            "83 0.7847004532814026 -7\n",
            "84 0.7827581167221069 5\n",
            "85 0.783056914806366 4\n",
            "86 0.7832063436508179 2\n",
            "87 0.7824592590332031 8\n",
            "88 0.7835051417350769 1\n",
            "89 0.782608687877655 7\n",
            "90 0.7833557724952698 1\n",
            "91 0.7815628051757812 14\n",
            "92 0.7836545705795288 0\n",
            "93 0.7817122340202332 13\n",
            "94 0.7821604609489441 10\n",
            "95 0.7827581167221069 5\n",
            "96 0.783056914806366 4\n",
            "97 0.7838039994239807 -1\n",
            "98 0.7829074859619141 5\n",
            "99 0.7832063436508179 2\n",
            "100 0.7835051417350769 1\n",
            "101 0.7841027975082397 -2\n",
            "102 0.7832063436508179 2\n",
            "103 0.782608687877655 7\n",
            "104 0.7833557724952698 1\n",
            "105 0.7824592590332031 8\n",
            "106 0.7847004532814026 -7\n",
            "107 0.7829074859619141 5\n",
            "108 0.7829074859619141 5\n",
            "109 0.7839533686637878 -1\n",
            "110 0.7832063436508179 2\n",
            "111 0.7832063436508179 2\n",
            "112 0.7818616628646851 11\n",
            "113 0.7833557724952698 1\n",
            "114 0.7829074859619141 5\n",
            "115 0.7827581167221069 5\n",
            "116 0.7817122340202332 13\n",
            "117 0.7838039994239807 -1\n",
            "118 0.7824592590332031 8\n",
            "119 0.7832063436508179 2\n",
            "120 0.7832063436508179 2\n",
            "121 0.7838039994239807 -1\n",
            "122 0.7841027975082397 -2\n",
            "123 0.783056914806366 4\n",
            "124 0.7839533686637878 -1\n",
            "125 0.7841027975082397 -2\n",
            "126 0.7836545705795288 0\n",
            "127 0.7827581167221069 5\n",
            "128 0.7841027975082397 -2\n",
            "129 0.782608687877655 7\n",
            "130 0.7832063436508179 2\n",
            "131 0.7839533686637878 -1\n",
            "132 0.7836545705795288 0\n",
            "133 0.7836545705795288 0\n",
            "134 0.7832063436508179 2\n",
            "135 0.7827581167221069 5\n",
            "136 0.7827581167221069 5\n",
            "137 0.782309889793396 8\n",
            "138 0.783056914806366 4\n",
            "139 0.7839533686637878 -1\n",
            "140 0.7839533686637878 -1\n",
            "141 0.7832063436508179 2\n",
            "142 0.7844015955924988 -4\n",
            "143 0.7827581167221069 5\n",
            "144 0.7829074859619141 5\n",
            "145 0.7835051417350769 1\n",
            "146 0.7833557724952698 1\n",
            "147 0.7842522263526917 -4\n",
            "148 0.7833557724952698 1\n",
            "149 0.783056914806366 4\n",
            "150 0.7838039994239807 -1\n",
            "151 0.783056914806366 4\n",
            "152 0.7832063436508179 2\n",
            "153 0.7833557724952698 1\n",
            "154 0.7839533686637878 -1\n",
            "155 0.7827581167221069 5\n",
            "156 0.7844015955924988 -4\n",
            "157 0.782309889793396 8\n",
            "158 0.7835051417350769 1\n",
            "159 0.7833557724952698 1\n",
            "160 0.7833557724952698 1\n",
            "161 0.7838039994239807 -1\n",
            "162 0.7836545705795288 0\n",
            "163 0.7827581167221069 5\n",
            "164 0.783056914806366 4\n",
            "165 0.7833557724952698 1\n",
            "166 0.7827581167221069 5\n",
            "167 0.7839533686637878 -1\n",
            "168 0.7858957052230835 -14\n",
            "169 0.7838039994239807 -1\n",
            "170 0.7838039994239807 -1\n",
            "171 0.7832063436508179 2\n",
            "172 0.7835051417350769 1\n",
            "173 0.7835051417350769 1\n",
            "174 0.7817122340202332 13\n",
            "175 0.783056914806366 4\n",
            "176 0.7842522263526917 -4\n",
            "177 0.7832063436508179 2\n",
            "178 0.7836545705795288 0\n",
            "179 0.7829074859619141 5\n",
            "180 0.7827581167221069 5\n",
            "181 0.7839533686637878 -1\n",
            "182 0.783056914806366 4\n",
            "183 0.7829074859619141 5\n",
            "184 0.7842522263526917 -4\n",
            "185 0.7838039994239807 -1\n",
            "186 0.783056914806366 4\n",
            "187 0.7827581167221069 5\n",
            "188 0.7844015955924988 -4\n",
            "189 0.7845510244369507 -5\n",
            "190 0.7839533686637878 -1\n",
            "191 0.7839533686637878 -1\n",
            "192 0.7841027975082397 -2\n",
            "193 0.7836545705795288 0\n",
            "194 0.7836545705795288 0\n",
            "195 0.7835051417350769 1\n",
            "196 0.7841027975082397 -2\n",
            "197 0.7829074859619141 5\n",
            "198 0.783056914806366 4\n",
            "199 0.7841027975082397 -2\n",
            "200 0.7836545705795288 0\n",
            "201 0.7839533686637878 -1\n",
            "202 0.7836545705795288 0\n",
            "203 0.7838039994239807 -1\n",
            "204 0.7842522263526917 -4\n",
            "205 0.7842522263526917 -4\n",
            "206 0.7829074859619141 5\n",
            "207 0.7839533686637878 -1\n",
            "208 0.7832063436508179 2\n",
            "209 0.7836545705795288 0\n",
            "210 0.7833557724952698 1\n",
            "211 0.7833557724952698 1\n",
            "212 0.7838039994239807 -1\n",
            "213 0.7832063436508179 2\n",
            "214 0.7785746455192566 33\n",
            "215 0.7833557724952698 1\n",
            "216 0.7841027975082397 -2\n",
            "217 0.7842522263526917 -4\n",
            "218 0.7841027975082397 -2\n",
            "219 0.7833557724952698 1\n",
            "220 0.7835051417350769 1\n",
            "221 0.7835051417350769 1\n",
            "222 0.7829074859619141 5\n",
            "223 0.7835051417350769 1\n",
            "224 0.7838039994239807 -1\n",
            "225 0.7838039994239807 -1\n",
            "226 0.7836545705795288 0\n",
            "227 0.7836545705795288 0\n",
            "228 0.7827581167221069 5\n",
            "229 0.7836545705795288 0\n",
            "230 0.7829074859619141 5\n",
            "231 0.7833557724952698 1\n",
            "232 0.7841027975082397 -2\n",
            "233 0.7839533686637878 -1\n",
            "234 0.7839533686637878 -1\n",
            "235 0.7836545705795288 0\n",
            "236 0.7836545705795288 0\n",
            "237 0.7832063436508179 2\n",
            "238 0.7833557724952698 1\n",
            "239 0.783056914806366 4\n",
            "240 0.7836545705795288 0\n",
            "241 0.7839533686637878 -1\n",
            "242 0.7841027975082397 -2\n",
            "243 0.7833557724952698 1\n",
            "244 0.7842522263526917 -4\n",
            "245 0.7836545705795288 0\n",
            "246 0.7838039994239807 -1\n",
            "247 0.7838039994239807 -1\n",
            "248 0.7832063436508179 2\n",
            "249 0.7836545705795288 0\n",
            "250 0.7839533686637878 -1\n",
            "251 0.7832063436508179 2\n",
            "252 0.782608687877655 7\n",
            "253 0.783056914806366 4\n",
            "254 0.7835051417350769 1\n",
            "255 0.783056914806366 4\n",
            "256 0.7832063436508179 2\n",
            "257 0.7838039994239807 -1\n",
            "258 0.7836545705795288 0\n",
            "259 0.7836545705795288 0\n",
            "260 0.7835051417350769 1\n",
            "261 0.7839533686637878 -1\n",
            "262 0.7835051417350769 1\n",
            "263 0.7839533686637878 -1\n",
            "264 0.7835051417350769 1\n",
            "265 0.7839533686637878 -1\n",
            "266 0.7833557724952698 1\n",
            "267 0.7833557724952698 1\n",
            "268 0.7833557724952698 1\n",
            "269 0.7838039994239807 -1\n",
            "270 0.7839533686637878 -1\n",
            "271 0.7838039994239807 -1\n",
            "272 0.7833557724952698 1\n",
            "273 0.7838039994239807 -1\n",
            "274 0.783056914806366 4\n",
            "275 0.7839533686637878 -1\n",
            "276 0.7835051417350769 1\n",
            "277 0.7836545705795288 0\n",
            "278 0.7833557724952698 1\n",
            "279 0.7836545705795288 0\n",
            "280 0.7829074859619141 5\n",
            "281 0.7836545705795288 0\n",
            "282 0.7838039994239807 -1\n",
            "283 0.7839533686637878 -1\n",
            "284 0.7833557724952698 1\n",
            "285 0.7836545705795288 0\n",
            "286 0.7833557724952698 1\n",
            "287 0.7833557724952698 1\n",
            "288 0.7827581167221069 5\n",
            "289 0.783056914806366 4\n",
            "290 0.7832063436508179 2\n",
            "291 0.7829074859619141 5\n",
            "292 0.7833557724952698 1\n",
            "293 0.7836545705795288 0\n",
            "294 0.7838039994239807 -1\n",
            "295 0.7839533686637878 -1\n",
            "296 0.7829074859619141 5\n",
            "297 0.7832063436508179 2\n",
            "298 0.7839533686637878 -1\n",
            "299 0.7835051417350769 1\n",
            "300 0.7836545705795288 0\n",
            "301 0.7836545705795288 0\n",
            "302 0.7841027975082397 -2\n",
            "303 0.7833557724952698 1\n",
            "304 0.7832063436508179 2\n",
            "305 0.7835051417350769 1\n",
            "306 0.7832063436508179 2\n",
            "307 0.7839533686637878 -1\n",
            "308 0.7835051417350769 1\n",
            "309 0.7839533686637878 -1\n",
            "310 0.7835051417350769 1\n",
            "311 0.783056914806366 4\n",
            "312 0.7838039994239807 -1\n",
            "313 0.7835051417350769 1\n",
            "314 0.783056914806366 4\n",
            "315 0.7838039994239807 -1\n",
            "316 0.7836545705795288 0\n",
            "317 0.7836545705795288 0\n",
            "318 0.7839533686637878 -1\n",
            "319 0.7838039994239807 -1\n",
            "320 0.7842522263526917 -4\n",
            "321 0.7836545705795288 0\n",
            "322 0.7835051417350769 1\n",
            "323 0.783056914806366 4\n",
            "324 0.7841027975082397 -2\n",
            "325 0.7836545705795288 0\n",
            "326 0.7836545705795288 0\n",
            "327 0.7832063436508179 2\n",
            "328 0.7833557724952698 1\n",
            "329 0.7841027975082397 -2\n",
            "330 0.783056914806366 4\n",
            "331 0.783056914806366 4\n",
            "332 0.7832063436508179 2\n",
            "333 0.7835051417350769 1\n",
            "334 0.7839533686637878 -1\n",
            "335 0.7836545705795288 0\n",
            "336 0.7835051417350769 1\n",
            "337 0.7841027975082397 -2\n",
            "338 0.7838039994239807 -1\n",
            "339 0.7838039994239807 -1\n",
            "340 0.7839533686637878 -1\n",
            "341 0.7835051417350769 1\n",
            "342 0.7829074859619141 5\n",
            "343 0.7730464935302734 70\n",
            "344 0.7845510244369507 -5\n",
            "345 0.7833557724952698 1\n",
            "346 0.7838039994239807 -1\n",
            "347 0.7836545705795288 0\n",
            "348 0.7838039994239807 -1\n",
            "349 0.7832063436508179 2\n",
            "350 0.7833557724952698 1\n",
            "351 0.7841027975082397 -2\n",
            "352 0.7839533686637878 -1\n",
            "353 0.7835051417350769 1\n",
            "354 0.783056914806366 4\n",
            "355 0.7833557724952698 1\n",
            "356 0.7839533686637878 -1\n",
            "357 0.7832063436508179 2\n",
            "358 0.7838039994239807 -1\n",
            "359 0.7838039994239807 -1\n",
            "360 0.7835051417350769 1\n",
            "361 0.7832063436508179 2\n",
            "362 0.7836545705795288 0\n",
            "363 0.7835051417350769 1\n",
            "364 0.7838039994239807 -1\n",
            "365 0.7838039994239807 -1\n",
            "366 0.7839533686637878 -1\n",
            "367 0.7836545705795288 0\n",
            "368 0.7839533686637878 -1\n",
            "369 0.7835051417350769 1\n",
            "370 0.7839533686637878 -1\n",
            "371 0.7839533686637878 -1\n",
            "372 0.7839533686637878 -1\n",
            "373 0.7835051417350769 1\n",
            "374 0.7839533686637878 -1\n",
            "375 0.7839533686637878 -1\n",
            "376 0.7832063436508179 2\n",
            "377 0.7838039994239807 -1\n",
            "378 0.7838039994239807 -1\n",
            "379 0.7838039994239807 -1\n",
            "380 0.7836545705795288 0\n",
            "381 0.7836545705795288 0\n",
            "382 0.7838039994239807 -1\n",
            "383 0.7832063436508179 2\n",
            "384 0.7844015955924988 -4\n",
            "385 0.7835051417350769 1\n",
            "386 0.7836545705795288 0\n",
            "387 0.7838039994239807 -1\n",
            "388 0.7836545705795288 0\n",
            "389 0.7833557724952698 1\n",
            "390 0.782608687877655 7\n",
            "391 0.7838039994239807 -1\n",
            "392 0.783056914806366 4\n",
            "393 0.7832063436508179 2\n",
            "394 0.7835051417350769 1\n",
            "395 0.7832063436508179 2\n",
            "396 0.7841027975082397 -2\n",
            "397 0.7835051417350769 1\n",
            "398 0.783056914806366 4\n",
            "399 0.7827581167221069 5\n",
            "400 0.782608687877655 7\n",
            "401 0.7878380417823792 -27\n",
            "402 0.7836545705795288 0\n",
            "403 0.7836545705795288 0\n",
            "404 0.7836545705795288 0\n",
            "405 0.7839533686637878 -1\n",
            "406 0.7838039994239807 -1\n",
            "407 0.7835051417350769 1\n",
            "408 0.7835051417350769 1\n",
            "409 0.7838039994239807 -1\n",
            "410 0.7836545705795288 0\n",
            "411 0.7832063436508179 2\n",
            "412 0.7836545705795288 0\n",
            "413 0.7839533686637878 -1\n",
            "414 0.7836545705795288 0\n",
            "415 0.7847004532814026 -7\n",
            "416 0.7839533686637878 -1\n",
            "417 0.7833557724952698 1\n",
            "418 0.7838039994239807 -1\n",
            "419 0.7832063436508179 2\n",
            "420 0.7833557724952698 1\n",
            "421 0.7833557724952698 1\n",
            "422 0.7835051417350769 1\n",
            "423 0.7838039994239807 -1\n",
            "424 0.7835051417350769 1\n",
            "425 0.7839533686637878 -1\n",
            "426 0.7836545705795288 0\n",
            "427 0.7833557724952698 1\n",
            "428 0.7841027975082397 -2\n",
            "429 0.7833557724952698 1\n",
            "430 0.7838039994239807 -1\n",
            "431 0.7839533686637878 -1\n",
            "432 0.7836545705795288 0\n",
            "433 0.7839533686637878 -1\n",
            "434 0.7838039994239807 -1\n",
            "435 0.7858957052230835 -14\n",
            "436 0.7836545705795288 0\n",
            "437 0.7835051417350769 1\n",
            "438 0.7841027975082397 -2\n",
            "439 0.7832063436508179 2\n",
            "440 0.7839533686637878 -1\n",
            "441 0.7835051417350769 1\n",
            "442 0.7835051417350769 1\n",
            "443 0.7829074859619141 5\n",
            "444 0.7838039994239807 -1\n",
            "445 0.7832063436508179 2\n",
            "446 0.783056914806366 4\n",
            "447 0.7839533686637878 -1\n",
            "448 0.7833557724952698 1\n",
            "449 0.7836545705795288 0\n",
            "450 0.7841027975082397 -2\n",
            "451 0.7835051417350769 1\n",
            "452 0.7836545705795288 0\n",
            "453 0.7835051417350769 1\n",
            "454 0.7836545705795288 0\n",
            "455 0.783056914806366 4\n",
            "456 0.783056914806366 4\n",
            "457 0.7833557724952698 1\n",
            "458 0.7836545705795288 0\n",
            "459 0.783056914806366 4\n",
            "460 0.7832063436508179 2\n",
            "461 0.7833557724952698 1\n",
            "462 0.7835051417350769 1\n",
            "463 0.7833557724952698 1\n",
            "464 0.7841027975082397 -2\n",
            "465 0.7836545705795288 0\n",
            "466 0.7835051417350769 1\n",
            "467 0.7842522263526917 -4\n",
            "468 0.7838039994239807 -1\n",
            "469 0.7836545705795288 0\n",
            "470 0.7833557724952698 1\n",
            "471 0.7835051417350769 1\n",
            "472 0.7838039994239807 -1\n",
            "473 0.7839533686637878 -1\n",
            "474 0.7839533686637878 -1\n",
            "475 0.7836545705795288 0\n",
            "476 0.7841027975082397 -2\n",
            "477 0.7835051417350769 1\n",
            "478 0.7835051417350769 1\n",
            "479 0.7835051417350769 1\n",
            "480 0.7839533686637878 -1\n",
            "481 0.7835051417350769 1\n",
            "482 0.7836545705795288 0\n",
            "483 0.782309889793396 8\n",
            "484 0.7835051417350769 1\n",
            "485 0.7833557724952698 1\n",
            "486 0.7835051417350769 1\n",
            "487 0.7833557724952698 1\n",
            "488 0.7835051417350769 1\n",
            "489 0.7838039994239807 -1\n",
            "490 0.7836545705795288 0\n",
            "491 0.7841027975082397 -2\n",
            "492 0.7838039994239807 -1\n",
            "493 0.7836545705795288 0\n",
            "494 0.7838039994239807 -1\n",
            "495 0.783056914806366 4\n",
            "496 0.7832063436508179 2\n",
            "497 0.7836545705795288 0\n",
            "498 0.7836545705795288 0\n",
            "499 0.7835051417350769 1\n"
          ],
          "name": "stdout"
        }
      ]
    },
    {
      "cell_type": "code",
      "metadata": {
        "id": "DSlmfZAxU0xo",
        "colab_type": "code",
        "colab": {}
      },
      "source": [
        "# Составим список \"плохих\" блоков, чье отключение улучшило результат.\n",
        "bad_blocks = []\n",
        "for i in range(500):\n",
        "    if data[i] > Ncor/len(xTest):\n",
        "        bad_blocks.append(i)\n"
      ],
      "execution_count": 17,
      "outputs": []
    },
    {
      "cell_type": "code",
      "metadata": {
        "id": "SJWLBPtjGicK",
        "colab_type": "code",
        "colab": {
          "base_uri": "https://localhost:8080/",
          "height": 34
        },
        "outputId": "db3f35ac-6b94-476f-ede1-beefa71eddb1"
      },
      "source": [
        "len(bad_blocks)"
      ],
      "execution_count": 18,
      "outputs": [
        {
          "output_type": "execute_result",
          "data": {
            "text/plain": [
              "147"
            ]
          },
          "metadata": {
            "tags": []
          },
          "execution_count": 18
        }
      ]
    },
    {
      "cell_type": "code",
      "metadata": {
        "id": "EOH0iDOiT_uw",
        "colab_type": "code",
        "colab": {}
      },
      "source": [
        "# Отключим все \"плохие\" блоки в тестовой выборке:\n",
        "xTest_ = xTest.copy()\n",
        "for i in bad_blocks:\n",
        "    xTest_ = del100(xTest_, i, blockSize)"
      ],
      "execution_count": 19,
      "outputs": []
    },
    {
      "cell_type": "code",
      "metadata": {
        "id": "LNFZJYdQUADK",
        "colab_type": "code",
        "colab": {
          "base_uri": "https://localhost:8080/",
          "height": 51
        },
        "outputId": "646e989c-6f2b-4e5d-9c84-d5a0241d25e4"
      },
      "source": [
        "# Еще раз проверим точность на тестовой выборке:\n",
        "score_ = model.evaluate(xTest_, yTest)\n",
        "score_"
      ],
      "execution_count": 20,
      "outputs": [
        {
          "output_type": "stream",
          "text": [
            "210/210 [==============================] - 1s 4ms/step - loss: 1.6054 - accuracy: 0.7593\n"
          ],
          "name": "stdout"
        },
        {
          "output_type": "execute_result",
          "data": {
            "text/plain": [
              "[1.6053558588027954, 0.7593007683753967]"
            ]
          },
          "metadata": {
            "tags": []
          },
          "execution_count": 20
        }
      ]
    },
    {
      "cell_type": "markdown",
      "metadata": {
        "id": "mxKrvXu-ZtVx",
        "colab_type": "text"
      },
      "source": [
        "**ВЫВОД** (промежуточный)\n",
        "\n",
        "При одновременном отключении всех \"плохих\" блоков точность на тестовой выборке упала на 2.4% Т.е. нет \"куммулятивного\" эффекта."
      ]
    },
    {
      "cell_type": "code",
      "metadata": {
        "id": "NwNoL-2TVy9H",
        "colab_type": "code",
        "colab": {}
      },
      "source": [
        "# Отключим все \"плохие\" блоки в тренировочной выборке:\n",
        "xTrain_ = xTrain.copy()\n",
        "for i in bad_blocks:\n",
        "    xTrain_ = del100(xTrain_, i, blockSize)"
      ],
      "execution_count": 21,
      "outputs": []
    },
    {
      "cell_type": "code",
      "metadata": {
        "id": "yhOyk2Bjyue8",
        "colab_type": "code",
        "colab": {
          "base_uri": "https://localhost:8080/",
          "height": 1000
        },
        "outputId": "840af00b-a6f1-48ea-89be-e1046569309b"
      },
      "source": [
        "# Повторим обучение модели на данных с выключенными \"плохими\" блоками слов\n",
        "# Зафиксируем те же сиды для исключения случайного эффекта изменения точности.\n",
        "random.seed(1)\n",
        "np.random.seed(1)\n",
        "tf.random.set_seed(1)\n",
        "\n",
        "epochs = 50\n",
        "name = \"Embedding + Conv1D\"\n",
        "\n",
        "model = Sequential() \n",
        "model.add(Embedding(maxWordsCount, 16, input_length=xLen))\n",
        "model.add(SpatialDropout1D(0.2)) \n",
        "model.add(BatchNormalization())\n",
        "\n",
        "model.add(Conv1D(40, 5, activation=\"relu\"))\n",
        "model.add(MaxPooling1D(2))\n",
        "model.add(Dropout(0.3)) \n",
        "model.add(BatchNormalization()) \n",
        "\n",
        "model.add(Flatten()) \n",
        "model.add(Dense(6, activation='softmax'))\n",
        "\n",
        "model.compile(optimizer='rmsprop', \n",
        "              loss='categorical_crossentropy', \n",
        "              metrics=['accuracy'])\n",
        "\n",
        "model.summary()\n",
        "\n",
        "# Создаем коллбэк для запоминания лучшей модели\n",
        "model_save_path = 'best_model2.h5'\n",
        "checkpoint_callback = ModelCheckpoint(model_save_path, \n",
        "                                      monitor='val_accuracy',\n",
        "                                      save_best_only=True,\n",
        "                                      verbose=1)\n",
        "history = model.fit(xTrain_, \n",
        "                    yTrain, \n",
        "                    epochs=epochs,\n",
        "                    batch_size=512,\n",
        "                    callbacks=[checkpoint_callback],\n",
        "                    validation_data=(xTest, yTest))\n",
        "\n",
        "plt.plot(history.history['accuracy'], \n",
        "         label='Доля верных ответов на обучающем наборе')\n",
        "plt.plot(history.history['val_accuracy'], \n",
        "         label='Доля верных ответов на проверочном наборе')\n",
        "plt.xlabel('Эпоха обучения')\n",
        "plt.ylabel('Доля верных ответов')\n",
        "plt.legend()\n",
        "plt.show()\n"
      ],
      "execution_count": 22,
      "outputs": [
        {
          "output_type": "stream",
          "text": [
            "Model: \"sequential_1\"\n",
            "_________________________________________________________________\n",
            "Layer (type)                 Output Shape              Param #   \n",
            "=================================================================\n",
            "embedding_1 (Embedding)      (None, 1000, 16)          800000    \n",
            "_________________________________________________________________\n",
            "spatial_dropout1d_1 (Spatial (None, 1000, 16)          0         \n",
            "_________________________________________________________________\n",
            "batch_normalization_2 (Batch (None, 1000, 16)          64        \n",
            "_________________________________________________________________\n",
            "conv1d_1 (Conv1D)            (None, 996, 40)           3240      \n",
            "_________________________________________________________________\n",
            "max_pooling1d_1 (MaxPooling1 (None, 498, 40)           0         \n",
            "_________________________________________________________________\n",
            "dropout_1 (Dropout)          (None, 498, 40)           0         \n",
            "_________________________________________________________________\n",
            "batch_normalization_3 (Batch (None, 498, 40)           160       \n",
            "_________________________________________________________________\n",
            "flatten_1 (Flatten)          (None, 19920)             0         \n",
            "_________________________________________________________________\n",
            "dense_1 (Dense)              (None, 6)                 119526    \n",
            "=================================================================\n",
            "Total params: 922,990\n",
            "Trainable params: 922,878\n",
            "Non-trainable params: 112\n",
            "_________________________________________________________________\n",
            "Epoch 1/50\n",
            "34/35 [============================>.] - ETA: 0s - loss: 1.1546 - accuracy: 0.6111\n",
            "Epoch 00001: val_accuracy improved from -inf to 0.29284, saving model to best_model2.h5\n",
            "35/35 [==============================] - 3s 74ms/step - loss: 1.1415 - accuracy: 0.6155 - val_loss: 1.7780 - val_accuracy: 0.2928\n",
            "Epoch 2/50\n",
            "34/35 [============================>.] - ETA: 0s - loss: 0.0466 - accuracy: 0.9866\n",
            "Epoch 00002: val_accuracy did not improve from 0.29284\n",
            "35/35 [==============================] - 2s 67ms/step - loss: 0.0464 - accuracy: 0.9866 - val_loss: 2.2318 - val_accuracy: 0.2928\n",
            "Epoch 3/50\n",
            "34/35 [============================>.] - ETA: 0s - loss: 0.0078 - accuracy: 0.9983\n",
            "Epoch 00003: val_accuracy did not improve from 0.29284\n",
            "35/35 [==============================] - 2s 67ms/step - loss: 0.0078 - accuracy: 0.9983 - val_loss: 3.0030 - val_accuracy: 0.2928\n",
            "Epoch 4/50\n",
            "34/35 [============================>.] - ETA: 0s - loss: 0.0052 - accuracy: 0.9980\n",
            "Epoch 00004: val_accuracy improved from 0.29284 to 0.29792, saving model to best_model2.h5\n",
            "35/35 [==============================] - 2s 71ms/step - loss: 0.0051 - accuracy: 0.9981 - val_loss: 3.8004 - val_accuracy: 0.2979\n",
            "Epoch 5/50\n",
            "34/35 [============================>.] - ETA: 0s - loss: 0.0027 - accuracy: 0.9994\n",
            "Epoch 00005: val_accuracy did not improve from 0.29792\n",
            "35/35 [==============================] - 2s 69ms/step - loss: 0.0028 - accuracy: 0.9993 - val_loss: 4.1681 - val_accuracy: 0.2946\n",
            "Epoch 6/50\n",
            "34/35 [============================>.] - ETA: 0s - loss: 0.0024 - accuracy: 0.9993\n",
            "Epoch 00006: val_accuracy did not improve from 0.29792\n",
            "35/35 [==============================] - 2s 69ms/step - loss: 0.0024 - accuracy: 0.9993 - val_loss: 3.1535 - val_accuracy: 0.1972\n",
            "Epoch 7/50\n",
            "34/35 [============================>.] - ETA: 0s - loss: 0.0011 - accuracy: 0.9997\n",
            "Epoch 00007: val_accuracy improved from 0.29792 to 0.30495, saving model to best_model2.h5\n",
            "35/35 [==============================] - 2s 71ms/step - loss: 0.0011 - accuracy: 0.9997 - val_loss: 3.0509 - val_accuracy: 0.3049\n",
            "Epoch 8/50\n",
            "34/35 [============================>.] - ETA: 0s - loss: 0.0032 - accuracy: 0.9987\n",
            "Epoch 00008: val_accuracy did not improve from 0.30495\n",
            "35/35 [==============================] - 2s 69ms/step - loss: 0.0032 - accuracy: 0.9988 - val_loss: 6.6153 - val_accuracy: 0.2928\n",
            "Epoch 9/50\n",
            "34/35 [============================>.] - ETA: 0s - loss: 0.0018 - accuracy: 0.9993\n",
            "Epoch 00009: val_accuracy did not improve from 0.30495\n",
            "35/35 [==============================] - 2s 69ms/step - loss: 0.0018 - accuracy: 0.9993 - val_loss: 7.2916 - val_accuracy: 0.2928\n",
            "Epoch 10/50\n",
            "34/35 [============================>.] - ETA: 0s - loss: 0.0013 - accuracy: 0.9994\n",
            "Epoch 00010: val_accuracy improved from 0.30495 to 0.48334, saving model to best_model2.h5\n",
            "35/35 [==============================] - 2s 69ms/step - loss: 0.0013 - accuracy: 0.9994 - val_loss: 2.0489 - val_accuracy: 0.4833\n",
            "Epoch 11/50\n",
            "34/35 [============================>.] - ETA: 0s - loss: 0.0014 - accuracy: 0.9997\n",
            "Epoch 00011: val_accuracy improved from 0.48334 to 0.54684, saving model to best_model2.h5\n",
            "35/35 [==============================] - 2s 70ms/step - loss: 0.0013 - accuracy: 0.9997 - val_loss: 1.9285 - val_accuracy: 0.5468\n",
            "Epoch 12/50\n",
            "34/35 [============================>.] - ETA: 0s - loss: 0.0019 - accuracy: 0.9993\n",
            "Epoch 00012: val_accuracy did not improve from 0.54684\n",
            "35/35 [==============================] - 2s 69ms/step - loss: 0.0020 - accuracy: 0.9992 - val_loss: 4.0809 - val_accuracy: 0.3722\n",
            "Epoch 13/50\n",
            "34/35 [============================>.] - ETA: 0s - loss: 0.0025 - accuracy: 0.9992\n",
            "Epoch 00013: val_accuracy did not improve from 0.54684\n",
            "35/35 [==============================] - 2s 69ms/step - loss: 0.0024 - accuracy: 0.9992 - val_loss: 3.6826 - val_accuracy: 0.5086\n",
            "Epoch 14/50\n",
            "34/35 [============================>.] - ETA: 0s - loss: 0.0021 - accuracy: 0.9996\n",
            "Epoch 00014: val_accuracy did not improve from 0.54684\n",
            "35/35 [==============================] - 2s 68ms/step - loss: 0.0021 - accuracy: 0.9996 - val_loss: 2.5924 - val_accuracy: 0.4475\n",
            "Epoch 15/50\n",
            "34/35 [============================>.] - ETA: 0s - loss: 0.0031 - accuracy: 0.9991\n",
            "Epoch 00015: val_accuracy did not improve from 0.54684\n",
            "35/35 [==============================] - 2s 67ms/step - loss: 0.0031 - accuracy: 0.9992 - val_loss: 1.9341 - val_accuracy: 0.5344\n",
            "Epoch 16/50\n",
            "34/35 [============================>.] - ETA: 0s - loss: 2.2424e-04 - accuracy: 1.0000\n",
            "Epoch 00016: val_accuracy did not improve from 0.54684\n",
            "35/35 [==============================] - 2s 69ms/step - loss: 2.2118e-04 - accuracy: 1.0000 - val_loss: 2.6247 - val_accuracy: 0.4990\n",
            "Epoch 17/50\n",
            "34/35 [============================>.] - ETA: 0s - loss: 0.0025 - accuracy: 0.9991\n",
            "Epoch 00017: val_accuracy improved from 0.54684 to 0.63903, saving model to best_model2.h5\n",
            "35/35 [==============================] - 2s 69ms/step - loss: 0.0025 - accuracy: 0.9990 - val_loss: 1.7508 - val_accuracy: 0.6390\n",
            "Epoch 18/50\n",
            "34/35 [============================>.] - ETA: 0s - loss: 0.0019 - accuracy: 0.9994\n",
            "Epoch 00018: val_accuracy improved from 0.63903 to 0.69012, saving model to best_model2.h5\n",
            "35/35 [==============================] - 2s 69ms/step - loss: 0.0018 - accuracy: 0.9994 - val_loss: 1.4186 - val_accuracy: 0.6901\n",
            "Epoch 19/50\n",
            "34/35 [============================>.] - ETA: 0s - loss: 0.0015 - accuracy: 0.9995\n",
            "Epoch 00019: val_accuracy did not improve from 0.69012\n",
            "35/35 [==============================] - 2s 68ms/step - loss: 0.0016 - accuracy: 0.9995 - val_loss: 2.1305 - val_accuracy: 0.6526\n",
            "Epoch 20/50\n",
            "34/35 [============================>.] - ETA: 0s - loss: 0.0013 - accuracy: 0.9995\n",
            "Epoch 00020: val_accuracy did not improve from 0.69012\n",
            "35/35 [==============================] - 2s 68ms/step - loss: 0.0013 - accuracy: 0.9995 - val_loss: 2.1124 - val_accuracy: 0.6519\n",
            "Epoch 21/50\n",
            "34/35 [============================>.] - ETA: 0s - loss: 0.0026 - accuracy: 0.9993\n",
            "Epoch 00021: val_accuracy did not improve from 0.69012\n",
            "35/35 [==============================] - 2s 68ms/step - loss: 0.0028 - accuracy: 0.9993 - val_loss: 2.7904 - val_accuracy: 0.6466\n",
            "Epoch 22/50\n",
            "34/35 [============================>.] - ETA: 0s - loss: 0.0021 - accuracy: 0.9994\n",
            "Epoch 00022: val_accuracy improved from 0.69012 to 0.75452, saving model to best_model2.h5\n",
            "35/35 [==============================] - 2s 68ms/step - loss: 0.0020 - accuracy: 0.9994 - val_loss: 1.5010 - val_accuracy: 0.7545\n",
            "Epoch 23/50\n",
            "34/35 [============================>.] - ETA: 0s - loss: 0.0016 - accuracy: 0.9993\n",
            "Epoch 00023: val_accuracy did not improve from 0.75452\n",
            "35/35 [==============================] - 2s 68ms/step - loss: 0.0016 - accuracy: 0.9993 - val_loss: 1.8749 - val_accuracy: 0.7346\n",
            "Epoch 24/50\n",
            "34/35 [============================>.] - ETA: 0s - loss: 0.0014 - accuracy: 0.9996\n",
            "Epoch 00024: val_accuracy did not improve from 0.75452\n",
            "35/35 [==============================] - 2s 68ms/step - loss: 0.0014 - accuracy: 0.9996 - val_loss: 1.5591 - val_accuracy: 0.7499\n",
            "Epoch 25/50\n",
            "34/35 [============================>.] - ETA: 0s - loss: 0.0025 - accuracy: 0.9993\n",
            "Epoch 00025: val_accuracy did not improve from 0.75452\n",
            "35/35 [==============================] - 2s 68ms/step - loss: 0.0024 - accuracy: 0.9993 - val_loss: 1.9126 - val_accuracy: 0.7297\n",
            "Epoch 26/50\n",
            "34/35 [============================>.] - ETA: 0s - loss: 0.0028 - accuracy: 0.9994\n",
            "Epoch 00026: val_accuracy improved from 0.75452 to 0.77902, saving model to best_model2.h5\n",
            "35/35 [==============================] - 2s 69ms/step - loss: 0.0028 - accuracy: 0.9994 - val_loss: 1.2614 - val_accuracy: 0.7790\n",
            "Epoch 27/50\n",
            "34/35 [============================>.] - ETA: 0s - loss: 0.0018 - accuracy: 0.9995\n",
            "Epoch 00027: val_accuracy did not improve from 0.77902\n",
            "35/35 [==============================] - 2s 68ms/step - loss: 0.0019 - accuracy: 0.9994 - val_loss: 1.6801 - val_accuracy: 0.7600\n",
            "Epoch 28/50\n",
            "34/35 [============================>.] - ETA: 0s - loss: 0.0022 - accuracy: 0.9994\n",
            "Epoch 00028: val_accuracy did not improve from 0.77902\n",
            "35/35 [==============================] - 2s 67ms/step - loss: 0.0024 - accuracy: 0.9993 - val_loss: 1.5617 - val_accuracy: 0.7593\n",
            "Epoch 29/50\n",
            "34/35 [============================>.] - ETA: 0s - loss: 0.0028 - accuracy: 0.9994\n",
            "Epoch 00029: val_accuracy did not improve from 0.77902\n",
            "35/35 [==============================] - 2s 68ms/step - loss: 0.0028 - accuracy: 0.9994 - val_loss: 1.7261 - val_accuracy: 0.7515\n",
            "Epoch 30/50\n",
            "34/35 [============================>.] - ETA: 0s - loss: 0.0017 - accuracy: 0.9995\n",
            "Epoch 00030: val_accuracy did not improve from 0.77902\n",
            "35/35 [==============================] - 2s 67ms/step - loss: 0.0017 - accuracy: 0.9995 - val_loss: 1.5060 - val_accuracy: 0.7669\n",
            "Epoch 31/50\n",
            "34/35 [============================>.] - ETA: 0s - loss: 0.0019 - accuracy: 0.9994\n",
            "Epoch 00031: val_accuracy did not improve from 0.77902\n",
            "35/35 [==============================] - 2s 67ms/step - loss: 0.0018 - accuracy: 0.9994 - val_loss: 2.0545 - val_accuracy: 0.7279\n",
            "Epoch 32/50\n",
            "34/35 [============================>.] - ETA: 0s - loss: 2.8665e-04 - accuracy: 0.9999\n",
            "Epoch 00032: val_accuracy did not improve from 0.77902\n",
            "35/35 [==============================] - 2s 67ms/step - loss: 3.0356e-04 - accuracy: 0.9999 - val_loss: 3.0497 - val_accuracy: 0.7018\n",
            "Epoch 33/50\n",
            "34/35 [============================>.] - ETA: 0s - loss: 0.0023 - accuracy: 0.9994\n",
            "Epoch 00033: val_accuracy did not improve from 0.77902\n",
            "35/35 [==============================] - 2s 67ms/step - loss: 0.0022 - accuracy: 0.9994 - val_loss: 2.0323 - val_accuracy: 0.7418\n",
            "Epoch 34/50\n",
            "34/35 [============================>.] - ETA: 0s - loss: 0.0016 - accuracy: 0.9994\n",
            "Epoch 00034: val_accuracy did not improve from 0.77902\n",
            "35/35 [==============================] - 2s 67ms/step - loss: 0.0016 - accuracy: 0.9994 - val_loss: 1.5631 - val_accuracy: 0.7707\n",
            "Epoch 35/50\n",
            "34/35 [============================>.] - ETA: 0s - loss: 0.0021 - accuracy: 0.9994\n",
            "Epoch 00035: val_accuracy did not improve from 0.77902\n",
            "35/35 [==============================] - 2s 66ms/step - loss: 0.0020 - accuracy: 0.9994 - val_loss: 1.5777 - val_accuracy: 0.7786\n",
            "Epoch 36/50\n",
            "34/35 [============================>.] - ETA: 0s - loss: 0.0018 - accuracy: 0.9995\n",
            "Epoch 00036: val_accuracy did not improve from 0.77902\n",
            "35/35 [==============================] - 2s 68ms/step - loss: 0.0018 - accuracy: 0.9994 - val_loss: 2.1078 - val_accuracy: 0.7242\n",
            "Epoch 37/50\n",
            "34/35 [============================>.] - ETA: 0s - loss: 0.0027 - accuracy: 0.9993\n",
            "Epoch 00037: val_accuracy did not improve from 0.77902\n",
            "35/35 [==============================] - 2s 67ms/step - loss: 0.0027 - accuracy: 0.9993 - val_loss: 1.9869 - val_accuracy: 0.7557\n",
            "Epoch 38/50\n",
            "34/35 [============================>.] - ETA: 0s - loss: 0.0022 - accuracy: 0.9993\n",
            "Epoch 00038: val_accuracy did not improve from 0.77902\n",
            "35/35 [==============================] - 2s 68ms/step - loss: 0.0022 - accuracy: 0.9993 - val_loss: 2.2824 - val_accuracy: 0.7460\n",
            "Epoch 39/50\n",
            "34/35 [============================>.] - ETA: 0s - loss: 0.0016 - accuracy: 0.9995\n",
            "Epoch 00039: val_accuracy did not improve from 0.77902\n",
            "35/35 [==============================] - 2s 68ms/step - loss: 0.0016 - accuracy: 0.9995 - val_loss: 1.9966 - val_accuracy: 0.7586\n",
            "Epoch 40/50\n",
            "34/35 [============================>.] - ETA: 0s - loss: 0.0027 - accuracy: 0.9993\n",
            "Epoch 00040: val_accuracy did not improve from 0.77902\n",
            "35/35 [==============================] - 2s 67ms/step - loss: 0.0026 - accuracy: 0.9993 - val_loss: 2.0227 - val_accuracy: 0.7420\n",
            "Epoch 41/50\n",
            "34/35 [============================>.] - ETA: 0s - loss: 0.0022 - accuracy: 0.9993\n",
            "Epoch 00041: val_accuracy did not improve from 0.77902\n",
            "35/35 [==============================] - 2s 67ms/step - loss: 0.0021 - accuracy: 0.9993 - val_loss: 1.9988 - val_accuracy: 0.7497\n",
            "Epoch 42/50\n",
            "34/35 [============================>.] - ETA: 0s - loss: 0.0021 - accuracy: 0.9994\n",
            "Epoch 00042: val_accuracy did not improve from 0.77902\n",
            "35/35 [==============================] - 2s 67ms/step - loss: 0.0021 - accuracy: 0.9994 - val_loss: 1.9203 - val_accuracy: 0.7627\n",
            "Epoch 43/50\n",
            "34/35 [============================>.] - ETA: 0s - loss: 0.0022 - accuracy: 0.9995\n",
            "Epoch 00043: val_accuracy did not improve from 0.77902\n",
            "35/35 [==============================] - 2s 68ms/step - loss: 0.0027 - accuracy: 0.9994 - val_loss: 1.9314 - val_accuracy: 0.7503\n",
            "Epoch 44/50\n",
            "34/35 [============================>.] - ETA: 0s - loss: 0.0042 - accuracy: 0.9993\n",
            "Epoch 00044: val_accuracy did not improve from 0.77902\n",
            "35/35 [==============================] - 2s 67ms/step - loss: 0.0042 - accuracy: 0.9993 - val_loss: 1.8910 - val_accuracy: 0.7587\n",
            "Epoch 45/50\n",
            "34/35 [============================>.] - ETA: 0s - loss: 0.0027 - accuracy: 0.9995\n",
            "Epoch 00045: val_accuracy did not improve from 0.77902\n",
            "35/35 [==============================] - 2s 68ms/step - loss: 0.0027 - accuracy: 0.9995 - val_loss: 2.0017 - val_accuracy: 0.7411\n",
            "Epoch 46/50\n",
            "34/35 [============================>.] - ETA: 0s - loss: 0.0028 - accuracy: 0.9994\n",
            "Epoch 00046: val_accuracy did not improve from 0.77902\n",
            "35/35 [==============================] - 2s 68ms/step - loss: 0.0028 - accuracy: 0.9994 - val_loss: 2.9320 - val_accuracy: 0.7149\n",
            "Epoch 47/50\n",
            "34/35 [============================>.] - ETA: 0s - loss: 0.0029 - accuracy: 0.9991\n",
            "Epoch 00047: val_accuracy did not improve from 0.77902\n",
            "35/35 [==============================] - 2s 68ms/step - loss: 0.0029 - accuracy: 0.9991 - val_loss: 2.0885 - val_accuracy: 0.7469\n",
            "Epoch 48/50\n",
            "34/35 [============================>.] - ETA: 0s - loss: 0.0033 - accuracy: 0.9993\n",
            "Epoch 00048: val_accuracy did not improve from 0.77902\n",
            "35/35 [==============================] - 2s 67ms/step - loss: 0.0033 - accuracy: 0.9993 - val_loss: 2.2286 - val_accuracy: 0.7312\n",
            "Epoch 49/50\n",
            "34/35 [============================>.] - ETA: 0s - loss: 0.0015 - accuracy: 0.9995\n",
            "Epoch 00049: val_accuracy did not improve from 0.77902\n",
            "35/35 [==============================] - 2s 68ms/step - loss: 0.0015 - accuracy: 0.9995 - val_loss: 2.0689 - val_accuracy: 0.7438\n",
            "Epoch 50/50\n",
            "34/35 [============================>.] - ETA: 0s - loss: 9.5888e-04 - accuracy: 0.9995\n",
            "Epoch 00050: val_accuracy did not improve from 0.77902\n",
            "35/35 [==============================] - 2s 67ms/step - loss: 0.0016 - accuracy: 0.9994 - val_loss: 2.2330 - val_accuracy: 0.7566\n"
          ],
          "name": "stdout"
        },
        {
          "output_type": "display_data",
          "data": {
            "image/png": "[encoded data removed]",
            "text/plain": [
              "<Figure size 432x288 with 1 Axes>"
            ]
          },
          "metadata": {
            "tags": [],
            "needs_background": "light"
          }
        }
      ]
    },
    {
      "cell_type": "code",
      "metadata": {
        "id": "o92IsVJdFW2r",
        "colab_type": "code",
        "colab": {}
      },
      "source": [
        "# Загружаем лучшие найденные веса\n",
        "model.load_weights('best_model2.h5')"
      ],
      "execution_count": 23,
      "outputs": []
    },
    {
      "cell_type": "code",
      "metadata": {
        "id": "wbba52H5FYw7",
        "colab_type": "code",
        "colab": {
          "base_uri": "https://localhost:8080/",
          "height": 34
        },
        "outputId": "25c6d4cb-fd99-49aa-9a43-5e13dcceb111"
      },
      "source": [
        "# Повторно тестируем модель на тестовой выборке\n",
        "score = model.evaluate(xTest, yTest)"
      ],
      "execution_count": 24,
      "outputs": [
        {
          "output_type": "stream",
          "text": [
            "210/210 [==============================] - 1s 4ms/step - loss: 1.2614 - accuracy: 0.7790\n"
          ],
          "name": "stdout"
        }
      ]
    },
    {
      "cell_type": "code",
      "metadata": {
        "id": "MNR7ROk2FYtD",
        "colab_type": "code",
        "colab": {}
      },
      "source": [
        ""
      ],
      "execution_count": null,
      "outputs": []
    },
    {
      "cell_type": "markdown",
      "metadata": {
        "id": "rJ5kGvq604A_",
        "colab_type": "text"
      },
      "source": [
        "**ВЫВОД**\n",
        "\n",
        "Выявлено 147 блоков (из 500) чье отключение из словаря привело к улучшению точности распознавания. \n",
        "\n",
        "Одновременное отключение всех \"плохих\" блоков ухудшило точность на 2.5%.\n",
        "\n",
        "Далее я отключил \"плохие\" блоки в тренировочной выборке и повторно обучил ту же модель с теми же сидами (чтобы максимально уменьшить влияние случайного выбора начальных весов на результат) Проверка на тестовой выборке показала падение точности 0.5%\n",
        "\n",
        "Я повторил описанный выше цикл 3 раза с разными моделями и сидами. Во всех 3-х случаях происходило ухудшение точности при одновременном отключении \"плохих\" блоков. Таким образом, не выявлен \"куммулятивный\" эффект и этот метод не годится для повышения точности."
      ]
    },
    {
      "cell_type": "markdown",
      "metadata": {
        "id": "MENNykfc3WYQ",
        "colab_type": "text"
      },
      "source": [
        "## Ultra PRO задание\n",
        "\n",
        "Найдите любую базу с текстами разных классов и напишите их распознавание, используя рекуррентные или сверточные слои. Для этого выполните следующее:\n",
        "- Спарсите тексты, превратите их в индексы.\n",
        "- Разделите данные на обучающую и проверочную выборки.\n",
        "- Напишите сеть для распознавания текстов.\n",
        "- Сделайте визуализацию результата.\n",
        "- Напишите ваши результаты и выводы.\n"
      ]
    },
    {
      "cell_type": "markdown",
      "metadata": {
        "id": "2WZG54jX6z-9",
        "colab_type": "text"
      },
      "source": [
        "Я взял одну из баз с сайта https://course.fast.ai/datasets#nlp"
      ]
    },
    {
      "cell_type": "code",
      "metadata": {
        "id": "qBoVhya9u-XH",
        "colab_type": "code",
        "colab": {}
      },
      "source": [
        "%tensorflow_version 2.x\n",
        "from tensorflow.keras.models import Sequential\n",
        "from tensorflow.keras.layers import Dense, Embedding, GRU, LSTM, Dropout, BatchNormalization, Bidirectional\n",
        "from tensorflow.keras import utils\n",
        "from tensorflow.keras.preprocessing.sequence import pad_sequences\n",
        "from tensorflow.keras.preprocessing.text import Tokenizer\n",
        "from tensorflow.keras.callbacks import ModelCheckpoint\n",
        "import pandas as pd\n",
        "import numpy as np\n",
        "import matplotlib.pyplot as plt\n",
        "%matplotlib inline "
      ],
      "execution_count": null,
      "outputs": []
    },
    {
      "cell_type": "code",
      "metadata": {
        "id": "-X4AS7Ppu-nq",
        "colab_type": "code",
        "colab": {}
      },
      "source": [
        "num_words = 10000\n",
        "max_review_len = 100"
      ],
      "execution_count": null,
      "outputs": []
    },
    {
      "cell_type": "code",
      "metadata": {
        "id": "Wf6-73Slu-x5",
        "colab_type": "code",
        "colab": {
          "base_uri": "https://localhost:8080/",
          "height": 377
        },
        "outputId": "fe75bef0-563a-4467-fa14-56263e509b99"
      },
      "source": [
        "# загрузим файл архива БД\n",
        "!wget https://www.dropbox.com/s/ufbhk3kadtnn6h0/yelp_review_polarity_csv.tgz?dl=1 -O yelp_review_polarity_csv.tgz"
      ],
      "execution_count": null,
      "outputs": [
        {
          "output_type": "stream",
          "text": [
            "--2020-08-25 13:59:28--  https://www.dropbox.com/s/ufbhk3kadtnn6h0/yelp_review_polarity_csv.tgz?dl=1\n",
            "Resolving www.dropbox.com (www.dropbox.com)... 162.125.67.1, 2620:100:6023:1::a27d:4301\n",
            "Connecting to www.dropbox.com (www.dropbox.com)|162.125.67.1|:443... connected.\n",
            "HTTP request sent, awaiting response... 301 Moved Permanently\n",
            "Location: /s/dl/ufbhk3kadtnn6h0/yelp_review_polarity_csv.tgz [following]\n",
            "--2020-08-25 13:59:28--  https://www.dropbox.com/s/dl/ufbhk3kadtnn6h0/yelp_review_polarity_csv.tgz\n",
            "Reusing existing connection to www.dropbox.com:443.\n",
            "HTTP request sent, awaiting response... 302 Found\n",
            "Location: https://uc6ccb9d7ca1b40bcfb258a20009.dl.dropboxusercontent.com/cd/0/get/A-J-zYUZ8yJqq1OjNrOGUd2GfsRc1Bu_KLNx--RF9V8g_juca5fMMN_-vMw0eC-sLxOdFU55X7QGenoIVPdsfiYbzdAG3MZZka6hi9cN7o2J24t5WmCSAgQrOiGVokZi3QY/file?dl=1# [following]\n",
            "--2020-08-25 13:59:29--  https://uc6ccb9d7ca1b40bcfb258a20009.dl.dropboxusercontent.com/cd/0/get/A-J-zYUZ8yJqq1OjNrOGUd2GfsRc1Bu_KLNx--RF9V8g_juca5fMMN_-vMw0eC-sLxOdFU55X7QGenoIVPdsfiYbzdAG3MZZka6hi9cN7o2J24t5WmCSAgQrOiGVokZi3QY/file?dl=1\n",
            "Resolving uc6ccb9d7ca1b40bcfb258a20009.dl.dropboxusercontent.com (uc6ccb9d7ca1b40bcfb258a20009.dl.dropboxusercontent.com)... 162.125.67.15, 2620:100:6023:15::a27d:430f\n",
            "Connecting to uc6ccb9d7ca1b40bcfb258a20009.dl.dropboxusercontent.com (uc6ccb9d7ca1b40bcfb258a20009.dl.dropboxusercontent.com)|162.125.67.15|:443... connected.\n",
            "HTTP request sent, awaiting response... 200 OK\n",
            "Length: 166373201 (159M) [application/binary]\n",
            "Saving to: ‘yelp_review_polarity_csv.tgz’\n",
            "\n",
            "yelp_review_polarit 100%[===================>] 158.67M  24.1MB/s    in 6.5s    \n",
            "\n",
            "2020-08-25 13:59:36 (24.5 MB/s) - ‘yelp_review_polarity_csv.tgz’ saved [166373201/166373201]\n",
            "\n"
          ],
          "name": "stdout"
        }
      ]
    },
    {
      "cell_type": "code",
      "metadata": {
        "id": "vOJoAJRqu--G",
        "colab_type": "code",
        "colab": {
          "base_uri": "https://localhost:8080/",
          "height": 85
        },
        "outputId": "40ff6fef-f6cd-4644-901f-a715b70ccf48"
      },
      "source": [
        "# Распакум в каталог\n",
        "!tar -xvf yelp_review_polarity_csv.tgz"
      ],
      "execution_count": null,
      "outputs": [
        {
          "output_type": "stream",
          "text": [
            "yelp_review_polarity_csv/\n",
            "yelp_review_polarity_csv/train.csv\n",
            "yelp_review_polarity_csv/readme.txt\n",
            "yelp_review_polarity_csv/test.csv\n"
          ],
          "name": "stdout"
        }
      ]
    },
    {
      "cell_type": "code",
      "metadata": {
        "id": "22d7ajR8u_Hk",
        "colab_type": "code",
        "colab": {
          "base_uri": "https://localhost:8080/",
          "height": 207
        },
        "outputId": "50c28dd4-ea78-4f14-f30c-4530c26ba7c7"
      },
      "source": [
        "# Выведем образец данных. 1-я колонка - тип отзыва 1 - отриц, 2- положительный\n",
        "!head yelp_review_polarity_csv/test.csv"
      ],
      "execution_count": null,
      "outputs": [
        {
          "output_type": "stream",
          "text": [
            "\"2\",\"Contrary to other reviews, I have zero complaints about the service or the prices. I have been getting tire service here for the past 5 years now, and compared to my experience with places like Pep Boys, these guys are experienced and know what they're doing. \\nAlso, this is one place that I do not feel like I am being taken advantage of, just because of my gender. Other auto mechanics have been notorious for capitalizing on my ignorance of cars, and have sucked my bank account dry. But here, my service and road coverage has all been well explained - and let up to me to decide. \\nAnd they just renovated the waiting room. It looks a lot better than it did in previous years.\"\n",
            "\"1\",\"Last summer I had an appointment to get new tires and had to wait a super long time. I also went in this week for them to fix a minor problem with a tire they put on. They \\\"\"fixed\\\"\" it for free, and the very next morning I had the same issue. I called to complain, and the \\\"\"manager\\\"\" didn't even apologize!!! So frustrated. Never going back.  They seem overpriced, too.\"\n",
            "\"2\",\"Friendly staff, same starbucks fair you get anywhere else.  Sometimes the lines can get long.\"\n",
            "\"1\",\"The food is good. Unfortunately the service is very hit or miss. The main issue seems to be with the kitchen, the waiters and waitresses are often very apologetic for the long waits and it's pretty obvious that some of them avoid the tables after taking the initial order to avoid hearing complaints.\"\n",
            "\"2\",\"Even when we didn't have a car Filene's Basement was worth the bus trip to the Waterfront. I always find something (usually I find 3-4 things and spend about $60) and better still, I am always still wearing the clothes and shoes 3 months later. \\n\\nI kind of suspect this is the best shopping in Pittsburgh; it's much better than the usual department stores, better than Marshall's and TJ Maxx and better than the Saks downtown, even when it has a sale. Selection, bargains AND quality.\\n\\nI like this Filene's better than Gabriel Brothers, which are harder to get to. Gabriel Brothers are a real discount shopper's challenge and I'm afraid I didn't live in Pittsburgh long enough to develop the necessary skills . . . Filene's was still up and running in June 2007 when I left town.\"\n",
            "\"2\",\"Picture Billy Joel's \\\"\"Piano Man\\\"\" DOUBLED mixed with beer, a rowdy crowd, and comedy - Welcome to Sing Sing!  A unique musical experience found in Homestead.\\n\\nIf you're looking to grab a bite to eat or a beer, come on in!  Serving food and brews from Rock Bottom Brewery, Sing Sing keeps your tummy full while you listen to two (or more) amazingly talented pianists take your musical requests.  They'll play anything you'd like, for tips of course.  Wanting to hear Britney Spears?  Toto?  Duran Duran?  Yep, they play that... new or old.\\n\\nThe crowd makes the show, so make sure you come ready for a good time.  If the crowd is dead, it's harder for the Guys to get a reaction.  If you're wanting to have some fun, it can be a GREAT time!  It's the perfect place for Birthday parties - especially if you want to embarrass a friend.  The guys will bring them up to the pianos and perform a little ditty.  For being a good sport, you get the coveted Sing Sing bumper sticker.  Now who wouldn't want that?\\n\\nDueling Pianos and brews... time to Shut Up & Sing Sing!\"\n",
            "\"1\",\"Mediocre service. COLD food! Our food waited so long the lettuce & pickles wilted. Bland food. Crazy overpriced. Long waits in the arcade. 1 beer per hour maximum.  Avoid at all costs. Fair manager.\"\n",
            "\"1\",\"Ok! Let me tell you about my bad experience first. I went to D&B last night for a post wedding party - which, side note, is a great idea!\\n\\nIt was around midnight and the bar wasn't really populated. There were three bartenders and only one was actually making rounds to see if anyone needed anything. The two other bartenders were chatting on the far side of the bar that no one was sitting at. Kind of counter productive if you ask me. \\n\\nI stood there for about 5 minutes, which for a busy bar is fine but when I am the only one with my card out then, it just seems a little ridiculous. I made eye contact with the one girl twice and gave her a smile and she literally turned away. I finally had to walk to them to get their attention.  I was standing right in front of them smiling and they didn't ask if i need anything. I finally said, \\\"\"Are you working?\\\"\" and they gave each other a weird look. I felt like i was the crazy one. I asked for a beer/got the beer.\\n\\nIn between that time, the other bartender brought food over and set it down. She took a fry from the plate (right in front of me) and then served it to someone on the other side of the bar. What the hell! I felt like i was in some grimy bar in out in the sticks - not an established D&B. \\n\\nI was just really turned off from that experience. \\n\\nThe good is that D&B provides a different type of entertainment when you want to mix things up. I remember going here with my grandparents when I was a kid and it was the best treat ever! We would eat at the restaurant and then spend hours playing games. This place holds some really good memories for me. \\n\\nIt's a shame that my experience last night has spoiled the high standards I held for it.\"\n",
            "\"1\",\"I used to love D&B when it first opened in the Waterfront, but it has gone down hill over the years. The games are not as fun and do not give you as many tickets and the prizes have gotten cheaper in quality. It takes a whole heck of a lot of tickets for you to even get a pencil! The atmosphere is okay but it used to be so much better with the funnest games and diverse groups of people! Now, it is run down and many of the games are app related games (Fruit Ninja) and 3D Experience rides. With such \\\"\"games\\\"\", you can't even earn tickets and they take a lot of tokens! Last time I went, back in the winter, many of the games were broken, which made for a negative player experience. I would go to D&B to play some games again in the future, but it is no longer one of my favorite places to go due to the decline of fun games where you can earn tickets.\"\n",
            "\"2\",\"Like any Barnes & Noble, it has a nice comfy cafe, and a large selection of books.  The staff is very friendly and helpful.  They stock a decent selection, and the prices are pretty reasonable.  Obviously it's hard for them to compete with Amazon.  However since all the small shop bookstores are gone, it's nice to walk into one every once in a while.\"\n"
          ],
          "name": "stdout"
        }
      ]
    },
    {
      "cell_type": "code",
      "metadata": {
        "id": "8ZsNtbktu_Wa",
        "colab_type": "code",
        "colab": {
          "base_uri": "https://localhost:8080/",
          "height": 51
        },
        "outputId": "58b788c4-dbce-4dcd-eddd-5c8bfa159d5a"
      },
      "source": [
        "# Выведем число записей\n",
        "!wc -l yelp_review_polarity_csv/train.csv\n",
        "!wc -l yelp_review_polarity_csv/test.csv"
      ],
      "execution_count": null,
      "outputs": [
        {
          "output_type": "stream",
          "text": [
            "560000 yelp_review_polarity_csv/train.csv\n",
            "38000 yelp_review_polarity_csv/test.csv\n"
          ],
          "name": "stdout"
        }
      ]
    },
    {
      "cell_type": "code",
      "metadata": {
        "id": "dVcwFpxiu_fm",
        "colab_type": "code",
        "colab": {}
      },
      "source": [
        "# читаем тренир. данные в dataframe pandas.\n",
        "train = pd.read_csv('yelp_review_polarity_csv/train.csv', \n",
        "                    header=None, \n",
        "                    names=['Class', 'Review'])"
      ],
      "execution_count": null,
      "outputs": []
    },
    {
      "cell_type": "code",
      "metadata": {
        "id": "rOZigBDZu_oy",
        "colab_type": "code",
        "colab": {
          "base_uri": "https://localhost:8080/",
          "height": 419
        },
        "outputId": "7cce0f7a-e280-4a14-a8b8-91c459f08fb6"
      },
      "source": [
        "train"
      ],
      "execution_count": null,
      "outputs": [
        {
          "output_type": "execute_result",
          "data": {
            "text/html": [
              "<div>\n",
              "<style scoped>\n",
              "    .dataframe tbody tr th:only-of-type {\n",
              "        vertical-align: middle;\n",
              "    }\n",
              "\n",
              "    .dataframe tbody tr th {\n",
              "        vertical-align: top;\n",
              "    }\n",
              "\n",
              "    .dataframe thead th {\n",
              "        text-align: right;\n",
              "    }\n",
              "</style>\n",
              "<table border=\"1\" class=\"dataframe\">\n",
              "  <thead>\n",
              "    <tr style=\"text-align: right;\">\n",
              "      <th></th>\n",
              "      <th>Class</th>\n",
              "      <th>Review</th>\n",
              "    </tr>\n",
              "  </thead>\n",
              "  <tbody>\n",
              "    <tr>\n",
              "      <th>0</th>\n",
              "      <td>1</td>\n",
              "      <td>Unfortunately, the frustration of being Dr. Go...</td>\n",
              "    </tr>\n",
              "    <tr>\n",
              "      <th>1</th>\n",
              "      <td>2</td>\n",
              "      <td>Been going to Dr. Goldberg for over 10 years. ...</td>\n",
              "    </tr>\n",
              "    <tr>\n",
              "      <th>2</th>\n",
              "      <td>1</td>\n",
              "      <td>I don't know what Dr. Goldberg was like before...</td>\n",
              "    </tr>\n",
              "    <tr>\n",
              "      <th>3</th>\n",
              "      <td>1</td>\n",
              "      <td>I'm writing this review to give you a heads up...</td>\n",
              "    </tr>\n",
              "    <tr>\n",
              "      <th>4</th>\n",
              "      <td>2</td>\n",
              "      <td>All the food is great here. But the best thing...</td>\n",
              "    </tr>\n",
              "    <tr>\n",
              "      <th>...</th>\n",
              "      <td>...</td>\n",
              "      <td>...</td>\n",
              "    </tr>\n",
              "    <tr>\n",
              "      <th>559995</th>\n",
              "      <td>2</td>\n",
              "      <td>Ryan was as good as everyone on yelp has claim...</td>\n",
              "    </tr>\n",
              "    <tr>\n",
              "      <th>559996</th>\n",
              "      <td>2</td>\n",
              "      <td>Professional \\nFriendly\\nOn time AND affordabl...</td>\n",
              "    </tr>\n",
              "    <tr>\n",
              "      <th>559997</th>\n",
              "      <td>1</td>\n",
              "      <td>Phone calls always go to voicemail and message...</td>\n",
              "    </tr>\n",
              "    <tr>\n",
              "      <th>559998</th>\n",
              "      <td>1</td>\n",
              "      <td>Looks like all of the good reviews have gone t...</td>\n",
              "    </tr>\n",
              "    <tr>\n",
              "      <th>559999</th>\n",
              "      <td>2</td>\n",
              "      <td>Ryan Rocks! I called him this morning for some...</td>\n",
              "    </tr>\n",
              "  </tbody>\n",
              "</table>\n",
              "<p>560000 rows × 2 columns</p>\n",
              "</div>"
            ],
            "text/plain": [
              "        Class                                             Review\n",
              "0           1  Unfortunately, the frustration of being Dr. Go...\n",
              "1           2  Been going to Dr. Goldberg for over 10 years. ...\n",
              "2           1  I don't know what Dr. Goldberg was like before...\n",
              "3           1  I'm writing this review to give you a heads up...\n",
              "4           2  All the food is great here. But the best thing...\n",
              "...       ...                                                ...\n",
              "559995      2  Ryan was as good as everyone on yelp has claim...\n",
              "559996      2  Professional \\nFriendly\\nOn time AND affordabl...\n",
              "559997      1  Phone calls always go to voicemail and message...\n",
              "559998      1  Looks like all of the good reviews have gone t...\n",
              "559999      2  Ryan Rocks! I called him this morning for some...\n",
              "\n",
              "[560000 rows x 2 columns]"
            ]
          },
          "metadata": {
            "tags": []
          },
          "execution_count": 51
        }
      ]
    },
    {
      "cell_type": "code",
      "metadata": {
        "id": "VP5k04sdu_69",
        "colab_type": "code",
        "colab": {}
      },
      "source": [
        "# читаем тестовые данные в dataframe pandas.\n",
        "test = pd.read_csv('yelp_review_polarity_csv/test.csv', \n",
        "                    header=None, \n",
        "                    names=['Class', 'Review'])"
      ],
      "execution_count": null,
      "outputs": []
    },
    {
      "cell_type": "code",
      "metadata": {
        "id": "7ZkyiwzUvAOX",
        "colab_type": "code",
        "colab": {}
      },
      "source": [
        "# выделяем столбец с текстами\n",
        "reviews = train['Review']"
      ],
      "execution_count": null,
      "outputs": []
    },
    {
      "cell_type": "code",
      "metadata": {
        "id": "xSfWlQAcvACT",
        "colab_type": "code",
        "colab": {}
      },
      "source": [
        "# выделяем столбец с ответами\n",
        "# приводим их к бинарному виду (0, 1)\n",
        "y_train = train['Class'] - 1"
      ],
      "execution_count": null,
      "outputs": []
    },
    {
      "cell_type": "code",
      "metadata": {
        "id": "2jnCycNgu_19",
        "colab_type": "code",
        "colab": {
          "base_uri": "https://localhost:8080/",
          "height": 221
        },
        "outputId": "16017390-3e35-479c-ef46-b19f579f8ebd"
      },
      "source": [
        "y_train"
      ],
      "execution_count": null,
      "outputs": [
        {
          "output_type": "execute_result",
          "data": {
            "text/plain": [
              "0         0\n",
              "1         1\n",
              "2         0\n",
              "3         0\n",
              "4         1\n",
              "         ..\n",
              "559995    1\n",
              "559996    1\n",
              "559997    0\n",
              "559998    0\n",
              "559999    1\n",
              "Name: Class, Length: 560000, dtype: int64"
            ]
          },
          "metadata": {
            "tags": []
          },
          "execution_count": 55
        }
      ]
    },
    {
      "cell_type": "code",
      "metadata": {
        "id": "8OowzSoqu_yr",
        "colab_type": "code",
        "colab": {}
      },
      "source": [
        "# Создаем токенайзер и словарь \n",
        "#\n",
        "tokenizer = Tokenizer(num_words=num_words)\n",
        "tokenizer.fit_on_texts(reviews)"
      ],
      "execution_count": null,
      "outputs": []
    },
    {
      "cell_type": "code",
      "metadata": {
        "id": "01ZxB6H6u_l7",
        "colab_type": "code",
        "colab": {}
      },
      "source": [
        "# Преобразуем слова в токены\n",
        "sequences = tokenizer.texts_to_sequences(reviews)"
      ],
      "execution_count": null,
      "outputs": []
    },
    {
      "cell_type": "code",
      "metadata": {
        "id": "iFft8g_ku_dW",
        "colab_type": "code",
        "colab": {
          "base_uri": "https://localhost:8080/",
          "height": 71
        },
        "outputId": "bc61e04c-23b7-4395-fc97-7ca9b475ecb6"
      },
      "source": [
        "# Смотрим что получилось\n",
        "index = 0\n",
        "print(reviews[index])\n",
        "print(sequences[index])"
      ],
      "execution_count": null,
      "outputs": [
        {
          "output_type": "stream",
          "text": [
            "Unfortunately, the frustration of being Dr. Goldberg's patient is a repeat of the experience I've had with so many other doctors in NYC -- good doctor, terrible staff.  It seems that his staff simply never answers the phone.  It usually takes 2 hours of repeated calling to get an answer.  Who has time for that or wants to deal with it?  I have run into this problem with many other doctors and I just don't get it.  You have office workers, you have patients with medical needs, why isn't anyone answering the phone?  It's incomprehensible and not work the aggravation.  It's with regret that I feel that I have to give Dr. Goldberg 2 stars.\n",
            "[707, 1, 4339, 7, 173, 939, 1665, 11, 5, 2161, 7, 1, 137, 112, 24, 18, 27, 189, 80, 3128, 10, 2636, 34, 1416, 462, 129, 8, 519, 13, 177, 129, 803, 88, 3812, 1, 446, 8, 392, 841, 115, 360, 7, 4136, 1438, 4, 43, 59, 1266, 118, 95, 46, 9, 13, 49, 1687, 4, 418, 18, 8, 3, 23, 563, 178, 16, 460, 18, 189, 80, 3128, 2, 3, 40, 78, 43, 8, 20, 23, 644, 1343, 20, 23, 3252, 18, 2921, 637, 227, 430, 476, 4312, 1, 446, 63, 2, 22, 215, 1, 63, 18, 2269, 13, 3, 249, 13, 3, 23, 4, 163, 939, 115, 237]\n"
          ],
          "name": "stdout"
        }
      ]
    },
    {
      "cell_type": "code",
      "metadata": {
        "id": "_G_fF1DXu_Rb",
        "colab_type": "code",
        "colab": {}
      },
      "source": [
        "# Дополняем короткие отзывы до стандартной длины\n",
        "x_train = pad_sequences(sequences, maxlen=max_review_len)"
      ],
      "execution_count": null,
      "outputs": []
    },
    {
      "cell_type": "code",
      "metadata": {
        "id": "7rY0RTK6u_N8",
        "colab_type": "code",
        "colab": {}
      },
      "source": [
        "# Создаем модель\n",
        "#\n",
        "model = Sequential()\n",
        "model.add(Embedding(num_words, 64, input_length=max_review_len))\n",
        "model.add(BatchNormalization())\n",
        "model.add(LSTM(128))\n",
        "model.add(Dropout(0.25))\n",
        "model.add(Dense(1, activation='sigmoid'))"
      ],
      "execution_count": null,
      "outputs": []
    },
    {
      "cell_type": "code",
      "metadata": {
        "id": "ODB9bL2Wu_EO",
        "colab_type": "code",
        "colab": {}
      },
      "source": [
        "model.compile(optimizer='adam', \n",
        "              loss='binary_crossentropy', \n",
        "              metrics=['accuracy'])"
      ],
      "execution_count": null,
      "outputs": []
    },
    {
      "cell_type": "code",
      "metadata": {
        "id": "IBMIvBBHu-6c",
        "colab_type": "code",
        "colab": {
          "base_uri": "https://localhost:8080/",
          "height": 255
        },
        "outputId": "d87414c7-0cf7-4c57-9e55-1281e520d521"
      },
      "source": [
        "model.summary()"
      ],
      "execution_count": null,
      "outputs": [
        {
          "output_type": "stream",
          "text": [
            "Model: \"sequential\"\n",
            "_________________________________________________________________\n",
            "Layer (type)                 Output Shape              Param #   \n",
            "=================================================================\n",
            "embedding (Embedding)        (None, 100, 64)           640000    \n",
            "_________________________________________________________________\n",
            "lstm (LSTM)                  (None, 128)               98816     \n",
            "_________________________________________________________________\n",
            "dense (Dense)                (None, 1)                 129       \n",
            "=================================================================\n",
            "Total params: 738,945\n",
            "Trainable params: 738,945\n",
            "Non-trainable params: 0\n",
            "_________________________________________________________________\n"
          ],
          "name": "stdout"
        }
      ]
    },
    {
      "cell_type": "code",
      "metadata": {
        "id": "TXn6n3cmu-3u",
        "colab_type": "code",
        "colab": {}
      },
      "source": [
        "# Создаем коллбэк для запоминания лучшей модели\n",
        "model_save_path = 'best_model.h5'\n",
        "checkpoint_callback = ModelCheckpoint(model_save_path, \n",
        "                                      monitor='val_accuracy',\n",
        "                                      save_best_only=True,\n",
        "                                      verbose=1)"
      ],
      "execution_count": null,
      "outputs": []
    },
    {
      "cell_type": "code",
      "metadata": {
        "id": "Tg03_Exn0L14",
        "colab_type": "code",
        "colab": {
          "base_uri": "https://localhost:8080/",
          "height": 1000
        },
        "outputId": "6b1465c9-d5d9-4992-ad17-3dc92c7f9bbd"
      },
      "source": [
        "# Обучаем сеть\n",
        "epochs = 15\n",
        "history = model.fit(x_train, \n",
        "                    y_train, \n",
        "                    epochs=epochs,\n",
        "                    batch_size=128,\n",
        "                    validation_split=0.2,\n",
        "                    callbacks=[checkpoint_callback])"
      ],
      "execution_count": null,
      "outputs": [
        {
          "output_type": "stream",
          "text": [
            "Epoch 1/15\n",
            "3499/3500 [============================>.] - ETA: 0s - loss: 0.1925 - accuracy: 0.9233\n",
            "Epoch 00001: val_accuracy improved from -inf to 0.95329, saving model to best_model.h5\n",
            "3500/3500 [==============================] - 172s 49ms/step - loss: 0.1925 - accuracy: 0.9233 - val_loss: 0.1223 - val_accuracy: 0.9533\n",
            "Epoch 2/15\n",
            "3500/3500 [==============================] - ETA: 0s - loss: 0.1300 - accuracy: 0.9509\n",
            "Epoch 00002: val_accuracy improved from 0.95329 to 0.95653, saving model to best_model.h5\n",
            "3500/3500 [==============================] - 166s 47ms/step - loss: 0.1300 - accuracy: 0.9509 - val_loss: 0.1154 - val_accuracy: 0.9565\n",
            "Epoch 3/15\n",
            "3500/3500 [==============================] - ETA: 0s - loss: 0.1031 - accuracy: 0.9617\n",
            "Epoch 00003: val_accuracy improved from 0.95653 to 0.95715, saving model to best_model.h5\n",
            "3500/3500 [==============================] - 161s 46ms/step - loss: 0.1031 - accuracy: 0.9617 - val_loss: 0.1153 - val_accuracy: 0.9572\n",
            "Epoch 4/15\n",
            "3499/3500 [============================>.] - ETA: 0s - loss: 0.0816 - accuracy: 0.9703\n",
            "Epoch 00004: val_accuracy did not improve from 0.95715\n",
            "3500/3500 [==============================] - 158s 45ms/step - loss: 0.0816 - accuracy: 0.9703 - val_loss: 0.1294 - val_accuracy: 0.9561\n",
            "Epoch 5/15\n",
            "3500/3500 [==============================] - ETA: 0s - loss: 0.0631 - accuracy: 0.9773\n",
            "Epoch 00005: val_accuracy did not improve from 0.95715\n",
            "3500/3500 [==============================] - 162s 46ms/step - loss: 0.0631 - accuracy: 0.9773 - val_loss: 0.1512 - val_accuracy: 0.9543\n",
            "Epoch 6/15\n",
            "3500/3500 [==============================] - ETA: 0s - loss: 0.0502 - accuracy: 0.9823\n",
            "Epoch 00006: val_accuracy did not improve from 0.95715\n",
            "3500/3500 [==============================] - 155s 44ms/step - loss: 0.0502 - accuracy: 0.9823 - val_loss: 0.1533 - val_accuracy: 0.9541\n",
            "Epoch 7/15\n",
            "3500/3500 [==============================] - ETA: 0s - loss: 0.0405 - accuracy: 0.9860\n",
            "Epoch 00007: val_accuracy did not improve from 0.95715\n",
            "3500/3500 [==============================] - 162s 46ms/step - loss: 0.0405 - accuracy: 0.9860 - val_loss: 0.1673 - val_accuracy: 0.9523\n",
            "Epoch 8/15\n",
            "3500/3500 [==============================] - ETA: 0s - loss: 0.0343 - accuracy: 0.9881\n",
            "Epoch 00008: val_accuracy did not improve from 0.95715\n",
            "3500/3500 [==============================] - 157s 45ms/step - loss: 0.0343 - accuracy: 0.9881 - val_loss: 0.1975 - val_accuracy: 0.9519\n",
            "Epoch 9/15\n",
            "3500/3500 [==============================] - ETA: 0s - loss: 0.0295 - accuracy: 0.9899\n",
            "Epoch 00009: val_accuracy did not improve from 0.95715\n",
            "3500/3500 [==============================] - 155s 44ms/step - loss: 0.0295 - accuracy: 0.9899 - val_loss: 0.1974 - val_accuracy: 0.9505\n",
            "Epoch 10/15\n",
            "3500/3500 [==============================] - ETA: 0s - loss: 0.0265 - accuracy: 0.9910\n",
            "Epoch 00010: val_accuracy did not improve from 0.95715\n",
            "3500/3500 [==============================] - 159s 45ms/step - loss: 0.0265 - accuracy: 0.9910 - val_loss: 0.2014 - val_accuracy: 0.9507\n",
            "Epoch 11/15\n",
            "3500/3500 [==============================] - ETA: 0s - loss: 0.0237 - accuracy: 0.9920\n",
            "Epoch 00011: val_accuracy did not improve from 0.95715\n",
            "3500/3500 [==============================] - 155s 44ms/step - loss: 0.0237 - accuracy: 0.9920 - val_loss: 0.2205 - val_accuracy: 0.9514\n",
            "Epoch 12/15\n",
            "3499/3500 [============================>.] - ETA: 0s - loss: 0.0208 - accuracy: 0.9930\n",
            "Epoch 00012: val_accuracy did not improve from 0.95715\n",
            "3500/3500 [==============================] - 146s 42ms/step - loss: 0.0208 - accuracy: 0.9930 - val_loss: 0.2268 - val_accuracy: 0.9505\n",
            "Epoch 13/15\n",
            "3500/3500 [==============================] - ETA: 0s - loss: 0.0194 - accuracy: 0.9933\n",
            "Epoch 00013: val_accuracy did not improve from 0.95715\n",
            "3500/3500 [==============================] - 156s 45ms/step - loss: 0.0194 - accuracy: 0.9933 - val_loss: 0.2304 - val_accuracy: 0.9509\n",
            "Epoch 14/15\n",
            "3500/3500 [==============================] - ETA: 0s - loss: 0.0180 - accuracy: 0.9938\n",
            "Epoch 00014: val_accuracy did not improve from 0.95715\n",
            "3500/3500 [==============================] - 147s 42ms/step - loss: 0.0180 - accuracy: 0.9938 - val_loss: 0.2406 - val_accuracy: 0.9505\n",
            "Epoch 15/15\n",
            "3499/3500 [============================>.] - ETA: 0s - loss: 0.0163 - accuracy: 0.9945\n",
            "Epoch 00015: val_accuracy did not improve from 0.95715\n",
            "3500/3500 [==============================] - 156s 45ms/step - loss: 0.0163 - accuracy: 0.9945 - val_loss: 0.2423 - val_accuracy: 0.9500\n"
          ],
          "name": "stdout"
        }
      ]
    },
    {
      "cell_type": "code",
      "metadata": {
        "id": "Ie9_Sphc0L8D",
        "colab_type": "code",
        "colab": {
          "base_uri": "https://localhost:8080/",
          "height": 279
        },
        "outputId": "877c10d1-817f-48d9-e006-6176d9fac330"
      },
      "source": [
        "# Выводим на график процесс обучения\n",
        "e = [i + 1 for i in range(epochs)]\n",
        "plt.plot(e, history.history['accuracy'], \n",
        "         label='Доля верных ответов на обучающем наборе')\n",
        "plt.plot(e, history.history['val_accuracy'], \n",
        "         label='Доля верных ответов на проверочном наборе')\n",
        "plt.xlabel('Эпоха обучения')\n",
        "plt.ylabel('Доля верных ответов')\n",
        "plt.legend()\n",
        "plt.show()"
      ],
      "execution_count": null,
      "outputs": [
        {
          "output_type": "display_data",
          "data": {
            "image/png": "[encoded data removed]",
            "text/plain": [
              "<Figure size 432x288 with 1 Axes>"
            ]
          },
          "metadata": {
            "tags": [],
            "needs_background": "light"
          }
        }
      ]
    },
    {
      "cell_type": "code",
      "metadata": {
        "id": "b_WnPp5t0MP6",
        "colab_type": "code",
        "colab": {}
      },
      "source": [
        "# Загружаем лучшие веса\n",
        "model.load_weights(model_save_path)"
      ],
      "execution_count": null,
      "outputs": []
    },
    {
      "cell_type": "code",
      "metadata": {
        "id": "t6YuB2c70Ml-",
        "colab_type": "code",
        "colab": {}
      },
      "source": [
        "# Токенизируем тестовые отзывы\n",
        "test_sequences = tokenizer.texts_to_sequences(test['Review'])"
      ],
      "execution_count": null,
      "outputs": []
    },
    {
      "cell_type": "code",
      "metadata": {
        "id": "cLcoKw_s0MyH",
        "colab_type": "code",
        "colab": {}
      },
      "source": [
        "# Дополняем короткие отзывы до длины 100, приводим ответы к (0, 1)\n",
        "x_test = pad_sequences(test_sequences, maxlen=max_review_len)\n",
        "y_test = test['Class'] - 1"
      ],
      "execution_count": null,
      "outputs": []
    },
    {
      "cell_type": "code",
      "metadata": {
        "id": "cAwEmFC_0Mu7",
        "colab_type": "code",
        "colab": {
          "base_uri": "https://localhost:8080/",
          "height": 51
        },
        "outputId": "6b6780f0-f8ca-4ede-9ee1-e57bdadd3cc7"
      },
      "source": [
        "# Запускаем модель на тестовых данных\n",
        "model.evaluate(x_test, y_test, verbose=1)"
      ],
      "execution_count": null,
      "outputs": [
        {
          "output_type": "stream",
          "text": [
            "1188/1188 [==============================] - 13s 11ms/step - loss: 0.1343 - accuracy: 0.9491\n"
          ],
          "name": "stdout"
        },
        {
          "output_type": "execute_result",
          "data": {
            "text/plain": [
              "[0.13431918621063232, 0.9491316080093384]"
            ]
          },
          "metadata": {
            "tags": []
          },
          "execution_count": 69
        }
      ]
    },
    {
      "cell_type": "code",
      "metadata": {
        "id": "_pf2kDpN0Mru",
        "colab_type": "code",
        "colab": {}
      },
      "source": [
        "# Сделаем свой тестовый негативный отзыв, попробуем его оценить.\n",
        "text = '''The SmartBurger restaurant is awful. It’s a small shabby place. \n",
        "The food is disgusting and very expensive.  The host and waiters are rude. \n",
        "I will never visit the SmartBurger again!\n",
        "'''"
      ],
      "execution_count": null,
      "outputs": []
    },
    {
      "cell_type": "code",
      "metadata": {
        "id": "cnko5I9r0Mij",
        "colab_type": "code",
        "colab": {}
      },
      "source": [
        "# Преобразуем слова в токены\n",
        "sequence = tokenizer.texts_to_sequences([text])"
      ],
      "execution_count": null,
      "outputs": []
    },
    {
      "cell_type": "code",
      "metadata": {
        "id": "Ha0HSdlv0Mds",
        "colab_type": "code",
        "colab": {}
      },
      "source": [
        "# Дополним до длины 100\n",
        "data = pad_sequences(sequence, maxlen=max_review_len)"
      ],
      "execution_count": null,
      "outputs": []
    },
    {
      "cell_type": "code",
      "metadata": {
        "id": "j_y7vyeR0Mat",
        "colab_type": "code",
        "colab": {
          "base_uri": "https://localhost:8080/",
          "height": 34
        },
        "outputId": "8354353e-673f-47bc-a8ed-3f708e35084d"
      },
      "source": [
        "# Получим вероятность что отзыв - положительный\n",
        "result = model.predict(data)\n",
        "result"
      ],
      "execution_count": null,
      "outputs": [
        {
          "output_type": "execute_result",
          "data": {
            "text/plain": [
              "array([[0.0001361]], dtype=float32)"
            ]
          },
          "metadata": {
            "tags": []
          },
          "execution_count": 75
        }
      ]
    },
    {
      "cell_type": "code",
      "metadata": {
        "id": "RnV9gDmk0MXf",
        "colab_type": "code",
        "colab": {
          "base_uri": "https://localhost:8080/",
          "height": 34
        },
        "outputId": "95fb777a-81db-474d-f690-480fc3d70299"
      },
      "source": [
        "if result[[0]] < 0.5:\n",
        "    print('Отзыв отрицательный')\n",
        "else:\n",
        "    print('Отзыв положительный')\n"
      ],
      "execution_count": null,
      "outputs": [
        {
          "output_type": "stream",
          "text": [
            "Отзыв отрицательный\n"
          ],
          "name": "stdout"
        }
      ]
    },
    {
      "cell_type": "markdown",
      "metadata": {
        "id": "QdwcB-xB9zXI",
        "colab_type": "text"
      },
      "source": [
        "**ВЫВОД**\n",
        "\n",
        "Для анализа тональности отзывов использована технология токенизации слов и преобразования токенов в вектора.\n",
        "\n",
        "Была использована модель с Embedding-слоем и LSTM-слоем. Для регуляризации использовались слои BatchNormalization и Dropout.\n",
        "\n",
        "Получена точность около 95% на тестовых данных."
      ]
    },
    {
      "cell_type": "code",
      "metadata": {
        "id": "SIZK3hQu0MNh",
        "colab_type": "code",
        "colab": {}
      },
      "source": [
        ""
      ],
      "execution_count": null,
      "outputs": []
    },
    {
      "cell_type": "markdown",
      "metadata": {
        "id": "sB8Xg1VQA3TJ",
        "colab_type": "text"
      },
      "source": [
        "### Бонус\n",
        "\n",
        "Классика - набор отзывов IMDB из датасета keras"
      ]
    },
    {
      "cell_type": "code",
      "metadata": {
        "id": "O7o3WRtR2suU",
        "colab_type": "code",
        "colab": {}
      },
      "source": [
        "from tensorflow.keras.datasets import imdb"
      ],
      "execution_count": null,
      "outputs": []
    },
    {
      "cell_type": "code",
      "metadata": {
        "id": "8N-SwM7FC301",
        "colab_type": "code",
        "colab": {}
      },
      "source": [
        "max_words=10000\n",
        "(x_train, y_train), (x_test, y_test) = imdb.load_data(num_words=max_words)"
      ],
      "execution_count": null,
      "outputs": []
    },
    {
      "cell_type": "code",
      "metadata": {
        "id": "UH47NKnyDFNl",
        "colab_type": "code",
        "colab": {}
      },
      "source": [
        "word_index = imdb.get_word_index()"
      ],
      "execution_count": null,
      "outputs": []
    },
    {
      "cell_type": "code",
      "metadata": {
        "id": "9UP0mPj4DNs2",
        "colab_type": "code",
        "colab": {}
      },
      "source": [
        "reverse_word_index = dict()\n",
        "for key, value in word_index.items():\n",
        "    reverse_word_index[value] = key"
      ],
      "execution_count": null,
      "outputs": []
    },
    {
      "cell_type": "code",
      "metadata": {
        "id": "DNRQfRhMDSif",
        "colab_type": "code",
        "colab": {
          "base_uri": "https://localhost:8080/",
          "height": 357
        },
        "outputId": "a761ff71-26a4-41e1-f482-f4873664cbec"
      },
      "source": [
        "for i in range(1, 21):\n",
        "    print(i, '->', reverse_word_index[i])"
      ],
      "execution_count": null,
      "outputs": [
        {
          "output_type": "stream",
          "text": [
            "1 -> the\n",
            "2 -> and\n",
            "3 -> a\n",
            "4 -> of\n",
            "5 -> to\n",
            "6 -> is\n",
            "7 -> br\n",
            "8 -> in\n",
            "9 -> it\n",
            "10 -> i\n",
            "11 -> this\n",
            "12 -> that\n",
            "13 -> was\n",
            "14 -> as\n",
            "15 -> for\n",
            "16 -> with\n",
            "17 -> movie\n",
            "18 -> but\n",
            "19 -> film\n",
            "20 -> on\n"
          ],
          "name": "stdout"
        }
      ]
    },
    {
      "cell_type": "code",
      "metadata": {
        "id": "SwxfR7kXDgdV",
        "colab_type": "code",
        "colab": {
          "base_uri": "https://localhost:8080/",
          "height": 86
        },
        "outputId": "ee6cb18e-d732-44d2-a1b4-1e981f6674bf"
      },
      "source": [
        "index = 4\n",
        "message = ''\n",
        "for code in x_train[index]:\n",
        "    word = reverse_word_index.get(code - 3, '?')\n",
        "    message += word + ' '\n",
        "message"
      ],
      "execution_count": null,
      "outputs": [
        {
          "output_type": "execute_result",
          "data": {
            "application/vnd.google.colaboratory.intrinsic+json": {
              "type": "string"
            },
            "text/plain": [
              "\"? worst mistake of my life br br i picked this movie up at target for 5 because i figured hey it's sandler i can get some cheap laughs i was wrong completely wrong mid way through the film all three of my friends were asleep and i was still suffering worst plot worst script worst movie i have ever seen i wanted to hit my head up against a wall for an hour then i'd stop and you know why because it felt damn good upon bashing my head in i stuck that damn movie in the ? and watched it burn and that felt better than anything else i've ever done it took american psycho army of darkness and kill bill just to get over that crap i hate you sandler for actually going through with this and ruining a whole day of my life \""
            ]
          },
          "metadata": {
            "tags": []
          },
          "execution_count": 82
        }
      ]
    },
    {
      "cell_type": "code",
      "metadata": {
        "id": "03YMiaIODoiM",
        "colab_type": "code",
        "colab": {}
      },
      "source": [
        "maxlen = 200"
      ],
      "execution_count": null,
      "outputs": []
    },
    {
      "cell_type": "code",
      "metadata": {
        "id": "wiunn2eUDypr",
        "colab_type": "code",
        "colab": {}
      },
      "source": [
        "x_train = pad_sequences(x_train, maxlen=maxlen, padding='post')\n",
        "x_test = pad_sequences(x_test, maxlen=maxlen, padding='post')"
      ],
      "execution_count": null,
      "outputs": []
    },
    {
      "cell_type": "code",
      "metadata": {
        "id": "r1Pj-8AFD2i1",
        "colab_type": "code",
        "colab": {}
      },
      "source": [
        "model = Sequential()\n",
        "model.add(Embedding(max_words, 64, input_length=maxlen))\n",
        "model.add(BatchNormalization())\n",
        "model.add(LSTM(128))\n",
        "model.add(Dropout(0.25))\n",
        "\n",
        "model.add(Dense(1, activation='sigmoid'))"
      ],
      "execution_count": null,
      "outputs": []
    },
    {
      "cell_type": "code",
      "metadata": {
        "id": "G-EYroZ_D-qj",
        "colab_type": "code",
        "colab": {}
      },
      "source": [
        "model.compile(optimizer='adam', \n",
        "              loss='binary_crossentropy', \n",
        "              metrics=['accuracy'])"
      ],
      "execution_count": null,
      "outputs": []
    },
    {
      "cell_type": "code",
      "metadata": {
        "id": "Lz9VK5QEL176",
        "colab_type": "code",
        "colab": {
          "base_uri": "https://localhost:8080/",
          "height": 323
        },
        "outputId": "3ae66bac-da3c-41b4-e67d-377ed54bacda"
      },
      "source": [
        "model.summary()"
      ],
      "execution_count": null,
      "outputs": [
        {
          "output_type": "stream",
          "text": [
            "Model: \"sequential_5\"\n",
            "_________________________________________________________________\n",
            "Layer (type)                 Output Shape              Param #   \n",
            "=================================================================\n",
            "embedding_5 (Embedding)      (None, 200, 64)           640000    \n",
            "_________________________________________________________________\n",
            "batch_normalization_2 (Batch (None, 200, 64)           256       \n",
            "_________________________________________________________________\n",
            "lstm_4 (LSTM)                (None, 128)               98816     \n",
            "_________________________________________________________________\n",
            "dropout_2 (Dropout)          (None, 128)               0         \n",
            "_________________________________________________________________\n",
            "dense_4 (Dense)              (None, 1)                 129       \n",
            "=================================================================\n",
            "Total params: 739,201\n",
            "Trainable params: 739,073\n",
            "Non-trainable params: 128\n",
            "_________________________________________________________________\n"
          ],
          "name": "stdout"
        }
      ]
    },
    {
      "cell_type": "code",
      "metadata": {
        "id": "YQ5N5T5IMKrD",
        "colab_type": "code",
        "colab": {}
      },
      "source": [
        "# Создаем коллбэк для запоминания лучшей модели\n",
        "model_save_path = 'best_imdb_model.h5'\n",
        "checkpoint_callback = ModelCheckpoint(model_save_path, \n",
        "                                      monitor='val_accuracy',\n",
        "                                      save_best_only=True,\n",
        "                                      verbose=1)"
      ],
      "execution_count": null,
      "outputs": []
    },
    {
      "cell_type": "code",
      "metadata": {
        "id": "UFovGymOEDAs",
        "colab_type": "code",
        "colab": {
          "base_uri": "https://localhost:8080/",
          "height": 357
        },
        "outputId": "b279fdd1-e3de-49fc-9fa4-45ea1d233cfc"
      },
      "source": [
        "history = model.fit(x_train, \n",
        "                    y_train, \n",
        "                    epochs=5,\n",
        "                    batch_size=128,\n",
        "                    callbacks=[checkpoint_callback],\n",
        "                    validation_split=0.1)"
      ],
      "execution_count": null,
      "outputs": [
        {
          "output_type": "stream",
          "text": [
            "Epoch 1/5\n",
            "176/176 [==============================] - ETA: 0s - loss: 0.6001 - accuracy: 0.6503\n",
            "Epoch 00001: val_accuracy improved from -inf to 0.62920, saving model to best_imdb_model.h5\n",
            "176/176 [==============================] - 12s 65ms/step - loss: 0.6001 - accuracy: 0.6503 - val_loss: 0.6670 - val_accuracy: 0.6292\n",
            "Epoch 2/5\n",
            "176/176 [==============================] - ETA: 0s - loss: 0.4497 - accuracy: 0.8190\n",
            "Epoch 00002: val_accuracy did not improve from 0.62920\n",
            "176/176 [==============================] - 11s 60ms/step - loss: 0.4497 - accuracy: 0.8190 - val_loss: 0.8251 - val_accuracy: 0.6152\n",
            "Epoch 3/5\n",
            "176/176 [==============================] - ETA: 0s - loss: 0.5165 - accuracy: 0.7334\n",
            "Epoch 00003: val_accuracy did not improve from 0.62920\n",
            "176/176 [==============================] - 10s 59ms/step - loss: 0.5165 - accuracy: 0.7334 - val_loss: 0.7085 - val_accuracy: 0.5608\n",
            "Epoch 4/5\n",
            "176/176 [==============================] - ETA: 0s - loss: 0.4179 - accuracy: 0.8300\n",
            "Epoch 00004: val_accuracy improved from 0.62920 to 0.81120, saving model to best_imdb_model.h5\n",
            "176/176 [==============================] - 11s 60ms/step - loss: 0.4179 - accuracy: 0.8300 - val_loss: 0.4690 - val_accuracy: 0.8112\n",
            "Epoch 5/5\n",
            "176/176 [==============================] - ETA: 0s - loss: 0.4013 - accuracy: 0.8360\n",
            "Epoch 00005: val_accuracy did not improve from 0.81120\n",
            "176/176 [==============================] - 11s 60ms/step - loss: 0.4013 - accuracy: 0.8360 - val_loss: 0.7552 - val_accuracy: 0.6272\n"
          ],
          "name": "stdout"
        }
      ]
    },
    {
      "cell_type": "code",
      "metadata": {
        "id": "rGUSUj9RELAU",
        "colab_type": "code",
        "colab": {
          "base_uri": "https://localhost:8080/",
          "height": 279
        },
        "outputId": "9ae396c4-e1d1-4311-c5dc-e65cb42b74ee"
      },
      "source": [
        "plt.plot(history.history['accuracy'], \n",
        "         label='Доля верных ответов на обучающем наборе')\n",
        "plt.plot(history.history['val_accuracy'], \n",
        "         label='Доля верных ответов на проверочном наборе')\n",
        "plt.xlabel('Эпоха обучения')\n",
        "plt.ylabel('Доля верных ответов')\n",
        "plt.legend()\n",
        "plt.show()"
      ],
      "execution_count": null,
      "outputs": [
        {
          "output_type": "display_data",
          "data": {
            "image/png": "[encoded data removed]",
            "text/plain": [
              "<Figure size 432x288 with 1 Axes>"
            ]
          },
          "metadata": {
            "tags": [],
            "needs_background": "light"
          }
        }
      ]
    },
    {
      "cell_type": "code",
      "metadata": {
        "id": "AqDPFipcNFFw",
        "colab_type": "code",
        "colab": {}
      },
      "source": [
        "model.load_weights(model_save_path)"
      ],
      "execution_count": null,
      "outputs": []
    },
    {
      "cell_type": "code",
      "metadata": {
        "id": "DCH1sSUDEZPT",
        "colab_type": "code",
        "colab": {
          "base_uri": "https://localhost:8080/",
          "height": 34
        },
        "outputId": "a6372312-b03d-469d-b290-fc8755290698"
      },
      "source": [
        "scores = model.evaluate(x_test, y_test, verbose=1)"
      ],
      "execution_count": null,
      "outputs": [
        {
          "output_type": "stream",
          "text": [
            "782/782 [==============================] - 13s 17ms/step - loss: 0.5004 - accuracy: 0.7940\n"
          ],
          "name": "stdout"
        }
      ]
    }
  ]
}